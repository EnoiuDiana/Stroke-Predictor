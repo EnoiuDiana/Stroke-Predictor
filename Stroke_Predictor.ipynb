{
  "nbformat": 4,
  "nbformat_minor": 0,
  "metadata": {
    "colab": {
      "name": "Stroke-Predictor.ipynb",
      "provenance": [],
      "collapsed_sections": [],
      "toc_visible": true,
      "include_colab_link": true
    },
    "kernelspec": {
      "name": "python3",
      "display_name": "Python 3"
    },
    "language_info": {
      "name": "python"
    }
  },
  "cells": [
    {
      "cell_type": "markdown",
      "metadata": {
        "id": "view-in-github",
        "colab_type": "text"
      },
      "source": [
        "<a href=\"https://colab.research.google.com/github/EnoiuDiana/Stroke-Predictor/blob/bori_dev/Stroke_Predictor.ipynb\" target=\"_parent\"><img src=\"https://colab.research.google.com/assets/colab-badge.svg\" alt=\"Open In Colab\"/></a>"
      ]
    },
    {
      "cell_type": "markdown",
      "source": [
        "# Stroke Prediction based on medical and demographical data"
      ],
      "metadata": {
        "id": "sA2mv91AKteu"
      }
    },
    {
      "cell_type": "markdown",
      "source": [
        "## Problem Statement"
      ],
      "metadata": {
        "id": "htp5B9D_PODY"
      }
    },
    {
      "cell_type": "markdown",
      "source": [
        "TODO: nice description of what we want to do, why this is relevant, etc."
      ],
      "metadata": {
        "id": "QlbSqGDdPRPT"
      }
    },
    {
      "cell_type": "markdown",
      "source": [
        "## Dataset"
      ],
      "metadata": {
        "id": "26sZKpSVDJum"
      }
    },
    {
      "cell_type": "markdown",
      "source": [
        "\n",
        "\n",
        "*   [source](https://https://www.kaggle.com/datasets/fedesoriano/stroke-prediction-dataset)\n",
        "*   each entry represents one person\n",
        "*   label, to be predicted: whether a person is likely to have a stroke\n",
        "\n"
      ],
      "metadata": {
        "id": "yYv2OY8CDNUC"
      }
    },
    {
      "cell_type": "markdown",
      "source": [
        "## Setup"
      ],
      "metadata": {
        "id": "P8QXe2JhK556"
      }
    },
    {
      "cell_type": "code",
      "source": [
        "# imports\n",
        "import pandas as pd\n",
        "import matplotlib.pyplot as plt\n",
        "import seaborn as sns\n",
        "import numpy as np"
      ],
      "metadata": {
        "id": "uk5cxiuPL_Bt"
      },
      "execution_count": 2,
      "outputs": []
    },
    {
      "cell_type": "code",
      "execution_count": 3,
      "metadata": {
        "id": "ih1-apS2ua_U"
      },
      "outputs": [],
      "source": [
        "file_path = \"https://drive.google.com/file/d/1x3Vu2Egi5LIvd0jkHnZKeBx-Ye0l8sTr/view?usp=sharing\"\n",
        "file_path ='https://drive.google.com/uc?id=' + file_path.split('/')[-2]\n",
        "stroke_df = pd.read_csv(file_path)"
      ]
    },
    {
      "cell_type": "code",
      "source": [
        "stroke_df = stroke_df.rename(str.lower, axis='columns')\n",
        "stroke_df.head()"
      ],
      "metadata": {
        "colab": {
          "base_uri": "https://localhost:8080/",
          "height": 250
        },
        "id": "ZkKTpsIg1Tdn",
        "outputId": "69673ba5-e849-4674-839e-ea5ba436fc03"
      },
      "execution_count": 4,
      "outputs": [
        {
          "output_type": "execute_result",
          "data": {
            "text/plain": [
              "      id  gender   age  hypertension  heart_disease ever_married  \\\n",
              "0   9046    Male  67.0             0              1          Yes   \n",
              "1  51676  Female  61.0             0              0          Yes   \n",
              "2  31112    Male  80.0             0              1          Yes   \n",
              "3  60182  Female  49.0             0              0          Yes   \n",
              "4   1665  Female  79.0             1              0          Yes   \n",
              "\n",
              "       work_type residence_type  avg_glucose_level   bmi   smoking_status  \\\n",
              "0        Private          Urban             228.69  36.6  formerly smoked   \n",
              "1  Self-employed          Rural             202.21   NaN     never smoked   \n",
              "2        Private          Rural             105.92  32.5     never smoked   \n",
              "3        Private          Urban             171.23  34.4           smokes   \n",
              "4  Self-employed          Rural             174.12  24.0     never smoked   \n",
              "\n",
              "   stroke  \n",
              "0       1  \n",
              "1       1  \n",
              "2       1  \n",
              "3       1  \n",
              "4       1  "
            ],
            "text/html": [
              "\n",
              "  <div id=\"df-f7b88e3d-1c47-4a6b-8563-b3f75da5e298\">\n",
              "    <div class=\"colab-df-container\">\n",
              "      <div>\n",
              "<style scoped>\n",
              "    .dataframe tbody tr th:only-of-type {\n",
              "        vertical-align: middle;\n",
              "    }\n",
              "\n",
              "    .dataframe tbody tr th {\n",
              "        vertical-align: top;\n",
              "    }\n",
              "\n",
              "    .dataframe thead th {\n",
              "        text-align: right;\n",
              "    }\n",
              "</style>\n",
              "<table border=\"1\" class=\"dataframe\">\n",
              "  <thead>\n",
              "    <tr style=\"text-align: right;\">\n",
              "      <th></th>\n",
              "      <th>id</th>\n",
              "      <th>gender</th>\n",
              "      <th>age</th>\n",
              "      <th>hypertension</th>\n",
              "      <th>heart_disease</th>\n",
              "      <th>ever_married</th>\n",
              "      <th>work_type</th>\n",
              "      <th>residence_type</th>\n",
              "      <th>avg_glucose_level</th>\n",
              "      <th>bmi</th>\n",
              "      <th>smoking_status</th>\n",
              "      <th>stroke</th>\n",
              "    </tr>\n",
              "  </thead>\n",
              "  <tbody>\n",
              "    <tr>\n",
              "      <th>0</th>\n",
              "      <td>9046</td>\n",
              "      <td>Male</td>\n",
              "      <td>67.0</td>\n",
              "      <td>0</td>\n",
              "      <td>1</td>\n",
              "      <td>Yes</td>\n",
              "      <td>Private</td>\n",
              "      <td>Urban</td>\n",
              "      <td>228.69</td>\n",
              "      <td>36.6</td>\n",
              "      <td>formerly smoked</td>\n",
              "      <td>1</td>\n",
              "    </tr>\n",
              "    <tr>\n",
              "      <th>1</th>\n",
              "      <td>51676</td>\n",
              "      <td>Female</td>\n",
              "      <td>61.0</td>\n",
              "      <td>0</td>\n",
              "      <td>0</td>\n",
              "      <td>Yes</td>\n",
              "      <td>Self-employed</td>\n",
              "      <td>Rural</td>\n",
              "      <td>202.21</td>\n",
              "      <td>NaN</td>\n",
              "      <td>never smoked</td>\n",
              "      <td>1</td>\n",
              "    </tr>\n",
              "    <tr>\n",
              "      <th>2</th>\n",
              "      <td>31112</td>\n",
              "      <td>Male</td>\n",
              "      <td>80.0</td>\n",
              "      <td>0</td>\n",
              "      <td>1</td>\n",
              "      <td>Yes</td>\n",
              "      <td>Private</td>\n",
              "      <td>Rural</td>\n",
              "      <td>105.92</td>\n",
              "      <td>32.5</td>\n",
              "      <td>never smoked</td>\n",
              "      <td>1</td>\n",
              "    </tr>\n",
              "    <tr>\n",
              "      <th>3</th>\n",
              "      <td>60182</td>\n",
              "      <td>Female</td>\n",
              "      <td>49.0</td>\n",
              "      <td>0</td>\n",
              "      <td>0</td>\n",
              "      <td>Yes</td>\n",
              "      <td>Private</td>\n",
              "      <td>Urban</td>\n",
              "      <td>171.23</td>\n",
              "      <td>34.4</td>\n",
              "      <td>smokes</td>\n",
              "      <td>1</td>\n",
              "    </tr>\n",
              "    <tr>\n",
              "      <th>4</th>\n",
              "      <td>1665</td>\n",
              "      <td>Female</td>\n",
              "      <td>79.0</td>\n",
              "      <td>1</td>\n",
              "      <td>0</td>\n",
              "      <td>Yes</td>\n",
              "      <td>Self-employed</td>\n",
              "      <td>Rural</td>\n",
              "      <td>174.12</td>\n",
              "      <td>24.0</td>\n",
              "      <td>never smoked</td>\n",
              "      <td>1</td>\n",
              "    </tr>\n",
              "  </tbody>\n",
              "</table>\n",
              "</div>\n",
              "      <button class=\"colab-df-convert\" onclick=\"convertToInteractive('df-f7b88e3d-1c47-4a6b-8563-b3f75da5e298')\"\n",
              "              title=\"Convert this dataframe to an interactive table.\"\n",
              "              style=\"display:none;\">\n",
              "        \n",
              "  <svg xmlns=\"http://www.w3.org/2000/svg\" height=\"24px\"viewBox=\"0 0 24 24\"\n",
              "       width=\"24px\">\n",
              "    <path d=\"M0 0h24v24H0V0z\" fill=\"none\"/>\n",
              "    <path d=\"M18.56 5.44l.94 2.06.94-2.06 2.06-.94-2.06-.94-.94-2.06-.94 2.06-2.06.94zm-11 1L8.5 8.5l.94-2.06 2.06-.94-2.06-.94L8.5 2.5l-.94 2.06-2.06.94zm10 10l.94 2.06.94-2.06 2.06-.94-2.06-.94-.94-2.06-.94 2.06-2.06.94z\"/><path d=\"M17.41 7.96l-1.37-1.37c-.4-.4-.92-.59-1.43-.59-.52 0-1.04.2-1.43.59L10.3 9.45l-7.72 7.72c-.78.78-.78 2.05 0 2.83L4 21.41c.39.39.9.59 1.41.59.51 0 1.02-.2 1.41-.59l7.78-7.78 2.81-2.81c.8-.78.8-2.07 0-2.86zM5.41 20L4 18.59l7.72-7.72 1.47 1.35L5.41 20z\"/>\n",
              "  </svg>\n",
              "      </button>\n",
              "      \n",
              "  <style>\n",
              "    .colab-df-container {\n",
              "      display:flex;\n",
              "      flex-wrap:wrap;\n",
              "      gap: 12px;\n",
              "    }\n",
              "\n",
              "    .colab-df-convert {\n",
              "      background-color: #E8F0FE;\n",
              "      border: none;\n",
              "      border-radius: 50%;\n",
              "      cursor: pointer;\n",
              "      display: none;\n",
              "      fill: #1967D2;\n",
              "      height: 32px;\n",
              "      padding: 0 0 0 0;\n",
              "      width: 32px;\n",
              "    }\n",
              "\n",
              "    .colab-df-convert:hover {\n",
              "      background-color: #E2EBFA;\n",
              "      box-shadow: 0px 1px 2px rgba(60, 64, 67, 0.3), 0px 1px 3px 1px rgba(60, 64, 67, 0.15);\n",
              "      fill: #174EA6;\n",
              "    }\n",
              "\n",
              "    [theme=dark] .colab-df-convert {\n",
              "      background-color: #3B4455;\n",
              "      fill: #D2E3FC;\n",
              "    }\n",
              "\n",
              "    [theme=dark] .colab-df-convert:hover {\n",
              "      background-color: #434B5C;\n",
              "      box-shadow: 0px 1px 3px 1px rgba(0, 0, 0, 0.15);\n",
              "      filter: drop-shadow(0px 1px 2px rgba(0, 0, 0, 0.3));\n",
              "      fill: #FFFFFF;\n",
              "    }\n",
              "  </style>\n",
              "\n",
              "      <script>\n",
              "        const buttonEl =\n",
              "          document.querySelector('#df-f7b88e3d-1c47-4a6b-8563-b3f75da5e298 button.colab-df-convert');\n",
              "        buttonEl.style.display =\n",
              "          google.colab.kernel.accessAllowed ? 'block' : 'none';\n",
              "\n",
              "        async function convertToInteractive(key) {\n",
              "          const element = document.querySelector('#df-f7b88e3d-1c47-4a6b-8563-b3f75da5e298');\n",
              "          const dataTable =\n",
              "            await google.colab.kernel.invokeFunction('convertToInteractive',\n",
              "                                                     [key], {});\n",
              "          if (!dataTable) return;\n",
              "\n",
              "          const docLinkHtml = 'Like what you see? Visit the ' +\n",
              "            '<a target=\"_blank\" href=https://colab.research.google.com/notebooks/data_table.ipynb>data table notebook</a>'\n",
              "            + ' to learn more about interactive tables.';\n",
              "          element.innerHTML = '';\n",
              "          dataTable['output_type'] = 'display_data';\n",
              "          await google.colab.output.renderOutput(dataTable, element);\n",
              "          const docLink = document.createElement('div');\n",
              "          docLink.innerHTML = docLinkHtml;\n",
              "          element.appendChild(docLink);\n",
              "        }\n",
              "      </script>\n",
              "    </div>\n",
              "  </div>\n",
              "  "
            ]
          },
          "metadata": {},
          "execution_count": 4
        }
      ]
    },
    {
      "cell_type": "code",
      "source": [
        "def_plot_length = 7\n",
        "def_fig_size = (def_plot_length, def_plot_length)\n",
        "def_title_size = 20"
      ],
      "metadata": {
        "id": "mN95NaRZnHl0"
      },
      "execution_count": 5,
      "outputs": []
    },
    {
      "cell_type": "markdown",
      "source": [
        "## Initial Data Analysis"
      ],
      "metadata": {
        "id": "OH6w6yI1Okga"
      }
    },
    {
      "cell_type": "markdown",
      "source": [
        "Goal: \n",
        "*   get to know our data\n",
        "*   see how data should be cleaned\n",
        "*   find interesting correlations\n",
        "*   formulate a hypothesis\n",
        "\n",
        "TODO: write a nice introduction before submitting the assignment :)"
      ],
      "metadata": {
        "id": "EXeKNPG8Oowa"
      }
    },
    {
      "cell_type": "code",
      "source": [
        "stroke_df.describe()"
      ],
      "metadata": {
        "colab": {
          "base_uri": "https://localhost:8080/",
          "height": 300
        },
        "id": "Ngcmq_G4e5t7",
        "outputId": "eca446ac-6ebf-4760-cbda-847cc1f8fbdd"
      },
      "execution_count": 6,
      "outputs": [
        {
          "output_type": "execute_result",
          "data": {
            "text/plain": [
              "                 id          age  hypertension  heart_disease  \\\n",
              "count   5110.000000  5110.000000   5110.000000    5110.000000   \n",
              "mean   36517.829354    43.226614      0.097456       0.054012   \n",
              "std    21161.721625    22.612647      0.296607       0.226063   \n",
              "min       67.000000     0.080000      0.000000       0.000000   \n",
              "25%    17741.250000    25.000000      0.000000       0.000000   \n",
              "50%    36932.000000    45.000000      0.000000       0.000000   \n",
              "75%    54682.000000    61.000000      0.000000       0.000000   \n",
              "max    72940.000000    82.000000      1.000000       1.000000   \n",
              "\n",
              "       avg_glucose_level          bmi       stroke  \n",
              "count        5110.000000  4909.000000  5110.000000  \n",
              "mean          106.147677    28.893237     0.048728  \n",
              "std            45.283560     7.854067     0.215320  \n",
              "min            55.120000    10.300000     0.000000  \n",
              "25%            77.245000    23.500000     0.000000  \n",
              "50%            91.885000    28.100000     0.000000  \n",
              "75%           114.090000    33.100000     0.000000  \n",
              "max           271.740000    97.600000     1.000000  "
            ],
            "text/html": [
              "\n",
              "  <div id=\"df-c57867a7-1ee3-4129-853f-b6280bd09597\">\n",
              "    <div class=\"colab-df-container\">\n",
              "      <div>\n",
              "<style scoped>\n",
              "    .dataframe tbody tr th:only-of-type {\n",
              "        vertical-align: middle;\n",
              "    }\n",
              "\n",
              "    .dataframe tbody tr th {\n",
              "        vertical-align: top;\n",
              "    }\n",
              "\n",
              "    .dataframe thead th {\n",
              "        text-align: right;\n",
              "    }\n",
              "</style>\n",
              "<table border=\"1\" class=\"dataframe\">\n",
              "  <thead>\n",
              "    <tr style=\"text-align: right;\">\n",
              "      <th></th>\n",
              "      <th>id</th>\n",
              "      <th>age</th>\n",
              "      <th>hypertension</th>\n",
              "      <th>heart_disease</th>\n",
              "      <th>avg_glucose_level</th>\n",
              "      <th>bmi</th>\n",
              "      <th>stroke</th>\n",
              "    </tr>\n",
              "  </thead>\n",
              "  <tbody>\n",
              "    <tr>\n",
              "      <th>count</th>\n",
              "      <td>5110.000000</td>\n",
              "      <td>5110.000000</td>\n",
              "      <td>5110.000000</td>\n",
              "      <td>5110.000000</td>\n",
              "      <td>5110.000000</td>\n",
              "      <td>4909.000000</td>\n",
              "      <td>5110.000000</td>\n",
              "    </tr>\n",
              "    <tr>\n",
              "      <th>mean</th>\n",
              "      <td>36517.829354</td>\n",
              "      <td>43.226614</td>\n",
              "      <td>0.097456</td>\n",
              "      <td>0.054012</td>\n",
              "      <td>106.147677</td>\n",
              "      <td>28.893237</td>\n",
              "      <td>0.048728</td>\n",
              "    </tr>\n",
              "    <tr>\n",
              "      <th>std</th>\n",
              "      <td>21161.721625</td>\n",
              "      <td>22.612647</td>\n",
              "      <td>0.296607</td>\n",
              "      <td>0.226063</td>\n",
              "      <td>45.283560</td>\n",
              "      <td>7.854067</td>\n",
              "      <td>0.215320</td>\n",
              "    </tr>\n",
              "    <tr>\n",
              "      <th>min</th>\n",
              "      <td>67.000000</td>\n",
              "      <td>0.080000</td>\n",
              "      <td>0.000000</td>\n",
              "      <td>0.000000</td>\n",
              "      <td>55.120000</td>\n",
              "      <td>10.300000</td>\n",
              "      <td>0.000000</td>\n",
              "    </tr>\n",
              "    <tr>\n",
              "      <th>25%</th>\n",
              "      <td>17741.250000</td>\n",
              "      <td>25.000000</td>\n",
              "      <td>0.000000</td>\n",
              "      <td>0.000000</td>\n",
              "      <td>77.245000</td>\n",
              "      <td>23.500000</td>\n",
              "      <td>0.000000</td>\n",
              "    </tr>\n",
              "    <tr>\n",
              "      <th>50%</th>\n",
              "      <td>36932.000000</td>\n",
              "      <td>45.000000</td>\n",
              "      <td>0.000000</td>\n",
              "      <td>0.000000</td>\n",
              "      <td>91.885000</td>\n",
              "      <td>28.100000</td>\n",
              "      <td>0.000000</td>\n",
              "    </tr>\n",
              "    <tr>\n",
              "      <th>75%</th>\n",
              "      <td>54682.000000</td>\n",
              "      <td>61.000000</td>\n",
              "      <td>0.000000</td>\n",
              "      <td>0.000000</td>\n",
              "      <td>114.090000</td>\n",
              "      <td>33.100000</td>\n",
              "      <td>0.000000</td>\n",
              "    </tr>\n",
              "    <tr>\n",
              "      <th>max</th>\n",
              "      <td>72940.000000</td>\n",
              "      <td>82.000000</td>\n",
              "      <td>1.000000</td>\n",
              "      <td>1.000000</td>\n",
              "      <td>271.740000</td>\n",
              "      <td>97.600000</td>\n",
              "      <td>1.000000</td>\n",
              "    </tr>\n",
              "  </tbody>\n",
              "</table>\n",
              "</div>\n",
              "      <button class=\"colab-df-convert\" onclick=\"convertToInteractive('df-c57867a7-1ee3-4129-853f-b6280bd09597')\"\n",
              "              title=\"Convert this dataframe to an interactive table.\"\n",
              "              style=\"display:none;\">\n",
              "        \n",
              "  <svg xmlns=\"http://www.w3.org/2000/svg\" height=\"24px\"viewBox=\"0 0 24 24\"\n",
              "       width=\"24px\">\n",
              "    <path d=\"M0 0h24v24H0V0z\" fill=\"none\"/>\n",
              "    <path d=\"M18.56 5.44l.94 2.06.94-2.06 2.06-.94-2.06-.94-.94-2.06-.94 2.06-2.06.94zm-11 1L8.5 8.5l.94-2.06 2.06-.94-2.06-.94L8.5 2.5l-.94 2.06-2.06.94zm10 10l.94 2.06.94-2.06 2.06-.94-2.06-.94-.94-2.06-.94 2.06-2.06.94z\"/><path d=\"M17.41 7.96l-1.37-1.37c-.4-.4-.92-.59-1.43-.59-.52 0-1.04.2-1.43.59L10.3 9.45l-7.72 7.72c-.78.78-.78 2.05 0 2.83L4 21.41c.39.39.9.59 1.41.59.51 0 1.02-.2 1.41-.59l7.78-7.78 2.81-2.81c.8-.78.8-2.07 0-2.86zM5.41 20L4 18.59l7.72-7.72 1.47 1.35L5.41 20z\"/>\n",
              "  </svg>\n",
              "      </button>\n",
              "      \n",
              "  <style>\n",
              "    .colab-df-container {\n",
              "      display:flex;\n",
              "      flex-wrap:wrap;\n",
              "      gap: 12px;\n",
              "    }\n",
              "\n",
              "    .colab-df-convert {\n",
              "      background-color: #E8F0FE;\n",
              "      border: none;\n",
              "      border-radius: 50%;\n",
              "      cursor: pointer;\n",
              "      display: none;\n",
              "      fill: #1967D2;\n",
              "      height: 32px;\n",
              "      padding: 0 0 0 0;\n",
              "      width: 32px;\n",
              "    }\n",
              "\n",
              "    .colab-df-convert:hover {\n",
              "      background-color: #E2EBFA;\n",
              "      box-shadow: 0px 1px 2px rgba(60, 64, 67, 0.3), 0px 1px 3px 1px rgba(60, 64, 67, 0.15);\n",
              "      fill: #174EA6;\n",
              "    }\n",
              "\n",
              "    [theme=dark] .colab-df-convert {\n",
              "      background-color: #3B4455;\n",
              "      fill: #D2E3FC;\n",
              "    }\n",
              "\n",
              "    [theme=dark] .colab-df-convert:hover {\n",
              "      background-color: #434B5C;\n",
              "      box-shadow: 0px 1px 3px 1px rgba(0, 0, 0, 0.15);\n",
              "      filter: drop-shadow(0px 1px 2px rgba(0, 0, 0, 0.3));\n",
              "      fill: #FFFFFF;\n",
              "    }\n",
              "  </style>\n",
              "\n",
              "      <script>\n",
              "        const buttonEl =\n",
              "          document.querySelector('#df-c57867a7-1ee3-4129-853f-b6280bd09597 button.colab-df-convert');\n",
              "        buttonEl.style.display =\n",
              "          google.colab.kernel.accessAllowed ? 'block' : 'none';\n",
              "\n",
              "        async function convertToInteractive(key) {\n",
              "          const element = document.querySelector('#df-c57867a7-1ee3-4129-853f-b6280bd09597');\n",
              "          const dataTable =\n",
              "            await google.colab.kernel.invokeFunction('convertToInteractive',\n",
              "                                                     [key], {});\n",
              "          if (!dataTable) return;\n",
              "\n",
              "          const docLinkHtml = 'Like what you see? Visit the ' +\n",
              "            '<a target=\"_blank\" href=https://colab.research.google.com/notebooks/data_table.ipynb>data table notebook</a>'\n",
              "            + ' to learn more about interactive tables.';\n",
              "          element.innerHTML = '';\n",
              "          dataTable['output_type'] = 'display_data';\n",
              "          await google.colab.output.renderOutput(dataTable, element);\n",
              "          const docLink = document.createElement('div');\n",
              "          docLink.innerHTML = docLinkHtml;\n",
              "          element.appendChild(docLink);\n",
              "        }\n",
              "      </script>\n",
              "    </div>\n",
              "  </div>\n",
              "  "
            ]
          },
          "metadata": {},
          "execution_count": 6
        }
      ]
    },
    {
      "cell_type": "markdown",
      "source": [
        "### Analysing the individual features"
      ],
      "metadata": {
        "id": "EnIp4qwqPrgC"
      }
    },
    {
      "cell_type": "markdown",
      "source": [
        "#### Helper functions"
      ],
      "metadata": {
        "id": "0wl_TEaYObTZ"
      }
    },
    {
      "cell_type": "code",
      "source": [
        "def plot_continuous_variable_distribution(df, var_series, var_name, title):\n",
        "  sns.displot(data=df, x=var_name, kde=True, height=def_plot_length)\n",
        "  # median\n",
        "  disp = 0.4\n",
        "  plt.axvline(x=var_series.median(),\n",
        "              color='red')\n",
        "  plt.text(var_series.median() + disp, 0, \"50%\", rotation = 90)\n",
        "  # 25%\n",
        "  plt.axvline(x=var_series.quantile(0.25),\n",
        "              color='red')\n",
        "  plt.text(var_series.quantile(0.25) + disp, 0, \"25%\", rotation = 90)\n",
        "  # 75%\n",
        "  plt.axvline(x=var_series.quantile(0.75),\n",
        "              color='red')\n",
        "  plt.text(var_series.quantile(0.75) + disp, 0, \"75%\", rotation = 90)\n",
        "  # mean\n",
        "  plt.axvline(x=var_series.mean(),\n",
        "              color='green')\n",
        "  plt.text(var_series.mean() + disp, 0, \"Mean\", rotation = 90)\n",
        "\n",
        "  plt.title(title, size=def_title_size)"
      ],
      "metadata": {
        "id": "MN6MaEJ9Kizy"
      },
      "execution_count": 43,
      "outputs": []
    },
    {
      "cell_type": "code",
      "source": [
        "def plot_continuous_variable_stroke_ratio(df, var_name, no_quantiles, title, xticks_rotation=0):\n",
        "  stroke_df_group = stroke_df.copy()\n",
        "  stroke_df_group[var_name+\"_group\"] = pd.qcut(stroke_df_group[var_name], q=no_quantiles)\n",
        "  stroke_ratio_per_var_group = stroke_df_group.groupby([var_name+\"_group\"]).apply(lambda age_group: age_group[\"stroke\"].sum() / age_group[\"stroke\"].count())\n",
        "  fig, ax = plt.subplots(figsize=def_fig_size)\n",
        "  pal = sns.color_palette(\"rocket\", len(stroke_ratio_per_var_group))\n",
        "  rank = stroke_ratio_per_var_group.argsort().argsort()   # http://stackoverflow.com/a/6266510/1628638\n",
        "  plots = sns.barplot(x = stroke_ratio_per_var_group.index, y = stroke_ratio_per_var_group.values, ax = ax, palette = np.array(pal[::-1])[rank])\n",
        "\n",
        "  # Iterrating over the bars one-by-one to add annotations\n",
        "  for bar in plots.patches:\n",
        "      plots.annotate(format(bar.get_height(), '.2f'),\n",
        "                    (bar.get_x() + bar.get_width() / 2,\n",
        "                      bar.get_height()), ha='center', va='center',\n",
        "                    size=8, xytext=(0, 8),\n",
        "                    textcoords='offset points')\n",
        "      \n",
        "  plt.xticks(rotation=xticks_rotation)\n",
        "  plt.title(title, size = def_title_size)\n"
      ],
      "metadata": {
        "id": "v7kCk0gyLbJz"
      },
      "execution_count": 22,
      "outputs": []
    },
    {
      "cell_type": "code",
      "source": [
        "def plot_categorical_variable_stroke_ratio(df, var_name, title, nr_decimals=2):\n",
        "  stroke_cnt = df.groupby([var_name, 'stroke']).count()\n",
        "  stroke_cnt = stroke_cnt.loc[:, :, ] .reset_index().pivot(index=var_name, columns='stroke', values='id')\n",
        "  stroke_cnt['stroke_ratio'] = stroke_cnt[1] / (stroke_cnt[0] + stroke_cnt[1])\n",
        "\n",
        "  fig, ax = plt.subplots(figsize=(10, 6))\n",
        "  pal = sns.color_palette(\"rocket\", len(stroke_cnt))\n",
        "  rank = stroke_cnt['stroke_ratio'].argsort().argsort()   # http://stackoverflow.com/a/6266510/1628638\n",
        "  plots = sns.barplot(x = stroke_cnt.index, y = stroke_cnt['stroke_ratio'], ax = ax, palette = np.array(pal[::-1])[rank])\n",
        "\n",
        "  # Iterrating over the bars one-by-one to add annotations\n",
        "  for bar in plots.patches:\n",
        "      plots.annotate(format(bar.get_height(), '.{0}f'.format(nr_decimals)),\n",
        "                    (bar.get_x() + bar.get_width() / 2,\n",
        "                      bar.get_height()), ha='center', va='center',\n",
        "                    size=15, xytext=(0, 8),\n",
        "                    textcoords='offset points')\n",
        "\n",
        "  plt.title(title, size = def_title_size)"
      ],
      "metadata": {
        "id": "E37shQR_MkP2"
      },
      "execution_count": 130,
      "outputs": []
    },
    {
      "cell_type": "code",
      "source": [
        "def identify_bmi_cathegory(bmi):\n",
        "  if(bmi >= 0.0 and bmi < 18.5):\n",
        "    return 'underweight'\n",
        "  if(bmi >= 18.5 and bmi < 25.0):\n",
        "    return 'normal'\n",
        "  if(bmi >= 25.0 and bmi < 30.0):\n",
        "    return 'overweight'\n",
        "  if(bmi >= 30.0 and bmi < 35.0):\n",
        "    return 'moderate obesity'\n",
        "  if(bmi >= 35.0 and bmi < 40.0):\n",
        "    return 'severe obesity'\n",
        "  if(bmi >= 40.0 and bmi < 100.0):\n",
        "    return 'very severe obesity'"
      ],
      "metadata": {
        "id": "PbxVA-g7OyCy"
      },
      "execution_count": 132,
      "outputs": []
    },
    {
      "cell_type": "markdown",
      "source": [
        "#### Gender"
      ],
      "metadata": {
        "id": "EMCtGQjxPvaq"
      }
    },
    {
      "cell_type": "markdown",
      "source": [
        "First of all, we should analyze the gender types that we have in our dataset."
      ],
      "metadata": {
        "id": "nin8kCtAWa_D"
      }
    },
    {
      "cell_type": "code",
      "source": [
        "gender_value_counts = stroke_df.gender.value_counts()\n",
        "gender_value_counts"
      ],
      "metadata": {
        "id": "8pxRw2YBamt2",
        "outputId": "7aae15d5-192d-4652-81ec-8f18711bfe0c",
        "colab": {
          "base_uri": "https://localhost:8080/"
        }
      },
      "execution_count": 109,
      "outputs": [
        {
          "output_type": "execute_result",
          "data": {
            "text/plain": [
              "Female    2994\n",
              "Male      2115\n",
              "Other        1\n",
              "Name: gender, dtype: int64"
            ]
          },
          "metadata": {},
          "execution_count": 109
        }
      ]
    },
    {
      "cell_type": "markdown",
      "source": [
        "We only have one value for other gender type, it might not help us with our prediction."
      ],
      "metadata": {
        "id": "QGEzf-1YWeqK"
      }
    },
    {
      "cell_type": "code",
      "source": [
        "stroke_df.loc[stroke_df['gender']=='Other']\n"
      ],
      "metadata": {
        "id": "txEJXWEDXbIh",
        "outputId": "493610fb-7d81-41f4-f868-66bc18391198",
        "colab": {
          "base_uri": "https://localhost:8080/",
          "height": 125
        }
      },
      "execution_count": 110,
      "outputs": [
        {
          "output_type": "execute_result",
          "data": {
            "text/plain": [
              "         id gender   age  hypertension  heart_disease ever_married work_type  \\\n",
              "3116  56156  Other  26.0             0              0           No   Private   \n",
              "\n",
              "     residence_type  avg_glucose_level   bmi   smoking_status  stroke  \n",
              "3116          Rural             143.33  22.4  formerly smoked       0  "
            ],
            "text/html": [
              "\n",
              "  <div id=\"df-d00c26f7-22d7-4bbb-a2d8-ee8cf1627b29\">\n",
              "    <div class=\"colab-df-container\">\n",
              "      <div>\n",
              "<style scoped>\n",
              "    .dataframe tbody tr th:only-of-type {\n",
              "        vertical-align: middle;\n",
              "    }\n",
              "\n",
              "    .dataframe tbody tr th {\n",
              "        vertical-align: top;\n",
              "    }\n",
              "\n",
              "    .dataframe thead th {\n",
              "        text-align: right;\n",
              "    }\n",
              "</style>\n",
              "<table border=\"1\" class=\"dataframe\">\n",
              "  <thead>\n",
              "    <tr style=\"text-align: right;\">\n",
              "      <th></th>\n",
              "      <th>id</th>\n",
              "      <th>gender</th>\n",
              "      <th>age</th>\n",
              "      <th>hypertension</th>\n",
              "      <th>heart_disease</th>\n",
              "      <th>ever_married</th>\n",
              "      <th>work_type</th>\n",
              "      <th>residence_type</th>\n",
              "      <th>avg_glucose_level</th>\n",
              "      <th>bmi</th>\n",
              "      <th>smoking_status</th>\n",
              "      <th>stroke</th>\n",
              "    </tr>\n",
              "  </thead>\n",
              "  <tbody>\n",
              "    <tr>\n",
              "      <th>3116</th>\n",
              "      <td>56156</td>\n",
              "      <td>Other</td>\n",
              "      <td>26.0</td>\n",
              "      <td>0</td>\n",
              "      <td>0</td>\n",
              "      <td>No</td>\n",
              "      <td>Private</td>\n",
              "      <td>Rural</td>\n",
              "      <td>143.33</td>\n",
              "      <td>22.4</td>\n",
              "      <td>formerly smoked</td>\n",
              "      <td>0</td>\n",
              "    </tr>\n",
              "  </tbody>\n",
              "</table>\n",
              "</div>\n",
              "      <button class=\"colab-df-convert\" onclick=\"convertToInteractive('df-d00c26f7-22d7-4bbb-a2d8-ee8cf1627b29')\"\n",
              "              title=\"Convert this dataframe to an interactive table.\"\n",
              "              style=\"display:none;\">\n",
              "        \n",
              "  <svg xmlns=\"http://www.w3.org/2000/svg\" height=\"24px\"viewBox=\"0 0 24 24\"\n",
              "       width=\"24px\">\n",
              "    <path d=\"M0 0h24v24H0V0z\" fill=\"none\"/>\n",
              "    <path d=\"M18.56 5.44l.94 2.06.94-2.06 2.06-.94-2.06-.94-.94-2.06-.94 2.06-2.06.94zm-11 1L8.5 8.5l.94-2.06 2.06-.94-2.06-.94L8.5 2.5l-.94 2.06-2.06.94zm10 10l.94 2.06.94-2.06 2.06-.94-2.06-.94-.94-2.06-.94 2.06-2.06.94z\"/><path d=\"M17.41 7.96l-1.37-1.37c-.4-.4-.92-.59-1.43-.59-.52 0-1.04.2-1.43.59L10.3 9.45l-7.72 7.72c-.78.78-.78 2.05 0 2.83L4 21.41c.39.39.9.59 1.41.59.51 0 1.02-.2 1.41-.59l7.78-7.78 2.81-2.81c.8-.78.8-2.07 0-2.86zM5.41 20L4 18.59l7.72-7.72 1.47 1.35L5.41 20z\"/>\n",
              "  </svg>\n",
              "      </button>\n",
              "      \n",
              "  <style>\n",
              "    .colab-df-container {\n",
              "      display:flex;\n",
              "      flex-wrap:wrap;\n",
              "      gap: 12px;\n",
              "    }\n",
              "\n",
              "    .colab-df-convert {\n",
              "      background-color: #E8F0FE;\n",
              "      border: none;\n",
              "      border-radius: 50%;\n",
              "      cursor: pointer;\n",
              "      display: none;\n",
              "      fill: #1967D2;\n",
              "      height: 32px;\n",
              "      padding: 0 0 0 0;\n",
              "      width: 32px;\n",
              "    }\n",
              "\n",
              "    .colab-df-convert:hover {\n",
              "      background-color: #E2EBFA;\n",
              "      box-shadow: 0px 1px 2px rgba(60, 64, 67, 0.3), 0px 1px 3px 1px rgba(60, 64, 67, 0.15);\n",
              "      fill: #174EA6;\n",
              "    }\n",
              "\n",
              "    [theme=dark] .colab-df-convert {\n",
              "      background-color: #3B4455;\n",
              "      fill: #D2E3FC;\n",
              "    }\n",
              "\n",
              "    [theme=dark] .colab-df-convert:hover {\n",
              "      background-color: #434B5C;\n",
              "      box-shadow: 0px 1px 3px 1px rgba(0, 0, 0, 0.15);\n",
              "      filter: drop-shadow(0px 1px 2px rgba(0, 0, 0, 0.3));\n",
              "      fill: #FFFFFF;\n",
              "    }\n",
              "  </style>\n",
              "\n",
              "      <script>\n",
              "        const buttonEl =\n",
              "          document.querySelector('#df-d00c26f7-22d7-4bbb-a2d8-ee8cf1627b29 button.colab-df-convert');\n",
              "        buttonEl.style.display =\n",
              "          google.colab.kernel.accessAllowed ? 'block' : 'none';\n",
              "\n",
              "        async function convertToInteractive(key) {\n",
              "          const element = document.querySelector('#df-d00c26f7-22d7-4bbb-a2d8-ee8cf1627b29');\n",
              "          const dataTable =\n",
              "            await google.colab.kernel.invokeFunction('convertToInteractive',\n",
              "                                                     [key], {});\n",
              "          if (!dataTable) return;\n",
              "\n",
              "          const docLinkHtml = 'Like what you see? Visit the ' +\n",
              "            '<a target=\"_blank\" href=https://colab.research.google.com/notebooks/data_table.ipynb>data table notebook</a>'\n",
              "            + ' to learn more about interactive tables.';\n",
              "          element.innerHTML = '';\n",
              "          dataTable['output_type'] = 'display_data';\n",
              "          await google.colab.output.renderOutput(dataTable, element);\n",
              "          const docLink = document.createElement('div');\n",
              "          docLink.innerHTML = docLinkHtml;\n",
              "          element.appendChild(docLink);\n",
              "        }\n",
              "      </script>\n",
              "    </div>\n",
              "  </div>\n",
              "  "
            ]
          },
          "metadata": {},
          "execution_count": 110
        }
      ]
    },
    {
      "cell_type": "markdown",
      "source": [
        "Having a pie chart will help us visualize better the ratio between females and males. We can observe that this ratio is not very balanced, having 59% females and only 41% male."
      ],
      "metadata": {
        "id": "WFfwjl_AWjUV"
      }
    },
    {
      "cell_type": "code",
      "source": [
        "explode = [0.02,0.02,0.3]\n",
        "plt.pie(gender_value_counts.array, labels=gender_value_counts.index, autopct = '%0.0f%%', explode = explode)\n",
        "plt.show()"
      ],
      "metadata": {
        "colab": {
          "base_uri": "https://localhost:8080/",
          "height": 248
        },
        "id": "0Q6Iz1P1WlqI",
        "outputId": "2899dea3-0afc-419d-fbae-119c324b167b"
      },
      "execution_count": 111,
      "outputs": [
        {
          "output_type": "display_data",
          "data": {
            "text/plain": [
              "<Figure size 432x288 with 1 Axes>"
            ],
            "image/png": "[encoded data removed]"
          },
          "metadata": {}
        }
      ]
    },
    {
      "cell_type": "code",
      "source": [
        "plot_categorical_variable_stroke_ratio(stroke_df, \"gender\", \"The ratio of people having a stroke,\\n cathegorized by gender\")"
      ],
      "metadata": {
        "id": "FgldlUkcZVVH",
        "outputId": "42973f3a-6ed8-4817-cb87-cdde8244253b",
        "colab": {
          "base_uri": "https://localhost:8080/",
          "height": 431
        }
      },
      "execution_count": 112,
      "outputs": [
        {
          "output_type": "display_data",
          "data": {
            "text/plain": [
              "<Figure size 432x432 with 1 Axes>"
            ],
            "image/png": "[encoded data removed]"
          },
          "metadata": {
            "needs_background": "light"
          }
        }
      ]
    },
    {
      "cell_type": "markdown",
      "source": [
        "The stroke events are evenly split among men and woman, but the number of men that had stroke is slightly greater than the number of woman, in our dataset. In general it is expected that stroke events are more frequently in woman, as they tend to live longer ([see article](https://www.ncbi.nlm.nih.gov/pmc/articles/PMC2665267/))."
      ],
      "metadata": {
        "id": "Cz3Y3Ul1aYXM"
      }
    },
    {
      "cell_type": "markdown",
      "source": [
        "#### Age"
      ],
      "metadata": {
        "id": "1PsXcLydPxcw"
      }
    },
    {
      "cell_type": "code",
      "source": [
        "stroke_df.age.describe()"
      ],
      "metadata": {
        "colab": {
          "base_uri": "https://localhost:8080/"
        },
        "id": "tfM_gmfDeiws",
        "outputId": "5b411214-4302-4c55-a79e-d872cf25006d"
      },
      "execution_count": 113,
      "outputs": [
        {
          "output_type": "execute_result",
          "data": {
            "text/plain": [
              "count    5110.000000\n",
              "mean       43.226614\n",
              "std        22.612647\n",
              "min         0.080000\n",
              "25%        25.000000\n",
              "50%        45.000000\n",
              "75%        61.000000\n",
              "max        82.000000\n",
              "Name: age, dtype: float64"
            ]
          },
          "metadata": {},
          "execution_count": 113
        }
      ]
    },
    {
      "cell_type": "markdown",
      "source": [
        "\n",
        "\n",
        "*   **median age: 45.0**\n",
        "  *   considering that the **median age in the world is only 30.63**, this dataset seems to describe an **aging population**, probably from one of the highly developed countries\n",
        "  *   note that only 5 countries in he world have a median age >= 5 (Italy, Saint Pierre and Miquelon, Germany, Japan and Monaco)\n",
        "  *   source: [worldpopulationreview.com](https://worldpopulationreview.com/country-rankings/median-age)\n",
        "\n"
      ],
      "metadata": {
        "id": "Qo6f_MC1flQJ"
      }
    },
    {
      "cell_type": "code",
      "source": [
        "plot_continuous_variable_distribution(stroke_df, stroke_df.age, \"age\", \"Population Age Distribution\")"
      ],
      "metadata": {
        "id": "5F_qauNJK_DN",
        "outputId": "cfeb1e33-5c3e-4ecf-aca4-73b47cbf24ee",
        "colab": {
          "base_uri": "https://localhost:8080/",
          "height": 534
        }
      },
      "execution_count": 114,
      "outputs": [
        {
          "output_type": "display_data",
          "data": {
            "text/plain": [
              "<Figure size 504x504 with 1 Axes>"
            ],
            "image/png": "[encoded data removed]"
          },
          "metadata": {
            "needs_background": "light"
          }
        }
      ]
    },
    {
      "cell_type": "code",
      "source": [
        "fig, ax = plt.subplots(figsize=def_fig_size)\n",
        "sns.histplot(data=stroke_df, x=\"age\", hue=\"stroke\", ax=ax)\n",
        "plt.title(\"Age Distribution by Stroke Status\", size = def_title_size)"
      ],
      "metadata": {
        "colab": {
          "base_uri": "https://localhost:8080/",
          "height": 480
        },
        "id": "V08_8SoEuNXX",
        "outputId": "4f942b43-dc25-4e3d-91f1-adfdc454292f"
      },
      "execution_count": 115,
      "outputs": [
        {
          "output_type": "execute_result",
          "data": {
            "text/plain": [
              "Text(0.5, 1.0, 'Age Distribution by Stroke Status')"
            ]
          },
          "metadata": {},
          "execution_count": 115
        },
        {
          "output_type": "display_data",
          "data": {
            "text/plain": [
              "<Figure size 504x504 with 1 Axes>"
            ],
            "image/png": "[encoded data removed]"
          },
          "metadata": {
            "needs_background": "light"
          }
        }
      ]
    },
    {
      "cell_type": "code",
      "source": [
        "plot_continuous_variable_stroke_ratio(stroke_df, \"age\", 20, \"The ratio of people having had a stroke,\\ncategorized by their Age\", 70)"
      ],
      "metadata": {
        "id": "bCmBCDMdL78B",
        "outputId": "5949df04-ab25-45ba-fefe-914e2e122daa",
        "colab": {
          "base_uri": "https://localhost:8080/",
          "height": 534
        }
      },
      "execution_count": 134,
      "outputs": [
        {
          "output_type": "display_data",
          "data": {
            "text/plain": [
              "<Figure size 504x504 with 1 Axes>"
            ],
            "image/png": "[encoded data removed]"
          },
          "metadata": {
            "needs_background": "light"
          }
        }
      ]
    },
    {
      "cell_type": "markdown",
      "source": [
        "As expected, the ratio of the population who had a stroke increases by age."
      ],
      "metadata": {
        "id": "VHAdg6ce6l2g"
      }
    },
    {
      "cell_type": "markdown",
      "source": [
        "#### Hypertension"
      ],
      "metadata": {
        "id": "QtE-ZuCoPzmd"
      }
    },
    {
      "cell_type": "markdown",
      "source": [
        "From all the persons in our dataset, we can see that only 10% have had hypertension. Globally, **an estimated 26% of the world’s population** (972 million people) has hypertension.\n",
        "\n",
        "https://www.medscape.com/answers/241381-7614/what-is-the-global-prevalence-of-hypertension-high-blood-pressure"
      ],
      "metadata": {
        "id": "8F527WQIWwPU"
      }
    },
    {
      "cell_type": "code",
      "source": [
        "hypertension_value_counts = stroke_df.hypertension.value_counts()\n",
        "hypertension_value_counts"
      ],
      "metadata": {
        "colab": {
          "base_uri": "https://localhost:8080/"
        },
        "id": "1q4z3vIvWzXD",
        "outputId": "d482aed0-a468-432b-e7bc-4f75314226d4"
      },
      "execution_count": 117,
      "outputs": [
        {
          "output_type": "execute_result",
          "data": {
            "text/plain": [
              "0    4612\n",
              "1     498\n",
              "Name: hypertension, dtype: int64"
            ]
          },
          "metadata": {},
          "execution_count": 117
        }
      ]
    },
    {
      "cell_type": "code",
      "source": [
        "explode = [0.02,0.3]\n",
        "plt.pie(hypertension_value_counts.array, labels=hypertension_value_counts.index, autopct = '%0.0f%%', explode = explode)\n",
        "plt.show()"
      ],
      "metadata": {
        "colab": {
          "base_uri": "https://localhost:8080/",
          "height": 0
        },
        "id": "5cJVhPpgW2e7",
        "outputId": "0f63d1e6-e2e8-4723-ad9c-dd27677fded9"
      },
      "execution_count": 118,
      "outputs": [
        {
          "output_type": "display_data",
          "data": {
            "text/plain": [
              "<Figure size 432x288 with 1 Axes>"
            ],
            "image/png": "[encoded data removed]"
          },
          "metadata": {}
        }
      ]
    },
    {
      "cell_type": "code",
      "source": [
        "plot_categorical_variable_stroke_ratio(stroke_df, \"hypertension\", \"The ratio of people having a stroke,\\n cathegorized by hypertension\")"
      ],
      "metadata": {
        "id": "4byk_xu2butG",
        "outputId": "4e8618c3-6c92-4da7-840a-9779c3bd23ca",
        "colab": {
          "base_uri": "https://localhost:8080/",
          "height": 0
        }
      },
      "execution_count": 119,
      "outputs": [
        {
          "output_type": "display_data",
          "data": {
            "text/plain": [
              "<Figure size 432x432 with 1 Axes>"
            ],
            "image/png": "[encoded data removed]"
          },
          "metadata": {
            "needs_background": "light"
          }
        }
      ]
    },
    {
      "cell_type": "markdown",
      "source": [
        "As expected, a stroke is more common for people that suffer from hypertension than the rest of the people."
      ],
      "metadata": {
        "id": "cWVFt_vpb4ME"
      }
    },
    {
      "cell_type": "markdown",
      "source": [
        "#### Heart Disease"
      ],
      "metadata": {
        "id": "kMqXj2HEP2o7"
      }
    },
    {
      "cell_type": "markdown",
      "source": [
        "The feeature shows whether a person has (1) os hasn't got (0) any herat diseases."
      ],
      "metadata": {
        "id": "8XxJvaMfDgmx"
      }
    },
    {
      "cell_type": "code",
      "source": [
        "heart_disease_value_counts = stroke_df.heart_disease.value_counts()\n",
        "heart_disease_value_counts"
      ],
      "metadata": {
        "colab": {
          "base_uri": "https://localhost:8080/"
        },
        "id": "35oObiI0zk37",
        "outputId": "9af493c8-ff43-42b7-facc-9ba836742e9d"
      },
      "execution_count": 120,
      "outputs": [
        {
          "output_type": "execute_result",
          "data": {
            "text/plain": [
              "0    4834\n",
              "1     276\n",
              "Name: heart_disease, dtype: int64"
            ]
          },
          "metadata": {},
          "execution_count": 120
        }
      ]
    },
    {
      "cell_type": "markdown",
      "source": [
        "Only 276 people out of 5110 had a heart disease."
      ],
      "metadata": {
        "id": "_qtj9PDgz7n-"
      }
    },
    {
      "cell_type": "code",
      "source": [
        "explode = [0.1] * heart_disease_value_counts.count()\n",
        "plt.pie(heart_disease_value_counts.array, labels=heart_disease_value_counts.index, autopct = '%0.0f%%', explode = explode)\n",
        "plt.title(\"The Ratio of Population with a Heart Disease\")\n",
        "plt.show()"
      ],
      "metadata": {
        "colab": {
          "base_uri": "https://localhost:8080/",
          "height": 0
        },
        "id": "y27Q9E8Iz6_X",
        "outputId": "6c8c30e8-bfdf-4c75-b7a4-b9a10eb144b3"
      },
      "execution_count": 121,
      "outputs": [
        {
          "output_type": "display_data",
          "data": {
            "text/plain": [
              "<Figure size 432x288 with 1 Axes>"
            ],
            "image/png": "[encoded data removed]"
          },
          "metadata": {}
        }
      ]
    },
    {
      "cell_type": "markdown",
      "source": [
        "The people with a heart disease represent 5% of the population."
      ],
      "metadata": {
        "id": "O-J7n_9j0SbI"
      }
    },
    {
      "cell_type": "code",
      "source": [
        "plot_categorical_variable_stroke_ratio(stroke_df, \"heart_disease\", \"The ratio of peope having had a stroke,\\ncategorized by heart disease status\")"
      ],
      "metadata": {
        "id": "DIl3eJ3BM-ld",
        "outputId": "d6a0a229-c522-4d73-ecc4-a1ffdab3a888",
        "colab": {
          "base_uri": "https://localhost:8080/",
          "height": 0
        }
      },
      "execution_count": 122,
      "outputs": [
        {
          "output_type": "display_data",
          "data": {
            "text/plain": [
              "<Figure size 432x432 with 1 Axes>"
            ],
            "image/png": "[encoded data removed]"
          },
          "metadata": {
            "needs_background": "light"
          }
        }
      ]
    },
    {
      "cell_type": "markdown",
      "source": [
        "As expected, the ratio of people who had a stroke is much higher (17% vs 4%) among people with a heart disease."
      ],
      "metadata": {
        "id": "DwsTyQBy7sJl"
      }
    },
    {
      "cell_type": "markdown",
      "source": [
        "#### Marital Status"
      ],
      "metadata": {
        "id": "_JvIJ-npP45W"
      }
    },
    {
      "cell_type": "markdown",
      "source": [
        "The values for marital status are 'Yes' or 'No' values. We prefer to have 0 or 1 values instead."
      ],
      "metadata": {
        "id": "u2tJse0iW6bD"
      }
    },
    {
      "cell_type": "code",
      "source": [
        "ever_married_value_counts = stroke_df.ever_married.value_counts()\n",
        "ever_married_value_counts"
      ],
      "metadata": {
        "colab": {
          "base_uri": "https://localhost:8080/"
        },
        "id": "gwGIgzLVW83f",
        "outputId": "25a693d7-d468-4581-bb51-e0e6682c5470"
      },
      "execution_count": 12,
      "outputs": [
        {
          "output_type": "execute_result",
          "data": {
            "text/plain": [
              "Yes    3353\n",
              "No     1757\n",
              "Name: ever_married, dtype: int64"
            ]
          },
          "metadata": {},
          "execution_count": 12
        }
      ]
    },
    {
      "cell_type": "code",
      "source": [
        "explode = [0.02,0.02]\n",
        "plt.pie(ever_married_value_counts.array, labels=ever_married_value_counts.index, autopct = '%0.0f%%', explode = explode)\n",
        "plt.show()"
      ],
      "metadata": {
        "colab": {
          "base_uri": "https://localhost:8080/",
          "height": 248
        },
        "id": "2KvSU8DhW_FG",
        "outputId": "4316d7c2-b637-4080-c560-d4d8ab4a1900"
      },
      "execution_count": 13,
      "outputs": [
        {
          "output_type": "display_data",
          "data": {
            "text/plain": [
              "<Figure size 432x288 with 1 Axes>"
            ],
            "image/png": "[encoded data removed]"
          },
          "metadata": {}
        }
      ]
    },
    {
      "cell_type": "code",
      "source": [
        "plot_categorical_variable_stroke_ratio(stroke_df, \"ever_married\", \"The ratio of people having a stroke,\\n cathegorized by marital status\")"
      ],
      "metadata": {
        "id": "hzq7hTUucLg4",
        "outputId": "41ff9b99-0034-425c-90f4-6e73bbd5cf97",
        "colab": {
          "base_uri": "https://localhost:8080/",
          "height": 432
        }
      },
      "execution_count": 26,
      "outputs": [
        {
          "output_type": "display_data",
          "data": {
            "text/plain": [
              "<Figure size 432x432 with 1 Axes>"
            ],
            "image/png": "[encoded data removed]"
          },
          "metadata": {
            "needs_background": "light"
          }
        }
      ]
    },
    {
      "cell_type": "markdown",
      "source": [
        "This plot shows that stroke is more common in people who are married, but that is due to the fact that older people (that are at a higher risk of having a stroke) in general are married. "
      ],
      "metadata": {
        "id": "oncITzNncsBK"
      }
    },
    {
      "cell_type": "markdown",
      "source": [
        "#### Work Type"
      ],
      "metadata": {
        "id": "ZdCrTHIlQAHN"
      }
    },
    {
      "cell_type": "markdown",
      "source": [
        "We have identified several work types i.e. private, self-employed, government job, children and never worked."
      ],
      "metadata": {
        "id": "W1nknM1CXDA3"
      }
    },
    {
      "cell_type": "code",
      "source": [
        "work_type_value_counts = stroke_df.work_type.value_counts()\n",
        "work_type_value_counts"
      ],
      "metadata": {
        "colab": {
          "base_uri": "https://localhost:8080/"
        },
        "id": "7LnMIXZDXFKf",
        "outputId": "da397bb4-b0ee-4305-a281-0fc241c58d63"
      },
      "execution_count": 123,
      "outputs": [
        {
          "output_type": "execute_result",
          "data": {
            "text/plain": [
              "Private          2925\n",
              "Self-employed     819\n",
              "children          687\n",
              "Govt_job          657\n",
              "Never_worked       22\n",
              "Name: work_type, dtype: int64"
            ]
          },
          "metadata": {},
          "execution_count": 123
        }
      ]
    },
    {
      "cell_type": "code",
      "source": [
        "plt.figure(figsize=(10,6))\n",
        "plt.title(\"Work types value counts\")\n",
        "sns.barplot(x=work_type_value_counts.index, y=work_type_value_counts.array)\n",
        "plt.show()"
      ],
      "metadata": {
        "colab": {
          "base_uri": "https://localhost:8080/",
          "height": 391
        },
        "id": "eutkIOV8XHUh",
        "outputId": "1e836891-f231-4a33-ecbe-ae77e71d58c2"
      },
      "execution_count": 124,
      "outputs": [
        {
          "output_type": "display_data",
          "data": {
            "text/plain": [
              "<Figure size 720x432 with 1 Axes>"
            ],
            "image/png": "[encoded data removed]"
          },
          "metadata": {
            "needs_background": "light"
          }
        }
      ]
    },
    {
      "cell_type": "markdown",
      "source": [
        "The values children and never worked might be corellated since most children don't work. Let's see how many never worked values are for people with an age greater than 18."
      ],
      "metadata": {
        "id": "8G8XYcsrXKZ9"
      }
    },
    {
      "cell_type": "code",
      "source": [
        "stroke_df.loc[(stroke_df['work_type'] == 'Never_worked') & (stroke_df['age'] >= 18)]"
      ],
      "metadata": {
        "colab": {
          "base_uri": "https://localhost:8080/",
          "height": 270
        },
        "id": "qj0R5IVKXM1N",
        "outputId": "5baecd4f-8552-4bb3-9646-60dc4959834f"
      },
      "execution_count": 125,
      "outputs": [
        {
          "output_type": "execute_result",
          "data": {
            "text/plain": [
              "         id  gender   age  hypertension  heart_disease ever_married  \\\n",
              "603   61408    Male  23.0             0              0           No   \n",
              "886   13948  Female  19.0             0              0           No   \n",
              "2917  11702  Female  18.0             0              0           No   \n",
              "4160  71966  Female  18.0             0              0           No   \n",
              "4772  13960  Female  18.0             0              0           No   \n",
              "\n",
              "         work_type residence_type  avg_glucose_level   bmi smoking_status  \\\n",
              "603   Never_worked          Urban             125.26  18.7   never smoked   \n",
              "886   Never_worked          Urban              86.96  25.8   never smoked   \n",
              "2917  Never_worked          Urban              82.36  22.7        Unknown   \n",
              "4160  Never_worked          Urban              81.73  21.6   never smoked   \n",
              "4772  Never_worked          Urban              97.65  21.5        Unknown   \n",
              "\n",
              "      stroke  \n",
              "603        0  \n",
              "886        0  \n",
              "2917       0  \n",
              "4160       0  \n",
              "4772       0  "
            ],
            "text/html": [
              "\n",
              "  <div id=\"df-67aed860-453d-47a2-9b6c-0df7fe09d511\">\n",
              "    <div class=\"colab-df-container\">\n",
              "      <div>\n",
              "<style scoped>\n",
              "    .dataframe tbody tr th:only-of-type {\n",
              "        vertical-align: middle;\n",
              "    }\n",
              "\n",
              "    .dataframe tbody tr th {\n",
              "        vertical-align: top;\n",
              "    }\n",
              "\n",
              "    .dataframe thead th {\n",
              "        text-align: right;\n",
              "    }\n",
              "</style>\n",
              "<table border=\"1\" class=\"dataframe\">\n",
              "  <thead>\n",
              "    <tr style=\"text-align: right;\">\n",
              "      <th></th>\n",
              "      <th>id</th>\n",
              "      <th>gender</th>\n",
              "      <th>age</th>\n",
              "      <th>hypertension</th>\n",
              "      <th>heart_disease</th>\n",
              "      <th>ever_married</th>\n",
              "      <th>work_type</th>\n",
              "      <th>residence_type</th>\n",
              "      <th>avg_glucose_level</th>\n",
              "      <th>bmi</th>\n",
              "      <th>smoking_status</th>\n",
              "      <th>stroke</th>\n",
              "    </tr>\n",
              "  </thead>\n",
              "  <tbody>\n",
              "    <tr>\n",
              "      <th>603</th>\n",
              "      <td>61408</td>\n",
              "      <td>Male</td>\n",
              "      <td>23.0</td>\n",
              "      <td>0</td>\n",
              "      <td>0</td>\n",
              "      <td>No</td>\n",
              "      <td>Never_worked</td>\n",
              "      <td>Urban</td>\n",
              "      <td>125.26</td>\n",
              "      <td>18.7</td>\n",
              "      <td>never smoked</td>\n",
              "      <td>0</td>\n",
              "    </tr>\n",
              "    <tr>\n",
              "      <th>886</th>\n",
              "      <td>13948</td>\n",
              "      <td>Female</td>\n",
              "      <td>19.0</td>\n",
              "      <td>0</td>\n",
              "      <td>0</td>\n",
              "      <td>No</td>\n",
              "      <td>Never_worked</td>\n",
              "      <td>Urban</td>\n",
              "      <td>86.96</td>\n",
              "      <td>25.8</td>\n",
              "      <td>never smoked</td>\n",
              "      <td>0</td>\n",
              "    </tr>\n",
              "    <tr>\n",
              "      <th>2917</th>\n",
              "      <td>11702</td>\n",
              "      <td>Female</td>\n",
              "      <td>18.0</td>\n",
              "      <td>0</td>\n",
              "      <td>0</td>\n",
              "      <td>No</td>\n",
              "      <td>Never_worked</td>\n",
              "      <td>Urban</td>\n",
              "      <td>82.36</td>\n",
              "      <td>22.7</td>\n",
              "      <td>Unknown</td>\n",
              "      <td>0</td>\n",
              "    </tr>\n",
              "    <tr>\n",
              "      <th>4160</th>\n",
              "      <td>71966</td>\n",
              "      <td>Female</td>\n",
              "      <td>18.0</td>\n",
              "      <td>0</td>\n",
              "      <td>0</td>\n",
              "      <td>No</td>\n",
              "      <td>Never_worked</td>\n",
              "      <td>Urban</td>\n",
              "      <td>81.73</td>\n",
              "      <td>21.6</td>\n",
              "      <td>never smoked</td>\n",
              "      <td>0</td>\n",
              "    </tr>\n",
              "    <tr>\n",
              "      <th>4772</th>\n",
              "      <td>13960</td>\n",
              "      <td>Female</td>\n",
              "      <td>18.0</td>\n",
              "      <td>0</td>\n",
              "      <td>0</td>\n",
              "      <td>No</td>\n",
              "      <td>Never_worked</td>\n",
              "      <td>Urban</td>\n",
              "      <td>97.65</td>\n",
              "      <td>21.5</td>\n",
              "      <td>Unknown</td>\n",
              "      <td>0</td>\n",
              "    </tr>\n",
              "  </tbody>\n",
              "</table>\n",
              "</div>\n",
              "      <button class=\"colab-df-convert\" onclick=\"convertToInteractive('df-67aed860-453d-47a2-9b6c-0df7fe09d511')\"\n",
              "              title=\"Convert this dataframe to an interactive table.\"\n",
              "              style=\"display:none;\">\n",
              "        \n",
              "  <svg xmlns=\"http://www.w3.org/2000/svg\" height=\"24px\"viewBox=\"0 0 24 24\"\n",
              "       width=\"24px\">\n",
              "    <path d=\"M0 0h24v24H0V0z\" fill=\"none\"/>\n",
              "    <path d=\"M18.56 5.44l.94 2.06.94-2.06 2.06-.94-2.06-.94-.94-2.06-.94 2.06-2.06.94zm-11 1L8.5 8.5l.94-2.06 2.06-.94-2.06-.94L8.5 2.5l-.94 2.06-2.06.94zm10 10l.94 2.06.94-2.06 2.06-.94-2.06-.94-.94-2.06-.94 2.06-2.06.94z\"/><path d=\"M17.41 7.96l-1.37-1.37c-.4-.4-.92-.59-1.43-.59-.52 0-1.04.2-1.43.59L10.3 9.45l-7.72 7.72c-.78.78-.78 2.05 0 2.83L4 21.41c.39.39.9.59 1.41.59.51 0 1.02-.2 1.41-.59l7.78-7.78 2.81-2.81c.8-.78.8-2.07 0-2.86zM5.41 20L4 18.59l7.72-7.72 1.47 1.35L5.41 20z\"/>\n",
              "  </svg>\n",
              "      </button>\n",
              "      \n",
              "  <style>\n",
              "    .colab-df-container {\n",
              "      display:flex;\n",
              "      flex-wrap:wrap;\n",
              "      gap: 12px;\n",
              "    }\n",
              "\n",
              "    .colab-df-convert {\n",
              "      background-color: #E8F0FE;\n",
              "      border: none;\n",
              "      border-radius: 50%;\n",
              "      cursor: pointer;\n",
              "      display: none;\n",
              "      fill: #1967D2;\n",
              "      height: 32px;\n",
              "      padding: 0 0 0 0;\n",
              "      width: 32px;\n",
              "    }\n",
              "\n",
              "    .colab-df-convert:hover {\n",
              "      background-color: #E2EBFA;\n",
              "      box-shadow: 0px 1px 2px rgba(60, 64, 67, 0.3), 0px 1px 3px 1px rgba(60, 64, 67, 0.15);\n",
              "      fill: #174EA6;\n",
              "    }\n",
              "\n",
              "    [theme=dark] .colab-df-convert {\n",
              "      background-color: #3B4455;\n",
              "      fill: #D2E3FC;\n",
              "    }\n",
              "\n",
              "    [theme=dark] .colab-df-convert:hover {\n",
              "      background-color: #434B5C;\n",
              "      box-shadow: 0px 1px 3px 1px rgba(0, 0, 0, 0.15);\n",
              "      filter: drop-shadow(0px 1px 2px rgba(0, 0, 0, 0.3));\n",
              "      fill: #FFFFFF;\n",
              "    }\n",
              "  </style>\n",
              "\n",
              "      <script>\n",
              "        const buttonEl =\n",
              "          document.querySelector('#df-67aed860-453d-47a2-9b6c-0df7fe09d511 button.colab-df-convert');\n",
              "        buttonEl.style.display =\n",
              "          google.colab.kernel.accessAllowed ? 'block' : 'none';\n",
              "\n",
              "        async function convertToInteractive(key) {\n",
              "          const element = document.querySelector('#df-67aed860-453d-47a2-9b6c-0df7fe09d511');\n",
              "          const dataTable =\n",
              "            await google.colab.kernel.invokeFunction('convertToInteractive',\n",
              "                                                     [key], {});\n",
              "          if (!dataTable) return;\n",
              "\n",
              "          const docLinkHtml = 'Like what you see? Visit the ' +\n",
              "            '<a target=\"_blank\" href=https://colab.research.google.com/notebooks/data_table.ipynb>data table notebook</a>'\n",
              "            + ' to learn more about interactive tables.';\n",
              "          element.innerHTML = '';\n",
              "          dataTable['output_type'] = 'display_data';\n",
              "          await google.colab.output.renderOutput(dataTable, element);\n",
              "          const docLink = document.createElement('div');\n",
              "          docLink.innerHTML = docLinkHtml;\n",
              "          element.appendChild(docLink);\n",
              "        }\n",
              "      </script>\n",
              "    </div>\n",
              "  </div>\n",
              "  "
            ]
          },
          "metadata": {},
          "execution_count": 125
        }
      ]
    },
    {
      "cell_type": "markdown",
      "source": [
        "There are only five values for never worked people that aren't children. They also didn't have a stroke. We might consider deleting them in the data cleaning process."
      ],
      "metadata": {
        "id": "XJ_USubwXPn7"
      }
    },
    {
      "cell_type": "code",
      "source": [
        "plot_categorical_variable_stroke_ratio(stroke_df, \"work_type\", \"The ratio of people having a stroke,\\n cathegorized by work type\")"
      ],
      "metadata": {
        "id": "fzDS5DTvdIsc",
        "outputId": "05a8064e-b972-445a-ef6e-9d2625f8dbec",
        "colab": {
          "base_uri": "https://localhost:8080/",
          "height": 433
        }
      },
      "execution_count": 133,
      "outputs": [
        {
          "output_type": "display_data",
          "data": {
            "text/plain": [
              "<Figure size 720x432 with 1 Axes>"
            ],
            "image/png": "[encoded data removed]"
          },
          "metadata": {
            "needs_background": "light"
          }
        }
      ]
    },
    {
      "cell_type": "markdown",
      "source": [
        "We can observe that we have very few strokes among children and never_worked (which are mostly children). The stroke events are evenly split among government jobs and private work types, but self-employed people tend to have more strokes. Accordingly to this [study](https://www.ncbi.nlm.nih.gov/pmc/articles/PMC7287446/), **self-employed people might have a higher risk of having a cardiovascular disease**, which might lead to a stroke, but the studies made about this subject are very limited."
      ],
      "metadata": {
        "id": "7JBpycRHdbOC"
      }
    },
    {
      "cell_type": "markdown",
      "source": [
        "#### Residence Type"
      ],
      "metadata": {
        "id": "ymY87LJtQCJz"
      }
    },
    {
      "cell_type": "markdown",
      "source": [
        "The feature shows whether the person lives in a rural or urban area."
      ],
      "metadata": {
        "id": "5zLBTqxQDm-u"
      }
    },
    {
      "cell_type": "code",
      "source": [
        "residence_type_value_counts = stroke_df.residence_type.value_counts()\n",
        "residence_type_value_counts"
      ],
      "metadata": {
        "colab": {
          "base_uri": "https://localhost:8080/"
        },
        "id": "1t_bj4eO1Jqf",
        "outputId": "d8a297fb-1d89-40aa-e8c4-8cbadfd7751f"
      },
      "execution_count": null,
      "outputs": [
        {
          "output_type": "execute_result",
          "data": {
            "text/plain": [
              "Urban    2596\n",
              "Rural    2514\n",
              "Name: residence_type, dtype: int64"
            ]
          },
          "metadata": {},
          "execution_count": 19
        }
      ]
    },
    {
      "cell_type": "code",
      "source": [
        "explode = [0.01] * residence_type_value_counts.count()\n",
        "plt.pie(residence_type_value_counts.array, labels=residence_type_value_counts.index, autopct = '%0.0f%%', explode = explode)\n",
        "plt.title(\"The Residence Type Distribution\")\n",
        "plt.show()"
      ],
      "metadata": {
        "colab": {
          "base_uri": "https://localhost:8080/",
          "height": 264
        },
        "id": "GVlOvwx7150H",
        "outputId": "0bbba554-a931-4e1b-a513-313f91c5a740"
      },
      "execution_count": null,
      "outputs": [
        {
          "output_type": "display_data",
          "data": {
            "text/plain": [
              "<Figure size 432x288 with 1 Axes>"
            ],
            "image/png": "[encoded data removed]"
          },
          "metadata": {}
        }
      ]
    },
    {
      "cell_type": "code",
      "source": [
        "plot_categorical_variable_stroke_ratio(stroke_df, \"residence_type\", \"The ratio of peope having had a stroke,\\ncategorized by Residence Type\", 3)"
      ],
      "metadata": {
        "id": "9-vfLSBMNKGb",
        "outputId": "f8d27f75-8b93-4ce5-84d2-5c4508aa747c",
        "colab": {
          "base_uri": "https://localhost:8080/",
          "height": 432
        }
      },
      "execution_count": null,
      "outputs": [
        {
          "output_type": "display_data",
          "data": {
            "text/plain": [
              "<Figure size 432x432 with 1 Axes>"
            ],
            "image/png": "[encoded data removed]"
          },
          "metadata": {
            "needs_background": "light"
          }
        }
      ]
    },
    {
      "cell_type": "markdown",
      "source": [
        "The data shows that people living in an urban area have a slightly higher chance for a stroke (5.2% vs 4.5%), but the residence type does not seem to be a significant factor in one's chance for a stroke."
      ],
      "metadata": {
        "id": "NBMCsh5Y8xy9"
      }
    },
    {
      "cell_type": "markdown",
      "source": [
        "The people are fairly distributed between twose living in urban and in rural areas."
      ],
      "metadata": {
        "id": "vCfAoZ2B2Qmz"
      }
    },
    {
      "cell_type": "markdown",
      "source": [
        "#### Average Glucose Level"
      ],
      "metadata": {
        "id": "uTCPR3RGQEDP"
      }
    },
    {
      "cell_type": "markdown",
      "source": [
        "This feature shows the average glucose level in a person's blood, in mg/dL."
      ],
      "metadata": {
        "id": "6Dxgs2kODuNy"
      }
    },
    {
      "cell_type": "code",
      "source": [
        "stroke_df.avg_glucose_level.describe()"
      ],
      "metadata": {
        "colab": {
          "base_uri": "https://localhost:8080/"
        },
        "id": "7Tt5JoFi-YHp",
        "outputId": "6fe4cc6f-e9ba-4b06-8f14-574916c17832"
      },
      "execution_count": null,
      "outputs": [
        {
          "output_type": "execute_result",
          "data": {
            "text/plain": [
              "count    5110.000000\n",
              "mean      106.147677\n",
              "std        45.283560\n",
              "min        55.120000\n",
              "25%        77.245000\n",
              "50%        91.885000\n",
              "75%       114.090000\n",
              "max       271.740000\n",
              "Name: avg_glucose_level, dtype: float64"
            ]
          },
          "metadata": {},
          "execution_count": 22
        }
      ]
    },
    {
      "cell_type": "code",
      "source": [
        "plot_continuous_variable_distribution(stroke_df, stroke_df.avg_glucose_level, \"avg_glucose_level\", \"Distribution by avg_glucose_level\")"
      ],
      "metadata": {
        "colab": {
          "base_uri": "https://localhost:8080/",
          "height": 534
        },
        "id": "pNvsNtpa_CXM",
        "outputId": "f9ca3b33-0aef-4194-d47e-53cdd459badd"
      },
      "execution_count": 41,
      "outputs": [
        {
          "output_type": "display_data",
          "data": {
            "text/plain": [
              "<Figure size 504x504 with 1 Axes>"
            ],
            "image/png": "[encoded data removed]"
          },
          "metadata": {
            "needs_background": "light"
          }
        }
      ]
    },
    {
      "cell_type": "code",
      "source": [
        "fig, ax = plt.subplots(figsize=def_fig_size)\n",
        "sns.histplot(data=stroke_df, x=\"avg_glucose_level\", hue=\"stroke\", ax=ax)\n",
        "plt.title(\"Avg Glucose Level Distribution by Stroke Status\", size = def_title_size)"
      ],
      "metadata": {
        "colab": {
          "base_uri": "https://localhost:8080/",
          "height": 481
        },
        "id": "fMdoX7By_zl5",
        "outputId": "0f4da38a-2270-4eeb-e9d1-cbf65eb70279"
      },
      "execution_count": null,
      "outputs": [
        {
          "output_type": "execute_result",
          "data": {
            "text/plain": [
              "Text(0.5, 1.0, 'Avg Glucose Level Distribution by Stroke Status')"
            ]
          },
          "metadata": {},
          "execution_count": 24
        },
        {
          "output_type": "display_data",
          "data": {
            "text/plain": [
              "<Figure size 504x504 with 1 Axes>"
            ],
            "image/png": "[encoded data removed]"
          },
          "metadata": {
            "needs_background": "light"
          }
        }
      ]
    },
    {
      "cell_type": "code",
      "source": [
        "plot_continuous_variable_stroke_ratio(stroke_df, \"avg_glucose_level\", 10, \"The ratio of peope having had a stroke,\\ncategorized by their Average Glucose Level\", 70)"
      ],
      "metadata": {
        "colab": {
          "base_uri": "https://localhost:8080/",
          "height": 565
        },
        "id": "_rPudfBJ_-yq",
        "outputId": "1b92a6ed-cfdc-4010-e29c-1a02f972d527"
      },
      "execution_count": null,
      "outputs": [
        {
          "output_type": "display_data",
          "data": {
            "text/plain": [
              "<Figure size 504x504 with 1 Axes>"
            ],
            "image/png": "[encoded data removed]"
          },
          "metadata": {
            "needs_background": "light"
          }
        }
      ]
    },
    {
      "cell_type": "markdown",
      "source": [
        "As expected, both people with a very low and with a very high blood glucose level are more likely to have a stroke than the people with a regular glucose level. \n",
        "\n",
        "General medical guidelines state that a glucose level of less than 100mg/dL is normal after not eating for more than 8 hours, and a glucose level of less than 140mg/dL is normal after not eating for at least 2 hours ([see this analysis](https://https://www.webmd.com/diabetes/how-sugar-affects-diabetes)). These guidelines are confirmed by the above plot, which shows that\n",
        "\n",
        "\n",
        "*   an average glucose level lower than 80mg/dL may increase the chance for a stroke, by ~30%\n",
        "*   an average glucose level higher than 124mg/dL may dramatically increase the chance for a stroke, by more than 200%\n",
        "\n"
      ],
      "metadata": {
        "id": "mkXeqx1JDzAO"
      }
    },
    {
      "cell_type": "markdown",
      "source": [
        "#### Body Mass Index"
      ],
      "metadata": {
        "id": "Gr4yQLqrQHVc"
      }
    },
    {
      "cell_type": "markdown",
      "source": [
        "There also might be children in our dataset, we do not want to consider them for the adult BMI analysis since the way their BMI is interpreted is different than for adults."
      ],
      "metadata": {
        "id": "Mbhf-fkP44y2"
      }
    },
    {
      "cell_type": "code",
      "source": [
        "adults_only_df = stroke_df.loc[stroke_df['age']>=18]\n",
        "adults_only_df.bmi.describe()"
      ],
      "metadata": {
        "colab": {
          "base_uri": "https://localhost:8080/"
        },
        "id": "S62PSX7zXZC-",
        "outputId": "8c8b2129-99ad-404e-cf74-21a77275a7bf"
      },
      "execution_count": 59,
      "outputs": [
        {
          "output_type": "execute_result",
          "data": {
            "text/plain": [
              "count    4073.000000\n",
              "mean       30.432752\n",
              "std         7.235143\n",
              "min        11.300000\n",
              "25%        25.400000\n",
              "50%        29.200000\n",
              "75%        34.200000\n",
              "max        92.000000\n",
              "Name: bmi, dtype: float64"
            ]
          },
          "metadata": {},
          "execution_count": 59
        }
      ]
    },
    {
      "cell_type": "markdown",
      "source": [
        "A BMI of: \n",
        "\n",
        "* less than 18.5 is Underweight\n",
        "* 18.5 - 25 is Normal\t\n",
        "* 25 - 30 is Overweight\t\n",
        "* 30 - 35 is Moderate Obesity\n",
        "* 35 - 40 is Severe Obesity\n",
        "* 40 - 46 is Very Severe Obesity\n",
        "* 45-50 is Morbid\n",
        "* 50-60 is Super\n",
        "* greater then 60 is Hyper Obesity \n",
        " \n",
        "Data extracted from this ([article](https://www.topdoctors.co.uk/medical-dictionary/body-mass-index-bmi)).\n",
        " \n",
        " The fact that we have a mean value of 30 means that the dataset tends to describe a population that is slightly more overweight. "
      ],
      "metadata": {
        "id": "E7V4Ou9dyrA8"
      }
    },
    {
      "cell_type": "code",
      "source": [
        "\n",
        "plot_continuous_variable_distribution(adults_only_df, adults_only_df.bmi, \"bmi\", \"Population BMI Distribution\")"
      ],
      "metadata": {
        "id": "2L16u0Gxh01D",
        "outputId": "7bd25cbe-5618-48f0-92ec-475be170f68d",
        "colab": {
          "base_uri": "https://localhost:8080/",
          "height": 534
        }
      },
      "execution_count": 58,
      "outputs": [
        {
          "output_type": "display_data",
          "data": {
            "text/plain": [
              "<Figure size 504x504 with 1 Axes>"
            ],
            "image/png": "[encoded data removed]"
          },
          "metadata": {
            "needs_background": "light"
          }
        }
      ]
    },
    {
      "cell_type": "markdown",
      "source": [
        "The data from above might be better understood if we would classify the BMI value by what it represents i.e. underweight, normal, overweight etc."
      ],
      "metadata": {
        "id": "N_1m_3nsR0XQ"
      }
    },
    {
      "cell_type": "code",
      "source": [
        "stroke_df_with_bmi_categ = adults_only_df.copy()\n",
        "stroke_df_with_bmi_categ.bmi = adults_only_df.bmi.apply(identify_bmi_cathegory)\n",
        "\n",
        "bmi_categ_value_counts = stroke_df_with_bmi_categ.bmi.value_counts()\n",
        "\n",
        "plt.figure(figsize=(10,6))\n",
        "plt.title(\"Bmi by cathegory distribution among adults\")\n",
        "sns.barplot(x=bmi_categ_value_counts.index, y=bmi_categ_value_counts.array)\n",
        "plt.show()\n"
      ],
      "metadata": {
        "id": "mRGzRM1TPVFg",
        "outputId": "7f7ad240-e84d-45c1-ef29-6cb39d33f0bd",
        "colab": {
          "base_uri": "https://localhost:8080/",
          "height": 390
        }
      },
      "execution_count": 138,
      "outputs": [
        {
          "output_type": "display_data",
          "data": {
            "text/plain": [
              "<Figure size 720x432 with 1 Axes>"
            ],
            "image/png": "[encoded data removed]"
          },
          "metadata": {
            "needs_background": "light"
          }
        }
      ]
    },
    {
      "cell_type": "markdown",
      "source": [
        "The distrubution based on the BMI classifications is not very balanced, as is having more cases of overweight and obese people than people with normal weight. "
      ],
      "metadata": {
        "id": "v90VUMntBl-i"
      }
    },
    {
      "cell_type": "code",
      "source": [
        "\n",
        "plot_categorical_variable_stroke_ratio(stroke_df_with_bmi_categ, \"bmi\", \n",
        "                                       \"The ratio of adults having had a stroke,\\ncategorized by bmi status\")"
      ],
      "metadata": {
        "id": "83XLhh9BJIcY",
        "outputId": "c85d7b0d-6dbf-413d-ff41-bc496d6ee33f",
        "colab": {
          "base_uri": "https://localhost:8080/",
          "height": 431
        }
      },
      "execution_count": 131,
      "outputs": [
        {
          "output_type": "display_data",
          "data": {
            "text/plain": [
              "<Figure size 720x432 with 1 Axes>"
            ],
            "image/png": "[encoded data removed]"
          },
          "metadata": {
            "needs_background": "light"
          }
        }
      ]
    },
    {
      "cell_type": "markdown",
      "source": [
        "As expected, the adults with obesity are more likely to have a stroke."
      ],
      "metadata": {
        "id": "78ZTXetwOlUI"
      }
    },
    {
      "cell_type": "markdown",
      "source": [
        "Now let's analyze how the BMI values for children.\n",
        " "
      ],
      "metadata": {
        "id": "ySnwEvFcBI7z"
      }
    },
    {
      "cell_type": "code",
      "source": [
        "children_only_df = stroke_df.loc[stroke_df['age']<18]\n",
        "children_only_df.bmi.describe()\n",
        "\n"
      ],
      "metadata": {
        "id": "2LyAwjt32vjM",
        "outputId": "c28bd773-ace3-4d29-f3d6-6aa8aa182c2a",
        "colab": {
          "base_uri": "https://localhost:8080/"
        }
      },
      "execution_count": 140,
      "outputs": [
        {
          "output_type": "execute_result",
          "data": {
            "text/plain": [
              "count    836.000000\n",
              "mean      21.392703\n",
              "std        6.278310\n",
              "min       10.300000\n",
              "25%       17.600000\n",
              "50%       19.900000\n",
              "75%       23.500000\n",
              "max       97.600000\n",
              "Name: bmi, dtype: float64"
            ]
          },
          "metadata": {},
          "execution_count": 140
        }
      ]
    },
    {
      "cell_type": "markdown",
      "source": [
        "We can observe that the mean value for children is 21, which is less than the one for adults, as we should expect."
      ],
      "metadata": {
        "id": "2iDX9xI8D3Ze"
      }
    },
    {
      "cell_type": "code",
      "source": [
        "plot_continuous_variable_distribution(children_only_df, children_only_df.bmi, \"bmi\", \"Children BMI Distribution\")"
      ],
      "metadata": {
        "id": "iG7CmIoh3W_F",
        "outputId": "d539cd2d-c485-41f9-a7cd-166e80828024",
        "colab": {
          "base_uri": "https://localhost:8080/",
          "height": 534
        }
      },
      "execution_count": 141,
      "outputs": [
        {
          "output_type": "display_data",
          "data": {
            "text/plain": [
              "<Figure size 504x504 with 1 Axes>"
            ],
            "image/png": "[encoded data removed]"
          },
          "metadata": {
            "needs_background": "light"
          }
        }
      ]
    },
    {
      "cell_type": "markdown",
      "source": [
        "As expected, the whole distribution of bmi for children lays to the left, having in general smaller values for bmi than the values that we have for adults."
      ],
      "metadata": {
        "id": "NppxYZFVEKA9"
      }
    },
    {
      "cell_type": "markdown",
      "source": [
        "#### Smoking Status"
      ],
      "metadata": {
        "id": "RVtzuSBhQMhb"
      }
    },
    {
      "cell_type": "markdown",
      "source": [
        "This feature shows whether a person\n",
        "\n",
        "\n",
        "*   smokes\n",
        "*   formerly smoked\n",
        "*   never smoked\n",
        "*   their smoking status is unknown\n",
        "\n"
      ],
      "metadata": {
        "id": "glyJxIW-GDQS"
      }
    },
    {
      "cell_type": "code",
      "source": [
        "smoking_value_counts = stroke_df.smoking_status.value_counts()\n",
        "smoking_value_counts"
      ],
      "metadata": {
        "colab": {
          "base_uri": "https://localhost:8080/"
        },
        "id": "1e4cRVMBGCv2",
        "outputId": "edc3a46b-1ce8-49f1-ad00-6c9d74853596"
      },
      "execution_count": 80,
      "outputs": [
        {
          "output_type": "execute_result",
          "data": {
            "text/plain": [
              "never smoked       1892\n",
              "Unknown            1544\n",
              "formerly smoked     885\n",
              "smokes              789\n",
              "Name: smoking_status, dtype: int64"
            ]
          },
          "metadata": {},
          "execution_count": 80
        }
      ]
    },
    {
      "cell_type": "code",
      "source": [
        "explode = [0.05] * smoking_value_counts.count()\n",
        "plt.pie(smoking_value_counts.array, labels=smoking_value_counts.index, autopct = '%0.0f%%', explode = explode)\n",
        "plt.title(\"The Ratio of Population with different Smoking Status\")\n",
        "plt.show()"
      ],
      "metadata": {
        "colab": {
          "base_uri": "https://localhost:8080/",
          "height": 264
        },
        "id": "A1wIpENmGfNb",
        "outputId": "3da47685-e1d9-4c13-f4d9-d2cd14d412a2"
      },
      "execution_count": 81,
      "outputs": [
        {
          "output_type": "display_data",
          "data": {
            "text/plain": [
              "<Figure size 432x288 with 1 Axes>"
            ],
            "image/png": "[encoded data removed]"
          },
          "metadata": {}
        }
      ]
    },
    {
      "cell_type": "markdown",
      "source": [
        "We can see that 30% of the data is missing. We can't drop 30% of the data, so we should replace the 'Unknown' values somehow."
      ],
      "metadata": {
        "id": "Il47Xj52Gq7z"
      }
    },
    {
      "cell_type": "code",
      "source": [
        "plot_categorical_variable_stroke_ratio(stroke_df, \"smoking_status\", \"The ratio of peope having had a stroke,\\ncategorized by Smoking Status\", 3)"
      ],
      "metadata": {
        "id": "vM2zsLU-N6SU",
        "outputId": "4ebceb3f-3a68-4280-ca4e-b8e2436aa579",
        "colab": {
          "base_uri": "https://localhost:8080/",
          "height": 432
        }
      },
      "execution_count": 82,
      "outputs": [
        {
          "output_type": "display_data",
          "data": {
            "text/plain": [
              "<Figure size 432x432 with 1 Axes>"
            ],
            "image/png": "[encoded data removed]"
          },
          "metadata": {
            "needs_background": "light"
          }
        }
      ]
    },
    {
      "cell_type": "markdown",
      "source": [
        "Unexpectedly, the ratio of people who had a stroke is higher among former smokers than among current smokers. \n",
        "\n",
        "This may be explained by the facts that:\n",
        "\n",
        "\n",
        "*   those who have formerly smoked may be older\n",
        "*   many of those who are smoking now may have smoked for less time\n",
        "\n",
        "\n"
      ],
      "metadata": {
        "id": "M9o5Lk51Isxc"
      }
    },
    {
      "cell_type": "markdown",
      "source": [
        "### The label: Stroke"
      ],
      "metadata": {
        "id": "a4od9mdwQQHT"
      }
    },
    {
      "cell_type": "markdown",
      "source": [
        "The most imporant part is knowing the number of people that had stroke in our dataset, since this is what we are trying to predict."
      ],
      "metadata": {
        "id": "8dvPyZgmSYu1"
      }
    },
    {
      "cell_type": "code",
      "source": [
        "stroke_value_counts = stroke_df.stroke.value_counts()\n",
        "stroke_value_counts"
      ],
      "metadata": {
        "id": "pk5sHDvjSHp8",
        "outputId": "d8c6f3a6-eb19-4920-d64d-f5861fd3f1ee",
        "colab": {
          "base_uri": "https://localhost:8080/"
        }
      },
      "execution_count": 143,
      "outputs": [
        {
          "output_type": "execute_result",
          "data": {
            "text/plain": [
              "0    4861\n",
              "1     249\n",
              "Name: stroke, dtype: int64"
            ]
          },
          "metadata": {},
          "execution_count": 143
        }
      ]
    },
    {
      "cell_type": "code",
      "source": [
        "explode = [0.02,0.3]\n",
        "plt.pie(stroke_value_counts.array, labels=stroke_value_counts.index, autopct = '%0.0f%%', explode = explode)\n",
        "plt.show()"
      ],
      "metadata": {
        "id": "sZiWvwvvSSWl",
        "outputId": "0f3663b8-621d-4e5b-b68a-876c3dd4c67e",
        "colab": {
          "base_uri": "https://localhost:8080/",
          "height": 248
        }
      },
      "execution_count": 144,
      "outputs": [
        {
          "output_type": "display_data",
          "data": {
            "text/plain": [
              "<Figure size 432x288 with 1 Axes>"
            ],
            "image/png": "[encoded data removed]"
          },
          "metadata": {}
        }
      ]
    },
    {
      "cell_type": "markdown",
      "source": [
        "Only 5% of people in our dataset have had a stroke. "
      ],
      "metadata": {
        "id": "wJdcLf8QSi7K"
      }
    },
    {
      "cell_type": "markdown",
      "source": [
        "## Data Cleaning"
      ],
      "metadata": {
        "id": "82-1WbvKRCqY"
      }
    },
    {
      "cell_type": "markdown",
      "source": [
        "### Work Type"
      ],
      "metadata": {
        "id": "rx2Ai6xSRJh9"
      }
    },
    {
      "cell_type": "markdown",
      "source": [
        "### Body Mass Index"
      ],
      "metadata": {
        "id": "sB2eZUV_RL1v"
      }
    },
    {
      "cell_type": "markdown",
      "source": [
        "### Smoking Status"
      ],
      "metadata": {
        "id": "zkrwzoc4ROKu"
      }
    },
    {
      "cell_type": "markdown",
      "source": [
        "## Random code"
      ],
      "metadata": {
        "id": "Ah0pqhy8QU29"
      }
    },
    {
      "cell_type": "markdown",
      "source": [
        "TODO: delete this section"
      ],
      "metadata": {
        "id": "ObeDkbgGQcL3"
      }
    },
    {
      "cell_type": "code",
      "source": [
        "stroke_df.isnull().sum()"
      ],
      "metadata": {
        "id": "9HtUYtfaL7rZ",
        "outputId": "19fec561-6982-4c4e-dc2e-c43336a2bc5b",
        "colab": {
          "base_uri": "https://localhost:8080/"
        }
      },
      "execution_count": null,
      "outputs": [
        {
          "output_type": "execute_result",
          "data": {
            "text/plain": [
              "id                     0\n",
              "gender                 0\n",
              "age                    0\n",
              "hypertension           0\n",
              "heart_disease          0\n",
              "ever_married           0\n",
              "work_type              0\n",
              "residence_type         0\n",
              "avg_glucose_level      0\n",
              "bmi                  201\n",
              "smoking_status         0\n",
              "stroke                 0\n",
              "dtype: int64"
            ]
          },
          "metadata": {},
          "execution_count": 29
        }
      ]
    },
    {
      "cell_type": "code",
      "source": [
        "stroke_df.work_type.value_counts()"
      ],
      "metadata": {
        "colab": {
          "base_uri": "https://localhost:8080/"
        },
        "id": "N2TnFs1gvQR3",
        "outputId": "255d18bc-2d17-4b4e-e433-3ccd80ead64d"
      },
      "execution_count": null,
      "outputs": [
        {
          "output_type": "execute_result",
          "data": {
            "text/plain": [
              "Private          2925\n",
              "Self-employed     819\n",
              "children          687\n",
              "Govt_job          657\n",
              "Never_worked       22\n",
              "Name: work_type, dtype: int64"
            ]
          },
          "metadata": {},
          "execution_count": 30
        }
      ]
    },
    {
      "cell_type": "code",
      "source": [
        "stroke_df.age.map(lambda a: 1 if a >= 16 else 0).value_counts()"
      ],
      "metadata": {
        "colab": {
          "base_uri": "https://localhost:8080/"
        },
        "id": "f8Ffj9MLvmZZ",
        "outputId": "31e5d44f-8694-416d-9bc4-5265dd65a40b"
      },
      "execution_count": null,
      "outputs": [
        {
          "output_type": "execute_result",
          "data": {
            "text/plain": [
              "1    4366\n",
              "0     744\n",
              "Name: age, dtype: int64"
            ]
          },
          "metadata": {},
          "execution_count": 31
        }
      ]
    },
    {
      "cell_type": "code",
      "source": [
        "stroke_df[stroke_df[\"age\"]<16][stroke_df[\"work_type\"]!=\"children\"]"
      ],
      "metadata": {
        "colab": {
          "base_uri": "https://localhost:8080/",
          "height": 458
        },
        "id": "5ElmyHOZ0f1u",
        "outputId": "a1165a75-a2b1-48cc-b931-f53a11e7327d"
      },
      "execution_count": null,
      "outputs": [
        {
          "output_type": "stream",
          "name": "stderr",
          "text": [
            "/usr/local/lib/python3.7/dist-packages/ipykernel_launcher.py:1: UserWarning: Boolean Series key will be reindexed to match DataFrame index.\n",
            "  \"\"\"Entry point for launching an IPython kernel.\n"
          ]
        },
        {
          "output_type": "execute_result",
          "data": {
            "text/plain": [
              "         id  gender   age  hypertension  heart_disease ever_married  \\\n",
              "251   16523  Female   8.0             0              0           No   \n",
              "253   46136    Male  14.0             0              0           No   \n",
              "284   26325    Male  14.0             0              0           No   \n",
              "410   54975    Male   7.0             0              0           No   \n",
              "455    7351    Male  13.0             0              0           No   \n",
              "...     ...     ...   ...           ...            ...          ...   \n",
              "4709  41930    Male  15.0             0              0           No   \n",
              "4806  69723    Male  15.0             0              0           No   \n",
              "4903  56629  Female  14.0             0              0           No   \n",
              "4923  72186  Female  15.0             0              0           No   \n",
              "4981  61801    Male  15.0             0              0           No   \n",
              "\n",
              "          work_type residence_type  avg_glucose_level   bmi smoking_status  \\\n",
              "251         Private          Urban             110.89  17.6        Unknown   \n",
              "253    Never_worked          Rural             161.28  19.1        Unknown   \n",
              "284        Govt_job          Urban              82.34  31.6        Unknown   \n",
              "410   Self-employed          Rural              64.06  18.9        Unknown   \n",
              "455         Private          Urban              92.14  23.2   never smoked   \n",
              "...             ...            ...                ...   ...            ...   \n",
              "4709        Private          Rural             144.15  24.1   never smoked   \n",
              "4806        Private          Urban             137.27  19.3   never smoked   \n",
              "4903        Private          Rural              83.56  33.1        Unknown   \n",
              "4923        Private          Rural              82.19  40.5   never smoked   \n",
              "4981        Private          Urban              65.05  24.6        Unknown   \n",
              "\n",
              "      stroke  \n",
              "251        0  \n",
              "253        0  \n",
              "284        0  \n",
              "410        0  \n",
              "455        0  \n",
              "...      ...  \n",
              "4709       0  \n",
              "4806       0  \n",
              "4903       0  \n",
              "4923       0  \n",
              "4981       0  \n",
              "\n",
              "[68 rows x 12 columns]"
            ],
            "text/html": [
              "\n",
              "  <div id=\"df-10ffe623-3a9f-44c6-810d-47e0eaa5b242\">\n",
              "    <div class=\"colab-df-container\">\n",
              "      <div>\n",
              "<style scoped>\n",
              "    .dataframe tbody tr th:only-of-type {\n",
              "        vertical-align: middle;\n",
              "    }\n",
              "\n",
              "    .dataframe tbody tr th {\n",
              "        vertical-align: top;\n",
              "    }\n",
              "\n",
              "    .dataframe thead th {\n",
              "        text-align: right;\n",
              "    }\n",
              "</style>\n",
              "<table border=\"1\" class=\"dataframe\">\n",
              "  <thead>\n",
              "    <tr style=\"text-align: right;\">\n",
              "      <th></th>\n",
              "      <th>id</th>\n",
              "      <th>gender</th>\n",
              "      <th>age</th>\n",
              "      <th>hypertension</th>\n",
              "      <th>heart_disease</th>\n",
              "      <th>ever_married</th>\n",
              "      <th>work_type</th>\n",
              "      <th>residence_type</th>\n",
              "      <th>avg_glucose_level</th>\n",
              "      <th>bmi</th>\n",
              "      <th>smoking_status</th>\n",
              "      <th>stroke</th>\n",
              "    </tr>\n",
              "  </thead>\n",
              "  <tbody>\n",
              "    <tr>\n",
              "      <th>251</th>\n",
              "      <td>16523</td>\n",
              "      <td>Female</td>\n",
              "      <td>8.0</td>\n",
              "      <td>0</td>\n",
              "      <td>0</td>\n",
              "      <td>No</td>\n",
              "      <td>Private</td>\n",
              "      <td>Urban</td>\n",
              "      <td>110.89</td>\n",
              "      <td>17.6</td>\n",
              "      <td>Unknown</td>\n",
              "      <td>0</td>\n",
              "    </tr>\n",
              "    <tr>\n",
              "      <th>253</th>\n",
              "      <td>46136</td>\n",
              "      <td>Male</td>\n",
              "      <td>14.0</td>\n",
              "      <td>0</td>\n",
              "      <td>0</td>\n",
              "      <td>No</td>\n",
              "      <td>Never_worked</td>\n",
              "      <td>Rural</td>\n",
              "      <td>161.28</td>\n",
              "      <td>19.1</td>\n",
              "      <td>Unknown</td>\n",
              "      <td>0</td>\n",
              "    </tr>\n",
              "    <tr>\n",
              "      <th>284</th>\n",
              "      <td>26325</td>\n",
              "      <td>Male</td>\n",
              "      <td>14.0</td>\n",
              "      <td>0</td>\n",
              "      <td>0</td>\n",
              "      <td>No</td>\n",
              "      <td>Govt_job</td>\n",
              "      <td>Urban</td>\n",
              "      <td>82.34</td>\n",
              "      <td>31.6</td>\n",
              "      <td>Unknown</td>\n",
              "      <td>0</td>\n",
              "    </tr>\n",
              "    <tr>\n",
              "      <th>410</th>\n",
              "      <td>54975</td>\n",
              "      <td>Male</td>\n",
              "      <td>7.0</td>\n",
              "      <td>0</td>\n",
              "      <td>0</td>\n",
              "      <td>No</td>\n",
              "      <td>Self-employed</td>\n",
              "      <td>Rural</td>\n",
              "      <td>64.06</td>\n",
              "      <td>18.9</td>\n",
              "      <td>Unknown</td>\n",
              "      <td>0</td>\n",
              "    </tr>\n",
              "    <tr>\n",
              "      <th>455</th>\n",
              "      <td>7351</td>\n",
              "      <td>Male</td>\n",
              "      <td>13.0</td>\n",
              "      <td>0</td>\n",
              "      <td>0</td>\n",
              "      <td>No</td>\n",
              "      <td>Private</td>\n",
              "      <td>Urban</td>\n",
              "      <td>92.14</td>\n",
              "      <td>23.2</td>\n",
              "      <td>never smoked</td>\n",
              "      <td>0</td>\n",
              "    </tr>\n",
              "    <tr>\n",
              "      <th>...</th>\n",
              "      <td>...</td>\n",
              "      <td>...</td>\n",
              "      <td>...</td>\n",
              "      <td>...</td>\n",
              "      <td>...</td>\n",
              "      <td>...</td>\n",
              "      <td>...</td>\n",
              "      <td>...</td>\n",
              "      <td>...</td>\n",
              "      <td>...</td>\n",
              "      <td>...</td>\n",
              "      <td>...</td>\n",
              "    </tr>\n",
              "    <tr>\n",
              "      <th>4709</th>\n",
              "      <td>41930</td>\n",
              "      <td>Male</td>\n",
              "      <td>15.0</td>\n",
              "      <td>0</td>\n",
              "      <td>0</td>\n",
              "      <td>No</td>\n",
              "      <td>Private</td>\n",
              "      <td>Rural</td>\n",
              "      <td>144.15</td>\n",
              "      <td>24.1</td>\n",
              "      <td>never smoked</td>\n",
              "      <td>0</td>\n",
              "    </tr>\n",
              "    <tr>\n",
              "      <th>4806</th>\n",
              "      <td>69723</td>\n",
              "      <td>Male</td>\n",
              "      <td>15.0</td>\n",
              "      <td>0</td>\n",
              "      <td>0</td>\n",
              "      <td>No</td>\n",
              "      <td>Private</td>\n",
              "      <td>Urban</td>\n",
              "      <td>137.27</td>\n",
              "      <td>19.3</td>\n",
              "      <td>never smoked</td>\n",
              "      <td>0</td>\n",
              "    </tr>\n",
              "    <tr>\n",
              "      <th>4903</th>\n",
              "      <td>56629</td>\n",
              "      <td>Female</td>\n",
              "      <td>14.0</td>\n",
              "      <td>0</td>\n",
              "      <td>0</td>\n",
              "      <td>No</td>\n",
              "      <td>Private</td>\n",
              "      <td>Rural</td>\n",
              "      <td>83.56</td>\n",
              "      <td>33.1</td>\n",
              "      <td>Unknown</td>\n",
              "      <td>0</td>\n",
              "    </tr>\n",
              "    <tr>\n",
              "      <th>4923</th>\n",
              "      <td>72186</td>\n",
              "      <td>Female</td>\n",
              "      <td>15.0</td>\n",
              "      <td>0</td>\n",
              "      <td>0</td>\n",
              "      <td>No</td>\n",
              "      <td>Private</td>\n",
              "      <td>Rural</td>\n",
              "      <td>82.19</td>\n",
              "      <td>40.5</td>\n",
              "      <td>never smoked</td>\n",
              "      <td>0</td>\n",
              "    </tr>\n",
              "    <tr>\n",
              "      <th>4981</th>\n",
              "      <td>61801</td>\n",
              "      <td>Male</td>\n",
              "      <td>15.0</td>\n",
              "      <td>0</td>\n",
              "      <td>0</td>\n",
              "      <td>No</td>\n",
              "      <td>Private</td>\n",
              "      <td>Urban</td>\n",
              "      <td>65.05</td>\n",
              "      <td>24.6</td>\n",
              "      <td>Unknown</td>\n",
              "      <td>0</td>\n",
              "    </tr>\n",
              "  </tbody>\n",
              "</table>\n",
              "<p>68 rows × 12 columns</p>\n",
              "</div>\n",
              "      <button class=\"colab-df-convert\" onclick=\"convertToInteractive('df-10ffe623-3a9f-44c6-810d-47e0eaa5b242')\"\n",
              "              title=\"Convert this dataframe to an interactive table.\"\n",
              "              style=\"display:none;\">\n",
              "        \n",
              "  <svg xmlns=\"http://www.w3.org/2000/svg\" height=\"24px\"viewBox=\"0 0 24 24\"\n",
              "       width=\"24px\">\n",
              "    <path d=\"M0 0h24v24H0V0z\" fill=\"none\"/>\n",
              "    <path d=\"M18.56 5.44l.94 2.06.94-2.06 2.06-.94-2.06-.94-.94-2.06-.94 2.06-2.06.94zm-11 1L8.5 8.5l.94-2.06 2.06-.94-2.06-.94L8.5 2.5l-.94 2.06-2.06.94zm10 10l.94 2.06.94-2.06 2.06-.94-2.06-.94-.94-2.06-.94 2.06-2.06.94z\"/><path d=\"M17.41 7.96l-1.37-1.37c-.4-.4-.92-.59-1.43-.59-.52 0-1.04.2-1.43.59L10.3 9.45l-7.72 7.72c-.78.78-.78 2.05 0 2.83L4 21.41c.39.39.9.59 1.41.59.51 0 1.02-.2 1.41-.59l7.78-7.78 2.81-2.81c.8-.78.8-2.07 0-2.86zM5.41 20L4 18.59l7.72-7.72 1.47 1.35L5.41 20z\"/>\n",
              "  </svg>\n",
              "      </button>\n",
              "      \n",
              "  <style>\n",
              "    .colab-df-container {\n",
              "      display:flex;\n",
              "      flex-wrap:wrap;\n",
              "      gap: 12px;\n",
              "    }\n",
              "\n",
              "    .colab-df-convert {\n",
              "      background-color: #E8F0FE;\n",
              "      border: none;\n",
              "      border-radius: 50%;\n",
              "      cursor: pointer;\n",
              "      display: none;\n",
              "      fill: #1967D2;\n",
              "      height: 32px;\n",
              "      padding: 0 0 0 0;\n",
              "      width: 32px;\n",
              "    }\n",
              "\n",
              "    .colab-df-convert:hover {\n",
              "      background-color: #E2EBFA;\n",
              "      box-shadow: 0px 1px 2px rgba(60, 64, 67, 0.3), 0px 1px 3px 1px rgba(60, 64, 67, 0.15);\n",
              "      fill: #174EA6;\n",
              "    }\n",
              "\n",
              "    [theme=dark] .colab-df-convert {\n",
              "      background-color: #3B4455;\n",
              "      fill: #D2E3FC;\n",
              "    }\n",
              "\n",
              "    [theme=dark] .colab-df-convert:hover {\n",
              "      background-color: #434B5C;\n",
              "      box-shadow: 0px 1px 3px 1px rgba(0, 0, 0, 0.15);\n",
              "      filter: drop-shadow(0px 1px 2px rgba(0, 0, 0, 0.3));\n",
              "      fill: #FFFFFF;\n",
              "    }\n",
              "  </style>\n",
              "\n",
              "      <script>\n",
              "        const buttonEl =\n",
              "          document.querySelector('#df-10ffe623-3a9f-44c6-810d-47e0eaa5b242 button.colab-df-convert');\n",
              "        buttonEl.style.display =\n",
              "          google.colab.kernel.accessAllowed ? 'block' : 'none';\n",
              "\n",
              "        async function convertToInteractive(key) {\n",
              "          const element = document.querySelector('#df-10ffe623-3a9f-44c6-810d-47e0eaa5b242');\n",
              "          const dataTable =\n",
              "            await google.colab.kernel.invokeFunction('convertToInteractive',\n",
              "                                                     [key], {});\n",
              "          if (!dataTable) return;\n",
              "\n",
              "          const docLinkHtml = 'Like what you see? Visit the ' +\n",
              "            '<a target=\"_blank\" href=https://colab.research.google.com/notebooks/data_table.ipynb>data table notebook</a>'\n",
              "            + ' to learn more about interactive tables.';\n",
              "          element.innerHTML = '';\n",
              "          dataTable['output_type'] = 'display_data';\n",
              "          await google.colab.output.renderOutput(dataTable, element);\n",
              "          const docLink = document.createElement('div');\n",
              "          docLink.innerHTML = docLinkHtml;\n",
              "          element.appendChild(docLink);\n",
              "        }\n",
              "      </script>\n",
              "    </div>\n",
              "  </div>\n",
              "  "
            ]
          },
          "metadata": {},
          "execution_count": 32
        }
      ]
    }
  ]
}