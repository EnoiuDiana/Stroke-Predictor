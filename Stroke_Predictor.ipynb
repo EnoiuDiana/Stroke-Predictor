{
  "nbformat": 4,
  "nbformat_minor": 0,
  "metadata": {
    "colab": {
      "name": "Stroke-Predictor.ipynb",
      "provenance": [],
      "collapsed_sections": [],
      "toc_visible": true,
      "include_colab_link": true
    },
    "kernelspec": {
      "name": "python3",
      "display_name": "Python 3"
    },
    "language_info": {
      "name": "python"
    }
  },
  "cells": [
    {
      "cell_type": "markdown",
      "metadata": {
        "id": "view-in-github",
        "colab_type": "text"
      },
      "source": [
        "<a href=\"https://colab.research.google.com/github/EnoiuDiana/Stroke-Predictor/blob/bori_dev/Stroke_Predictor.ipynb\" target=\"_parent\"><img src=\"https://colab.research.google.com/assets/colab-badge.svg\" alt=\"Open In Colab\"/></a>"
      ]
    },
    {
      "cell_type": "markdown",
      "source": [
        "# Stroke Prediction based on medical and demographical data"
      ],
      "metadata": {
        "id": "sA2mv91AKteu"
      }
    },
    {
      "cell_type": "markdown",
      "source": [
        "## Problem Statement"
      ],
      "metadata": {
        "id": "htp5B9D_PODY"
      }
    },
    {
      "cell_type": "markdown",
      "source": [
        "TODO: nice description of what we want to do, why this is relevant, etc."
      ],
      "metadata": {
        "id": "QlbSqGDdPRPT"
      }
    },
    {
      "cell_type": "markdown",
      "source": [
        "## Dataset"
      ],
      "metadata": {
        "id": "26sZKpSVDJum"
      }
    },
    {
      "cell_type": "markdown",
      "source": [
        "\n",
        "\n",
        "*   [source](https://https://www.kaggle.com/datasets/fedesoriano/stroke-prediction-dataset)\n",
        "*   each entry represents one person\n",
        "*   label, to be predicted: whether a person is likely to have a stroke\n",
        "\n"
      ],
      "metadata": {
        "id": "yYv2OY8CDNUC"
      }
    },
    {
      "cell_type": "markdown",
      "source": [
        "## Setup"
      ],
      "metadata": {
        "id": "P8QXe2JhK556"
      }
    },
    {
      "cell_type": "code",
      "source": [
        "# imports\n",
        "import pandas as pd\n",
        "import matplotlib.pyplot as plt\n",
        "import seaborn as sns\n",
        "import numpy as np\n",
        "import math\n",
        "from sklearn import tree\n",
        "from sklearn.tree import DecisionTreeClassifier\n",
        "from sklearn.preprocessing import LabelEncoder\n",
        "from sklearn import preprocessing\n",
        "from sklearn.model_selection import train_test_split\n",
        "from sklearn.metrics import classification_report\n",
        "from sklearn.ensemble import RandomForestRegressor\n",
        "from sklearn.metrics import mean_absolute_error\n",
        "from sklearn.impute import SimpleImputer\n",
        "from sklearn.preprocessing import OneHotEncoder\n",
        "from sklearn.ensemble import RandomForestClassifier"
      ],
      "metadata": {
        "id": "uk5cxiuPL_Bt"
      },
      "execution_count": 368,
      "outputs": []
    },
    {
      "cell_type": "code",
      "source": [
        "def_plot_length = 7\n",
        "def_fig_size = (def_plot_length, def_plot_length)\n",
        "def_title_size = 20\n",
        "random_state = 42"
      ],
      "metadata": {
        "id": "mN95NaRZnHl0"
      },
      "execution_count": 369,
      "outputs": []
    },
    {
      "cell_type": "markdown",
      "source": [
        "### Data Gathering"
      ],
      "metadata": {
        "id": "UB4xoJZ86Fa2"
      }
    },
    {
      "cell_type": "code",
      "execution_count": 370,
      "metadata": {
        "id": "ih1-apS2ua_U"
      },
      "outputs": [],
      "source": [
        "file_path = \"https://drive.google.com/file/d/1x3Vu2Egi5LIvd0jkHnZKeBx-Ye0l8sTr/view?usp=sharing\"\n",
        "file_path ='https://drive.google.com/uc?id=' + file_path.split('/')[-2]\n",
        "stroke_df = pd.read_csv(file_path)"
      ]
    },
    {
      "cell_type": "code",
      "source": [
        "stroke_df = stroke_df.rename(str.lower, axis='columns')\n",
        "stroke_df.head()"
      ],
      "metadata": {
        "colab": {
          "base_uri": "https://localhost:8080/",
          "height": 206
        },
        "id": "ZkKTpsIg1Tdn",
        "outputId": "abfdbe23-8940-4bb9-dd80-e99a393c5645"
      },
      "execution_count": 371,
      "outputs": [
        {
          "output_type": "execute_result",
          "data": {
            "text/plain": [
              "      id  gender   age  hypertension  heart_disease ever_married  \\\n",
              "0   9046    Male  67.0             0              1          Yes   \n",
              "1  51676  Female  61.0             0              0          Yes   \n",
              "2  31112    Male  80.0             0              1          Yes   \n",
              "3  60182  Female  49.0             0              0          Yes   \n",
              "4   1665  Female  79.0             1              0          Yes   \n",
              "\n",
              "       work_type residence_type  avg_glucose_level   bmi   smoking_status  \\\n",
              "0        Private          Urban             228.69  36.6  formerly smoked   \n",
              "1  Self-employed          Rural             202.21   NaN     never smoked   \n",
              "2        Private          Rural             105.92  32.5     never smoked   \n",
              "3        Private          Urban             171.23  34.4           smokes   \n",
              "4  Self-employed          Rural             174.12  24.0     never smoked   \n",
              "\n",
              "   stroke  \n",
              "0       1  \n",
              "1       1  \n",
              "2       1  \n",
              "3       1  \n",
              "4       1  "
            ],
            "text/html": [
              "\n",
              "  <div id=\"df-6b07bfc6-43bb-4e86-b9c2-de3d4d643a50\">\n",
              "    <div class=\"colab-df-container\">\n",
              "      <div>\n",
              "<style scoped>\n",
              "    .dataframe tbody tr th:only-of-type {\n",
              "        vertical-align: middle;\n",
              "    }\n",
              "\n",
              "    .dataframe tbody tr th {\n",
              "        vertical-align: top;\n",
              "    }\n",
              "\n",
              "    .dataframe thead th {\n",
              "        text-align: right;\n",
              "    }\n",
              "</style>\n",
              "<table border=\"1\" class=\"dataframe\">\n",
              "  <thead>\n",
              "    <tr style=\"text-align: right;\">\n",
              "      <th></th>\n",
              "      <th>id</th>\n",
              "      <th>gender</th>\n",
              "      <th>age</th>\n",
              "      <th>hypertension</th>\n",
              "      <th>heart_disease</th>\n",
              "      <th>ever_married</th>\n",
              "      <th>work_type</th>\n",
              "      <th>residence_type</th>\n",
              "      <th>avg_glucose_level</th>\n",
              "      <th>bmi</th>\n",
              "      <th>smoking_status</th>\n",
              "      <th>stroke</th>\n",
              "    </tr>\n",
              "  </thead>\n",
              "  <tbody>\n",
              "    <tr>\n",
              "      <th>0</th>\n",
              "      <td>9046</td>\n",
              "      <td>Male</td>\n",
              "      <td>67.0</td>\n",
              "      <td>0</td>\n",
              "      <td>1</td>\n",
              "      <td>Yes</td>\n",
              "      <td>Private</td>\n",
              "      <td>Urban</td>\n",
              "      <td>228.69</td>\n",
              "      <td>36.6</td>\n",
              "      <td>formerly smoked</td>\n",
              "      <td>1</td>\n",
              "    </tr>\n",
              "    <tr>\n",
              "      <th>1</th>\n",
              "      <td>51676</td>\n",
              "      <td>Female</td>\n",
              "      <td>61.0</td>\n",
              "      <td>0</td>\n",
              "      <td>0</td>\n",
              "      <td>Yes</td>\n",
              "      <td>Self-employed</td>\n",
              "      <td>Rural</td>\n",
              "      <td>202.21</td>\n",
              "      <td>NaN</td>\n",
              "      <td>never smoked</td>\n",
              "      <td>1</td>\n",
              "    </tr>\n",
              "    <tr>\n",
              "      <th>2</th>\n",
              "      <td>31112</td>\n",
              "      <td>Male</td>\n",
              "      <td>80.0</td>\n",
              "      <td>0</td>\n",
              "      <td>1</td>\n",
              "      <td>Yes</td>\n",
              "      <td>Private</td>\n",
              "      <td>Rural</td>\n",
              "      <td>105.92</td>\n",
              "      <td>32.5</td>\n",
              "      <td>never smoked</td>\n",
              "      <td>1</td>\n",
              "    </tr>\n",
              "    <tr>\n",
              "      <th>3</th>\n",
              "      <td>60182</td>\n",
              "      <td>Female</td>\n",
              "      <td>49.0</td>\n",
              "      <td>0</td>\n",
              "      <td>0</td>\n",
              "      <td>Yes</td>\n",
              "      <td>Private</td>\n",
              "      <td>Urban</td>\n",
              "      <td>171.23</td>\n",
              "      <td>34.4</td>\n",
              "      <td>smokes</td>\n",
              "      <td>1</td>\n",
              "    </tr>\n",
              "    <tr>\n",
              "      <th>4</th>\n",
              "      <td>1665</td>\n",
              "      <td>Female</td>\n",
              "      <td>79.0</td>\n",
              "      <td>1</td>\n",
              "      <td>0</td>\n",
              "      <td>Yes</td>\n",
              "      <td>Self-employed</td>\n",
              "      <td>Rural</td>\n",
              "      <td>174.12</td>\n",
              "      <td>24.0</td>\n",
              "      <td>never smoked</td>\n",
              "      <td>1</td>\n",
              "    </tr>\n",
              "  </tbody>\n",
              "</table>\n",
              "</div>\n",
              "      <button class=\"colab-df-convert\" onclick=\"convertToInteractive('df-6b07bfc6-43bb-4e86-b9c2-de3d4d643a50')\"\n",
              "              title=\"Convert this dataframe to an interactive table.\"\n",
              "              style=\"display:none;\">\n",
              "        \n",
              "  <svg xmlns=\"http://www.w3.org/2000/svg\" height=\"24px\"viewBox=\"0 0 24 24\"\n",
              "       width=\"24px\">\n",
              "    <path d=\"M0 0h24v24H0V0z\" fill=\"none\"/>\n",
              "    <path d=\"M18.56 5.44l.94 2.06.94-2.06 2.06-.94-2.06-.94-.94-2.06-.94 2.06-2.06.94zm-11 1L8.5 8.5l.94-2.06 2.06-.94-2.06-.94L8.5 2.5l-.94 2.06-2.06.94zm10 10l.94 2.06.94-2.06 2.06-.94-2.06-.94-.94-2.06-.94 2.06-2.06.94z\"/><path d=\"M17.41 7.96l-1.37-1.37c-.4-.4-.92-.59-1.43-.59-.52 0-1.04.2-1.43.59L10.3 9.45l-7.72 7.72c-.78.78-.78 2.05 0 2.83L4 21.41c.39.39.9.59 1.41.59.51 0 1.02-.2 1.41-.59l7.78-7.78 2.81-2.81c.8-.78.8-2.07 0-2.86zM5.41 20L4 18.59l7.72-7.72 1.47 1.35L5.41 20z\"/>\n",
              "  </svg>\n",
              "      </button>\n",
              "      \n",
              "  <style>\n",
              "    .colab-df-container {\n",
              "      display:flex;\n",
              "      flex-wrap:wrap;\n",
              "      gap: 12px;\n",
              "    }\n",
              "\n",
              "    .colab-df-convert {\n",
              "      background-color: #E8F0FE;\n",
              "      border: none;\n",
              "      border-radius: 50%;\n",
              "      cursor: pointer;\n",
              "      display: none;\n",
              "      fill: #1967D2;\n",
              "      height: 32px;\n",
              "      padding: 0 0 0 0;\n",
              "      width: 32px;\n",
              "    }\n",
              "\n",
              "    .colab-df-convert:hover {\n",
              "      background-color: #E2EBFA;\n",
              "      box-shadow: 0px 1px 2px rgba(60, 64, 67, 0.3), 0px 1px 3px 1px rgba(60, 64, 67, 0.15);\n",
              "      fill: #174EA6;\n",
              "    }\n",
              "\n",
              "    [theme=dark] .colab-df-convert {\n",
              "      background-color: #3B4455;\n",
              "      fill: #D2E3FC;\n",
              "    }\n",
              "\n",
              "    [theme=dark] .colab-df-convert:hover {\n",
              "      background-color: #434B5C;\n",
              "      box-shadow: 0px 1px 3px 1px rgba(0, 0, 0, 0.15);\n",
              "      filter: drop-shadow(0px 1px 2px rgba(0, 0, 0, 0.3));\n",
              "      fill: #FFFFFF;\n",
              "    }\n",
              "  </style>\n",
              "\n",
              "      <script>\n",
              "        const buttonEl =\n",
              "          document.querySelector('#df-6b07bfc6-43bb-4e86-b9c2-de3d4d643a50 button.colab-df-convert');\n",
              "        buttonEl.style.display =\n",
              "          google.colab.kernel.accessAllowed ? 'block' : 'none';\n",
              "\n",
              "        async function convertToInteractive(key) {\n",
              "          const element = document.querySelector('#df-6b07bfc6-43bb-4e86-b9c2-de3d4d643a50');\n",
              "          const dataTable =\n",
              "            await google.colab.kernel.invokeFunction('convertToInteractive',\n",
              "                                                     [key], {});\n",
              "          if (!dataTable) return;\n",
              "\n",
              "          const docLinkHtml = 'Like what you see? Visit the ' +\n",
              "            '<a target=\"_blank\" href=https://colab.research.google.com/notebooks/data_table.ipynb>data table notebook</a>'\n",
              "            + ' to learn more about interactive tables.';\n",
              "          element.innerHTML = '';\n",
              "          dataTable['output_type'] = 'display_data';\n",
              "          await google.colab.output.renderOutput(dataTable, element);\n",
              "          const docLink = document.createElement('div');\n",
              "          docLink.innerHTML = docLinkHtml;\n",
              "          element.appendChild(docLink);\n",
              "        }\n",
              "      </script>\n",
              "    </div>\n",
              "  </div>\n",
              "  "
            ]
          },
          "metadata": {},
          "execution_count": 371
        }
      ]
    },
    {
      "cell_type": "markdown",
      "source": [
        "### Train-Test Split"
      ],
      "metadata": {
        "id": "NGWa-U9k5_Fh"
      }
    },
    {
      "cell_type": "markdown",
      "source": [
        "\n",
        "\n",
        "*   **stroke_df**: dataframe used for training and validation\n",
        "*   **stroke_test_df**: dataframe used for testing. Not used in the decision processer related to model training\n",
        "\n"
      ],
      "metadata": {
        "id": "0ZO40drn6VEQ"
      }
    },
    {
      "cell_type": "code",
      "source": [
        "X = stroke_df.drop(columns=['stroke'])\n",
        "y = stroke_df.stroke"
      ],
      "metadata": {
        "id": "a3N03cWz4KK6"
      },
      "execution_count": 372,
      "outputs": []
    },
    {
      "cell_type": "code",
      "source": [
        "X_stroke_tv_df, X_stroke_test_df, y_stroke_tv_df, y_stroke_test_df = train_test_split(X, y, test_size=0.2, random_state=random_state, stratify=y)"
      ],
      "metadata": {
        "id": "11cHJeF05WXz"
      },
      "execution_count": 373,
      "outputs": []
    },
    {
      "cell_type": "code",
      "source": [
        "X_stroke_tv_df.shape"
      ],
      "metadata": {
        "id": "JIHxP-Yz50rY",
        "outputId": "280b6561-3801-40fc-c783-bcf47acfce6d",
        "colab": {
          "base_uri": "https://localhost:8080/"
        }
      },
      "execution_count": 374,
      "outputs": [
        {
          "output_type": "execute_result",
          "data": {
            "text/plain": [
              "(4088, 11)"
            ]
          },
          "metadata": {},
          "execution_count": 374
        }
      ]
    },
    {
      "cell_type": "code",
      "source": [
        "X_stroke_test_df.shape"
      ],
      "metadata": {
        "id": "mIeI6DSV54o0",
        "outputId": "36c44b48-4387-4bd2-a04a-2d3c6ddd6ce5",
        "colab": {
          "base_uri": "https://localhost:8080/"
        }
      },
      "execution_count": 375,
      "outputs": [
        {
          "output_type": "execute_result",
          "data": {
            "text/plain": [
              "(1022, 11)"
            ]
          },
          "metadata": {},
          "execution_count": 375
        }
      ]
    },
    {
      "cell_type": "code",
      "source": [
        "stroke_df = pd.concat([X_stroke_tv_df, y_stroke_tv_df], axis = 1)\n",
        "stroke_df.head()"
      ],
      "metadata": {
        "id": "jJ-FFqfT6SQ4",
        "outputId": "624584c9-cce1-4755-8e44-7282a96cb539",
        "colab": {
          "base_uri": "https://localhost:8080/",
          "height": 206
        }
      },
      "execution_count": 376,
      "outputs": [
        {
          "output_type": "execute_result",
          "data": {
            "text/plain": [
              "         id  gender   age  hypertension  heart_disease ever_married  \\\n",
              "845   25283  Female  48.0             0              0          Yes   \n",
              "3744  43734    Male  15.0             0              0           No   \n",
              "4183  47113  Female  67.0             0              0          Yes   \n",
              "3409  56996    Male  44.0             0              0          Yes   \n",
              "284   26325    Male  14.0             0              0           No   \n",
              "\n",
              "          work_type residence_type  avg_glucose_level   bmi smoking_status  \\\n",
              "845         Private          Urban              69.21  33.1   never smoked   \n",
              "3744        Private          Rural             122.25  21.0   never smoked   \n",
              "4183  Self-employed          Rural             110.42  24.9   never smoked   \n",
              "3409        Private          Urban              65.41  24.8         smokes   \n",
              "284        Govt_job          Urban              82.34  31.6        Unknown   \n",
              "\n",
              "      stroke  \n",
              "845        0  \n",
              "3744       0  \n",
              "4183       0  \n",
              "3409       0  \n",
              "284        0  "
            ],
            "text/html": [
              "\n",
              "  <div id=\"df-bf042bc6-4505-4fb6-8365-a92537d5533f\">\n",
              "    <div class=\"colab-df-container\">\n",
              "      <div>\n",
              "<style scoped>\n",
              "    .dataframe tbody tr th:only-of-type {\n",
              "        vertical-align: middle;\n",
              "    }\n",
              "\n",
              "    .dataframe tbody tr th {\n",
              "        vertical-align: top;\n",
              "    }\n",
              "\n",
              "    .dataframe thead th {\n",
              "        text-align: right;\n",
              "    }\n",
              "</style>\n",
              "<table border=\"1\" class=\"dataframe\">\n",
              "  <thead>\n",
              "    <tr style=\"text-align: right;\">\n",
              "      <th></th>\n",
              "      <th>id</th>\n",
              "      <th>gender</th>\n",
              "      <th>age</th>\n",
              "      <th>hypertension</th>\n",
              "      <th>heart_disease</th>\n",
              "      <th>ever_married</th>\n",
              "      <th>work_type</th>\n",
              "      <th>residence_type</th>\n",
              "      <th>avg_glucose_level</th>\n",
              "      <th>bmi</th>\n",
              "      <th>smoking_status</th>\n",
              "      <th>stroke</th>\n",
              "    </tr>\n",
              "  </thead>\n",
              "  <tbody>\n",
              "    <tr>\n",
              "      <th>845</th>\n",
              "      <td>25283</td>\n",
              "      <td>Female</td>\n",
              "      <td>48.0</td>\n",
              "      <td>0</td>\n",
              "      <td>0</td>\n",
              "      <td>Yes</td>\n",
              "      <td>Private</td>\n",
              "      <td>Urban</td>\n",
              "      <td>69.21</td>\n",
              "      <td>33.1</td>\n",
              "      <td>never smoked</td>\n",
              "      <td>0</td>\n",
              "    </tr>\n",
              "    <tr>\n",
              "      <th>3744</th>\n",
              "      <td>43734</td>\n",
              "      <td>Male</td>\n",
              "      <td>15.0</td>\n",
              "      <td>0</td>\n",
              "      <td>0</td>\n",
              "      <td>No</td>\n",
              "      <td>Private</td>\n",
              "      <td>Rural</td>\n",
              "      <td>122.25</td>\n",
              "      <td>21.0</td>\n",
              "      <td>never smoked</td>\n",
              "      <td>0</td>\n",
              "    </tr>\n",
              "    <tr>\n",
              "      <th>4183</th>\n",
              "      <td>47113</td>\n",
              "      <td>Female</td>\n",
              "      <td>67.0</td>\n",
              "      <td>0</td>\n",
              "      <td>0</td>\n",
              "      <td>Yes</td>\n",
              "      <td>Self-employed</td>\n",
              "      <td>Rural</td>\n",
              "      <td>110.42</td>\n",
              "      <td>24.9</td>\n",
              "      <td>never smoked</td>\n",
              "      <td>0</td>\n",
              "    </tr>\n",
              "    <tr>\n",
              "      <th>3409</th>\n",
              "      <td>56996</td>\n",
              "      <td>Male</td>\n",
              "      <td>44.0</td>\n",
              "      <td>0</td>\n",
              "      <td>0</td>\n",
              "      <td>Yes</td>\n",
              "      <td>Private</td>\n",
              "      <td>Urban</td>\n",
              "      <td>65.41</td>\n",
              "      <td>24.8</td>\n",
              "      <td>smokes</td>\n",
              "      <td>0</td>\n",
              "    </tr>\n",
              "    <tr>\n",
              "      <th>284</th>\n",
              "      <td>26325</td>\n",
              "      <td>Male</td>\n",
              "      <td>14.0</td>\n",
              "      <td>0</td>\n",
              "      <td>0</td>\n",
              "      <td>No</td>\n",
              "      <td>Govt_job</td>\n",
              "      <td>Urban</td>\n",
              "      <td>82.34</td>\n",
              "      <td>31.6</td>\n",
              "      <td>Unknown</td>\n",
              "      <td>0</td>\n",
              "    </tr>\n",
              "  </tbody>\n",
              "</table>\n",
              "</div>\n",
              "      <button class=\"colab-df-convert\" onclick=\"convertToInteractive('df-bf042bc6-4505-4fb6-8365-a92537d5533f')\"\n",
              "              title=\"Convert this dataframe to an interactive table.\"\n",
              "              style=\"display:none;\">\n",
              "        \n",
              "  <svg xmlns=\"http://www.w3.org/2000/svg\" height=\"24px\"viewBox=\"0 0 24 24\"\n",
              "       width=\"24px\">\n",
              "    <path d=\"M0 0h24v24H0V0z\" fill=\"none\"/>\n",
              "    <path d=\"M18.56 5.44l.94 2.06.94-2.06 2.06-.94-2.06-.94-.94-2.06-.94 2.06-2.06.94zm-11 1L8.5 8.5l.94-2.06 2.06-.94-2.06-.94L8.5 2.5l-.94 2.06-2.06.94zm10 10l.94 2.06.94-2.06 2.06-.94-2.06-.94-.94-2.06-.94 2.06-2.06.94z\"/><path d=\"M17.41 7.96l-1.37-1.37c-.4-.4-.92-.59-1.43-.59-.52 0-1.04.2-1.43.59L10.3 9.45l-7.72 7.72c-.78.78-.78 2.05 0 2.83L4 21.41c.39.39.9.59 1.41.59.51 0 1.02-.2 1.41-.59l7.78-7.78 2.81-2.81c.8-.78.8-2.07 0-2.86zM5.41 20L4 18.59l7.72-7.72 1.47 1.35L5.41 20z\"/>\n",
              "  </svg>\n",
              "      </button>\n",
              "      \n",
              "  <style>\n",
              "    .colab-df-container {\n",
              "      display:flex;\n",
              "      flex-wrap:wrap;\n",
              "      gap: 12px;\n",
              "    }\n",
              "\n",
              "    .colab-df-convert {\n",
              "      background-color: #E8F0FE;\n",
              "      border: none;\n",
              "      border-radius: 50%;\n",
              "      cursor: pointer;\n",
              "      display: none;\n",
              "      fill: #1967D2;\n",
              "      height: 32px;\n",
              "      padding: 0 0 0 0;\n",
              "      width: 32px;\n",
              "    }\n",
              "\n",
              "    .colab-df-convert:hover {\n",
              "      background-color: #E2EBFA;\n",
              "      box-shadow: 0px 1px 2px rgba(60, 64, 67, 0.3), 0px 1px 3px 1px rgba(60, 64, 67, 0.15);\n",
              "      fill: #174EA6;\n",
              "    }\n",
              "\n",
              "    [theme=dark] .colab-df-convert {\n",
              "      background-color: #3B4455;\n",
              "      fill: #D2E3FC;\n",
              "    }\n",
              "\n",
              "    [theme=dark] .colab-df-convert:hover {\n",
              "      background-color: #434B5C;\n",
              "      box-shadow: 0px 1px 3px 1px rgba(0, 0, 0, 0.15);\n",
              "      filter: drop-shadow(0px 1px 2px rgba(0, 0, 0, 0.3));\n",
              "      fill: #FFFFFF;\n",
              "    }\n",
              "  </style>\n",
              "\n",
              "      <script>\n",
              "        const buttonEl =\n",
              "          document.querySelector('#df-bf042bc6-4505-4fb6-8365-a92537d5533f button.colab-df-convert');\n",
              "        buttonEl.style.display =\n",
              "          google.colab.kernel.accessAllowed ? 'block' : 'none';\n",
              "\n",
              "        async function convertToInteractive(key) {\n",
              "          const element = document.querySelector('#df-bf042bc6-4505-4fb6-8365-a92537d5533f');\n",
              "          const dataTable =\n",
              "            await google.colab.kernel.invokeFunction('convertToInteractive',\n",
              "                                                     [key], {});\n",
              "          if (!dataTable) return;\n",
              "\n",
              "          const docLinkHtml = 'Like what you see? Visit the ' +\n",
              "            '<a target=\"_blank\" href=https://colab.research.google.com/notebooks/data_table.ipynb>data table notebook</a>'\n",
              "            + ' to learn more about interactive tables.';\n",
              "          element.innerHTML = '';\n",
              "          dataTable['output_type'] = 'display_data';\n",
              "          await google.colab.output.renderOutput(dataTable, element);\n",
              "          const docLink = document.createElement('div');\n",
              "          docLink.innerHTML = docLinkHtml;\n",
              "          element.appendChild(docLink);\n",
              "        }\n",
              "      </script>\n",
              "    </div>\n",
              "  </div>\n",
              "  "
            ]
          },
          "metadata": {},
          "execution_count": 376
        }
      ]
    },
    {
      "cell_type": "code",
      "source": [
        "stroke_test_df = pd.concat([X_stroke_test_df, y_stroke_test_df], axis = 1)"
      ],
      "metadata": {
        "id": "WwPGQznn7aKm"
      },
      "execution_count": 377,
      "outputs": []
    },
    {
      "cell_type": "code",
      "source": [
        "print(\"Stroke ratio in train-test dataframe: \", stroke_df[stroke_df.stroke == 1].shape[0] / stroke_df.shape[0])"
      ],
      "metadata": {
        "id": "FKvJh3Aw7h78",
        "outputId": "32128c3b-8f33-430c-b7d1-ac1fca16df50",
        "colab": {
          "base_uri": "https://localhost:8080/"
        }
      },
      "execution_count": 378,
      "outputs": [
        {
          "output_type": "stream",
          "name": "stdout",
          "text": [
            "Stroke ratio in train-test dataframe:  0.04867906066536203\n"
          ]
        }
      ]
    },
    {
      "cell_type": "code",
      "source": [
        "print(\"Stroke ratio in train-test dataframe: \", stroke_test_df[stroke_test_df.stroke == 1].shape[0] / stroke_test_df.shape[0])"
      ],
      "metadata": {
        "id": "vr7w5vVw76kC",
        "outputId": "934b871c-9641-4c0e-fc9d-177b49196217",
        "colab": {
          "base_uri": "https://localhost:8080/"
        }
      },
      "execution_count": 379,
      "outputs": [
        {
          "output_type": "stream",
          "name": "stdout",
          "text": [
            "Stroke ratio in train-test dataframe:  0.04892367906066536\n"
          ]
        }
      ]
    },
    {
      "cell_type": "markdown",
      "source": [
        "--> the train+validation and the test datasets are well balanced regarding the ratio of people who had stroke"
      ],
      "metadata": {
        "id": "uRV0bmo37_YF"
      }
    },
    {
      "cell_type": "markdown",
      "source": [
        "## Initial Data Analysis"
      ],
      "metadata": {
        "id": "OH6w6yI1Okga"
      }
    },
    {
      "cell_type": "markdown",
      "source": [
        "Goal: \n",
        "*   get to know our data\n",
        "*   see how data should be cleaned\n",
        "*   find interesting correlations\n",
        "*   formulate a hypothesis\n",
        "\n",
        "TODO: write a nice introduction before submitting the assignment :)"
      ],
      "metadata": {
        "id": "EXeKNPG8Oowa"
      }
    },
    {
      "cell_type": "code",
      "source": [
        "stroke_df.describe()"
      ],
      "metadata": {
        "colab": {
          "base_uri": "https://localhost:8080/",
          "height": 300
        },
        "id": "Ngcmq_G4e5t7",
        "outputId": "b8d5391b-82d3-452c-b9c1-073bc4f6e514"
      },
      "execution_count": 380,
      "outputs": [
        {
          "output_type": "execute_result",
          "data": {
            "text/plain": [
              "                 id          age  hypertension  heart_disease  \\\n",
              "count   4088.000000  4088.000000   4088.000000    4088.000000   \n",
              "mean   36547.666585    43.353288      0.097114       0.054061   \n",
              "std    21238.482961    22.596816      0.296148       0.226165   \n",
              "min       77.000000     0.080000      0.000000       0.000000   \n",
              "25%    17621.500000    26.000000      0.000000       0.000000   \n",
              "50%    36963.500000    45.000000      0.000000       0.000000   \n",
              "75%    54787.750000    61.000000      0.000000       0.000000   \n",
              "max    72940.000000    82.000000      1.000000       1.000000   \n",
              "\n",
              "       avg_glucose_level          bmi       stroke  \n",
              "count        4088.000000  3918.000000  4088.000000  \n",
              "mean          106.317167    28.922180     0.048679  \n",
              "std            45.259652     7.928378     0.215223  \n",
              "min            55.120000    10.300000     0.000000  \n",
              "25%            77.312500    23.600000     0.000000  \n",
              "50%            91.945000    28.000000     0.000000  \n",
              "75%           114.197500    33.100000     0.000000  \n",
              "max           271.740000    97.600000     1.000000  "
            ],
            "text/html": [
              "\n",
              "  <div id=\"df-f9c4ce81-6158-44d0-b53a-5b7264c01c0c\">\n",
              "    <div class=\"colab-df-container\">\n",
              "      <div>\n",
              "<style scoped>\n",
              "    .dataframe tbody tr th:only-of-type {\n",
              "        vertical-align: middle;\n",
              "    }\n",
              "\n",
              "    .dataframe tbody tr th {\n",
              "        vertical-align: top;\n",
              "    }\n",
              "\n",
              "    .dataframe thead th {\n",
              "        text-align: right;\n",
              "    }\n",
              "</style>\n",
              "<table border=\"1\" class=\"dataframe\">\n",
              "  <thead>\n",
              "    <tr style=\"text-align: right;\">\n",
              "      <th></th>\n",
              "      <th>id</th>\n",
              "      <th>age</th>\n",
              "      <th>hypertension</th>\n",
              "      <th>heart_disease</th>\n",
              "      <th>avg_glucose_level</th>\n",
              "      <th>bmi</th>\n",
              "      <th>stroke</th>\n",
              "    </tr>\n",
              "  </thead>\n",
              "  <tbody>\n",
              "    <tr>\n",
              "      <th>count</th>\n",
              "      <td>4088.000000</td>\n",
              "      <td>4088.000000</td>\n",
              "      <td>4088.000000</td>\n",
              "      <td>4088.000000</td>\n",
              "      <td>4088.000000</td>\n",
              "      <td>3918.000000</td>\n",
              "      <td>4088.000000</td>\n",
              "    </tr>\n",
              "    <tr>\n",
              "      <th>mean</th>\n",
              "      <td>36547.666585</td>\n",
              "      <td>43.353288</td>\n",
              "      <td>0.097114</td>\n",
              "      <td>0.054061</td>\n",
              "      <td>106.317167</td>\n",
              "      <td>28.922180</td>\n",
              "      <td>0.048679</td>\n",
              "    </tr>\n",
              "    <tr>\n",
              "      <th>std</th>\n",
              "      <td>21238.482961</td>\n",
              "      <td>22.596816</td>\n",
              "      <td>0.296148</td>\n",
              "      <td>0.226165</td>\n",
              "      <td>45.259652</td>\n",
              "      <td>7.928378</td>\n",
              "      <td>0.215223</td>\n",
              "    </tr>\n",
              "    <tr>\n",
              "      <th>min</th>\n",
              "      <td>77.000000</td>\n",
              "      <td>0.080000</td>\n",
              "      <td>0.000000</td>\n",
              "      <td>0.000000</td>\n",
              "      <td>55.120000</td>\n",
              "      <td>10.300000</td>\n",
              "      <td>0.000000</td>\n",
              "    </tr>\n",
              "    <tr>\n",
              "      <th>25%</th>\n",
              "      <td>17621.500000</td>\n",
              "      <td>26.000000</td>\n",
              "      <td>0.000000</td>\n",
              "      <td>0.000000</td>\n",
              "      <td>77.312500</td>\n",
              "      <td>23.600000</td>\n",
              "      <td>0.000000</td>\n",
              "    </tr>\n",
              "    <tr>\n",
              "      <th>50%</th>\n",
              "      <td>36963.500000</td>\n",
              "      <td>45.000000</td>\n",
              "      <td>0.000000</td>\n",
              "      <td>0.000000</td>\n",
              "      <td>91.945000</td>\n",
              "      <td>28.000000</td>\n",
              "      <td>0.000000</td>\n",
              "    </tr>\n",
              "    <tr>\n",
              "      <th>75%</th>\n",
              "      <td>54787.750000</td>\n",
              "      <td>61.000000</td>\n",
              "      <td>0.000000</td>\n",
              "      <td>0.000000</td>\n",
              "      <td>114.197500</td>\n",
              "      <td>33.100000</td>\n",
              "      <td>0.000000</td>\n",
              "    </tr>\n",
              "    <tr>\n",
              "      <th>max</th>\n",
              "      <td>72940.000000</td>\n",
              "      <td>82.000000</td>\n",
              "      <td>1.000000</td>\n",
              "      <td>1.000000</td>\n",
              "      <td>271.740000</td>\n",
              "      <td>97.600000</td>\n",
              "      <td>1.000000</td>\n",
              "    </tr>\n",
              "  </tbody>\n",
              "</table>\n",
              "</div>\n",
              "      <button class=\"colab-df-convert\" onclick=\"convertToInteractive('df-f9c4ce81-6158-44d0-b53a-5b7264c01c0c')\"\n",
              "              title=\"Convert this dataframe to an interactive table.\"\n",
              "              style=\"display:none;\">\n",
              "        \n",
              "  <svg xmlns=\"http://www.w3.org/2000/svg\" height=\"24px\"viewBox=\"0 0 24 24\"\n",
              "       width=\"24px\">\n",
              "    <path d=\"M0 0h24v24H0V0z\" fill=\"none\"/>\n",
              "    <path d=\"M18.56 5.44l.94 2.06.94-2.06 2.06-.94-2.06-.94-.94-2.06-.94 2.06-2.06.94zm-11 1L8.5 8.5l.94-2.06 2.06-.94-2.06-.94L8.5 2.5l-.94 2.06-2.06.94zm10 10l.94 2.06.94-2.06 2.06-.94-2.06-.94-.94-2.06-.94 2.06-2.06.94z\"/><path d=\"M17.41 7.96l-1.37-1.37c-.4-.4-.92-.59-1.43-.59-.52 0-1.04.2-1.43.59L10.3 9.45l-7.72 7.72c-.78.78-.78 2.05 0 2.83L4 21.41c.39.39.9.59 1.41.59.51 0 1.02-.2 1.41-.59l7.78-7.78 2.81-2.81c.8-.78.8-2.07 0-2.86zM5.41 20L4 18.59l7.72-7.72 1.47 1.35L5.41 20z\"/>\n",
              "  </svg>\n",
              "      </button>\n",
              "      \n",
              "  <style>\n",
              "    .colab-df-container {\n",
              "      display:flex;\n",
              "      flex-wrap:wrap;\n",
              "      gap: 12px;\n",
              "    }\n",
              "\n",
              "    .colab-df-convert {\n",
              "      background-color: #E8F0FE;\n",
              "      border: none;\n",
              "      border-radius: 50%;\n",
              "      cursor: pointer;\n",
              "      display: none;\n",
              "      fill: #1967D2;\n",
              "      height: 32px;\n",
              "      padding: 0 0 0 0;\n",
              "      width: 32px;\n",
              "    }\n",
              "\n",
              "    .colab-df-convert:hover {\n",
              "      background-color: #E2EBFA;\n",
              "      box-shadow: 0px 1px 2px rgba(60, 64, 67, 0.3), 0px 1px 3px 1px rgba(60, 64, 67, 0.15);\n",
              "      fill: #174EA6;\n",
              "    }\n",
              "\n",
              "    [theme=dark] .colab-df-convert {\n",
              "      background-color: #3B4455;\n",
              "      fill: #D2E3FC;\n",
              "    }\n",
              "\n",
              "    [theme=dark] .colab-df-convert:hover {\n",
              "      background-color: #434B5C;\n",
              "      box-shadow: 0px 1px 3px 1px rgba(0, 0, 0, 0.15);\n",
              "      filter: drop-shadow(0px 1px 2px rgba(0, 0, 0, 0.3));\n",
              "      fill: #FFFFFF;\n",
              "    }\n",
              "  </style>\n",
              "\n",
              "      <script>\n",
              "        const buttonEl =\n",
              "          document.querySelector('#df-f9c4ce81-6158-44d0-b53a-5b7264c01c0c button.colab-df-convert');\n",
              "        buttonEl.style.display =\n",
              "          google.colab.kernel.accessAllowed ? 'block' : 'none';\n",
              "\n",
              "        async function convertToInteractive(key) {\n",
              "          const element = document.querySelector('#df-f9c4ce81-6158-44d0-b53a-5b7264c01c0c');\n",
              "          const dataTable =\n",
              "            await google.colab.kernel.invokeFunction('convertToInteractive',\n",
              "                                                     [key], {});\n",
              "          if (!dataTable) return;\n",
              "\n",
              "          const docLinkHtml = 'Like what you see? Visit the ' +\n",
              "            '<a target=\"_blank\" href=https://colab.research.google.com/notebooks/data_table.ipynb>data table notebook</a>'\n",
              "            + ' to learn more about interactive tables.';\n",
              "          element.innerHTML = '';\n",
              "          dataTable['output_type'] = 'display_data';\n",
              "          await google.colab.output.renderOutput(dataTable, element);\n",
              "          const docLink = document.createElement('div');\n",
              "          docLink.innerHTML = docLinkHtml;\n",
              "          element.appendChild(docLink);\n",
              "        }\n",
              "      </script>\n",
              "    </div>\n",
              "  </div>\n",
              "  "
            ]
          },
          "metadata": {},
          "execution_count": 380
        }
      ]
    },
    {
      "cell_type": "markdown",
      "source": [
        "### Analysing the individual features"
      ],
      "metadata": {
        "id": "EnIp4qwqPrgC"
      }
    },
    {
      "cell_type": "markdown",
      "source": [
        "#### Helper functions"
      ],
      "metadata": {
        "id": "0wl_TEaYObTZ"
      }
    },
    {
      "cell_type": "code",
      "source": [
        "def plot_continuous_variable_distribution(df, var_series, var_name, title):\n",
        "  sns.displot(data=df, x=var_name, kde=True, height=def_plot_length)\n",
        "  # median\n",
        "  disp = 0.4\n",
        "  plt.axvline(x=var_series.median(),\n",
        "              color='red')\n",
        "  plt.text(var_series.median() + disp, 0, \"50%\", rotation = 90)\n",
        "  # 25%\n",
        "  plt.axvline(x=var_series.quantile(0.25),\n",
        "              color='red')\n",
        "  plt.text(var_series.quantile(0.25) + disp, 0, \"25%\", rotation = 90)\n",
        "  # 75%\n",
        "  plt.axvline(x=var_series.quantile(0.75),\n",
        "              color='red')\n",
        "  plt.text(var_series.quantile(0.75) + disp, 0, \"75%\", rotation = 90)\n",
        "  # mean\n",
        "  plt.axvline(x=var_series.mean(),\n",
        "              color='green')\n",
        "  plt.text(var_series.mean() + disp, 0, \"Mean\", rotation = 90)\n",
        "\n",
        "  plt.title(title, size=def_title_size)"
      ],
      "metadata": {
        "id": "MN6MaEJ9Kizy"
      },
      "execution_count": 381,
      "outputs": []
    },
    {
      "cell_type": "code",
      "source": [
        "def plot_continuous_variable_stroke_ratio(df, var_name, no_quantiles, title, xticks_rotation=0, nr_bar_decimals=2, nr_tick_decimals = 2):\n",
        "  stroke_df_group = stroke_df.copy()\n",
        "  stroke_df_group[var_name+\"_group\"] = pd.qcut(stroke_df_group[var_name], q=no_quantiles)\n",
        "  stroke_ratio_per_var_group = stroke_df_group.groupby([var_name+\"_group\"]).apply(lambda age_group: age_group[\"stroke\"].sum() / age_group[\"stroke\"].count())\n",
        "  fig, ax = plt.subplots(figsize=def_fig_size)\n",
        "  pal = sns.color_palette(\"rocket\", len(stroke_ratio_per_var_group))\n",
        "  rank = stroke_ratio_per_var_group.argsort().argsort()   # http://stackoverflow.com/a/6266510/1628638\n",
        "\n",
        "  plots = sns.barplot(x = stroke_ratio_per_var_group.index, y = stroke_ratio_per_var_group.values, ax = ax, palette = np.array(pal[::-1])[rank])\n",
        "  print(type(stroke_ratio_per_var_group.index[0]))\n",
        "\n",
        "  # Iterating over the bars one-by-one to add annotations\n",
        "  for bar in plots.patches:\n",
        "      plots.annotate(format(bar.get_height(), '.{0}f'.format(nr_bar_decimals)),\n",
        "                    (bar.get_x() + bar.get_width() / 2,\n",
        "                      bar.get_height()), ha='center', va='center',\n",
        "                    size=8, xytext=(0, 8),\n",
        "                    textcoords='offset points')\n",
        "      \n",
        "  xlabels = stroke_ratio_per_var_group.index.map(lambda interval : \"({left:.{nr_dec}f}, {right:.{nr_dec}f}\".format(nr_dec = nr_tick_decimals, left = interval.left, right = interval.right))\n",
        "  ax.set_xticklabels(xlabels)\n",
        "      \n",
        "  plt.xticks(rotation=xticks_rotation)\n",
        "  plt.title(title, size = def_title_size)\n"
      ],
      "metadata": {
        "id": "v7kCk0gyLbJz"
      },
      "execution_count": 382,
      "outputs": []
    },
    {
      "cell_type": "code",
      "source": [
        "def plot_categorical_variable_stroke_ratio(df, var_name, title, nr_bar_decimals=2):\n",
        "  stroke_cnt = df.groupby([var_name, 'stroke']).count()\n",
        "  stroke_cnt = stroke_cnt.loc[:, :, ] .reset_index().pivot(index=var_name, columns='stroke', values='id')\n",
        "  stroke_cnt['stroke_ratio'] = stroke_cnt[1] / (stroke_cnt[0] + stroke_cnt[1])\n",
        "\n",
        "  fig, ax = plt.subplots(figsize=(10, 6))\n",
        "  pal = sns.color_palette(\"rocket\", len(stroke_cnt))\n",
        "  rank = stroke_cnt['stroke_ratio'].argsort().argsort()   # http://stackoverflow.com/a/6266510/1628638\n",
        "  plots = sns.barplot(x = stroke_cnt.index, y = stroke_cnt['stroke_ratio'], ax = ax, palette = np.array(pal[::-1])[rank])\n",
        "\n",
        "  # Iterating over the bars one-by-one to add annotations\n",
        "  for bar in plots.patches:\n",
        "      plots.annotate(format(bar.get_height(), '.{0}f'.format(nr_bar_decimals)),\n",
        "                    (bar.get_x() + bar.get_width() / 2,\n",
        "                      bar.get_height()), ha='center', va='center',\n",
        "                    size=15, xytext=(0, 8),\n",
        "                    textcoords='offset points')\n",
        "\n",
        "  plt.title(title, size = def_title_size)"
      ],
      "metadata": {
        "id": "E37shQR_MkP2"
      },
      "execution_count": 383,
      "outputs": []
    },
    {
      "cell_type": "code",
      "source": [
        "def score_dataset(X_train, X_valid, y_train, y_valid):\n",
        "    model = RandomForestRegressor(n_estimators=10, random_state=0)\n",
        "    model.fit(X_train, y_train)\n",
        "    preds = model.predict(X_valid)\n",
        "    return mean_absolute_error(y_valid, preds)"
      ],
      "metadata": {
        "id": "YyIhcf2nQWYX"
      },
      "execution_count": 384,
      "outputs": []
    },
    {
      "cell_type": "code",
      "source": [
        "def get_mean_based_on_age(df):\n",
        "  children_median = df[df['age'] < 18]['bmi'].median()\n",
        "  adults_median = df[df['age'] >= 18]['bmi'].median()\n",
        "  return children_median, adults_median"
      ],
      "metadata": {
        "id": "tIdeW49ZbN0G"
      },
      "execution_count": 385,
      "outputs": []
    },
    {
      "cell_type": "code",
      "source": [
        "def clean_bmi(df, children_median, adults_median):\n",
        "    df_plus = df.copy()\n",
        "    df_plus['bmi_was_missing'] = df_plus['bmi'].isnull()\n",
        "    \n",
        "    df_plus['bmi'] = df_plus.apply(\n",
        "        lambda row: children_median if ((np.isnan(row['bmi'])) & (row['age'] < 18)) else row['bmi'],\n",
        "        axis=1\n",
        "    )\n",
        "    df_plus['bmi'] = df_plus.apply(\n",
        "        lambda row: adults_median if ((np.isnan(row['bmi'])) & (row['age'] >= 18)) else row['bmi'],\n",
        "        axis=1\n",
        "    )\n",
        "    return df_plus"
      ],
      "metadata": {
        "id": "o_cZt7XBV1op"
      },
      "execution_count": 386,
      "outputs": []
    },
    {
      "cell_type": "markdown",
      "source": [
        "#### Gender"
      ],
      "metadata": {
        "id": "EMCtGQjxPvaq"
      }
    },
    {
      "cell_type": "markdown",
      "source": [
        "First of all, we should analyze the gender types that we have in our dataset."
      ],
      "metadata": {
        "id": "nin8kCtAWa_D"
      }
    },
    {
      "cell_type": "code",
      "source": [
        "gender_value_counts = stroke_df.gender.value_counts()\n",
        "gender_value_counts"
      ],
      "metadata": {
        "id": "8pxRw2YBamt2",
        "outputId": "6f4498e5-ba0a-48b8-c8fb-bf1e0deb6761",
        "colab": {
          "base_uri": "https://localhost:8080/"
        }
      },
      "execution_count": 387,
      "outputs": [
        {
          "output_type": "execute_result",
          "data": {
            "text/plain": [
              "Female    2395\n",
              "Male      1692\n",
              "Other        1\n",
              "Name: gender, dtype: int64"
            ]
          },
          "metadata": {},
          "execution_count": 387
        }
      ]
    },
    {
      "cell_type": "markdown",
      "source": [
        "We only have one value for other gender type, it might not help us with our prediction."
      ],
      "metadata": {
        "id": "QGEzf-1YWeqK"
      }
    },
    {
      "cell_type": "code",
      "source": [
        "stroke_df.loc[stroke_df['gender']=='Other']\n"
      ],
      "metadata": {
        "id": "txEJXWEDXbIh",
        "outputId": "c92d8f1e-76f5-4359-bcd3-a1ee85189c16",
        "colab": {
          "base_uri": "https://localhost:8080/",
          "height": 81
        }
      },
      "execution_count": 388,
      "outputs": [
        {
          "output_type": "execute_result",
          "data": {
            "text/plain": [
              "         id gender   age  hypertension  heart_disease ever_married work_type  \\\n",
              "3116  56156  Other  26.0             0              0           No   Private   \n",
              "\n",
              "     residence_type  avg_glucose_level   bmi   smoking_status  stroke  \n",
              "3116          Rural             143.33  22.4  formerly smoked       0  "
            ],
            "text/html": [
              "\n",
              "  <div id=\"df-98aeef41-cc12-42eb-b521-24ebe40072d3\">\n",
              "    <div class=\"colab-df-container\">\n",
              "      <div>\n",
              "<style scoped>\n",
              "    .dataframe tbody tr th:only-of-type {\n",
              "        vertical-align: middle;\n",
              "    }\n",
              "\n",
              "    .dataframe tbody tr th {\n",
              "        vertical-align: top;\n",
              "    }\n",
              "\n",
              "    .dataframe thead th {\n",
              "        text-align: right;\n",
              "    }\n",
              "</style>\n",
              "<table border=\"1\" class=\"dataframe\">\n",
              "  <thead>\n",
              "    <tr style=\"text-align: right;\">\n",
              "      <th></th>\n",
              "      <th>id</th>\n",
              "      <th>gender</th>\n",
              "      <th>age</th>\n",
              "      <th>hypertension</th>\n",
              "      <th>heart_disease</th>\n",
              "      <th>ever_married</th>\n",
              "      <th>work_type</th>\n",
              "      <th>residence_type</th>\n",
              "      <th>avg_glucose_level</th>\n",
              "      <th>bmi</th>\n",
              "      <th>smoking_status</th>\n",
              "      <th>stroke</th>\n",
              "    </tr>\n",
              "  </thead>\n",
              "  <tbody>\n",
              "    <tr>\n",
              "      <th>3116</th>\n",
              "      <td>56156</td>\n",
              "      <td>Other</td>\n",
              "      <td>26.0</td>\n",
              "      <td>0</td>\n",
              "      <td>0</td>\n",
              "      <td>No</td>\n",
              "      <td>Private</td>\n",
              "      <td>Rural</td>\n",
              "      <td>143.33</td>\n",
              "      <td>22.4</td>\n",
              "      <td>formerly smoked</td>\n",
              "      <td>0</td>\n",
              "    </tr>\n",
              "  </tbody>\n",
              "</table>\n",
              "</div>\n",
              "      <button class=\"colab-df-convert\" onclick=\"convertToInteractive('df-98aeef41-cc12-42eb-b521-24ebe40072d3')\"\n",
              "              title=\"Convert this dataframe to an interactive table.\"\n",
              "              style=\"display:none;\">\n",
              "        \n",
              "  <svg xmlns=\"http://www.w3.org/2000/svg\" height=\"24px\"viewBox=\"0 0 24 24\"\n",
              "       width=\"24px\">\n",
              "    <path d=\"M0 0h24v24H0V0z\" fill=\"none\"/>\n",
              "    <path d=\"M18.56 5.44l.94 2.06.94-2.06 2.06-.94-2.06-.94-.94-2.06-.94 2.06-2.06.94zm-11 1L8.5 8.5l.94-2.06 2.06-.94-2.06-.94L8.5 2.5l-.94 2.06-2.06.94zm10 10l.94 2.06.94-2.06 2.06-.94-2.06-.94-.94-2.06-.94 2.06-2.06.94z\"/><path d=\"M17.41 7.96l-1.37-1.37c-.4-.4-.92-.59-1.43-.59-.52 0-1.04.2-1.43.59L10.3 9.45l-7.72 7.72c-.78.78-.78 2.05 0 2.83L4 21.41c.39.39.9.59 1.41.59.51 0 1.02-.2 1.41-.59l7.78-7.78 2.81-2.81c.8-.78.8-2.07 0-2.86zM5.41 20L4 18.59l7.72-7.72 1.47 1.35L5.41 20z\"/>\n",
              "  </svg>\n",
              "      </button>\n",
              "      \n",
              "  <style>\n",
              "    .colab-df-container {\n",
              "      display:flex;\n",
              "      flex-wrap:wrap;\n",
              "      gap: 12px;\n",
              "    }\n",
              "\n",
              "    .colab-df-convert {\n",
              "      background-color: #E8F0FE;\n",
              "      border: none;\n",
              "      border-radius: 50%;\n",
              "      cursor: pointer;\n",
              "      display: none;\n",
              "      fill: #1967D2;\n",
              "      height: 32px;\n",
              "      padding: 0 0 0 0;\n",
              "      width: 32px;\n",
              "    }\n",
              "\n",
              "    .colab-df-convert:hover {\n",
              "      background-color: #E2EBFA;\n",
              "      box-shadow: 0px 1px 2px rgba(60, 64, 67, 0.3), 0px 1px 3px 1px rgba(60, 64, 67, 0.15);\n",
              "      fill: #174EA6;\n",
              "    }\n",
              "\n",
              "    [theme=dark] .colab-df-convert {\n",
              "      background-color: #3B4455;\n",
              "      fill: #D2E3FC;\n",
              "    }\n",
              "\n",
              "    [theme=dark] .colab-df-convert:hover {\n",
              "      background-color: #434B5C;\n",
              "      box-shadow: 0px 1px 3px 1px rgba(0, 0, 0, 0.15);\n",
              "      filter: drop-shadow(0px 1px 2px rgba(0, 0, 0, 0.3));\n",
              "      fill: #FFFFFF;\n",
              "    }\n",
              "  </style>\n",
              "\n",
              "      <script>\n",
              "        const buttonEl =\n",
              "          document.querySelector('#df-98aeef41-cc12-42eb-b521-24ebe40072d3 button.colab-df-convert');\n",
              "        buttonEl.style.display =\n",
              "          google.colab.kernel.accessAllowed ? 'block' : 'none';\n",
              "\n",
              "        async function convertToInteractive(key) {\n",
              "          const element = document.querySelector('#df-98aeef41-cc12-42eb-b521-24ebe40072d3');\n",
              "          const dataTable =\n",
              "            await google.colab.kernel.invokeFunction('convertToInteractive',\n",
              "                                                     [key], {});\n",
              "          if (!dataTable) return;\n",
              "\n",
              "          const docLinkHtml = 'Like what you see? Visit the ' +\n",
              "            '<a target=\"_blank\" href=https://colab.research.google.com/notebooks/data_table.ipynb>data table notebook</a>'\n",
              "            + ' to learn more about interactive tables.';\n",
              "          element.innerHTML = '';\n",
              "          dataTable['output_type'] = 'display_data';\n",
              "          await google.colab.output.renderOutput(dataTable, element);\n",
              "          const docLink = document.createElement('div');\n",
              "          docLink.innerHTML = docLinkHtml;\n",
              "          element.appendChild(docLink);\n",
              "        }\n",
              "      </script>\n",
              "    </div>\n",
              "  </div>\n",
              "  "
            ]
          },
          "metadata": {},
          "execution_count": 388
        }
      ]
    },
    {
      "cell_type": "markdown",
      "source": [
        "Having a pie chart will help us visualize better the ratio between females and males. We can observe that this ratio is not very balanced, having 59% females and only 41% male."
      ],
      "metadata": {
        "id": "WFfwjl_AWjUV"
      }
    },
    {
      "cell_type": "code",
      "source": [
        "explode = [0.02,0.02,0.3]\n",
        "plt.pie(gender_value_counts.array, labels=gender_value_counts.index, autopct = '%0.0f%%', explode = explode)\n",
        "plt.show()"
      ],
      "metadata": {
        "colab": {
          "base_uri": "https://localhost:8080/",
          "height": 248
        },
        "id": "0Q6Iz1P1WlqI",
        "outputId": "909ab50f-d54c-4ae7-b937-f272e8884333"
      },
      "execution_count": 389,
      "outputs": [
        {
          "output_type": "display_data",
          "data": {
            "text/plain": [
              "<Figure size 432x288 with 1 Axes>"
            ],
            "image/png": "[encoded data removed]"
          },
          "metadata": {}
        }
      ]
    },
    {
      "cell_type": "code",
      "source": [
        "plot_categorical_variable_stroke_ratio(stroke_df, \"gender\", \"The ratio of people having a stroke,\\n cathegorized by gender\")"
      ],
      "metadata": {
        "id": "FgldlUkcZVVH",
        "outputId": "922e51b8-e0f3-431e-ee84-52891860520f",
        "colab": {
          "base_uri": "https://localhost:8080/",
          "height": 431
        }
      },
      "execution_count": 390,
      "outputs": [
        {
          "output_type": "display_data",
          "data": {
            "text/plain": [
              "<Figure size 720x432 with 1 Axes>"
            ],
            "image/png": "[encoded data removed]"
          },
          "metadata": {
            "needs_background": "light"
          }
        }
      ]
    },
    {
      "cell_type": "markdown",
      "source": [
        "The stroke events are evenly split among men and woman, but the number of men that had stroke is slightly greater than the number of woman, in our dataset. In general it is expected that stroke events are more frequently in woman, as they tend to live longer ([see article](https://www.ncbi.nlm.nih.gov/pmc/articles/PMC2665267/))."
      ],
      "metadata": {
        "id": "Cz3Y3Ul1aYXM"
      }
    },
    {
      "cell_type": "markdown",
      "source": [
        "#### Age"
      ],
      "metadata": {
        "id": "1PsXcLydPxcw"
      }
    },
    {
      "cell_type": "code",
      "source": [
        "stroke_df.age.describe()"
      ],
      "metadata": {
        "colab": {
          "base_uri": "https://localhost:8080/"
        },
        "id": "tfM_gmfDeiws",
        "outputId": "f7081476-5df3-4751-f34f-7b6a53e7252a"
      },
      "execution_count": 391,
      "outputs": [
        {
          "output_type": "execute_result",
          "data": {
            "text/plain": [
              "count    4088.000000\n",
              "mean       43.353288\n",
              "std        22.596816\n",
              "min         0.080000\n",
              "25%        26.000000\n",
              "50%        45.000000\n",
              "75%        61.000000\n",
              "max        82.000000\n",
              "Name: age, dtype: float64"
            ]
          },
          "metadata": {},
          "execution_count": 391
        }
      ]
    },
    {
      "cell_type": "markdown",
      "source": [
        "\n",
        "\n",
        "*   **median age: 45.0**\n",
        "  *   considering that the **median age in the world is only 30.63**, this dataset seems to describe an **aging population**, probably from one of the highly developed countries\n",
        "  *   note that only 5 countries in he world have a median age >= 5 (Italy, Saint Pierre and Miquelon, Germany, Japan and Monaco)\n",
        "  *   source: [worldpopulationreview.com](https://worldpopulationreview.com/country-rankings/median-age)\n",
        "\n"
      ],
      "metadata": {
        "id": "Qo6f_MC1flQJ"
      }
    },
    {
      "cell_type": "code",
      "source": [
        "plot_continuous_variable_distribution(stroke_df, stroke_df.age, \"age\", \"Population Age Distribution\")"
      ],
      "metadata": {
        "id": "5F_qauNJK_DN",
        "outputId": "dac42cbb-1eda-4319-830c-00494ccd620f",
        "colab": {
          "base_uri": "https://localhost:8080/",
          "height": 534
        }
      },
      "execution_count": 392,
      "outputs": [
        {
          "output_type": "display_data",
          "data": {
            "text/plain": [
              "<Figure size 504x504 with 1 Axes>"
            ],
            "image/png": "[encoded data removed]"
          },
          "metadata": {
            "needs_background": "light"
          }
        }
      ]
    },
    {
      "cell_type": "code",
      "source": [
        "fig, ax = plt.subplots(figsize=def_fig_size)\n",
        "sns.histplot(data=stroke_df, x=\"age\", hue=\"stroke\", ax=ax)\n",
        "plt.title(\"Age Distribution by Stroke Status\", size = def_title_size)"
      ],
      "metadata": {
        "colab": {
          "base_uri": "https://localhost:8080/",
          "height": 481
        },
        "id": "V08_8SoEuNXX",
        "outputId": "71724433-b133-49f3-b39f-3eacc8794590"
      },
      "execution_count": 393,
      "outputs": [
        {
          "output_type": "execute_result",
          "data": {
            "text/plain": [
              "Text(0.5, 1.0, 'Age Distribution by Stroke Status')"
            ]
          },
          "metadata": {},
          "execution_count": 393
        },
        {
          "output_type": "display_data",
          "data": {
            "text/plain": [
              "<Figure size 504x504 with 1 Axes>"
            ],
            "image/png": "[encoded data removed]"
          },
          "metadata": {
            "needs_background": "light"
          }
        }
      ]
    },
    {
      "cell_type": "code",
      "source": [
        "plot_continuous_variable_stroke_ratio(stroke_df, \"age\", 20, \"The ratio of people having had a stroke,\\ncategorized by their Age\", 70)"
      ],
      "metadata": {
        "id": "bCmBCDMdL78B",
        "outputId": "a96e69ee-a020-4ec7-d9df-a316f597c89f",
        "colab": {
          "base_uri": "https://localhost:8080/",
          "height": 560
        }
      },
      "execution_count": 394,
      "outputs": [
        {
          "output_type": "stream",
          "name": "stdout",
          "text": [
            "<class 'pandas._libs.interval.Interval'>\n"
          ]
        },
        {
          "output_type": "display_data",
          "data": {
            "text/plain": [
              "<Figure size 504x504 with 1 Axes>"
            ],
            "image/png": "[encoded data removed]"
          },
          "metadata": {
            "needs_background": "light"
          }
        }
      ]
    },
    {
      "cell_type": "markdown",
      "source": [
        "As expected, the ratio of the population who had a stroke increases by age."
      ],
      "metadata": {
        "id": "VHAdg6ce6l2g"
      }
    },
    {
      "cell_type": "markdown",
      "source": [
        "#### Hypertension"
      ],
      "metadata": {
        "id": "QtE-ZuCoPzmd"
      }
    },
    {
      "cell_type": "markdown",
      "source": [
        "From all the persons in our dataset, we can see that only 10% have had hypertension. Globally, **an estimated 26% of the world’s population** (972 million people) has hypertension.\n",
        "\n",
        "https://www.medscape.com/answers/241381-7614/what-is-the-global-prevalence-of-hypertension-high-blood-pressure"
      ],
      "metadata": {
        "id": "8F527WQIWwPU"
      }
    },
    {
      "cell_type": "code",
      "source": [
        "hypertension_value_counts = stroke_df.hypertension.value_counts()\n",
        "hypertension_value_counts"
      ],
      "metadata": {
        "colab": {
          "base_uri": "https://localhost:8080/"
        },
        "id": "1q4z3vIvWzXD",
        "outputId": "1a942438-c0c3-4bcb-8cd8-c34220c53dc1"
      },
      "execution_count": 395,
      "outputs": [
        {
          "output_type": "execute_result",
          "data": {
            "text/plain": [
              "0    3691\n",
              "1     397\n",
              "Name: hypertension, dtype: int64"
            ]
          },
          "metadata": {},
          "execution_count": 395
        }
      ]
    },
    {
      "cell_type": "code",
      "source": [
        "explode = [0.02,0.3]\n",
        "plt.pie(hypertension_value_counts.array, labels=hypertension_value_counts.index, autopct = '%0.0f%%', explode = explode)\n",
        "plt.show()"
      ],
      "metadata": {
        "colab": {
          "base_uri": "https://localhost:8080/",
          "height": 248
        },
        "id": "5cJVhPpgW2e7",
        "outputId": "58e706ea-d80a-4e87-f0e9-4fa43b15a602"
      },
      "execution_count": 396,
      "outputs": [
        {
          "output_type": "display_data",
          "data": {
            "text/plain": [
              "<Figure size 432x288 with 1 Axes>"
            ],
            "image/png": "[encoded data removed]"
          },
          "metadata": {}
        }
      ]
    },
    {
      "cell_type": "code",
      "source": [
        "plot_categorical_variable_stroke_ratio(stroke_df, \"hypertension\", \"The ratio of people having a stroke,\\n cathegorized by hypertension\")"
      ],
      "metadata": {
        "id": "4byk_xu2butG",
        "outputId": "24e6be82-014c-41d8-b788-9b3ddc32b949",
        "colab": {
          "base_uri": "https://localhost:8080/",
          "height": 431
        }
      },
      "execution_count": 397,
      "outputs": [
        {
          "output_type": "display_data",
          "data": {
            "text/plain": [
              "<Figure size 720x432 with 1 Axes>"
            ],
            "image/png": "[encoded data removed]"
          },
          "metadata": {
            "needs_background": "light"
          }
        }
      ]
    },
    {
      "cell_type": "markdown",
      "source": [
        "As expected, a stroke is more common for people that suffer from hypertension than the rest of the people."
      ],
      "metadata": {
        "id": "cWVFt_vpb4ME"
      }
    },
    {
      "cell_type": "markdown",
      "source": [
        "#### Heart Disease"
      ],
      "metadata": {
        "id": "kMqXj2HEP2o7"
      }
    },
    {
      "cell_type": "markdown",
      "source": [
        "The feeature shows whether a person has (1) os hasn't got (0) any herat diseases."
      ],
      "metadata": {
        "id": "8XxJvaMfDgmx"
      }
    },
    {
      "cell_type": "code",
      "source": [
        "heart_disease_value_counts = stroke_df.heart_disease.value_counts()\n",
        "heart_disease_value_counts"
      ],
      "metadata": {
        "colab": {
          "base_uri": "https://localhost:8080/"
        },
        "id": "35oObiI0zk37",
        "outputId": "1b5cef97-a910-4576-e178-111fe44a7628"
      },
      "execution_count": 398,
      "outputs": [
        {
          "output_type": "execute_result",
          "data": {
            "text/plain": [
              "0    3867\n",
              "1     221\n",
              "Name: heart_disease, dtype: int64"
            ]
          },
          "metadata": {},
          "execution_count": 398
        }
      ]
    },
    {
      "cell_type": "markdown",
      "source": [
        "Only 276 people out of 5110 had a heart disease."
      ],
      "metadata": {
        "id": "_qtj9PDgz7n-"
      }
    },
    {
      "cell_type": "code",
      "source": [
        "explode = [0.1] * heart_disease_value_counts.count()\n",
        "plt.pie(heart_disease_value_counts.array, labels=heart_disease_value_counts.index, autopct = '%0.0f%%', explode = explode)\n",
        "plt.title(\"The Ratio of Population with a Heart Disease\")\n",
        "plt.show()"
      ],
      "metadata": {
        "colab": {
          "base_uri": "https://localhost:8080/",
          "height": 264
        },
        "id": "y27Q9E8Iz6_X",
        "outputId": "cdf80627-fb0f-43a6-bea8-af77019330d8"
      },
      "execution_count": 399,
      "outputs": [
        {
          "output_type": "display_data",
          "data": {
            "text/plain": [
              "<Figure size 432x288 with 1 Axes>"
            ],
            "image/png": "[encoded data removed]"
          },
          "metadata": {}
        }
      ]
    },
    {
      "cell_type": "markdown",
      "source": [
        "The people with a heart disease represent 5% of the population."
      ],
      "metadata": {
        "id": "O-J7n_9j0SbI"
      }
    },
    {
      "cell_type": "code",
      "source": [
        "plot_categorical_variable_stroke_ratio(stroke_df, \"heart_disease\", \"The ratio of peope having had a stroke,\\ncategorized by heart disease status\")"
      ],
      "metadata": {
        "id": "DIl3eJ3BM-ld",
        "outputId": "88759a27-48cc-4b7e-da7d-e133d066269b",
        "colab": {
          "base_uri": "https://localhost:8080/",
          "height": 432
        }
      },
      "execution_count": 400,
      "outputs": [
        {
          "output_type": "display_data",
          "data": {
            "text/plain": [
              "<Figure size 720x432 with 1 Axes>"
            ],
            "image/png": "[encoded data removed]"
          },
          "metadata": {
            "needs_background": "light"
          }
        }
      ]
    },
    {
      "cell_type": "markdown",
      "source": [
        "As expected, the ratio of people who had a stroke is much higher (17% vs 4%) among people with a heart disease."
      ],
      "metadata": {
        "id": "DwsTyQBy7sJl"
      }
    },
    {
      "cell_type": "markdown",
      "source": [
        "#### Marital Status"
      ],
      "metadata": {
        "id": "_JvIJ-npP45W"
      }
    },
    {
      "cell_type": "markdown",
      "source": [
        "The values for marital status are 'Yes' or 'No' values. We prefer to have 0 or 1 values instead."
      ],
      "metadata": {
        "id": "u2tJse0iW6bD"
      }
    },
    {
      "cell_type": "code",
      "source": [
        "ever_married_value_counts = stroke_df.ever_married.value_counts()\n",
        "ever_married_value_counts"
      ],
      "metadata": {
        "colab": {
          "base_uri": "https://localhost:8080/"
        },
        "id": "gwGIgzLVW83f",
        "outputId": "709555b7-a164-4145-c399-b68cb092b39e"
      },
      "execution_count": 401,
      "outputs": [
        {
          "output_type": "execute_result",
          "data": {
            "text/plain": [
              "Yes    2700\n",
              "No     1388\n",
              "Name: ever_married, dtype: int64"
            ]
          },
          "metadata": {},
          "execution_count": 401
        }
      ]
    },
    {
      "cell_type": "code",
      "source": [
        "explode = [0.02,0.02]\n",
        "plt.pie(ever_married_value_counts.array, labels=ever_married_value_counts.index, autopct = '%0.0f%%', explode = explode)\n",
        "plt.show()"
      ],
      "metadata": {
        "colab": {
          "base_uri": "https://localhost:8080/",
          "height": 248
        },
        "id": "2KvSU8DhW_FG",
        "outputId": "340084dd-96ca-4745-a66c-96f531e459b5"
      },
      "execution_count": 402,
      "outputs": [
        {
          "output_type": "display_data",
          "data": {
            "text/plain": [
              "<Figure size 432x288 with 1 Axes>"
            ],
            "image/png": "[encoded data removed]"
          },
          "metadata": {}
        }
      ]
    },
    {
      "cell_type": "code",
      "source": [
        "plot_categorical_variable_stroke_ratio(stroke_df, \"ever_married\", \"The ratio of people having a stroke,\\n cathegorized by marital status\")"
      ],
      "metadata": {
        "id": "hzq7hTUucLg4",
        "outputId": "3fcd1826-181e-4c51-9c9e-8ce938f22030",
        "colab": {
          "base_uri": "https://localhost:8080/",
          "height": 432
        }
      },
      "execution_count": 403,
      "outputs": [
        {
          "output_type": "display_data",
          "data": {
            "text/plain": [
              "<Figure size 720x432 with 1 Axes>"
            ],
            "image/png": "[encoded data removed]"
          },
          "metadata": {
            "needs_background": "light"
          }
        }
      ]
    },
    {
      "cell_type": "markdown",
      "source": [
        "This plot shows that stroke is more common in people who are married, but this may be due to the fact that older people (that are at a higher risk of having a stroke) in general are married. "
      ],
      "metadata": {
        "id": "oncITzNncsBK"
      }
    },
    {
      "cell_type": "markdown",
      "source": [
        "#### Work Type"
      ],
      "metadata": {
        "id": "ZdCrTHIlQAHN"
      }
    },
    {
      "cell_type": "markdown",
      "source": [
        "We have identified several work types i.e. private, self-employed, government job, children and never worked."
      ],
      "metadata": {
        "id": "W1nknM1CXDA3"
      }
    },
    {
      "cell_type": "code",
      "source": [
        "work_type_value_counts = stroke_df.work_type.value_counts()\n",
        "work_type_value_counts"
      ],
      "metadata": {
        "colab": {
          "base_uri": "https://localhost:8080/"
        },
        "id": "7LnMIXZDXFKf",
        "outputId": "6317084a-bfcd-4cf7-c318-194eadeb668d"
      },
      "execution_count": 404,
      "outputs": [
        {
          "output_type": "execute_result",
          "data": {
            "text/plain": [
              "Private          2332\n",
              "Self-employed     667\n",
              "children          554\n",
              "Govt_job          522\n",
              "Never_worked       13\n",
              "Name: work_type, dtype: int64"
            ]
          },
          "metadata": {},
          "execution_count": 404
        }
      ]
    },
    {
      "cell_type": "code",
      "source": [
        "plt.figure(figsize=(10,6))\n",
        "plt.title(\"Work types value counts\")\n",
        "sns.barplot(x=work_type_value_counts.index, y=work_type_value_counts.array)\n",
        "plt.show()"
      ],
      "metadata": {
        "colab": {
          "base_uri": "https://localhost:8080/",
          "height": 391
        },
        "id": "eutkIOV8XHUh",
        "outputId": "60542cdc-72e3-492c-e5db-c3eff1302e86"
      },
      "execution_count": 405,
      "outputs": [
        {
          "output_type": "display_data",
          "data": {
            "text/plain": [
              "<Figure size 720x432 with 1 Axes>"
            ],
            "image/png": "[encoded data removed]"
          },
          "metadata": {
            "needs_background": "light"
          }
        }
      ]
    },
    {
      "cell_type": "markdown",
      "source": [
        "The values children and never worked might be corellated since most children don't work. Let's see how many never worked values are for people with an age greater than 18."
      ],
      "metadata": {
        "id": "8G8XYcsrXKZ9"
      }
    },
    {
      "cell_type": "code",
      "source": [
        "stroke_df.loc[(stroke_df['work_type'] == 'Never_worked') & (stroke_df['age'] >= 18)]"
      ],
      "metadata": {
        "colab": {
          "base_uri": "https://localhost:8080/",
          "height": 175
        },
        "id": "qj0R5IVKXM1N",
        "outputId": "82f61ba6-60a7-4f79-d1e6-01addd7d98d9"
      },
      "execution_count": 406,
      "outputs": [
        {
          "output_type": "execute_result",
          "data": {
            "text/plain": [
              "         id  gender   age  hypertension  heart_disease ever_married  \\\n",
              "4772  13960  Female  18.0             0              0           No   \n",
              "603   61408    Male  23.0             0              0           No   \n",
              "886   13948  Female  19.0             0              0           No   \n",
              "2917  11702  Female  18.0             0              0           No   \n",
              "\n",
              "         work_type residence_type  avg_glucose_level   bmi smoking_status  \\\n",
              "4772  Never_worked          Urban              97.65  21.5        Unknown   \n",
              "603   Never_worked          Urban             125.26  18.7   never smoked   \n",
              "886   Never_worked          Urban              86.96  25.8   never smoked   \n",
              "2917  Never_worked          Urban              82.36  22.7        Unknown   \n",
              "\n",
              "      stroke  \n",
              "4772       0  \n",
              "603        0  \n",
              "886        0  \n",
              "2917       0  "
            ],
            "text/html": [
              "\n",
              "  <div id=\"df-ba5386a1-38c4-44fa-a775-efea2d1c97ed\">\n",
              "    <div class=\"colab-df-container\">\n",
              "      <div>\n",
              "<style scoped>\n",
              "    .dataframe tbody tr th:only-of-type {\n",
              "        vertical-align: middle;\n",
              "    }\n",
              "\n",
              "    .dataframe tbody tr th {\n",
              "        vertical-align: top;\n",
              "    }\n",
              "\n",
              "    .dataframe thead th {\n",
              "        text-align: right;\n",
              "    }\n",
              "</style>\n",
              "<table border=\"1\" class=\"dataframe\">\n",
              "  <thead>\n",
              "    <tr style=\"text-align: right;\">\n",
              "      <th></th>\n",
              "      <th>id</th>\n",
              "      <th>gender</th>\n",
              "      <th>age</th>\n",
              "      <th>hypertension</th>\n",
              "      <th>heart_disease</th>\n",
              "      <th>ever_married</th>\n",
              "      <th>work_type</th>\n",
              "      <th>residence_type</th>\n",
              "      <th>avg_glucose_level</th>\n",
              "      <th>bmi</th>\n",
              "      <th>smoking_status</th>\n",
              "      <th>stroke</th>\n",
              "    </tr>\n",
              "  </thead>\n",
              "  <tbody>\n",
              "    <tr>\n",
              "      <th>4772</th>\n",
              "      <td>13960</td>\n",
              "      <td>Female</td>\n",
              "      <td>18.0</td>\n",
              "      <td>0</td>\n",
              "      <td>0</td>\n",
              "      <td>No</td>\n",
              "      <td>Never_worked</td>\n",
              "      <td>Urban</td>\n",
              "      <td>97.65</td>\n",
              "      <td>21.5</td>\n",
              "      <td>Unknown</td>\n",
              "      <td>0</td>\n",
              "    </tr>\n",
              "    <tr>\n",
              "      <th>603</th>\n",
              "      <td>61408</td>\n",
              "      <td>Male</td>\n",
              "      <td>23.0</td>\n",
              "      <td>0</td>\n",
              "      <td>0</td>\n",
              "      <td>No</td>\n",
              "      <td>Never_worked</td>\n",
              "      <td>Urban</td>\n",
              "      <td>125.26</td>\n",
              "      <td>18.7</td>\n",
              "      <td>never smoked</td>\n",
              "      <td>0</td>\n",
              "    </tr>\n",
              "    <tr>\n",
              "      <th>886</th>\n",
              "      <td>13948</td>\n",
              "      <td>Female</td>\n",
              "      <td>19.0</td>\n",
              "      <td>0</td>\n",
              "      <td>0</td>\n",
              "      <td>No</td>\n",
              "      <td>Never_worked</td>\n",
              "      <td>Urban</td>\n",
              "      <td>86.96</td>\n",
              "      <td>25.8</td>\n",
              "      <td>never smoked</td>\n",
              "      <td>0</td>\n",
              "    </tr>\n",
              "    <tr>\n",
              "      <th>2917</th>\n",
              "      <td>11702</td>\n",
              "      <td>Female</td>\n",
              "      <td>18.0</td>\n",
              "      <td>0</td>\n",
              "      <td>0</td>\n",
              "      <td>No</td>\n",
              "      <td>Never_worked</td>\n",
              "      <td>Urban</td>\n",
              "      <td>82.36</td>\n",
              "      <td>22.7</td>\n",
              "      <td>Unknown</td>\n",
              "      <td>0</td>\n",
              "    </tr>\n",
              "  </tbody>\n",
              "</table>\n",
              "</div>\n",
              "      <button class=\"colab-df-convert\" onclick=\"convertToInteractive('df-ba5386a1-38c4-44fa-a775-efea2d1c97ed')\"\n",
              "              title=\"Convert this dataframe to an interactive table.\"\n",
              "              style=\"display:none;\">\n",
              "        \n",
              "  <svg xmlns=\"http://www.w3.org/2000/svg\" height=\"24px\"viewBox=\"0 0 24 24\"\n",
              "       width=\"24px\">\n",
              "    <path d=\"M0 0h24v24H0V0z\" fill=\"none\"/>\n",
              "    <path d=\"M18.56 5.44l.94 2.06.94-2.06 2.06-.94-2.06-.94-.94-2.06-.94 2.06-2.06.94zm-11 1L8.5 8.5l.94-2.06 2.06-.94-2.06-.94L8.5 2.5l-.94 2.06-2.06.94zm10 10l.94 2.06.94-2.06 2.06-.94-2.06-.94-.94-2.06-.94 2.06-2.06.94z\"/><path d=\"M17.41 7.96l-1.37-1.37c-.4-.4-.92-.59-1.43-.59-.52 0-1.04.2-1.43.59L10.3 9.45l-7.72 7.72c-.78.78-.78 2.05 0 2.83L4 21.41c.39.39.9.59 1.41.59.51 0 1.02-.2 1.41-.59l7.78-7.78 2.81-2.81c.8-.78.8-2.07 0-2.86zM5.41 20L4 18.59l7.72-7.72 1.47 1.35L5.41 20z\"/>\n",
              "  </svg>\n",
              "      </button>\n",
              "      \n",
              "  <style>\n",
              "    .colab-df-container {\n",
              "      display:flex;\n",
              "      flex-wrap:wrap;\n",
              "      gap: 12px;\n",
              "    }\n",
              "\n",
              "    .colab-df-convert {\n",
              "      background-color: #E8F0FE;\n",
              "      border: none;\n",
              "      border-radius: 50%;\n",
              "      cursor: pointer;\n",
              "      display: none;\n",
              "      fill: #1967D2;\n",
              "      height: 32px;\n",
              "      padding: 0 0 0 0;\n",
              "      width: 32px;\n",
              "    }\n",
              "\n",
              "    .colab-df-convert:hover {\n",
              "      background-color: #E2EBFA;\n",
              "      box-shadow: 0px 1px 2px rgba(60, 64, 67, 0.3), 0px 1px 3px 1px rgba(60, 64, 67, 0.15);\n",
              "      fill: #174EA6;\n",
              "    }\n",
              "\n",
              "    [theme=dark] .colab-df-convert {\n",
              "      background-color: #3B4455;\n",
              "      fill: #D2E3FC;\n",
              "    }\n",
              "\n",
              "    [theme=dark] .colab-df-convert:hover {\n",
              "      background-color: #434B5C;\n",
              "      box-shadow: 0px 1px 3px 1px rgba(0, 0, 0, 0.15);\n",
              "      filter: drop-shadow(0px 1px 2px rgba(0, 0, 0, 0.3));\n",
              "      fill: #FFFFFF;\n",
              "    }\n",
              "  </style>\n",
              "\n",
              "      <script>\n",
              "        const buttonEl =\n",
              "          document.querySelector('#df-ba5386a1-38c4-44fa-a775-efea2d1c97ed button.colab-df-convert');\n",
              "        buttonEl.style.display =\n",
              "          google.colab.kernel.accessAllowed ? 'block' : 'none';\n",
              "\n",
              "        async function convertToInteractive(key) {\n",
              "          const element = document.querySelector('#df-ba5386a1-38c4-44fa-a775-efea2d1c97ed');\n",
              "          const dataTable =\n",
              "            await google.colab.kernel.invokeFunction('convertToInteractive',\n",
              "                                                     [key], {});\n",
              "          if (!dataTable) return;\n",
              "\n",
              "          const docLinkHtml = 'Like what you see? Visit the ' +\n",
              "            '<a target=\"_blank\" href=https://colab.research.google.com/notebooks/data_table.ipynb>data table notebook</a>'\n",
              "            + ' to learn more about interactive tables.';\n",
              "          element.innerHTML = '';\n",
              "          dataTable['output_type'] = 'display_data';\n",
              "          await google.colab.output.renderOutput(dataTable, element);\n",
              "          const docLink = document.createElement('div');\n",
              "          docLink.innerHTML = docLinkHtml;\n",
              "          element.appendChild(docLink);\n",
              "        }\n",
              "      </script>\n",
              "    </div>\n",
              "  </div>\n",
              "  "
            ]
          },
          "metadata": {},
          "execution_count": 406
        }
      ]
    },
    {
      "cell_type": "markdown",
      "source": [
        "There are only five values for never worked people that aren't children. They also didn't have a stroke. We might consider deleting them in the data cleaning process."
      ],
      "metadata": {
        "id": "XJ_USubwXPn7"
      }
    },
    {
      "cell_type": "code",
      "source": [
        "plot_categorical_variable_stroke_ratio(stroke_df, \"work_type\", \"The ratio of people having a stroke,\\n cathegorized by work type\", 3)"
      ],
      "metadata": {
        "id": "fzDS5DTvdIsc",
        "outputId": "16107609-e4dc-4b1e-864e-23abc511f05f",
        "colab": {
          "base_uri": "https://localhost:8080/",
          "height": 433
        }
      },
      "execution_count": 407,
      "outputs": [
        {
          "output_type": "display_data",
          "data": {
            "text/plain": [
              "<Figure size 720x432 with 1 Axes>"
            ],
            "image/png": "[encoded data removed]"
          },
          "metadata": {
            "needs_background": "light"
          }
        }
      ]
    },
    {
      "cell_type": "markdown",
      "source": [
        "We can observe that we have very few strokes among children and never_worked (which are mostly children). The stroke events are evenly split among government jobs and private work types, but self-employed people tend to have more strokes. Accordingly to this [study](https://www.ncbi.nlm.nih.gov/pmc/articles/PMC7287446/), **self-employed people might have a higher risk of having a cardiovascular disease**, which might lead to a stroke, but the studies made about this subject are very limited."
      ],
      "metadata": {
        "id": "7JBpycRHdbOC"
      }
    },
    {
      "cell_type": "markdown",
      "source": [
        "#### Residence Type"
      ],
      "metadata": {
        "id": "ymY87LJtQCJz"
      }
    },
    {
      "cell_type": "markdown",
      "source": [
        "The feature shows whether the person lives in a rural or urban area."
      ],
      "metadata": {
        "id": "5zLBTqxQDm-u"
      }
    },
    {
      "cell_type": "code",
      "source": [
        "residence_type_value_counts = stroke_df.residence_type.value_counts()\n",
        "residence_type_value_counts"
      ],
      "metadata": {
        "colab": {
          "base_uri": "https://localhost:8080/"
        },
        "id": "1t_bj4eO1Jqf",
        "outputId": "9d5ba99a-e2de-48a0-9cd0-4c5a2c5dc424"
      },
      "execution_count": 408,
      "outputs": [
        {
          "output_type": "execute_result",
          "data": {
            "text/plain": [
              "Urban    2069\n",
              "Rural    2019\n",
              "Name: residence_type, dtype: int64"
            ]
          },
          "metadata": {},
          "execution_count": 408
        }
      ]
    },
    {
      "cell_type": "code",
      "source": [
        "explode = [0.01] * residence_type_value_counts.count()\n",
        "plt.pie(residence_type_value_counts.array, labels=residence_type_value_counts.index, autopct = '%0.0f%%', explode = explode)\n",
        "plt.title(\"The Residence Type Distribution\")\n",
        "plt.show()"
      ],
      "metadata": {
        "colab": {
          "base_uri": "https://localhost:8080/",
          "height": 264
        },
        "id": "GVlOvwx7150H",
        "outputId": "30d90c7c-4b88-4762-8728-5554ff8cec76"
      },
      "execution_count": 409,
      "outputs": [
        {
          "output_type": "display_data",
          "data": {
            "text/plain": [
              "<Figure size 432x288 with 1 Axes>"
            ],
            "image/png": "[encoded data removed]"
          },
          "metadata": {}
        }
      ]
    },
    {
      "cell_type": "code",
      "source": [
        "plot_categorical_variable_stroke_ratio(stroke_df, \"residence_type\", \"The ratio of peope having had a stroke,\\ncategorized by Residence Type\", 3)"
      ],
      "metadata": {
        "id": "9-vfLSBMNKGb",
        "outputId": "db55493e-c73a-4794-c3e4-0dda369d9ee3",
        "colab": {
          "base_uri": "https://localhost:8080/",
          "height": 432
        }
      },
      "execution_count": 410,
      "outputs": [
        {
          "output_type": "display_data",
          "data": {
            "text/plain": [
              "<Figure size 720x432 with 1 Axes>"
            ],
            "image/png": "[encoded data removed]"
          },
          "metadata": {
            "needs_background": "light"
          }
        }
      ]
    },
    {
      "cell_type": "markdown",
      "source": [
        "The data shows that people living in an urban area have a slightly higher chance for a stroke (5.2% vs 4.5%), but the residence type does not seem to be a significant factor in one's chance for a stroke."
      ],
      "metadata": {
        "id": "NBMCsh5Y8xy9"
      }
    },
    {
      "cell_type": "markdown",
      "source": [
        "The people are fairly distributed between twose living in urban and in rural areas."
      ],
      "metadata": {
        "id": "vCfAoZ2B2Qmz"
      }
    },
    {
      "cell_type": "markdown",
      "source": [
        "#### Average Glucose Level"
      ],
      "metadata": {
        "id": "uTCPR3RGQEDP"
      }
    },
    {
      "cell_type": "markdown",
      "source": [
        "This feature shows the average glucose level in a person's blood, in mg/dL."
      ],
      "metadata": {
        "id": "6Dxgs2kODuNy"
      }
    },
    {
      "cell_type": "code",
      "source": [
        "stroke_df.avg_glucose_level.describe()"
      ],
      "metadata": {
        "colab": {
          "base_uri": "https://localhost:8080/"
        },
        "id": "7Tt5JoFi-YHp",
        "outputId": "6d4909f8-97af-4a59-c3c8-dcf1ed280c90"
      },
      "execution_count": 411,
      "outputs": [
        {
          "output_type": "execute_result",
          "data": {
            "text/plain": [
              "count    4088.000000\n",
              "mean      106.317167\n",
              "std        45.259652\n",
              "min        55.120000\n",
              "25%        77.312500\n",
              "50%        91.945000\n",
              "75%       114.197500\n",
              "max       271.740000\n",
              "Name: avg_glucose_level, dtype: float64"
            ]
          },
          "metadata": {},
          "execution_count": 411
        }
      ]
    },
    {
      "cell_type": "code",
      "source": [
        "plot_continuous_variable_distribution(stroke_df, stroke_df.avg_glucose_level, \"avg_glucose_level\", \"Distribution by avg_glucose_level\")"
      ],
      "metadata": {
        "colab": {
          "base_uri": "https://localhost:8080/",
          "height": 534
        },
        "id": "pNvsNtpa_CXM",
        "outputId": "c51801cd-c2dc-41f5-87c1-f7eff9d6e3a7"
      },
      "execution_count": 412,
      "outputs": [
        {
          "output_type": "display_data",
          "data": {
            "text/plain": [
              "<Figure size 504x504 with 1 Axes>"
            ],
            "image/png": "[encoded data removed]"
          },
          "metadata": {
            "needs_background": "light"
          }
        }
      ]
    },
    {
      "cell_type": "code",
      "source": [
        "fig, ax = plt.subplots(figsize=def_fig_size)\n",
        "sns.histplot(data=stroke_df, x=\"avg_glucose_level\", hue=\"stroke\", ax=ax)\n",
        "plt.title(\"Avg Glucose Level Distribution by Stroke Status\", size = def_title_size)"
      ],
      "metadata": {
        "colab": {
          "base_uri": "https://localhost:8080/",
          "height": 483
        },
        "id": "fMdoX7By_zl5",
        "outputId": "1fca0c3b-89b6-43d8-9b06-540336b56dc4"
      },
      "execution_count": 413,
      "outputs": [
        {
          "output_type": "execute_result",
          "data": {
            "text/plain": [
              "Text(0.5, 1.0, 'Avg Glucose Level Distribution by Stroke Status')"
            ]
          },
          "metadata": {},
          "execution_count": 413
        },
        {
          "output_type": "display_data",
          "data": {
            "text/plain": [
              "<Figure size 504x504 with 1 Axes>"
            ],
            "image/png": "[encoded data removed]"
          },
          "metadata": {
            "needs_background": "light"
          }
        }
      ]
    },
    {
      "cell_type": "code",
      "source": [
        "plot_continuous_variable_stroke_ratio(stroke_df, \"avg_glucose_level\", 10, \"The ratio of peope having had a stroke,\\ncategorized by their Average Glucose Level\", 70)"
      ],
      "metadata": {
        "colab": {
          "base_uri": "https://localhost:8080/",
          "height": 573
        },
        "id": "_rPudfBJ_-yq",
        "outputId": "4c262fc8-290e-4525-8727-86226ba6624e"
      },
      "execution_count": 414,
      "outputs": [
        {
          "output_type": "stream",
          "name": "stdout",
          "text": [
            "<class 'pandas._libs.interval.Interval'>\n"
          ]
        },
        {
          "output_type": "display_data",
          "data": {
            "text/plain": [
              "<Figure size 504x504 with 1 Axes>"
            ],
            "image/png": "[encoded data removed]"
          },
          "metadata": {
            "needs_background": "light"
          }
        }
      ]
    },
    {
      "cell_type": "markdown",
      "source": [
        "As expected, both people with a very low and with a very high blood glucose level are more likely to have a stroke than the people with a regular glucose level. \n",
        "\n",
        "General medical guidelines state that a glucose level of less than 100mg/dL is normal after not eating for more than 8 hours, and a glucose level of less than 140mg/dL is normal after not eating for at least 2 hours ([see this analysis](https://https://www.webmd.com/diabetes/how-sugar-affects-diabetes)). These guidelines are confirmed by the above plot, which shows that\n",
        "\n",
        "\n",
        "*   an average glucose level lower than 80mg/dL may increase the chance for a stroke, by ~30%\n",
        "*   an average glucose level higher than 124mg/dL may dramatically increase the chance for a stroke, by more than 200%\n",
        "\n"
      ],
      "metadata": {
        "id": "mkXeqx1JDzAO"
      }
    },
    {
      "cell_type": "markdown",
      "source": [
        "#### Body Mass Index"
      ],
      "metadata": {
        "id": "Gr4yQLqrQHVc"
      }
    },
    {
      "cell_type": "markdown",
      "source": [
        "There also might be children in our dataset, we do not want to consider them for the adult BMI analysis since the way their BMI is interpreted is different than for adults."
      ],
      "metadata": {
        "id": "Mbhf-fkP44y2"
      }
    },
    {
      "cell_type": "code",
      "source": [
        "adults_only_df = stroke_df.loc[stroke_df['age']>=18]\n",
        "adults_only_df.bmi.describe()"
      ],
      "metadata": {
        "colab": {
          "base_uri": "https://localhost:8080/"
        },
        "id": "S62PSX7zXZC-",
        "outputId": "718fbe43-e8ec-45ac-8cf7-a1adb74b138d"
      },
      "execution_count": 415,
      "outputs": [
        {
          "output_type": "execute_result",
          "data": {
            "text/plain": [
              "count    3259.000000\n",
              "mean       30.480700\n",
              "std         7.278777\n",
              "min        11.300000\n",
              "25%        25.500000\n",
              "50%        29.300000\n",
              "75%        34.200000\n",
              "max        92.000000\n",
              "Name: bmi, dtype: float64"
            ]
          },
          "metadata": {},
          "execution_count": 415
        }
      ]
    },
    {
      "cell_type": "markdown",
      "source": [
        "A BMI of: \n",
        "\n",
        "* less than 18.5 is Underweight\n",
        "* 18.5 - 25 is Normal\t\n",
        "* 25 - 30 is Overweight\t\n",
        "* 30 - 35 is Moderate Obesity\n",
        "* 35 - 40 is Severe Obesity\n",
        "* 40 - 46 is Very Severe Obesity\n",
        "* 45-50 is Morbid\n",
        "* 50-60 is Super\n",
        "* greater then 60 is Hyper Obesity \n",
        " \n",
        "Data extracted from this ([article](https://www.topdoctors.co.uk/medical-dictionary/body-mass-index-bmi)).\n",
        " \n",
        " The fact that we have a mean value of 30 means that the dataset tends to describe a population that is slightly more overweight. "
      ],
      "metadata": {
        "id": "E7V4Ou9dyrA8"
      }
    },
    {
      "cell_type": "code",
      "source": [
        "plot_continuous_variable_distribution(adults_only_df, adults_only_df.bmi, \"bmi\", \"Population BMI Distribution\")"
      ],
      "metadata": {
        "id": "2L16u0Gxh01D",
        "outputId": "9959b8e5-63c2-4948-ca65-231debd448f1",
        "colab": {
          "base_uri": "https://localhost:8080/",
          "height": 534
        }
      },
      "execution_count": 416,
      "outputs": [
        {
          "output_type": "display_data",
          "data": {
            "text/plain": [
              "<Figure size 504x504 with 1 Axes>"
            ],
            "image/png": "[encoded data removed]"
          },
          "metadata": {
            "needs_background": "light"
          }
        }
      ]
    },
    {
      "cell_type": "markdown",
      "source": [
        "The data from above might be better understood if we would classify the BMI value by what it represents i.e. underweight, normal, overweight etc."
      ],
      "metadata": {
        "id": "N_1m_3nsR0XQ"
      }
    },
    {
      "cell_type": "code",
      "source": [
        "bmi_categ_list = ['underweight', 'normal', 'overweight',\n",
        "              'moderate obesity', 'severe obesity', 'very severe obesity']\n",
        "stroke_df_with_bmi_categ = adults_only_df.copy()\n",
        "stroke_df_with_bmi_categ.bmi = pd.cut(stroke_df_with_bmi_categ.bmi,\n",
        "                                      bins=[0, 18.5, 25, 30, 35, 40, 100],\n",
        "                                      labels=bmi_categ_list)\n",
        "\n",
        "bmi_categ_value_counts = stroke_df_with_bmi_categ.bmi.value_counts()\n",
        "\n",
        "plt.figure(figsize=(10,6))\n",
        "plt.title(\"Bmi by cathegory distribution among adults\")\n",
        "sns.barplot(x=bmi_categ_value_counts.index, y=bmi_categ_value_counts.array, order=bmi_categ_list)\n",
        "plt.show()\n"
      ],
      "metadata": {
        "id": "mRGzRM1TPVFg",
        "outputId": "08c24878-7ea5-4c10-aa12-abe96c73cd90",
        "colab": {
          "base_uri": "https://localhost:8080/",
          "height": 390
        }
      },
      "execution_count": 417,
      "outputs": [
        {
          "output_type": "display_data",
          "data": {
            "text/plain": [
              "<Figure size 720x432 with 1 Axes>"
            ],
            "image/png": "[encoded data removed]"
          },
          "metadata": {
            "needs_background": "light"
          }
        }
      ]
    },
    {
      "cell_type": "markdown",
      "source": [
        "The distrubution based on the BMI classifications is not very balanced, as is having more cases of overweight and obese people than people with normal weight. "
      ],
      "metadata": {
        "id": "v90VUMntBl-i"
      }
    },
    {
      "cell_type": "code",
      "source": [
        "plot_categorical_variable_stroke_ratio(stroke_df_with_bmi_categ, \"bmi\", \n",
        "                                       \"The ratio of adults having had a stroke,\\ncategorized by bmi status\",3)"
      ],
      "metadata": {
        "id": "83XLhh9BJIcY",
        "outputId": "17bda271-cce7-4e5f-977f-d9004ad7e102",
        "colab": {
          "base_uri": "https://localhost:8080/",
          "height": 431
        }
      },
      "execution_count": 418,
      "outputs": [
        {
          "output_type": "display_data",
          "data": {
            "text/plain": [
              "<Figure size 720x432 with 1 Axes>"
            ],
            "image/png": "[encoded data removed]"
          },
          "metadata": {
            "needs_background": "light"
          }
        }
      ]
    },
    {
      "cell_type": "markdown",
      "source": [
        "The adults that are overweight or suffer from obesity are more likely to have a stroke. The plot also shows that a stroke is more common in our dataset among people that are overweight, than those that are suffering from obesity, but the difference is not big."
      ],
      "metadata": {
        "id": "78ZTXetwOlUI"
      }
    },
    {
      "cell_type": "markdown",
      "source": [
        "Now let's analyze how the BMI values for children.\n",
        " "
      ],
      "metadata": {
        "id": "ySnwEvFcBI7z"
      }
    },
    {
      "cell_type": "code",
      "source": [
        "children_only_df = stroke_df.loc[stroke_df['age']<18]\n",
        "children_only_df.bmi.describe()"
      ],
      "metadata": {
        "id": "2LyAwjt32vjM",
        "outputId": "edf7cacd-ca90-4463-f33e-07adf689e807",
        "colab": {
          "base_uri": "https://localhost:8080/"
        }
      },
      "execution_count": 419,
      "outputs": [
        {
          "output_type": "execute_result",
          "data": {
            "text/plain": [
              "count    659.000000\n",
              "mean      21.214719\n",
              "std        6.351494\n",
              "min       10.300000\n",
              "25%       17.500000\n",
              "50%       19.800000\n",
              "75%       23.250000\n",
              "max       97.600000\n",
              "Name: bmi, dtype: float64"
            ]
          },
          "metadata": {},
          "execution_count": 419
        }
      ]
    },
    {
      "cell_type": "markdown",
      "source": [
        "We can observe that the mean value for children is 21, which is less than the one for adults, as we should expect."
      ],
      "metadata": {
        "id": "2iDX9xI8D3Ze"
      }
    },
    {
      "cell_type": "code",
      "source": [
        "plot_continuous_variable_distribution(children_only_df, children_only_df.bmi, \"bmi\", \"Children BMI Distribution\")"
      ],
      "metadata": {
        "id": "iG7CmIoh3W_F",
        "outputId": "7e62efcf-eb50-4795-eac9-3cf2757790be",
        "colab": {
          "base_uri": "https://localhost:8080/",
          "height": 534
        }
      },
      "execution_count": 420,
      "outputs": [
        {
          "output_type": "display_data",
          "data": {
            "text/plain": [
              "<Figure size 504x504 with 1 Axes>"
            ],
            "image/png": "[encoded data removed]"
          },
          "metadata": {
            "needs_background": "light"
          }
        }
      ]
    },
    {
      "cell_type": "markdown",
      "source": [
        "As expected, the whole distribution of bmi for children lays to the left, having in general smaller values for bmi than the values that we have for adults."
      ],
      "metadata": {
        "id": "NppxYZFVEKA9"
      }
    },
    {
      "cell_type": "code",
      "source": [
        "plot_continuous_variable_stroke_ratio(children_only_df, \"bmi\", 6, \"The ratio of children having had a stroke,\\ncategorized by their bmi\", 60, 3)"
      ],
      "metadata": {
        "id": "Rx9d9u4dX83t",
        "outputId": "3db26237-8fb4-4af1-88aa-1419c5309ae1",
        "colab": {
          "base_uri": "https://localhost:8080/",
          "height": 558
        }
      },
      "execution_count": 421,
      "outputs": [
        {
          "output_type": "stream",
          "name": "stdout",
          "text": [
            "<class 'pandas._libs.interval.Interval'>\n"
          ]
        },
        {
          "output_type": "display_data",
          "data": {
            "text/plain": [
              "<Figure size 504x504 with 1 Axes>"
            ],
            "image/png": "[encoded data removed]"
          },
          "metadata": {
            "needs_background": "light"
          }
        }
      ]
    },
    {
      "cell_type": "markdown",
      "source": [
        "#### Smoking Status"
      ],
      "metadata": {
        "id": "RVtzuSBhQMhb"
      }
    },
    {
      "cell_type": "markdown",
      "source": [
        "This feature shows whether a person\n",
        "\n",
        "\n",
        "*   smokes\n",
        "*   formerly smoked\n",
        "*   never smoked\n",
        "*   their smoking status is unknown\n",
        "\n"
      ],
      "metadata": {
        "id": "glyJxIW-GDQS"
      }
    },
    {
      "cell_type": "code",
      "source": [
        "smoking_value_counts = stroke_df.smoking_status.value_counts()\n",
        "smoking_value_counts"
      ],
      "metadata": {
        "colab": {
          "base_uri": "https://localhost:8080/"
        },
        "id": "1e4cRVMBGCv2",
        "outputId": "90944530-8c00-434b-9eed-1b5f2c47da7b"
      },
      "execution_count": 422,
      "outputs": [
        {
          "output_type": "execute_result",
          "data": {
            "text/plain": [
              "never smoked       1501\n",
              "Unknown            1247\n",
              "formerly smoked     714\n",
              "smokes              626\n",
              "Name: smoking_status, dtype: int64"
            ]
          },
          "metadata": {},
          "execution_count": 422
        }
      ]
    },
    {
      "cell_type": "code",
      "source": [
        "explode = [0.05] * smoking_value_counts.count()\n",
        "plt.pie(smoking_value_counts.array, labels=smoking_value_counts.index, autopct = '%0.0f%%', explode = explode)\n",
        "plt.title(\"The Ratio of Population with different Smoking Status\")\n",
        "plt.show()"
      ],
      "metadata": {
        "colab": {
          "base_uri": "https://localhost:8080/",
          "height": 264
        },
        "id": "A1wIpENmGfNb",
        "outputId": "b9f140cc-08dd-4832-cba5-e1e074b3af94"
      },
      "execution_count": 423,
      "outputs": [
        {
          "output_type": "display_data",
          "data": {
            "text/plain": [
              "<Figure size 432x288 with 1 Axes>"
            ],
            "image/png": "[encoded data removed]"
          },
          "metadata": {}
        }
      ]
    },
    {
      "cell_type": "markdown",
      "source": [
        "We can see that 31% of the data is missing. We can't drop 30% of the data, so we should replace the 'Unknown' values somehow."
      ],
      "metadata": {
        "id": "Il47Xj52Gq7z"
      }
    },
    {
      "cell_type": "code",
      "source": [
        "plot_categorical_variable_stroke_ratio(stroke_df, \"smoking_status\", \"The ratio of peope having had a stroke,\\ncategorized by Smoking Status\", 3)"
      ],
      "metadata": {
        "id": "vM2zsLU-N6SU",
        "outputId": "6789b186-7aa3-4e4f-d7fa-9d4c53eba40b",
        "colab": {
          "base_uri": "https://localhost:8080/",
          "height": 432
        }
      },
      "execution_count": 424,
      "outputs": [
        {
          "output_type": "display_data",
          "data": {
            "text/plain": [
              "<Figure size 720x432 with 1 Axes>"
            ],
            "image/png": "[encoded data removed]"
          },
          "metadata": {
            "needs_background": "light"
          }
        }
      ]
    },
    {
      "cell_type": "markdown",
      "source": [
        "Unexpectedly, the ratio of people who had a stroke is higher among former smokers than among current smokers. \n",
        "\n",
        "This may be explained by the facts that:\n",
        "\n",
        "\n",
        "*   those who have formerly smoked may be older\n",
        "*   many of those who are smoking now may have smoked for less time\n",
        "\n",
        "\n"
      ],
      "metadata": {
        "id": "M9o5Lk51Isxc"
      }
    },
    {
      "cell_type": "markdown",
      "source": [
        "### The label: Stroke"
      ],
      "metadata": {
        "id": "a4od9mdwQQHT"
      }
    },
    {
      "cell_type": "markdown",
      "source": [
        "The most imporant part is knowing the number of people that had stroke in our dataset, since this is what we are trying to predict."
      ],
      "metadata": {
        "id": "8dvPyZgmSYu1"
      }
    },
    {
      "cell_type": "code",
      "source": [
        "stroke_value_counts = stroke_df.stroke.value_counts()\n",
        "stroke_value_counts"
      ],
      "metadata": {
        "id": "pk5sHDvjSHp8",
        "outputId": "775f0a0f-72fe-4c83-c8aa-321a3eabd2a3",
        "colab": {
          "base_uri": "https://localhost:8080/"
        }
      },
      "execution_count": 425,
      "outputs": [
        {
          "output_type": "execute_result",
          "data": {
            "text/plain": [
              "0    3889\n",
              "1     199\n",
              "Name: stroke, dtype: int64"
            ]
          },
          "metadata": {},
          "execution_count": 425
        }
      ]
    },
    {
      "cell_type": "code",
      "source": [
        "explode = [0.02,0.3]\n",
        "plt.pie(stroke_value_counts.array, labels=stroke_value_counts.index, autopct = '%0.0f%%', explode = explode)\n",
        "plt.show()"
      ],
      "metadata": {
        "id": "sZiWvwvvSSWl",
        "outputId": "0c7340d1-e067-44e8-b200-2bbd321d8a0e",
        "colab": {
          "base_uri": "https://localhost:8080/",
          "height": 248
        }
      },
      "execution_count": 426,
      "outputs": [
        {
          "output_type": "display_data",
          "data": {
            "text/plain": [
              "<Figure size 432x288 with 1 Axes>"
            ],
            "image/png": "[encoded data removed]"
          },
          "metadata": {}
        }
      ]
    },
    {
      "cell_type": "markdown",
      "source": [
        "Only 5% of people in our dataset have had a stroke. "
      ],
      "metadata": {
        "id": "wJdcLf8QSi7K"
      }
    },
    {
      "cell_type": "markdown",
      "source": [
        "## Data Cleaning"
      ],
      "metadata": {
        "id": "82-1WbvKRCqY"
      }
    },
    {
      "cell_type": "markdown",
      "source": [
        "Let's check where we have NaN values first."
      ],
      "metadata": {
        "id": "m3HK_pBKE_iz"
      }
    },
    {
      "cell_type": "code",
      "source": [
        "stroke_df.isnull().sum()"
      ],
      "metadata": {
        "id": "PPjxt3ej3KWE",
        "outputId": "8239dbc7-dae5-4d17-a831-fb8e72f34306",
        "colab": {
          "base_uri": "https://localhost:8080/"
        }
      },
      "execution_count": 427,
      "outputs": [
        {
          "output_type": "execute_result",
          "data": {
            "text/plain": [
              "id                     0\n",
              "gender                 0\n",
              "age                    0\n",
              "hypertension           0\n",
              "heart_disease          0\n",
              "ever_married           0\n",
              "work_type              0\n",
              "residence_type         0\n",
              "avg_glucose_level      0\n",
              "bmi                  170\n",
              "smoking_status         0\n",
              "stroke                 0\n",
              "dtype: int64"
            ]
          },
          "metadata": {},
          "execution_count": 427
        }
      ]
    },
    {
      "cell_type": "markdown",
      "source": [
        "The NaN values appear only for bmi, but it is not the only feature in our dataset that has to be cleaned."
      ],
      "metadata": {
        "id": "2nQjAsfGFRE2"
      }
    },
    {
      "cell_type": "markdown",
      "source": [
        "### Gender"
      ],
      "metadata": {
        "id": "6i7MgkyXCs3B"
      }
    },
    {
      "cell_type": "markdown",
      "source": [
        "We have seen earlier that we have a single value in our dataset that has 'Other' as a gender, so it is better to remove it as it is not enough data to make predictions based on other genders."
      ],
      "metadata": {
        "id": "bV0jJn5cC00k"
      }
    },
    {
      "cell_type": "code",
      "source": [
        "stroke_df.drop(stroke_df[stroke_df['gender'] == 'Other'].index, inplace=True)\n",
        "stroke_df.gender.value_counts()"
      ],
      "metadata": {
        "id": "Mbhx165nCsUW",
        "outputId": "0387fb05-3150-453b-dc2c-7c0354639efe",
        "colab": {
          "base_uri": "https://localhost:8080/"
        }
      },
      "execution_count": 428,
      "outputs": [
        {
          "output_type": "execute_result",
          "data": {
            "text/plain": [
              "Female    2395\n",
              "Male      1692\n",
              "Name: gender, dtype: int64"
            ]
          },
          "metadata": {},
          "execution_count": 428
        }
      ]
    },
    {
      "cell_type": "markdown",
      "source": [
        "### Work Type"
      ],
      "metadata": {
        "id": "rx2Ai6xSRJh9"
      }
    },
    {
      "cell_type": "markdown",
      "source": [
        "Fow work types, we have identified never_worked to have only 22 value counts. Some of the people that have never_worked as work type, are children. We should replace their work_status to children. To make things easier, we can directly delete the 5 rows for adults that have never_worked, and replace all remaing never_worked values with children."
      ],
      "metadata": {
        "id": "kEyd7WThFpfl"
      }
    },
    {
      "cell_type": "code",
      "source": [
        "stroke_df.drop(stroke_df[(stroke_df['work_type'] == 'Never_worked') & (stroke_df['age']>=18)].index, inplace=True)\n",
        "print(stroke_df.work_type.value_counts())"
      ],
      "metadata": {
        "id": "5Mc1NdpcI4Ro",
        "outputId": "37ead4c0-f836-4db7-d622-4fddd8d7f9bb",
        "colab": {
          "base_uri": "https://localhost:8080/"
        }
      },
      "execution_count": 429,
      "outputs": [
        {
          "output_type": "stream",
          "name": "stdout",
          "text": [
            "Private          2331\n",
            "Self-employed     667\n",
            "children          554\n",
            "Govt_job          522\n",
            "Never_worked        9\n",
            "Name: work_type, dtype: int64\n"
          ]
        }
      ]
    },
    {
      "cell_type": "code",
      "source": [
        "stroke_df.work_type.replace(\"Never_worked\", \"children\", inplace=True)\n",
        "new_work_type_value_counts = stroke_df.work_type.value_counts()\n",
        "new_work_type_value_counts"
      ],
      "metadata": {
        "id": "13TpZWwoLfkc",
        "outputId": "f8cecd6e-c5a7-4cd3-b415-677cf27f1332",
        "colab": {
          "base_uri": "https://localhost:8080/"
        }
      },
      "execution_count": 430,
      "outputs": [
        {
          "output_type": "execute_result",
          "data": {
            "text/plain": [
              "Private          2331\n",
              "Self-employed     667\n",
              "children          563\n",
              "Govt_job          522\n",
              "Name: work_type, dtype: int64"
            ]
          },
          "metadata": {},
          "execution_count": 430
        }
      ]
    },
    {
      "cell_type": "code",
      "source": [
        "plt.figure(figsize=(10,6))\n",
        "plt.title(\"Work types value counts\")\n",
        "sns.barplot(x=new_work_type_value_counts.index, y=new_work_type_value_counts.array)\n",
        "plt.show()"
      ],
      "metadata": {
        "id": "nNuFnAHTO2Bm",
        "outputId": "b4bccf8a-f42e-4be8-d097-215084e4b626",
        "colab": {
          "base_uri": "https://localhost:8080/",
          "height": 391
        }
      },
      "execution_count": 431,
      "outputs": [
        {
          "output_type": "display_data",
          "data": {
            "text/plain": [
              "<Figure size 720x432 with 1 Axes>"
            ],
            "image/png": "[encoded data removed]"
          },
          "metadata": {
            "needs_background": "light"
          }
        }
      ]
    },
    {
      "cell_type": "markdown",
      "source": [
        "### Body Mass Index"
      ],
      "metadata": {
        "id": "sB2eZUV_RL1v"
      }
    },
    {
      "cell_type": "markdown",
      "source": [
        "To replace the missing values there are several approaches:\n",
        "\n",
        "\n",
        "*   Drop columns with missing value i.e. bmi\n",
        "*   Use a simpleImputer with a median strategy to replace them\n",
        "*   Replace with median based on age, as we expect a different bmi for adults then for children, also add a new column to tell which value was missing\n",
        "\n",
        "To test which approach is better we will try to predict on the changed dataset for every approach, and measure which one give us a smaller mean abolute error.\n",
        "\n"
      ],
      "metadata": {
        "id": "LwvEzRsJLtaN"
      }
    },
    {
      "cell_type": "code",
      "source": [
        "bmi_stroke_df = stroke_df.copy()\n",
        "y = bmi_stroke_df.stroke\n",
        "X = bmi_stroke_df.drop(['stroke', 'id'], axis=1)\n",
        "X.head()"
      ],
      "metadata": {
        "id": "_wVw0AZVQ-18",
        "outputId": "a64a4450-811c-4f2f-c037-2cc449b35396",
        "colab": {
          "base_uri": "https://localhost:8080/",
          "height": 206
        }
      },
      "execution_count": 432,
      "outputs": [
        {
          "output_type": "execute_result",
          "data": {
            "text/plain": [
              "      gender   age  hypertension  heart_disease ever_married      work_type  \\\n",
              "845   Female  48.0             0              0          Yes        Private   \n",
              "3744    Male  15.0             0              0           No        Private   \n",
              "4183  Female  67.0             0              0          Yes  Self-employed   \n",
              "3409    Male  44.0             0              0          Yes        Private   \n",
              "284     Male  14.0             0              0           No       Govt_job   \n",
              "\n",
              "     residence_type  avg_glucose_level   bmi smoking_status  \n",
              "845           Urban              69.21  33.1   never smoked  \n",
              "3744          Rural             122.25  21.0   never smoked  \n",
              "4183          Rural             110.42  24.9   never smoked  \n",
              "3409          Urban              65.41  24.8         smokes  \n",
              "284           Urban              82.34  31.6        Unknown  "
            ],
            "text/html": [
              "\n",
              "  <div id=\"df-835fd492-ff70-4ebf-a908-a9275579a621\">\n",
              "    <div class=\"colab-df-container\">\n",
              "      <div>\n",
              "<style scoped>\n",
              "    .dataframe tbody tr th:only-of-type {\n",
              "        vertical-align: middle;\n",
              "    }\n",
              "\n",
              "    .dataframe tbody tr th {\n",
              "        vertical-align: top;\n",
              "    }\n",
              "\n",
              "    .dataframe thead th {\n",
              "        text-align: right;\n",
              "    }\n",
              "</style>\n",
              "<table border=\"1\" class=\"dataframe\">\n",
              "  <thead>\n",
              "    <tr style=\"text-align: right;\">\n",
              "      <th></th>\n",
              "      <th>gender</th>\n",
              "      <th>age</th>\n",
              "      <th>hypertension</th>\n",
              "      <th>heart_disease</th>\n",
              "      <th>ever_married</th>\n",
              "      <th>work_type</th>\n",
              "      <th>residence_type</th>\n",
              "      <th>avg_glucose_level</th>\n",
              "      <th>bmi</th>\n",
              "      <th>smoking_status</th>\n",
              "    </tr>\n",
              "  </thead>\n",
              "  <tbody>\n",
              "    <tr>\n",
              "      <th>845</th>\n",
              "      <td>Female</td>\n",
              "      <td>48.0</td>\n",
              "      <td>0</td>\n",
              "      <td>0</td>\n",
              "      <td>Yes</td>\n",
              "      <td>Private</td>\n",
              "      <td>Urban</td>\n",
              "      <td>69.21</td>\n",
              "      <td>33.1</td>\n",
              "      <td>never smoked</td>\n",
              "    </tr>\n",
              "    <tr>\n",
              "      <th>3744</th>\n",
              "      <td>Male</td>\n",
              "      <td>15.0</td>\n",
              "      <td>0</td>\n",
              "      <td>0</td>\n",
              "      <td>No</td>\n",
              "      <td>Private</td>\n",
              "      <td>Rural</td>\n",
              "      <td>122.25</td>\n",
              "      <td>21.0</td>\n",
              "      <td>never smoked</td>\n",
              "    </tr>\n",
              "    <tr>\n",
              "      <th>4183</th>\n",
              "      <td>Female</td>\n",
              "      <td>67.0</td>\n",
              "      <td>0</td>\n",
              "      <td>0</td>\n",
              "      <td>Yes</td>\n",
              "      <td>Self-employed</td>\n",
              "      <td>Rural</td>\n",
              "      <td>110.42</td>\n",
              "      <td>24.9</td>\n",
              "      <td>never smoked</td>\n",
              "    </tr>\n",
              "    <tr>\n",
              "      <th>3409</th>\n",
              "      <td>Male</td>\n",
              "      <td>44.0</td>\n",
              "      <td>0</td>\n",
              "      <td>0</td>\n",
              "      <td>Yes</td>\n",
              "      <td>Private</td>\n",
              "      <td>Urban</td>\n",
              "      <td>65.41</td>\n",
              "      <td>24.8</td>\n",
              "      <td>smokes</td>\n",
              "    </tr>\n",
              "    <tr>\n",
              "      <th>284</th>\n",
              "      <td>Male</td>\n",
              "      <td>14.0</td>\n",
              "      <td>0</td>\n",
              "      <td>0</td>\n",
              "      <td>No</td>\n",
              "      <td>Govt_job</td>\n",
              "      <td>Urban</td>\n",
              "      <td>82.34</td>\n",
              "      <td>31.6</td>\n",
              "      <td>Unknown</td>\n",
              "    </tr>\n",
              "  </tbody>\n",
              "</table>\n",
              "</div>\n",
              "      <button class=\"colab-df-convert\" onclick=\"convertToInteractive('df-835fd492-ff70-4ebf-a908-a9275579a621')\"\n",
              "              title=\"Convert this dataframe to an interactive table.\"\n",
              "              style=\"display:none;\">\n",
              "        \n",
              "  <svg xmlns=\"http://www.w3.org/2000/svg\" height=\"24px\"viewBox=\"0 0 24 24\"\n",
              "       width=\"24px\">\n",
              "    <path d=\"M0 0h24v24H0V0z\" fill=\"none\"/>\n",
              "    <path d=\"M18.56 5.44l.94 2.06.94-2.06 2.06-.94-2.06-.94-.94-2.06-.94 2.06-2.06.94zm-11 1L8.5 8.5l.94-2.06 2.06-.94-2.06-.94L8.5 2.5l-.94 2.06-2.06.94zm10 10l.94 2.06.94-2.06 2.06-.94-2.06-.94-.94-2.06-.94 2.06-2.06.94z\"/><path d=\"M17.41 7.96l-1.37-1.37c-.4-.4-.92-.59-1.43-.59-.52 0-1.04.2-1.43.59L10.3 9.45l-7.72 7.72c-.78.78-.78 2.05 0 2.83L4 21.41c.39.39.9.59 1.41.59.51 0 1.02-.2 1.41-.59l7.78-7.78 2.81-2.81c.8-.78.8-2.07 0-2.86zM5.41 20L4 18.59l7.72-7.72 1.47 1.35L5.41 20z\"/>\n",
              "  </svg>\n",
              "      </button>\n",
              "      \n",
              "  <style>\n",
              "    .colab-df-container {\n",
              "      display:flex;\n",
              "      flex-wrap:wrap;\n",
              "      gap: 12px;\n",
              "    }\n",
              "\n",
              "    .colab-df-convert {\n",
              "      background-color: #E8F0FE;\n",
              "      border: none;\n",
              "      border-radius: 50%;\n",
              "      cursor: pointer;\n",
              "      display: none;\n",
              "      fill: #1967D2;\n",
              "      height: 32px;\n",
              "      padding: 0 0 0 0;\n",
              "      width: 32px;\n",
              "    }\n",
              "\n",
              "    .colab-df-convert:hover {\n",
              "      background-color: #E2EBFA;\n",
              "      box-shadow: 0px 1px 2px rgba(60, 64, 67, 0.3), 0px 1px 3px 1px rgba(60, 64, 67, 0.15);\n",
              "      fill: #174EA6;\n",
              "    }\n",
              "\n",
              "    [theme=dark] .colab-df-convert {\n",
              "      background-color: #3B4455;\n",
              "      fill: #D2E3FC;\n",
              "    }\n",
              "\n",
              "    [theme=dark] .colab-df-convert:hover {\n",
              "      background-color: #434B5C;\n",
              "      box-shadow: 0px 1px 3px 1px rgba(0, 0, 0, 0.15);\n",
              "      filter: drop-shadow(0px 1px 2px rgba(0, 0, 0, 0.3));\n",
              "      fill: #FFFFFF;\n",
              "    }\n",
              "  </style>\n",
              "\n",
              "      <script>\n",
              "        const buttonEl =\n",
              "          document.querySelector('#df-835fd492-ff70-4ebf-a908-a9275579a621 button.colab-df-convert');\n",
              "        buttonEl.style.display =\n",
              "          google.colab.kernel.accessAllowed ? 'block' : 'none';\n",
              "\n",
              "        async function convertToInteractive(key) {\n",
              "          const element = document.querySelector('#df-835fd492-ff70-4ebf-a908-a9275579a621');\n",
              "          const dataTable =\n",
              "            await google.colab.kernel.invokeFunction('convertToInteractive',\n",
              "                                                     [key], {});\n",
              "          if (!dataTable) return;\n",
              "\n",
              "          const docLinkHtml = 'Like what you see? Visit the ' +\n",
              "            '<a target=\"_blank\" href=https://colab.research.google.com/notebooks/data_table.ipynb>data table notebook</a>'\n",
              "            + ' to learn more about interactive tables.';\n",
              "          element.innerHTML = '';\n",
              "          dataTable['output_type'] = 'display_data';\n",
              "          await google.colab.output.renderOutput(dataTable, element);\n",
              "          const docLink = document.createElement('div');\n",
              "          docLink.innerHTML = docLinkHtml;\n",
              "          element.appendChild(docLink);\n",
              "        }\n",
              "      </script>\n",
              "    </div>\n",
              "  </div>\n",
              "  "
            ]
          },
          "metadata": {},
          "execution_count": 432
        }
      ]
    },
    {
      "cell_type": "code",
      "source": [
        "X_train, X_valid, y_train, y_valid = train_test_split(X, y, test_size=.2, random_state=0)\n",
        "\n",
        "X_train.head()"
      ],
      "metadata": {
        "id": "upc9juNpRsCf",
        "outputId": "0fe77335-774c-4301-bfcc-a7a24b3c92cc",
        "colab": {
          "base_uri": "https://localhost:8080/",
          "height": 206
        }
      },
      "execution_count": 433,
      "outputs": [
        {
          "output_type": "execute_result",
          "data": {
            "text/plain": [
              "      gender   age  hypertension  heart_disease ever_married      work_type  \\\n",
              "3686  Female  80.0             1              0          Yes  Self-employed   \n",
              "4582  Female  76.0             0              0          Yes       Govt_job   \n",
              "2590  Female  13.0             0              0           No       children   \n",
              "2480    Male  14.0             0              0           No       children   \n",
              "1534  Female  38.0             0              0          Yes        Private   \n",
              "\n",
              "     residence_type  avg_glucose_level   bmi smoking_status  \n",
              "3686          Urban             218.00  33.5        Unknown  \n",
              "4582          Urban             223.64  27.1         smokes  \n",
              "2590          Urban             105.22  18.4        Unknown  \n",
              "2480          Rural             112.22  26.9        Unknown  \n",
              "1534          Rural             196.20  32.8   never smoked  "
            ],
            "text/html": [
              "\n",
              "  <div id=\"df-f8fda553-97ea-4ed1-8498-4de2ad316c79\">\n",
              "    <div class=\"colab-df-container\">\n",
              "      <div>\n",
              "<style scoped>\n",
              "    .dataframe tbody tr th:only-of-type {\n",
              "        vertical-align: middle;\n",
              "    }\n",
              "\n",
              "    .dataframe tbody tr th {\n",
              "        vertical-align: top;\n",
              "    }\n",
              "\n",
              "    .dataframe thead th {\n",
              "        text-align: right;\n",
              "    }\n",
              "</style>\n",
              "<table border=\"1\" class=\"dataframe\">\n",
              "  <thead>\n",
              "    <tr style=\"text-align: right;\">\n",
              "      <th></th>\n",
              "      <th>gender</th>\n",
              "      <th>age</th>\n",
              "      <th>hypertension</th>\n",
              "      <th>heart_disease</th>\n",
              "      <th>ever_married</th>\n",
              "      <th>work_type</th>\n",
              "      <th>residence_type</th>\n",
              "      <th>avg_glucose_level</th>\n",
              "      <th>bmi</th>\n",
              "      <th>smoking_status</th>\n",
              "    </tr>\n",
              "  </thead>\n",
              "  <tbody>\n",
              "    <tr>\n",
              "      <th>3686</th>\n",
              "      <td>Female</td>\n",
              "      <td>80.0</td>\n",
              "      <td>1</td>\n",
              "      <td>0</td>\n",
              "      <td>Yes</td>\n",
              "      <td>Self-employed</td>\n",
              "      <td>Urban</td>\n",
              "      <td>218.00</td>\n",
              "      <td>33.5</td>\n",
              "      <td>Unknown</td>\n",
              "    </tr>\n",
              "    <tr>\n",
              "      <th>4582</th>\n",
              "      <td>Female</td>\n",
              "      <td>76.0</td>\n",
              "      <td>0</td>\n",
              "      <td>0</td>\n",
              "      <td>Yes</td>\n",
              "      <td>Govt_job</td>\n",
              "      <td>Urban</td>\n",
              "      <td>223.64</td>\n",
              "      <td>27.1</td>\n",
              "      <td>smokes</td>\n",
              "    </tr>\n",
              "    <tr>\n",
              "      <th>2590</th>\n",
              "      <td>Female</td>\n",
              "      <td>13.0</td>\n",
              "      <td>0</td>\n",
              "      <td>0</td>\n",
              "      <td>No</td>\n",
              "      <td>children</td>\n",
              "      <td>Urban</td>\n",
              "      <td>105.22</td>\n",
              "      <td>18.4</td>\n",
              "      <td>Unknown</td>\n",
              "    </tr>\n",
              "    <tr>\n",
              "      <th>2480</th>\n",
              "      <td>Male</td>\n",
              "      <td>14.0</td>\n",
              "      <td>0</td>\n",
              "      <td>0</td>\n",
              "      <td>No</td>\n",
              "      <td>children</td>\n",
              "      <td>Rural</td>\n",
              "      <td>112.22</td>\n",
              "      <td>26.9</td>\n",
              "      <td>Unknown</td>\n",
              "    </tr>\n",
              "    <tr>\n",
              "      <th>1534</th>\n",
              "      <td>Female</td>\n",
              "      <td>38.0</td>\n",
              "      <td>0</td>\n",
              "      <td>0</td>\n",
              "      <td>Yes</td>\n",
              "      <td>Private</td>\n",
              "      <td>Rural</td>\n",
              "      <td>196.20</td>\n",
              "      <td>32.8</td>\n",
              "      <td>never smoked</td>\n",
              "    </tr>\n",
              "  </tbody>\n",
              "</table>\n",
              "</div>\n",
              "      <button class=\"colab-df-convert\" onclick=\"convertToInteractive('df-f8fda553-97ea-4ed1-8498-4de2ad316c79')\"\n",
              "              title=\"Convert this dataframe to an interactive table.\"\n",
              "              style=\"display:none;\">\n",
              "        \n",
              "  <svg xmlns=\"http://www.w3.org/2000/svg\" height=\"24px\"viewBox=\"0 0 24 24\"\n",
              "       width=\"24px\">\n",
              "    <path d=\"M0 0h24v24H0V0z\" fill=\"none\"/>\n",
              "    <path d=\"M18.56 5.44l.94 2.06.94-2.06 2.06-.94-2.06-.94-.94-2.06-.94 2.06-2.06.94zm-11 1L8.5 8.5l.94-2.06 2.06-.94-2.06-.94L8.5 2.5l-.94 2.06-2.06.94zm10 10l.94 2.06.94-2.06 2.06-.94-2.06-.94-.94-2.06-.94 2.06-2.06.94z\"/><path d=\"M17.41 7.96l-1.37-1.37c-.4-.4-.92-.59-1.43-.59-.52 0-1.04.2-1.43.59L10.3 9.45l-7.72 7.72c-.78.78-.78 2.05 0 2.83L4 21.41c.39.39.9.59 1.41.59.51 0 1.02-.2 1.41-.59l7.78-7.78 2.81-2.81c.8-.78.8-2.07 0-2.86zM5.41 20L4 18.59l7.72-7.72 1.47 1.35L5.41 20z\"/>\n",
              "  </svg>\n",
              "      </button>\n",
              "      \n",
              "  <style>\n",
              "    .colab-df-container {\n",
              "      display:flex;\n",
              "      flex-wrap:wrap;\n",
              "      gap: 12px;\n",
              "    }\n",
              "\n",
              "    .colab-df-convert {\n",
              "      background-color: #E8F0FE;\n",
              "      border: none;\n",
              "      border-radius: 50%;\n",
              "      cursor: pointer;\n",
              "      display: none;\n",
              "      fill: #1967D2;\n",
              "      height: 32px;\n",
              "      padding: 0 0 0 0;\n",
              "      width: 32px;\n",
              "    }\n",
              "\n",
              "    .colab-df-convert:hover {\n",
              "      background-color: #E2EBFA;\n",
              "      box-shadow: 0px 1px 2px rgba(60, 64, 67, 0.3), 0px 1px 3px 1px rgba(60, 64, 67, 0.15);\n",
              "      fill: #174EA6;\n",
              "    }\n",
              "\n",
              "    [theme=dark] .colab-df-convert {\n",
              "      background-color: #3B4455;\n",
              "      fill: #D2E3FC;\n",
              "    }\n",
              "\n",
              "    [theme=dark] .colab-df-convert:hover {\n",
              "      background-color: #434B5C;\n",
              "      box-shadow: 0px 1px 3px 1px rgba(0, 0, 0, 0.15);\n",
              "      filter: drop-shadow(0px 1px 2px rgba(0, 0, 0, 0.3));\n",
              "      fill: #FFFFFF;\n",
              "    }\n",
              "  </style>\n",
              "\n",
              "      <script>\n",
              "        const buttonEl =\n",
              "          document.querySelector('#df-f8fda553-97ea-4ed1-8498-4de2ad316c79 button.colab-df-convert');\n",
              "        buttonEl.style.display =\n",
              "          google.colab.kernel.accessAllowed ? 'block' : 'none';\n",
              "\n",
              "        async function convertToInteractive(key) {\n",
              "          const element = document.querySelector('#df-f8fda553-97ea-4ed1-8498-4de2ad316c79');\n",
              "          const dataTable =\n",
              "            await google.colab.kernel.invokeFunction('convertToInteractive',\n",
              "                                                     [key], {});\n",
              "          if (!dataTable) return;\n",
              "\n",
              "          const docLinkHtml = 'Like what you see? Visit the ' +\n",
              "            '<a target=\"_blank\" href=https://colab.research.google.com/notebooks/data_table.ipynb>data table notebook</a>'\n",
              "            + ' to learn more about interactive tables.';\n",
              "          element.innerHTML = '';\n",
              "          dataTable['output_type'] = 'display_data';\n",
              "          await google.colab.output.renderOutput(dataTable, element);\n",
              "          const docLink = document.createElement('div');\n",
              "          docLink.innerHTML = docLinkHtml;\n",
              "          element.appendChild(docLink);\n",
              "        }\n",
              "      </script>\n",
              "    </div>\n",
              "  </div>\n",
              "  "
            ]
          },
          "metadata": {},
          "execution_count": 433
        }
      ]
    },
    {
      "cell_type": "code",
      "source": [
        "# handling categorical variables\n",
        "\n",
        "# Get list of categorical variables\n",
        "s = (X_train.dtypes == 'object')\n",
        "object_cols = list(s[s].index)\n",
        "\n",
        "# apply one-hot encoder on them\n",
        "OH_encoder = OneHotEncoder(handle_unknown='ignore', sparse=False)\n",
        "\n",
        "OH_transformed_train = OH_encoder.fit_transform(X_train[object_cols])\n",
        "OH_transformed_valid = OH_encoder.transform(X_valid[object_cols])\n",
        "\n",
        "column_names = OH_encoder.get_feature_names_out(object_cols)\n",
        "\n",
        "OH_cols_train = pd.DataFrame(OH_transformed_train, columns=column_names)\n",
        "OH_cols_valid = pd.DataFrame(OH_transformed_valid, columns=column_names)\n",
        "\n",
        "# One-hot encoding removed index; put it back\n",
        "OH_cols_train.index = X_train.index\n",
        "OH_cols_valid.index = X_valid.index\n",
        "\n",
        "# Remove categorical columns (will replace with one-hot encoding)\n",
        "num_X_train = X_train.drop(object_cols, axis=1)\n",
        "num_X_valid = X_valid.drop(object_cols, axis=1)\n",
        "\n",
        "# Add one-hot encoded columns to numerical features\n",
        "X_train = pd.concat([num_X_train, OH_cols_train], axis=1)\n",
        "X_valid = pd.concat([num_X_valid, OH_cols_valid], axis=1)"
      ],
      "metadata": {
        "id": "fyDSz_OpHQPF"
      },
      "execution_count": 434,
      "outputs": []
    },
    {
      "cell_type": "markdown",
      "source": [
        "#### *Approach 1*"
      ],
      "metadata": {
        "id": "W3AAflL7SHYW"
      }
    },
    {
      "cell_type": "markdown",
      "source": [
        "Drop bmi column as it has missing values."
      ],
      "metadata": {
        "id": "_vy6_5VGSS7q"
      }
    },
    {
      "cell_type": "code",
      "source": [
        "reduced_X_train = X_train.drop(['bmi'], axis=1)\n",
        "reduced_X_valid = X_valid.drop(['bmi'], axis=1)\n",
        "\n",
        "print(score_dataset(reduced_X_train, reduced_X_valid, y_train, y_valid))"
      ],
      "metadata": {
        "id": "w_z7oHYPSvff",
        "outputId": "bfdaf7ba-f0f3-4f07-f9ea-92d30411579f",
        "colab": {
          "base_uri": "https://localhost:8080/"
        }
      },
      "execution_count": 435,
      "outputs": [
        {
          "output_type": "stream",
          "name": "stdout",
          "text": [
            "0.09767441860465118\n"
          ]
        }
      ]
    },
    {
      "cell_type": "markdown",
      "source": [
        "This is the mean absolute error that we got. Let's see if we can improve it."
      ],
      "metadata": {
        "id": "Kp0Tn6v3TBDt"
      }
    },
    {
      "cell_type": "markdown",
      "source": [
        "#### *Approach 2*"
      ],
      "metadata": {
        "id": "G6e2WSprTKgl"
      }
    },
    {
      "cell_type": "markdown",
      "source": [
        "We can replace the missing values with the median value, using a Simple Imputer."
      ],
      "metadata": {
        "id": "Na82aKAhTP5K"
      }
    },
    {
      "cell_type": "code",
      "source": [
        "simple_imputer = SimpleImputer(strategy='median')\n",
        "imputed_X_train = pd.DataFrame(simple_imputer.fit_transform(X_train))\n",
        "imputed_X_valid = pd.DataFrame(simple_imputer.transform(X_valid))\n",
        "\n",
        "#imputer deleted the column names so we have to add them back\n",
        "imputed_X_train.columns = X_train.columns\n",
        "imputed_X_valid.columns = X_valid.columns\n",
        "\n",
        "print(score_dataset(imputed_X_train, imputed_X_valid, y_train, y_valid))"
      ],
      "metadata": {
        "id": "RZSBuMpBTJpY",
        "outputId": "57cda98f-7f79-44fa-ab1a-5507a347bff4",
        "colab": {
          "base_uri": "https://localhost:8080/"
        }
      },
      "execution_count": 436,
      "outputs": [
        {
          "output_type": "stream",
          "name": "stdout",
          "text": [
            "0.09302325581395349\n"
          ]
        }
      ]
    },
    {
      "cell_type": "markdown",
      "source": [
        "The error is getting smaller."
      ],
      "metadata": {
        "id": "95hMArpXTxTf"
      }
    },
    {
      "cell_type": "markdown",
      "source": [
        "#### *Approach 3*"
      ],
      "metadata": {
        "id": "PMp9Nq47T4ef"
      }
    },
    {
      "cell_type": "markdown",
      "source": [
        "A better aproach would be to replace with median according to age. Thus adults will get a median for adults, and children will have a median for children. We should also specify to the model that this was a missing value."
      ],
      "metadata": {
        "id": "xqZ3psLZT9bO"
      }
    },
    {
      "cell_type": "code",
      "source": [
        "children_median, adults_median = get_mean_based_on_age(X_train)\n",
        "X_train_plus = clean_bmi(X_train, children_median, adults_median)\n",
        "X_valid_plus = clean_bmi(X_valid, children_median, adults_median)\n",
        "print(score_dataset(X_train_plus, X_valid_plus, y_train, y_valid))"
      ],
      "metadata": {
        "id": "f7togENcV5QY",
        "outputId": "01ead0eb-8887-4607-a80a-9d855ab7ba47",
        "colab": {
          "base_uri": "https://localhost:8080/"
        }
      },
      "execution_count": 437,
      "outputs": [
        {
          "output_type": "stream",
          "name": "stdout",
          "text": [
            "0.08935128518971848\n"
          ]
        }
      ]
    },
    {
      "cell_type": "markdown",
      "source": [
        "It seems that the mean absolute error is now smaller. Altought it does not seem like a big improvement, it might be better this way for predicting on new data."
      ],
      "metadata": {
        "id": "pphBMARGX7Ei"
      }
    },
    {
      "cell_type": "markdown",
      "source": [
        "We will use approach 3 for our final cleaning for bmi."
      ],
      "metadata": {
        "id": "nDg5iwerYSID"
      }
    },
    {
      "cell_type": "code",
      "source": [
        "children_median, adults_median = get_mean_based_on_age(stroke_df)\n",
        "stroke_df = clean_bmi(stroke_df, children_median, adults_median )\n",
        "stroke_df.head()"
      ],
      "metadata": {
        "id": "cn4YpnwNYYJ8",
        "outputId": "4e7c20a9-f4a3-4ef0-cedb-3c22c224b359",
        "colab": {
          "base_uri": "https://localhost:8080/",
          "height": 250
        }
      },
      "execution_count": 438,
      "outputs": [
        {
          "output_type": "execute_result",
          "data": {
            "text/plain": [
              "         id  gender   age  hypertension  heart_disease ever_married  \\\n",
              "845   25283  Female  48.0             0              0          Yes   \n",
              "3744  43734    Male  15.0             0              0           No   \n",
              "4183  47113  Female  67.0             0              0          Yes   \n",
              "3409  56996    Male  44.0             0              0          Yes   \n",
              "284   26325    Male  14.0             0              0           No   \n",
              "\n",
              "          work_type residence_type  avg_glucose_level   bmi smoking_status  \\\n",
              "845         Private          Urban              69.21  33.1   never smoked   \n",
              "3744        Private          Rural             122.25  21.0   never smoked   \n",
              "4183  Self-employed          Rural             110.42  24.9   never smoked   \n",
              "3409        Private          Urban              65.41  24.8         smokes   \n",
              "284        Govt_job          Urban              82.34  31.6        Unknown   \n",
              "\n",
              "      stroke  bmi_was_missing  \n",
              "845        0            False  \n",
              "3744       0            False  \n",
              "4183       0            False  \n",
              "3409       0            False  \n",
              "284        0            False  "
            ],
            "text/html": [
              "\n",
              "  <div id=\"df-1d7d53b6-ad92-4f5e-94b2-ff33c7fd5b03\">\n",
              "    <div class=\"colab-df-container\">\n",
              "      <div>\n",
              "<style scoped>\n",
              "    .dataframe tbody tr th:only-of-type {\n",
              "        vertical-align: middle;\n",
              "    }\n",
              "\n",
              "    .dataframe tbody tr th {\n",
              "        vertical-align: top;\n",
              "    }\n",
              "\n",
              "    .dataframe thead th {\n",
              "        text-align: right;\n",
              "    }\n",
              "</style>\n",
              "<table border=\"1\" class=\"dataframe\">\n",
              "  <thead>\n",
              "    <tr style=\"text-align: right;\">\n",
              "      <th></th>\n",
              "      <th>id</th>\n",
              "      <th>gender</th>\n",
              "      <th>age</th>\n",
              "      <th>hypertension</th>\n",
              "      <th>heart_disease</th>\n",
              "      <th>ever_married</th>\n",
              "      <th>work_type</th>\n",
              "      <th>residence_type</th>\n",
              "      <th>avg_glucose_level</th>\n",
              "      <th>bmi</th>\n",
              "      <th>smoking_status</th>\n",
              "      <th>stroke</th>\n",
              "      <th>bmi_was_missing</th>\n",
              "    </tr>\n",
              "  </thead>\n",
              "  <tbody>\n",
              "    <tr>\n",
              "      <th>845</th>\n",
              "      <td>25283</td>\n",
              "      <td>Female</td>\n",
              "      <td>48.0</td>\n",
              "      <td>0</td>\n",
              "      <td>0</td>\n",
              "      <td>Yes</td>\n",
              "      <td>Private</td>\n",
              "      <td>Urban</td>\n",
              "      <td>69.21</td>\n",
              "      <td>33.1</td>\n",
              "      <td>never smoked</td>\n",
              "      <td>0</td>\n",
              "      <td>False</td>\n",
              "    </tr>\n",
              "    <tr>\n",
              "      <th>3744</th>\n",
              "      <td>43734</td>\n",
              "      <td>Male</td>\n",
              "      <td>15.0</td>\n",
              "      <td>0</td>\n",
              "      <td>0</td>\n",
              "      <td>No</td>\n",
              "      <td>Private</td>\n",
              "      <td>Rural</td>\n",
              "      <td>122.25</td>\n",
              "      <td>21.0</td>\n",
              "      <td>never smoked</td>\n",
              "      <td>0</td>\n",
              "      <td>False</td>\n",
              "    </tr>\n",
              "    <tr>\n",
              "      <th>4183</th>\n",
              "      <td>47113</td>\n",
              "      <td>Female</td>\n",
              "      <td>67.0</td>\n",
              "      <td>0</td>\n",
              "      <td>0</td>\n",
              "      <td>Yes</td>\n",
              "      <td>Self-employed</td>\n",
              "      <td>Rural</td>\n",
              "      <td>110.42</td>\n",
              "      <td>24.9</td>\n",
              "      <td>never smoked</td>\n",
              "      <td>0</td>\n",
              "      <td>False</td>\n",
              "    </tr>\n",
              "    <tr>\n",
              "      <th>3409</th>\n",
              "      <td>56996</td>\n",
              "      <td>Male</td>\n",
              "      <td>44.0</td>\n",
              "      <td>0</td>\n",
              "      <td>0</td>\n",
              "      <td>Yes</td>\n",
              "      <td>Private</td>\n",
              "      <td>Urban</td>\n",
              "      <td>65.41</td>\n",
              "      <td>24.8</td>\n",
              "      <td>smokes</td>\n",
              "      <td>0</td>\n",
              "      <td>False</td>\n",
              "    </tr>\n",
              "    <tr>\n",
              "      <th>284</th>\n",
              "      <td>26325</td>\n",
              "      <td>Male</td>\n",
              "      <td>14.0</td>\n",
              "      <td>0</td>\n",
              "      <td>0</td>\n",
              "      <td>No</td>\n",
              "      <td>Govt_job</td>\n",
              "      <td>Urban</td>\n",
              "      <td>82.34</td>\n",
              "      <td>31.6</td>\n",
              "      <td>Unknown</td>\n",
              "      <td>0</td>\n",
              "      <td>False</td>\n",
              "    </tr>\n",
              "  </tbody>\n",
              "</table>\n",
              "</div>\n",
              "      <button class=\"colab-df-convert\" onclick=\"convertToInteractive('df-1d7d53b6-ad92-4f5e-94b2-ff33c7fd5b03')\"\n",
              "              title=\"Convert this dataframe to an interactive table.\"\n",
              "              style=\"display:none;\">\n",
              "        \n",
              "  <svg xmlns=\"http://www.w3.org/2000/svg\" height=\"24px\"viewBox=\"0 0 24 24\"\n",
              "       width=\"24px\">\n",
              "    <path d=\"M0 0h24v24H0V0z\" fill=\"none\"/>\n",
              "    <path d=\"M18.56 5.44l.94 2.06.94-2.06 2.06-.94-2.06-.94-.94-2.06-.94 2.06-2.06.94zm-11 1L8.5 8.5l.94-2.06 2.06-.94-2.06-.94L8.5 2.5l-.94 2.06-2.06.94zm10 10l.94 2.06.94-2.06 2.06-.94-2.06-.94-.94-2.06-.94 2.06-2.06.94z\"/><path d=\"M17.41 7.96l-1.37-1.37c-.4-.4-.92-.59-1.43-.59-.52 0-1.04.2-1.43.59L10.3 9.45l-7.72 7.72c-.78.78-.78 2.05 0 2.83L4 21.41c.39.39.9.59 1.41.59.51 0 1.02-.2 1.41-.59l7.78-7.78 2.81-2.81c.8-.78.8-2.07 0-2.86zM5.41 20L4 18.59l7.72-7.72 1.47 1.35L5.41 20z\"/>\n",
              "  </svg>\n",
              "      </button>\n",
              "      \n",
              "  <style>\n",
              "    .colab-df-container {\n",
              "      display:flex;\n",
              "      flex-wrap:wrap;\n",
              "      gap: 12px;\n",
              "    }\n",
              "\n",
              "    .colab-df-convert {\n",
              "      background-color: #E8F0FE;\n",
              "      border: none;\n",
              "      border-radius: 50%;\n",
              "      cursor: pointer;\n",
              "      display: none;\n",
              "      fill: #1967D2;\n",
              "      height: 32px;\n",
              "      padding: 0 0 0 0;\n",
              "      width: 32px;\n",
              "    }\n",
              "\n",
              "    .colab-df-convert:hover {\n",
              "      background-color: #E2EBFA;\n",
              "      box-shadow: 0px 1px 2px rgba(60, 64, 67, 0.3), 0px 1px 3px 1px rgba(60, 64, 67, 0.15);\n",
              "      fill: #174EA6;\n",
              "    }\n",
              "\n",
              "    [theme=dark] .colab-df-convert {\n",
              "      background-color: #3B4455;\n",
              "      fill: #D2E3FC;\n",
              "    }\n",
              "\n",
              "    [theme=dark] .colab-df-convert:hover {\n",
              "      background-color: #434B5C;\n",
              "      box-shadow: 0px 1px 3px 1px rgba(0, 0, 0, 0.15);\n",
              "      filter: drop-shadow(0px 1px 2px rgba(0, 0, 0, 0.3));\n",
              "      fill: #FFFFFF;\n",
              "    }\n",
              "  </style>\n",
              "\n",
              "      <script>\n",
              "        const buttonEl =\n",
              "          document.querySelector('#df-1d7d53b6-ad92-4f5e-94b2-ff33c7fd5b03 button.colab-df-convert');\n",
              "        buttonEl.style.display =\n",
              "          google.colab.kernel.accessAllowed ? 'block' : 'none';\n",
              "\n",
              "        async function convertToInteractive(key) {\n",
              "          const element = document.querySelector('#df-1d7d53b6-ad92-4f5e-94b2-ff33c7fd5b03');\n",
              "          const dataTable =\n",
              "            await google.colab.kernel.invokeFunction('convertToInteractive',\n",
              "                                                     [key], {});\n",
              "          if (!dataTable) return;\n",
              "\n",
              "          const docLinkHtml = 'Like what you see? Visit the ' +\n",
              "            '<a target=\"_blank\" href=https://colab.research.google.com/notebooks/data_table.ipynb>data table notebook</a>'\n",
              "            + ' to learn more about interactive tables.';\n",
              "          element.innerHTML = '';\n",
              "          dataTable['output_type'] = 'display_data';\n",
              "          await google.colab.output.renderOutput(dataTable, element);\n",
              "          const docLink = document.createElement('div');\n",
              "          docLink.innerHTML = docLinkHtml;\n",
              "          element.appendChild(docLink);\n",
              "        }\n",
              "      </script>\n",
              "    </div>\n",
              "  </div>\n",
              "  "
            ]
          },
          "metadata": {},
          "execution_count": 438
        }
      ]
    },
    {
      "cell_type": "code",
      "source": [
        "stroke_df.isnull().sum()"
      ],
      "metadata": {
        "id": "44bYz4U4YsMn",
        "outputId": "13b8e4dd-f1a7-4d18-818b-9ca1282e5955",
        "colab": {
          "base_uri": "https://localhost:8080/"
        }
      },
      "execution_count": 439,
      "outputs": [
        {
          "output_type": "execute_result",
          "data": {
            "text/plain": [
              "id                   0\n",
              "gender               0\n",
              "age                  0\n",
              "hypertension         0\n",
              "heart_disease        0\n",
              "ever_married         0\n",
              "work_type            0\n",
              "residence_type       0\n",
              "avg_glucose_level    0\n",
              "bmi                  0\n",
              "smoking_status       0\n",
              "stroke               0\n",
              "bmi_was_missing      0\n",
              "dtype: int64"
            ]
          },
          "metadata": {},
          "execution_count": 439
        }
      ]
    },
    {
      "cell_type": "markdown",
      "source": [
        "Indeed, we don't have null values anymore."
      ],
      "metadata": {
        "id": "Dnhd-lGeg389"
      }
    },
    {
      "cell_type": "code",
      "source": [
        "print(\"Median for adults\")\n",
        "print(adults_median)\n",
        "print(\"Median for children\")\n",
        "print(children_median)"
      ],
      "metadata": {
        "id": "C8rLgtjufVE7",
        "outputId": "6f71c9ec-6ef7-4c23-d536-330e4bb3f5c2",
        "colab": {
          "base_uri": "https://localhost:8080/"
        }
      },
      "execution_count": 440,
      "outputs": [
        {
          "output_type": "stream",
          "name": "stdout",
          "text": [
            "Median for adults\n",
            "29.3\n",
            "Median for children\n",
            "19.8\n"
          ]
        }
      ]
    },
    {
      "cell_type": "markdown",
      "source": [
        "We can observe that the median for adults is still much higher than what it is supposed to be a normal bmi, so they fall in the overweight category, almost close to moderate obesity."
      ],
      "metadata": {
        "id": "47zivjchgA32"
      }
    },
    {
      "cell_type": "code",
      "source": [
        "adults_only_df = stroke_df.loc[stroke_df['age']>=18]\n",
        "new_stroke_df_with_bmi_categ = adults_only_df.copy()\n",
        "new_stroke_df_with_bmi_categ.bmi = pd.cut(new_stroke_df_with_bmi_categ.bmi,\n",
        "                                      bins=[0, 18.5, 25, 30, 35, 40, 100],\n",
        "                                      labels=bmi_categ_list)\n",
        "\n",
        "bmi_categ_value_counts = new_stroke_df_with_bmi_categ.bmi.value_counts()\n",
        "\n",
        "plt.figure(figsize=(10,6))\n",
        "plt.title(\"Bmi by cathegory distribution among adults\")\n",
        "sns.barplot(x=bmi_categ_value_counts.index, y=bmi_categ_value_counts.array, order=bmi_categ_list)\n",
        "plt.show()"
      ],
      "metadata": {
        "id": "P145LUebaofy",
        "outputId": "bdab6a74-cf6a-452d-9c62-9db187df3e97",
        "colab": {
          "base_uri": "https://localhost:8080/",
          "height": 390
        }
      },
      "execution_count": 441,
      "outputs": [
        {
          "output_type": "display_data",
          "data": {
            "text/plain": [
              "<Figure size 720x432 with 1 Axes>"
            ],
            "image/png": "[encoded data removed]"
          },
          "metadata": {
            "needs_background": "light"
          }
        }
      ]
    },
    {
      "cell_type": "markdown",
      "source": [
        "The overweight category has now more people, but also the ratio for overweight people that had a stroke has increased."
      ],
      "metadata": {
        "id": "2wPsBX9MhI-w"
      }
    },
    {
      "cell_type": "code",
      "source": [
        "plot_categorical_variable_stroke_ratio(new_stroke_df_with_bmi_categ, \"bmi\", \n",
        "                                       \"The ratio of adults having had a stroke,\\ncategorized by bmi status\",3)"
      ],
      "metadata": {
        "id": "GouNPr0ba76U",
        "outputId": "0abc32d7-7b85-42bc-9d62-ad490691a802",
        "colab": {
          "base_uri": "https://localhost:8080/",
          "height": 431
        }
      },
      "execution_count": 442,
      "outputs": [
        {
          "output_type": "display_data",
          "data": {
            "text/plain": [
              "<Figure size 720x432 with 1 Axes>"
            ],
            "image/png": "[encoded data removed]"
          },
          "metadata": {
            "needs_background": "light"
          }
        }
      ]
    },
    {
      "cell_type": "markdown",
      "source": [
        "### Smoking Status"
      ],
      "metadata": {
        "id": "zkrwzoc4ROKu"
      }
    },
    {
      "cell_type": "markdown",
      "source": [
        "##### The smoking status of children and teenagers\n",
        "\n",
        "\n"
      ],
      "metadata": {
        "id": "b9Q2VyJJN0b2"
      }
    },
    {
      "cell_type": "markdown",
      "source": [
        "Other studies have shown that the earliest age when children start smoking is ~12 years old.\n",
        "\n",
        "Resources:\n",
        "\n",
        "\n",
        "*   [study on researchgate](https://www.researchgate.net/figure/Smoking-prevalence-by-gender-and-age-among-12-to-17-year-old-adolescents-in-Germany_fig2_251235344)\n",
        "*   [CDC study](https://www.cdc.gov/tobacco/data_statistics/fact_sheets/youth_data/tobacco_use/index.htm)\n",
        "*   [statcan.gc.ca](https://www150.statcan.gc.ca/n1/pub/82-625-x/2020001/article/00003-eng.htm)\n",
        "\n"
      ],
      "metadata": {
        "id": "MiQKg6v2R6ql"
      }
    },
    {
      "cell_type": "code",
      "source": [
        "children_df = stroke_df[stroke_df.age < 18]\n",
        "children_df.age = children_df.age.round()\n",
        "children_age_smoking_categories = children_df.groupby(['age', 'smoking_status'])\n",
        "children_age_smoking_categories_df = children_age_smoking_categories.size().reset_index(name='counts')\n",
        "children_age_smoking_categories_df"
      ],
      "metadata": {
        "id": "2bACta3nSmgK",
        "outputId": "013da53d-9008-466e-8d40-e3b6abd38ebd",
        "colab": {
          "base_uri": "https://localhost:8080/",
          "height": 1000
        }
      },
      "execution_count": 443,
      "outputs": [
        {
          "output_type": "stream",
          "name": "stderr",
          "text": [
            "/usr/local/lib/python3.7/dist-packages/pandas/core/generic.py:5516: SettingWithCopyWarning: \n",
            "A value is trying to be set on a copy of a slice from a DataFrame.\n",
            "Try using .loc[row_indexer,col_indexer] = value instead\n",
            "\n",
            "See the caveats in the documentation: https://pandas.pydata.org/pandas-docs/stable/user_guide/indexing.html#returning-a-view-versus-a-copy\n",
            "  self[name] = value\n"
          ]
        },
        {
          "output_type": "execute_result",
          "data": {
            "text/plain": [
              "     age   smoking_status  counts\n",
              "0    0.0          Unknown      16\n",
              "1    1.0          Unknown      49\n",
              "2    2.0          Unknown      77\n",
              "3    3.0          Unknown      39\n",
              "4    4.0          Unknown      28\n",
              "5    5.0          Unknown      52\n",
              "6    6.0          Unknown      21\n",
              "7    7.0          Unknown      24\n",
              "8    8.0          Unknown      45\n",
              "9    9.0          Unknown      33\n",
              "10  10.0          Unknown      20\n",
              "11  10.0  formerly smoked       4\n",
              "12  10.0     never smoked       2\n",
              "13  10.0           smokes       1\n",
              "14  11.0          Unknown      20\n",
              "15  11.0  formerly smoked       1\n",
              "16  11.0     never smoked       9\n",
              "17  12.0          Unknown      23\n",
              "18  12.0  formerly smoked       5\n",
              "19  12.0     never smoked      10\n",
              "20  12.0           smokes       1\n",
              "21  13.0          Unknown      30\n",
              "22  13.0  formerly smoked       1\n",
              "23  13.0     never smoked      12\n",
              "24  14.0          Unknown      17\n",
              "25  14.0  formerly smoked       5\n",
              "26  14.0     never smoked      15\n",
              "27  15.0          Unknown      13\n",
              "28  15.0  formerly smoked       2\n",
              "29  15.0     never smoked      14\n",
              "30  16.0          Unknown      19\n",
              "31  16.0  formerly smoked       2\n",
              "32  16.0     never smoked      20\n",
              "33  16.0           smokes       1\n",
              "34  17.0          Unknown      21\n",
              "35  17.0  formerly smoked       3\n",
              "36  17.0     never smoked      18\n",
              "37  17.0           smokes       1"
            ],
            "text/html": [
              "\n",
              "  <div id=\"df-b37ab7a3-9b36-4252-a904-8fcfefc72ed1\">\n",
              "    <div class=\"colab-df-container\">\n",
              "      <div>\n",
              "<style scoped>\n",
              "    .dataframe tbody tr th:only-of-type {\n",
              "        vertical-align: middle;\n",
              "    }\n",
              "\n",
              "    .dataframe tbody tr th {\n",
              "        vertical-align: top;\n",
              "    }\n",
              "\n",
              "    .dataframe thead th {\n",
              "        text-align: right;\n",
              "    }\n",
              "</style>\n",
              "<table border=\"1\" class=\"dataframe\">\n",
              "  <thead>\n",
              "    <tr style=\"text-align: right;\">\n",
              "      <th></th>\n",
              "      <th>age</th>\n",
              "      <th>smoking_status</th>\n",
              "      <th>counts</th>\n",
              "    </tr>\n",
              "  </thead>\n",
              "  <tbody>\n",
              "    <tr>\n",
              "      <th>0</th>\n",
              "      <td>0.0</td>\n",
              "      <td>Unknown</td>\n",
              "      <td>16</td>\n",
              "    </tr>\n",
              "    <tr>\n",
              "      <th>1</th>\n",
              "      <td>1.0</td>\n",
              "      <td>Unknown</td>\n",
              "      <td>49</td>\n",
              "    </tr>\n",
              "    <tr>\n",
              "      <th>2</th>\n",
              "      <td>2.0</td>\n",
              "      <td>Unknown</td>\n",
              "      <td>77</td>\n",
              "    </tr>\n",
              "    <tr>\n",
              "      <th>3</th>\n",
              "      <td>3.0</td>\n",
              "      <td>Unknown</td>\n",
              "      <td>39</td>\n",
              "    </tr>\n",
              "    <tr>\n",
              "      <th>4</th>\n",
              "      <td>4.0</td>\n",
              "      <td>Unknown</td>\n",
              "      <td>28</td>\n",
              "    </tr>\n",
              "    <tr>\n",
              "      <th>5</th>\n",
              "      <td>5.0</td>\n",
              "      <td>Unknown</td>\n",
              "      <td>52</td>\n",
              "    </tr>\n",
              "    <tr>\n",
              "      <th>6</th>\n",
              "      <td>6.0</td>\n",
              "      <td>Unknown</td>\n",
              "      <td>21</td>\n",
              "    </tr>\n",
              "    <tr>\n",
              "      <th>7</th>\n",
              "      <td>7.0</td>\n",
              "      <td>Unknown</td>\n",
              "      <td>24</td>\n",
              "    </tr>\n",
              "    <tr>\n",
              "      <th>8</th>\n",
              "      <td>8.0</td>\n",
              "      <td>Unknown</td>\n",
              "      <td>45</td>\n",
              "    </tr>\n",
              "    <tr>\n",
              "      <th>9</th>\n",
              "      <td>9.0</td>\n",
              "      <td>Unknown</td>\n",
              "      <td>33</td>\n",
              "    </tr>\n",
              "    <tr>\n",
              "      <th>10</th>\n",
              "      <td>10.0</td>\n",
              "      <td>Unknown</td>\n",
              "      <td>20</td>\n",
              "    </tr>\n",
              "    <tr>\n",
              "      <th>11</th>\n",
              "      <td>10.0</td>\n",
              "      <td>formerly smoked</td>\n",
              "      <td>4</td>\n",
              "    </tr>\n",
              "    <tr>\n",
              "      <th>12</th>\n",
              "      <td>10.0</td>\n",
              "      <td>never smoked</td>\n",
              "      <td>2</td>\n",
              "    </tr>\n",
              "    <tr>\n",
              "      <th>13</th>\n",
              "      <td>10.0</td>\n",
              "      <td>smokes</td>\n",
              "      <td>1</td>\n",
              "    </tr>\n",
              "    <tr>\n",
              "      <th>14</th>\n",
              "      <td>11.0</td>\n",
              "      <td>Unknown</td>\n",
              "      <td>20</td>\n",
              "    </tr>\n",
              "    <tr>\n",
              "      <th>15</th>\n",
              "      <td>11.0</td>\n",
              "      <td>formerly smoked</td>\n",
              "      <td>1</td>\n",
              "    </tr>\n",
              "    <tr>\n",
              "      <th>16</th>\n",
              "      <td>11.0</td>\n",
              "      <td>never smoked</td>\n",
              "      <td>9</td>\n",
              "    </tr>\n",
              "    <tr>\n",
              "      <th>17</th>\n",
              "      <td>12.0</td>\n",
              "      <td>Unknown</td>\n",
              "      <td>23</td>\n",
              "    </tr>\n",
              "    <tr>\n",
              "      <th>18</th>\n",
              "      <td>12.0</td>\n",
              "      <td>formerly smoked</td>\n",
              "      <td>5</td>\n",
              "    </tr>\n",
              "    <tr>\n",
              "      <th>19</th>\n",
              "      <td>12.0</td>\n",
              "      <td>never smoked</td>\n",
              "      <td>10</td>\n",
              "    </tr>\n",
              "    <tr>\n",
              "      <th>20</th>\n",
              "      <td>12.0</td>\n",
              "      <td>smokes</td>\n",
              "      <td>1</td>\n",
              "    </tr>\n",
              "    <tr>\n",
              "      <th>21</th>\n",
              "      <td>13.0</td>\n",
              "      <td>Unknown</td>\n",
              "      <td>30</td>\n",
              "    </tr>\n",
              "    <tr>\n",
              "      <th>22</th>\n",
              "      <td>13.0</td>\n",
              "      <td>formerly smoked</td>\n",
              "      <td>1</td>\n",
              "    </tr>\n",
              "    <tr>\n",
              "      <th>23</th>\n",
              "      <td>13.0</td>\n",
              "      <td>never smoked</td>\n",
              "      <td>12</td>\n",
              "    </tr>\n",
              "    <tr>\n",
              "      <th>24</th>\n",
              "      <td>14.0</td>\n",
              "      <td>Unknown</td>\n",
              "      <td>17</td>\n",
              "    </tr>\n",
              "    <tr>\n",
              "      <th>25</th>\n",
              "      <td>14.0</td>\n",
              "      <td>formerly smoked</td>\n",
              "      <td>5</td>\n",
              "    </tr>\n",
              "    <tr>\n",
              "      <th>26</th>\n",
              "      <td>14.0</td>\n",
              "      <td>never smoked</td>\n",
              "      <td>15</td>\n",
              "    </tr>\n",
              "    <tr>\n",
              "      <th>27</th>\n",
              "      <td>15.0</td>\n",
              "      <td>Unknown</td>\n",
              "      <td>13</td>\n",
              "    </tr>\n",
              "    <tr>\n",
              "      <th>28</th>\n",
              "      <td>15.0</td>\n",
              "      <td>formerly smoked</td>\n",
              "      <td>2</td>\n",
              "    </tr>\n",
              "    <tr>\n",
              "      <th>29</th>\n",
              "      <td>15.0</td>\n",
              "      <td>never smoked</td>\n",
              "      <td>14</td>\n",
              "    </tr>\n",
              "    <tr>\n",
              "      <th>30</th>\n",
              "      <td>16.0</td>\n",
              "      <td>Unknown</td>\n",
              "      <td>19</td>\n",
              "    </tr>\n",
              "    <tr>\n",
              "      <th>31</th>\n",
              "      <td>16.0</td>\n",
              "      <td>formerly smoked</td>\n",
              "      <td>2</td>\n",
              "    </tr>\n",
              "    <tr>\n",
              "      <th>32</th>\n",
              "      <td>16.0</td>\n",
              "      <td>never smoked</td>\n",
              "      <td>20</td>\n",
              "    </tr>\n",
              "    <tr>\n",
              "      <th>33</th>\n",
              "      <td>16.0</td>\n",
              "      <td>smokes</td>\n",
              "      <td>1</td>\n",
              "    </tr>\n",
              "    <tr>\n",
              "      <th>34</th>\n",
              "      <td>17.0</td>\n",
              "      <td>Unknown</td>\n",
              "      <td>21</td>\n",
              "    </tr>\n",
              "    <tr>\n",
              "      <th>35</th>\n",
              "      <td>17.0</td>\n",
              "      <td>formerly smoked</td>\n",
              "      <td>3</td>\n",
              "    </tr>\n",
              "    <tr>\n",
              "      <th>36</th>\n",
              "      <td>17.0</td>\n",
              "      <td>never smoked</td>\n",
              "      <td>18</td>\n",
              "    </tr>\n",
              "    <tr>\n",
              "      <th>37</th>\n",
              "      <td>17.0</td>\n",
              "      <td>smokes</td>\n",
              "      <td>1</td>\n",
              "    </tr>\n",
              "  </tbody>\n",
              "</table>\n",
              "</div>\n",
              "      <button class=\"colab-df-convert\" onclick=\"convertToInteractive('df-b37ab7a3-9b36-4252-a904-8fcfefc72ed1')\"\n",
              "              title=\"Convert this dataframe to an interactive table.\"\n",
              "              style=\"display:none;\">\n",
              "        \n",
              "  <svg xmlns=\"http://www.w3.org/2000/svg\" height=\"24px\"viewBox=\"0 0 24 24\"\n",
              "       width=\"24px\">\n",
              "    <path d=\"M0 0h24v24H0V0z\" fill=\"none\"/>\n",
              "    <path d=\"M18.56 5.44l.94 2.06.94-2.06 2.06-.94-2.06-.94-.94-2.06-.94 2.06-2.06.94zm-11 1L8.5 8.5l.94-2.06 2.06-.94-2.06-.94L8.5 2.5l-.94 2.06-2.06.94zm10 10l.94 2.06.94-2.06 2.06-.94-2.06-.94-.94-2.06-.94 2.06-2.06.94z\"/><path d=\"M17.41 7.96l-1.37-1.37c-.4-.4-.92-.59-1.43-.59-.52 0-1.04.2-1.43.59L10.3 9.45l-7.72 7.72c-.78.78-.78 2.05 0 2.83L4 21.41c.39.39.9.59 1.41.59.51 0 1.02-.2 1.41-.59l7.78-7.78 2.81-2.81c.8-.78.8-2.07 0-2.86zM5.41 20L4 18.59l7.72-7.72 1.47 1.35L5.41 20z\"/>\n",
              "  </svg>\n",
              "      </button>\n",
              "      \n",
              "  <style>\n",
              "    .colab-df-container {\n",
              "      display:flex;\n",
              "      flex-wrap:wrap;\n",
              "      gap: 12px;\n",
              "    }\n",
              "\n",
              "    .colab-df-convert {\n",
              "      background-color: #E8F0FE;\n",
              "      border: none;\n",
              "      border-radius: 50%;\n",
              "      cursor: pointer;\n",
              "      display: none;\n",
              "      fill: #1967D2;\n",
              "      height: 32px;\n",
              "      padding: 0 0 0 0;\n",
              "      width: 32px;\n",
              "    }\n",
              "\n",
              "    .colab-df-convert:hover {\n",
              "      background-color: #E2EBFA;\n",
              "      box-shadow: 0px 1px 2px rgba(60, 64, 67, 0.3), 0px 1px 3px 1px rgba(60, 64, 67, 0.15);\n",
              "      fill: #174EA6;\n",
              "    }\n",
              "\n",
              "    [theme=dark] .colab-df-convert {\n",
              "      background-color: #3B4455;\n",
              "      fill: #D2E3FC;\n",
              "    }\n",
              "\n",
              "    [theme=dark] .colab-df-convert:hover {\n",
              "      background-color: #434B5C;\n",
              "      box-shadow: 0px 1px 3px 1px rgba(0, 0, 0, 0.15);\n",
              "      filter: drop-shadow(0px 1px 2px rgba(0, 0, 0, 0.3));\n",
              "      fill: #FFFFFF;\n",
              "    }\n",
              "  </style>\n",
              "\n",
              "      <script>\n",
              "        const buttonEl =\n",
              "          document.querySelector('#df-b37ab7a3-9b36-4252-a904-8fcfefc72ed1 button.colab-df-convert');\n",
              "        buttonEl.style.display =\n",
              "          google.colab.kernel.accessAllowed ? 'block' : 'none';\n",
              "\n",
              "        async function convertToInteractive(key) {\n",
              "          const element = document.querySelector('#df-b37ab7a3-9b36-4252-a904-8fcfefc72ed1');\n",
              "          const dataTable =\n",
              "            await google.colab.kernel.invokeFunction('convertToInteractive',\n",
              "                                                     [key], {});\n",
              "          if (!dataTable) return;\n",
              "\n",
              "          const docLinkHtml = 'Like what you see? Visit the ' +\n",
              "            '<a target=\"_blank\" href=https://colab.research.google.com/notebooks/data_table.ipynb>data table notebook</a>'\n",
              "            + ' to learn more about interactive tables.';\n",
              "          element.innerHTML = '';\n",
              "          dataTable['output_type'] = 'display_data';\n",
              "          await google.colab.output.renderOutput(dataTable, element);\n",
              "          const docLink = document.createElement('div');\n",
              "          docLink.innerHTML = docLinkHtml;\n",
              "          element.appendChild(docLink);\n",
              "        }\n",
              "      </script>\n",
              "    </div>\n",
              "  </div>\n",
              "  "
            ]
          },
          "metadata": {},
          "execution_count": 443
        }
      ]
    },
    {
      "cell_type": "code",
      "source": [
        "fig, ax = plt.subplots(figsize=def_fig_size)\n",
        "sns.histplot(data=children_df, x=\"age\", hue=\"smoking_status\", ax=ax, multiple=\"stack\")\n",
        "plt.title(\"The smoking status of underage people, by age group\", size = def_title_size)"
      ],
      "metadata": {
        "id": "n-hNsgjYVbef",
        "outputId": "d1fb4765-81bb-4d35-f0ad-75eae64c2375",
        "colab": {
          "base_uri": "https://localhost:8080/",
          "height": 481
        }
      },
      "execution_count": 444,
      "outputs": [
        {
          "output_type": "execute_result",
          "data": {
            "text/plain": [
              "Text(0.5, 1.0, 'The smoking status of underage people, by age group')"
            ]
          },
          "metadata": {},
          "execution_count": 444
        },
        {
          "output_type": "display_data",
          "data": {
            "text/plain": [
              "<Figure size 504x504 with 1 Axes>"
            ],
            "image/png": "[encoded data removed]"
          },
          "metadata": {
            "needs_background": "light"
          }
        }
      ]
    },
    {
      "cell_type": "markdown",
      "source": [
        "The above table summarizes the number of childrean in each age + smoking_status group.\n",
        "\n",
        "Observations:\n",
        "\n",
        "\n",
        "*   all children below the age of 10 are reported with the status 'Unknown'. It seems safe to assume that these children in fact never smoked, so we cna replace their status with 'never smoked'\n",
        "*   the youngest smokers that appear are 10 years old\n"
      ],
      "metadata": {
        "id": "D4ccrbeCUqR6"
      }
    },
    {
      "cell_type": "code",
      "source": [
        "# replace the smoking status of <10 years old children with 'never smoked'\n",
        "stroke_df.smoking_status = np.where(np.logical_and(stroke_df.age < 10, stroke_df.smoking_status == 'Unknown'), \"never smoked\", stroke_df.smoking_status)"
      ],
      "metadata": {
        "id": "rPVF5C124zCf"
      },
      "execution_count": 445,
      "outputs": []
    },
    {
      "cell_type": "code",
      "source": [
        "# New plots after the replacement\n",
        "smoking_value_counts = stroke_df.smoking_status.value_counts()\n",
        "smoking_value_counts"
      ],
      "metadata": {
        "id": "oz8v_cqr5LIu",
        "outputId": "3f5fa6c2-7f16-4583-c8be-72e75f044ac9",
        "colab": {
          "base_uri": "https://localhost:8080/"
        }
      },
      "execution_count": 446,
      "outputs": [
        {
          "output_type": "execute_result",
          "data": {
            "text/plain": [
              "never smoked       1883\n",
              "Unknown             861\n",
              "formerly smoked     713\n",
              "smokes              626\n",
              "Name: smoking_status, dtype: int64"
            ]
          },
          "metadata": {},
          "execution_count": 446
        }
      ]
    },
    {
      "cell_type": "code",
      "source": [
        "explode = [0.05] * smoking_value_counts.count()\n",
        "plt.pie(smoking_value_counts.array, labels=smoking_value_counts.index, autopct = '%0.2f%%', explode = explode)\n",
        "plt.title(\"The Ratio of Population with different Smoking Status\")\n",
        "plt.show()\n",
        "plot_categorical_variable_stroke_ratio(stroke_df, \"smoking_status\", \"The ratio of peope having had a stroke,\\ncategorized by Smoking Status\", 3)"
      ],
      "metadata": {
        "id": "a-Ryj1G25fJ-",
        "outputId": "bd87e956-5120-4b91-e8cf-28ccdca8fca9",
        "colab": {
          "base_uri": "https://localhost:8080/",
          "height": 679
        }
      },
      "execution_count": 447,
      "outputs": [
        {
          "output_type": "display_data",
          "data": {
            "text/plain": [
              "<Figure size 432x288 with 1 Axes>"
            ],
            "image/png": "[encoded data removed]"
          },
          "metadata": {}
        },
        {
          "output_type": "display_data",
          "data": {
            "text/plain": [
              "<Figure size 720x432 with 1 Axes>"
            ],
            "image/png": "[encoded data removed]"
          },
          "metadata": {
            "needs_background": "light"
          }
        }
      ]
    },
    {
      "cell_type": "markdown",
      "source": [
        "##### Handling 'Unknown' values"
      ],
      "metadata": {
        "id": "vIiwRb7mYMks"
      }
    },
    {
      "cell_type": "markdown",
      "source": [
        "Still, **21.09% of the entries have their smoking_status 'Unknown'**. We considered the following **options for replacing them**:\n",
        "\n",
        "\n",
        "1.   replace with the most frequent value, i.e. 'never smoked'\n",
        "2.   replace with a random value (possibly with the previous/next known value in the dataframe)\n",
        "3.   build a model to predict the smoking_status of the entries with missing data\n",
        "\n",
        "It is clear, that option 1 and 2 are \"blind replacements\". We discarded the idea of applying any of these to options because:\n",
        "\n",
        "\n",
        "*   based on the above plot, showing the ratio of people who suffered a stroke in each smoking_status category, it seems like the smoking_status has a significant impact in the tendency to have a stroke\n",
        "*   the entries with 'Unknown' smoking status represent >20%, a huge portion of the data, \n",
        "\n",
        "so replacing the 'Unknown' values with incorrect values may introduce a significant error in our future predictions.\n",
        "\n",
        "So, let's try to build a cost-efficient, simple RandomForestClassifier for option 3 and see how well it works. If it works with a high f1 score, we can consider replacing the 'Unknwon' values with the predictions of the DecisionTreeClassifier. Otherwise, we should just work with 'Unknown' as a separate category.\n",
        "\n",
        "\n"
      ],
      "metadata": {
        "id": "BTNeS8CeM9qa"
      }
    },
    {
      "cell_type": "code",
      "source": [
        "smoke_df = stroke_df.copy()\n",
        "smoke_df = smoke_df[smoke_df.smoking_status != 'Unknown']\n",
        "X = smoke_df[smoke_df.columns.drop(['smoking_status', 'stroke', 'id'])].copy()\n",
        "y = smoke_df.smoking_status\n",
        "smoke_df.head()"
      ],
      "metadata": {
        "id": "8YKxBrs_Zvau",
        "outputId": "b26bb171-0fcc-493c-9521-aaacd49218d6",
        "colab": {
          "base_uri": "https://localhost:8080/",
          "height": 250
        }
      },
      "execution_count": 448,
      "outputs": [
        {
          "output_type": "execute_result",
          "data": {
            "text/plain": [
              "         id  gender   age  hypertension  heart_disease ever_married  \\\n",
              "845   25283  Female  48.0             0              0          Yes   \n",
              "3744  43734    Male  15.0             0              0           No   \n",
              "4183  47113  Female  67.0             0              0          Yes   \n",
              "3409  56996    Male  44.0             0              0          Yes   \n",
              "4796  67159    Male  73.0             1              0           No   \n",
              "\n",
              "          work_type residence_type  avg_glucose_level   bmi smoking_status  \\\n",
              "845         Private          Urban              69.21  33.1   never smoked   \n",
              "3744        Private          Rural             122.25  21.0   never smoked   \n",
              "4183  Self-employed          Rural             110.42  24.9   never smoked   \n",
              "3409        Private          Urban              65.41  24.8         smokes   \n",
              "4796       Govt_job          Urban              71.29  37.7   never smoked   \n",
              "\n",
              "      stroke  bmi_was_missing  \n",
              "845        0            False  \n",
              "3744       0            False  \n",
              "4183       0            False  \n",
              "3409       0            False  \n",
              "4796       0            False  "
            ],
            "text/html": [
              "\n",
              "  <div id=\"df-f9c04f6d-0ed3-4d9d-821e-77e2de6635cf\">\n",
              "    <div class=\"colab-df-container\">\n",
              "      <div>\n",
              "<style scoped>\n",
              "    .dataframe tbody tr th:only-of-type {\n",
              "        vertical-align: middle;\n",
              "    }\n",
              "\n",
              "    .dataframe tbody tr th {\n",
              "        vertical-align: top;\n",
              "    }\n",
              "\n",
              "    .dataframe thead th {\n",
              "        text-align: right;\n",
              "    }\n",
              "</style>\n",
              "<table border=\"1\" class=\"dataframe\">\n",
              "  <thead>\n",
              "    <tr style=\"text-align: right;\">\n",
              "      <th></th>\n",
              "      <th>id</th>\n",
              "      <th>gender</th>\n",
              "      <th>age</th>\n",
              "      <th>hypertension</th>\n",
              "      <th>heart_disease</th>\n",
              "      <th>ever_married</th>\n",
              "      <th>work_type</th>\n",
              "      <th>residence_type</th>\n",
              "      <th>avg_glucose_level</th>\n",
              "      <th>bmi</th>\n",
              "      <th>smoking_status</th>\n",
              "      <th>stroke</th>\n",
              "      <th>bmi_was_missing</th>\n",
              "    </tr>\n",
              "  </thead>\n",
              "  <tbody>\n",
              "    <tr>\n",
              "      <th>845</th>\n",
              "      <td>25283</td>\n",
              "      <td>Female</td>\n",
              "      <td>48.0</td>\n",
              "      <td>0</td>\n",
              "      <td>0</td>\n",
              "      <td>Yes</td>\n",
              "      <td>Private</td>\n",
              "      <td>Urban</td>\n",
              "      <td>69.21</td>\n",
              "      <td>33.1</td>\n",
              "      <td>never smoked</td>\n",
              "      <td>0</td>\n",
              "      <td>False</td>\n",
              "    </tr>\n",
              "    <tr>\n",
              "      <th>3744</th>\n",
              "      <td>43734</td>\n",
              "      <td>Male</td>\n",
              "      <td>15.0</td>\n",
              "      <td>0</td>\n",
              "      <td>0</td>\n",
              "      <td>No</td>\n",
              "      <td>Private</td>\n",
              "      <td>Rural</td>\n",
              "      <td>122.25</td>\n",
              "      <td>21.0</td>\n",
              "      <td>never smoked</td>\n",
              "      <td>0</td>\n",
              "      <td>False</td>\n",
              "    </tr>\n",
              "    <tr>\n",
              "      <th>4183</th>\n",
              "      <td>47113</td>\n",
              "      <td>Female</td>\n",
              "      <td>67.0</td>\n",
              "      <td>0</td>\n",
              "      <td>0</td>\n",
              "      <td>Yes</td>\n",
              "      <td>Self-employed</td>\n",
              "      <td>Rural</td>\n",
              "      <td>110.42</td>\n",
              "      <td>24.9</td>\n",
              "      <td>never smoked</td>\n",
              "      <td>0</td>\n",
              "      <td>False</td>\n",
              "    </tr>\n",
              "    <tr>\n",
              "      <th>3409</th>\n",
              "      <td>56996</td>\n",
              "      <td>Male</td>\n",
              "      <td>44.0</td>\n",
              "      <td>0</td>\n",
              "      <td>0</td>\n",
              "      <td>Yes</td>\n",
              "      <td>Private</td>\n",
              "      <td>Urban</td>\n",
              "      <td>65.41</td>\n",
              "      <td>24.8</td>\n",
              "      <td>smokes</td>\n",
              "      <td>0</td>\n",
              "      <td>False</td>\n",
              "    </tr>\n",
              "    <tr>\n",
              "      <th>4796</th>\n",
              "      <td>67159</td>\n",
              "      <td>Male</td>\n",
              "      <td>73.0</td>\n",
              "      <td>1</td>\n",
              "      <td>0</td>\n",
              "      <td>No</td>\n",
              "      <td>Govt_job</td>\n",
              "      <td>Urban</td>\n",
              "      <td>71.29</td>\n",
              "      <td>37.7</td>\n",
              "      <td>never smoked</td>\n",
              "      <td>0</td>\n",
              "      <td>False</td>\n",
              "    </tr>\n",
              "  </tbody>\n",
              "</table>\n",
              "</div>\n",
              "      <button class=\"colab-df-convert\" onclick=\"convertToInteractive('df-f9c04f6d-0ed3-4d9d-821e-77e2de6635cf')\"\n",
              "              title=\"Convert this dataframe to an interactive table.\"\n",
              "              style=\"display:none;\">\n",
              "        \n",
              "  <svg xmlns=\"http://www.w3.org/2000/svg\" height=\"24px\"viewBox=\"0 0 24 24\"\n",
              "       width=\"24px\">\n",
              "    <path d=\"M0 0h24v24H0V0z\" fill=\"none\"/>\n",
              "    <path d=\"M18.56 5.44l.94 2.06.94-2.06 2.06-.94-2.06-.94-.94-2.06-.94 2.06-2.06.94zm-11 1L8.5 8.5l.94-2.06 2.06-.94-2.06-.94L8.5 2.5l-.94 2.06-2.06.94zm10 10l.94 2.06.94-2.06 2.06-.94-2.06-.94-.94-2.06-.94 2.06-2.06.94z\"/><path d=\"M17.41 7.96l-1.37-1.37c-.4-.4-.92-.59-1.43-.59-.52 0-1.04.2-1.43.59L10.3 9.45l-7.72 7.72c-.78.78-.78 2.05 0 2.83L4 21.41c.39.39.9.59 1.41.59.51 0 1.02-.2 1.41-.59l7.78-7.78 2.81-2.81c.8-.78.8-2.07 0-2.86zM5.41 20L4 18.59l7.72-7.72 1.47 1.35L5.41 20z\"/>\n",
              "  </svg>\n",
              "      </button>\n",
              "      \n",
              "  <style>\n",
              "    .colab-df-container {\n",
              "      display:flex;\n",
              "      flex-wrap:wrap;\n",
              "      gap: 12px;\n",
              "    }\n",
              "\n",
              "    .colab-df-convert {\n",
              "      background-color: #E8F0FE;\n",
              "      border: none;\n",
              "      border-radius: 50%;\n",
              "      cursor: pointer;\n",
              "      display: none;\n",
              "      fill: #1967D2;\n",
              "      height: 32px;\n",
              "      padding: 0 0 0 0;\n",
              "      width: 32px;\n",
              "    }\n",
              "\n",
              "    .colab-df-convert:hover {\n",
              "      background-color: #E2EBFA;\n",
              "      box-shadow: 0px 1px 2px rgba(60, 64, 67, 0.3), 0px 1px 3px 1px rgba(60, 64, 67, 0.15);\n",
              "      fill: #174EA6;\n",
              "    }\n",
              "\n",
              "    [theme=dark] .colab-df-convert {\n",
              "      background-color: #3B4455;\n",
              "      fill: #D2E3FC;\n",
              "    }\n",
              "\n",
              "    [theme=dark] .colab-df-convert:hover {\n",
              "      background-color: #434B5C;\n",
              "      box-shadow: 0px 1px 3px 1px rgba(0, 0, 0, 0.15);\n",
              "      filter: drop-shadow(0px 1px 2px rgba(0, 0, 0, 0.3));\n",
              "      fill: #FFFFFF;\n",
              "    }\n",
              "  </style>\n",
              "\n",
              "      <script>\n",
              "        const buttonEl =\n",
              "          document.querySelector('#df-f9c04f6d-0ed3-4d9d-821e-77e2de6635cf button.colab-df-convert');\n",
              "        buttonEl.style.display =\n",
              "          google.colab.kernel.accessAllowed ? 'block' : 'none';\n",
              "\n",
              "        async function convertToInteractive(key) {\n",
              "          const element = document.querySelector('#df-f9c04f6d-0ed3-4d9d-821e-77e2de6635cf');\n",
              "          const dataTable =\n",
              "            await google.colab.kernel.invokeFunction('convertToInteractive',\n",
              "                                                     [key], {});\n",
              "          if (!dataTable) return;\n",
              "\n",
              "          const docLinkHtml = 'Like what you see? Visit the ' +\n",
              "            '<a target=\"_blank\" href=https://colab.research.google.com/notebooks/data_table.ipynb>data table notebook</a>'\n",
              "            + ' to learn more about interactive tables.';\n",
              "          element.innerHTML = '';\n",
              "          dataTable['output_type'] = 'display_data';\n",
              "          await google.colab.output.renderOutput(dataTable, element);\n",
              "          const docLink = document.createElement('div');\n",
              "          docLink.innerHTML = docLinkHtml;\n",
              "          element.appendChild(docLink);\n",
              "        }\n",
              "      </script>\n",
              "    </div>\n",
              "  </div>\n",
              "  "
            ]
          },
          "metadata": {},
          "execution_count": 448
        }
      ]
    },
    {
      "cell_type": "code",
      "source": [
        "X_train, X_valid, y_train, y__valid = train_test_split(X, y, test_size = 0.25, random_state = 0)"
      ],
      "metadata": {
        "id": "5-a44_yMbEAY"
      },
      "execution_count": 449,
      "outputs": []
    },
    {
      "cell_type": "code",
      "source": [
        "# handling categorical variables\n",
        "\n",
        "# Get list of categorical variables\n",
        "s = (X_train.dtypes == 'object')\n",
        "object_cols = list(s[s].index)\n",
        "\n",
        "# apply one-hot encoder on them\n",
        "OH_encoder = OneHotEncoder(handle_unknown='ignore', sparse=False)\n",
        "\n",
        "OH_transformed_train = OH_encoder.fit_transform(X_train[object_cols])\n",
        "OH_transformed_valid = OH_encoder.transform(X_valid[object_cols])\n",
        "\n",
        "column_names = OH_encoder.get_feature_names_out(object_cols)\n",
        "\n",
        "OH_cols_train = pd.DataFrame(OH_transformed_train, columns=column_names)\n",
        "OH_cols_valid = pd.DataFrame(OH_transformed_valid, columns=column_names)\n",
        "\n",
        "# One-hot encoding removed index; put it back\n",
        "OH_cols_train.index = X_train.index\n",
        "OH_cols_valid.index = X_valid.index\n",
        "\n",
        "# Remove categorical columns (will replace with one-hot encoding)\n",
        "num_X_train = X_train.drop(object_cols, axis=1)\n",
        "num_X_valid = X_valid.drop(object_cols, axis=1)\n",
        "\n",
        "# Add one-hot encoded columns to numerical features\n",
        "X_train = pd.concat([num_X_train, OH_cols_train], axis=1)\n",
        "X_valid = pd.concat([num_X_valid, OH_cols_valid], axis=1)"
      ],
      "metadata": {
        "id": "ck-EgpaSCMs6"
      },
      "execution_count": 450,
      "outputs": []
    },
    {
      "cell_type": "code",
      "source": [
        "X_train"
      ],
      "metadata": {
        "id": "-jhNQrPYd5fu",
        "outputId": "18793b63-0914-4901-db38-e59e10106726",
        "colab": {
          "base_uri": "https://localhost:8080/",
          "height": 504
        }
      },
      "execution_count": 451,
      "outputs": [
        {
          "output_type": "execute_result",
          "data": {
            "text/plain": [
              "        age  hypertension  heart_disease  avg_glucose_level   bmi  \\\n",
              "2062  15.00             0              0             121.60  22.8   \n",
              "2487  78.00             0              0             126.39  21.3   \n",
              "1944  70.00             0              0              62.67  27.7   \n",
              "592   56.00             0              0             100.83  26.8   \n",
              "1878  63.00             0              0             104.70  21.0   \n",
              "...     ...           ...            ...                ...   ...   \n",
              "4006   1.64             0              0              90.74  19.9   \n",
              "3901  46.00             0              0             159.67  37.3   \n",
              "3274  79.00             0              0              57.77  24.1   \n",
              "21    52.00             1              0             233.29  48.9   \n",
              "793   29.00             0              0             101.28  22.7   \n",
              "\n",
              "      bmi_was_missing  gender_Female  gender_Male  ever_married_No  \\\n",
              "2062            False            1.0          0.0              1.0   \n",
              "2487            False            0.0          1.0              0.0   \n",
              "1944            False            1.0          0.0              0.0   \n",
              "592             False            1.0          0.0              0.0   \n",
              "1878            False            0.0          1.0              0.0   \n",
              "...               ...            ...          ...              ...   \n",
              "4006            False            1.0          0.0              1.0   \n",
              "3901            False            0.0          1.0              1.0   \n",
              "3274            False            1.0          0.0              0.0   \n",
              "21              False            1.0          0.0              0.0   \n",
              "793             False            1.0          0.0              1.0   \n",
              "\n",
              "      ever_married_Yes  work_type_Govt_job  work_type_Private  \\\n",
              "2062               0.0                 0.0                1.0   \n",
              "2487               1.0                 0.0                0.0   \n",
              "1944               1.0                 0.0                0.0   \n",
              "592                1.0                 0.0                1.0   \n",
              "1878               1.0                 0.0                0.0   \n",
              "...                ...                 ...                ...   \n",
              "4006               0.0                 0.0                0.0   \n",
              "3901               0.0                 0.0                1.0   \n",
              "3274               1.0                 0.0                0.0   \n",
              "21                 1.0                 0.0                0.0   \n",
              "793                0.0                 0.0                1.0   \n",
              "\n",
              "      work_type_Self-employed  work_type_children  residence_type_Rural  \\\n",
              "2062                      0.0                 0.0                   0.0   \n",
              "2487                      1.0                 0.0                   1.0   \n",
              "1944                      1.0                 0.0                   1.0   \n",
              "592                       0.0                 0.0                   0.0   \n",
              "1878                      1.0                 0.0                   1.0   \n",
              "...                       ...                 ...                   ...   \n",
              "4006                      0.0                 1.0                   0.0   \n",
              "3901                      0.0                 0.0                   0.0   \n",
              "3274                      1.0                 0.0                   0.0   \n",
              "21                        1.0                 0.0                   0.0   \n",
              "793                       0.0                 0.0                   0.0   \n",
              "\n",
              "      residence_type_Urban  \n",
              "2062                   1.0  \n",
              "2487                   0.0  \n",
              "1944                   0.0  \n",
              "592                    1.0  \n",
              "1878                   0.0  \n",
              "...                    ...  \n",
              "4006                   1.0  \n",
              "3901                   1.0  \n",
              "3274                   1.0  \n",
              "21                     1.0  \n",
              "793                    1.0  \n",
              "\n",
              "[2416 rows x 16 columns]"
            ],
            "text/html": [
              "\n",
              "  <div id=\"df-462b7f13-333d-4b4c-a3b0-06f6c6daa10b\">\n",
              "    <div class=\"colab-df-container\">\n",
              "      <div>\n",
              "<style scoped>\n",
              "    .dataframe tbody tr th:only-of-type {\n",
              "        vertical-align: middle;\n",
              "    }\n",
              "\n",
              "    .dataframe tbody tr th {\n",
              "        vertical-align: top;\n",
              "    }\n",
              "\n",
              "    .dataframe thead th {\n",
              "        text-align: right;\n",
              "    }\n",
              "</style>\n",
              "<table border=\"1\" class=\"dataframe\">\n",
              "  <thead>\n",
              "    <tr style=\"text-align: right;\">\n",
              "      <th></th>\n",
              "      <th>age</th>\n",
              "      <th>hypertension</th>\n",
              "      <th>heart_disease</th>\n",
              "      <th>avg_glucose_level</th>\n",
              "      <th>bmi</th>\n",
              "      <th>bmi_was_missing</th>\n",
              "      <th>gender_Female</th>\n",
              "      <th>gender_Male</th>\n",
              "      <th>ever_married_No</th>\n",
              "      <th>ever_married_Yes</th>\n",
              "      <th>work_type_Govt_job</th>\n",
              "      <th>work_type_Private</th>\n",
              "      <th>work_type_Self-employed</th>\n",
              "      <th>work_type_children</th>\n",
              "      <th>residence_type_Rural</th>\n",
              "      <th>residence_type_Urban</th>\n",
              "    </tr>\n",
              "  </thead>\n",
              "  <tbody>\n",
              "    <tr>\n",
              "      <th>2062</th>\n",
              "      <td>15.00</td>\n",
              "      <td>0</td>\n",
              "      <td>0</td>\n",
              "      <td>121.60</td>\n",
              "      <td>22.8</td>\n",
              "      <td>False</td>\n",
              "      <td>1.0</td>\n",
              "      <td>0.0</td>\n",
              "      <td>1.0</td>\n",
              "      <td>0.0</td>\n",
              "      <td>0.0</td>\n",
              "      <td>1.0</td>\n",
              "      <td>0.0</td>\n",
              "      <td>0.0</td>\n",
              "      <td>0.0</td>\n",
              "      <td>1.0</td>\n",
              "    </tr>\n",
              "    <tr>\n",
              "      <th>2487</th>\n",
              "      <td>78.00</td>\n",
              "      <td>0</td>\n",
              "      <td>0</td>\n",
              "      <td>126.39</td>\n",
              "      <td>21.3</td>\n",
              "      <td>False</td>\n",
              "      <td>0.0</td>\n",
              "      <td>1.0</td>\n",
              "      <td>0.0</td>\n",
              "      <td>1.0</td>\n",
              "      <td>0.0</td>\n",
              "      <td>0.0</td>\n",
              "      <td>1.0</td>\n",
              "      <td>0.0</td>\n",
              "      <td>1.0</td>\n",
              "      <td>0.0</td>\n",
              "    </tr>\n",
              "    <tr>\n",
              "      <th>1944</th>\n",
              "      <td>70.00</td>\n",
              "      <td>0</td>\n",
              "      <td>0</td>\n",
              "      <td>62.67</td>\n",
              "      <td>27.7</td>\n",
              "      <td>False</td>\n",
              "      <td>1.0</td>\n",
              "      <td>0.0</td>\n",
              "      <td>0.0</td>\n",
              "      <td>1.0</td>\n",
              "      <td>0.0</td>\n",
              "      <td>0.0</td>\n",
              "      <td>1.0</td>\n",
              "      <td>0.0</td>\n",
              "      <td>1.0</td>\n",
              "      <td>0.0</td>\n",
              "    </tr>\n",
              "    <tr>\n",
              "      <th>592</th>\n",
              "      <td>56.00</td>\n",
              "      <td>0</td>\n",
              "      <td>0</td>\n",
              "      <td>100.83</td>\n",
              "      <td>26.8</td>\n",
              "      <td>False</td>\n",
              "      <td>1.0</td>\n",
              "      <td>0.0</td>\n",
              "      <td>0.0</td>\n",
              "      <td>1.0</td>\n",
              "      <td>0.0</td>\n",
              "      <td>1.0</td>\n",
              "      <td>0.0</td>\n",
              "      <td>0.0</td>\n",
              "      <td>0.0</td>\n",
              "      <td>1.0</td>\n",
              "    </tr>\n",
              "    <tr>\n",
              "      <th>1878</th>\n",
              "      <td>63.00</td>\n",
              "      <td>0</td>\n",
              "      <td>0</td>\n",
              "      <td>104.70</td>\n",
              "      <td>21.0</td>\n",
              "      <td>False</td>\n",
              "      <td>0.0</td>\n",
              "      <td>1.0</td>\n",
              "      <td>0.0</td>\n",
              "      <td>1.0</td>\n",
              "      <td>0.0</td>\n",
              "      <td>0.0</td>\n",
              "      <td>1.0</td>\n",
              "      <td>0.0</td>\n",
              "      <td>1.0</td>\n",
              "      <td>0.0</td>\n",
              "    </tr>\n",
              "    <tr>\n",
              "      <th>...</th>\n",
              "      <td>...</td>\n",
              "      <td>...</td>\n",
              "      <td>...</td>\n",
              "      <td>...</td>\n",
              "      <td>...</td>\n",
              "      <td>...</td>\n",
              "      <td>...</td>\n",
              "      <td>...</td>\n",
              "      <td>...</td>\n",
              "      <td>...</td>\n",
              "      <td>...</td>\n",
              "      <td>...</td>\n",
              "      <td>...</td>\n",
              "      <td>...</td>\n",
              "      <td>...</td>\n",
              "      <td>...</td>\n",
              "    </tr>\n",
              "    <tr>\n",
              "      <th>4006</th>\n",
              "      <td>1.64</td>\n",
              "      <td>0</td>\n",
              "      <td>0</td>\n",
              "      <td>90.74</td>\n",
              "      <td>19.9</td>\n",
              "      <td>False</td>\n",
              "      <td>1.0</td>\n",
              "      <td>0.0</td>\n",
              "      <td>1.0</td>\n",
              "      <td>0.0</td>\n",
              "      <td>0.0</td>\n",
              "      <td>0.0</td>\n",
              "      <td>0.0</td>\n",
              "      <td>1.0</td>\n",
              "      <td>0.0</td>\n",
              "      <td>1.0</td>\n",
              "    </tr>\n",
              "    <tr>\n",
              "      <th>3901</th>\n",
              "      <td>46.00</td>\n",
              "      <td>0</td>\n",
              "      <td>0</td>\n",
              "      <td>159.67</td>\n",
              "      <td>37.3</td>\n",
              "      <td>False</td>\n",
              "      <td>0.0</td>\n",
              "      <td>1.0</td>\n",
              "      <td>1.0</td>\n",
              "      <td>0.0</td>\n",
              "      <td>0.0</td>\n",
              "      <td>1.0</td>\n",
              "      <td>0.0</td>\n",
              "      <td>0.0</td>\n",
              "      <td>0.0</td>\n",
              "      <td>1.0</td>\n",
              "    </tr>\n",
              "    <tr>\n",
              "      <th>3274</th>\n",
              "      <td>79.00</td>\n",
              "      <td>0</td>\n",
              "      <td>0</td>\n",
              "      <td>57.77</td>\n",
              "      <td>24.1</td>\n",
              "      <td>False</td>\n",
              "      <td>1.0</td>\n",
              "      <td>0.0</td>\n",
              "      <td>0.0</td>\n",
              "      <td>1.0</td>\n",
              "      <td>0.0</td>\n",
              "      <td>0.0</td>\n",
              "      <td>1.0</td>\n",
              "      <td>0.0</td>\n",
              "      <td>0.0</td>\n",
              "      <td>1.0</td>\n",
              "    </tr>\n",
              "    <tr>\n",
              "      <th>21</th>\n",
              "      <td>52.00</td>\n",
              "      <td>1</td>\n",
              "      <td>0</td>\n",
              "      <td>233.29</td>\n",
              "      <td>48.9</td>\n",
              "      <td>False</td>\n",
              "      <td>1.0</td>\n",
              "      <td>0.0</td>\n",
              "      <td>0.0</td>\n",
              "      <td>1.0</td>\n",
              "      <td>0.0</td>\n",
              "      <td>0.0</td>\n",
              "      <td>1.0</td>\n",
              "      <td>0.0</td>\n",
              "      <td>0.0</td>\n",
              "      <td>1.0</td>\n",
              "    </tr>\n",
              "    <tr>\n",
              "      <th>793</th>\n",
              "      <td>29.00</td>\n",
              "      <td>0</td>\n",
              "      <td>0</td>\n",
              "      <td>101.28</td>\n",
              "      <td>22.7</td>\n",
              "      <td>False</td>\n",
              "      <td>1.0</td>\n",
              "      <td>0.0</td>\n",
              "      <td>1.0</td>\n",
              "      <td>0.0</td>\n",
              "      <td>0.0</td>\n",
              "      <td>1.0</td>\n",
              "      <td>0.0</td>\n",
              "      <td>0.0</td>\n",
              "      <td>0.0</td>\n",
              "      <td>1.0</td>\n",
              "    </tr>\n",
              "  </tbody>\n",
              "</table>\n",
              "<p>2416 rows × 16 columns</p>\n",
              "</div>\n",
              "      <button class=\"colab-df-convert\" onclick=\"convertToInteractive('df-462b7f13-333d-4b4c-a3b0-06f6c6daa10b')\"\n",
              "              title=\"Convert this dataframe to an interactive table.\"\n",
              "              style=\"display:none;\">\n",
              "        \n",
              "  <svg xmlns=\"http://www.w3.org/2000/svg\" height=\"24px\"viewBox=\"0 0 24 24\"\n",
              "       width=\"24px\">\n",
              "    <path d=\"M0 0h24v24H0V0z\" fill=\"none\"/>\n",
              "    <path d=\"M18.56 5.44l.94 2.06.94-2.06 2.06-.94-2.06-.94-.94-2.06-.94 2.06-2.06.94zm-11 1L8.5 8.5l.94-2.06 2.06-.94-2.06-.94L8.5 2.5l-.94 2.06-2.06.94zm10 10l.94 2.06.94-2.06 2.06-.94-2.06-.94-.94-2.06-.94 2.06-2.06.94z\"/><path d=\"M17.41 7.96l-1.37-1.37c-.4-.4-.92-.59-1.43-.59-.52 0-1.04.2-1.43.59L10.3 9.45l-7.72 7.72c-.78.78-.78 2.05 0 2.83L4 21.41c.39.39.9.59 1.41.59.51 0 1.02-.2 1.41-.59l7.78-7.78 2.81-2.81c.8-.78.8-2.07 0-2.86zM5.41 20L4 18.59l7.72-7.72 1.47 1.35L5.41 20z\"/>\n",
              "  </svg>\n",
              "      </button>\n",
              "      \n",
              "  <style>\n",
              "    .colab-df-container {\n",
              "      display:flex;\n",
              "      flex-wrap:wrap;\n",
              "      gap: 12px;\n",
              "    }\n",
              "\n",
              "    .colab-df-convert {\n",
              "      background-color: #E8F0FE;\n",
              "      border: none;\n",
              "      border-radius: 50%;\n",
              "      cursor: pointer;\n",
              "      display: none;\n",
              "      fill: #1967D2;\n",
              "      height: 32px;\n",
              "      padding: 0 0 0 0;\n",
              "      width: 32px;\n",
              "    }\n",
              "\n",
              "    .colab-df-convert:hover {\n",
              "      background-color: #E2EBFA;\n",
              "      box-shadow: 0px 1px 2px rgba(60, 64, 67, 0.3), 0px 1px 3px 1px rgba(60, 64, 67, 0.15);\n",
              "      fill: #174EA6;\n",
              "    }\n",
              "\n",
              "    [theme=dark] .colab-df-convert {\n",
              "      background-color: #3B4455;\n",
              "      fill: #D2E3FC;\n",
              "    }\n",
              "\n",
              "    [theme=dark] .colab-df-convert:hover {\n",
              "      background-color: #434B5C;\n",
              "      box-shadow: 0px 1px 3px 1px rgba(0, 0, 0, 0.15);\n",
              "      filter: drop-shadow(0px 1px 2px rgba(0, 0, 0, 0.3));\n",
              "      fill: #FFFFFF;\n",
              "    }\n",
              "  </style>\n",
              "\n",
              "      <script>\n",
              "        const buttonEl =\n",
              "          document.querySelector('#df-462b7f13-333d-4b4c-a3b0-06f6c6daa10b button.colab-df-convert');\n",
              "        buttonEl.style.display =\n",
              "          google.colab.kernel.accessAllowed ? 'block' : 'none';\n",
              "\n",
              "        async function convertToInteractive(key) {\n",
              "          const element = document.querySelector('#df-462b7f13-333d-4b4c-a3b0-06f6c6daa10b');\n",
              "          const dataTable =\n",
              "            await google.colab.kernel.invokeFunction('convertToInteractive',\n",
              "                                                     [key], {});\n",
              "          if (!dataTable) return;\n",
              "\n",
              "          const docLinkHtml = 'Like what you see? Visit the ' +\n",
              "            '<a target=\"_blank\" href=https://colab.research.google.com/notebooks/data_table.ipynb>data table notebook</a>'\n",
              "            + ' to learn more about interactive tables.';\n",
              "          element.innerHTML = '';\n",
              "          dataTable['output_type'] = 'display_data';\n",
              "          await google.colab.output.renderOutput(dataTable, element);\n",
              "          const docLink = document.createElement('div');\n",
              "          docLink.innerHTML = docLinkHtml;\n",
              "          element.appendChild(docLink);\n",
              "        }\n",
              "      </script>\n",
              "    </div>\n",
              "  </div>\n",
              "  "
            ]
          },
          "metadata": {},
          "execution_count": 451
        }
      ]
    },
    {
      "cell_type": "code",
      "source": [
        "for complexity in range(5,156,30):\n",
        "  print(\"-------------------------------------------- Tree with max leav nodes = \", complexity)\n",
        "  dt_classifier = RandomForestClassifier(criterion = \"entropy\", max_leaf_nodes = complexity)\n",
        "  dt_classifier.fit(X_train, y_train)\n",
        "  print(\"Accuracy: \", dt_classifier.score(X_test, y_test))\n",
        "  y_test_pred = dt_classifier.predict(X_test)\n",
        "  print(classification_report(y_test, y_test_pred))"
      ],
      "metadata": {
        "id": "uXskDePKbP56",
        "outputId": "02a1dc27-df65-4e9d-9e92-455e1090a5c6",
        "colab": {
          "base_uri": "https://localhost:8080/"
        }
      },
      "execution_count": 452,
      "outputs": [
        {
          "output_type": "stream",
          "name": "stdout",
          "text": [
            "-------------------------------------------- Tree with max leav nodes =  5\n",
            "Accuracy:  0.5955334987593052\n",
            "                 precision    recall  f1-score   support\n",
            "\n",
            "formerly smoked       0.00      0.00      0.00       182\n",
            "   never smoked       0.60      1.00      0.75       480\n",
            "         smokes       0.00      0.00      0.00       144\n",
            "\n",
            "       accuracy                           0.60       806\n",
            "      macro avg       0.20      0.33      0.25       806\n",
            "   weighted avg       0.35      0.60      0.44       806\n",
            "\n",
            "-------------------------------------------- Tree with max leav nodes =  35\n"
          ]
        },
        {
          "output_type": "stream",
          "name": "stderr",
          "text": [
            "/usr/local/lib/python3.7/dist-packages/sklearn/metrics/_classification.py:1318: UndefinedMetricWarning: Precision and F-score are ill-defined and being set to 0.0 in labels with no predicted samples. Use `zero_division` parameter to control this behavior.\n",
            "  _warn_prf(average, modifier, msg_start, len(result))\n",
            "/usr/local/lib/python3.7/dist-packages/sklearn/metrics/_classification.py:1318: UndefinedMetricWarning: Precision and F-score are ill-defined and being set to 0.0 in labels with no predicted samples. Use `zero_division` parameter to control this behavior.\n",
            "  _warn_prf(average, modifier, msg_start, len(result))\n",
            "/usr/local/lib/python3.7/dist-packages/sklearn/metrics/_classification.py:1318: UndefinedMetricWarning: Precision and F-score are ill-defined and being set to 0.0 in labels with no predicted samples. Use `zero_division` parameter to control this behavior.\n",
            "  _warn_prf(average, modifier, msg_start, len(result))\n"
          ]
        },
        {
          "output_type": "stream",
          "name": "stdout",
          "text": [
            "Accuracy:  0.6029776674937966\n",
            "                 precision    recall  f1-score   support\n",
            "\n",
            "formerly smoked       0.43      0.05      0.09       182\n",
            "   never smoked       0.61      0.98      0.75       480\n",
            "         smokes       0.60      0.04      0.08       144\n",
            "\n",
            "       accuracy                           0.60       806\n",
            "      macro avg       0.55      0.36      0.31       806\n",
            "   weighted avg       0.57      0.60      0.48       806\n",
            "\n",
            "-------------------------------------------- Tree with max leav nodes =  65\n",
            "Accuracy:  0.6017369727047146\n",
            "                 precision    recall  f1-score   support\n",
            "\n",
            "formerly smoked       0.42      0.06      0.11       182\n",
            "   never smoked       0.61      0.97      0.75       480\n",
            "         smokes       0.60      0.04      0.08       144\n",
            "\n",
            "       accuracy                           0.60       806\n",
            "      macro avg       0.54      0.36      0.31       806\n",
            "   weighted avg       0.56      0.60      0.48       806\n",
            "\n",
            "-------------------------------------------- Tree with max leav nodes =  95\n",
            "Accuracy:  0.6054590570719603\n",
            "                 precision    recall  f1-score   support\n",
            "\n",
            "formerly smoked       0.49      0.10      0.17       182\n",
            "   never smoked       0.61      0.96      0.75       480\n",
            "         smokes       0.50      0.05      0.09       144\n",
            "\n",
            "       accuracy                           0.61       806\n",
            "      macro avg       0.53      0.37      0.34       806\n",
            "   weighted avg       0.56      0.61      0.50       806\n",
            "\n",
            "-------------------------------------------- Tree with max leav nodes =  125\n",
            "Accuracy:  0.6066997518610422\n",
            "                 precision    recall  f1-score   support\n",
            "\n",
            "formerly smoked       0.48      0.12      0.19       182\n",
            "   never smoked       0.62      0.96      0.75       480\n",
            "         smokes       0.50      0.05      0.09       144\n",
            "\n",
            "       accuracy                           0.61       806\n",
            "      macro avg       0.53      0.38      0.34       806\n",
            "   weighted avg       0.56      0.61      0.51       806\n",
            "\n",
            "-------------------------------------------- Tree with max leav nodes =  155\n",
            "Accuracy:  0.6042183622828784\n",
            "                 precision    recall  f1-score   support\n",
            "\n",
            "formerly smoked       0.50      0.12      0.19       182\n",
            "   never smoked       0.62      0.95      0.75       480\n",
            "         smokes       0.33      0.05      0.08       144\n",
            "\n",
            "       accuracy                           0.60       806\n",
            "      macro avg       0.48      0.37      0.34       806\n",
            "   weighted avg       0.54      0.60      0.51       806\n",
            "\n"
          ]
        }
      ]
    },
    {
      "cell_type": "markdown",
      "source": [
        "As we can see, the weighted F1-score barely reaches 0.5, so a simple RandomForestClassifier is not enough to accurately predict the smoking status of people. \n",
        "\n",
        "This is not a surprising finding actually: other than age, no feature allows us to make an assumption about the lifestyle of each person in the dataset, and we have already exploited the fact that small children are most probably non-smokers.\n",
        "\n",
        "This makes it useless to try more complex and computationally more expensive ML models for predicting the smoking status of people."
      ],
      "metadata": {
        "id": "sp6IvYfhiMf-"
      }
    },
    {
      "cell_type": "markdown",
      "source": [
        "**As a final conclusion, the 'Unknown' values will be treated as a 4. smoking_status category in the analysis.**"
      ],
      "metadata": {
        "id": "4crOjdSginmc"
      }
    },
    {
      "cell_type": "markdown",
      "source": [
        "### ID"
      ],
      "metadata": {
        "id": "r9QoQYgDciEZ"
      }
    },
    {
      "cell_type": "markdown",
      "source": [
        "Last but not least, we should drop the id column as we dont need it."
      ],
      "metadata": {
        "id": "MPT6RSh-crjU"
      }
    },
    {
      "cell_type": "code",
      "source": [
        "stroke_df.drop(['id'], axis=1, inplace=True)\n",
        "stroke_df.head()"
      ],
      "metadata": {
        "id": "j6urTQvNcx7p",
        "outputId": "071e7888-1eb1-47d5-beda-caa17eb4adb0",
        "colab": {
          "base_uri": "https://localhost:8080/",
          "height": 206
        }
      },
      "execution_count": 453,
      "outputs": [
        {
          "output_type": "execute_result",
          "data": {
            "text/plain": [
              "      gender   age  hypertension  heart_disease ever_married      work_type  \\\n",
              "845   Female  48.0             0              0          Yes        Private   \n",
              "3744    Male  15.0             0              0           No        Private   \n",
              "4183  Female  67.0             0              0          Yes  Self-employed   \n",
              "3409    Male  44.0             0              0          Yes        Private   \n",
              "284     Male  14.0             0              0           No       Govt_job   \n",
              "\n",
              "     residence_type  avg_glucose_level   bmi smoking_status  stroke  \\\n",
              "845           Urban              69.21  33.1   never smoked       0   \n",
              "3744          Rural             122.25  21.0   never smoked       0   \n",
              "4183          Rural             110.42  24.9   never smoked       0   \n",
              "3409          Urban              65.41  24.8         smokes       0   \n",
              "284           Urban              82.34  31.6        Unknown       0   \n",
              "\n",
              "      bmi_was_missing  \n",
              "845             False  \n",
              "3744            False  \n",
              "4183            False  \n",
              "3409            False  \n",
              "284             False  "
            ],
            "text/html": [
              "\n",
              "  <div id=\"df-a5591aad-7e75-48a1-ab88-35225960f93b\">\n",
              "    <div class=\"colab-df-container\">\n",
              "      <div>\n",
              "<style scoped>\n",
              "    .dataframe tbody tr th:only-of-type {\n",
              "        vertical-align: middle;\n",
              "    }\n",
              "\n",
              "    .dataframe tbody tr th {\n",
              "        vertical-align: top;\n",
              "    }\n",
              "\n",
              "    .dataframe thead th {\n",
              "        text-align: right;\n",
              "    }\n",
              "</style>\n",
              "<table border=\"1\" class=\"dataframe\">\n",
              "  <thead>\n",
              "    <tr style=\"text-align: right;\">\n",
              "      <th></th>\n",
              "      <th>gender</th>\n",
              "      <th>age</th>\n",
              "      <th>hypertension</th>\n",
              "      <th>heart_disease</th>\n",
              "      <th>ever_married</th>\n",
              "      <th>work_type</th>\n",
              "      <th>residence_type</th>\n",
              "      <th>avg_glucose_level</th>\n",
              "      <th>bmi</th>\n",
              "      <th>smoking_status</th>\n",
              "      <th>stroke</th>\n",
              "      <th>bmi_was_missing</th>\n",
              "    </tr>\n",
              "  </thead>\n",
              "  <tbody>\n",
              "    <tr>\n",
              "      <th>845</th>\n",
              "      <td>Female</td>\n",
              "      <td>48.0</td>\n",
              "      <td>0</td>\n",
              "      <td>0</td>\n",
              "      <td>Yes</td>\n",
              "      <td>Private</td>\n",
              "      <td>Urban</td>\n",
              "      <td>69.21</td>\n",
              "      <td>33.1</td>\n",
              "      <td>never smoked</td>\n",
              "      <td>0</td>\n",
              "      <td>False</td>\n",
              "    </tr>\n",
              "    <tr>\n",
              "      <th>3744</th>\n",
              "      <td>Male</td>\n",
              "      <td>15.0</td>\n",
              "      <td>0</td>\n",
              "      <td>0</td>\n",
              "      <td>No</td>\n",
              "      <td>Private</td>\n",
              "      <td>Rural</td>\n",
              "      <td>122.25</td>\n",
              "      <td>21.0</td>\n",
              "      <td>never smoked</td>\n",
              "      <td>0</td>\n",
              "      <td>False</td>\n",
              "    </tr>\n",
              "    <tr>\n",
              "      <th>4183</th>\n",
              "      <td>Female</td>\n",
              "      <td>67.0</td>\n",
              "      <td>0</td>\n",
              "      <td>0</td>\n",
              "      <td>Yes</td>\n",
              "      <td>Self-employed</td>\n",
              "      <td>Rural</td>\n",
              "      <td>110.42</td>\n",
              "      <td>24.9</td>\n",
              "      <td>never smoked</td>\n",
              "      <td>0</td>\n",
              "      <td>False</td>\n",
              "    </tr>\n",
              "    <tr>\n",
              "      <th>3409</th>\n",
              "      <td>Male</td>\n",
              "      <td>44.0</td>\n",
              "      <td>0</td>\n",
              "      <td>0</td>\n",
              "      <td>Yes</td>\n",
              "      <td>Private</td>\n",
              "      <td>Urban</td>\n",
              "      <td>65.41</td>\n",
              "      <td>24.8</td>\n",
              "      <td>smokes</td>\n",
              "      <td>0</td>\n",
              "      <td>False</td>\n",
              "    </tr>\n",
              "    <tr>\n",
              "      <th>284</th>\n",
              "      <td>Male</td>\n",
              "      <td>14.0</td>\n",
              "      <td>0</td>\n",
              "      <td>0</td>\n",
              "      <td>No</td>\n",
              "      <td>Govt_job</td>\n",
              "      <td>Urban</td>\n",
              "      <td>82.34</td>\n",
              "      <td>31.6</td>\n",
              "      <td>Unknown</td>\n",
              "      <td>0</td>\n",
              "      <td>False</td>\n",
              "    </tr>\n",
              "  </tbody>\n",
              "</table>\n",
              "</div>\n",
              "      <button class=\"colab-df-convert\" onclick=\"convertToInteractive('df-a5591aad-7e75-48a1-ab88-35225960f93b')\"\n",
              "              title=\"Convert this dataframe to an interactive table.\"\n",
              "              style=\"display:none;\">\n",
              "        \n",
              "  <svg xmlns=\"http://www.w3.org/2000/svg\" height=\"24px\"viewBox=\"0 0 24 24\"\n",
              "       width=\"24px\">\n",
              "    <path d=\"M0 0h24v24H0V0z\" fill=\"none\"/>\n",
              "    <path d=\"M18.56 5.44l.94 2.06.94-2.06 2.06-.94-2.06-.94-.94-2.06-.94 2.06-2.06.94zm-11 1L8.5 8.5l.94-2.06 2.06-.94-2.06-.94L8.5 2.5l-.94 2.06-2.06.94zm10 10l.94 2.06.94-2.06 2.06-.94-2.06-.94-.94-2.06-.94 2.06-2.06.94z\"/><path d=\"M17.41 7.96l-1.37-1.37c-.4-.4-.92-.59-1.43-.59-.52 0-1.04.2-1.43.59L10.3 9.45l-7.72 7.72c-.78.78-.78 2.05 0 2.83L4 21.41c.39.39.9.59 1.41.59.51 0 1.02-.2 1.41-.59l7.78-7.78 2.81-2.81c.8-.78.8-2.07 0-2.86zM5.41 20L4 18.59l7.72-7.72 1.47 1.35L5.41 20z\"/>\n",
              "  </svg>\n",
              "      </button>\n",
              "      \n",
              "  <style>\n",
              "    .colab-df-container {\n",
              "      display:flex;\n",
              "      flex-wrap:wrap;\n",
              "      gap: 12px;\n",
              "    }\n",
              "\n",
              "    .colab-df-convert {\n",
              "      background-color: #E8F0FE;\n",
              "      border: none;\n",
              "      border-radius: 50%;\n",
              "      cursor: pointer;\n",
              "      display: none;\n",
              "      fill: #1967D2;\n",
              "      height: 32px;\n",
              "      padding: 0 0 0 0;\n",
              "      width: 32px;\n",
              "    }\n",
              "\n",
              "    .colab-df-convert:hover {\n",
              "      background-color: #E2EBFA;\n",
              "      box-shadow: 0px 1px 2px rgba(60, 64, 67, 0.3), 0px 1px 3px 1px rgba(60, 64, 67, 0.15);\n",
              "      fill: #174EA6;\n",
              "    }\n",
              "\n",
              "    [theme=dark] .colab-df-convert {\n",
              "      background-color: #3B4455;\n",
              "      fill: #D2E3FC;\n",
              "    }\n",
              "\n",
              "    [theme=dark] .colab-df-convert:hover {\n",
              "      background-color: #434B5C;\n",
              "      box-shadow: 0px 1px 3px 1px rgba(0, 0, 0, 0.15);\n",
              "      filter: drop-shadow(0px 1px 2px rgba(0, 0, 0, 0.3));\n",
              "      fill: #FFFFFF;\n",
              "    }\n",
              "  </style>\n",
              "\n",
              "      <script>\n",
              "        const buttonEl =\n",
              "          document.querySelector('#df-a5591aad-7e75-48a1-ab88-35225960f93b button.colab-df-convert');\n",
              "        buttonEl.style.display =\n",
              "          google.colab.kernel.accessAllowed ? 'block' : 'none';\n",
              "\n",
              "        async function convertToInteractive(key) {\n",
              "          const element = document.querySelector('#df-a5591aad-7e75-48a1-ab88-35225960f93b');\n",
              "          const dataTable =\n",
              "            await google.colab.kernel.invokeFunction('convertToInteractive',\n",
              "                                                     [key], {});\n",
              "          if (!dataTable) return;\n",
              "\n",
              "          const docLinkHtml = 'Like what you see? Visit the ' +\n",
              "            '<a target=\"_blank\" href=https://colab.research.google.com/notebooks/data_table.ipynb>data table notebook</a>'\n",
              "            + ' to learn more about interactive tables.';\n",
              "          element.innerHTML = '';\n",
              "          dataTable['output_type'] = 'display_data';\n",
              "          await google.colab.output.renderOutput(dataTable, element);\n",
              "          const docLink = document.createElement('div');\n",
              "          docLink.innerHTML = docLinkHtml;\n",
              "          element.appendChild(docLink);\n",
              "        }\n",
              "      </script>\n",
              "    </div>\n",
              "  </div>\n",
              "  "
            ]
          },
          "metadata": {},
          "execution_count": 453
        }
      ]
    },
    {
      "cell_type": "markdown",
      "source": [
        "This is the final dataset that we achived after performing data cleaning."
      ],
      "metadata": {
        "id": "vfstDWs5h9eO"
      }
    },
    {
      "cell_type": "markdown",
      "source": [
        "\n",
        "\n",
        "## Random code"
      ],
      "metadata": {
        "id": "Ah0pqhy8QU29"
      }
    },
    {
      "cell_type": "markdown",
      "source": [
        "TODO: delete this section"
      ],
      "metadata": {
        "id": "ObeDkbgGQcL3"
      }
    },
    {
      "cell_type": "code",
      "source": [
        "stroke_df.isnull().sum()"
      ],
      "metadata": {
        "id": "9HtUYtfaL7rZ",
        "outputId": "94b40e34-5200-44ba-a527-205251d00fa9",
        "colab": {
          "base_uri": "https://localhost:8080/"
        }
      },
      "execution_count": 454,
      "outputs": [
        {
          "output_type": "execute_result",
          "data": {
            "text/plain": [
              "gender               0\n",
              "age                  0\n",
              "hypertension         0\n",
              "heart_disease        0\n",
              "ever_married         0\n",
              "work_type            0\n",
              "residence_type       0\n",
              "avg_glucose_level    0\n",
              "bmi                  0\n",
              "smoking_status       0\n",
              "stroke               0\n",
              "bmi_was_missing      0\n",
              "dtype: int64"
            ]
          },
          "metadata": {},
          "execution_count": 454
        }
      ]
    },
    {
      "cell_type": "code",
      "source": [
        "stroke_df.work_type.value_counts()"
      ],
      "metadata": {
        "colab": {
          "base_uri": "https://localhost:8080/"
        },
        "id": "N2TnFs1gvQR3",
        "outputId": "dec3d9cd-dc05-476b-99a0-d8904bfcb0a0"
      },
      "execution_count": 455,
      "outputs": [
        {
          "output_type": "execute_result",
          "data": {
            "text/plain": [
              "Private          2331\n",
              "Self-employed     667\n",
              "children          563\n",
              "Govt_job          522\n",
              "Name: work_type, dtype: int64"
            ]
          },
          "metadata": {},
          "execution_count": 455
        }
      ]
    },
    {
      "cell_type": "code",
      "source": [
        "stroke_df.age.map(lambda a: 1 if a >= 16 else 0).value_counts()"
      ],
      "metadata": {
        "colab": {
          "base_uri": "https://localhost:8080/"
        },
        "id": "f8Ffj9MLvmZZ",
        "outputId": "e0ca464a-2f54-4ea1-b8ce-2538c82d8cd8"
      },
      "execution_count": 456,
      "outputs": [
        {
          "output_type": "execute_result",
          "data": {
            "text/plain": [
              "1    3494\n",
              "0     589\n",
              "Name: age, dtype: int64"
            ]
          },
          "metadata": {},
          "execution_count": 456
        }
      ]
    },
    {
      "cell_type": "code",
      "source": [
        "stroke_df[stroke_df[\"age\"]<16][stroke_df[\"work_type\"]!=\"children\"]"
      ],
      "metadata": {
        "colab": {
          "base_uri": "https://localhost:8080/",
          "height": 1000
        },
        "id": "5ElmyHOZ0f1u",
        "outputId": "29ec0e8c-0cb4-4627-9319-183eeca3dacb"
      },
      "execution_count": 457,
      "outputs": [
        {
          "output_type": "stream",
          "name": "stderr",
          "text": [
            "/usr/local/lib/python3.7/dist-packages/ipykernel_launcher.py:1: UserWarning: Boolean Series key will be reindexed to match DataFrame index.\n",
            "  \"\"\"Entry point for launching an IPython kernel.\n"
          ]
        },
        {
          "output_type": "execute_result",
          "data": {
            "text/plain": [
              "      gender   age  hypertension  heart_disease ever_married      work_type  \\\n",
              "3744    Male  15.0             0              0           No        Private   \n",
              "284     Male  14.0             0              0           No       Govt_job   \n",
              "2485  Female  14.0             0              0           No        Private   \n",
              "2455  Female  14.0             0              0           No        Private   \n",
              "3334    Male  13.0             0              0           No        Private   \n",
              "3749  Female  14.0             0              0           No  Self-employed   \n",
              "4572    Male  15.0             0              0           No        Private   \n",
              "2411    Male  14.0             0              0           No        Private   \n",
              "2794    Male  14.0             0              0           No        Private   \n",
              "950     Male  15.0             0              0           No        Private   \n",
              "3434    Male  14.0             0              0           No  Self-employed   \n",
              "4981    Male  15.0             0              0           No        Private   \n",
              "2113    Male  14.0             0              0           No        Private   \n",
              "3840  Female  14.0             0              0           No        Private   \n",
              "1623  Female  15.0             0              0           No        Private   \n",
              "1976  Female  13.0             0              0           No        Private   \n",
              "2856    Male  14.0             0              0           No        Private   \n",
              "1826    Male  14.0             0              0           No        Private   \n",
              "4486    Male  14.0             0              0           No        Private   \n",
              "1039  Female  15.0             0              0           No        Private   \n",
              "956   Female  15.0             0              0           No  Self-employed   \n",
              "4903  Female  14.0             0              0           No        Private   \n",
              "3486  Female  13.0             0              0           No        Private   \n",
              "4298  Female  14.0             0              0           No        Private   \n",
              "2062  Female  15.0             0              0           No        Private   \n",
              "3609  Female  15.0             0              0           No        Private   \n",
              "4806    Male  15.0             0              0           No        Private   \n",
              "1249    Male  15.0             0              0           No        Private   \n",
              "1242    Male  15.0             0              0           No        Private   \n",
              "3414    Male  13.0             0              0           No        Private   \n",
              "3964  Female  13.0             0              0           No        Private   \n",
              "2679    Male  15.0             0              0           No        Private   \n",
              "4363    Male  15.0             0              0           No        Private   \n",
              "1197  Female  14.0             0              0           No        Private   \n",
              "3501    Male  14.0             0              0           No        Private   \n",
              "1809    Male  13.0             0              0           No        Private   \n",
              "251   Female   8.0             0              0           No        Private   \n",
              "4709    Male  15.0             0              0           No        Private   \n",
              "3653  Female  14.0             0              0           No        Private   \n",
              "3255  Female  15.0             0              0           No        Private   \n",
              "4593    Male  14.0             0              0           No        Private   \n",
              "\n",
              "     residence_type  avg_glucose_level   bmi   smoking_status  stroke  \\\n",
              "3744          Rural             122.25  21.0     never smoked       0   \n",
              "284           Urban              82.34  31.6          Unknown       0   \n",
              "2485          Rural              70.54  24.4  formerly smoked       0   \n",
              "2455          Rural             233.71  22.9     never smoked       0   \n",
              "3334          Rural              90.60  16.9     never smoked       0   \n",
              "3749          Rural              77.52  21.9     never smoked       0   \n",
              "4572          Urban             104.90  27.4     never smoked       0   \n",
              "2411          Urban              79.36  48.8     never smoked       0   \n",
              "2794          Rural             108.65  23.1     never smoked       0   \n",
              "950           Urban              57.94  41.7          Unknown       0   \n",
              "3434          Rural              72.28  19.0          Unknown       0   \n",
              "4981          Urban              65.05  24.6          Unknown       0   \n",
              "2113          Urban              77.12  24.5  formerly smoked       0   \n",
              "3840          Urban              69.74  24.2  formerly smoked       0   \n",
              "1623          Rural              69.38  28.4     never smoked       0   \n",
              "1976          Urban              77.63  31.7     never smoked       0   \n",
              "2856          Rural              61.04  17.6          Unknown       0   \n",
              "1826          Rural             103.44  20.1     never smoked       0   \n",
              "4486          Urban             126.57  25.9  formerly smoked       0   \n",
              "1039          Rural              95.43  25.0          Unknown       0   \n",
              "956           Urban              90.10  32.1     never smoked       0   \n",
              "4903          Rural              83.56  33.1          Unknown       0   \n",
              "3486          Urban              62.57  20.9          Unknown       0   \n",
              "4298          Rural              91.32  24.3     never smoked       0   \n",
              "2062          Urban             121.60  22.8     never smoked       0   \n",
              "3609          Urban              87.29  29.4          Unknown       0   \n",
              "4806          Urban             137.27  19.3     never smoked       0   \n",
              "1249          Rural              78.59  25.1          Unknown       0   \n",
              "1242          Rural              61.61  27.8     never smoked       0   \n",
              "3414          Urban             141.09  24.0          Unknown       0   \n",
              "3964          Rural             172.27  16.6     never smoked       0   \n",
              "2679          Urban             190.13  20.7     never smoked       0   \n",
              "4363          Urban              55.79  21.3     never smoked       0   \n",
              "1197          Rural              84.46  21.8          Unknown       0   \n",
              "3501          Rural             164.70  26.3          Unknown       0   \n",
              "1809          Rural              99.44  21.0     never smoked       0   \n",
              "251           Urban             110.89  17.6     never smoked       0   \n",
              "4709          Rural             144.15  24.1     never smoked       0   \n",
              "3653          Rural             118.88  30.5     never smoked       0   \n",
              "3255          Urban             113.57  27.5  formerly smoked       0   \n",
              "4593          Urban              72.88  26.5     never smoked       0   \n",
              "\n",
              "      bmi_was_missing  \n",
              "3744            False  \n",
              "284             False  \n",
              "2485            False  \n",
              "2455            False  \n",
              "3334            False  \n",
              "3749            False  \n",
              "4572            False  \n",
              "2411            False  \n",
              "2794            False  \n",
              "950             False  \n",
              "3434            False  \n",
              "4981            False  \n",
              "2113            False  \n",
              "3840            False  \n",
              "1623            False  \n",
              "1976            False  \n",
              "2856            False  \n",
              "1826            False  \n",
              "4486            False  \n",
              "1039            False  \n",
              "956             False  \n",
              "4903            False  \n",
              "3486            False  \n",
              "4298            False  \n",
              "2062            False  \n",
              "3609            False  \n",
              "4806            False  \n",
              "1249            False  \n",
              "1242            False  \n",
              "3414            False  \n",
              "3964            False  \n",
              "2679            False  \n",
              "4363            False  \n",
              "1197            False  \n",
              "3501            False  \n",
              "1809            False  \n",
              "251             False  \n",
              "4709            False  \n",
              "3653            False  \n",
              "3255            False  \n",
              "4593            False  "
            ],
            "text/html": [
              "\n",
              "  <div id=\"df-4b15fd5a-0916-44c2-a27f-780cf4c73d23\">\n",
              "    <div class=\"colab-df-container\">\n",
              "      <div>\n",
              "<style scoped>\n",
              "    .dataframe tbody tr th:only-of-type {\n",
              "        vertical-align: middle;\n",
              "    }\n",
              "\n",
              "    .dataframe tbody tr th {\n",
              "        vertical-align: top;\n",
              "    }\n",
              "\n",
              "    .dataframe thead th {\n",
              "        text-align: right;\n",
              "    }\n",
              "</style>\n",
              "<table border=\"1\" class=\"dataframe\">\n",
              "  <thead>\n",
              "    <tr style=\"text-align: right;\">\n",
              "      <th></th>\n",
              "      <th>gender</th>\n",
              "      <th>age</th>\n",
              "      <th>hypertension</th>\n",
              "      <th>heart_disease</th>\n",
              "      <th>ever_married</th>\n",
              "      <th>work_type</th>\n",
              "      <th>residence_type</th>\n",
              "      <th>avg_glucose_level</th>\n",
              "      <th>bmi</th>\n",
              "      <th>smoking_status</th>\n",
              "      <th>stroke</th>\n",
              "      <th>bmi_was_missing</th>\n",
              "    </tr>\n",
              "  </thead>\n",
              "  <tbody>\n",
              "    <tr>\n",
              "      <th>3744</th>\n",
              "      <td>Male</td>\n",
              "      <td>15.0</td>\n",
              "      <td>0</td>\n",
              "      <td>0</td>\n",
              "      <td>No</td>\n",
              "      <td>Private</td>\n",
              "      <td>Rural</td>\n",
              "      <td>122.25</td>\n",
              "      <td>21.0</td>\n",
              "      <td>never smoked</td>\n",
              "      <td>0</td>\n",
              "      <td>False</td>\n",
              "    </tr>\n",
              "    <tr>\n",
              "      <th>284</th>\n",
              "      <td>Male</td>\n",
              "      <td>14.0</td>\n",
              "      <td>0</td>\n",
              "      <td>0</td>\n",
              "      <td>No</td>\n",
              "      <td>Govt_job</td>\n",
              "      <td>Urban</td>\n",
              "      <td>82.34</td>\n",
              "      <td>31.6</td>\n",
              "      <td>Unknown</td>\n",
              "      <td>0</td>\n",
              "      <td>False</td>\n",
              "    </tr>\n",
              "    <tr>\n",
              "      <th>2485</th>\n",
              "      <td>Female</td>\n",
              "      <td>14.0</td>\n",
              "      <td>0</td>\n",
              "      <td>0</td>\n",
              "      <td>No</td>\n",
              "      <td>Private</td>\n",
              "      <td>Rural</td>\n",
              "      <td>70.54</td>\n",
              "      <td>24.4</td>\n",
              "      <td>formerly smoked</td>\n",
              "      <td>0</td>\n",
              "      <td>False</td>\n",
              "    </tr>\n",
              "    <tr>\n",
              "      <th>2455</th>\n",
              "      <td>Female</td>\n",
              "      <td>14.0</td>\n",
              "      <td>0</td>\n",
              "      <td>0</td>\n",
              "      <td>No</td>\n",
              "      <td>Private</td>\n",
              "      <td>Rural</td>\n",
              "      <td>233.71</td>\n",
              "      <td>22.9</td>\n",
              "      <td>never smoked</td>\n",
              "      <td>0</td>\n",
              "      <td>False</td>\n",
              "    </tr>\n",
              "    <tr>\n",
              "      <th>3334</th>\n",
              "      <td>Male</td>\n",
              "      <td>13.0</td>\n",
              "      <td>0</td>\n",
              "      <td>0</td>\n",
              "      <td>No</td>\n",
              "      <td>Private</td>\n",
              "      <td>Rural</td>\n",
              "      <td>90.60</td>\n",
              "      <td>16.9</td>\n",
              "      <td>never smoked</td>\n",
              "      <td>0</td>\n",
              "      <td>False</td>\n",
              "    </tr>\n",
              "    <tr>\n",
              "      <th>3749</th>\n",
              "      <td>Female</td>\n",
              "      <td>14.0</td>\n",
              "      <td>0</td>\n",
              "      <td>0</td>\n",
              "      <td>No</td>\n",
              "      <td>Self-employed</td>\n",
              "      <td>Rural</td>\n",
              "      <td>77.52</td>\n",
              "      <td>21.9</td>\n",
              "      <td>never smoked</td>\n",
              "      <td>0</td>\n",
              "      <td>False</td>\n",
              "    </tr>\n",
              "    <tr>\n",
              "      <th>4572</th>\n",
              "      <td>Male</td>\n",
              "      <td>15.0</td>\n",
              "      <td>0</td>\n",
              "      <td>0</td>\n",
              "      <td>No</td>\n",
              "      <td>Private</td>\n",
              "      <td>Urban</td>\n",
              "      <td>104.90</td>\n",
              "      <td>27.4</td>\n",
              "      <td>never smoked</td>\n",
              "      <td>0</td>\n",
              "      <td>False</td>\n",
              "    </tr>\n",
              "    <tr>\n",
              "      <th>2411</th>\n",
              "      <td>Male</td>\n",
              "      <td>14.0</td>\n",
              "      <td>0</td>\n",
              "      <td>0</td>\n",
              "      <td>No</td>\n",
              "      <td>Private</td>\n",
              "      <td>Urban</td>\n",
              "      <td>79.36</td>\n",
              "      <td>48.8</td>\n",
              "      <td>never smoked</td>\n",
              "      <td>0</td>\n",
              "      <td>False</td>\n",
              "    </tr>\n",
              "    <tr>\n",
              "      <th>2794</th>\n",
              "      <td>Male</td>\n",
              "      <td>14.0</td>\n",
              "      <td>0</td>\n",
              "      <td>0</td>\n",
              "      <td>No</td>\n",
              "      <td>Private</td>\n",
              "      <td>Rural</td>\n",
              "      <td>108.65</td>\n",
              "      <td>23.1</td>\n",
              "      <td>never smoked</td>\n",
              "      <td>0</td>\n",
              "      <td>False</td>\n",
              "    </tr>\n",
              "    <tr>\n",
              "      <th>950</th>\n",
              "      <td>Male</td>\n",
              "      <td>15.0</td>\n",
              "      <td>0</td>\n",
              "      <td>0</td>\n",
              "      <td>No</td>\n",
              "      <td>Private</td>\n",
              "      <td>Urban</td>\n",
              "      <td>57.94</td>\n",
              "      <td>41.7</td>\n",
              "      <td>Unknown</td>\n",
              "      <td>0</td>\n",
              "      <td>False</td>\n",
              "    </tr>\n",
              "    <tr>\n",
              "      <th>3434</th>\n",
              "      <td>Male</td>\n",
              "      <td>14.0</td>\n",
              "      <td>0</td>\n",
              "      <td>0</td>\n",
              "      <td>No</td>\n",
              "      <td>Self-employed</td>\n",
              "      <td>Rural</td>\n",
              "      <td>72.28</td>\n",
              "      <td>19.0</td>\n",
              "      <td>Unknown</td>\n",
              "      <td>0</td>\n",
              "      <td>False</td>\n",
              "    </tr>\n",
              "    <tr>\n",
              "      <th>4981</th>\n",
              "      <td>Male</td>\n",
              "      <td>15.0</td>\n",
              "      <td>0</td>\n",
              "      <td>0</td>\n",
              "      <td>No</td>\n",
              "      <td>Private</td>\n",
              "      <td>Urban</td>\n",
              "      <td>65.05</td>\n",
              "      <td>24.6</td>\n",
              "      <td>Unknown</td>\n",
              "      <td>0</td>\n",
              "      <td>False</td>\n",
              "    </tr>\n",
              "    <tr>\n",
              "      <th>2113</th>\n",
              "      <td>Male</td>\n",
              "      <td>14.0</td>\n",
              "      <td>0</td>\n",
              "      <td>0</td>\n",
              "      <td>No</td>\n",
              "      <td>Private</td>\n",
              "      <td>Urban</td>\n",
              "      <td>77.12</td>\n",
              "      <td>24.5</td>\n",
              "      <td>formerly smoked</td>\n",
              "      <td>0</td>\n",
              "      <td>False</td>\n",
              "    </tr>\n",
              "    <tr>\n",
              "      <th>3840</th>\n",
              "      <td>Female</td>\n",
              "      <td>14.0</td>\n",
              "      <td>0</td>\n",
              "      <td>0</td>\n",
              "      <td>No</td>\n",
              "      <td>Private</td>\n",
              "      <td>Urban</td>\n",
              "      <td>69.74</td>\n",
              "      <td>24.2</td>\n",
              "      <td>formerly smoked</td>\n",
              "      <td>0</td>\n",
              "      <td>False</td>\n",
              "    </tr>\n",
              "    <tr>\n",
              "      <th>1623</th>\n",
              "      <td>Female</td>\n",
              "      <td>15.0</td>\n",
              "      <td>0</td>\n",
              "      <td>0</td>\n",
              "      <td>No</td>\n",
              "      <td>Private</td>\n",
              "      <td>Rural</td>\n",
              "      <td>69.38</td>\n",
              "      <td>28.4</td>\n",
              "      <td>never smoked</td>\n",
              "      <td>0</td>\n",
              "      <td>False</td>\n",
              "    </tr>\n",
              "    <tr>\n",
              "      <th>1976</th>\n",
              "      <td>Female</td>\n",
              "      <td>13.0</td>\n",
              "      <td>0</td>\n",
              "      <td>0</td>\n",
              "      <td>No</td>\n",
              "      <td>Private</td>\n",
              "      <td>Urban</td>\n",
              "      <td>77.63</td>\n",
              "      <td>31.7</td>\n",
              "      <td>never smoked</td>\n",
              "      <td>0</td>\n",
              "      <td>False</td>\n",
              "    </tr>\n",
              "    <tr>\n",
              "      <th>2856</th>\n",
              "      <td>Male</td>\n",
              "      <td>14.0</td>\n",
              "      <td>0</td>\n",
              "      <td>0</td>\n",
              "      <td>No</td>\n",
              "      <td>Private</td>\n",
              "      <td>Rural</td>\n",
              "      <td>61.04</td>\n",
              "      <td>17.6</td>\n",
              "      <td>Unknown</td>\n",
              "      <td>0</td>\n",
              "      <td>False</td>\n",
              "    </tr>\n",
              "    <tr>\n",
              "      <th>1826</th>\n",
              "      <td>Male</td>\n",
              "      <td>14.0</td>\n",
              "      <td>0</td>\n",
              "      <td>0</td>\n",
              "      <td>No</td>\n",
              "      <td>Private</td>\n",
              "      <td>Rural</td>\n",
              "      <td>103.44</td>\n",
              "      <td>20.1</td>\n",
              "      <td>never smoked</td>\n",
              "      <td>0</td>\n",
              "      <td>False</td>\n",
              "    </tr>\n",
              "    <tr>\n",
              "      <th>4486</th>\n",
              "      <td>Male</td>\n",
              "      <td>14.0</td>\n",
              "      <td>0</td>\n",
              "      <td>0</td>\n",
              "      <td>No</td>\n",
              "      <td>Private</td>\n",
              "      <td>Urban</td>\n",
              "      <td>126.57</td>\n",
              "      <td>25.9</td>\n",
              "      <td>formerly smoked</td>\n",
              "      <td>0</td>\n",
              "      <td>False</td>\n",
              "    </tr>\n",
              "    <tr>\n",
              "      <th>1039</th>\n",
              "      <td>Female</td>\n",
              "      <td>15.0</td>\n",
              "      <td>0</td>\n",
              "      <td>0</td>\n",
              "      <td>No</td>\n",
              "      <td>Private</td>\n",
              "      <td>Rural</td>\n",
              "      <td>95.43</td>\n",
              "      <td>25.0</td>\n",
              "      <td>Unknown</td>\n",
              "      <td>0</td>\n",
              "      <td>False</td>\n",
              "    </tr>\n",
              "    <tr>\n",
              "      <th>956</th>\n",
              "      <td>Female</td>\n",
              "      <td>15.0</td>\n",
              "      <td>0</td>\n",
              "      <td>0</td>\n",
              "      <td>No</td>\n",
              "      <td>Self-employed</td>\n",
              "      <td>Urban</td>\n",
              "      <td>90.10</td>\n",
              "      <td>32.1</td>\n",
              "      <td>never smoked</td>\n",
              "      <td>0</td>\n",
              "      <td>False</td>\n",
              "    </tr>\n",
              "    <tr>\n",
              "      <th>4903</th>\n",
              "      <td>Female</td>\n",
              "      <td>14.0</td>\n",
              "      <td>0</td>\n",
              "      <td>0</td>\n",
              "      <td>No</td>\n",
              "      <td>Private</td>\n",
              "      <td>Rural</td>\n",
              "      <td>83.56</td>\n",
              "      <td>33.1</td>\n",
              "      <td>Unknown</td>\n",
              "      <td>0</td>\n",
              "      <td>False</td>\n",
              "    </tr>\n",
              "    <tr>\n",
              "      <th>3486</th>\n",
              "      <td>Female</td>\n",
              "      <td>13.0</td>\n",
              "      <td>0</td>\n",
              "      <td>0</td>\n",
              "      <td>No</td>\n",
              "      <td>Private</td>\n",
              "      <td>Urban</td>\n",
              "      <td>62.57</td>\n",
              "      <td>20.9</td>\n",
              "      <td>Unknown</td>\n",
              "      <td>0</td>\n",
              "      <td>False</td>\n",
              "    </tr>\n",
              "    <tr>\n",
              "      <th>4298</th>\n",
              "      <td>Female</td>\n",
              "      <td>14.0</td>\n",
              "      <td>0</td>\n",
              "      <td>0</td>\n",
              "      <td>No</td>\n",
              "      <td>Private</td>\n",
              "      <td>Rural</td>\n",
              "      <td>91.32</td>\n",
              "      <td>24.3</td>\n",
              "      <td>never smoked</td>\n",
              "      <td>0</td>\n",
              "      <td>False</td>\n",
              "    </tr>\n",
              "    <tr>\n",
              "      <th>2062</th>\n",
              "      <td>Female</td>\n",
              "      <td>15.0</td>\n",
              "      <td>0</td>\n",
              "      <td>0</td>\n",
              "      <td>No</td>\n",
              "      <td>Private</td>\n",
              "      <td>Urban</td>\n",
              "      <td>121.60</td>\n",
              "      <td>22.8</td>\n",
              "      <td>never smoked</td>\n",
              "      <td>0</td>\n",
              "      <td>False</td>\n",
              "    </tr>\n",
              "    <tr>\n",
              "      <th>3609</th>\n",
              "      <td>Female</td>\n",
              "      <td>15.0</td>\n",
              "      <td>0</td>\n",
              "      <td>0</td>\n",
              "      <td>No</td>\n",
              "      <td>Private</td>\n",
              "      <td>Urban</td>\n",
              "      <td>87.29</td>\n",
              "      <td>29.4</td>\n",
              "      <td>Unknown</td>\n",
              "      <td>0</td>\n",
              "      <td>False</td>\n",
              "    </tr>\n",
              "    <tr>\n",
              "      <th>4806</th>\n",
              "      <td>Male</td>\n",
              "      <td>15.0</td>\n",
              "      <td>0</td>\n",
              "      <td>0</td>\n",
              "      <td>No</td>\n",
              "      <td>Private</td>\n",
              "      <td>Urban</td>\n",
              "      <td>137.27</td>\n",
              "      <td>19.3</td>\n",
              "      <td>never smoked</td>\n",
              "      <td>0</td>\n",
              "      <td>False</td>\n",
              "    </tr>\n",
              "    <tr>\n",
              "      <th>1249</th>\n",
              "      <td>Male</td>\n",
              "      <td>15.0</td>\n",
              "      <td>0</td>\n",
              "      <td>0</td>\n",
              "      <td>No</td>\n",
              "      <td>Private</td>\n",
              "      <td>Rural</td>\n",
              "      <td>78.59</td>\n",
              "      <td>25.1</td>\n",
              "      <td>Unknown</td>\n",
              "      <td>0</td>\n",
              "      <td>False</td>\n",
              "    </tr>\n",
              "    <tr>\n",
              "      <th>1242</th>\n",
              "      <td>Male</td>\n",
              "      <td>15.0</td>\n",
              "      <td>0</td>\n",
              "      <td>0</td>\n",
              "      <td>No</td>\n",
              "      <td>Private</td>\n",
              "      <td>Rural</td>\n",
              "      <td>61.61</td>\n",
              "      <td>27.8</td>\n",
              "      <td>never smoked</td>\n",
              "      <td>0</td>\n",
              "      <td>False</td>\n",
              "    </tr>\n",
              "    <tr>\n",
              "      <th>3414</th>\n",
              "      <td>Male</td>\n",
              "      <td>13.0</td>\n",
              "      <td>0</td>\n",
              "      <td>0</td>\n",
              "      <td>No</td>\n",
              "      <td>Private</td>\n",
              "      <td>Urban</td>\n",
              "      <td>141.09</td>\n",
              "      <td>24.0</td>\n",
              "      <td>Unknown</td>\n",
              "      <td>0</td>\n",
              "      <td>False</td>\n",
              "    </tr>\n",
              "    <tr>\n",
              "      <th>3964</th>\n",
              "      <td>Female</td>\n",
              "      <td>13.0</td>\n",
              "      <td>0</td>\n",
              "      <td>0</td>\n",
              "      <td>No</td>\n",
              "      <td>Private</td>\n",
              "      <td>Rural</td>\n",
              "      <td>172.27</td>\n",
              "      <td>16.6</td>\n",
              "      <td>never smoked</td>\n",
              "      <td>0</td>\n",
              "      <td>False</td>\n",
              "    </tr>\n",
              "    <tr>\n",
              "      <th>2679</th>\n",
              "      <td>Male</td>\n",
              "      <td>15.0</td>\n",
              "      <td>0</td>\n",
              "      <td>0</td>\n",
              "      <td>No</td>\n",
              "      <td>Private</td>\n",
              "      <td>Urban</td>\n",
              "      <td>190.13</td>\n",
              "      <td>20.7</td>\n",
              "      <td>never smoked</td>\n",
              "      <td>0</td>\n",
              "      <td>False</td>\n",
              "    </tr>\n",
              "    <tr>\n",
              "      <th>4363</th>\n",
              "      <td>Male</td>\n",
              "      <td>15.0</td>\n",
              "      <td>0</td>\n",
              "      <td>0</td>\n",
              "      <td>No</td>\n",
              "      <td>Private</td>\n",
              "      <td>Urban</td>\n",
              "      <td>55.79</td>\n",
              "      <td>21.3</td>\n",
              "      <td>never smoked</td>\n",
              "      <td>0</td>\n",
              "      <td>False</td>\n",
              "    </tr>\n",
              "    <tr>\n",
              "      <th>1197</th>\n",
              "      <td>Female</td>\n",
              "      <td>14.0</td>\n",
              "      <td>0</td>\n",
              "      <td>0</td>\n",
              "      <td>No</td>\n",
              "      <td>Private</td>\n",
              "      <td>Rural</td>\n",
              "      <td>84.46</td>\n",
              "      <td>21.8</td>\n",
              "      <td>Unknown</td>\n",
              "      <td>0</td>\n",
              "      <td>False</td>\n",
              "    </tr>\n",
              "    <tr>\n",
              "      <th>3501</th>\n",
              "      <td>Male</td>\n",
              "      <td>14.0</td>\n",
              "      <td>0</td>\n",
              "      <td>0</td>\n",
              "      <td>No</td>\n",
              "      <td>Private</td>\n",
              "      <td>Rural</td>\n",
              "      <td>164.70</td>\n",
              "      <td>26.3</td>\n",
              "      <td>Unknown</td>\n",
              "      <td>0</td>\n",
              "      <td>False</td>\n",
              "    </tr>\n",
              "    <tr>\n",
              "      <th>1809</th>\n",
              "      <td>Male</td>\n",
              "      <td>13.0</td>\n",
              "      <td>0</td>\n",
              "      <td>0</td>\n",
              "      <td>No</td>\n",
              "      <td>Private</td>\n",
              "      <td>Rural</td>\n",
              "      <td>99.44</td>\n",
              "      <td>21.0</td>\n",
              "      <td>never smoked</td>\n",
              "      <td>0</td>\n",
              "      <td>False</td>\n",
              "    </tr>\n",
              "    <tr>\n",
              "      <th>251</th>\n",
              "      <td>Female</td>\n",
              "      <td>8.0</td>\n",
              "      <td>0</td>\n",
              "      <td>0</td>\n",
              "      <td>No</td>\n",
              "      <td>Private</td>\n",
              "      <td>Urban</td>\n",
              "      <td>110.89</td>\n",
              "      <td>17.6</td>\n",
              "      <td>never smoked</td>\n",
              "      <td>0</td>\n",
              "      <td>False</td>\n",
              "    </tr>\n",
              "    <tr>\n",
              "      <th>4709</th>\n",
              "      <td>Male</td>\n",
              "      <td>15.0</td>\n",
              "      <td>0</td>\n",
              "      <td>0</td>\n",
              "      <td>No</td>\n",
              "      <td>Private</td>\n",
              "      <td>Rural</td>\n",
              "      <td>144.15</td>\n",
              "      <td>24.1</td>\n",
              "      <td>never smoked</td>\n",
              "      <td>0</td>\n",
              "      <td>False</td>\n",
              "    </tr>\n",
              "    <tr>\n",
              "      <th>3653</th>\n",
              "      <td>Female</td>\n",
              "      <td>14.0</td>\n",
              "      <td>0</td>\n",
              "      <td>0</td>\n",
              "      <td>No</td>\n",
              "      <td>Private</td>\n",
              "      <td>Rural</td>\n",
              "      <td>118.88</td>\n",
              "      <td>30.5</td>\n",
              "      <td>never smoked</td>\n",
              "      <td>0</td>\n",
              "      <td>False</td>\n",
              "    </tr>\n",
              "    <tr>\n",
              "      <th>3255</th>\n",
              "      <td>Female</td>\n",
              "      <td>15.0</td>\n",
              "      <td>0</td>\n",
              "      <td>0</td>\n",
              "      <td>No</td>\n",
              "      <td>Private</td>\n",
              "      <td>Urban</td>\n",
              "      <td>113.57</td>\n",
              "      <td>27.5</td>\n",
              "      <td>formerly smoked</td>\n",
              "      <td>0</td>\n",
              "      <td>False</td>\n",
              "    </tr>\n",
              "    <tr>\n",
              "      <th>4593</th>\n",
              "      <td>Male</td>\n",
              "      <td>14.0</td>\n",
              "      <td>0</td>\n",
              "      <td>0</td>\n",
              "      <td>No</td>\n",
              "      <td>Private</td>\n",
              "      <td>Urban</td>\n",
              "      <td>72.88</td>\n",
              "      <td>26.5</td>\n",
              "      <td>never smoked</td>\n",
              "      <td>0</td>\n",
              "      <td>False</td>\n",
              "    </tr>\n",
              "  </tbody>\n",
              "</table>\n",
              "</div>\n",
              "      <button class=\"colab-df-convert\" onclick=\"convertToInteractive('df-4b15fd5a-0916-44c2-a27f-780cf4c73d23')\"\n",
              "              title=\"Convert this dataframe to an interactive table.\"\n",
              "              style=\"display:none;\">\n",
              "        \n",
              "  <svg xmlns=\"http://www.w3.org/2000/svg\" height=\"24px\"viewBox=\"0 0 24 24\"\n",
              "       width=\"24px\">\n",
              "    <path d=\"M0 0h24v24H0V0z\" fill=\"none\"/>\n",
              "    <path d=\"M18.56 5.44l.94 2.06.94-2.06 2.06-.94-2.06-.94-.94-2.06-.94 2.06-2.06.94zm-11 1L8.5 8.5l.94-2.06 2.06-.94-2.06-.94L8.5 2.5l-.94 2.06-2.06.94zm10 10l.94 2.06.94-2.06 2.06-.94-2.06-.94-.94-2.06-.94 2.06-2.06.94z\"/><path d=\"M17.41 7.96l-1.37-1.37c-.4-.4-.92-.59-1.43-.59-.52 0-1.04.2-1.43.59L10.3 9.45l-7.72 7.72c-.78.78-.78 2.05 0 2.83L4 21.41c.39.39.9.59 1.41.59.51 0 1.02-.2 1.41-.59l7.78-7.78 2.81-2.81c.8-.78.8-2.07 0-2.86zM5.41 20L4 18.59l7.72-7.72 1.47 1.35L5.41 20z\"/>\n",
              "  </svg>\n",
              "      </button>\n",
              "      \n",
              "  <style>\n",
              "    .colab-df-container {\n",
              "      display:flex;\n",
              "      flex-wrap:wrap;\n",
              "      gap: 12px;\n",
              "    }\n",
              "\n",
              "    .colab-df-convert {\n",
              "      background-color: #E8F0FE;\n",
              "      border: none;\n",
              "      border-radius: 50%;\n",
              "      cursor: pointer;\n",
              "      display: none;\n",
              "      fill: #1967D2;\n",
              "      height: 32px;\n",
              "      padding: 0 0 0 0;\n",
              "      width: 32px;\n",
              "    }\n",
              "\n",
              "    .colab-df-convert:hover {\n",
              "      background-color: #E2EBFA;\n",
              "      box-shadow: 0px 1px 2px rgba(60, 64, 67, 0.3), 0px 1px 3px 1px rgba(60, 64, 67, 0.15);\n",
              "      fill: #174EA6;\n",
              "    }\n",
              "\n",
              "    [theme=dark] .colab-df-convert {\n",
              "      background-color: #3B4455;\n",
              "      fill: #D2E3FC;\n",
              "    }\n",
              "\n",
              "    [theme=dark] .colab-df-convert:hover {\n",
              "      background-color: #434B5C;\n",
              "      box-shadow: 0px 1px 3px 1px rgba(0, 0, 0, 0.15);\n",
              "      filter: drop-shadow(0px 1px 2px rgba(0, 0, 0, 0.3));\n",
              "      fill: #FFFFFF;\n",
              "    }\n",
              "  </style>\n",
              "\n",
              "      <script>\n",
              "        const buttonEl =\n",
              "          document.querySelector('#df-4b15fd5a-0916-44c2-a27f-780cf4c73d23 button.colab-df-convert');\n",
              "        buttonEl.style.display =\n",
              "          google.colab.kernel.accessAllowed ? 'block' : 'none';\n",
              "\n",
              "        async function convertToInteractive(key) {\n",
              "          const element = document.querySelector('#df-4b15fd5a-0916-44c2-a27f-780cf4c73d23');\n",
              "          const dataTable =\n",
              "            await google.colab.kernel.invokeFunction('convertToInteractive',\n",
              "                                                     [key], {});\n",
              "          if (!dataTable) return;\n",
              "\n",
              "          const docLinkHtml = 'Like what you see? Visit the ' +\n",
              "            '<a target=\"_blank\" href=https://colab.research.google.com/notebooks/data_table.ipynb>data table notebook</a>'\n",
              "            + ' to learn more about interactive tables.';\n",
              "          element.innerHTML = '';\n",
              "          dataTable['output_type'] = 'display_data';\n",
              "          await google.colab.output.renderOutput(dataTable, element);\n",
              "          const docLink = document.createElement('div');\n",
              "          docLink.innerHTML = docLinkHtml;\n",
              "          element.appendChild(docLink);\n",
              "        }\n",
              "      </script>\n",
              "    </div>\n",
              "  </div>\n",
              "  "
            ]
          },
          "metadata": {},
          "execution_count": 457
        }
      ]
    }
  ]
}