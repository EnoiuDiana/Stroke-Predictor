{
  "nbformat": 4,
  "nbformat_minor": 0,
  "metadata": {
    "colab": {
      "name": "Stroke-Predictor.ipynb",
      "provenance": [],
      "collapsed_sections": [],
      "toc_visible": true,
      "include_colab_link": true
    },
    "kernelspec": {
      "name": "python3",
      "display_name": "Python 3"
    },
    "language_info": {
      "name": "python"
    }
  },
  "cells": [
    {
      "cell_type": "markdown",
      "metadata": {
        "id": "view-in-github",
        "colab_type": "text"
      },
      "source": [
        "<a href=\"https://colab.research.google.com/github/EnoiuDiana/Stroke-Predictor/blob/diana_dev/Stroke_Predictor.ipynb\" target=\"_parent\"><img src=\"https://colab.research.google.com/assets/colab-badge.svg\" alt=\"Open In Colab\"/></a>"
      ]
    },
    {
      "cell_type": "markdown",
      "source": [
        "# Stroke Prediction based on medical and demographical data"
      ],
      "metadata": {
        "id": "sA2mv91AKteu"
      }
    },
    {
      "cell_type": "markdown",
      "source": [
        "## Problem Statement"
      ],
      "metadata": {
        "id": "htp5B9D_PODY"
      }
    },
    {
      "cell_type": "markdown",
      "source": [
        "TODO: nice description of what we want to do, why this is relevant, etc."
      ],
      "metadata": {
        "id": "QlbSqGDdPRPT"
      }
    },
    {
      "cell_type": "markdown",
      "source": [
        "## Dataset"
      ],
      "metadata": {
        "id": "26sZKpSVDJum"
      }
    },
    {
      "cell_type": "markdown",
      "source": [
        "\n",
        "\n",
        "*   [source](https://https://www.kaggle.com/datasets/fedesoriano/stroke-prediction-dataset)\n",
        "*   each entry represents one person\n",
        "*   label, to be predicted: whether a person is likely to have a stroke\n",
        "\n"
      ],
      "metadata": {
        "id": "yYv2OY8CDNUC"
      }
    },
    {
      "cell_type": "markdown",
      "source": [
        "## Setup"
      ],
      "metadata": {
        "id": "P8QXe2JhK556"
      }
    },
    {
      "cell_type": "code",
      "source": [
        "# imports\n",
        "import pandas as pd\n",
        "import matplotlib.pyplot as plt\n",
        "import seaborn as sns"
        "import numpy as np"
      ],
      "metadata": {
        "id": "uk5cxiuPL_Bt"
      },
      "execution_count": 1,
      "outputs": []
    },
    {
      "cell_type": "code",
      "execution_count": 2,
      "metadata": {
        "id": "ih1-apS2ua_U"
      },
      "outputs": [],
      "source": [
        "file_path = \"https://drive.google.com/file/d/1x3Vu2Egi5LIvd0jkHnZKeBx-Ye0l8sTr/view?usp=sharing\"\n",
        "file_path ='https://drive.google.com/uc?id=' + file_path.split('/')[-2]\n",
        "stroke_df = pd.read_csv(file_path)"
      ]
    },
    {
      "cell_type": "code",
      "source": [
        "stroke_df = stroke_df.rename(str.lower, axis='columns')\n",
        "stroke_df.head()"
      ],
      "metadata": {
        "id": "eN5uIzUHMGXG",
        "outputId": "8a952bd1-d731-440f-cbf3-baa297365636",
        "colab": {
          "base_uri": "https://localhost:8080/",
          "height": 250
        }
      },
      "execution_count": 3,
      "outputs": [
        {
          "output_type": "execute_result",
          "data": {
            "text/plain": [
              "      id  gender   age  hypertension  heart_disease ever_married  \\\n",
              "0   9046    Male  67.0             0              1          Yes   \n",
              "1  51676  Female  61.0             0              0          Yes   \n",
              "2  31112    Male  80.0             0              1          Yes   \n",
              "3  60182  Female  49.0             0              0          Yes   \n",
              "4   1665  Female  79.0             1              0          Yes   \n",
              "\n",
              "       work_type residence_type  avg_glucose_level   bmi   smoking_status  \\\n",
              "0        Private          Urban             228.69  36.6  formerly smoked   \n",
              "1  Self-employed          Rural             202.21   NaN     never smoked   \n",
              "2        Private          Rural             105.92  32.5     never smoked   \n",
              "3        Private          Urban             171.23  34.4           smokes   \n",
              "4  Self-employed          Rural             174.12  24.0     never smoked   \n",
              "\n",
              "   stroke  \n",
              "0       1  \n",
              "1       1  \n",
              "2       1  \n",
              "3       1  \n",
              "4       1  "
            ],
            "text/html": [
              "\n",
              "  <div id=\"df-7cc23dd4-36e5-433b-a599-780ab8dad5d6\">\n",
              "    <div class=\"colab-df-container\">\n",
              "      <div>\n",
              "<style scoped>\n",
              "    .dataframe tbody tr th:only-of-type {\n",
              "        vertical-align: middle;\n",
              "    }\n",
              "\n",
              "    .dataframe tbody tr th {\n",
              "        vertical-align: top;\n",
              "    }\n",
              "\n",
              "    .dataframe thead th {\n",
              "        text-align: right;\n",
              "    }\n",
              "</style>\n",
              "<table border=\"1\" class=\"dataframe\">\n",
              "  <thead>\n",
              "    <tr style=\"text-align: right;\">\n",
              "      <th></th>\n",
              "      <th>id</th>\n",
              "      <th>gender</th>\n",
              "      <th>age</th>\n",
              "      <th>hypertension</th>\n",
              "      <th>heart_disease</th>\n",
              "      <th>ever_married</th>\n",
              "      <th>work_type</th>\n",
              "      <th>residence_type</th>\n",
              "      <th>avg_glucose_level</th>\n",
              "      <th>bmi</th>\n",
              "      <th>smoking_status</th>\n",
              "      <th>stroke</th>\n",
              "    </tr>\n",
              "  </thead>\n",
              "  <tbody>\n",
              "    <tr>\n",
              "      <th>0</th>\n",
              "      <td>9046</td>\n",
              "      <td>Male</td>\n",
              "      <td>67.0</td>\n",
              "      <td>0</td>\n",
              "      <td>1</td>\n",
              "      <td>Yes</td>\n",
              "      <td>Private</td>\n",
              "      <td>Urban</td>\n",
              "      <td>228.69</td>\n",
              "      <td>36.6</td>\n",
              "      <td>formerly smoked</td>\n",
              "      <td>1</td>\n",
              "    </tr>\n",
              "    <tr>\n",
              "      <th>1</th>\n",
              "      <td>51676</td>\n",
              "      <td>Female</td>\n",
              "      <td>61.0</td>\n",
              "      <td>0</td>\n",
              "      <td>0</td>\n",
              "      <td>Yes</td>\n",
              "      <td>Self-employed</td>\n",
              "      <td>Rural</td>\n",
              "      <td>202.21</td>\n",
              "      <td>NaN</td>\n",
              "      <td>never smoked</td>\n",
              "      <td>1</td>\n",
              "    </tr>\n",
              "    <tr>\n",
              "      <th>2</th>\n",
              "      <td>31112</td>\n",
              "      <td>Male</td>\n",
              "      <td>80.0</td>\n",
              "      <td>0</td>\n",
              "      <td>1</td>\n",
              "      <td>Yes</td>\n",
              "      <td>Private</td>\n",
              "      <td>Rural</td>\n",
              "      <td>105.92</td>\n",
              "      <td>32.5</td>\n",
              "      <td>never smoked</td>\n",
              "      <td>1</td>\n",
              "    </tr>\n",
              "    <tr>\n",
              "      <th>3</th>\n",
              "      <td>60182</td>\n",
              "      <td>Female</td>\n",
              "      <td>49.0</td>\n",
              "      <td>0</td>\n",
              "      <td>0</td>\n",
              "      <td>Yes</td>\n",
              "      <td>Private</td>\n",
              "      <td>Urban</td>\n",
              "      <td>171.23</td>\n",
              "      <td>34.4</td>\n",
              "      <td>smokes</td>\n",
              "      <td>1</td>\n",
              "    </tr>\n",
              "    <tr>\n",
              "      <th>4</th>\n",
              "      <td>1665</td>\n",
              "      <td>Female</td>\n",
              "      <td>79.0</td>\n",
              "      <td>1</td>\n",
              "      <td>0</td>\n",
              "      <td>Yes</td>\n",
              "      <td>Self-employed</td>\n",
              "      <td>Rural</td>\n",
              "      <td>174.12</td>\n",
              "      <td>24.0</td>\n",
              "      <td>never smoked</td>\n",
              "      <td>1</td>\n",
              "    </tr>\n",
              "  </tbody>\n",
              "</table>\n",
              "</div>\n",
              "      <button class=\"colab-df-convert\" onclick=\"convertToInteractive('df-7cc23dd4-36e5-433b-a599-780ab8dad5d6')\"\n",
              "              title=\"Convert this dataframe to an interactive table.\"\n",
              "              style=\"display:none;\">\n",
              "        \n",
              "  <svg xmlns=\"http://www.w3.org/2000/svg\" height=\"24px\"viewBox=\"0 0 24 24\"\n",
              "       width=\"24px\">\n",
              "    <path d=\"M0 0h24v24H0V0z\" fill=\"none\"/>\n",
              "    <path d=\"M18.56 5.44l.94 2.06.94-2.06 2.06-.94-2.06-.94-.94-2.06-.94 2.06-2.06.94zm-11 1L8.5 8.5l.94-2.06 2.06-.94-2.06-.94L8.5 2.5l-.94 2.06-2.06.94zm10 10l.94 2.06.94-2.06 2.06-.94-2.06-.94-.94-2.06-.94 2.06-2.06.94z\"/><path d=\"M17.41 7.96l-1.37-1.37c-.4-.4-.92-.59-1.43-.59-.52 0-1.04.2-1.43.59L10.3 9.45l-7.72 7.72c-.78.78-.78 2.05 0 2.83L4 21.41c.39.39.9.59 1.41.59.51 0 1.02-.2 1.41-.59l7.78-7.78 2.81-2.81c.8-.78.8-2.07 0-2.86zM5.41 20L4 18.59l7.72-7.72 1.47 1.35L5.41 20z\"/>\n",
              "  </svg>\n",
              "      </button>\n",
              "      \n",
              "  <style>\n",
              "    .colab-df-container {\n",
              "      display:flex;\n",
              "      flex-wrap:wrap;\n",
              "      gap: 12px;\n",
              "    }\n",
              "\n",
              "    .colab-df-convert {\n",
              "      background-color: #E8F0FE;\n",
              "      border: none;\n",
              "      border-radius: 50%;\n",
              "      cursor: pointer;\n",
              "      display: none;\n",
              "      fill: #1967D2;\n",
              "      height: 32px;\n",
              "      padding: 0 0 0 0;\n",
              "      width: 32px;\n",
              "    }\n",
              "\n",
              "    .colab-df-convert:hover {\n",
              "      background-color: #E2EBFA;\n",
              "      box-shadow: 0px 1px 2px rgba(60, 64, 67, 0.3), 0px 1px 3px 1px rgba(60, 64, 67, 0.15);\n",
              "      fill: #174EA6;\n",
              "    }\n",
              "\n",
              "    [theme=dark] .colab-df-convert {\n",
              "      background-color: #3B4455;\n",
              "      fill: #D2E3FC;\n",
              "    }\n",
              "\n",
              "    [theme=dark] .colab-df-convert:hover {\n",
              "      background-color: #434B5C;\n",
              "      box-shadow: 0px 1px 3px 1px rgba(0, 0, 0, 0.15);\n",
              "      filter: drop-shadow(0px 1px 2px rgba(0, 0, 0, 0.3));\n",
              "      fill: #FFFFFF;\n",
              "    }\n",
              "  </style>\n",
              "\n",
              "      <script>\n",
              "        const buttonEl =\n",
              "          document.querySelector('#df-7cc23dd4-36e5-433b-a599-780ab8dad5d6 button.colab-df-convert');\n",
              "        buttonEl.style.display =\n",
              "          google.colab.kernel.accessAllowed ? 'block' : 'none';\n",
              "\n",
              "        async function convertToInteractive(key) {\n",
              "          const element = document.querySelector('#df-7cc23dd4-36e5-433b-a599-780ab8dad5d6');\n",
              "          const dataTable =\n",
              "            await google.colab.kernel.invokeFunction('convertToInteractive',\n",
              "                                                     [key], {});\n",
              "          if (!dataTable) return;\n",
              "\n",
              "          const docLinkHtml = 'Like what you see? Visit the ' +\n",
              "            '<a target=\"_blank\" href=https://colab.research.google.com/notebooks/data_table.ipynb>data table notebook</a>'\n",
              "            + ' to learn more about interactive tables.';\n",
              "          element.innerHTML = '';\n",
              "          dataTable['output_type'] = 'display_data';\n",
              "          await google.colab.output.renderOutput(dataTable, element);\n",
              "          const docLink = document.createElement('div');\n",
              "          docLink.innerHTML = docLinkHtml;\n",
              "          element.appendChild(docLink);\n",
              "        }\n",
              "      </script>\n",
              "    </div>\n",
              "  </div>\n",
              "  "
            ]
          },
          "metadata": {},
          "execution_count": 3
        }
      ]
    },
    {
      "cell_type": "code",
      "source": [
        "def_plot_length = 7\n",
        "def_fig_size = (def_plot_length, def_plot_length)\n",
        "def_title_size = 20"
      ],
      "metadata": {
        "id": "mN95NaRZnHl0"
      },
      "execution_count": 4,
      "outputs": []
    },
    {
      "cell_type": "markdown",
      "source": [
        "## Initial Data Analysis"
      ],
      "metadata": {
        "id": "OH6w6yI1Okga"
      }
    },
    {
      "cell_type": "markdown",
      "source": [
        "Goal: \n",
        "*   get to know our data\n",
        "*   see how data should be cleaned\n",
        "*   find interesting correlations\n",
        "*   formulate a hypothesis\n",
        "\n",
        "TODO: write a nice introduction before submitting the assignment :)"
      ],
      "metadata": {
        "id": "EXeKNPG8Oowa"
      }
    },
    {
      "cell_type": "code",
      "source": [
        "stroke_df.describe()"
      ],
      "metadata": {
        "colab": {
          "base_uri": "https://localhost:8080/",
          "height": 300
        },
        "id": "Ngcmq_G4e5t7",
        "outputId": "4fc37f49-d9bb-4b38-93d6-bc3098c04830"
      },
      "execution_count": 5,
      "outputs": [
        {
          "output_type": "execute_result",
          "data": {
            "text/plain": [
              "                 id          age  hypertension  heart_disease  \\\n",
              "count   5110.000000  5110.000000   5110.000000    5110.000000   \n",
              "mean   36517.829354    43.226614      0.097456       0.054012   \n",
              "std    21161.721625    22.612647      0.296607       0.226063   \n",
              "min       67.000000     0.080000      0.000000       0.000000   \n",
              "25%    17741.250000    25.000000      0.000000       0.000000   \n",
              "50%    36932.000000    45.000000      0.000000       0.000000   \n",
              "75%    54682.000000    61.000000      0.000000       0.000000   \n",
              "max    72940.000000    82.000000      1.000000       1.000000   \n",
              "\n",
              "       avg_glucose_level          bmi       stroke  \n",
              "count        5110.000000  4909.000000  5110.000000  \n",
              "mean          106.147677    28.893237     0.048728  \n",
              "std            45.283560     7.854067     0.215320  \n",
              "min            55.120000    10.300000     0.000000  \n",
              "25%            77.245000    23.500000     0.000000  \n",
              "50%            91.885000    28.100000     0.000000  \n",
              "75%           114.090000    33.100000     0.000000  \n",
              "max           271.740000    97.600000     1.000000  "
            ],
            "text/html": [
              "\n",
              "  <div id=\"df-0260e027-4806-4bba-8a28-6986ca140e18\">\n",
              "    <div class=\"colab-df-container\">\n",
              "      <div>\n",
              "<style scoped>\n",
              "    .dataframe tbody tr th:only-of-type {\n",
              "        vertical-align: middle;\n",
              "    }\n",
              "\n",
              "    .dataframe tbody tr th {\n",
              "        vertical-align: top;\n",
              "    }\n",
              "\n",
              "    .dataframe thead th {\n",
              "        text-align: right;\n",
              "    }\n",
              "</style>\n",
              "<table border=\"1\" class=\"dataframe\">\n",
              "  <thead>\n",
              "    <tr style=\"text-align: right;\">\n",
              "      <th></th>\n",
              "      <th>id</th>\n",
              "      <th>age</th>\n",
              "      <th>hypertension</th>\n",
              "      <th>heart_disease</th>\n",
              "      <th>avg_glucose_level</th>\n",
              "      <th>bmi</th>\n",
              "      <th>stroke</th>\n",
              "    </tr>\n",
              "  </thead>\n",
              "  <tbody>\n",
              "    <tr>\n",
              "      <th>count</th>\n",
              "      <td>5110.000000</td>\n",
              "      <td>5110.000000</td>\n",
              "      <td>5110.000000</td>\n",
              "      <td>5110.000000</td>\n",
              "      <td>5110.000000</td>\n",
              "      <td>4909.000000</td>\n",
              "      <td>5110.000000</td>\n",
              "    </tr>\n",
              "    <tr>\n",
              "      <th>mean</th>\n",
              "      <td>36517.829354</td>\n",
              "      <td>43.226614</td>\n",
              "      <td>0.097456</td>\n",
              "      <td>0.054012</td>\n",
              "      <td>106.147677</td>\n",
              "      <td>28.893237</td>\n",
              "      <td>0.048728</td>\n",
              "    </tr>\n",
              "    <tr>\n",
              "      <th>std</th>\n",
              "      <td>21161.721625</td>\n",
              "      <td>22.612647</td>\n",
              "      <td>0.296607</td>\n",
              "      <td>0.226063</td>\n",
              "      <td>45.283560</td>\n",
              "      <td>7.854067</td>\n",
              "      <td>0.215320</td>\n",
              "    </tr>\n",
              "    <tr>\n",
              "      <th>min</th>\n",
              "      <td>67.000000</td>\n",
              "      <td>0.080000</td>\n",
              "      <td>0.000000</td>\n",
              "      <td>0.000000</td>\n",
              "      <td>55.120000</td>\n",
              "      <td>10.300000</td>\n",
              "      <td>0.000000</td>\n",
              "    </tr>\n",
              "    <tr>\n",
              "      <th>25%</th>\n",
              "      <td>17741.250000</td>\n",
              "      <td>25.000000</td>\n",
              "      <td>0.000000</td>\n",
              "      <td>0.000000</td>\n",
              "      <td>77.245000</td>\n",
              "      <td>23.500000</td>\n",
              "      <td>0.000000</td>\n",
              "    </tr>\n",
              "    <tr>\n",
              "      <th>50%</th>\n",
              "      <td>36932.000000</td>\n",
              "      <td>45.000000</td>\n",
              "      <td>0.000000</td>\n",
              "      <td>0.000000</td>\n",
              "      <td>91.885000</td>\n",
              "      <td>28.100000</td>\n",
              "      <td>0.000000</td>\n",
              "    </tr>\n",
              "    <tr>\n",
              "      <th>75%</th>\n",
              "      <td>54682.000000</td>\n",
              "      <td>61.000000</td>\n",
              "      <td>0.000000</td>\n",
              "      <td>0.000000</td>\n",
              "      <td>114.090000</td>\n",
              "      <td>33.100000</td>\n",
              "      <td>0.000000</td>\n",
              "    </tr>\n",
              "    <tr>\n",
              "      <th>max</th>\n",
              "      <td>72940.000000</td>\n",
              "      <td>82.000000</td>\n",
              "      <td>1.000000</td>\n",
              "      <td>1.000000</td>\n",
              "      <td>271.740000</td>\n",
              "      <td>97.600000</td>\n",
              "      <td>1.000000</td>\n",
              "    </tr>\n",
              "  </tbody>\n",
              "</table>\n",
              "</div>\n",
              "      <button class=\"colab-df-convert\" onclick=\"convertToInteractive('df-0260e027-4806-4bba-8a28-6986ca140e18')\"\n",
              "              title=\"Convert this dataframe to an interactive table.\"\n",
              "              style=\"display:none;\">\n",
              "        \n",
              "  <svg xmlns=\"http://www.w3.org/2000/svg\" height=\"24px\"viewBox=\"0 0 24 24\"\n",
              "       width=\"24px\">\n",
              "    <path d=\"M0 0h24v24H0V0z\" fill=\"none\"/>\n",
              "    <path d=\"M18.56 5.44l.94 2.06.94-2.06 2.06-.94-2.06-.94-.94-2.06-.94 2.06-2.06.94zm-11 1L8.5 8.5l.94-2.06 2.06-.94-2.06-.94L8.5 2.5l-.94 2.06-2.06.94zm10 10l.94 2.06.94-2.06 2.06-.94-2.06-.94-.94-2.06-.94 2.06-2.06.94z\"/><path d=\"M17.41 7.96l-1.37-1.37c-.4-.4-.92-.59-1.43-.59-.52 0-1.04.2-1.43.59L10.3 9.45l-7.72 7.72c-.78.78-.78 2.05 0 2.83L4 21.41c.39.39.9.59 1.41.59.51 0 1.02-.2 1.41-.59l7.78-7.78 2.81-2.81c.8-.78.8-2.07 0-2.86zM5.41 20L4 18.59l7.72-7.72 1.47 1.35L5.41 20z\"/>\n",
              "  </svg>\n",
              "      </button>\n",
              "      \n",
              "  <style>\n",
              "    .colab-df-container {\n",
              "      display:flex;\n",
              "      flex-wrap:wrap;\n",
              "      gap: 12px;\n",
              "    }\n",
              "\n",
              "    .colab-df-convert {\n",
              "      background-color: #E8F0FE;\n",
              "      border: none;\n",
              "      border-radius: 50%;\n",
              "      cursor: pointer;\n",
              "      display: none;\n",
              "      fill: #1967D2;\n",
              "      height: 32px;\n",
              "      padding: 0 0 0 0;\n",
              "      width: 32px;\n",
              "    }\n",
              "\n",
              "    .colab-df-convert:hover {\n",
              "      background-color: #E2EBFA;\n",
              "      box-shadow: 0px 1px 2px rgba(60, 64, 67, 0.3), 0px 1px 3px 1px rgba(60, 64, 67, 0.15);\n",
              "      fill: #174EA6;\n",
              "    }\n",
              "\n",
              "    [theme=dark] .colab-df-convert {\n",
              "      background-color: #3B4455;\n",
              "      fill: #D2E3FC;\n",
              "    }\n",
              "\n",
              "    [theme=dark] .colab-df-convert:hover {\n",
              "      background-color: #434B5C;\n",
              "      box-shadow: 0px 1px 3px 1px rgba(0, 0, 0, 0.15);\n",
              "      filter: drop-shadow(0px 1px 2px rgba(0, 0, 0, 0.3));\n",
              "      fill: #FFFFFF;\n",
              "    }\n",
              "  </style>\n",
              "\n",
              "      <script>\n",
              "        const buttonEl =\n",
              "          document.querySelector('#df-0260e027-4806-4bba-8a28-6986ca140e18 button.colab-df-convert');\n",
              "        buttonEl.style.display =\n",
              "          google.colab.kernel.accessAllowed ? 'block' : 'none';\n",
              "\n",
              "        async function convertToInteractive(key) {\n",
              "          const element = document.querySelector('#df-0260e027-4806-4bba-8a28-6986ca140e18');\n",
              "          const dataTable =\n",
              "            await google.colab.kernel.invokeFunction('convertToInteractive',\n",
              "                                                     [key], {});\n",
              "          if (!dataTable) return;\n",
              "\n",
              "          const docLinkHtml = 'Like what you see? Visit the ' +\n",
              "            '<a target=\"_blank\" href=https://colab.research.google.com/notebooks/data_table.ipynb>data table notebook</a>'\n",
              "            + ' to learn more about interactive tables.';\n",
              "          element.innerHTML = '';\n",
              "          dataTable['output_type'] = 'display_data';\n",
              "          await google.colab.output.renderOutput(dataTable, element);\n",
              "          const docLink = document.createElement('div');\n",
              "          docLink.innerHTML = docLinkHtml;\n",
              "          element.appendChild(docLink);\n",
              "        }\n",
              "      </script>\n",
              "    </div>\n",
              "  </div>\n",
              "  "
            ]
          },
          "metadata": {},
          "execution_count": 5
        }
      ]
    },
    {
      "cell_type": "markdown",
      "source": [
        "### Analysing the individual features"
      ],
      "metadata": {
        "id": "EnIp4qwqPrgC"
      }
    },
    {
      "cell_type": "markdown",
      "source": [
        "#### Helper functions"
      ],
      "metadata": {
        "id": "0wl_TEaYObTZ"
      }
    },
    {
      "cell_type": "code",
      "source": [
        "def plot_continuous_variable_distribution(df, var_series, var_name, title):\n",
        "  sns.displot(data=df, x=var_name, kde=True, height=def_plot_length)\n",
        "  # median\n",
        "  disp = 0.4\n",
        "  plt.axvline(x=var_series.median(),\n",
        "              color='red')\n",
        "  plt.text(var_series.median() + disp, 0, \"50%\", rotation = 90)\n",
        "  # 25%\n",
        "  plt.axvline(x=var_series.quantile(0.25),\n",
        "              color='red')\n",
        "  plt.text(var_series.quantile(0.25) + disp, 0, \"25%\", rotation = 90)\n",
        "  # 75%\n",
        "  plt.axvline(x=var_series.quantile(0.75),\n",
        "              color='red')\n",
        "  plt.text(var_series.quantile(0.75) + disp, 0, \"75%\", rotation = 90)\n",
        "  # mean\n",
        "  plt.axvline(x=var_series.mean(),\n",
        "              color='green')\n",
        "  plt.text(var_series.mean() + disp, 0, \"Mean\", rotation = 90)\n",
        "\n",
        "  plt.title(title, size=def_title_size)"
      ],
      "metadata": {
        "id": "MN6MaEJ9Kizy"
      },
      "execution_count": 6,
      "outputs": []
    },
    {
      "cell_type": "code",
      "source": [
      "def plot_categorical_variable_stroke_ratio(df, var_name, title, nr_decimals=2):\n",
        "  stroke_cnt = stroke_df.groupby([var_name, 'stroke']).count()\n",
        "  stroke_cnt = stroke_cnt.loc[:, :, ] .reset_index().pivot(index=var_name, columns='stroke', values='id')\n",
        "  stroke_cnt['stroke_ratio'] = stroke_cnt[1] / (stroke_cnt[0] + stroke_cnt[1])\n",
        "\n",
        "  fig, ax = plt.subplots(figsize=(6, 6))\n",
        "  pal = sns.color_palette(\"rocket\", len(stroke_cnt))\n",
        "  rank = stroke_cnt['stroke_ratio'].argsort().argsort()   # http://stackoverflow.com/a/6266510/1628638\n",
        "  plots = sns.barplot(x = stroke_cnt.index, y = stroke_cnt['stroke_ratio'], ax = ax, palette = np.array(pal[::-1])[rank])\n",
        "\n",
        "  # Iterrating over the bars one-by-one to add annotations\n",
        "  for bar in plots.patches:\n",
        "      plots.annotate(format(bar.get_height(), '.{0}f'.format(nr_decimals)),\n",
        "                    (bar.get_x() + bar.get_width() / 2,\n",
        "                      bar.get_height()), ha='center', va='center',\n",
        "                    size=15, xytext=(0, 8),\n",
        "                    textcoords='offset points')\n",
        "\n",
        "  plt.title(title, size = def_title_size)"
      ],
      "metadata": {
        "id": "E37shQR_MkP2"
      },
      "execution_count": 8,
      "outputs": []
    },
    {
      "cell_type": "code",
      "source": [
      "def plot_continuous_variable_stroke_ratio(df, var_name, no_quantiles, title, xticks_rotation=0):\n",
        "  stroke_df_group = stroke_df.copy()\n",
        "  stroke_df_group[var_name+\"_group\"] = pd.qcut(stroke_df_group[var_name], q=no_quantiles)\n",
        "  stroke_ratio_per_var_group = stroke_df_group.groupby([var_name+\"_group\"]).apply(lambda age_group: age_group[\"stroke\"].sum() / age_group[\"stroke\"].count())\n",
        "  fig, ax = plt.subplots(figsize=def_fig_size)\n",
        "  pal = sns.color_palette(\"rocket\", len(stroke_ratio_per_var_group))\n",
        "  rank = stroke_ratio_per_var_group.argsort().argsort()   # http://stackoverflow.com/a/6266510/1628638\n",
        "  plots = sns.barplot(x = stroke_ratio_per_var_group.index, y = stroke_ratio_per_var_group.values, ax = ax, palette = np.array(pal[::-1])[rank])\n",
        "\n",
        "  # Iterrating over the bars one-by-one to add annotations\n",
        "  for bar in plots.patches:\n",
        "      plots.annotate(format(bar.get_height(), '.2f'),\n",
        "                    (bar.get_x() + bar.get_width() / 2,\n",
        "                      bar.get_height()), ha='center', va='center',\n",
        "                    size=8, xytext=(0, 8),\n",
        "                    textcoords='offset points')\n",
        "      \n",
        "  plt.xticks(rotation=xticks_rotation)\n",
        "  plt.title(title, size = def_title_size)\n"
      ],
      "metadata": {
        "id": "v7kCk0gyLbJz"
      },
      "execution_count": 7,
      "outputs": []
    },
    {
      "cell_type": "markdown",
      "source": [
        "First of all, we should analyze the gender types that we have in our dataset."
      ],
      "metadata": {
        "id": "3yIIou4-e0Er"
      }
    },
    {
      "cell_type": "code",
      "source": [
        "gender_value_counts = stroke_df.gender.value_counts()\n",
        "gender_value_counts"
      ],
      "metadata": {
        "colab": {
          "base_uri": "https://localhost:8080/"
        },
        "id": "A56pWs0wePac",
        "outputId": "821ab53c-dfe3-4eb4-c77e-a92a0361627b"
      },
      "execution_count": null,
      "outputs": [
        {
          "output_type": "execute_result",
          "data": {
            "text/plain": [
              "Female    2994\n",
              "Male      2115\n",
              "Other        1\n",
              "Name: gender, dtype: int64"
            ]
          },
          "metadata": {},
          "execution_count": 21
        }
      ]
    },
    {
      "cell_type": "markdown",
      "source": [
        "We only have one value for other gender type, it might not help us with our prediction."
      ],
      "metadata": {
        "id": "yS6KCvwxjnY5"
      }
    },
    {
      "cell_type": "code",
      "source": [
        "stroke_df.loc[stroke_df['gender']=='Other']"
      ],
      "metadata": {
        "colab": {
          "base_uri": "https://localhost:8080/",
          "height": 125
        },
        "id": "OT4SSaBrkc_h",
        "outputId": "f06c6591-8b50-46ab-9781-19c4a125d47d"
      },
      "execution_count": null,
      "outputs": [
        {
          "output_type": "execute_result",
          "data": {
            "text/plain": [
              "         id gender   age  hypertension  heart_disease ever_married work_type  \\\n",
              "3116  56156  Other  26.0             0              0           No   Private   \n",
              "\n",
              "     Residence_type  avg_glucose_level   bmi   smoking_status  stroke  \n",
              "3116          Rural             143.33  22.4  formerly smoked       0  "
            ],
            "text/html": [
              "\n",
              "  <div id=\"df-ab13316d-52f2-48d1-a0dc-4b933a0b06d4\">\n",
              "    <div class=\"colab-df-container\">\n",
              "      <div>\n",
              "<style scoped>\n",
              "    .dataframe tbody tr th:only-of-type {\n",
              "        vertical-align: middle;\n",
              "    }\n",
              "\n",
              "    .dataframe tbody tr th {\n",
              "        vertical-align: top;\n",
              "    }\n",
              "\n",
              "    .dataframe thead th {\n",
              "        text-align: right;\n",
              "    }\n",
              "</style>\n",
              "<table border=\"1\" class=\"dataframe\">\n",
              "  <thead>\n",
              "    <tr style=\"text-align: right;\">\n",
              "      <th></th>\n",
              "      <th>id</th>\n",
              "      <th>gender</th>\n",
              "      <th>age</th>\n",
              "      <th>hypertension</th>\n",
              "      <th>heart_disease</th>\n",
              "      <th>ever_married</th>\n",
              "      <th>work_type</th>\n",
              "      <th>Residence_type</th>\n",
              "      <th>avg_glucose_level</th>\n",
              "      <th>bmi</th>\n",
              "      <th>smoking_status</th>\n",
              "      <th>stroke</th>\n",
              "    </tr>\n",
              "  </thead>\n",
              "  <tbody>\n",
              "    <tr>\n",
              "      <th>3116</th>\n",
              "      <td>56156</td>\n",
              "      <td>Other</td>\n",
              "      <td>26.0</td>\n",
              "      <td>0</td>\n",
              "      <td>0</td>\n",
              "      <td>No</td>\n",
              "      <td>Private</td>\n",
              "      <td>Rural</td>\n",
              "      <td>143.33</td>\n",
              "      <td>22.4</td>\n",
              "      <td>formerly smoked</td>\n",
              "      <td>0</td>\n",
              "    </tr>\n",
              "  </tbody>\n",
              "</table>\n",
              "</div>\n",
              "      <button class=\"colab-df-convert\" onclick=\"convertToInteractive('df-ab13316d-52f2-48d1-a0dc-4b933a0b06d4')\"\n",
              "              title=\"Convert this dataframe to an interactive table.\"\n",
              "              style=\"display:none;\">\n",
              "        \n",
              "  <svg xmlns=\"http://www.w3.org/2000/svg\" height=\"24px\"viewBox=\"0 0 24 24\"\n",
              "       width=\"24px\">\n",
              "    <path d=\"M0 0h24v24H0V0z\" fill=\"none\"/>\n",
              "    <path d=\"M18.56 5.44l.94 2.06.94-2.06 2.06-.94-2.06-.94-.94-2.06-.94 2.06-2.06.94zm-11 1L8.5 8.5l.94-2.06 2.06-.94-2.06-.94L8.5 2.5l-.94 2.06-2.06.94zm10 10l.94 2.06.94-2.06 2.06-.94-2.06-.94-.94-2.06-.94 2.06-2.06.94z\"/><path d=\"M17.41 7.96l-1.37-1.37c-.4-.4-.92-.59-1.43-.59-.52 0-1.04.2-1.43.59L10.3 9.45l-7.72 7.72c-.78.78-.78 2.05 0 2.83L4 21.41c.39.39.9.59 1.41.59.51 0 1.02-.2 1.41-.59l7.78-7.78 2.81-2.81c.8-.78.8-2.07 0-2.86zM5.41 20L4 18.59l7.72-7.72 1.47 1.35L5.41 20z\"/>\n",
              "  </svg>\n",
              "      </button>\n",
              "      \n",
              "  <style>\n",
              "    .colab-df-container {\n",
              "      display:flex;\n",
              "      flex-wrap:wrap;\n",
              "      gap: 12px;\n",
              "    }\n",
              "\n",
              "    .colab-df-convert {\n",
              "      background-color: #E8F0FE;\n",
              "      border: none;\n",
              "      border-radius: 50%;\n",
              "      cursor: pointer;\n",
              "      display: none;\n",
              "      fill: #1967D2;\n",
              "      height: 32px;\n",
              "      padding: 0 0 0 0;\n",
              "      width: 32px;\n",
              "    }\n",
              "\n",
              "    .colab-df-convert:hover {\n",
              "      background-color: #E2EBFA;\n",
              "      box-shadow: 0px 1px 2px rgba(60, 64, 67, 0.3), 0px 1px 3px 1px rgba(60, 64, 67, 0.15);\n",
              "      fill: #174EA6;\n",
              "    }\n",
              "\n",
              "    [theme=dark] .colab-df-convert {\n",
              "      background-color: #3B4455;\n",
              "      fill: #D2E3FC;\n",
              "    }\n",
              "\n",
              "    [theme=dark] .colab-df-convert:hover {\n",
              "      background-color: #434B5C;\n",
              "      box-shadow: 0px 1px 3px 1px rgba(0, 0, 0, 0.15);\n",
              "      filter: drop-shadow(0px 1px 2px rgba(0, 0, 0, 0.3));\n",
              "      fill: #FFFFFF;\n",
              "    }\n",
              "  </style>\n",
              "\n",
              "      <script>\n",
              "        const buttonEl =\n",
              "          document.querySelector('#df-ab13316d-52f2-48d1-a0dc-4b933a0b06d4 button.colab-df-convert');\n",
              "        buttonEl.style.display =\n",
              "          google.colab.kernel.accessAllowed ? 'block' : 'none';\n",
              "\n",
              "        async function convertToInteractive(key) {\n",
              "          const element = document.querySelector('#df-ab13316d-52f2-48d1-a0dc-4b933a0b06d4');\n",
              "          const dataTable =\n",
              "            await google.colab.kernel.invokeFunction('convertToInteractive',\n",
              "                                                     [key], {});\n",
              "          if (!dataTable) return;\n",
              "\n",
              "          const docLinkHtml = 'Like what you see? Visit the ' +\n",
              "            '<a target=\"_blank\" href=https://colab.research.google.com/notebooks/data_table.ipynb>data table notebook</a>'\n",
              "            + ' to learn more about interactive tables.';\n",
              "          element.innerHTML = '';\n",
              "          dataTable['output_type'] = 'display_data';\n",
              "          await google.colab.output.renderOutput(dataTable, element);\n",
              "          const docLink = document.createElement('div');\n",
              "          docLink.innerHTML = docLinkHtml;\n",
              "          element.appendChild(docLink);\n",
              "        }\n",
              "      </script>\n",
              "    </div>\n",
              "  </div>\n",
              "  "
            ]
          },
          "metadata": {},
          "execution_count": 22
        }
      ]
    },
    {
      "cell_type": "markdown",
      "source": [
        "Having a pie chart will help us visualize better the ratio between females and males. We can observe that this ratio is not very balanced, having 59% females and only 41% male."
      ],
      "metadata": {
        "id": "1CdtZY30k3jh"
      }
    },
    {
      "cell_type": "code",
      "source": [
        "explode = [0.02,0.02,0.3]\n",
        "plt.pie(gender_value_counts.array, labels=gender_value_counts.index, autopct = '%0.0f%%', explode = explode)\n",
        "plt.show()"
      ],
      "metadata": {
        "colab": {
          "base_uri": "https://localhost:8080/",
          "height": 248
        },
        "id": "eetXhG0FieLr",
        "outputId": "e0d181be-db84-4289-832c-3d0f431625cc"
      },
      "execution_count": null,
      "outputs": [
        {
          "output_type": "display_data",
          "data": {
            "text/plain": [
              "<Figure size 432x288 with 1 Axes>"
            ],
            "image/png": "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\n"
          },
          "metadata": {}
        }
      ]
    },
    {
      "cell_type": "markdown",
      "source": [
        "#### Age"
      ],
      "metadata": {
        "id": "0wl_TEaYObTZ"
      }
    },
    {
      "cell_type": "markdown",
      "source": [
        "#### Hypertension"
      ],
      "metadata": {
        "id": "QtE-ZuCoPzmd"
      }
    },
    {
      "cell_type": "markdown",
      "source": [
        "From all the persons in our dataset, we can see that only 10% have had hypertension. Globally, **an estimated 26% of the world’s population** (972 million people) has hypertension.\n",
        "\n",
        "https://www.medscape.com/answers/241381-7614/what-is-the-global-prevalence-of-hypertension-high-blood-pressure"
      ],
      "metadata": {
        "id": "rr2TsB1ymrhm"
      }
    },
    {
      "cell_type": "code",
      "source": [
        "hypertension_value_counts = stroke_df.hypertension.value_counts()\n",
        "hypertension_value_counts"
      ],
      "metadata": {
        "colab": {
          "base_uri": "https://localhost:8080/"
        },
        "id": "pUMHX_7flpU4",
        "outputId": "828c99c3-e57e-4df1-8908-e3bd833587ca"
      },
      "execution_count": null,
      "outputs": [
        {
          "output_type": "execute_result",
          "data": {
            "text/plain": [
              "0    4612\n",
              "1     498\n",
              "Name: hypertension, dtype: int64"
            ]
          },
          "metadata": {},
          "execution_count": 27
        }
      ]
    },
    {
      "cell_type": "code",
      "source": [
        "explode = [0.02,0.3]\n",
        "plt.pie(hypertension_value_counts.array, labels=hypertension_value_counts.index, autopct = '%0.0f%%', explode = explode)\n",
        "plt.show()"
      ],
      "metadata": {
        "colab": {
          "base_uri": "https://localhost:8080/",
          "height": 248
        },
        "id": "d5_Tgzb7l87T",
        "outputId": "7472e64e-8a81-41c6-ab93-5a74dac96b0b"
      },
      "execution_count": null,
      "outputs": [
        {
          "output_type": "display_data",
          "data": {
            "text/plain": [
              "<Figure size 432x288 with 1 Axes>"
            ],
            "image/png": "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\n"
          },
          "metadata": {}
        }
      ]
    },
    {
      "cell_type": "markdown",
      "source": [
        "#### Heart Disease"
      ],
      "metadata": {
        "id": "kMqXj2HEP2o7"
      }
    },
    {
      "cell_type": "markdown",
      "source": [
        "#### Marital Status"
      ],
      "metadata": {
        "id": "_JvIJ-npP45W"
      }
    },
    {
      "cell_type": "markdown",
      "source": [
        "The values for marital status are 'Yes' or 'No' values. We prefer to have 0 or 1 values instead."
      ],
      "metadata": {
        "id": "i0-FboPwnpq2"
      }
    },
    {
      "cell_type": "code",
      "source": [
        "ever_married_value_counts = stroke_df.ever_married.value_counts()\n",
        "ever_married_value_counts"
      ],
      "metadata": {
        "colab": {
          "base_uri": "https://localhost:8080/"
        },
        "id": "PW3-gO4YnJOH",
        "outputId": "d1940cff-66bc-4f74-ced4-9c30f6b68b3d"
      },
      "execution_count": null,
      "outputs": [
        {
          "output_type": "execute_result",
          "data": {
            "text/plain": [
              "Yes    3353\n",
              "No     1757\n",
              "Name: ever_married, dtype: int64"
            ]
          },
          "metadata": {},
          "execution_count": 29
        }
      ]
    },
    {
      "cell_type": "code",
      "source": [
        "explode = [0.02,0.02]\n",
        "plt.pie(ever_married_value_counts.array, labels=ever_married_value_counts.index, autopct = '%0.0f%%', explode = explode)\n",
        "plt.show()"
      ],
      "metadata": {
        "colab": {
          "base_uri": "https://localhost:8080/",
          "height": 248
        },
        "id": "xXj23wtqnUiF",
        "outputId": "21c8d826-8a4e-4eaf-9df6-6c3cb2c3d3eb"
      },
      "execution_count": null,
      "outputs": [
        {
          "output_type": "display_data",
          "data": {
            "text/plain": [
              "<Figure size 432x288 with 1 Axes>"
            ],
            "image/png": "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\n"
          },
          "metadata": {}
        }
      ]
    },
    {
      "cell_type": "markdown",
      "source": [
        "#### Work Type"
      ],
      "metadata": {
        "id": "ZdCrTHIlQAHN"
      }
    },
    {
      "cell_type": "markdown",
      "source": [
        "We have identified several work types i.e. private, self-employed, government job, children and never worked."
      ],
      "metadata": {
        "id": "WldpOgomqaIO"
      }
    },
    {
      "cell_type": "code",
      "source": [
        "work_type_value_counts = stroke_df.work_type.value_counts()\n",
        "work_type_value_counts"
      ],
      "metadata": {
        "colab": {
          "base_uri": "https://localhost:8080/"
        },
        "id": "A8avueQdn5-P",
        "outputId": "fd17a5dc-5c19-4656-9e8c-71498391c6f1"
      },
      "execution_count": null,
      "outputs": [
        {
          "output_type": "execute_result",
          "data": {
            "text/plain": [
              "Private          2925\n",
              "Self-employed     819\n",
              "children          687\n",
              "Govt_job          657\n",
              "Never_worked       22\n",
              "Name: work_type, dtype: int64"
            ]
          },
          "metadata": {},
          "execution_count": 33
        }
      ]
    },
    {
      "cell_type": "code",
      "source": [
        "plt.figure(figsize=(10,6))\n",
        "plt.title(\"Work types value counts\")\n",
        "sns.barplot(x=work_type_value_counts.index, y=work_type_value_counts.array)\n",
        "plt.show()"
      ],
      "metadata": {
        "colab": {
          "base_uri": "https://localhost:8080/",
          "height": 391
        },
        "id": "SKN_agTvor7s",
        "outputId": "17b57968-eef0-466d-ed0a-61e6f23d0d43"
      },
      "execution_count": null,
      "outputs": [
        {
          "output_type": "display_data",
          "data": {
            "text/plain": [
              "<Figure size 720x432 with 1 Axes>"
            ],
            "image/png": "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\n"
          },
          "metadata": {
            "needs_background": "light"
          }
        }
      ]
    },
    {
      "cell_type": "code",
      "source": [
        "The values children and never worked might be corellated since most children don't work. Let's see how many never worked values are for people with an age greater than 18."
      ],
      "metadata": {
        "id": "X665HJjzqzhG"
      }
    },
    {
      "cell_type": "code",
      "source": [
        "stroke_df.loc[(stroke_df['work_type'] == 'Never_worked') & (stroke_df['age'] >= 18)]"
      ],
      "metadata": {
        "colab": {
          "base_uri": "https://localhost:8080/",
          "height": 270
        },
        "id": "Xzdo3VEppTti",
        "outputId": "570da500-5dc7-43e4-d71a-82dcb1366e50"
      },
      "execution_count": null,
      "outputs": [
        {
          "output_type": "execute_result",
          "data": {
            "text/plain": [
              "         id  gender   age  hypertension  heart_disease ever_married  \\\n",
              "603   61408    Male  23.0             0              0           No   \n",
              "886   13948  Female  19.0             0              0           No   \n",
              "2917  11702  Female  18.0             0              0           No   \n",
              "4160  71966  Female  18.0             0              0           No   \n",
              "4772  13960  Female  18.0             0              0           No   \n",
              "\n",
              "         work_type Residence_type  avg_glucose_level   bmi smoking_status  \\\n",
              "603   Never_worked          Urban             125.26  18.7   never smoked   \n",
              "886   Never_worked          Urban              86.96  25.8   never smoked   \n",
              "2917  Never_worked          Urban              82.36  22.7        Unknown   \n",
              "4160  Never_worked          Urban              81.73  21.6   never smoked   \n",
              "4772  Never_worked          Urban              97.65  21.5        Unknown   \n",
              "\n",
              "      stroke  \n",
              "603        0  \n",
              "886        0  \n",
              "2917       0  \n",
              "4160       0  \n",
              "4772       0  "
            ],
            "text/html": [
              "\n",
              "  <div id=\"df-317e5734-0fdf-4dd5-9f8a-23436083466c\">\n",
              "    <div class=\"colab-df-container\">\n",
              "      <div>\n",
              "<style scoped>\n",
              "    .dataframe tbody tr th:only-of-type {\n",
              "        vertical-align: middle;\n",
              "    }\n",
              "\n",
              "    .dataframe tbody tr th {\n",
              "        vertical-align: top;\n",
              "    }\n",
              "\n",
              "    .dataframe thead th {\n",
              "        text-align: right;\n",
              "    }\n",
              "</style>\n",
              "<table border=\"1\" class=\"dataframe\">\n",
              "  <thead>\n",
              "    <tr style=\"text-align: right;\">\n",
              "      <th></th>\n",
              "      <th>id</th>\n",
              "      <th>gender</th>\n",
              "      <th>age</th>\n",
              "      <th>hypertension</th>\n",
              "      <th>heart_disease</th>\n",
              "      <th>ever_married</th>\n",
              "      <th>work_type</th>\n",
              "      <th>Residence_type</th>\n",
              "      <th>avg_glucose_level</th>\n",
              "      <th>bmi</th>\n",
              "      <th>smoking_status</th>\n",
              "      <th>stroke</th>\n",
              "    </tr>\n",
              "  </thead>\n",
              "  <tbody>\n",
              "    <tr>\n",
              "      <th>603</th>\n",
              "      <td>61408</td>\n",
              "      <td>Male</td>\n",
              "      <td>23.0</td>\n",
              "      <td>0</td>\n",
              "      <td>0</td>\n",
              "      <td>No</td>\n",
              "      <td>Never_worked</td>\n",
              "      <td>Urban</td>\n",
              "      <td>125.26</td>\n",
              "      <td>18.7</td>\n",
              "      <td>never smoked</td>\n",
              "      <td>0</td>\n",
              "    </tr>\n",
              "    <tr>\n",
              "      <th>886</th>\n",
              "      <td>13948</td>\n",
              "      <td>Female</td>\n",
              "      <td>19.0</td>\n",
              "      <td>0</td>\n",
              "      <td>0</td>\n",
              "      <td>No</td>\n",
              "      <td>Never_worked</td>\n",
              "      <td>Urban</td>\n",
              "      <td>86.96</td>\n",
              "      <td>25.8</td>\n",
              "      <td>never smoked</td>\n",
              "      <td>0</td>\n",
              "    </tr>\n",
              "    <tr>\n",
              "      <th>2917</th>\n",
              "      <td>11702</td>\n",
              "      <td>Female</td>\n",
              "      <td>18.0</td>\n",
              "      <td>0</td>\n",
              "      <td>0</td>\n",
              "      <td>No</td>\n",
              "      <td>Never_worked</td>\n",
              "      <td>Urban</td>\n",
              "      <td>82.36</td>\n",
              "      <td>22.7</td>\n",
              "      <td>Unknown</td>\n",
              "      <td>0</td>\n",
              "    </tr>\n",
              "    <tr>\n",
              "      <th>4160</th>\n",
              "      <td>71966</td>\n",
              "      <td>Female</td>\n",
              "      <td>18.0</td>\n",
              "      <td>0</td>\n",
              "      <td>0</td>\n",
              "      <td>No</td>\n",
              "      <td>Never_worked</td>\n",
              "      <td>Urban</td>\n",
              "      <td>81.73</td>\n",
              "      <td>21.6</td>\n",
              "      <td>never smoked</td>\n",
              "      <td>0</td>\n",
              "    </tr>\n",
              "    <tr>\n",
              "      <th>4772</th>\n",
              "      <td>13960</td>\n",
              "      <td>Female</td>\n",
              "      <td>18.0</td>\n",
              "      <td>0</td>\n",
              "      <td>0</td>\n",
              "      <td>No</td>\n",
              "      <td>Never_worked</td>\n",
              "      <td>Urban</td>\n",
              "      <td>97.65</td>\n",
              "      <td>21.5</td>\n",
              "      <td>Unknown</td>\n",
              "      <td>0</td>\n",
              "    </tr>\n",
              "  </tbody>\n",
              "</table>\n",
              "</div>\n",
              "      <button class=\"colab-df-convert\" onclick=\"convertToInteractive('df-317e5734-0fdf-4dd5-9f8a-23436083466c')\"\n",
              "              title=\"Convert this dataframe to an interactive table.\"\n",
              "              style=\"display:none;\">\n",
              "        \n",
              "  <svg xmlns=\"http://www.w3.org/2000/svg\" height=\"24px\"viewBox=\"0 0 24 24\"\n",
              "       width=\"24px\">\n",
              "    <path d=\"M0 0h24v24H0V0z\" fill=\"none\"/>\n",
              "    <path d=\"M18.56 5.44l.94 2.06.94-2.06 2.06-.94-2.06-.94-.94-2.06-.94 2.06-2.06.94zm-11 1L8.5 8.5l.94-2.06 2.06-.94-2.06-.94L8.5 2.5l-.94 2.06-2.06.94zm10 10l.94 2.06.94-2.06 2.06-.94-2.06-.94-.94-2.06-.94 2.06-2.06.94z\"/><path d=\"M17.41 7.96l-1.37-1.37c-.4-.4-.92-.59-1.43-.59-.52 0-1.04.2-1.43.59L10.3 9.45l-7.72 7.72c-.78.78-.78 2.05 0 2.83L4 21.41c.39.39.9.59 1.41.59.51 0 1.02-.2 1.41-.59l7.78-7.78 2.81-2.81c.8-.78.8-2.07 0-2.86zM5.41 20L4 18.59l7.72-7.72 1.47 1.35L5.41 20z\"/>\n",
              "  </svg>\n",
              "      </button>\n",
              "      \n",
              "  <style>\n",
              "    .colab-df-container {\n",
              "      display:flex;\n",
              "      flex-wrap:wrap;\n",
              "      gap: 12px;\n",
              "    }\n",
              "\n",
              "    .colab-df-convert {\n",
              "      background-color: #E8F0FE;\n",
              "      border: none;\n",
              "      border-radius: 50%;\n",
              "      cursor: pointer;\n",
              "      display: none;\n",
              "      fill: #1967D2;\n",
              "      height: 32px;\n",
              "      padding: 0 0 0 0;\n",
              "      width: 32px;\n",
              "    }\n",
              "\n",
              "    .colab-df-convert:hover {\n",
              "      background-color: #E2EBFA;\n",
              "      box-shadow: 0px 1px 2px rgba(60, 64, 67, 0.3), 0px 1px 3px 1px rgba(60, 64, 67, 0.15);\n",
              "      fill: #174EA6;\n",
              "    }\n",
              "\n",
              "    [theme=dark] .colab-df-convert {\n",
              "      background-color: #3B4455;\n",
              "      fill: #D2E3FC;\n",
              "    }\n",
              "\n",
              "    [theme=dark] .colab-df-convert:hover {\n",
              "      background-color: #434B5C;\n",
              "      box-shadow: 0px 1px 3px 1px rgba(0, 0, 0, 0.15);\n",
              "      filter: drop-shadow(0px 1px 2px rgba(0, 0, 0, 0.3));\n",
              "      fill: #FFFFFF;\n",
              "    }\n",
              "  </style>\n",
              "\n",
              "      <script>\n",
              "        const buttonEl =\n",
              "          document.querySelector('#df-317e5734-0fdf-4dd5-9f8a-23436083466c button.colab-df-convert');\n",
              "        buttonEl.style.display =\n",
              "          google.colab.kernel.accessAllowed ? 'block' : 'none';\n",
              "\n",
              "        async function convertToInteractive(key) {\n",
              "          const element = document.querySelector('#df-317e5734-0fdf-4dd5-9f8a-23436083466c');\n",
              "          const dataTable =\n",
              "            await google.colab.kernel.invokeFunction('convertToInteractive',\n",
              "                                                     [key], {});\n",
              "          if (!dataTable) return;\n",
              "\n",
              "          const docLinkHtml = 'Like what you see? Visit the ' +\n",
              "            '<a target=\"_blank\" href=https://colab.research.google.com/notebooks/data_table.ipynb>data table notebook</a>'\n",
              "            + ' to learn more about interactive tables.';\n",
              "          element.innerHTML = '';\n",
              "          dataTable['output_type'] = 'display_data';\n",
              "          await google.colab.output.renderOutput(dataTable, element);\n",
              "          const docLink = document.createElement('div');\n",
              "          docLink.innerHTML = docLinkHtml;\n",
              "          element.appendChild(docLink);\n",
              "        }\n",
              "      </script>\n",
              "    </div>\n",
              "  </div>\n",
              "  "
            ]
          },
          "metadata": {},
          "execution_count": 45
        }
      ]
    },
    {
      "cell_type": "markdown",
      "source": [
        "There are only five values for never worked people that aren't children. They also didn't have a stroke. We might consider deleting them in the data cleaning process."
      ],
      "metadata": {
    },
    {
      "cell_type": "code",
      "source": [
        "stroke_df.groupby('gender').size()\n",
        "# We only have one other gender type"
      ],
      "metadata": {
        "id": "8pxRw2YBamt2",
        "outputId": "aa275a48-c213-4b90-a5bb-82f845813e0e",
        "colab": {
          "base_uri": "https://localhost:8080/"
        }
      },
      "execution_count": 9,
      "outputs": [
        {
          "output_type": "execute_result",
          "data": {
            "text/plain": [
              "gender\n",
              "Female    2994\n",
              "Male      2115\n",
              "Other        1\n",
              "dtype: int64"
            ]
          },
          "metadata": {},
          "execution_count": 9
        }
      ]
    },
    {
      "cell_type": "code",
      "source": [
        "stroke_df.groupby('gender').size().plot(kind='pie')\n"
      ],
      "metadata": {
        "id": "txEJXWEDXbIh",
        "outputId": "e0ae1ae2-17d0-482b-ce50-f45a2747a1df",
        "colab": {
          "base_uri": "https://localhost:8080/",
          "height": 0
        }
      },
      "execution_count": 10,
      "outputs": [
        {
          "output_type": "execute_result",
          "data": {
            "text/plain": [
              "<matplotlib.axes._subplots.AxesSubplot at 0x7fc2c21f0350>"
            ]
          },
          "metadata": {},
          "execution_count": 10
        },
        {
          "output_type": "display_data",
          "data": {
            "text/plain": [
              "<Figure size 432x288 with 1 Axes>"
            ],
            "image/png": "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\n"
          },
          "metadata": {}
        }
      ]
    },
    {
      "cell_type": "code",
      "source": [
        "stroke_df.loc[stroke_df['gender']=='Other']"
      ],
      "metadata": {
        "id": "gfH_apBGaw0e",
        "outputId": "e71ad670-b250-4a39-a62f-09fdd1352501",
        "colab": {
          "base_uri": "https://localhost:8080/",
          "height": 0
        }
      },
      "execution_count": 11,
      "outputs": [
        {
          "output_type": "execute_result",
          "data": {
            "text/plain": [
              "         id gender   age  hypertension  heart_disease ever_married work_type  \\\n",
              "3116  56156  Other  26.0             0              0           No   Private   \n",
              "\n",
              "     residence_type  avg_glucose_level   bmi   smoking_status  stroke  \n",
              "3116          Rural             143.33  22.4  formerly smoked       0  "
            ],
            "text/html": [
              "\n",
              "  <div id=\"df-46cc1219-e03b-40e6-b8be-ba8c1f138a49\">\n",
              "    <div class=\"colab-df-container\">\n",
              "      <div>\n",
              "<style scoped>\n",
              "    .dataframe tbody tr th:only-of-type {\n",
              "        vertical-align: middle;\n",
              "    }\n",
              "\n",
              "    .dataframe tbody tr th {\n",
              "        vertical-align: top;\n",
              "    }\n",
              "\n",
              "    .dataframe thead th {\n",
              "        text-align: right;\n",
              "    }\n",
              "</style>\n",
              "<table border=\"1\" class=\"dataframe\">\n",
              "  <thead>\n",
              "    <tr style=\"text-align: right;\">\n",
              "      <th></th>\n",
              "      <th>id</th>\n",
              "      <th>gender</th>\n",
              "      <th>age</th>\n",
              "      <th>hypertension</th>\n",
              "      <th>heart_disease</th>\n",
              "      <th>ever_married</th>\n",
              "      <th>work_type</th>\n",
              "      <th>residence_type</th>\n",
              "      <th>avg_glucose_level</th>\n",
              "      <th>bmi</th>\n",
              "      <th>smoking_status</th>\n",
              "      <th>stroke</th>\n",
              "    </tr>\n",
              "  </thead>\n",
              "  <tbody>\n",
              "    <tr>\n",
              "      <th>3116</th>\n",
              "      <td>56156</td>\n",
              "      <td>Other</td>\n",
              "      <td>26.0</td>\n",
              "      <td>0</td>\n",
              "      <td>0</td>\n",
              "      <td>No</td>\n",
              "      <td>Private</td>\n",
              "      <td>Rural</td>\n",
              "      <td>143.33</td>\n",
              "      <td>22.4</td>\n",
              "      <td>formerly smoked</td>\n",
              "      <td>0</td>\n",
              "    </tr>\n",
              "  </tbody>\n",
              "</table>\n",
              "</div>\n",
              "      <button class=\"colab-df-convert\" onclick=\"convertToInteractive('df-46cc1219-e03b-40e6-b8be-ba8c1f138a49')\"\n",
              "              title=\"Convert this dataframe to an interactive table.\"\n",
              "              style=\"display:none;\">\n",
              "        \n",
              "  <svg xmlns=\"http://www.w3.org/2000/svg\" height=\"24px\"viewBox=\"0 0 24 24\"\n",
              "       width=\"24px\">\n",
              "    <path d=\"M0 0h24v24H0V0z\" fill=\"none\"/>\n",
              "    <path d=\"M18.56 5.44l.94 2.06.94-2.06 2.06-.94-2.06-.94-.94-2.06-.94 2.06-2.06.94zm-11 1L8.5 8.5l.94-2.06 2.06-.94-2.06-.94L8.5 2.5l-.94 2.06-2.06.94zm10 10l.94 2.06.94-2.06 2.06-.94-2.06-.94-.94-2.06-.94 2.06-2.06.94z\"/><path d=\"M17.41 7.96l-1.37-1.37c-.4-.4-.92-.59-1.43-.59-.52 0-1.04.2-1.43.59L10.3 9.45l-7.72 7.72c-.78.78-.78 2.05 0 2.83L4 21.41c.39.39.9.59 1.41.59.51 0 1.02-.2 1.41-.59l7.78-7.78 2.81-2.81c.8-.78.8-2.07 0-2.86zM5.41 20L4 18.59l7.72-7.72 1.47 1.35L5.41 20z\"/>\n",
              "  </svg>\n",
              "      </button>\n",
              "      \n",
              "  <style>\n",
              "    .colab-df-container {\n",
              "      display:flex;\n",
              "      flex-wrap:wrap;\n",
              "      gap: 12px;\n",
              "    }\n",
              "\n",
              "    .colab-df-convert {\n",
              "      background-color: #E8F0FE;\n",
              "      border: none;\n",
              "      border-radius: 50%;\n",
              "      cursor: pointer;\n",
              "      display: none;\n",
              "      fill: #1967D2;\n",
              "      height: 32px;\n",
              "      padding: 0 0 0 0;\n",
              "      width: 32px;\n",
              "    }\n",
              "\n",
              "    .colab-df-convert:hover {\n",
              "      background-color: #E2EBFA;\n",
              "      box-shadow: 0px 1px 2px rgba(60, 64, 67, 0.3), 0px 1px 3px 1px rgba(60, 64, 67, 0.15);\n",
              "      fill: #174EA6;\n",
              "    }\n",
              "\n",
              "    [theme=dark] .colab-df-convert {\n",
              "      background-color: #3B4455;\n",
              "      fill: #D2E3FC;\n",
              "    }\n",
              "\n",
              "    [theme=dark] .colab-df-convert:hover {\n",
              "      background-color: #434B5C;\n",
              "      box-shadow: 0px 1px 3px 1px rgba(0, 0, 0, 0.15);\n",
              "      filter: drop-shadow(0px 1px 2px rgba(0, 0, 0, 0.3));\n",
              "      fill: #FFFFFF;\n",
              "    }\n",
              "  </style>\n",
              "\n",
              "      <script>\n",
              "        const buttonEl =\n",
              "          document.querySelector('#df-46cc1219-e03b-40e6-b8be-ba8c1f138a49 button.colab-df-convert');\n",
              "        buttonEl.style.display =\n",
              "          google.colab.kernel.accessAllowed ? 'block' : 'none';\n",
              "\n",
              "        async function convertToInteractive(key) {\n",
              "          const element = document.querySelector('#df-46cc1219-e03b-40e6-b8be-ba8c1f138a49');\n",
              "          const dataTable =\n",
              "            await google.colab.kernel.invokeFunction('convertToInteractive',\n",
              "                                                     [key], {});\n",
              "          if (!dataTable) return;\n",
              "\n",
              "          const docLinkHtml = 'Like what you see? Visit the ' +\n",
              "            '<a target=\"_blank\" href=https://colab.research.google.com/notebooks/data_table.ipynb>data table notebook</a>'\n",
              "            + ' to learn more about interactive tables.';\n",
              "          element.innerHTML = '';\n",
              "          dataTable['output_type'] = 'display_data';\n",
              "          await google.colab.output.renderOutput(dataTable, element);\n",
              "          const docLink = document.createElement('div');\n",
              "          docLink.innerHTML = docLinkHtml;\n",
              "          element.appendChild(docLink);\n",
              "        }\n",
              "      </script>\n",
              "    </div>\n",
              "  </div>\n",
              "  "
            ]
          },
          "metadata": {},
          "execution_count": 11
        }
      ]
    },
    {
      "cell_type": "markdown",
      "source": [
        "#### Age"
      ],
      "metadata": {
        "id": "1PsXcLydPxcw"
      }
    },
    {
      "cell_type": "code",
      "source": [
        "stroke_df.age.describe()"
      ],
      "metadata": {
        "colab": {
          "base_uri": "https://localhost:8080/"
        },
        "id": "tfM_gmfDeiws",
        "outputId": "039364b3-06ea-4384-e97b-c35eac000cb1"
      },
      "execution_count": 12,
      "outputs": [
        {
          "output_type": "execute_result",
          "data": {
            "text/plain": [
              "count    5110.000000\n",
              "mean       43.226614\n",
              "std        22.612647\n",
              "min         0.080000\n",
              "25%        25.000000\n",
              "50%        45.000000\n",
              "75%        61.000000\n",
              "max        82.000000\n",
              "Name: age, dtype: float64"
            ]
          },
          "metadata": {},
          "execution_count": 12
        }
      ]
    },
    {
      "cell_type": "markdown",
      "source": [
        "\n",
        "\n",
        "*   **median age: 45.0**\n",
        "  *   considering that the **median age in the world is only 30.63**, this dataset seems to describe an **aging population**, probably from one of the highly developed countries\n",
        "  *   note that only 5 countries in he world have a median age >= 5 (Italy, Saint Pierre and Miquelon, Germany, Japan and Monaco)\n",
        "  *   source: [worldpopulationreview.com](https://worldpopulationreview.com/country-rankings/median-age)\n",
        "\n"
      ],
      "metadata": {
        "id": "Qo6f_MC1flQJ"
      }
    },
    {
      "cell_type": "code",
      "source": [
        "plot_continuous_variable_distribution(stroke_df, stroke_df.age, \"age\", \"Population Age Distribution\")"
      ],
      "metadata": {
        "id": "5F_qauNJK_DN",
        "outputId": "53ea55f4-3b67-42b5-dd26-ae222ac6aa79",
        "colab": {
          "base_uri": "https://localhost:8080/",
          "height": 534
        }
      },
      "execution_count": 13,
      "outputs": [
        {
          "output_type": "display_data",
          "data": {
            "text/plain": [
              "<Figure size 504x504 with 1 Axes>"
            ],
            "image/png": "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\n"
          },
          "metadata": {
            "needs_background": "light"
          }
        }
      ]
    },
    {
      "cell_type": "code",
      "source": [
        "fig, ax = plt.subplots(figsize=def_fig_size)\n",
        "sns.histplot(data=stroke_df, x=\"age\", hue=\"stroke\", ax=ax)\n",
        "plt.title(\"Age Distribution by Stroke Status\", size = def_title_size)"
      ],
      "metadata": {
        "colab": {
          "base_uri": "https://localhost:8080/",
          "height": 480
        },
        "id": "V08_8SoEuNXX",
        "outputId": "60f97175-aaac-4109-91d0-8a373157106a"
      },
      "execution_count": 14,
      "outputs": [
        {
          "output_type": "execute_result",
          "data": {
            "text/plain": [
              "Text(0.5, 1.0, 'Age Distribution by Stroke Status')"
            ]
          },
          "metadata": {},
          "execution_count": 14
        },
        {
          "output_type": "display_data",
          "data": {
            "text/plain": [
              "<Figure size 504x504 with 1 Axes>"
            ],
            "image/png": "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\n"
          },
          "metadata": {
            "needs_background": "light"
          }
        }
      ]
    },
    {
      "cell_type": "code",
      "source": [
        "plot_continuous_variable_stroke_ratio(stroke_df, \"age\", 20, \"The ratio of people having had a stroke,\\ncategorized by their Age\", 70)"
      ],
      "metadata": {
        "id": "bCmBCDMdL78B",
        "outputId": "d9c5c84b-ecc6-43ec-ba57-822edf6a3bf7",
        "colab": {
          "base_uri": "https://localhost:8080/",
          "height": 534
        }
      },
      "execution_count": 15,
      "outputs": [
        {
          "output_type": "display_data",
          "data": {
            "text/plain": [
              "<Figure size 504x504 with 1 Axes>"
            ],
            "image/png": "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\n"
          },
          "metadata": {
            "needs_background": "light"
          }
        }
      ]
    },
    {
      "cell_type": "markdown",
      "source": [
        "As expected, the ratio of the population who had a stroke increases by age."
      ],
      "metadata": {
        "id": "VHAdg6ce6l2g"
      }
    },
    {
      "cell_type": "markdown",
      "source": [
        "#### Hypertension"
      ],
      "metadata": {
        "id": "QtE-ZuCoPzmd"
      }
    },
    {
      "cell_type": "markdown",
      "source": [
        "#### Heart Disease"
      ],
      "metadata": {
        "id": "kMqXj2HEP2o7"
      }
    },
    {
      "cell_type": "markdown",
      "source": [
        "The feeature shows whether a person has (1) os hasn't got (0) any herat diseases."
      ],
      "metadata": {
        "id": "8XxJvaMfDgmx"
      }
    },
    {
      "cell_type": "code",
      "source": [
        "heart_disease_value_counts = stroke_df.heart_disease.value_counts()\n",
        "heart_disease_value_counts"
      ],
      "metadata": {
        "colab": {
          "base_uri": "https://localhost:8080/"
        },
        "id": "35oObiI0zk37",
        "outputId": "d7445d13-e9ba-4fcb-dfcd-a90e748b9ad4"
      },
      "execution_count": 16,
      "outputs": [
        {
          "output_type": "execute_result",
          "data": {
            "text/plain": [
              "0    4834\n",
              "1     276\n",
              "Name: heart_disease, dtype: int64"
            ]
          },
          "metadata": {},
          "execution_count": 16
        }
      ]
    },
    {
      "cell_type": "markdown",
      "source": [
        "Only 276 people out of 5110 had a heart disease."
      ],
      "metadata": {
        "id": "_qtj9PDgz7n-"
      }
    },
    {
      "cell_type": "code",
      "source": [
        "explode = [0.1] * heart_disease_value_counts.count()\n",
        "plt.pie(heart_disease_value_counts.array, labels=heart_disease_value_counts.index, autopct = '%0.0f%%', explode = explode)\n",
        "plt.title(\"The Ratio of Population with a Heart Disease\")\n",
        "plt.show()"
      ],
      "metadata": {
        "colab": {
          "base_uri": "https://localhost:8080/",
          "height": 264
        },
        "id": "y27Q9E8Iz6_X",
        "outputId": "3ce89e91-07e8-4213-b333-3d4101b25836"
      },
      "execution_count": 17,
      "outputs": [
        {
          "output_type": "display_data",
          "data": {
            "text/plain": [
              "<Figure size 432x288 with 1 Axes>"
            ],
            "image/png": "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\n"
          },
          "metadata": {}
        }
      ]
    },
    {
      "cell_type": "markdown",
      "source": [
        "The people with a heart disease represent 5% of the population."
      ],
      "metadata": {
        "id": "O-J7n_9j0SbI"
      }
    },
    {
      "cell_type": "code",
      "source": [
        "plot_categorical_variable_stroke_ratio(stroke_df, \"heart_disease\", \"The ratio of peope having had a stroke,\\ncategorized by heart disease status\")"
      ],
      "metadata": {
        "id": "DIl3eJ3BM-ld",
        "outputId": "1c5ad2ba-b521-42c2-ae8d-73cd3f531830",
        "colab": {
          "base_uri": "https://localhost:8080/",
          "height": 432
        }
      },
      "execution_count": 18,
      "outputs": [
        {
          "output_type": "display_data",
          "data": {
            "text/plain": [
              "<Figure size 432x432 with 1 Axes>"
            ],
            "image/png": "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\n"
          },
          "metadata": {
            "needs_background": "light"
          }
        }
      ]
    },
    {
      "cell_type": "markdown",
      "source": [
        "As expected, the ratio of people who had a stroke is much higher (17% vs 4%) among people with a heart disease."
      ],
      "metadata": {
        "id": "DwsTyQBy7sJl"
      }
    },
    {
      "cell_type": "markdown",
      "source": [
        "#### Marital Status"
      ],
      "metadata": {
        "id": "_JvIJ-npP45W"
      }
    },
    {
      "cell_type": "markdown",
      "source": [
        "#### Work Type"
      ],
      "metadata": {
        "id": "ZdCrTHIlQAHN"
      }
    },
    {
      "cell_type": "markdown",
      "source": [
        "#### Residence Type"
      ],
      "metadata": {
        "id": "ymY87LJtQCJz"
      }
    },
    {
      "cell_type": "markdown",
      "source": [
        "The feature shows whether the person lives in a rural or rban area."
      ],
      "metadata": {
        "id": "5zLBTqxQDm-u"
      }
    },
    {
      "cell_type": "code",
      "source": [
        "residence_type_value_counts = stroke_df.residence_type.value_counts()\n",
        "residence_type_value_counts"
      ],
      "metadata": {
        "colab": {
          "base_uri": "https://localhost:8080/"
        },
        "id": "1t_bj4eO1Jqf",
        "outputId": "d8a297fb-1d89-40aa-e8c4-8cbadfd7751f"
      },
      "execution_count": 19,
      "outputs": [
        {
          "output_type": "execute_result",
          "data": {
            "text/plain": [
              "Urban    2596\n",
              "Rural    2514\n",
              "Name: residence_type, dtype: int64"
            ]
          },
          "metadata": {},
          "execution_count": 19
        }
      ]
    },
    {
      "cell_type": "code",
      "source": [
        "explode = [0.01] * residence_type_value_counts.count()\n",
        "plt.pie(residence_type_value_counts.array, labels=residence_type_value_counts.index, autopct = '%0.0f%%', explode = explode)\n",
        "plt.title(\"The Residence Type Distribution\")\n",
        "plt.show()"
      ],
      "metadata": {
        "colab": {
          "base_uri": "https://localhost:8080/",
          "height": 264
        },
        "id": "GVlOvwx7150H",
        "outputId": "0bbba554-a931-4e1b-a513-313f91c5a740"
      },
      "execution_count": 20,
      "outputs": [
        {
          "output_type": "display_data",
          "data": {
            "text/plain": [
              "<Figure size 432x288 with 1 Axes>"
            ],
            "image/png": "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\n"
          },
          "metadata": {}
        }
      ]
    },
    {
      "cell_type": "code",
      "source": [
        "plot_categorical_variable_stroke_ratio(stroke_df, \"residence_type\", \"The ratio of peope having had a stroke,\\ncategorized by Residence Type\", 3)"
      ],
      "metadata": {
        "id": "9-vfLSBMNKGb",
        "outputId": "f8d27f75-8b93-4ce5-84d2-5c4508aa747c",
        "colab": {
          "base_uri": "https://localhost:8080/",
          "height": 432
        }
      },
      "execution_count": 21,
      "outputs": [
        {
          "output_type": "display_data",
          "data": {
            "text/plain": [
              "<Figure size 432x432 with 1 Axes>"
            ],
            "image/png": "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\n"
          },
          "metadata": {
            "needs_background": "light"
          }
        }
      ]
    },
    {
      "cell_type": "markdown",
      "source": [
        "The data shows that people living in an urban area have a slightly higher chance for a stroke (5.2% vs 4.5%), but the residence type does not seem to be a significant factor in one's chance for a stroke."
      ],
      "metadata": {
        "id": "NBMCsh5Y8xy9"
      }
    },
    {
      "cell_type": "markdown",
      "source": [
        "The people are fairly distributed between twose living in urban and in rural areas."
      ],
      "metadata": {
        "id": "vCfAoZ2B2Qmz"
      }
    },
    {
      "cell_type": "markdown",
      "source": [
        "#### Average Glucose Level"
      ],
      "metadata": {
        "id": "uTCPR3RGQEDP"
      }
    },
    {
      "cell_type": "markdown",
      "source": [
        "This feature shows the average glucose level in a person's blood, in mg/dL."
      ],
      "metadata": {
        "id": "6Dxgs2kODuNy"
      }
    },
    {
      "cell_type": "code",
      "source": [
        "stroke_df.avg_glucose_level.describe()"
      ],
      "metadata": {
        "colab": {
          "base_uri": "https://localhost:8080/"
        },
        "id": "7Tt5JoFi-YHp",
        "outputId": "6fe4cc6f-e9ba-4b06-8f14-574916c17832"
      },
      "execution_count": 22,
      "outputs": [
        {
          "output_type": "execute_result",
          "data": {
            "text/plain": [
              "count    5110.000000\n",
              "mean      106.147677\n",
              "std        45.283560\n",
              "min        55.120000\n",
              "25%        77.245000\n",
              "50%        91.885000\n",
              "75%       114.090000\n",
              "max       271.740000\n",
              "Name: avg_glucose_level, dtype: float64"
            ]
          },
          "metadata": {},
          "execution_count": 22
        }
      ]
    },
    {
      "cell_type": "code",
      "source": [
        "plot_continuous_variable_distribution(stroke_df, stroke_df.avg_glucose_level, \"avg_glucose_level\", \"Distribution by avg_glucose_level\")"
      ],
      "metadata": {
        "colab": {
          "base_uri": "https://localhost:8080/",
          "height": 534
        },
        "id": "pNvsNtpa_CXM",
        "outputId": "aedcd86c-cc7b-4083-885f-4bb484d8285b"
      },
      "execution_count": 23,
      "outputs": [
        {
          "output_type": "display_data",
          "data": {
            "text/plain": [
              "<Figure size 504x504 with 1 Axes>"
            ],
            "image/png": "iVBORw0KGgoAAAANSUhEUgAAAfAAAAIFCAYAAAAtG6/RAAAABHNCSVQICAgIfAhkiAAAAAlwSFlzAAALEgAACxIB0t1+/AAAADh0RVh0U29mdHdhcmUAbWF0cGxvdGxpYiB2ZXJzaW9uMy4yLjIsIGh0dHA6Ly9tYXRwbG90bGliLm9yZy+WH4yJAAAgAElEQVR4nOzdeXxc9X3v/9dnZrRZu2zJlhdkYwwGEiDYQFjDctMQmlySFrKWkK2ELG1o0jSh/fWWtM1tem/a0DYNhCwFkrRJfoQkZCMFY4eQsBmzGtt4wYtkWZJt7eto5nv/OGdgPB7JkqyZM2f0fj4eeozmzDlnPhpJ857zXc4x5xwiIiISLpGgCxAREZHpU4CLiIiEkAJcREQkhBTgIiIiIaQAFxERCSEFuIiISAgpwIuQmW0ws8DmB5rZnWbmzGx52rLl/rI7g6rLryPQ1yYbM9ttZruDrmMu8P8GNwRdR6HL9j9ciMzsFr/OS4OuJQgK8ALl/1Gmf42aWZeZbTKzb5jZm80smqPnDm2ghOWNR0TkeMWCLkCO6fP+bRSoA04HrgM+BGw0s/c6517K2OZ9wLz8lXiUm4EvAm0B1jCRoF8bEZFZoQAvcM65WzKXmdlC4N+Aa4EHzWytc64zbZu9+avwaM65dqA9yBomEvRrIyIyW9SEHkLOuQ7gXcAGYBnwl+mPZ+vnNc/1ZvY7vyl+xMz2mdmvzOyd/jqX+tu1AC0ZTfh3pu3L+c+xyG/ObzOzhJm933980mZsM1ttZj82s8NmNmhmj5jZ72VZb8L+rWx96n7t1/t3X06rffdkr42/PGJmN5rZk2Y24Nf1pJl91MyO+j9Jew0WmNkdZtbud3NsNrMPZPu5j8XMas3sK/7rOWJmL5rZn5qZpa2z2n/u9ZPs53kzi5tZ8xSe8zK//hfNrM/Mhs3sBTP7GzMrz1j3dv+5r55gX+f5j9+TsfxkM/uhmXX7r+vvzOz3zez9/vrvP+aLM3H955jZf5tZv1//g2Z2/nT6Rif7e039T5jZLVkeazCzL/iv15CZ9ZrZs2b2RTOrzFh3lZnd7f9ux8xsv39/VZb9VpvZX/v77fN/tp1m9n0zW5Nl/fPM7B4zO+Dve5+Zfc3MFh/rZ5+JqT6fmW31H18wwX4+67+2n8hYvtT/P9jl/08dMrP7zOycXPw8YaYj8JByziXN7O+BS4F3m9mfuclPbP8FvKbtl4EfAL1AM3AO3pH894HdeE32N/nb3Jq2/TMZ+2sAHgMGgHuBJNAxhdJXAI8CzwNf82t4J/BLM3uPc+77U9jHRD4PvA04E/gXoMdf3jPhFq/6NvAeYB/wDcABbwe+ClwEvDfLNnXAb4Ex4B6gDO+1/JaZJZ1zd02j9lLgQX+f3/Pv/6H/c5wCfBzAObfVD+/LzOzkzO4TM7sAeA3wQ78l5Fg+C6wGfgf8HCgHLgRuAS41s//hnEv4694FfASvG+InWfaV+vB0Z1o9qX3X+/t/DjgR+BHwiynUNyEzuwT4b7zupXuBncBrgfXAQ8ez7yk89wr/eVqAp4Db8A6ITgb+DLgdGPTXPQfvd1sN3Ae8iPea/xFwtf8aP+mva8D9wAV4/yffAMaBpcBlwG/850vV8UHgDmDU3/c+YBXwYeCtZvb62Wx1mubz3QX8b+DdeC2Gma7H+9/5z7T9n433O20AfoX3e12A93/9iJm93Tl3XH83RcU5p68C/MILEHeMdcqAuL/uirTlGzK3BQ4BrcC8LPtZkHF/N7D7WLUBdwOxLI/f6T++PG3Z8rTt/m/G+mv9n6MbqElbfou//qVZniO1vzuP9dwZj2d7bd7tb7MJqEpbXgls9B97zwSvwTeAaNry0/DecF+cxu96t7+vR4CytOUNeKHkgEvSll/jL/vSJK/9G6f43CcClmX53/n7eWfG8m14b94NWf4WD+N9iIulLV/n7+ejGeu/Oe01fP8M/j8iwHZ/+zdnPHZj2r4vzXjMARum+jeD9wHZAbdkLP+dv/zmbP9PQLn/vQFb/HXfm7HeO/3lW4GIv+y1/rIfTfAz16fdPxkvAHcASzLWvQJIZNvPFF/fo16T6T4f3oeOBLAxy/7P8ff/w7RlMX/fI8AbMtZfjDempj3jf+SWbL/nufKlJvQQc86N4gUzQOMUNonj/UNl7ufgDJ5+DPhz59z4NLfrBf424/k3At/FO/p8+wxqOV4f9G8/55wbSKtrEO8IFbwjjExDwKfcq0eoOOdexDsqP9XMqqZZx83+7zS1r8N4QQqQ3iz/Y7w3svebWVlqoZnVAe/AC/0Hp/KEzrldzn8nzPBl//ZNGcvvwmsdeHfG8rfiHWV/N/U3YWbLgMvx3pS/lvG8v5xqjRO4ADgJWO/vK90dQObAzlnjN2Ofj9cq9Y+ZjzvnDjrnRtLqXA086pz7bsZ638f70HYKXitPuuEs+00657rTFn0UKAE+6Zxry1h3Hd4R8lvNrHoaP95kpvV8zrlWvA9wa8zs9Ix9pVpr0lupfh9YCfybc+7XGfvfD/wfYBHehwVBTejFINU/eqy5zd8F/gR40cx+APwa702ld4bPu9ulDZybhk3Ouf4syzfg/VO/jiP/qfPhbLwugA1ZHvs13oee12V5bLtzri/L8n3+bT1eF8NUjOMd1WVK1fTK8zvnxs3s68D/wmtmTzVBXgdUAHdMEMpH8ftqP4n3welkvGZeS1tlScYmd+N9qLge+Pe05Uc1nwNn+bePOueSWZ7+EeB/TKXOLFKvxyOZDzive+l3eD9PLrzev/3VBD9XurP924ma9B/CC+/XAQ/jNa8/g9ct1oLXVfEI3lHsWMa25/u3b5igf7gJr3vhZNKa3Y/DTJ7vTuCNeH8ffwFgZqkPgJ0c2Y2S2n9LtjEHeE31AKdynN0vxUIBHmL+IKMG/27XMVb/M2AX3pHc5/yvcTP7BfBp59yOaT79gWmunzJRP3lqf7Uz3O/xqAUOZ3mDTIXlQbw3p0wT9a2nWiWmM0//YPqRfJqJXpc7gL/C65NOBfgNeC0j/zGVJzSzErwAORd4AW8cRBdeSw3A3+A1jb/COddqZuuAN5rZqc65LWbWBFwJPOOcey5t9VTNE/3OpzJmYiK53Pex1Pm3U5kmmapzovEIqeV1AM65hJldjvfh7BpePcLvN7O78FppUh8K5/u3nzlGDdNtCZrITJ7vR0Af8EdmdrP/N/4WvPetWzNa8FL7v3Ya+5/T1IQebhfhfQjrcM7tnmxF51zCOXerc+5MYCHekduPgP8J3J/eFDtFMz2b2cIJli/yb9NbBFJHN9k+aNZlWTZTvUCDH2hHMLMYXp9mtiPt2bTAsp+YJ9vrgt+EeR9wiXkj01OD137knDvWh7mUq/HC+07n3Gudczc45/7KeVMXvzbJdqkWktRR93vxfkeZLSep12yi3/lEy6diNvc93b+z1Ae3zNaJbFK/t0UTPN6csR7OuW7n3J8555bx6gCxrcAn8AbLZe671jlnk3wd0Rx9HKb9fM65YbxBs814R+KQvfk8ff9XH2P/n0cABXhomTe16a/8u/852bqZnHOdzrl7nXPvwDsCW4n35p+SYHpHj9Nx9gR9cpf6t0+nLUv19y3Lsv7aCfafOoqdTv1P4/0vXJLlsUv8fW2axv5mIobXX5rpUv/26SyPfdW//Qje0TdMHryZTvJv783y2Bsm2e5eXj2qiuC9IY9z9N9haubC+ZZlKh5H9/tOR+r1OGof/nNley0nMt2/s8f82zdN8HOlS9V56QSPX+bfZv37cs7tcM59E+/3MYD3oSuzjouPUcNsmenz3enfXm9mjXgDGJ9zzmXObMn3zxN6CvAQ8pssv4f3prAXb6rGZOuXmdmFWZaX8GoT/FDaQ4eARjOrmJWCj1SL1zyYXsdavKO4XrxWgZQn/NsP+EfCqfWXZe4jTWpQ3wnTqOlb/u0/mNkrZ2nzv/+if/eb09jfTP1DxqC0BuD/8+9maxZfhzdY63q8wWvbnHMTzg/PYrd/e2n6QjM7kSyDs1LSjqqW4HXNnAn8InNMhPOmE23A+6DwkYznuJKZ93+DN1BwJ950ujdnPHYD0+v/Tv2d/XH6QjN7Ld74gCM4557CG69wFq8Ockzfbr69Oof+t3gj9y8ys2sy1rsGL6xewu/LN7MV/uufqR6vOyN9cNtX8Lo7vmxmR/28ZlZqZrMZhjN6Pufcb/FmDFyNN0OghCPHSqT8BO93+nEzuypbAebN8deZFH3qAy9waYM5Irx6KtWL8EYCP4E3NeVYo8gr8OZQ7sAbXLIHb77vG/EGhNznnNuStv46vGke95vZw3jThp51zv10Fn6kh4EPm9l5eG9uqXngEeAj6YPCnHOP+89/CfCEmT2E1zT6Vrw5otmOmNbh9dF93cx+CPQDPc65r0xUkHPuP807Ock7gM1m9mO8LoK34c1b/37mCOIcaMd7g37BzO7De5O7Bu/1+apz7uEsdTszux34Z3/RHdN8zp/ijRD/lB9WT+N98HkL3pztyT4E3YXXtPsPafez+Tje7/mr/ptyah74H+K9YV/Nq03YU+YPVPsw3pzp+/zf9U7gDLy/61/iHelNZd8/wQuYd5vZUuBxvJ/9av+xd2TZ5o/wPpz8bzP7Q/97w2vy/j28kee7/d/R9cADwPfN7Cd4zeGn4P199QPvSxsMdyZwr5k9iTf9bD/eDJOr8f4mXvlg5bxzAnwQ7wPoZjO7H+/DQIlf/8V4YxpWT+E1OKbjfL7U4Me/xmutOer/yTkXN7M/wPvf/rk/EPEZvIOLZXjvSSfi/U8MZW4/Jx1rnpm+gvni1Xmsqa9R4CBeAH8db9BQZIJtN5A21xnvH+wv8N7U9uLNs+zCa7K6ESjN2L4Sr6+tFe+f7Yj51mSZS5ux/Z1MPA/8TrwPDT/Ba7ocwnuDf9ME+6rzf95O/zV4Ae8Ia3lmXWnbfArvzW/UX2f3RK9N2vII8DG8ed9D/tdTeAF01Os82WuQ7ec/xu96t/9Vizeyu82vfQvwp2SZp522bT1et8EwMH8Gf2fL8N5M2/x9bPb/VmJT+D2n5mEfyvwbylhvNV6zew/eyU0exZsy9Of+9m87jv+T8/DCsd//ehBvNPNX/H2fNZXfm/86fB9vLvsw8CTwB0wwD9zfZj5eoG7D+5/qwQucL5BxvgW8wP423ge1uH/7HeCUjPWW4rWo/RZvAOMo3v/hL8mY7562zWv9v7k9/vqH8f5PvgZcPsPXdcK/4Zk8H17AJ/x9/vQYz92E1/L1At7/4YD/t3YP3gen9PMM3MIcngdu/osgIiFk3qlC1wPfcc5dF3A502Jm38U7+91q59y2Wd73b/HCvdZ58/lFio76wEXC7S/82wm7CIJk3jnmjxqBbWZX4HWdvDjT8Dazef7JazKXvx9vENt/K7ylmKkPXCRk/P7qtwBr8Pp5f+acezzYqiZUCuzzz9++Fa9L5nS8fuox/HO8z9AJwNNm9gBeX34M74QoF+E1Z3/6OPYtUvDUhC4SMv4R5n/gTeX6FfAxN7PT4eacP7f9VrxTqi7Fuxb7QbzBjF90zj2dtu5NTG1+/wbn3AYzqwf+L94Uq0V4gwAP4PWDf8E5t3M2f5Yw8/9mlk9h1Weccz/ObTUyWxTgIlIQzLvsa8sUVv288042I1NkZhuYfG5/yl3OuffnthqZLaEO8CuvvNLdf//9QZeRP5de6t1u2FBUz3fpnd7zbHj/DJ4n36+JiEj+WbaFoR7EdvBgQbYaioiI5FyoA1xERGSuUoCLiIiEkAJcREQkhBTgIiIiIaQAFxERCSEFuIiISAgpwEVEREJIAS4iIhJCCnAREZEQUoCLiIiEkAJcREQkhBTgIiIiIaQAFxERCSEFuIiISAgpwEVEREJIAS4iIhJCCnAREZEQUoCLiIiEkAJcREQkhBTgIiIiIRTL9ROYWRTYCLQ5595iZiuA7wHzgaeA65xzY2ZWBtwNrAEOAe90zu3OdX3F5JLLrqCjs2vCxxc2NfLw+nV5rEhERHIl5wEOfBLYAtT49/8R+LJz7ntmdjvwIeA2/7bbOXeSmb3LX++deaivaHR0dnHjrfdM+PjtN12Tx2pERCSXctqEbmZLgd8HvuHfN+ByIJUydwFv87+/2r+P//gV/voiIiKSIdd94LcCfwEk/fvzgR7n3Lh/vxVY4n+/BNgH4D/e669/BDO7wcw2mtnGrq6Jm4tFRESKWc4C3MzeAnQ6556azf065+5wzq11zq1tbGyczV2LiIiERi77wC8E/qeZXQWU4/WB/wtQZ2Yx/yh7KdDmr98GLANazSwG1OINZhMREZEMOTsCd87d7Jxb6pxbDrwLeMg5915gPZAaTXU98BP/+/v8+/iPP+Scc7mqT0REJMyCmAf+WeBTZrYDr4/7m/7ybwLz/eWfAj4XQG0iIiKhkI9pZDjnNgAb/O93AedmWWcEuDYf9YiIiISdzsQmIiISQgpwERGREFKAi4iIhJACXEREJIQU4CIiIiGkABcREQkhBbiIiEgIKcBFRERCSAEuIiISQgpwERGREFKAi4iIhJACXEREJIQU4CIiIiGkABcREQkhBbiIiEgIKcBFRERCSAEuIiISQgpwERGREFKAi4iIhJACXEREJIQU4CIiIiGkABcREQkhBbiIiEgIKcBFRERCSAEuIiISQgpwERGREFKAi4iIhJACXEREJIQU4CIiIiGkABcREQkhBbiIiEgIKcBFRERCSAEuIiISQrGgC5Cpe/qZZxmLx3nf6Wdkfby1tS3PFYmISFAU4CEyFo+z+KTTufFL3876+M1vPzfPFYmISFDUhC4iIhJCCnAREZEQUoCLiIiEkAJcREQkhBTgIiIiIaQAFxERCSEFuIiISAgpwEVEREJIAS4iIhJCOQtwMys3syfM7Fkz22xmn/eX32lmL5vZM/7XWf5yM7N/NbMdZvacmZ2dq9pERETCLpenUh0FLnfODZhZCfCImf3Sf+wzzrl7MtZ/M7DK/zoPuM2/FRERkQw5OwJ3ngH/bon/5SbZ5Grgbn+7x4A6M2vOVX0iIiJhltOLmZhZFHgKOAn4d+fc42b2UeALZva/gHXA55xzo8ASYF/a5q3+svaMfd4A3ABwwgkn5LL8otO6bx+nTHAls4VNjTy8fl2eKxIRkZnKaYA75xLAWWZWB/zIzF4D3AwcAEqBO4DPAn87jX3e4W/H2rVrJzuilwyJpOPGWzN7Ljy333RNnqsREZHjkZdR6M65HmA9cKVzrt1vJh8F/gNIXQOzDViWttlSf5mIiIhkyOUo9Eb/yBszqwDeCGxN9WubmQFvA17wN7kPeJ8/Gv31QK9zrj3LrkVEROa8XDahNwN3+f3gEeAHzrmfmdlDZtYIGPAMcKO//i+Aq4AdwBDwgRzWJiIiEmo5C3Dn3HPA67Isv3yC9R3w8VzVM5c459jXPczzrb2MJZJUlcVY2VgZdFkiIjKLcjqITfJvaGycnz7bzoG+ESpKotRUxOjqH+XF9j7q3nwTg6PjVJYd/WvPNkL97t27AHjf6WdolLqISIFRgBeRyLxa7t3URs9wnCtWN7G6uZpYJEIi6Xh6bzePjJ/JPU+18o61y6gojR6xbbYR6ov//DoAbvzStzVKXUSkwOhc6EViPJGk/uqb6R2Oc/WZi3nNklpiEe/XG40Ya5c3cPjH/0D/6Dg/fW4/44lkwBWLiMjxUIAXiUd3HaJk/jLeckYzyxrmZV0nfuAl3nTaQtp7R1i/rSvPFYqIyGxSgBeB9t5hnt7bw9AL62iZP/lgtVULq1nbUs+L7X20dg/lqUIREZltCvCQSyYdD27ppLIsRv9v/2tK25y7ooGa8hjrt3aRSOpkdiIiYaQAD7mXOvs5PDjGJScvwMWHp7RNSTTCpac0cXhojE17u3NcoYiI5IICPMSSzvHEy4eZX1XKSY1V09p2xYJKViyo5Kk93YyOJ3JUoYiI5IoCPMR2dA7QPRTnvOUNeGemnZ7zVjQwOp7k+dbeHFQnIiK5pAAPKecffTdUlnJS0/SOvlMW1pRzQsM8Nu3tgVjpLFcoIiK5pAAPqbaeYQ4NjrGmpX5GR98p5y5vYDieYN5pl81idSIikms6E1tIvbC/j9JYhFUzPPpOWVJfQXNtOeNnvgnn3HF9GBARkfzREXgIjcQT7OgcYPWiakqix/8rPGNpLbHahezrntoodhERCZ4CPIS2tPeRSDpes7h2VvZ3UmMVyeF+nm/TYDYRkbBQgIeOY/P+PhbWlNFYXTYre4xFIwxv/Q27ugYYHB2flX2KiEhuKcBDJp5wHBoc47Tmmlnd79Dmh0g6eLG9b1b3KyIiuaEAD5nhsQQGM546NpFETztL6ip4sb0P53R6VRGRQqcAD5nhsQRL6yuYVzr7EwhOWVRNz1Ccrv7RWd+3iIjMLgV4mERLGU8mWbWwOie7P6mpiojBto7+nOxfRERmjwI8RFyZd6nQlY2TXzJ0pipKorTMr+SljgE1o4uIFDgFeEg456C0krKSaE6az1NOWVjNwOg4+3tGcvYcIiJy/BTgIbGjcwCiJVSURHP6PCc2VhKLGFs7NBpdRKSQKcBDYv22TgDKS3L7KyuJRlixoJKdnYOAmtFFRAqVAjwkHtraCYkxopHc/8pWNlYxHE8wNp7M+XOJiMjMKMBDoG8kzsbd3TA2lJfnW75gHhGD4XgiL88nIiLTpwAPgUe2H2Q86bCx/FxspCwWZVnDPIbHkqgZXUSkMCnAQ+ChrZ3UVpTAeP5Ghq9cUEUimSSeUICLiBQiBXiBSyYdG7Z1ccnJjXl93hP9ueYjakYXESlICvACt/VAPwcHRnlDngO8sixGaSzC8JgCXESkECnAC9zvdh4E4MKT5uf9uctLosQTSV1iVESkAOXulF4ybZdcdgUdnV1HLIufez1WOZ9LLziPr4/m9yIj5bEofcTZezg/o99FRGTqFOAFpKOzixtvveeV+4mk42sP72T1ohouv/oeuPK0vNZTEjMiEWP3wcG8Pq+IiBybmtALWEffCPGEY1lDRUAVGOWxKHsOD+FMfyoiIoVE78oFbF+313S9rH5eYDWUl0QYHU/i6pYFVoOIiBxNAV7A9h0epqm6jPIcX8BkMmUlUcwg2XRyYDWIiMjRFOAFajyR5EDvCEvrg2o+90TMaK4pJ9l0SqB1iIjIkRTgBepA3wgJ51gaYPN5ygkN83C1zfQMjQVdioiI+BTgBaqt2zvv+eLa8oArgWUN88AiPLrzUNCliIiIT9PIClRb7zALqkopC7D/O2VhTTkuPsLHv/BVSp7/SfZ1mhp5eP26PFcmIjJ3KcALUDLpONA7wqnNNUGXAkA0Yoy1bWXhaRdz/Yeuy7rO7Tddk+eqRETmNjWhF6DOgVHiCceSumAHsKUbbd1Mz1Cc/pF40KWIiAgK8IK0v8fv/y6gAB9r3QxAa3d+rkkuIiKTU4AXoLbuYWorSqgqK5wejvGDe6koibJP50UXESkICvAC45xjf+8wi+uCH31+JMfS+gr2dQ/jnAu6GBGROS9nAW5m5Wb2hJk9a2abzezz/vIVZva4me0ws++bWam/vMy/v8N/fHmuaitk3UNxRuLJgmo+T1lWP4+B0XF6htQPLiIStFwegY8ClzvnzgTOAq40s9cD/wh82Tl3EtANfMhf/0NAt7/8y/56c057r9fH3FxTaEfgvHJRlb3dakYXEQlazgLceQb8uyX+lwMuB1LXzLwLeJv//dX+ffzHrzAzy1V9hepA7whlsQgNlaVBl3KU2ooSqstjtB7WQDYRkaDltA/czKJm9gzQCTwA7AR6nHPj/iqtwBL/+yXAPgD/8V5gfi7rK0TtfSMsqimnED+7mBnL6ufR2j2kfnARkYDlNMCdcwnn3FnAUuBcYPXx7tPMbjCzjWa2saur67hrLCQuVsahgTEWFcDpUyeyrL6CkfEkXf2jQZciIjKn5WUUunOuB1gPnA/UmVlqftRSoM3/vg1YBuA/XgscdfJt59wdzrm1zrm1jY2NOa89n1zdUgCaCzjAlzZ4F1fZp/ngIiKByuUo9EYzq/O/rwDeCGzBC/LUeTevB1In177Pv4//+ENujrXTJutbAFhUgAPYUqrKYjTMK9V8cBGRgOXyTCHNwF1mFsX7oPAD59zPzOxF4Htm9vfA08A3/fW/CXzbzHYAh4F35bC2guTql9FQWRgXMJnM0oYKtrT3kUw6IpHC66sXEZkLchbgzrnngNdlWb4Lrz88c/kIcG2u6il0zjmS9ScU9NF3ypK6Cp5r7aVzYDQU9YqIFCOdia1AvHxwEErnFXT/d0rqIiupc7aLiEj+KcALxHOtvYB37e1CV1kWo7aihDYNZBMRCYwCvEA829oDiTHmF+AJXLJZUlfB/h6dF11EJCgK8ALxXGsv1rs/NIPCltR588EPD44FXYqIyJykAC8A8USSzft7ifS0Bl3KlC2p9/rB29QPLiISiMK54PQccMllV9DRefTZ45I1zcTf8Kf07XwugKpmpqY8RmVZlLaeYc5YWhd0OSIic44CPI86Oru48dZ7jlr+Qlsv67Z2MnpgRwBVzYyZ+f3gI+oHFxEJgJrQC0BHn3cFskRvR9ClTMuSugoGRsfpGxk/9soiIjKrFOAFoKNvNBTTxzIt9ueDazqZiEj+KcADNp5IcnBwlIU1ZUGXMm3zK0spj0U0kE1EJAAK8IAdHBjDOWiqDt8RuJmxuK5CAS4iEgAFeMA6+0cAaKoO3xE4eP3gvcNxXFl10KWIiMwpCvCAdfWPUhaLUF0ezgkBi/354MmG5cEWIiIyxyjAA9bZP0pTdRlm4TgDW6amqjJKokZy/oqgSxERmVMU4AFKJB2HBsdoDGnzOUAkYjTXVuDmLw+6FBGROUUBHqDDg2Mkki7UAQ6wuLYcV72Q3uF40KWIiMwZCvAAdQ2MAuEcgZ6uua4CLMLTe7uDLkVEZM5QgAeoq3+UWMSom1cSdCnHZVFNObgkm/YowEVE8kUBHqDO/hEaq8uIhHQAW0ppLIL1tbNRAS4ikjcK8IA45zjYP0ZjVbj7v1Ps8B6e2dfDeCIZdCkiInOCAjwgvcNxxhJJGkN4CtVsIof3MDSWYOuB/qBLERGZExTgAens94CXcB4AACAASURBVAewFckReKR7DwAbdx8OuBIRkblBAR6Qrv5RIgYNVaVBlzIrbLiX5tpy9YOLiOSJAjwgXf2jNFSWEosUz69gTUu9RqKLiORJ8aRHiDjn/FOohnv+d6Y1LfXs7x1hv65OJiKScwrwAAyOJhiOJ0J/BrZMa1saANSMLiKSBwrwAHQOeJcQLbYAP7W5moqSqJrRRUTyQAEegC5/BHqxzAFPiUUjnLWsjo17NBJdRCTXFOAB6OofpW5eCaWx4nv51y6vZ0t7P4Oj40GXIiJS1IovQUKgs3+0aOZ/Z1rTUk8i6XhmX0/QpYiIFDUFeJ6NxBP0j4wXXf93yutOqMcMnlI/uIhITinA8+yV/u8iDfDaihJObqrWSHQRkRxTgOfZocExABYUaRM6wJrl9Ty9p5tE0gVdiohI0VKA59nBgVHKSyLMK40GXUrOrG2pp390nO2durCJiEiuKMDz7NDAGAsqy7CQXwN8Mmta6gHYuFvN6CIiuaIAzyOHcWhwtKibzwFOaJjHgqoyDWQTEckhBXg+zasnnnDML5IrkE3EzFjbUq8AFxHJIQV4HiVrFgHFPYAtZe3yevYeHqKzfyToUkREipICPI9ctRfgDZXFfQQOcLbfD/6U+sFFRHJCAZ5HrmYRtRXFeQrVTK9ZXEtZLKJmdBGRHCn+JCkgrmYhC4q8/zulNBbhzKV1OqGLiEiOKMDzZCSewFUuYH5l8fd/p5zdUs/m/b2MxBNBlyIiUnQU4HmyvWMALDJnjsDBO6FLPOF4rrU36FJERIqOAjxPth7oA+bGCPSUVwayqRldRGTWKcDzZNuBfkjEqZ1XEnQpedNQWcqJjZUKcBGRHMhZgJvZMjNbb2YvmtlmM/ukv/wWM2szs2f8r6vStrnZzHaY2TYze1OuagvC1gP9WH8HkSI+hWo2a06oZ9PebpzThU1ERGZTLIf7Hgc+7ZzbZGbVwFNm9oD/2Jedc19KX9nMTgPeBZwOLAYeNLOTnXNFMQJq64F+rO9A0GXkTOu+fZxy+hlHLU+csJbxM/+QC666hkd/+cMAKhMRKU45C3DnXDvQ7n/fb2ZbgCWTbHI18D3n3CjwspntAM4FHs1VjflycGCUgwOjRPs7gi4lZxJJx4233nPU8sODY3z7sT10uZoAqhIRKV556QM3s+XA64DH/UWfMLPnzOxbZlbvL1sC7EvbrJUsgW9mN5jZRjPb2NXVlcOqZ8+2A95lNSNFfAQ+kfp5JZTFIiTrTwi6FBGRopLzADezKuCHwE3OuT7gNmAlcBbeEfo/TWd/zrk7nHNrnXNrGxsbZ73eXNjqB3gxN6FPxMxori3HNbQEXYqISFHJaYCbWQleeH/XOXcvgHOuwzmXcM4lga/jNZMDtAHL0jZf6i8LvW0H+phfWYqNDQRdSiCa6ypw1QvpGRoLuhQRkaKRy1HoBnwT2OKc++e05c1pq70deMH//j7gXWZWZmYrgFXAE7mqL5+2HejnlEXVQZcRmMW15QA8vbcn4EpERIpHLo/ALwSuAy7PmDL2f8zseTN7DrgM+DMA59xm4AfAi8D9wMeLYQR6IunY1tHP6kVzdxDXwppySCY0H1xEZBblchT6I0C2Sc+/mGSbLwBfyFVNQdh7eIiReJLVc/gIvCQawfra2bgnHGMWRETCQGdiy7GXOrwBbKsWVgVcSbAih/fw7L5e4olk0KWIiBQFBXiO7ej0Bq6tWjh3j8ABrHsPw/EEW9v7gy5FRKQoKMBzbHtHP0vqKqgqy+VJ7wpf5PAeADbuORxwJSIixUEBnmMvdQxwUtPcbj4HsJE+FteWayCbiMgsUYDnUCLp2Nk1wCoFOOBdXnSTAlxEZFYowHOotXuI0fHknB/AlrK2pZ79vSPs7xkOuhQRkdBTgOfQ9g4NYEu3pqUBQM3oIiKzQAGeQy91eiOu1QfuWd1cTUVJVAEuIjILFOA5tKNjgEU15dSUlwRdSkEoiUY4a1mdAlxEZBYowHNoe+eA+r8zrGmp58X2PobGxoMuRUQk1BTgOZJMOnZ0DrCqSf3f6da01JNIOp7d1xt0KSIioaYAz5G2nmGG4wkdgWc4+4R6AJ7SCV1ERI6LAjxHtvsD2DQH/Ei180pY1VSlfnARkeOkAM+RV6aQqQn9KGta6tm0t4dk0gVdiohIaCnAc2R75wBN1WXUztMI9ExrWurpHY6zs2sg6FJEREJLAZ4jGoE+sTUtqX5wNaOLiMyUAjwHnHPs6OhX8/kEViyopKGyVAEuInIcFOA5sL93hMGxhM7ANgEz4+wT6hXgIiLHQQGeA9s7vBHoJ+sc6BNa01LProODHB4cC7oUEZFQigVdQDHa0Zkaga4j8JTWffs45fQzXrmfbFgOF36Ec9/6R+w/dSOlpRrsJyIyHQrwHNjeMcCCqlLqK0uDLqVgJJKOG2+955X744kkt/16J2deexOM7GH/js0BViciEj5qQs+Blzr71f99DLFohKbqctp7dW1wEZGZmFKAm9mFU1kmqRHoA+r/noLm2nI6+kZxTid0ERGZrqkegf/bFJfNeR19o/SPjqv/ewqa68pJJB3xhAJcRGS6Ju0DN7PzgQuARjP7VNpDNUA0l4WFVeoc6CsV4Me0uLYCgNHxRMCViIiEz7EGsZUCVf566W3CfcA1uSoqzHb6I9DVB35slWUxaspj9CaSQZciIhI6kwa4c+7XwK/N7E7n3J481RRal1x2Ba1N58PSs7jo9ediGY+3trYFUlcha66rYGePAlxEZLqmOo2szMzuAJanb+OcuzwXRYVVR2cXS668nHjC8c60KVMpN7/93ACqKmzNteUkDjsiEc1oFBGZjqm+a/7/wO3ANwB1WE6ieyjOsvqKoMsIjVQ/uCspC7gSEZFwmWqAjzvnbstpJUXARUsZGB3XCVymYX5VKWYGsfKgSxERCZWpTiP7qZl9zMyazawh9ZXTykLIVTUCUD9PAT5VETNKYxFciQJcRGQ6pnoEfr1/+5m0ZQ44cXbLCbdUgDfoCHxayqIRRv3Wi6oy9YWLiEzFlN4tnXMrcl1IMXBVjZhBbYUuzDEdpTGvIeiZvT1ctGpBwNWIiITDlALczN6Xbblz7u7ZLSfcXFUjteUlRCOZE8hkMqkAf2pPtwJcRGSKptpeeU7a9+XAFcAmQAGexlU1agDbDETMIDHGxj2Hgy5FRCQ0ptqE/ifp982sDvheTioKqUTS4Srn06ABbDNi8RGe2dtDIunUgiEiMgUzvZzoIKB+8TRt3cMQLaGuUv3fMzLuXQQmdS55ERGZ3FT7wH+KN+ocvIuYnAr8IFdFhdHOLu8c6DoCnxkbH4FS2Li7m9WLaoIuR0Sk4E21D/xLad+PA3ucc605qCe0UgGuPvAZSoyzoKqMTXu6+aPXtwRdjYhIwZtSE7p/UZOteFckqwfGcllUGO3sGoDRASpKdJXVmVrTUsdTe7uDLkNEJBSmFOBm9g7gCeBa4B3A42amy4mm2dk1iA0eDLqMUFvb0sCeQ0N09Y8GXYqISMGbahP6XwHnOOc6AcysEXgQOPqSW3PUrq4BrL8r6DJC7eyWesCbD37laxYFXI2ISGGb6ij0SCq8fYemsW3R6xka4+DAGDagAD8er1lSQ2kswiY1o4uIHNNUj8DvN7NfAf/l338n8IvclBQ+O7sGARTgx6ksFuWMJbVs3K0TuoiIHMukR9FmdpKZXeic+wzwNeAM/+tR4I5jbLvMzNab2YtmttnMPukvbzCzB8xsu39b7y83M/tXM9thZs+Z2dmz8hPmwS5/BLoNKsCP15qWel5o62MkrsvOi4hM5lhH4LcCNwM45+4F7gUws9f6j711km3HgU875zaZWTXwlJk9ALwfWOec+6KZfQ74HPBZ4M3AKv/rPOA2/7bg7ewapCRq2JCafo/X2S31fO3hXWze38uallevWHvJZVfQ0Xn0B6S7d+8C4DOXXcHD69flrU4RkaAdK8AXOueez1zonHvezJZPtqFzrh1o97/vN7MtwBLgauBSf7W7gA14AX41cLdzzgGPmVmdmTX7+yloO7sGWD6/kr0uGXQpobfGH8i2cXf3EQHe0dnFjbcePWZy8Z9f98rjIiJzybEGotVN8ljFVJ/ED/vXAY/jfShIhfIBYKH//RJgX9pmrf6yzH3dYGYbzWxjV1dhvGnv7BpgZWNV0GUUhQVVZSyfP4+n9qg1Q0RkMscK8I1m9seZC83sw8BTU3kCM6sCfgjc5JzrS3/MP9p2WTecgHPuDufcWufc2sbGxulsmhPxRJK9h4Y4sbEy6FKKxtkt9Wza24335yEiItkcqwn9JuBHZvZeXg3stUAp8PZj7dzMSvDC+7t+HzpAR6pp3MyagdT0tDZgWdrmS/1lBSNbP2yycgHjl3+aO778D7S3FlS5obW2pYF7N7Wx+9AQKxbog5GISDaTBrhzrgO4wMwuA17jL/65c+6hY+3YzAz4JrDFOffPaQ/dB1wPfNG//Una8k+Y2ffwBq/1Flr/d7Z+2J1dA/zsuXb+8I8/zb/89icTbCnTcc7yVD/4YQW4iMgEpno98PXA+mnu+0LgOuB5M3vGX/aXeMH9AzP7ELAH79Ss4M0rvwrYAQwBH5jm8wWiZygOQN08XUZ0tqxsrKJuXgkbd3dz7dplx95ARGQOmuqJXKbNOfcIYBM8fEWW9R3w8VzVkys9Q2NUlEQp10VMZk0kYqxtqefJPTqhi4jIRHQ61OPUMxTX0XcOrF3ewK6uQQ4N6MImIiLZKMCPU89wnLoKBfhse6UfXNPJRESyUoAfh3giycDoOHXzSoMupei8ZkktpbEIT76sZnQRkWwU4MdBA9hypywW5ayldTypI3ARkaxyNogtjCY633ZKa8Y8756hMQDqdQSeE2uX13PHw7sYGhsPuhQRkYKjAE8z0fm2U25++7lH3O8e9o7Aa9UHnhPnrGjgqxt28sy+nqBLEREpOArw49AzNEZlaZTSmHoijtfo6AinnH7GEctcrByu/Guu+/Tfc0BnuRMROYIC/Dh4U8jUfD4bnCNr68d3H9/DvAuupu3BO/NflIhIAdOh43HQHPDcW1xbQXvvMJj+VEVE0uldcYZG4wmG4wkFeI4trqsgnnDE5uuUqiIi6RTgM5QawKYR6Lm1uK4cgNLFpwRciYhIYVGAz1BqCpnOwpZb1eUlVJfHKGlWgIuIpFOAz1DqJC6aQpZ7i2srKG0+Ge96NyIiAgrwGesZilNdHiMW1UuYa4vryolWNdA3ohO6iIikKH1mqGd4TAPY8mRxXQUA+3uGA65ERKRwKMBnwDlHz1Cc+goNYMuH+ZWlJEcHFeAiImkU4DMwHE8wOp7UEXiemBlj7S+xv2ck6FJERAqGAnwGXr0KmY7A8yW+fxuHh8YYHksEXYqISEFQgM+ALiOaf2Pt2wC8s7KJiIgCfCZ6hscwg5pyBXi+xDtfJmqmZnQREZ8CfAZ6huLUlJcQjVjQpcwdiThNNWXs1xG4iAigAJ+R7qEx6tV8nneL6yro6BthPJEMuhQRkcApwKfJOUfvsC4jGoTFdeUkHXT0jQZdiohI4BTg0zQ4liCecDoHegAW13ondGlTM7qIiAJ8ul65iIma0POuvCTK/MpSndBFRAQF+LSlppDpMqLBaK4rp713hKQubCIic5wCfJp6huJEI0ZVeSzoUuakJbUVjI0nOTQwFnQpIiKBUoBPU/fQGLUVJURMU8iCoAubiIh4FODT1DMc1wC2AFWXx6gqi2k+uIjMeQrw6TCjdyiu/u8AmRmL68rZ3zOCUz+4iMxhCvBpiFbNJ+GcRqAHbHFtBQOj4/SPjAddiohIYBTg0xCtWwRoClnQUv3gbeoHF5E5TAE+DbG6ZkCXEQ3agqpSymIRBbiIzGkK8GmI1i6kJGpUlkaDLmVOMzOW1FXQ1q0AF5G5SwE+DdG6RdRVlGKaQha4JXUV9AzHSSY1kE1E5iYF+DTE6prV/10gltR7/eCj44mAKxERCYYCfIoSSUe0plEBXiAaq8oojUYYHdelRUVkblKAT1HfSByLRDWArUBEIkZzXbkCXETmLAX4FKUuYqKzsBWOJXUVjCeS6gcXkTlJAT5Fuoxo4VlSl+oH11G4iMw9CvAp6h6KkxwZpKJEU8gKxcKacsyMMQ1kE5E5SAE+RT3DY4z3HtAUsgISjZgGsonInKUAn6KeoTiJngNBlyEZSmMR4okkLlYedCkiInmlAJ+C8USS/pFxxhXgBaesxPsTTja0BFyJiEh+5SzAzexbZtZpZi+kLbvFzNrM7Bn/66q0x242sx1mts3M3pSrumaid9gbgZ7oVYAXmtJoBDDc/BVBlyIikle5PAK/E7gyy/IvO+fO8r9+AWBmpwHvAk73t/mqmRXMaLEeP8DHe9oDrkQymRmlMSOpABeROSZnAe6cexg4PMXVrwa+55wbdc69DOwAzs1VbdPV7U8hUx94YSqLRXG1Sxgc1fXBRWTuCKIP/BNm9pzfxF7vL1sC7Etbp9VfdhQzu8HMNprZxq6urlzXCngD2CpKorgxXf2qEJXFIhCJ8tSe7qBLERHJm3wH+G3ASuAsoB34p+nuwDl3h3NurXNubWNj42zXl1XPUFwncClgpbEIJBM88fJUG3xERMIvrwHunOtwziWcc0ng67zaTN4GLEtbdam/rCD0DI0pwAuYmWG9+3n85UNBlyIikjd5DXAza067+3YgNUL9PuBdZlZmZiuAVcAT+axtImPjSQbHErqISYGLHHqZZ/f1MhLXWdlEZG6I5WrHZvZfwKXAAjNrBf4GuNTMzgIcsBv4CIBzbrOZ/QB4ERgHPu6cK4h34p5hbwBbvS5iUtDs0MuMJS7h6b09nL9yftDliIjkXM4C3Dn37iyLvznJ+l8AvpCrembqlauQ6Qi8oEUO78YMnnj5sAJcROYEnYntGF4NcB2BFzIbH+HURTXqBxeROUMBfgw9Q2NUlcUoieqlKnTnrmhg095uxnRxExGZA5RKx9AzHKdO/d+hcN6KBkbiSZ5r7Qm6FBGRnFOAH4PmgIfH60/0+r4f3almdBEpfgrwSYzEEwzHNYUsLOorSzmtuYbfKcBFZA5QgE9CA9jC54KV83lqb7fmg4tI0VOAT+KVOeA6Ag+NC06az9h4kk17dV50ESluCvBJdA/FMaCmImfT5WWWnbO8gWjE1A8uIkVPAT6JnqExqstjxCJ6mcKiuryEM5bWqh9cRIqekmkS3gh0NZ+HzQUr5/Psvh4GdH1wESliCvAJOOc0hSykLli5gPGk48nduryoiBQvBfgEhuMJxhJJncQlhNa01FMajagfXESKmgJ8At3+FDKNQA+f8pIoZ7fU8budB4MuRUQkZxTgE+gZ8qaQqQk9nC5YuYDN+/te+T2KiBQbBfgEeobiRAxqyhXgYXTByvk4B4/tUj+4iBQnBfgEeobi1FaUEIlY0KXIDJyxtI6KkiiPqhldRIqUAnwC3cNjmkIWYqWxCOesaNB8cBEpWgrwLFJTyOrV/x1qF6ycz/bOATr7R4IuRURk1inAs+gfHSeRdNRV6Ag8zC5cuQCA3+3QUbiIFB8FeBa6CllxOH1xDfXzSnh4e1fQpYiIzDoFeBapqUeaAx5ukYhx0apGfrP9IM65oMsREZlVCvAsuofixCJGZVk06FLkOF28agFd/aNs6+gPuhQRkVmlAM+iZ2iM+nmlmGkKWdhdvMrrB3/4JTWji0hxUYBn0a2LmBSN5toKTl5YxW+2az64iBQXBXiGRNLRN6IALyYXr2rk8ZcPMxJPBF2KiMisUYBn6BuJ45wGsBWTi1ctYGw8yeMv67SqIlI8FOAZunURk6Jz3or5lMYi/Eb94CJSRBTgGXp0GdGiU1Ea5dzlDeoHF5GiogDP0D00RnksQnmJppAVk4tXLWBbRz8dfTqtqogUBwV4hp6huC5iUoQuXtUIaDqZiBQPBXgGXcSkOK1eVM2CqjI1o4tI0VCAp3HREgZGx3UEXoQiEeOSVQt4ZMdBkkmdVlVEwk8BnsZVzgfQEXiRuvjkBRweHGPz/r6gSxEROW4K8DSu0jvtpo7Ai9PFqxoxg/XbOoMuRUTkuMWCLqCQuCovwGsrdAQeNq379nHK6WdM+PjCpkYeXr+OM5fWsW5rJ396xao8ViciMvsU4Glc5QKqymKUxtQwETaJpOPGW++Z8PHbb7oGgCtWN/FPD7xEZ/8ITdXl+SpPRGTWKanSuMoFOgNbkbvi1IUAbNiq6WQiEm4K8DSuSgFe7E5trmZxbTkPbukIuhQRkeOiAPd1D45BaSX1FRrAVszMjMtPbeKRHQd1dTIRCTUFuO/lQ4OALmIyF1yxeiFDYwldnUxEQk0B7nu5ywtwXcSk+J2/cj7lJRHWqRldREJMAe5LOgeDh6jRFLKiV14S5aKTGlm3pRPndFY2EQknBbjv2rXLKHvoS0QjFnQpkgdXnNpEW88w2zr6gy5FRGRGFOAyJ12+ugmAdVt0VjYRCaecBbiZfcvMOs3shbRlDWb2gJlt92/r/eVmZv9qZjvM7DkzOztXdYkALKwp57VLatUPLiKhlcsj8DuBKzOWfQ5Y55xbBazz7wO8GVjlf90A3JbDukQA7yj86X09HBoYDboUEZFpy1mAO+ceBjLn6VwN3OV/fxfwtrTldzvPY0CdmTXnqjYR8PrBnYN1W9WMLiLhk+8+8IXOuXb/+wPAQv/7JcC+tPVa/WVHMbMbzGyjmW3s6tLpMGXmXrukliV1Fdz/woGgSxERmbbABrE5b/7OtOfwOOfucM6tdc6tbWxszEFlMleYGW9+zSJ+s72L3uF40OWIiExLvgO8I9U07t+m2i7bgGVp6y31l4nk1Jtf20w84TSYTURCJ98Bfh9wvf/99cBP0pa/zx+N/nqgN62pXSRnXresjubacn7xvP7cRCRccnY9cDP7L+BSYIGZtQJ/A3wR+IGZfQjYA7zDX/0XwFXADmAI+ECu6hJJF4kYA1t/y4OHz+TkM8/Bxo8ekb6wqZGH168LoDoRkYnlLMCdc++e4KErsqzrgI/nqhaRyYzsfBKa13DZn9/G6kU1Rz1++03XBFCViMjkdCY2mfOsey+VZVF2dA4EXYqIyJQpwGXOMxwnNVax+9AQY+PJoMsREZkSBbgIsKqpmkTS8fLBwaBLERGZkpz1gYsUktZ9+zjl9DOyP9baRnNdOfNKo2zv7OeURdV5rk5EZPoU4DInJJKOG2+9J+tjN7/9XCJmnNRUxeb9fYyNJymNqXFKRAqb3qVEfKuaqkgkHbsPqRldRAqfAlzEt7iugsrSKNsO9AddiojIMSnARXwRM05ZVM3uQ4MMjyWCLkdEZFIKcJE0qxfVkHSwvVNH4SJS2BTgImkWVJUyv7KUrWpGF5ECpwAXSWNmrF5UTXvvCD1DY0GXIyIyIQW4SIbUPPAtOgoXkQKmABfJUF1ewgkN89jS3od3nR0RkcKjABfJ4vTFNfSPjLOvezjoUkREslKAi2Rx4oJKymIRNu/vDboUEZGsFOAiWcSiEVYvqmZn1yCupDzockREjqIAF5nAaYtrSCQdySWvC7oUEZGjKMBFJtBUXU5TdRmJ5edpMJuIFBwFuMgkzlhai6teyBMvHw66FBGRIyjARSZx8sJqGBvmO4/vDboUEZEjKMBFJlESjRBt3cT9L7TT1T8adDkiIq9QgIscQ2TP48QTju8/qaNwESkcCnCRY4gMdHHxqgXc/egexsaTQZcjIgIowEWm5IMXraCzf5SfP78/6FJERAAFuMiUvGFVIysbK/nmIy9rSpmIFAQFuMgURCLGBy9awQttfZpSJiIFQQEuMkV/8LqlNFSW8rWHdwVdioiIAlxkqipKo3zwwuU8tLVTFzkRkcApwEWm4brzl1NVFuO2DTuDLkVE5jgFuMg01FaUcN35Lfz8+XZ2dQ0EXY6IzGEKcJFp+uCFKyiNRvjKQzuCLkVE5jAFuMg0NVaXcf0Fy/nxM23s6OwPuhwRmaMU4CIzcOMbVlJREuWfH3gp6FJEZI5SgIvMQENlKR+6aAW/eP4AL7RpRLqI5J8CXGSGPnzJidTNK+GLv9yqs7OJSN4pwEVmqKa8hD+9fBWP7DjI+m2dQZcjInOMAlzkOFx3fgsnLqjk73++hXhCVyoTkfxRgIsch5JohL+86lR2dQ3y7Uf3BF2OiMwhCnCR43TFqU1ccnIj//zAS3T0jQRdjojMEQpwkeNkZvzd1acTTyT525++GHQ5IjJHxIIuQKQYtMyv5E8uP4kv/fdLXLO1k8tWNwVdkhS5Sy67go7OrgkfX9jUyMPr1+WxIsk3BbjILLnhkpXc9+x+br73eX510yXUzisJuiQpYh2dXdx46z0TPn77TdfksRoJgprQRWZJaSzCP117FgcHRrnlp5uDLkdEipyOwEVm0WuX1vKJy0/i1ge388bTFnLVa5uDLkkCoiZuybVAAtzMdgP9QAIYd86tNbMG4PvAcmA38A7nXHcQ9Ymka923j1NOP2PCxzPfiD9+2Ums39rJZ3/4HK9ZXMsJ8+flo0wpMGrillwL8gj8MufcwbT7nwPWOee+aGaf8+9/NpjSRF6VSLppvRGXRCN85T1nc9W//oaP/+cm7vno+ZTForkuU0TmmELqA78auMv//i7gbQHWInJcljXM40vXnsnzbb3cct+LOle6iMy6oALcAf9tZk+Z2Q3+soXOuXb/+wPAwmBKE5kdbzp9ER+9dCX/9cRe7vzd7qDLEZEiE1QT+kXOuTYzawIeMLOt6Q8655yZZT1k8QP/BoATTjgh95WKHIfP/N4p7Owc4O9+9iLL51dqfngROdYgtdbWtjxWI3NRIAHunGvzbzvN7EfAuUCHmTU759rNrBnIenkn59wdwB0Aa9euVbukFLRIxPjyO8/iHV97lI99dxPf+fB5rGmpD7osmQXHGqR289vPzWM1MhflvQndQH6PpAAAH7ZJREFUzCrNrDr1PfB7wAvAfcD1/mrXAz/Jd20iuVBZFuPOD5zLwpoyPvAfT7ClvS/okkSkCARxBL4Q+JGZpZ7/P51z95vZk8APzOxDwB7gHQHUJpITjdVlfOfD53HNbY/y3m88znc+dB6nLa4JuizJkfFEkpKFJ/FCWy89w3H6R+IMxxOMjb96ydmxiz7Gtbf/jvmVZSyoLmVBVRmLaspZ2VTFqqYq6uaVBvgTSBjkPcCdc7uAM7MsPwRcke96RPJlaf08vnfD63nP1x/j3V9/jLs/eC5nLqsLuiyZBc45uvpH2XVwkL2Hh+joG2H+tZ9n3dZOomZUlceYVxqlPBYF8zeKDxGNGDu7Bnjs5VF6huJH7HNBVRmnLKri7BPqObulnrOX1ev0vHIEnYlNJI+WL6jk+x85n/d8wwvxf3/v2fzNje/WGbsK1GQD1Vpb2xgcHWfz/j62tPfRMxzHgKaaMs4+oZ4HbvtffOrv/4Wq8hgRs6O2v/3OT/K9b33qlftj40k6+kbY0TnA9s5+tncMsOVAH1/dsJNE0hvuc/LCKi5e1chlpzThIjq3wFynABc5TtM9U9uyhnn88MYL+MCdT/LhuzZiFSv42Je/imV5kwedsStIEw1UOzw4xh13fodv/fZlkg6W1lWwpqWelU1VVJR4wfqzXRupqZj6EXNpLMKyhnksa5h3xGyFobFxnt3Xy6a93Ty26xDffmwP3/x/7d13fFRVFsDx35mZ9EJ6IZQQQu9VilIERcCCiotlbcuKrIKddV3L6qrrqqtYWSuorAsqiKKiFBEQBGnSQgkk0kMKCSQhPbn7xwxsEBICTJjC+X4+fpi8dq+HR868+947d+mvMORxvlq/nxYxwSRFB+Nrc6eyHupc0ASu1Fk63UptADGh/nx6Z2/G/XctP1RdzfwtmQxsFYOPVX8Ju7PDxeX8lJZDamYhfs170DEhjI6NGhAedPr3q+v6xS/Q10bv5pH0bh7J3QOTKSqrYHnaQe548nWygi4iPecIVksWzaKCaBkbTFJUMFbLyb8MKu+iCVwpFwnys/HerT1oee0DbGEw2QWlDOsQT7g+vOR2yiur+Dk9l1/25GERoXvTcL55fBT9p535rY0z+eIHEOhrY1CbWHw2zeYPo28m43AJqZkFpGYWsiOrkAAfK20bhmICI864b8oz6Nd9pVzIahFsqd8zonNDCksqmL5yD9szC1zdLVXNzoNH+M+KXazZnUfruFBu7ZNI3+QoTInr/55EhIZhAQxoFcMfL2zGVZ0a0jDMn7W78ygbNIGb3/+ZRduytJSvl9IrcKXcQNPIIG7o2YQ5mzKYs+kALbMLGdAyhgBffVDJVbILSinvMoov1+0nPNCHkV0bkRAe4Opu1chiERKjgkiMCqKwpIIP3n+H1NDLuW3KKlrHhTCmXxJXdGp47DaNTnfq+TSBK+UmQgN8uK5bY1bvymXlr7nsyS3mYi296hKLtmXx4KfrqYpvzwXNIuieGI7Ncm4HLE91j7y2Uq3B/jZs2xfy44yXmb1+P+8sSeOBT9fzr7nb+NPAZEZ1b6zTnXoBTeBKuRGrRbigWSRJUcHM35LJNxszsHS7gQOHS4hr4O/q7nm98soq/jVvG28vTqdVbAj5Xz9Pr0snuaQvp7pHXpdSrb42CyO7NeKaLgksSs3izR/SePyLTby9OI3Kxt2oqjJY9IE3j6X3wJVyQ9Ehfozq3pjeSZFUxbZh0EuLeHdJOuWVVafeWZ2RPblFXPfWct5enM5NFzThy3F9sRSedEoGj2OxCBe3jmXG2N58cHsPwgN9qeg8kqk/72JHVqHeI/dQmsCVclNWi9CzWQS+i16hZ7MInp2zhWGv/shPaTmu7prX6DdwEK3adSR58I1c9Oy3rEvPwLb6Y2Y8dhOdOnfxuhnFRIQBrWKYPa4vtpUfYRXhm40ZzFy7j8z8Eld3T50mHUJXqp6dzb1MACnKZfJtPViwJYsnZ6dw47s/M7hNLI8Ma03z6GBnd/e8ciAnj5Zj32TTvnziQv25rH0cDS578th6b51RTESwZm7hxp5NSNmfz/L0g0xftYc28SH0bR5FkJ+mBk+gf0tK1TNn3MsUES5pG8tFLaJ4f+mv/HtRGkMmLuGmC5pw7+CWRJxBIZHz3fbMAsovuptN+/Lp1jSc3kmR510BFItF6NCoAS3jglm1M491uw+RlnWEPsmRGM6vWHgiHUJXyoP4+1i5e2AyPzw0gFE9GjN1xS76v/gDby9Oo6S80tXd8wjGGD5dtYcr3liK8QtmROeGXJgcdd4l7+r8bFYuTI7ipl5NiG3gx6Jt2ZRf+Cc27Tvs6q6pWugVuFJurrYheGtwDOWdr+K5byv4aPku7h3Ugmu6JmDTkqwnVVBSzqOzNjF7/X76JkeyatIzNB02xdXdqhdncusmPNCXqzsnkJpZyHdrC7jyjaXc1qcZD1zakmAdVnc7+jeilJurS8nNj79cyPPfbeXPMzfw1uI07rukJZd3iNdXhKrZsPcQ46f9wt68YiYMacXY/s1pO9H11dTqy5neuhERWsWFsPCHl7nub+8z5adfmbMxg2dGtGdw29j66q46A5rAlfICfZOj+PLuvszbnMnL81K5Z9ovTPphBw9e2orBbWJqnOnsfFBZZXhrcRoT56cSE+LHJ2N60T1R64Sfyr707cx47CZsYY3J7HQ1f/yoBMuetdhSvkLKS7RSmxvQBK6Uh/vtUKlBsCV0ZFvLwdxxoICKrHT8dy7FkrkV4cT3fb35F/Ge3CIe+HQdq3bmMbxjPM+OaE+YThZTJ9Wv4CurDCt/zWWVdMUnuQeDWscy95lbXdxDpQlcKQ9X01BpZZVhS0Y+cw9nUdHzFiKDfOmeGE7LmJDjhta9sWSmMYYZa/by1FebEWDiqE6M6JxwXo9EnA2rRejdPJKk6CDmb85k9vr9WDpdy+Hichqcxpznyrn0SRelvJTVIrRPaEDOfx5kSLtYDDA3JZOPVuxi477DVFR5Z1W3nTlH+P37PzNhxgbaNgzl2/su4uoujTR5O0FsqD/X92xMj8Rwqhp3ZcjEJSza5h3V6jyRXoEr5e1MFa3jQmkVG0J6zhFW/prLwq1Z/Jx+kI6NwjC+Qa7uoVOUVVTxzpI0Xlu4Az+rhadHtOemnk30QT4ns1ks9Gkexbx/jUeG3M1tU0qw7PoZW8ocpLIM8O7bMu5EE7hS5wkRoXl0MElRQezOLeKX3YdYnn4QBj/MQ5+t57Y+ibRPaODqbp42YwzzN2fywtxt7MgqZHiHeP52RVtiQnXyl/pUeiCNu67ow4r0XNZwAf6t+nJJ21gahQd65W0Zd6QJXKnzjIjQNDKIppFB5B4p4+Ppn/CNvz8z1uylY6MGjOrRmCs6NSTU3/3vbfa88hay43phIpoihdnYUuaw4KutLPiHfX1m5gFiY+Nq3N/bap2fazarhQtbRJEUHcS8zZnMXLuPzo3CMFb3P3e8gSZwpc5jEUG++Gz8khWTn+DzX/byyao9PDprE09/vZlhHeK5qnMCfZpH4uNGhWGMMSzdkcN7P/5KVttRBPlZ6dUskrbxyViu6nPcto9c3fOsy9iqU2sYFsBNFzRh2Y4c1u09hPS7hzW78ujWNNzVXfNqmsCVUjQI9OH2vs24rU8iG/YeZvqqPXy9fj+fr91HeKAPl7WP5/KO8fRsFuGyZF5UVsHMtfv48Ked7MgqJDLIF+vmb7n1rnFu9QXjfOVjtTCgVQxJ0cHMWpbHdW/9xJ39m3Pf4Bb42ayu7p5X0gSu1HmuppKbxmIjqkV3+lz3J75ct49pK3cT7Gejb3IkA1rF0L9lNA3DAuq1b0VlFSzals13mw6wcGsWhaUVtE8I5aXrOjG8YzydOj+Ij/Weeu2DOj1NIgLxXfwqVz/+Pv9elMbCLVm89LtOHvl8hbvTBK7Uea62kptv3TeS1254h+KySpZsz2bRtmwWb8tibkomAAlhAXRpEkbXJuF0aRJGckwwIWdx77yorIINew+zbs8hVu/MY+mObErKq4gI8mV4h3iu696Ibk3D9ZUwNycVpTw/siND2sfyl5kbGfHmMsZf3IK7BjbX0RIn0gSu3NKvKWvJzdxHVaV9hq3K8jIX9+j8dLKrcwP4BMdQFd2CvPgWrDGd+HpDxrH10SF+JEUFkRQdRGSQH2GBPoQF+hLqb8Ng/8JQXllFWUUVWQWlZBwuJuNQCXvzitmRXUhllb1aXNPIQEZ1b8yQ9nH0TIzQCVo80MWtY5l3fzh/m53CxAWpLNiSyb+u60SruBBXd80raAJXbufj5ydwMGMPDZNaY7Ha752ZKp0q0xXqMpHK8nc3kHG4mA17D5OWXUh69hHSswuZl5JJXlEZVSdWbz1OWKAP8Q0CaBwRwJB2sXRuEkbnxuE6x7mXCAv05dXru3BZuzge/WITw1/7kTH9khh/cQsCfPXe+NnQBK7czp7UTTz83pzjhklXLfjKhT1SpxLfIID4BifeD6+qMhSUVnC4qJzDxeWI2B92sloEX6uFqBBfAn3119D5YGgH+0OQ/5izlUmL0vh6QwZPj2hP/5bRru6ax9J/OcrtxCe2oCA3m9DIGFd3RZ0li0VoEOBzxvWy+w0cRGZWdo3r9T1uzxIZ7MdLv+vEyG6NePSLjdw6eSXDO8Tzl6GtaRwR6OrueRxN4MrtFObn8fwdw2nSqiM2H/sv/vKSIy7ulTqZmp5gP+pUJTXrkqCfmbG8xvX6Hrd7qst5MX/+PN5enM6kRTuYvyWTMRcl8acBzQny07RUVxopL1B4KJclsz6korSY7H07iU5IrLe2ystKWfP9bMpLS+h68eUEhTq/UMOQm8efsCx13co67380HuVlpfS5/Pp6jcf57lT3yB+79oJaf5FrgvZOdXl2ws9m5Z5BLRjZrREvfLeVN37Ywaer9/DQpa24pmuCPrRYB5rAvcDsd/5Jr6G/Y/GsqfznuQe5/42Z9dbWrEnP0qxdV2w+vkx+8m7Gv/xfp7eR3PHEX9oWa91P1aPxQKj3eKjaneoXuSZo1TAsgFeu78ItfRL5+1eb+fPMDby1OI37L2nJ8A7xOhlNLTSBe6C3HxnN4BvG0rxjDwAqyssJj01AxEKFk1+3GrdrB+337z72c3HBITr1uwyAhZ+869S2jtq5ZR2z3nyazN3pVFaUU1VViall6svfp2899roZVI+HOD0eSqn60bVJOLPu6sPclExenr+N8dN+YdKiNO4b3IJL2sRqIj8JTeAe6JbHXmH+x5P46etpDL3tPobedi/fTH6JirJirh3/N6e2NSGuEfd8+CoVpcUUF+YzYORopjx1NxVlZQy5eZxT2zrq8zf+zs1/nchHz9zL/W/MZPWCL/jstadq3H5S02Q6pW5i6j8eOC4e5WWlTo+HUursneoeeUxMDK+8/CETF6Ry59Q1JMcEc2e/JK7qnICvTYfWj9IE7oECgkK4cszDHMzYw5wpEwmNjOHacU+Q8vMSktp3d2pbTf38ufmRl3h4eVc+evZ+2vTszx1Pv3Ps/ez6Ep3QlKqqSixWKz2HXMsnEx+rcdtQqw2bbwDDbr//uHgEBIfWax+VUmemLs9OPPz7oRixYGvYgbTm/ZmQVciEqUuwpv9EXPFOli345hz22D1pAvdAOft389PX07DafLjyzoc5uH8PHz17PxXlpVRVVjo1uR6qqGDp7I8xVVXc+tirbFq+gLf/Opp+I26hXe+LndZOdb5+AVSUl5HQvA1fvfsCoRG1v062s7SEitJiVnz72XHxaNOzPxdeeVO9f9lQSjnXbxO8MYZdB4tYvSuAfQHD2FtRRtKNT2HduQLL4RNfJTzV2w/eQsciPNDU5x6gQ99LSO50Af99/s8kdejOnc+9jyC8/cgfnNrWHbu2ExBkL3v48QsT6D54BKP//hZ70zbz3uNjndrWUTc+/ALGGK65+wl8/QM5lJ2Bj1/N74iO352GxeZzQjwCgkOdHg+l1LknIiRGBTGyWyNu7NmE4i1LsDbrQXm/cTS48WV6Pfget7wwnbGvzGDsKzNqfTXRm+gVuAeqKC8jMq4RpSVFlJWWHFtu9fFl9NNvO7WtvIoKOl10GZ+9/jSHc+wTWPj6+TPk9+PIP5jl1LaOiohNoKy0hPzcrGP32VfMnVXj9mWmChEbEXEJx8WjxyUjjj1wp5TyDtEhfuQvnsID48awNaOAlIx8Fqdm8+P2bBIjg2gdF4KxnvmEOp5EE7gHGjn+SWa++TQ2mw8j7zn+4S5fP3+ntvVgXAIvPDqa8pIjXD76oePW1VeltJTlC5n97vNUlpfz2NSF7EvbUmshl2cTEhm5czvfffhavcdDKeUe/GxWOjUOo1PjMHIKS9maUcDWA/mk5xyBIY8z5qPVDO0Qx8WtY8+4EqC70wTugZq160qzdl3PSVtDG0Rw5MWpPHJ1T1p27XNO2pw79Q3ue30Gkx66GYCE5m1qfY2se1AIPv5B3PzXl89J/5RS7iUq2I8LW/jRJzmS/YeKmTXzM9aHBzNvcyZWi9CtSTj9W0XTv2U0beNDveaVNE3gHmjLqiW06dEPgOIjBXz51nPsSd1IeUkRBXk5hIRHOa2t/MoKvn7/JcqKCnj02p4IQnBYBO37DGLQqDH18qS3xWY7dt+9LhYVHDr2uXo84hJbMmLsI06Nh1LKfVlEaBQeiM+mr1g+7RnW7T3E91syWZyazYtzt/Hi3G1EBvnSPTGcHokRdE+MoF3DUI+do1wTuAeaM2XisQQ+++1/EhoRzei/v8Vzo4fx2StP8IenJjmtrbt27SCk10B8/IN4dqa9nGl+bjar5s/iw2fuY+w/JzutraPimiazZuFXVFVVkr1vJz9+MRWppRLbCxl7wXHPq3o8Ni6d7/R4KKU8g8UidG0STtcm4UwY0pqsghJ+TM1hWVoOq3fmMTfF/kyPv4+FLo3D6dY0nPYJobSNb0Cj8ACPuErXBO7h9qRu4qG3vgTA5uNHbqZzZ2faW1bGuFFjWDD9vWPLQiOiGTRqDCvn1k+J0mvufpwF097C5uPL1H88QOvuF2Hzrdu97Orx6H/tbayaX/PDb0qp80dMiD/XdmvEtd0aAZCZX8LqnXms2pnL6l25TFq049jc9SF+NtrEh9K2YSit40JIjgkmKTrY7eao1wTugQoPHWTRjCmAoaSoEGPMsbmzjan5XvGZSPD1ZeGn7x533IK8HFbO+5yw6HintnWUr7+9KMuw2+8/tuzH2dNq3D6nspyKqioWzZhc7/FQSnmH2FB/hneMZ3hH+++xkvJKUjML2Lw/n80Z+Wzen89nq/dwpOz/ZZrDAn1Iigpi25qllOTsRYpykaI8pCgPyo4gnNt30N0ugYvIZcCrgBV4zxjzTxd3ye30Gvo7SovtT2X3uORqjhzOIzgsAlNVRULzNk5t680mydybf4jy4iM8ek0PECEkLJJ2vS/mlkdfcWpb7z9R83vltT2FfkNEDK/l5lBaXHRcPPJzs50eD6WU+ztVqdbMzAPExsadcr1B8A0Moyo4GhMUTX5wNL8ER1ERmIC1Tfvj9vGxCiH+PuxN38CWjHzaxNd/JUi3SuAiYgXeBC4B9gKrRGS2MWaza3vmXobcPI7M3WkcPphF09Yd8QsIAkAsFroMvNypbYXZbFzxxwn89M1nPPv5StI3rmb3tg3EJ7YkKDTMqW3t3LKOsOh4ugwYTtPWnTCYY+tqm060gdWK1eZ7Qm320IhobvzzC07to1LK/dVlFryzXf/UZyvILyknv7ic/JIKx5/l5PqHIufo9rm7PXrXE9hhjEk3xpQB04GrXNwnt/PjF1OZ/ORdLP1iKi+MuYJNPy04tm7OlIlObeuK7SnHPq/49jNmTXqG0uIi5v7nDb6f/o5T23pq+jKG3X4/B3Zu54t/P0vqmmUEh4aT3LFnrdOJvnRgH2Ulhbz+wI0sm/0xhYdyndovpZT6LV+bhahgP5Kig+ncOIx+LaO5vGNDfJe8Tuu4czMPgxhjTr3VOSIiI4HLjDF/dPx8M3CBMWZctW3GAGMcP7YCttXx8FFAjhO760ptga1AFeALNAcOAlmOdc4csah+vDbAdqAC+5e/1qdo62xiLkAE0AjYD9RWG/FoH0OBcCAMKAJygTzscTofeNM57ik05ufe+RjzHGPMCWUl3WoIvS6MMe8Ap33pJyKrjTHOnarLRUQkxRjTtdrPwcAM7EnM5sz/TxFZj/2WhgWYW/3YIvJLbW2dScxFxA8YDtyAPfFOBiYbY2p8vF5E1v6mXz7AUMcxBhtjok+nD57Km85xT6ExP/c05v/nbgl8H9C42s+NHMvU8TJFpLMxZh2AMaZQRC7Hnuw6OLmtBsAa7FfERkTijTEZji8NTr3TIyIfAe2BOcBTxphNdd21+g/GmHJgNjBbRGqeBUUppTyYuyXwVUALEWmGPXFfD9zo2i65pVuwD2MfY4ypAG4REafOZmKMSaxhVRVwtTPbAn4PHAHuBe6R/z8JIvaumJpuLI2q6YDGmCKn9lAppdyEWyVwY0yFiIwD5mJ/jWyyMSblFLvVlXOfuHIhY8zeWtYtO0d9KAJ+PcVmpxVzY8wZPVRpjEk9k/28kNec4x5EY37uacwd3OohNqWUUkrVjbu9RqaUUkqpOtAErpRSSnkgr0zgIrJTRDaKyDoRWe1YFiEi80Vku+PPcFf305OJyGQRyRKRTdWWnTTGYveaiOwQkQ0icm4mM/cyNcT8SRHZ5zjX14nIsGrrHnHEfJuIDHFNrz2biDQWkR9EZLOIpIjIvY7leq7Xg1riref5SXhlAncYaIzpXO19wb8A3xtjWgDfO35WZ+4D4LeFBWqK8VCgheO/McC/z1Efvc0HnBhzgImOc72zMWYOgIi0xf4WRzvHPpMcpYrV6akAHjTGtAV6AXc7Yqvnev2oKd6g5/kJvDmB/9ZVwIeOzx8CI1zYF49njFmCvdJZdTXF+CrgI2O3AggTkfqZysyL1RDzmlwFTDfGlBpjfgV2YC9VrE6DMSbDGLPW8bkA2AIkoOd6vagl3jU5r89zb03gBpgnImscpVcBYo0xGY7PB4BY13TNq9UU4wRgT7Xt9lL7P0p1esY5hmsnV7s1pDF3MhFJBLoAP6Pner37TbxBz/MTeGsCv9BRanQo9iGYftVXGvu7c/r+XD3SGJ8z/8ZeC78zkAG85NrueCdH5cGZwH3GmPzq6/Rcd76TxFvP85PwygR+tG62MSYLmIV9SCXz6FCW488s1/XQa9UUYy2RW0+MMZnGmEpjTBXwLv8fPtSYO4mjtv5M4GNjzOeOxXqu15OTxVvP85PzugQuIkEiEnL0M3ApsAl7bexbHZvdCnzpmh56tZpiPBt7mVcRkV7A4WrDj+os/Ob+6tXYz3Wwx/x6EfFzlCZuAdQ8qbo6KbHX830f2GKMebnaKj3X60FN8dbz/OTcqpSqk8QCsxx1tG3Af40x34nIKuBTERkN7AJ+58I+ejwRmQYMAKJEZC/wN+CfnDzGc4Bh2B8wKQJuP+cd9gI1xHyAiHTGPoS7E7gTwBiTIiKfYp+hrgK42xhT6Yp+e7i+wM3ARhFZ51j2V/Rcry81xfsGPc9PpKVUlVJKKQ/kdUPoSiml1PlAE7hSSinlgTSBK6WUUh5IE7hSSinlgTSBK6WUUh5IE7hSSinlgTSBK3WeEZEBIvK1q/tRnYgkVp8m1V2PqZQ70QSulFJKeSBN4Eq5mIh84Zg5L0VExojIWBF5sdr620TkDcfnx0Vkm4gsFZFpIvJQLcft4Zi9aZ2IvHiyq1ERebL6MURkk2MWKETkFsf+60VkqmNZoogsdCz/XkSaOJZf59h3vYgscSyzOtpd5dj+zjrG46T7ich0ERlebbsPRGTkmbajlKfTBK6U6/3BGNMN6A7cg30CnqurrR8FTBeRHsC1QCfsM+11P8VxpwB3GmM6A6dVXlJE2gGPARcbYzoB9zpWvQ58aIzpCHwMvOZY/gQwxLHtlY5lo7HXAu8B9ADucNSrPpWa9vsER8lSEfEFBgHfnEU7Snk0TeBKud49IrIeWIF9ZqVmQLqI9BKRSKA1sAx7negvjTElxpgC4KuaDigiYUCIMWa5Y9F/T7NPFwOfGWNyAIwxuY7lvasdaypwoePzMuADEbkDsDqWXYp9Yo912Od0jsQ+2cSp1LTft8BAEfHD/gVmiTGm+CzaUcqjeeNkJkp5DBEZAAwGehtjikRkEeAPTMd+tbkVmGWMMY4JepytguO/yPufyUGMMWNF5AJgOLBGRLoBAow3xsw9zcPVuJ8jPkNwjErUtv3RWwFKeSu9AlfKtRoAeY7k3Rro5Vg+C7gKuIH/J6plwBUi4i8iwcDlNR3UGHMIKHAkVYDra9h0J9AVQES6Yr/6B1gIXOcYAUBEIhzLf6p2rJuAHx3rmxtjfjbGPAFkYx9JmAv8SezzOyMiLcU+xe+p1LbfJ9hn+LoI+K4O2yvltfQKXCnX+g4YKyJbgG3Yh9ExxuQ5lrU1xqx0LFslIrOBDUAmsBE4XMuxRwPvikgVsLiGbWdiH35OwT78nOpoK0VEngUWi0gl8AtwGzAemCIiE7An6qPTZb4oIi2wXw1/D6x39DMRWCv24YNsYEQdYvJeLfvNwz50/6UxpqwO2yvltXQ6UaU8iIgEG2MKRSQQWAKMMcasrW1bx+e/APHGmHtPtq1SyvPoFbhSnuUdEWmL/V71hzUlb4fhIvII9n/nu7BfQSulvIRegSvl4UTkTexPqFf3qjFmiiv6UxsR6YB9CLy6UmPMBSfbXilVM03gSimllAfSp9CVUkopD6QJXCmllPJAmsCVUkopD6QJXCmllPJA/wO251dcU8H+9wAAAABJRU5ErkJggg==\n"
          },
          "metadata": {
            "needs_background": "light"
          }
        }
      ]
    },
    {
      "cell_type": "code",
      "source": [
        "fig, ax = plt.subplots(figsize=def_fig_size)\n",
        "sns.histplot(data=stroke_df, x=\"avg_glucose_level\", hue=\"stroke\", ax=ax)\n",
        "plt.title(\"Avg Glucose Level Distribution by Stroke Status\", size = def_title_size)"
      ],
      "metadata": {
        "colab": {
          "base_uri": "https://localhost:8080/",
          "height": 481
        },
        "id": "fMdoX7By_zl5",
        "outputId": "0f4da38a-2270-4eeb-e9d1-cbf65eb70279"
      },
      "execution_count": 24,
      "outputs": [
        {
          "output_type": "execute_result",
          "data": {
            "text/plain": [
              "Text(0.5, 1.0, 'Avg Glucose Level Distribution by Stroke Status')"
            ]
          },
          "metadata": {},
          "execution_count": 24
        },
        {
          "output_type": "display_data",
          "data": {
            "text/plain": [
              "<Figure size 504x504 with 1 Axes>"
            ],
            "image/png": "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\n"
          },
          "metadata": {
            "needs_background": "light"
          }
        }
      ]
    },
    {
      "cell_type": "code",
      "source": [
        "plot_continuous_variable_stroke_ratio(stroke_df, \"avg_glucose_level\", 10, \"The ratio of peope having had a stroke,\\ncategorized by their Average Glucose Level\", 70)"
      ],
      "metadata": {
        "colab": {
          "base_uri": "https://localhost:8080/",
          "height": 565
        },
        "id": "_rPudfBJ_-yq",
        "outputId": "1b92a6ed-cfdc-4010-e29c-1a02f972d527"
      },
      "execution_count": 25,
      "outputs": [
        {
          "output_type": "display_data",
          "data": {
            "text/plain": [
              "<Figure size 504x504 with 1 Axes>"
            ],
            "image/png": "iVBORw0KGgoAAAANSUhEUgAAAckAAAIkCAYAAAB1DdCwAAAABHNCSVQICAgIfAhkiAAAAAlwSFlzAAALEgAACxIB0t1+/AAAADh0RVh0U29mdHdhcmUAbWF0cGxvdGxpYiB2ZXJzaW9uMy4yLjIsIGh0dHA6Ly9tYXRwbG90bGliLm9yZy+WH4yJAAAgAElEQVR4nOzdd7wdVbn/8c+TBkhJKKGFhFDFKEUMTRLpCD9LLBRRFGxcxXgR9CpIMaCAAlf0XoNXFAhShAgiKChKMEgLJgREQjNigNAhCSGUhCTP749n7WQyZ9Y5e5+2N+T7fr3O65yzZs3MmvrMrFmzxtwdERERaatPswsgIiLSqhQkRUREMhQkRUREMhQkRUREMhQkRUREMhQkRUREMt7UQdLMJpvZSvMOi5lNMDM3s+HNLkuNmfU3s1PN7J9mtjCV7yPNLtebjZnNMrNZzS5HUYuWaVzax/Zs0vyHp/lPaMb8W9FbfZ20RJBMK7iRnyObXeae0OwTQCd9HTgFeAo4BzgVeKipJRJZib3Vg1Zv69fsAiSnVqR9DRgI/BiYVxp2b4+XqDWdAHwfeLLZBSn4ILAA2M/dFzW7MNKt9ml2AUSarSWCpLuPK6elu8WBwI/cfVYvF6klufvTwNPNLkfJxsCLCpBvPe7+r2aXQaTZWqK6tavMrJ+ZfbvwXOwJM/uBmQ3I5N8mPd97wswWmdmzZna5mb29gXnumao0xpnZzmZ2vZnNKT4zNLO9zOx8M3vAzOab2Wtmdr+ZfcfMVi1NbxbwnfTvX4rVy4U82WeSZnaImf3VzF5K8/mHmZ1gZqvUu0xpOgPN7Ewze9jMXjezuWZ2o5ntW8o3IZVtM2DTQnln1TGPySnvKmb2PTP7d9pu/0rrplu2m5ltZGbj07O1RWb2vJn9xszeU5H3yFpVvpl9wMzuMLNX0vJfZWZbZebxtrSe7035F5jZnWZ2WEfrITO91c3sbDN7PK2TmWb2LTOzTJmvNrNH0zafb2a3m9nhFXkfSutgvcx8v5WWf2whrc0zydJ62itty5fTvK83s3dkpr91KuvctJ7uSOt52fQ6sa4OMrO/mdmr6di7wsyGVOR7j5n92Mz+nvK9bnGu+G8zWzsz7TXN7IdmNjvlf8jMjqPBc6aZDTCzsWZ2g5k9lrbpHDO7ycwObHBaa5rZyRbnkPlpvf/LzK6s7dNmNg74dxrlCKt4TGX1nbtWMbPjLc4jr6b53WpmhzRQ3j5pvXs67lYrDHt/Wicv2PJj/2wzG9TIOukV7t6SP8AswIHh7eSZnPJMJO6wLgR+BDyS0i+qGOcA4FXgDeA3wFnA5cDrwEvAjnWWb880jxuBhcAk4pncBGDjlOePaTkuB84G/heYnsb7C9C3ML2vFZZnAjCu9lPIM6FqnQBnpPTngZ+med2f0iYDA+pcpkHAjDTe34iq3V8A84GlwH8U8n4klW9e+qmV92t1zKe2nNcSzzL/B/hvYGZK/x1gXdluRPB+Mk1vEnAmcGnaVguBD5byH5nyXpfmMTGt1xtS+ovA2yvWV2173p227/jCcnyvwf39SeA24FHgZ2latWX4TsU4rwHT0n5xJnA+MDvl/24p7wkp/auZ+T+Q1ss6pTLNyqynq9J6ui7tb9en9OeA9UrjbAPMScN/n9brFcAi4Lcp/cg619M4lh/zr6ffZwN/TekPAquUxvk/4NmU97+Bcwv5HwDWLOVfhdj/nXi084O0PeYS+6wDE+os74bAEuBW4lg6M22vF9N0vlDndAy4PY1zB/BDlh8DTwNjC+elHxXKPq7ws0M95y5gAMuP0QfT+h2f1qEDZ5TKNry8ToBVgatT+k+APoVh32H5MXVxmv6NKW0GsFa9x01v/DS9AO3sFLOoP0jezYoH9+rEiWoJsGEhfe20o78AjChN613Es7XpdZavtqM5heBRyrM5pZN9Sv9uGu/QUvq4lL5nZnoTyusE2C2lPV5a1n5EsHHg23Uu089S/p8Vyw1sRQSiheXtQcWJtI751LbbI8DahfRVgTvTsE93ZbsVDroTS+nvBRanA3SNQvqRhe1ZDqDHpPRJme3xzVL6qsQF0lLSiamB/f0GYLVC+vosvxDpXxpni4rpDCBOem8AQwrpm6TjYVrFODuleV/d0bYtrKfFwD6lYWdm1seklP7lUvqBhXV+ZJ3raVzKPx/YtjTs8jTskFL6phQuSAvpn0/5v1VK/3ZtfbDiyX0zlgf7CXWWdxVgk4r0gcSF7Jzi9m5nOtum+V5TMawPKx5Hw9srIx2cu1h+QXUD0K+0L9b20/fm5gesQ1zsLa1Yt3uxPNAPyuxb59azbnvrp+kFaGenqG2M4e3kmZzy7Fsx7FRKJzyWn+y+kpneuWn4iDrKV9vR7unEsq2Txr2wlF47AeyZGW9CeZ0AP09pR1Xk35o4MT5aR5kGAK8AL1O44CgMrwX2Uyq206wGl7+23T5dMay2Xv/S2e1GBAQHHqMUWNLwS9LwzxTSagfopIr8fVl+d7hpSluXCBRTM2XaPuU/q8H9fcuKYRenYe+qc1ofKy9fSv9TSn9nKf0nKf3DHW3bwnq6tGK+m6VhVxXShqa0f1IIOIXhf6ZzQbLNXTrLT8Dn1DktIy7+bi6l/zMdN1UXIbX5T2hkn8/M/7g0rffVkbcWJC+vI+/w9spIB+eutPxLgW0qhtUuLC6smh9xQfIgUUvwqYrxr6naBwvD7wGe6+q67c6flmi40w2mVaQ9kX4Xnznsln5vn+ruy7ZOv99BVMPU42+5AWa2OnGC/2ia9prEgVnT5vlJJ+yYft9cHuDuj5jZbGAzMxvo7i+1M523A28Dbnf3ORXDbwZOAt7d1QIX3FKRdhtxgirOp9HtVhv3Vnd/oyL/zcDhKd8vOyqTuy8xs9uALdI4jxF3X30Bz5Spf6FM9XrJ3WdWpFfty5jZMOBbRCvUYcBqpfHK+9cEYD/gCOCbaRoDgMOIatIbGihrvcfcDun3ne6+tGKc24B9K9K7a/6YWX/gP4BPACOIu7jis8UhhbxrAlsCT3h1w6XJLG87UBczeyfwX8D7gI2Imoaies4DDxDVp4eZ2aZEte9tRM1AZxvNtTl3FZb/SXevepWrdp6pOg+8nagJWh040N0nVeTZjajlONjMDq4YPgAYbGbruvuLdSxDj3tLBEl3L78iAnGVD3Eiq1k3/f5iB5Nco4HZP1OVmA7Mm4GdiWqVK4lnhrWT9neIqpiuGph+51q9Pk2cQAcRV81dmQ5pOt3l2XKCuy82sxeIqp2aRrdbV5alTZmS2nauTbtWpp3ST0dlqkfVfgwV+7KZbU6c5NYmnnf9idi+S4gr+yNou39dQ1RTHm5mJ7j7EuIVnnWIVuSLqV+bsqZtt0I5Wb6+cus1l97w/Kk+5iGOvY8Sz3qvJbblwjTsa6y4njoqb+XxnmNmuxLngX5EtfN1LH/GvwMwhjrOA+lCbW/ineSDiOekAC+b2cXACe6+oJGyUb0sXTl2tib2pXuJZ/VV1iXWRUcXGmsQj0Sa7i0RJBtQCxLbu/t93TRNz6SPIQLkBHf/bHGAmW1Eg1ej7agt04ZA1ZXvRqV89UynSr3TacQGxLPUZcysH7AecSIpl63e7daVZdkgM05tWi+Vfp/r7sfVUabudhxxwvmsu08oDrBoWXtEeQR3f83MJgJfIO4o/1jId3EPlbO2HXPrNZfeLcxsJBEgbyLubhYXhvUh3VEX1LZrR/tBvU4i7vD3cvfJpbKdQJwn6uLuc4FjgWPNbEtgD+IOeSwRtD7dYNmqzl1dOXZ+BzxMNMyaZGb7VdwNvkRUu6/TYFmb5i3xCkgDpqTfo3thXlum37+pGLZHZpwl6Xf5Srg996Tfe5YHpANpE+DfmbvtooeJ1qPbZ5ph75V+564QO6NqPYwilv+eQlqj26027qgUdMvaW5Y2ZTKzvqlcxWn/jbgb6I19qUpt/7q6Ylhu/4KocoV4PWAw0XjmPnfvqQ46atPdLQWlslEVad2ptp6uq7hT3plSFbW7v0w8fx5iZltUTG/PTsx/TjlAJu1tp3a5+0x3vyBNYwErBtvOnEdq032ZuNgeYtWvPbV7HnD3M4lA/m5gspmVLzamAGunKug3hZUtSF5EVNN8x8x2Lg9M7/Xs2U3zmpV+rzC9VE32g3LmpHbVNayB+VyYfp+UTnq1+fQlmnX3AS7oaCLpucZlxHPT75bKvAXwn0RV8SUNlK0jJxffU7N4d/TM9O9FhXwNbTd3n000CBlOVKcV8+4CfJJoLXtNRZn2NrMPltLGEs8j/+Luj6V5PEesr5Hp3bU2JyQz28LMNquYR3eYlX7vWZrn+4k7xUrufjvRMGMM8CXi2emEnihgmt/jxHO8LYm7nmXM7AA69zyyEbPS7z1L816feK2hykXEcfODYmBP2/I/OzH/dcxsu9L8Pw+8v96JmNlm6dxRtjZRXftaIW0ucZfYyHmk6EKi7cTZxf3a4h3bkwt5Krn7j4AvA+8EbjGzjQuDz02/f15Kr81j9VRFXUyrvUs7oTML01UrVXWru79oZgcRJ8cpZjaJ5e8FDiUeKq9L2wfrnfE74or0ODPblrgDGUY8A7qe6h34L8TdyZlm9i5iZ8fdv9fOMt1hZmcR1Ub3m9lVRCvVA4nXI24j3kOqx/HEndFYM9splWc94BAieI5193/XOa16PAjMSGV+gzhxb0Gsn2XBuJPb7UvEe2Vnm9n+REOPocDBxDr+bLpqLvsdcI2ZXUNsvx2IdTkHOLqUdyzxesxpwKdT455niXfN3kE8qzyM5S93d6fzgM8Cv07r7yliex9AvA94aDvj/pK4EDqZeI53WQ+Ur+grxLY4z8z+H3Af8XrUx4lnhGOIbdITpqZ5f8zM7iCOhw2Ibfowsd7K/pt4D/jjwHQzu5GozjyEeL/yww3M/0dEMLwtVXW/BIwk7qCvIp4v1mN74DdmNpU4bp4CBhPrrj+FC293X2BmdwGjzewy4lWrJcTddD2PK84h1s8Y4O9mdgPRqO9goq3AWe5+W3sTcPf/M7PXiQv0v5rZ3u7+uLtPMrPjiYvhf6Zp/5t4BrkpcWd8G7Ef19QuVBp5Zt59mt28NvdDA6+AZIYdSaZpOXGH8RPiivp14rnJQ8SJ+SN1lm/PNP1x7eQZSpyAniSu9GYQwaxfGndyxTiHE1VUr6U8Xhg2IbdOiJZ7txGvcLye5nUisGqD630QccD9k2jcMI+4K9u/ne00q8F5TE7LsQrwPeIgWUg0rPgOpZfBO7vdiFaDPyVaoy4i3rP8LbBTe/sLcSFzJ3GxMY+o0tw6U6YBRLC8g+Xvkj5ONNL4GrBuA/t75Xok82oQ8c7nzcTF1Mtp+3+ko32TuEBbkvL8rpEy0c5xlYbn9uttiEcP89J6vRP4APCNNE69x13luijsH21efSAak5yXlud1ojrxDOLEX7negbWIF/afTOM8RHTmv3nVPDoo8weJasaX0/L/iWjp2u66LE1jk1Tm21ne8Gg28AfiWWs5/5bEBd+LxAXIsvl0tH+kPKsS74veT5yLavvXYfWu9zTsMOICeBaweSF9FHEx9xRxbD5PnPd+CIwsTaP2ilebV/1648dSIUR6jZlNBvZw9zZdrTWLRZddF1HREEZ6TrrT+STxTt7DzS6PtB4zmw684e67NGP+K1V1q4j0vvRcb313f6aUvg9RLfyAAqRUMbOBRFXzx5tVBgVJEelpA4AnzOwvRLXlYqJRx35EVdtXmlg2aWEeHaA03Eq3OylIikhPe4PoZHxvYBfiWeALwK+B77v7Pe2MK9JUeiYpIiKSsbK9JykiIlI3BUkREZEMBcleZGbDm9lzRJnFl8m93l6GzGyCFb5e3krMbLKZ9eizg1ZefukZZjbLzGY1uxzSvRrZri0bJHvjpCdvHitDgDKzP6dlfKKqmzvpGjPby8wuNrNHzOxlM1tkZs+Y2SQzO97MNml2Gd8sChf8s5pdlp7WskHyLepJoruyE5pdEOmUE4jt92R3Tzj1y7kP0bPIJkS3YNINzGyt1M3gzUQPMI8T3aWdTXy6al2im7R/mVl3fi9V3gL0Ckgv8vgAcNWHTOVNwN2fJv+dva76ItGp9PeJPnSPAn7fQ/NaaaQ78quJjtRvAT7t7k9U5BtB9MG7Vu+WUFpeV/u1Iz43cyVxdb2QOIn8CTiklO9IYmd9lOgLcD7RD+HhmX4Aq34ml/JuQvTl+Wia94vElWGbvjlT/o2IrseeS2W4l/ie3p5k+jIkOrD+ZVq+RURfg78EtqrIOy5NZ0+iq627iM/YzMr1ccjy/hvb+xlems8uROfIz6QyPQH8DNg4s9zvIb4d+HJa7zcRnYIvK2+d23pCyr858T3Dh4h+LWcT/SuuVcjbN5VrPrBGZnr/m6Z3UAfzza2XWYU8k1NaP6LPyVrfs08QfdEOyEx7m7RcT6R1+SxwOfD2dpZ/eCFt2TYlPjp7Zdq/ljawXvsRx81LxKebphEv3A8p5FmV6PfzOaBfZjo/TWX5YDcs4+bAV4nOyF8jHXss76v2BqJP3IVE5++17zXmlvH9xPH+Ssr/20K5cv0RN7SfZ+b7mTT9R4DV69kWpf9n0bb/2nE02H9sGvY24Ftp+75MnBseBP4H2KDiXDU+zb/Wt+lvgPdUTHcA8XWS6UQ/vq+m8a6lor/TRvaHdtZTbTln1Zm/H/GBgCnEOeFV4qMPY4nvS9by7Zqme00703ow7XfrVOxjNxDv4C4k+ug9GxhUMY022zU7v3pXSqawXyQO5oXEi8FnAL8ggs/kUt7X0s4xgajaOJ84uTrw3UK+QWknnJWGjSv8HFnIt2NaGUuJTn7PSdOel8rz/0rzX78wzVtSGS4iDtpravMqjbMTceJaShzUZ6QddWlK36mUf1yazu+I4PFr4s7gp7kDiPjKxLiKn3PTfJYAGxbyfy6t81eAXwFnpfIvIQL4sFKZ3kvskIuJDoXPSDvSwrTeOhMkryUOxp8RAejelD6NQofqxFfUHfhixbRWS9N4GujfwXzHFebxo8I6+lohz+Q0fGKa5oUp7yMp/aKK6R6Q1s0babueRZwsXk/bd8fM8g+vOFncmpbnrrTt/q88fjvL97E0jfPT/2PT/yeX8v0spX+oYhqrEMHnGQon+i4s4++IY+kyYh8+PQ3fMO1rtxLH+plpnBfTeF+oKNsniH35VZYf/7ek9VXbbsNL4zS0n7ezbm/N7YN1jj+LbgiSxCetavvwQ8CPiRP4b4iAuWch72bERbkTHeWfCVxKHLMLaXsRdHnK+4803e8TF/KPAud0ZZ9vZ73UlnNWHXn7ExfptWX/P+LY/HtKu6SU/6G0nG0+DkDclDlwVSn9Oyn9ReID4mcDN6a0GRQu4HPbNVv+zuw4aSYj0oqeA7yzYvgmpf+3qMgzIO0Eb1C4ak7DJpP/wkc/4jNGrxMdZReHbZx2sKcpfE2CeAbhwA9K+bdPG2SFIElUfT2Y0j9VGufQwgYvXgWNS+mvAO+u9wDK7FQ3pbzHFNK3Jq78Zlasr32IE8g1pWV4KE1nTCn/MSy/I2tzsGfKNSHlfwHYtJDeh6glWOHETlwNvwFMq5jWkSn/6Q3Oe3hm+OQ0/G4KV5jA6ml9lS821iZO0i8AI0rTehdxlT+9ozKwYs3HGZ08lmonkN3S/+ukfXJWaf/ajYoTRBp2cBr23920jE8Cm1XMZxVKx3ZKH0h8MWIOsFohfc1UhoXA9qVxvl9Yd8V12tB+3s567Zem41Scf+rcNrPoniBZC2Q/LW7TNGwNYGDh/9rJ/cRSvvcSFw4vkmpn0npfSlyg9q0oz7qFvxveH9pZL7XlnFVH3tr6+t9iGYnaptp5eUwh/YSUNrZiWuMpXSgSH4J24ks8g0r5j0zDzu1ou2bL35kdJ82kVlV2bGenkaZTu4r+TCl9MvkgOSaNc3ZmeC0A/L/0/wDi6mkesGZF/p/TNkjuXlvxmXnUrlDfV7EznJsZp/IAqsh3Ycr3P6X02idjPpAZ75p0EK1ZWoZbKvL2JU5CnQmSJ1cM25w4ef27lP7rNM57Sul3pvzDG5x3ZX6WB8mq6qVTKVVDFvaRr2SmV1vXI9orQ2GbPkPmE18dLNemaT08VEq/Kk33wFL6w1RXNf0+5d+um5bxmE4sy3EVx8ThKe3CivxrsPwDwcMrylXXft5OedZneRBu88k44rHIuNLPR0p5ZtHFIJnKUbsDbrfKl3iE5ERVdpsaFuKzcMvOl8QzVCeqsq2DaTe8P7QzrdpyzuogXx8iqD9NxWMCouZwKTCxtA6WAFNLeQekaT3LirUltZrANjdrafg9wHMdbdfcT1ca7tS+Hv2HejKb2TCiPn4f4nt2q5WyDGlg3rul35ua2biK4Vul3+8gqhbfnuY3zas/tHsbbb/mvmP6fXOmDDcT30R7N/Eh1qK/ZUveATM7kfiY7u+I7xEW1ZZ7j/RR5LL1ieC3NXFHVVuGW8oZ3X1J+kjwFp0oZtX0HjWzJ4DhZjbI3eelQecRH5b9D6IxCukj1LsCf3D3WZ2Yf3umVaTVGmqsXUirrcvtM/vQ1un3O4AH6pjv3919YV0lXNEXiBPJhFL6BOLLB19kxWPsYuB0ogrzPAAz24B4HnOPr/hR3a4sY3YfNrN3Av9FfBNxI9p+pLx4LNdai7b5SK/Hx4HvJYJVUaP7eWftSVTTFV1MPFrpTjsR2/iv7v5KB3lr6+tWj4Z+ZTcTFx7vBn7p7vPN7HfAh4B7zexq4gL+Lnd/tTRud+/z9diaqBn5J3CSWeXX8V5L8wTA3WenD6vvZ2Yj3L1Wlg+laZ3r7sUPMO9G1FgdbGYHV0x/ADDYzNZ19xcbXYCuBMlB6XeHzeFT8/a/ESepW4mGPS+R7iSIxjOrNDDvddPvqhVStEb6PTD9fjaTryq9Nk6uNWMtfVDFsGcq0jpkZocRX4y/m/i4aflr7bXl/q8OJlXvcneqnB1Mb9M033kA7v4XM3sQOMzMvp4uUo5K+X/WyflnFYJzUe2AKr57WFuXX+xgkmt0MLym4XWZWl5+jriSvqQ0+I9pmh8ysw19+WemfknsI0eQgiTwKeJYvrg0ja4sY+XymNmuxIm6H/Go5DqiIcZS4vn6GFY8ljtz7DW6n+fMIU6e/YnHMI8WB7r7OOKuEDPbl/i4eE+o+1xJ5847hxI3IJ8kak0AXjezq4BvuHttHXf3Pl+P2jy3ou0FSXvznEB8JeYIYtlIf0P1ft6vg+nX5tGrQbJ2MhpCx681HEcsSJsP2qbAcETVSO14Kf0e4+7X1ZF/fvq9QWZ4VXptHhtmxtmolK/I6yjTCsxsNNGQ6Amivr3qirM2r4HuPr9ieC5/brlzy9aRDYhqv9z0yuvk/4gGBZ8ys4uJK+Enae4rDrUybl+6++qshrc58cX6jdPfszNX2RCB9AxYdpV9M7CvmW3j7g8Rx88bxHOvoq4sY255TiJqZfZy98nFAWZ2AhEki7py7NW7n1dy98VmdhdR47MPpSDZBbWL16rzZ9VFc/Fc2ZGGzzvu/hqputjMhhJ3+EcSx9lwYHRpnO7a5+tRm+c17v6xBsa7hth3DjezbxPx40CixubvFfPo4+7rdLm0FbrSmcCU9Luel563TL+vrhi2R2acJbDsajs379EVw6o8RNzSb2dma1YMH1WRVvt8z56Zae6Vfk+vswxZZrY1UcWzkHgOk7uKbHS5a2Vrs47Teq1a7npUTW9zYChRz1++m7uYeCZ8FHHVOwi4wN2XNDDPWt7u6omm0XXZE2pX9L8nGjCUfyak4Z+3FSNoLf0IM9sB2I6oun6+NP2eWMYtgTnlAJlUHcu146jNvmZmaxB3n2XdWe5fpN9fN7O3dcP0IJ6jQuzvZSMr0v5GBNb3mdnqHUx72foys6og3O55x92fcPfLiOr3mWk6tbu5ZuzzDxEXCbuaWf96R0qBfyJxEbkvcZdcVVsCsVxrp8cA3a+eB5eZh6HF1q1tHvRSaAFH3Ek4pabrxIZcTKnRTBo2MaVXtbDrT+wAr1J61aOQZzfgbYX/L6Lx1q21lqEHlcY5KKU/THXr1jYP9D3/UH+9tCxvAPt1sM63IVrrPQJsXTF8ADA6swy91br1lMy4tcZRs9M2b9NCsoN5n5XG3yszfDL5hl5HpnGPLKStS5zsngN2rhinT3m90H7DnQn1Lksab2haD3OoaFRSyFdrILZfIW014ur5CaIpvQMfrRi3W5axNLzWEne7UvrnC/tTcT2vxfLXsupt3drQft7Beu7L8pbik3L7HcuP6Qml9Fm0bbizS8r7V1ZsQDKU6M2najqXUX/r1j+lvN+omG9tn6k1zhsMbFuxPGsSVbNvFPI2vD+0s15r+/2sOvKeVlj21SqGb0R1DKk1PLyMuCh4A1i/Il+tp6o7qHiHlmjhvmtH2zX30+nqVnd/wMyOJgLgPWZ2LfFwdl3iQfV8ll/1nEc0Rvl1qid/imhyfAARDA+tmMUk4pnjb8zsBuJO8DF3v8Td3zCzjxFNpa83szuId5BeJXbUnYjWlhulNIheTPYGvmlmu6QVuhFwCNG45yMsr0bB3d3MjiCeU1yZlu8hohHQR4h3mz7jbZ8bNuo0ovHMdGB3M9u9Is+P3H2euz9kZp8jWr/OMLM/EieS/kRjqNHES8fbFJbh82kZrjaz3xABeQdix/ojsQ0adTvRSOBK4mT9fuJi424imFU5j2ikMgT4nbvPbnCek4hnVD9PjRNeBua5+086UX7c/UUzO4io1pmSGgrMIA62ocRF1rq0bZTSXT5PnMAvdffX28n3C+Iu7CjSMzN3f83Mfp2mcTTxnOX68og9tIw/Irb3bWY2kdj+I1MZryKCTbEM883sK8Qz1zvSOE8TrzNsTzQC24MVj72G9vP2eDRQ+xjxLHcM8KiZ3UK8rvIqEWTemcqziHjPtaNp3mVmfyWqNf+Wqr83IBqW3Ej1HeZY4pz3JWBPM7sxzW8zYn1+mLjQI+W5HTjbzPYnGqMNJc6HS4nHVrUGiEOI8+8/iI4fniAuTD5IVNn+Ty1vD+0P61n+gw2vuvvRxDP07dNyfSitryeJBlhbEcHwREqNhdz9djObmZa7P3HeeK48E3efZGbHE++T/kHCsMgAACAASURBVDPFi38TFx+bEvvXbXTuXNf5O8lCRN6NuIt4juU90vyRtndf7yUe+M8lTnC3EcFmT6rvJPsSz2EeJa4gnLYdFKxPXI3WdvgFRKC+iqiPL/eeMYS4XX+eFXvcqV1Ffq1i+d5OHOC1q7KniRd7q3orGUfjd5ITWH41nfsZXprOtmm8Yo8n9xMNYfaumG+xx52X6Z4ed77O8h53niROnmt1MP49tNO0v475H8fy3jZWuIqlwTvJ0jb5SdpvXicu7h5K27z8OkBt+YeXxm/oTpK4Yq/dcWzXQd63EXdiiyhcRRNBqbZ//G8H0+jSMlZM74NEFdfLqWx/YvlzsNx6PpC4MH2VOAdcSwS52qsrVb2iNLSf17He9yGC5UziXeZabzM3E700Vb3/OYuKOw7ikcHPifPewlSuo9rbH4g7mhOJYPZqWn8PEMfO+qW8Q4g7r8dSOV8gHsmUOzAZRHTaUQs8tV7PJhP91LZ5LaSR/aGDfaqj89a8Qn4DPk1c7M5Jy/QkEQe+DQzNzOekwvQ+3kGZRhE3XU+xvJeie4EfAiPr2a5VP5ZGWKmZ2enEhjrA3W9sdnneitKz4KeIA2Qz7/oduLzJpefijxJdBm7UUX6RZlipvgJiZhtXpG1L9Hs4h4r3/6TbfJmo/jhPAXLlYmaDyo1mUkOkk4jq02uaUjCROqxUd5Jm9hRR1XI/Ud2yFfAB4mLh0+5ebkIvXWBmA4ngOIRoyTmHqKau6tBB3qLM7ACi4/c/EdVcaxCdSexAPEMb6RXPmkRawcoWJL9DPAcdTrT+mkc8WznHq5u0SxdYfCD538RzkruBr7p7l1+ZkTcXM9sM+B7RQGMw0ZR/NvE88gxf/rK7SMtZqYKkiIhII1aqZ5IiIiKN6Eq3dD1ivfXW8+HDhze7GCIi0kLuvvvuF9x9cG/Pt+WC5PDhw5k2repDDiIisrIys8eaMV9Vt4qIiGQoSIqIiGQoSIqIiGQoSIqIiGQoSIqISKcce+yxjB49mmOOOWaF9NNPP52NN96Yk046aVnaMcccwx577MEuu+zC7bff3ttF7TQFSRERadj06dNZsGABt956K4sWLWLq1KnLhn3hC1/gsssuWyH/Oeecwy233MLEiRM544wzeru4naYgKSIiDZsyZQr77bcfAPvuuy933nnnsmEbbLAB0Yf9cv379wdgwYIFbL/99r1X0C5SkBQRkYbNmzePtdZaC4CBAwcyb968Dsf56Ec/yv7778++++7b08XrNi3XmYCIiLS+gQMHMn/+fADmz5/PoEGDOhznmmuuYfbs2Rx00EFMmTKlp4vYLXQnKSIiDdttt92YNGkSADfddBO77rpru/kXLlwIwBprrMHqq6/e4+XrLrqTFBGRhu24446suuqqjB49mh122IFhw4Zx+umnc+KJJ3LBBRdw3nnnMWfOHObOncv48eM59NBDmTdvHkuWLOHMM89sdvHr1nKfyho5cqSr71YRESkys7vdfWRvz1fVrSIiIhkKkiIiIhkKkiIiIhkKkiIiIhlq3SoiIpW22HC7ps37X8/c17R5F+lOUkREJENBUkREJENBUkREJENBUkREJENBUkREJENBUkREJENBUkREJENBUkREJENBUkREJENBUkREJENBUkREJENBUkREJENBUkREJENBUkREJENBUkREJENBUkREJENBUkREJENBUkREJENBUkREJENBUkREJENBUkREJENBUkREJENBUkREJENBUkREJENBUkREJENBUkREJENBUkREJENBUkREJENBUkREJENBUkREJENBUkREJKOuIGlmB5jZw2Y208yOrxj+PjObbmaLzeygQvoOZnanmc0ws/vM7NDuLLyIiEhP6jBImllfYDxwIDACOMzMRpSyPQ4cCVxeSn8V+Iy7vxM4APiRmQ3qaqFFRER6Q7868uwMzHT3RwHM7ApgDPBALYO7z0rDlhZHdPdHCn8/ZWbPAYOBeV0uuYiISA+rp7p1CPBE4f/ZKa0hZrYzMAD4V6PjioiINEOvNNwxs42AS4DPuvvSiuFHmdk0M5v2/PPP90aRREREOlRPkHwSGFr4f5OUVhczWwu4HjjR3adU5XH38919pLuPHDx4cL2TFhER6VH1BMmpwFZmtpmZDQA+AVxXz8RT/muAX7r7VZ0vpoiISO/rMEi6+2JgLHAj8CAw0d1nmNlpZvZhADPbycxmAwcDPzOzGWn0Q4D3AUea2b3pZ4ceWRIREZFuVk/rVtz9BuCGUtophb+nEtWw5fEuBS7tYhlFRESaQj3uiIiIZChIioiIZChIioiIZChIioiIZChIioiIZChIioiIZChIioiIZChIioiIZChIioiIZChIioiIZChIioiIZChIioiIZChIioiIZChIioiIZChIioiIZChIioiIZChIioiIZChIioiIZChIioiIZChIioiIZChIioiIZChIioiIZChIioiIZChIioiIZChIioiIZChIioiIZChIioiIZChIioiIZChIioiIZChIioiIZChIioiIZChIioiIZChIioiIZChIioiIZChIioiIZChIioiIZChIioiIZChIioiIZChIioiIZChIioiIZChIioiIZChIioiIZChIioiIZChIioiIZChIioiIZNQVJM3sADN72MxmmtnxFcPfZ2bTzWyxmR1UGnaEmf0z/RzRXQUXERHpaR0GSTPrC4wHDgRGAIeZ2YhStseBI4HLS+OuA3wH2AXYGfiOma3d9WKLiIj0vHruJHcGZrr7o+6+CLgCGFPM4O6z3P0+YGlp3PcDf3b3Oe4+F/gzcEA3lFtERKTH1RMkhwBPFP6fndLq0ZVxRUREmqolGu6Y2VFmNs3Mpj3//PPNLo6IiAhQX5B8Ehha+H+TlFaPusZ19/PdfaS7jxw8eHCdkxYREelZ9QTJqcBWZraZmQ0APgFcV+f0bwT2N7O1U4Od/VOaiIhIy+swSLr7YmAsEdweBCa6+wwzO83MPgxgZjuZ2WzgYOBnZjYjjTsH+C4RaKcCp6U0ERGRltevnkzufgNwQyntlMLfU4mq1KpxLwQu7EIZRUREmqIlGu6IiIi0IgVJERGRDAVJERGRDAVJERGRDAVJERGRDAVJERGRDAVJERGRDAVJERGRDAVJERGRDAVJERGRDAVJERGRDAVJERGRDAVJERGRDAVJERGRDAVJERGRDAVJERGRDAVJERGRDAVJERGRDAVJERGRDAVJERGRDAVJERGRDAVJERGRDAVJERGRDAVJERGRDAVJERGRDAVJERGRDAVJERGRDAVJERGRDAVJERGRDAVJERGRDAVJERGRDAVJERGRDAVJERGRDAVJERGRDAVJERGRDAVJERGRDAVJERGRDAVJERGRDAVJERGRDAVJERGRDAVJERGRDAVJERGRDAVJERGRDAVJERGRDAVJERGRDAVJERGRjLqCpJkdYGYPm9lMMzu+YvgqZnZlGn6XmQ1P6f3N7GIz+4eZPWhmJ3Rv8UVERHpOh0HSzPoC44EDgRHAYWY2opTt88Bcd98SOBf4QUo/GFjF3bcF3gP8Ry2AioiItLp67iR3Bma6+6Puvgi4AhhTyjMGuDj9fRWwj5kZ4MDqZtYPWA1YBMzvlpKLiIj0sHqC5BDgicL/s1NaZR53Xwy8BKxLBMxXgKeBx4Fz3H1OF8ssIiLSK3q64c7OwBJgY2Az4Otmtnk5k5kdZWbTzGza888/38NFEhERqU89QfJJYGjh/01SWmWeVLU6EHgR+CTwR3d/w92fA24HRpZn4O7nu/tIdx85ePDgxpdCRESkB9QTJKcCW5nZZmY2APgEcF0pz3XAEenvg4Cb3d2JKta9AcxsdWBX4KHuKLiIiEhP6zBIpmeMY4EbgQeBie4+w8xOM7MPp2wXAOua2UzgOKD2msh4YA0zm0EE24vc/b7uXggREZGe0K+eTO5+A3BDKe2Uwt+vE697lMdbUJUuIiLyZqAed0RERDIUJEVERDIUJEVERDIUJEVERDIUJEVERDIUJEVERDIUJEVERDIUJEVERDIUJEVERDIUJEVERDIUJEVERDIUJEVERDIUJEVERDIUJEVERDIUJEVERDIUJEVERDIUJEVERDIUJEVERDIUJEVERDIUJEVERDIUJEVERDIUJEVERDIUJEVERDIUJEVERDIUJEVERDIUJEVERDIUJEVERDIUJEVERDIUJEVERDIUJEVEWtixxx7L6NGjOeaYY1ZIv//++xk1ahS777479913HwBz5szhkEMOYe+99+b0009vRnHfcvo1uwAiIlJt+vTpLFiwgFtvvZUvf/nLTJ06lZ122gmAk08+mV/96lf06dOHo48+mmuvvZZTTz2V0047jW222abJJX/r0J2kiEiLmjJlCvvttx8A++67L3feeeeyYXPnzmXo0KEMGTKEefPmAXF3ecYZZ7DXXnutkFc6T3eSIiItat68eWy++eYADBw4kBkzZiwbtnTp0mV/uzsAd9xxB9OnT2edddbh4x//OLfddlvvFvgtSEFSRKRFDRw4kPnz5wMwf/58Bg0atGyYmS37u0+fqBTceuutecc73rFCmnSN1qKISIvabbfdmDRpEgA33XQTu+6667Jh66yzDrNnz+app55irbXWAiJIPv3007zyyissXry4KWV+q1GQFBFpUTvuuCOrrroqo0ePpm/fvgwbNmxZq9VTTz2VQw89lIMPPpjTTjttWdphhx3G3nvvzUknndTMor9lWK0uu1WMHDnSp02b1uxiiIis9LbYcLumzftfz9y3wv9mdre7j+ztcuhOUkREJENBUkREJENBUkREJENBUkREJENBUkREJEOdCYiINNFem+/dtHn/5dGbmzbvNwvdSYqIiGQoSIqIiGTUFSTN7AAze9jMZprZ8RXDVzGzK9Pwu8xseGHYdmZ2p5nNMLN/mNmq3Vd8ERGRntNhkDSzvsB44EBgBHCYmY0oZfs8MNfdtwTOBX6Qxu0HXAp8yd3fCewJvNFtpRcREelB9dxJ7gzMdPdH3X0RcAUwppRnDHBx+vsqYB+LLur3B+5z978DuPuL7r6ke4ouIiLSs+oJkkOAJwr/z05plXncfTHwErAusDXgZnajmU03s292vcgiIiK9o6dfAekHjAJ2Al4FJqVOaicVM5nZUcBRAMOGDevhIomIiNSnnjvJJ4Ghhf83SWmVedJzyIHAi8Rd51/d/QV3fxW4AdixPAN3P9/dR7r7yMGDBze+FCIiIj2gniA5FdjKzDYzswHAJ4DrSnmuA45Ifx8E3OzxDa4bgW3N7G0peO4BPNA9RRcREelZHVa3uvtiMxtLBLy+wIXuPsPMTgOmuft1wAXAJWY2E5hDBFLcfa6Z/ZAItA7c4O7X99CyiIiIdKu6nkm6+w1EVWkx7ZTC368DB2fGvZR4DURERORNRT3uiIiIZChIioiIZChIioiIZChIioiIZChIioiIZChIioiIZChIioiIZChIioiIZChIioiIZChIioiIZChIioiIZChIioiIZChIioiIZChIioiIZChIioiIZChIioiIZChIioiIZChIioiIZChIioiIZChIioiIZChIioiIZChIioiIZChIioiIZChIioiIZChIioiIZChIioiIZChIioiIZChIioiIZChIioiIZChI9rBjjz2W0aNHc8wxx6yQfv/99zNq1Ch233137rvvvmXpr732GhtuuCE33XTTSl02EZFWoCDZg6ZPn86CBQu49dZbWbRoEVOnTl027OSTT+ZXv/oVEydO5OSTT16W/otf/IJtt912pS6biEirUJDsQVOmTGG//fYDYN999+XOO+9cNmzu3LkMHTqUIUOGMG/ePAAWLVrElClT2H333VfqsomItAoFyR40b9481lprLQAGDhy4LOAALF26dNnf7g7AhAkTOPzww1f6somItAoFyR40cOBA5s+fD8D8+fMZNGjQsmFmtuzvPn36sHjxYm688UYOPPDAlb5sIiKtQkGyB+22225MmjQJgJtuuoldd9112bB11lmH2bNn89RTT7HWWmvx7LPP8vjjj3PAAQdw6aWXcsIJJzB37tyVsmwiIq2iX7ML8Fa24447suqqqzJ69Gh22GEHhg0bxumnn86JJ57IqaeeyqGHHgrA+PHjGTJkyLLGM+PGjWPUqFGsvfbaK2XZRERahdWeObWKkSNH+rRp05pdDBGRXrHX5ns3bd5/efTmdodvseF2vVSStv71zH0r/G9md7v7yN4uh6pbRUREMhQkRUREMhQkRUREMhQkRUREMtS69S3qs+/4WFPnf9GDv2nq/EVEuoOCZBd8712faur8T7r/sqbOX0TkrU7VrSIiIhkKkiIiIhlviSCp7yKKtL5WPk5buWzSXHUFSTM7wMweNrOZZnZ8xfBVzOzKNPwuMxteGj7MzBaY2Te6p9jL6buIIq2vlY/TVi6bNF+HQdLM+gLjgQOBEcBhZjailO3zwFx33xI4F/hBafgPgT90vbht6buIIq2vlY/TVi6bNF89d5I7AzPd/VF3XwRcAYwp5RkDXJz+vgrYx9L3lszsI8C/gRndU+QV6buIIq2vlY/TVi6bNF89QXII8ETh/9kprTKPuy8GXgLWNbM1gG8Bp3a9qNX0XUSR1tfKx2krl02ar6cb7owDznX3Be1lMrOjzGyamU17/vnnG5qBvososlyrNkBp5eO0lcsmzVdPkHwSGFr4f5OUVpnHzPoBA4EXgV2As8xsFvA14NtmNrY8A3c/391HuvvIwYMHN7QAxe8i9u3bd9l3EYFl30U8+OCDOe2005Z9F/GPf/wjhx9+OGeeeaa+iyhvGa3cAKWVj9NWLps0X4ffk0xB7xFgHyIYTgU+6e4zCnm+Amzr7l8ys08AH3P3Q0rTGQcscPdz2pvfm+l7kq3c4466pVv5nHfeeay33noccsghXH311Tz55JP853/+JwB77rknkydPBmCPPfbglltuYdGiRXz2s59lq622YtSoUey7775NLP3KS9+TrPam+Z5kesY4FrgReBCY6O4zzOw0M/twynYB8QxyJnAc0OY1ERHpWWqAItL96uq71d1vAG4opZ1S+Pt14OAOpjGuE+UTkTp1pgHK1VdfzV133dXrZRV5s3hL9LgjImqAItIT9BUQkbeIYgOUHXbYYVkDlBNPPHFZAxSA8ePHL2uAAjBu3DhGjRqlBigiFVo+SN62x6FNnf+oW65s6vxFGvHjH/94hf9PPPFEALbbbjtuv/32ynHGjRvXLfO+7J3Ne775qRmXtjv8oc+1+zSoR21z4a+bNm/pOlW3ioiIZChIioiIZChIioiIZChIijSoka7fjjnmGPbYYw922WWX7DNBEWldCpIiDWi067dzzjmHW265hYkTJ3LGGWc0q9gi0kkt37pVpJVUfXtwp512ApZ/exBY1ttN//79AViwYAHbb799l+f/2Pe/0uVpdNamx49v2rxFmkV3kiINaLTrN4CPfvSj7L///uobVeRNSHeSIg1opOu3mmuuuYbZs2dz0EEHMWXKlN4rrIh0me4kRRrQSNdvAAsXLgRgjTXWYPXVV+/9AotIl+hOUqQBjXT9BnDooYcyb948lixZwplnntnMootIJyhIijSoka7ffvvb3/ZauUSk+6m6VUREJENBUkREJENBUkREJENBUlqSun4TkVaghjvScopdv335y19m6tSpy3q1qXX91qdPH44++miuvfZazjnnHPr3789jjz3G0UcfzfXXX9+l+T/z63O6YzE6ZcODv9G0eYtIW7qTlJZT1fVbTa3rtyFDhvRY128iIjUKktJy1PWbiLQKVbdKy1HXbyLSKnQnKS1HXb+JSKvQnaS0HHX9JiKtQkFSWpK6fhORVqDqVhERkQwFSRERkQwFSRERkQwFSRERkQw13JGmmDOta13HdcU6Iz/QtHmLyJuL7iRFREQyFCRFREQyFCRFREQyFCRFREQyFCRFREQyFCRFREQyFCRFREQyFCRFREQyFCRFREQyFCRFREQyFCRFREQyFCRFREQyFCRFREQyFCRFREQyFCRFREQy6gqSZnaAmT1sZjPN7PiK4auY2ZVp+F1mNjyl72dmd5vZP9Lvvbu3+CIiIj2nwyBpZn2B8cCBwAjgMDMbUcr2eWCuu28JnAv8IKW/AHzI3bcFjgAu6a6Ci4iI9LR67iR3Bma6+6Puvgi4AhhTyjMGuDj9fRWwj5mZu9/j7k+l9BnAama2SncUXEREpKfVEySHAE8U/p+d0irzuPti4CVg3VKejwPT3X1h54oqIiLSu/r1xkzM7J1EFez+meFHAUcBDBs2rDeKJCIi0qF67iSfBIYW/t8kpVXmMbN+wEDgxfT/JsA1wGfc/V9VM3D38919pLuPHDx4cGNLICIi0kPqCZJTga3MbDMzGwB8AriulOc6omEOwEHAze7uZjYIuB443t1v765Ci4iI9IYOg2R6xjgWuBF4EJjo7jPM7DQz+3DKdgGwrpnNBI4Daq+JjAW2BE4xs3vTz/rdvhQiIiI9oK5nku5+A3BDKe2Uwt+vAwdXjPc94HtdLKOIiEhTqMcdERGRDAVJERGRDAVJERGRDAVJERGRDAVJERGRDAVJERGRDAVJERGRDAVJERGRDAVJERGRDAVJERGRDAVJERGRDAVJERGRDAVJERGRDAVJERGRDAVJERGRDAVJERGRDAVJERGRDAVJERGRDAVJERGRDAVJERGRDAVJERGRDAVJERGRDAVJERGRDAVJERGRDAVJERGRDAVJERGRDAVJERGRDAVJERGRDAVJERGRDAVJERGRDAVJERGRDAVJERGRDAVJERGRDAVJERGRDAVJERGRDAVJERGRDAVJERGRDAVJERGRDAVJERGRDAVJERGRDAVJERGRDAVJERGRDAVJERGRDAVJERGRDAVJERGRDAVJERGRjLqCpJkdYGYPm9lMMzu+YvgqZnZlGn6XmQ0vDDshpT9sZu/vvqKLiIj0rA6DpJn1BcYDBwIjgMPMbEQp2+eBue6+JXAu8IM07gjgE8A7gQOA89L0REREWl49d5I7AzPd/VF3XwRcAYwp5RkDXJz+vgrYx8wspV/h7gvd/d/AzDQ9ERGRlldPkBwCPFH4f3ZKq8zj7ouBl4B16xxXRESkJfVrdgEAzOwo4Kj07wIze7gbJ78e8EKnx7aJ3VeStrpUtpPt8m4sShtdKtsEs24sShtd26Y9q4tl+69uK0iFrpXthPO6ryRtdalsh9tl3ViUNrq23i5q3WPBevY4hS6Ur6Jsm3a5NJ1QT5B8Ehha+H+TlFaVZ7aZ9QMGAi/WOS7ufj5wfv3Frp+ZTXP3kT0x7a5S2TpHZescla1zVLbOa/Xy1aOe6tapwFZmtpmZDSAa4lxXynMdcET6+yDgZnf3lP6J1Pp1M2Ar4G/dU3QREZGe1eGdpLsvNrOxwI1AX+BCd59hZqcB09z9OuAC4BIzmwnMIQIpKd9E4AFgMfAVd1/SQ8siIiLSrep6JunuNwA3lNJOKfz9OnBwZtzTgdO7UMau6pFq3G6isnWOytY5KlvnqGyd1+rl65BFraiIiIiUqVs6ERGRDAVJIDVIEhERWYGCZPh66p92CzNbrdmFATCzTczsFDPbrtllqWJmq5nZ8FZZXzVmtmazy5BjZu8wswPNbHMzW7XZ5ckxs+2bXYb2mNluZraVmb2t2WUpM7OPmdmeZrZes8tSZmZjzexTZjas2WUpa+myrezPJM3sEOLh8kTgNaIl7gPAo8CzqQehZpTrLOAQ4r3SxcTrNL9y96eaUZ4yMzsJ2An4PfAwsb6eadb6KpTrr0RfwRcB41N3iC3BzP4MrAn8leii8QHg38R6a4lW32Z2JHAhsd9dRazDmU0tVIGZvZ1Yf78CHgFmsHzfe6PJZdsauCWVbQGxbf8BPOjurzS5bFumsl1OvMf+DDAFuNPd56pseQqSZvsQ3eg9TLy68m5gDeIkMQN4CJjl7r3aw4uZfRK4meiU4cPAR4DtgVlEQL8qtSpuCjO7CbiN2KnXY/n6ehB4zN2fb0KZVgeuBU4D/gP4f0RXiBcA57v7q71dpkLZViE6/v8JMArYFXhbKt/9xH72eG/vZ2Vm9uVUlseA7wHvB54lLjp+5u7zm1g8zOwTwHuIY+NDxLH6NIVjFXjem3BiM7MDiGP0RmA/YEOitu4FIqDfDzzSjAsiM9sN2Ab4AzAa2ILo6KUv8C/gDuBvzbjQMLP3Am9vxbKBgmQlM9sB2AvYDngdeAU4292fbXK5NgE+QATNTYgr6q+njud7vSzuPjv9vR2wD7BtGjwLuI84aT3cmycsM1uvGGjM7FDgaOLiZyrwU3e/qrfKk8pgVevAzHYE9ibufJcSJ4R/AL9vxkk+x8w+TqzDnYC/Az9y96ubW6pgZu8i9r3tWH5SfRiY5O4vNrlsw4mA/g5gMFFTNRe40t1nNa1ggJmtA2xOBKe3A2sD/YGfuPv9TShP39rFg5mtDWxNdD6zddPL1kLHYq9LzzQ2J4LghsQd0FOF4f2BHYDrgU3d/bVeKtfniKq4u3InSzPbBZjo7k3pz9DMBgP9K9bXKOC9wLsAd/dP9mKZtnH3h2qfYytesZvZQOBQ4i7zCnf/Wm+VK83/3e5+j5n1K1dJp+e67wK+Crzh7p/vzbIVyrEWQO5uMR0vnwJ+Bqzm7gt7sXiY2RBgAHHnuLB4bKRtvjtxJ3ccsHtvPppIAXEj4L5y1aqZ9SG27zCiNuEAd3+iPI1eKGN/4pgs73+bAmsR1ewH92YAT89u57j70szwTYBBRE1Gr5ZtGXdfaX+A/wF+C/yaqBMfD3ySOPnX8vQBjurFMhlwLxGUIb6mchxxYBXzbQHs14R1ZsQz3EuBE1PaYGBYKd/ngKN7sVxvB/4MrJn+759+r1nKVzuB9uY62wa4tfD/t85j3gAAIABJREFUKsRJaQugbyH9EODdvb1NC/O/ETiVqK0YkdK2AtYv5OlP1Ko0o3xXACekv/sSF7bvB7Yo5fst6QagF8t2JfCtwvZ9B/Gd3W1L+X7ahPW2del/Iy42+pTST25C2X5O1KJcDnw4pW2UjmdrZtlqPyvtnaSZbQP8xt1HmNkg4hnWLsTzyReBE4mr+sornB4s1weBse5+QGoI8EOiq78RxDOs97v7E+nq1L2XN2B6Vvop4Cziyy3PE4F8IXCLu1+SviU6CHjNe+m5qZn9GHjd3b9lZu9OZRxD9BT1C3f/R7rbGERcufZmFfA4YKm7n5ZqAD5FVBHeDFzt7pPNrE9v72ulMvYjTvTrEY2K3iCqp8cCX3P3W1K+PsTJtdcbaJnZfcA+7v68mZ1BVO/PBhw4y9Ndhpm9zXv5+bOZ/R3Yy93nmNlPiSrCF4kT/pnuPjXlW7W3jok0PwOWAPOJxn//WytLGr4v0eZippn1915+7pcaih0O3EW0u1iXuBC7wN2/WcjX62WrWZlfAdkaeDBVf80jWmkuAr4JbAzs4O5L00mhNz0FLE3VDGOAv7v7Zzx60r+SuHLG3Zf2doBMDiSCzi3E85V1gAnAJOAjZradh7m9eTIgTpRT0t/fJaqrP048BzrLzNZ19yXu/mIT1ttXgGmFv/8OfJRo/fhtM9u4mQESln0H9mSiwc4VxEfU9yPudg8ws8+kfEubFCA3IRq+zEvVwnsAXyQaQi0AvpqqE2lCgFwfuAdYO71zPQL4AnAKcXd+VO2Vn14+JgD2JxrEbE/cAFxrZo+Z2ffNbF3gDOJOjmYEIXefAPwSeMDd30kcFwYcYWbPpTI2pWw1K3OQnAzMA840s3OBM4kqseeJlnKHpXy9ekJ19+lEddGXiCqllwrv/g0jquloQvCuuQ34LzP7FrFDf9/dJ7n7r4h1NSKVr8c/VFfyG+BbZrYfcTK42t3vc/fjiXW2cS+XB1jW4vZmYIKZ/YuoyrzY3R9x9x8CqxPV1U3n7g8QJ6wvuPudxJ3QJcSdZX9o3n7n0UjsAeKE/23i9YBn3H0Gse23adaJ1N2fI6r6LwbOAe519wUeDYfuIx5FNKsl+nPAJe7+mLt/1d03Bj4LDCFqgVZ190ebcLwCy84TfwRGpUZYawJ/cvcNgI+7+4vNKtuyMq6s1a2wrIXXp4hm5PcDN7r7IjO7F/iqu9+aa5nYQ+UZ5O7z0pXpN4gr+TWJevs1gD2BD6U736ZIJ8mxxJ34P4mWmb8gTmD3ALt6k1oVmtnHiJa/GxB3aVcQ1V3fdPf3NKNMRen1hc3d/Yz0/7bEqym7Nbdkobavm9lhxPO+rxDb84XePA7aY2afBnYmnt/+gXjl5yCixuWsZlRb1+ZpZh8GPki8SnY38erRB4nXF37YzCr1FGj6FS8kzOxXwHR3P7u3y5YefazuqZGYme1E1GS8H/ikp9bTzX4MAStpkEwnp0OB+939itKwocA4b0ILQ4sOBH7j7lPS//2J6s1tie9wPubujzTrhGVmq3ihRWMKmN8g3m1aH/iD///2zjtMkrLq4r+zuyA5B1HAJUiWHCQoUcIHKiAgoCIsOSsiICoomFCQHBREEAUkiGRBsoDkJGFBsuSclKBwvj/O20wxzCwgbr89S53n2YeZqp7uQ3XVG+4991z7e7Vu7DIQLEfyfXOSiXJ8Ug5wZqUBdBFgFg9QdiLp22Sg2L32YNBZrZdJcgrgcCJ6WkPS+K5QZjQQGuHMOYgyfVEiIjvXXVbbDoSi1pyF1MEuQFSZ19a4fkoP308AL9m+qN+5YcB+wPdrLLrLQmwJN1TmRYPxJdt7dpvPmPCBmyTLYHA92eJ/ngzy8xGXh/NK6OTN13ZxFzkX2Y09TB6sQ5pcanDq97kfJTuLLYEzga1tv6zYSI0gwp2nK4aV3oISop7IFWtblfrCTcigfgfZgY8EHrL9d0V6/7Ttl2pxhMGFLr0yOZZ77wXbLzaOvfkc1NzlKhZ+T9h+tMbnjwmSTiUpmzlI7vE+knZ4xPYV3RYR9eN2DXkWbgL2sn15GZsnaX7PvYAPYk5yLaLm2h3YCDgM+BiZMC9XjASArKq7yGsDUp6wOMk9Dtafs9aqZkeSl5qDJNZ3kvRXYAeyG3q4FyZIScOUwuQXgWdU17x+I2LrNivwIsl77w/8RtLXSp6o9gS5MfCipMMlLds8V1IPK9bMCSk2dL8HNpa0koq/cmOC/HDZ/XadY1nYHgdsLWkLSUuXXXjn/Ozd5tSP28dtr0lCvtsRxf5SwJZKTfErla7bHMDztqcjudwtJS3uoKcmSPhgTpIjgWclzUYUaOfY3s72OiSHsGolXuuRhPWjJHy0qaTLFMumGkKY/lgVOKbkGxch984oslL9sVKs31UMdE0c9WXHROALQJWBqgh2pgE6A9GypNZrQbKwWF69Yea8EqkXfgQ4VNLNkn4saQZJyxBHp5rhpo3JdZyW7Mq3Bb4iaZGyoL2q4k5yQ1Iqcz8J768LfE3SukppxTUVn9s5iWYAMjFObPv/iPL7QTJp1lp0jyLOUhBl/N3ACZK+VlJMPYUP4iR5IFE/7k1CD69KmqScm4Xc9F2dlBT3mhMcdSG2L7C9MHH62VDSLDUHKkkzkMXEbYo7zCXAD23fYfvrxL91xgrURknabAznh5EBrKsog/Y/SXnCFmS38QRFKe3Uqc1DateqoeSlzgeOsL237fnIJDQDWeFfBlzQeG0NXAd81fYeRNhxO8lDjiJ508vLTrIGvwuJYcbRwM/ItXyNpG9+TLEXrMTtIuARSbeT6NmlALafIZPnRFDte72VRFSw/aTt7xMB5WLAtxX0zNz0gcpJFlHOI2RAn5asZnYntnQTk2LW5VzBeV59Crlh5Ht5XVG57gGsYHuebnNqcBtOnGFeK+HLiTvXSNLcpPB3qQq8LiAlKBeU0NZGZJC6xvb53ebTH+W7XIWs3Ocm/qJ/IQrc6Wx/sbZgB2KL536Wi4q5wAvAjGVgrQKlvnDC/s9kEaWMBlZyl1Xo/Xi8LZ+rqOYfAFa3fVlFbtMSlfJzwLeI7mI4uSd3qcVNDWOAfrnlpYGDgS3dMDyojQ/aJHkmcL3t7zWOdValdwJX2b66FwauJtRXGlJTQj6vU5PWPDYc2JNYwH2rm/wkzUNMDTrh6EtJDSckv7yX7ZO6wWUAbhMTdeNywNEu7boUNevixPTgHNs3VxadTETMFqYHXnejc4tiWv9l27vUuu86933j9+aAOgnx4F2j27wGQifyVHaOE5HaxC9UpvUmyqLiy2QHeadTxN9z6LWxFz5Ak2QRAFxErLZeB3a3fWfjfM3B6s0HrN/x6jeMpJWBtYmH5zzEQeS3tjthuBWBG7u925C0LVl17keUtbPZ3qCcW56E6DbuJqcGtx8R8dWzpGD7JFLLd5ztB2pw6g/FwWYHkiu9gYiyrgYudizKPgR8yJVaY5Vn4kpiw9ippZsWGN/2w2WBNpntZ2s+u++ESju1VclO9iG/VRFcTc06lNEzcd8uYENSVrEmcRLZRVGAAVVVoxRVV/+OBgAzqn6H851JofaKZBd0L3CQpBsVRdqFNcJxtg8l4oTxiPL2qsbpTuupWoKnlYAf2d6eCLJ2JQKia8rk3gvYlYSmlyU55vlIO7FtlTZor9aaIAvWJqUVL0iaTtJuZFG0p6QvOhaDz0KdZ7fkzYYPcm6BwRa+XeC1MVmUjSKK4BUkjexMkJI2LaH0noOktXspF9lBzxEai/gCsXsD2I2s8E+WtJkqlQmUB+2jkr7UnAzdp85cg+LVWgOKSGd8EorG9j9s71Xyo4cCa5cdR7d5DZM0ue2/2/6a7UlJZ5IONiZtf7oORbH6DPB0WYRNRnIsG5NFxso9sPCBiHMutP2K7d+TCMv1pFSlF4q5v0QiPwBfJ6K640hOd33VLa+YuqxrO/0PRzTOzUp0DbUW3QuTZ+EKEv3ZhEQM1pC0M8lFdt17952giAPnqh05GxCu1H6km/9IHH6z8vOwxvF1iHXZRjRaFnWR1+bkwT+dqL0mIaUWEzRe09WWP/0/l3iNHgks0u/8CBLSmawCt42I6vIh0rllRDk+nAz+W1a+33YlDkm/Ai5pHJ+buK9U49bg8lWinh5V/l1PwquQiWiOitzGJx0r/kRq+24BRjbOnwqsXX7udkusKYjhx8nEWGPKcnyJ8t8PE4elKs8uiQZ8rPH7HESxvC/wFLHbfMs42CVeE5BJsHlMzWvUGYNrjXmD/fvA5CSb6CcAWB9Y3wnDdpvHBaQV1rlETn4PMBNpHrud7WO7zak/ikBiK2J28CjZjb8MLA9MYXudLgt2hpOd7arAp0nItRNePZeUM1S/qUuu9lYiIvo/4lK0EnCP7e/UzjeX6MnGZBCdFDjb9hlFyHaE03WmKiQtSSJA0wKbO+rqYSSHuoIrhPlLdOAXwF0kErcoWSwubLtGGdTboAHaSpXn5mVgBlfwVpa0J4lQXEA2Bae4uGGV7/QrJGffczvJD8Qk+U7JcxVP0m4m2RUzgxNtL1Z+v4+43t8g6VNEifZN180LvQlFir8esAKRkt8FXGH7zi5ft88RS7zVimLvdrJ6np+E0Q9yDyn3ynXblnjw/oqoWp+vzKljZC6yE3qmcW5XYCqnL2ctVetbPrffonZLYM3y/dfityCJAh0EPA6cQnLOr5F+jQd3m9NgaHzX05Pd9+E1rpuk48ki9gWyA5+LRAgOIh68a9hesxdFWB/oSbKyonUO0v39jyWPsYLto8q5TvH+QjW4NdERJ7gvTzrgSrWLfBYhk85txEnkORczekkrkOLudWpwGyook6M6A2X/50DpsVo9b9URcTR4DiMGIJPYHl1JOTqcmEJsTuqFfy7pKmIp+U/SXPtvvTjY10K5Zp8B7nOpKFD6RG5MdBfLkmjeSb143T4Qk2QTZYAY5hTrz07yMLe909+NBR4T2f6X4jP6enNgkrQD8Anbm9cOy3VQBqjxHYXcTMArbtTVdZnLpqS7wWji0tGxVdsPuM72QZVWy2/7zMb3uyhwV69EBjro9zzMALxaI4w5CC85Bhud3VBPPAvwZhrixyTP/BFXNPt4J5RoxkJOj9Aanz+p7RcVy7lOg+eO6Gk42Y1P22uTYwfjtLpV0qSSRjWPOejsipYi7Wy6Wiqg9E47qqjkXi+8OhPk9ESMcmSHcrd4NfiNkDSlorxdTNLEjidqp8ZqI+JQVAW2fwV8x/YRwMXAXiS3OxXxgqTGYNrcmXXupzL5iIhjXh/T349tKKrgj0vaRHGF6f88fJa0PasGSR+WNGvh1RlQO8/A1koNai1uE5aFBI4x/c6ktrTTH7RaaYWkqSXNoRgZ9McnKc3QK+EgSUvZ/rdTutN5JgAWBPboLIIqchwU4/ROsuzIPm57+3IDz0PMuc+3/XBFXkeTHNWdRNV6Zlkxd6zpZnFxaanEb3simHiOiBI+REQop9v+h9JBYHQlbm8Lxyh2VsOIY9K/K4XhvkB2s9c2Q5U9tvvZmuSUxyNq1gOBlYnH6CuSpiQtqapM5mXxuCt5Ns4l5QsTkRDmk+U107hCE2ilJdaWpKHyA8CejtBpauBFR1RUy35uERLuXZ5oBX5l+7gmHw1gPdglbsuShez9pDn7wWVX+eZzUTN9824wrk+SFwI7OfZfe5Jaq9mJom9f2z+twGk4sU9bhXQNWAU40vafu81lIBR+jxHF6BSkA8MsJKz0KvBTd1nk1OuQNC9R7Z1Kwkm3EuPt28v5zwIXOabn1aCoqfex/WfFxu8B8jzMQ56TKrWlDX6/Aa60fYSkI8m1XI2oWY9z6VZfiduvgdG295G0EVEqb2P7JaU9llzB87lwO5akGQ5WhG2bA1vYflRxKZrG9h2VuB1KjPIvISbwt9YYd98PenJ7+7+A0tD208CqZYX6OeB7tpcpx+cvq8Bu48vAMyU3dSwp/ThY0kGdUE5lzApcbfsJ23fZvpL08zuV5P92KfnTnpkgNYjzSRexBnAzqXm9A5gN+LqkH0jaDji+BybIGUipxzUlRzUS2Nvxvl0RWLYTgq3ET6T4/eZyaCVSNjMrKTvaRNJHKnEbRkKWx5RDvyXRle3L73sCW3ef2ZvcFiNlFdg+gyx+vllesiuJCtXitgqxOnycNJNfS9KfJFUXJb5bjLOTJHE92ZDczIcQFeT9jXMLuEK9UPnsn0PykLZ/QWrpJgA2UwUHm364D3hA0g2KhdXMheeNwE+ApV1J+ThY3rhWeLCB3xEnk6tJLvlIMmj9HdiULDKqTuZOn9IzyMLsYOAl251+gw8Ci9YU7JRF129I+7MjSMu6v5Z77xgyqdd6Nj5MFkAvlQjKG8QKcaOy+FiYlIHUwBTE/arZieQbpF/pAmQCrWL0D3wU+LntJwBsX2x7SWJWsZMiZut5jLPh1k4MXtJkxGxatv9Wzu0EzGt705o5ozLodxR885IV6r62f1eDTxOS1ibS7EmB/5AQ7AKkNvKntXNtnXCvpDWIavSuWlzGBElPk7q+au2cGlymIZ6oV5LvdmZyz21CnJM2q/w8TAd8keyEZiWT4lmkfGB125+plG8WcXL6p+3n1adY3o4sxF+wvWrFnOQI0sXF6qv53pDsIh9xakprXLdm3nEEZGNQct/fAeZ2GkH3NMbJSVLSwkSQcGD/ZLXiR7oHcJLtG2sPXP3ReQArffZMRPH7D9tXlpD1nCQvuSxZLV/c7Z2kothbEPiP7Wsax6ci/UBfILm2V7vJq3D4EDEHn50Iwp7td25P27t3m1cTZYCamCilpySS+wmAfcgEdBQxtri34kA/nJT13O/SHkvSYSR0fS9xBDqr9uKsgzJxfpTsin5k+8ga3JRSlOWBG9wQI5Zc5DmkVVstA4HJC7crO7vJfuc7ZXA9NQb3x7g6SZ5Kdjw/V1xZlidx+T8Q4+tpXKnGbzDUnBwbHE4rPy4DbEM8KiciVmpV1LZl8DwX+AcJwe1MBs4pbF+qGDFsVzgeWoHbmcQcfHaSm/wr6XNZK/z2Niiq1lVIqH8y0sLrQtsnlvO1owJfJtZ9Iou0p4EDSIhzetINpNbudiZy3z09kAKz6B1u7b8Y7xK3TYEly69fJvnwQ4HfOGrbeYG/236tAreNyHc6Apic5L8vK+d6elLsj3FukiwrvEuB9Ww/VhR9l5EHbyPgBNsH1OTYi5A0NxGYLFTCXucSQ+SnSP3hbrZvHtN7jCVeGwFrEkPu3UknjUeACYF7be9SXlcjnPQlEkpdt9x3exK7rUmBk90D9nhlIr+X5M2mIt015iGLjods71+RHgCSrgR+ShYcb5Ayiy3Kz9u7qIQrcbuTGOmfRXaNdwP/KpPQJ4BnbT9UidtFZPK5WDFGOYxECl4FNnWjX24lbgeT6/YlEubfyvYjJVf6T9t31+L3XjAuCndGAH8mIpjJiZJ0r7LLWA34XImJ9wxqCjoaWBC4v4Q2PwtgexVSBH8VMTivgUWB05zmsZMRl52vA98FPlpyp1RamX6MosYsn/8Mae+0HbnP5qvAqT8WBG6x/XQR6vyQiD1OIErDVWuSUxTmb5AJ+3UHJ9henoT3R5UUSQ1uHyO7yF+REqh9ibvTVwvvw4nxRw1u05J61wcByoTznOMFfSKwpqThg4ndxjK32Ygn8Gll9/2bwvOz5SU/pK65wXvCODdJli/lWJInOhp4Qym2hdzQculm3m1uKig/v3nta4dZC04j5ganAWsB15UQ8KtkJT09dNeZqOAM4MeSTiKF8CfYfsqp+zIJ5dTgBQkHfk7SUZK2IKKT0SU0/TrJ59bi1sE9wL8kHS/pm2THdq/t68ig/5WK3HAU5j8DdpT06X6nTyeCna6HMgtM3GCOt70F2Q1dDCxH2ozN4Uq1myVd9Dtgb6Uf7c8ozwJwHjEMf73S4nEC4DhJkzVC+b8DNlTKeKZzSlWGBMbJcGtRec1MQjYbkJXqKURGfo7jRlFb1UrheSrJaR1k+19j/suxzmsOMhneTSTuD5Gw5nrADrb/WimsuShpH3YH2UWeDNxEpO2LdoQeNSBpTlIvNwz4pe2bys7nTlJmVKXAvImy61mPhKpvIKK1xyX9jtTEVvG6LdyGkUF1S7IDH0F2ubeQMPvzruhhrPiNqn9eTymSn9b2epVEMSKT4pZk8f8HUjJzj6TdgQVrcSv8JiRCu383jv0A+BpxBNqxdi783WKcmyQHgqTFiRLtfJJP6PYgPwURw8wMnNHMYZRw15dJc96juslrTCh5g82JNd0drlCWopQsTOm+ej4kfZ7kJ6cmD9tveulhK4P+0sCS7oFSmQavCdznvdtRBh9Pui9UW2T0h6SlSA7rP8TF6DrHOaYnxB7qK//YlkxKN/QKN3hT7bo1UVrf3GPcpiapmw1tX9tL3MaEcXaSLCut4a7c8qfkGy8hriHLEOOA84hI5rjymg+TTgI31OJZeAzkizp+JXXcbMS4/NNEeLI+ESR8hPSQHEapDes2tybKpKj+IXNV8sr8b1BrsFJcV/7umIUPKUiapBZvScuQPPMLjWNvPqe9sjBrohHhW9D2TbX5vBeMs5NkE5VDq+uTZsrrlt+3INLoqcjucY8avN4JtR+0kmN5xfZ3JR1C6vzmIhPkpbZ/U4vbuIAe+H6HE+X0Y8Rs/QTbZzfOL0PqdR+oRLEnUa7bv8mC8VrgCNvHN85/jphrVGlA8G4wVHaQHYxzwp2BUHlVNR3J7XUwAXCB7U8Ds5TBoOfg0sevouhkdaLSg+wmryeGBn8GvqRI3lv8Fyghw9o7jdWBv5H6zVuBnRUrxAMUVfBhVdn1LlYg+cdJiJ/yrpKek3SypCVIj8uuR37eC4bSBAnj2CTZVIx2fpY0fj1GQEyRZ5V0pKTvEoVcp95wAlJGUFsB+SY6PJRGqa4UhpuUCJluK9/fr4DDbL/mFMBPQmoRq6B5n/U7PnH5b098l000OfWImvoeMhE+afsnZLLcnuTAzyOh9AdqXMvBPrOIeDo/1xo77yElFcNsH2h7AWAhInS6lDTNvreX7kFJEyum+jWv23+NcT7cqrTceRTYz/bzFT5/GFGhbUEcRf5g+66SYL8TmK+WArJMRi/3z9uWwX5v4G+2f12D22AoeazDHKPk6mjkWmYHNiZuJz3nI9sJrxZV5o0UV5bavAaC4vx0me39eyAs3OzJuD5x/7moFp8mSujV7vNHPRq4zfZ+Na5b/89sPBvrA+MP1RTJkJvVB4KkGSRtIekbkpZQHGM6OI7YmO1UgdcXgP2I08Q+tn/SGEBnJb6ez1ZcXe0KzFUetjdNDZy2TlcDC9cIB0uaVtK6kmaTNFUnGqB4oa5CPCm7viqVNELSierXYq1ct2fI7vZESat3k1d/SFpR0vTNY43B63JSMrB814k1MIbdmog71tHQ/VSJUnPYKXrvlGl1uE4N/FTSEbUiVP0jAo20yPjEGP6X5VzXFxaNyXpYmTCbO7DPS/qt6nc5es8Y8jtJxbz5anJzfJK48v+JFPse1fjiZrb9YBd5zU3q+PYpvC4mPosfIcn2y1RJOVr4zU92tbOXB2850gR6cuBQx+B8WbLTvGYMb/W/5rUeqembEJiROOxcSYQdT0gaSVbzXa8pVTorbGx7ZcXNaXXixPIc8DvHBnFKEip8YUzvNRY5jiC1kMuWBdiIwvMN22eW1ywJTGz7ghocexmSriaG5aeX6MAniWjsLsf+bTiwhNNntUWBpG3IJP3nwcY0SUs47eSGFMaFSXId4IsN9ehngc3IIPs4MMoDGBN3gdfPSc++PSTtRmq/9iGT5CKkq3mNfpYdfjuQUO8Wkr5CQoW/Jr3zFiWdzbs+0Es6Dzjc9h/LgLQaKf9YCviB7aO7zanB7TfARbaPkfRDUvd6H3050p1rhPT7cdyAqKnXkTQj6QEqYhLxJLBRjefh3aIZ3qzw2bMDp9peoEQpziERgnvJYmi/Xp0cK1+3+Yg/9pnEO/Zm4KzOhChpFHCme6ypxLvFuBBunYjYbn24/D4SuMr2ymSFv3IlXg8CL5SBfn3Syum3tn8KvExlOzBSuzmsiBGmA/Yv/PYFXiKTZldRQkaPAR+XNHkJJ51l+8uki8uy/ULp3cavgP8ru9n5gW1t72F7J7L4WbAitw7WAP6t2H/tSTq5bEJ8M1+izz+z56Cobmuu2h8GrpX0SWBF4HHbG5LreDG5jj2HHrhunyGT5O7AL4id326STpC0N2m8PCQnSBg3JsnfkX6C35V0OAktXVrOTUc9z9HTyEN1JXAFqWvqYCRpqVRNCWn7FtIJYjQJby7UOD0HcA10l18J0/yEeJ6uJWnOkpP8kO0bgVWBV8b4JmMJ5Tr8lVj27UYGgm0VVyCAeYlVXjWUBdkF5HvdhZTMHFlUwS8TNfUU5bU9oX7sn2OryaVcowuBbxP/4uGSZiy8XiWWeT1x7dRb3s+/JE2UH3NqXfcjDQiOIouyU6FP8zDUMKTDrepT7M1A30r5QseXstMxYt5uq0clze0YcFN2PhORUpDJSShiRtsrdZNTP37T2H6q/LwI6fQxCriL5HNntl2r6weSViLWc5MRaftEJNz1UAkP1zSH+BAp41mKLCZeJxZq19neqya3BsfxiU/rSNJB5Z+Kl+bVwKdqh4QHgnpIdasYra9AFtx3k4XFy8BPbF/T7dCmpPH6h8g7HNRD3s8DQWk1tpntv9QMCb8fDOlJcjCUQeIjxPz6lG4OXGW1dBtZPf2oKEU7g+taJHd1ehGh1DALH06KuI8kub+mn+eyJER9S0fVV/OmlrQw8UF9ihgy3Fnrug3AbWqSk3yUTOIP9cDgvjIJAz/ihgtLObcOsJLtrWpN5OX7fIw0MH61cXwYiWasCJxi+7xuc+uPEiGYBfgQibg9ZPveSlz2Bq63/ccBzq1GvJ8vdgXvZ0lLkwX2U0St3xxPJiTai/26zet/iSExr1RRAAAYH0lEQVQ7SZa80NrAibYfaRwfXjP8IOmLJDZ/NxlAf9TkVxuS1iX93G4Erum1G7gMmMN7WVzSi5A0F3Eo+iMZ3I8BPgHMAPze6U4yte2nKy3OhpHd2B+JyfU1tq8oiuFO9GdxYLJuq25L+HRpUrf8rCv7PTdR1Mk3AyvbfljSgqRbymiy2P670ltyJnfZ+7lwuwU4kGwAjiWiv8cKt56rF/5vMJRzkt8m/fAukHSmpA0kTeY49E8sqVbH9S+SNlOdMoYjFcn9m/VDlXh1sAFxNtkV+KykPyod1nsiZ2D7jc4EqT6XjkUl9VSTVvXVbq5YhB61sQ0p6fkecD95Njpd6reUNKKjpq64C/8xMDtpuLt3CRUeC8yodCm5ptsTZMFmRHiyL7C1pAUkTaE+167tVM+5a1nggTJBzkWaPo8GPg5cKOmTtp/s9gRZsCbpEPQL4JtksnyUfMcXqUctN98rag/Y7wcvk1XLwsTGalvgBkkHkETylNDdJLvSfmh2YsD9OumddgPwHUmrlQmgpnvI1MBsts+zfT/pSHIPsJOkj9fagSvNWeeTtLqkjSV9HKARulkUqJJvkTTPQJNgI7Q6FVk518YzpAgf8r3+zPb3gf2BaUmOtxrKvf89ssP9he0ViIbgQTK47lKPHfORRfdJ5F47gFy3NSRtDnylYij9b8B4Sou41Yjv8762twS+T9TMtTAZ8FIJue5Eapk73PYijRyGPIbyJHkYacj6iu1DbC9D1I9PkN3SERU4DQe2Lvm8EbZftP1donTdU9KeFTg1MTlRoXXEAM+Tm/lR4BylILgGvkMGpdXJgLW/pF+VHCkkXHh/JW57EpEOkiaXtLCkTSStXHbe51Tk1sTpRHY/mnRKeQagfMfTksG2F5SZt5FnYQLiYLMpGUzPgO7zK593MqmPPNv2V8n4cR2wDhlnOi3tuj5e2n4C2IOYfUxHfKDnL6eXJhqCKt+rU7P8D2Crcmh89am9FyN1uUPSr7WJIZuTbKLExt8oStcpiO/j/O/0d92EpFVII97v1RJOFB4D5qNKLnVW2z/uZs6qfHcPAzMB4xF3kw8Td6KFgH1t313jmqnPzWklx73mYKJovYVMPIfYvq4XhEQdSJqJTD4HAM8DjxDTiE9V5PSW61PCcAcCs9ieqhavJsqC5w0yJjb9R18k+b6uN6YuE1/n3zpkJzkHKUWanjwvm7pCX0v1VRZMDUxVcqPfIhG8EaRzzwqu5Dz1v8SQnyTLKsWdh1DSHMAMti+tORkNFXQGsHIdJ+yocbv4+dMBPwf2aib6ixhhKxK+3rKpmusit88VbiuRbi0/s714GRg2IWUp29bg1uAo0ol+NuJycnE5PjvwKTKZ/6EsNGqrlUeQMeffklYFprR9QslH1qp/XRM4iwEaeEv6GLCq7V/0ylgiaU7yXd8GvFAWbz2xSJM0Cwnr308MXUb3ynV7Pxhyk6Sk5UhN5LlEFddcoQ75L2Rso1ceqCYkbU2ERH8iauVLyvFlyeS5bA3eZUDahpgbjAROLuFzSp5yL8fHtaYl2JeBjcjudkFSwD0PMdj4ve1/1ODVgWKNtyL5Xl99p9d3E5LmJQuIOcvv05LGA1OSQf45VfJXfrfXrdJzMZIBKgsGeF3PjTX/DYbiJHkZybc8T3Js1wPnlrDXnKRYuka90NtuiJKX/I+ktYF/ugfqv5po8FuR8LuqIpePkcF+QbJruxcYH/iT7SMqh6jHJ/aG97jPJOJEUptWdZch6Uxi+3Wx4i07ISllmJjU5H7d9os1uBV+R5K847PkWT3U9unlnICdXKkMSak/fMX2D5Ua01Ek7H8jMTQ/qAavwm1M120YuW77VuY2mgj/jgfOtv2C0n5vL9tfr8FtbGBEbQLvBUoPRpF8xgNE5LEksaR7nAgADiyv7WZebX4ysJ/ZPO6+eqtniRF2FShtk+YlLiwX2L4O3sJvKnKzd5vXYiSU+RrpEbm3pJnJAL8U8cu8r3Dtdj5yMTIxvgIcbPss9bUUm5hMRifU4NbgOB7J564s6Tly/89r+/Fy/jyi1ry4Br+CScnC5y6i9t5H6Xv4u3Kukyapsev4CgmnA2wO/J4IoJYCdpd0ZedZqYBevm6dyoLbSfnMtqSk5ywS3u+UcLU7yRpQWhS9YfvFMmhNRlRfSxOF5EzdThZLOh642vaBjQlpBbLSOgX4jysWKCuWX1MCL5JB9TQyOT1DBoZhrtN66iKyal8YuKhwm4o465w5pr/tIreFiBfwY+Ree9D27xuvq53nm4OoHycgg9dFxLXmRUl/J65TVWzoyk5xMeDFzg68HJ+L5HS/CSxl+6puX8cyduxA6pqnI846s3ZCm5KuAHasMUmW67YI6SI0unG8+nVr8Pi37Xsax2YnteE/qMltbGBITZJjuuiSNiUts1buZviriBFuIkquJ8pqbxISIlkQOMb2ebVuGPX1F1yc7NhGl9+vBJYp/M6pMEjNA/zW9sLl9/vITvxxspI/otZEOQC3ewu3J0h/wV/aPrNXBoGycHyZ2OTtQBnwgXttb9lLuXr1qSKnAC63PV8PcJoXmNv2KeX3xYEDbS9Zl1lQnmE7Rik9c91gaFQWvF8MqXDrOwxIV5PBH0oooktYjoSA51WMuRewvUjJY61N3E4ud5dVow2sBtxu+xVJs5ImyuuXUN0jwGaSLnP3ZeTTAo8pQqyFgKds7wAgaX3iR1lrN9mf29O2d+zPrRcmSHizFhLgbkl/ILZ0pxAxD3T3eXgT5X5bhlg0Pku+4yfLTmku0imiiuCucBjmtGO7jahFO1icKF57QgzYLwpV9br1Rz9uHyaLtJ7g9r/CkJokxwTbtzZ+7uagMJo0K16flAScXji8VnZHkzhdGGrtOm4k+VtIt4qvFX7/lvSPwu+lbvNzSnTmJz6ytwB3SZrF9n1EkNUxhu/6detlbu8ERxl8Sb9jNSIY6xPbsleIyGM64GhJZ9i+k/i3dvjVGkzfltcrg/shZRFZk9uAcENcVzEXPuAEWELDo8vPPXXd3g+GTLh1oAFJb1WPvmz73FqcykO1BPBwGUyRdAJwiSspIJXOI5O6tMUa4PzvgYu6zU/FaLv8PA3ZZWxLwoUzlf9u7wqF+r3M7Z3QCGWuRVSbXX0e+nE5g4QsLyz34dFkUT4XMYg4rha3/mjuKhWF/LBmDrUmCjdsW9ICwAjb11em9SY6z4Di/zx1WaSNUxgSdkFlVf82j0K/VT1a46beVtKOZXD6t+3LScuYzgT1KpFH11pZbQacp3QOeAsUgdEb1OE3StIxkqaw/ZTjGXsCKV04k8jbOwrcbk9CvcztbegMovCW7/AFyoq+BhTLudeAkeU6vkp24N8gZT6LSJqoErfxJa0i6XBJC0FxIunzLV6UdE95y7XtErdJJK2qNBufpMONvojfPETRX4PbCMVfeW+Vhg0NfhB1/1Q1uI1tDImdpHpUPSrpGmA32xcptYbLANOQ3oc/d+V2T5IuJ96OHyId6k+qyacJSTuSHMZRbqjkegG9zA1A0sbAfbYvbRzr7CKr5oIaO4ulyCLtPjKwj297rTI5Xk0sGmvYqe1CJsInia3bIUTherrta7rNpx+3bYGfAvuQxfb1JEWysO0jK3PbnugvniBld4c73T/GefT8TrKop+an1KSRdjtbkXKG1YFlS8i12yurmYmq66Jy6Edk9XwFcWhZr7yuyjWWNB/wmu01SOeFzSTtpr72U+PV4NXAyWSQuljSeZK2kTSVpJkkfaoyv57lVp6Ho4FjJF0vaS9JczYmxm0krVCLX5kgRQb4M0j3lqNJezZIfvLRkgev8WysQsK925LF9s7AjMBpkg6ovAs6hhirz0X0DZsRB6UNJc2tWDjWwnrAQba3JtGAL0laAkAx+1+xIrexC9s9/Y/U890GLA9sSDp0Q9xY1gf+AEzcZU6dHfgPyYS9EllZdc6vTLpD1LxuPwB+0vh9BeAC4CfAFLW/1waviYjf47nle/4ZMedeveU2IKfFO/da+U6PI0YQF5OC+AdIvV/173YA7uMBnwOWLr+ry58/FbE+XJZMRA8S4VpnPDkD+Fjla7QgWVBMQKIZ/wBOJfXMc1fiNBK4ovw8rPx3W2D/8vOfgfVq319j61/Ph1sVu7L16GvWer7tvcu5JYC9Xck/s3z+t0hub3rg+7bPl/Q1YH7bo2qFv5ROC3e6SO5tWzEg3pOIT7YgNms9cwOUPO60th+qzaU/eoWbpClJJ4hbXcqKlHKjzxD3mOdsL1FbVKS31vb1TDmApPVIQf4jZLe2ie07Fd/WS2zPW4lX5xkdTsaU6UhD6sMdU/0lbf+1ErePkFTSJaSM5w1JHy38vgfsY3vpGty6gZ6fJDsoIa7FgSds/70cq6IelTSl7WfLz1ORneMXiDhhOlKof7jtv1WavKfwIK19iiDgRyTfdstAr2kxNCHpELLw2b/HJqbxnJKj6h7Bhc+8pHZzOdI78goSqXra9va9cO1K7nQXohDeuyaX/mhM6FuRfpsH296xF67b2EBP10lK2oC0gznbEcFc0Tg3BfXUo5uXB23nslM7DbiQ7CjHIzZc/yy8aqxCtlBcY3a2/VTJ/XRair1EKfhtMbRQdjvLEm/M8YgJ/D22ny+55ksoRfCVohcjyWSzLPBrF2GR+wRsUxHOXYdSzjMHMYcYBoznOGFNCXyepG06QqhuL2qnJDqGhYD7ndKdo4hK+aTymloRqWmIOcWixDP2DBerPKfxwMqkThwqmVaMbfT0TlLSpcAeTnH39KQM5GXiIHNTZW47khDr0bbvrsllIBR+0xF+PafQbPHeodQe3k8myMWJcvQvxFqwij9rE4ol439IucxkpDnwKOBa4AiiQn+5ErfDiEDnr0SBvjyxQPyB7SvG9Ldd4LYfyZGOJtftmA6n2rszSQeQ63URaVG4ADE2P7gsMqZ3MdQfV9Gzk2RRZ+5v+zPl99PJCvoFkkv4hu0ra+VeSpx+J5IvvYOYhp9EOlh8jJSsVCsB6cfv9sLvZCJGGVmbX4v3Br3dT3Y54p70KNmFfMX2wxX5jQD+Bixi+1+K3+3ZxFlnTeDPtn9ZKf0wguxg5ymRFJSWTqsSIdEhtq/uJqd+3G4jeosJiaJ1FeDLtp8u0bS/u47R+gjShWROEiWbnwjZRpeff2z7H7Un8rGNXi4B2RBYUdL/SdqEhDDXsT0K+C3FXKCWOMH2I7Z3JivA40nI5i8klLkOyVNWQz9+J5CB6i/AjvQAvxbvGdMAj0tauPz+MilB2pqEWT9di1jB9MQ7eaoygU9oe3vbvyNK66+WXH6N53USolBeonPA6bF5BnAesEfJ1dfAKqTm9XXbL9k+gHSc2a6c/zqpTayB6YBrgCkds4X7SY3kr0n99SjF9WycnSChh3OStneXdAfpWP8p+m4aCO9poL5/ptNi6ljg2F5RQDbR6/xavDvYvkzSJ4FNJO1JQq7Hl9OvE/XhCRWfh0dIROUucr/9uSPYIbmsF20/W4Of7eeUXodHSrod+IXtM22/KulZKvkXF9wG/KopBiRlRjtL2gx43vaDla7bI5JGAzdJupOUF11Yrtv5wLddsQVgt9CT4VY1/DPL75MQri+W328AtvE41LOsRYvB0HkelGbPqxHB2t2kxOcNSXcBG9dMPzS4jk/SItuT0OG9wHDSuf6IGqE59bkRTQhsTUKscwKXkcXGGbaP6YWwofr8qHcjKvQNbZ9Yk5ukmYhxy43ADUWpfCxwrWMGX/26jU306iS5C3HD2NX2Y+VYJzQ8M7C57W/X4teiRTch6Zvkedim5PuaNXUTknzk4RX5dVS3Jrvae23fongur0cK+K/spYG0DPyLkZ1RL4ieBIhiJas00z4DWKIX+DVR8rmbEKvLKkKsbqInJ0kYXJ0paXiJj1cPtbZo0S2U52EGUt/aU2rqfqrbJcrPfwEOtf1aPWZQQtOPAmfZfmSA8zV3aGPk1nhdDbFTh9vZ/QVhH7Rxt5eFOycTY+6LJf1J0pZK4f70kpYp+Y4PzBfV4gOPk0ku/qLm8yBpZlX0ky2q2xlt71BERDuRcWUO4HxJM9bgVbgtQBTA85F85BGS1pI0WTn/NeCjPcpt57Lb7bo4sR+3X/bnBny9w+2DgJ7dSXagdA1Yl/i0zkxUaiOIpPzsmtxatOg2BngeziE7uCrPg6RPExu1b9u+QbFq3NX22pL2IOULJ4z5XcYat62Jv+12wGwkvLoYKdN6EtjA9qQtt6HDrQZ6fpJsolVntmjRh155HoqGoNOQejzgeNu/lfRt4CO2t60VopM0s+0Hy88TkpD1pMAvgJttb9lM4bTcep9btzGkJskWLVr0DnpZddtUyA/02Up52ea2L2+5DQ1utdDLOckWLVr0NkZJOoakzU4hApQ7yPg6CXHMuhKqmH5sKulYSdMUtegwSSPKf4eT7kGXt9yGFLcqaHeSLVq0+K/R46rbnvUvbrkNHbQ7yRYtWrwf9KTqtsHtbQr5ltuQ5tZ1tDvJFi1avG/0muq25TZuc+sm2kmyRYsW/1P0iup2ILTc/jv0MrexjXaSbNGiRYsWLQZBm5Ns0aJFixYtBkE7SbZo0aJFixaDoJ0kW7Ro0aJFi0HQTpItWrRo0aLFIGgnyRYtBoGk5ZSO9j0DSSMl3drr79mixbiCdpJs0aLF/wTFtqxFi3EK7STZYshA0h8lXS/pNklbSNpK0s8a5zeWdEj5+buS7pR0uaQTJO08hvddTNItkm6S9LOBdlWSvtd8D0m3ShpZft6o/P3Nko4rx0ZKuqgcv1DSzOX4uuVvb5Z0WTk2vHzuteX1W77L6zHg30k6UdLqjdcdI2md9/E5E0k6SdLtkk6TdLWkRcu5lyTtJ+lmYElJO5X/v1uVfo1v26kqvRK/V36+RNKB5drfKmnxd8OpRYtuYURtAi1avAeMsv2M0rrnWmBF4Argm+X8F4EfSloM+AKwAHEIuQG4fgzv+2vS2eCvkn7yXghJmhf4DrCU7aeUxuAABwPH2j5W0ijgIGBNYA9gFdsPS5qivHZT4Hnbi5Wi7SsknW/7vnf4+AH/Dvg9sB5wtqTxyXXaegyvf6di6W2AZ23PI2k+4KbGuYmBq21/Q9IiwCbAEoCAqyVdCjz7Du8/ke0Fld6UR5Nmvy1a9ATanWSLoYQdyo7lKtK/cBbgXkmflDQ1MBeZNJcGTrf9iu0XgTMHe8MyUU1q+6/l0PHvkdMKwMm2nwKw/Uw5vmTjvY4Dlik/XwEcI2lzoBOeXBnYSNJNwNXA1MDH38VnD/Z35wLLl4lwNeAy2y+/j89ZBjix/P/dCtzSOPc6cGrjdafZ/qftl4A/AJ96F+9/Qnnvy4DJGouHFi2qo91JthgSkLQcsBKwpO1/SboEmIAM3usBo8kAbUljg8J/eOuicoL/5k1sbyVpCWB14Pqy+xKwve3z3uPbDfp35fqsQnbXJ47p9Z2w8X+JV95F4913unb9d7KtDViLnkG7k2wxVDA5Cfn9S9JcwCfL8dOAzwMb0DcZXAF8VtIESl/DNQZ7U9vPAS+WiQti5jwQ7gcWBpC0MNnFAlwErFt2sjTCrVc23utLwF/K+dlsX217D+BJsiM+D9hapbuCpDmURsbvhDH93e9J6PNTwJ/exevHhCvIQgRJ8wCfGOR1fwHWLDnMiYG1yrHHgekkTV12t/2/jy+W916GhIOffxecWrToCtqdZIuhgj8BWymd0e8kIVdsP1uOzWP7mnLsWklnkLDg48DfgDENvJsCR0p6A7h0kNeeSkKVt5FQ5V3ls26T9EPgUkmvAzcCGwPbA7+W9E0yGW5S3udnkj5OdnUXAjcXniOBG5Rt8JMkf/lOOGoMf3c+CfOebvu1d/H6MeEw4FhJt5Md+20McI1s36A0Yb6m83m2bwSQtFc5/nB5jyZekXQjyR+Pehd8WrToGlqD8xbjJCRNYvslpd3PZcAWtm8Y02vLz7sBM9jesYt0expKacd4tl+RNBtwATBnY/J9P+99CbCz7eve73u1aDE20O4kW4yr+GUJDU5AVKYDTpAFq0v6FnkeHiA7wRZ9mIg04B2P7IC3+V9MkC1aDAW0O8kWHxhIOpQoX5s40Pava/AZEyR9goRLm3jV9hIDvf5/9JmrAPv0O3yf7bXG1me2aNHraCfJFi1atGjRYhC06tYWLVq0aNFiELSTZIsWLVq0aDEI2kmyRYsWLVq0GATtJNmiRYsWLVoMgnaSbNGiRYsWLQbB/wO8+otiy1RVeQAAAABJRU5ErkJggg==\n"
          },
          "metadata": {
            "needs_background": "light"
          }
        }
      ]
    },
    {
      "cell_type": "markdown",
      "source": [
        "As expected, both people with a very low and with a very high blood glucose level are more likely to have a stroke than the people with a regular glucose lecel. \n",
        "\n",
        "General medical guidelines state that a glucose level of less than 100mg/dL is normal after not eating for more than 8 hours, and a glucose level of less than 140mg/dL is normal after not eating for at least 2 hours ([see this analysis](https://https://www.webmd.com/diabetes/how-sugar-affects-diabetes)). These guidelines are confirmed by the above plot, which shows that\n",
        "\n",
        "\n",
        "*   an average glucose level lower than 80mg/dL may increase the chance for a stroke, by ~30%\n",
        "*   an average glucose level higher than 124mg/dL may dramatically increase the chance for a stroke, by more than 200%\n",
        "\n"
      ],
      "metadata": {
        "id": "mkXeqx1JDzAO"
      }
    },
    {
      "cell_type": "markdown",
      "source": [
        "#### Body Mass Index"
      ],
      "metadata": {
        "id": "Gr4yQLqrQHVc"
      }
    },
    {
      "cell_type": "code",
      "source": [
        "bmi_value_counts = stroke_df.bmi.value_counts()\n",
        "bmi_value_counts"
      ],
      "metadata": {
        "id": "2R_FPIMEvxKG",
        "outputId": "76c5c37e-08b5-40fa-a5d2-fbe04f7eb845",
        "colab": {
          "base_uri": "https://localhost:8080/"
        }
      },
      "execution_count": null,
      "outputs": [
        {
          "output_type": "execute_result",
          "data": {
            "text/plain": [
              "28.7    41\n",
              "28.4    38\n",
              "26.7    37\n",
              "27.6    37\n",
              "26.1    37\n",
              "        ..\n",
              "48.7     1\n",
              "49.2     1\n",
              "51.0     1\n",
              "49.4     1\n",
              "14.9     1\n",
              "Name: bmi, Length: 418, dtype: int64"
            ]
          },
          "metadata": {},
          "execution_count": 47
        }
      ]
    },
    {
      "cell_type": "markdown",
      "source": [
        "#### Smoking Status"
      ],
      "metadata": {
        "id": "RVtzuSBhQMhb"
      }
    },
    {
      "cell_type": "markdown",
      "source": [
        "This feature shows whether a person\n",
        "\n",
        "\n",
        "*   smokes\n",
        "*   formerly smoked\n",
        "*   never smoked\n",
        "*   their smoking status is unknown\n",
        "\n"
      ],
      "metadata": {
        "id": "glyJxIW-GDQS"
      }
    },
    {
      "cell_type": "code",
      "source": [
        "smoking_value_counts = stroke_df.smoking_status.value_counts()\n",
        "smoking_value_counts"
      ],
      "metadata": {
        "colab": {
          "base_uri": "https://localhost:8080/"
        },
        "id": "1e4cRVMBGCv2",
        "outputId": "0bf9434c-2446-45eb-fc1b-f6f2261c6d88"
      },
      "execution_count": 26,
      "outputs": [
        {
          "output_type": "execute_result",
          "data": {
            "text/plain": [
              "never smoked       1892\n",
              "Unknown            1544\n",
              "formerly smoked     885\n",
              "smokes              789\n",
              "Name: smoking_status, dtype: int64"
            ]
          },
          "metadata": {},
          "execution_count": 26
        }
      ]
    },
    {
      "cell_type": "code",
      "source": [
        "explode = [0.05] * smoking_value_counts.count()\n",
        "plt.pie(smoking_value_counts.array, labels=smoking_value_counts.index, autopct = '%0.0f%%', explode = explode)\n",
        "plt.title(\"The Ratio of Population with different Smoking Status\")\n",
        "plt.show()"
      ],
      "metadata": {
        "colab": {
          "base_uri": "https://localhost:8080/",
          "height": 264
        },
        "id": "A1wIpENmGfNb",
        "outputId": "9e93db4c-1ee4-4ed5-8084-58e107275e3a"
      },
      "execution_count": 27,
      "outputs": [
        {
          "output_type": "display_data",
          "data": {
            "text/plain": [
              "<Figure size 432x288 with 1 Axes>"
            ],
            "image/png": "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\n"
          },
          "metadata": {}
        }
      ]
    },
    {
      "cell_type": "markdown",
      "source": [
        "We can see that 30% of the data is missing. We can't drop 30% of the data, so we should replace the 'Unknown' values somehow."
      ],
      "metadata": {
        "id": "Il47Xj52Gq7z"
      }
    },
    {
      "cell_type": "code",
      "source": [
        "plot_categorical_variable_stroke_ratio(stroke_df, \"smoking_status\", \"The ratio of peope having had a stroke,\\ncategorized by Smoking Status\", 3)"
      ],
      "metadata": {
        "id": "vM2zsLU-N6SU",
        "outputId": "17237101-c9e8-4882-db16-bd2376139f7a",
        "colab": {
          "base_uri": "https://localhost:8080/",
          "height": 432
        }
      },
      "execution_count": 28,
      "outputs": [
        {
          "output_type": "display_data",
          "data": {
            "text/plain": [
              "<Figure size 432x432 with 1 Axes>"
            ],
            "image/png": "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\n"
          },
          "metadata": {
            "needs_background": "light"
          }
        }
      ]
    },
    {
      "cell_type": "markdown",
      "source": [
        "Unexpectedly, the ratio of people who had a stroke is higher among former smokers than among current smokers. \n",
        "\n",
        "This may be explained by the facts that:\n",
        "\n",
        "\n",
        "*   those who have formerly smoked may be older\n",
        "*   many of those who are smoking now may have smoked for less time\n",
        "\n",
        "\n"
      ],
      "metadata": {
        "id": "M9o5Lk51Isxc"
      }
    },
    {
      "cell_type": "markdown",
      "source": [
        "### The label: Stroke"
      ],
      "metadata": {
        "id": "a4od9mdwQQHT"
      }
    },
    {
      "cell_type": "markdown",
      "source": [
        "## Data Cleaning"
      ],
      "metadata": {
        "id": "82-1WbvKRCqY"
      }
    },
    {
      "cell_type": "markdown",
      "source": [
        "###Gender"
      ],
      "metadata": {
        "id": "bSagk1h7c3qO"
      }
    },
    {
      "cell_type": "markdown",
      "source": [
        "### Work Type"
      ],
      "metadata": {
        "id": "rx2Ai6xSRJh9"
      }
    },
    {
      "cell_type": "markdown",
      "source": [
        "### Body Mass Index"
      ],
      "metadata": {
        "id": "sB2eZUV_RL1v"
      }
    },
    {
      "cell_type": "markdown",
      "source": [
        "### Smoking Status"
      ],
      "metadata": {
        "id": "zkrwzoc4ROKu"
      }
    },
    {
      "cell_type": "markdown",
      "source": [
        "## Random code"
      ],
      "metadata": {
        "id": "Ah0pqhy8QU29"
      }
    },
    {
      "cell_type": "markdown",
      "source": [
        "TODO: delete this section"
      ],
      "metadata": {
        "id": "ObeDkbgGQcL3"
      }
    },
    {
      "cell_type": "code",
      "source": [
        "stroke_df.isnull().sum()"
      ],
      "metadata": {
        "id": "9HtUYtfaL7rZ",
        "outputId": "19fec561-6982-4c4e-dc2e-c43336a2bc5b",
        "colab": {
          "base_uri": "https://localhost:8080/"
        }
      },
      "execution_count": 29,
      "outputs": [
        {
          "output_type": "execute_result",
          "data": {
            "text/plain": [
              "id                     0\n",
              "gender                 0\n",
              "age                    0\n",
              "hypertension           0\n",
              "heart_disease          0\n",
              "ever_married           0\n",
              "work_type              0\n",
              "residence_type         0\n",
              "avg_glucose_level      0\n",
              "bmi                  201\n",
              "smoking_status         0\n",
              "stroke                 0\n",
              "dtype: int64"
            ]
          },
          "metadata": {},
          "execution_count": 29
        }
      ]
    },
    {
      "cell_type": "code",
      "source": [
        "stroke_df.work_type.value_counts()"
      ],
      "metadata": {
        "colab": {
          "base_uri": "https://localhost:8080/"
        },
        "id": "N2TnFs1gvQR3",
        "outputId": "255d18bc-2d17-4b4e-e433-3ccd80ead64d"
      },
      "execution_count": 30,
      "outputs": [
        {
          "output_type": "execute_result",
          "data": {
            "text/plain": [
              "Private          2925\n",
              "Self-employed     819\n",
              "children          687\n",
              "Govt_job          657\n",
              "Never_worked       22\n",
              "Name: work_type, dtype: int64"
            ]
          },
          "metadata": {},
          "execution_count": 30
        }
      ]
    },
    {
      "cell_type": "code",
      "source": [
        "stroke_df.age.map(lambda a: 1 if a >= 16 else 0).value_counts()"
      ],
      "metadata": {
        "colab": {
          "base_uri": "https://localhost:8080/"
        },
        "id": "f8Ffj9MLvmZZ",
        "outputId": "31e5d44f-8694-416d-9bc4-5265dd65a40b"
      },
      "execution_count": 31,
      "outputs": [
        {
          "output_type": "execute_result",
          "data": {
            "text/plain": [
              "1    4366\n",
              "0     744\n",
              "Name: age, dtype: int64"
            ]
          },
          "metadata": {},
          "execution_count": 31
        }
      ]
    },
    {
      "cell_type": "code",
      "source": [
        "stroke_df[stroke_df[\"age\"]<16][stroke_df[\"work_type\"]!=\"children\"]"
      ],
      "metadata": {
        "colab": {
          "base_uri": "https://localhost:8080/",
          "height": 458
        },
        "id": "5ElmyHOZ0f1u",
        "outputId": "a1165a75-a2b1-48cc-b931-f53a11e7327d"
      },
      "execution_count": 32,
      "outputs": [
        {
          "output_type": "stream",
          "name": "stderr",
          "text": [
            "/usr/local/lib/python3.7/dist-packages/ipykernel_launcher.py:1: UserWarning: Boolean Series key will be reindexed to match DataFrame index.\n",
            "  \"\"\"Entry point for launching an IPython kernel.\n"
          ]
        },
        {
          "output_type": "execute_result",
          "data": {
            "text/plain": [
              "         id  gender   age  hypertension  heart_disease ever_married  \\\n",
              "251   16523  Female   8.0             0              0           No   \n",
              "253   46136    Male  14.0             0              0           No   \n",
              "284   26325    Male  14.0             0              0           No   \n",
              "410   54975    Male   7.0             0              0           No   \n",
              "455    7351    Male  13.0             0              0           No   \n",
              "...     ...     ...   ...           ...            ...          ...   \n",
              "4709  41930    Male  15.0             0              0           No   \n",
              "4806  69723    Male  15.0             0              0           No   \n",
              "4903  56629  Female  14.0             0              0           No   \n",
              "4923  72186  Female  15.0             0              0           No   \n",
              "4981  61801    Male  15.0             0              0           No   \n",
              "\n",
              "          work_type residence_type  avg_glucose_level   bmi smoking_status  \\\n",
              "251         Private          Urban             110.89  17.6        Unknown   \n",
              "253    Never_worked          Rural             161.28  19.1        Unknown   \n",
              "284        Govt_job          Urban              82.34  31.6        Unknown   \n",
              "410   Self-employed          Rural              64.06  18.9        Unknown   \n",
              "455         Private          Urban              92.14  23.2   never smoked   \n",
              "...             ...            ...                ...   ...            ...   \n",
              "4709        Private          Rural             144.15  24.1   never smoked   \n",
              "4806        Private          Urban             137.27  19.3   never smoked   \n",
              "4903        Private          Rural              83.56  33.1        Unknown   \n",
              "4923        Private          Rural              82.19  40.5   never smoked   \n",
              "4981        Private          Urban              65.05  24.6        Unknown   \n",
              "\n",
              "      stroke  \n",
              "251        0  \n",
              "253        0  \n",
              "284        0  \n",
              "410        0  \n",
              "455        0  \n",
              "...      ...  \n",
              "4709       0  \n",
              "4806       0  \n",
              "4903       0  \n",
              "4923       0  \n",
              "4981       0  \n",
              "\n",
              "[68 rows x 12 columns]"
            ],
            "text/html": [
              "\n",
              "  <div id=\"df-10ffe623-3a9f-44c6-810d-47e0eaa5b242\">\n",
              "    <div class=\"colab-df-container\">\n",
              "      <div>\n",
              "<style scoped>\n",
              "    .dataframe tbody tr th:only-of-type {\n",
              "        vertical-align: middle;\n",
              "    }\n",
              "\n",
              "    .dataframe tbody tr th {\n",
              "        vertical-align: top;\n",
              "    }\n",
              "\n",
              "    .dataframe thead th {\n",
              "        text-align: right;\n",
              "    }\n",
              "</style>\n",
              "<table border=\"1\" class=\"dataframe\">\n",
              "  <thead>\n",
              "    <tr style=\"text-align: right;\">\n",
              "      <th></th>\n",
              "      <th>id</th>\n",
              "      <th>gender</th>\n",
              "      <th>age</th>\n",
              "      <th>hypertension</th>\n",
              "      <th>heart_disease</th>\n",
              "      <th>ever_married</th>\n",
              "      <th>work_type</th>\n",
              "      <th>residence_type</th>\n",
              "      <th>avg_glucose_level</th>\n",
              "      <th>bmi</th>\n",
              "      <th>smoking_status</th>\n",
              "      <th>stroke</th>\n",
              "    </tr>\n",
              "  </thead>\n",
              "  <tbody>\n",
              "    <tr>\n",
              "      <th>251</th>\n",
              "      <td>16523</td>\n",
              "      <td>Female</td>\n",
              "      <td>8.0</td>\n",
              "      <td>0</td>\n",
              "      <td>0</td>\n",
              "      <td>No</td>\n",
              "      <td>Private</td>\n",
              "      <td>Urban</td>\n",
              "      <td>110.89</td>\n",
              "      <td>17.6</td>\n",
              "      <td>Unknown</td>\n",
              "      <td>0</td>\n",
              "    </tr>\n",
              "    <tr>\n",
              "      <th>253</th>\n",
              "      <td>46136</td>\n",
              "      <td>Male</td>\n",
              "      <td>14.0</td>\n",
              "      <td>0</td>\n",
              "      <td>0</td>\n",
              "      <td>No</td>\n",
              "      <td>Never_worked</td>\n",
              "      <td>Rural</td>\n",
              "      <td>161.28</td>\n",
              "      <td>19.1</td>\n",
              "      <td>Unknown</td>\n",
              "      <td>0</td>\n",
              "    </tr>\n",
              "    <tr>\n",
              "      <th>284</th>\n",
              "      <td>26325</td>\n",
              "      <td>Male</td>\n",
              "      <td>14.0</td>\n",
              "      <td>0</td>\n",
              "      <td>0</td>\n",
              "      <td>No</td>\n",
              "      <td>Govt_job</td>\n",
              "      <td>Urban</td>\n",
              "      <td>82.34</td>\n",
              "      <td>31.6</td>\n",
              "      <td>Unknown</td>\n",
              "      <td>0</td>\n",
              "    </tr>\n",
              "    <tr>\n",
              "      <th>410</th>\n",
              "      <td>54975</td>\n",
              "      <td>Male</td>\n",
              "      <td>7.0</td>\n",
              "      <td>0</td>\n",
              "      <td>0</td>\n",
              "      <td>No</td>\n",
              "      <td>Self-employed</td>\n",
              "      <td>Rural</td>\n",
              "      <td>64.06</td>\n",
              "      <td>18.9</td>\n",
              "      <td>Unknown</td>\n",
              "      <td>0</td>\n",
              "    </tr>\n",
              "    <tr>\n",
              "      <th>455</th>\n",
              "      <td>7351</td>\n",
              "      <td>Male</td>\n",
              "      <td>13.0</td>\n",
              "      <td>0</td>\n",
              "      <td>0</td>\n",
              "      <td>No</td>\n",
              "      <td>Private</td>\n",
              "      <td>Urban</td>\n",
              "      <td>92.14</td>\n",
              "      <td>23.2</td>\n",
              "      <td>never smoked</td>\n",
              "      <td>0</td>\n",
              "    </tr>\n",
              "    <tr>\n",
              "      <th>...</th>\n",
              "      <td>...</td>\n",
              "      <td>...</td>\n",
              "      <td>...</td>\n",
              "      <td>...</td>\n",
              "      <td>...</td>\n",
              "      <td>...</td>\n",
              "      <td>...</td>\n",
              "      <td>...</td>\n",
              "      <td>...</td>\n",
              "      <td>...</td>\n",
              "      <td>...</td>\n",
              "      <td>...</td>\n",
              "    </tr>\n",
              "    <tr>\n",
              "      <th>4709</th>\n",
              "      <td>41930</td>\n",
              "      <td>Male</td>\n",
              "      <td>15.0</td>\n",
              "      <td>0</td>\n",
              "      <td>0</td>\n",
              "      <td>No</td>\n",
              "      <td>Private</td>\n",
              "      <td>Rural</td>\n",
              "      <td>144.15</td>\n",
              "      <td>24.1</td>\n",
              "      <td>never smoked</td>\n",
              "      <td>0</td>\n",
              "    </tr>\n",
              "    <tr>\n",
              "      <th>4806</th>\n",
              "      <td>69723</td>\n",
              "      <td>Male</td>\n",
              "      <td>15.0</td>\n",
              "      <td>0</td>\n",
              "      <td>0</td>\n",
              "      <td>No</td>\n",
              "      <td>Private</td>\n",
              "      <td>Urban</td>\n",
              "      <td>137.27</td>\n",
              "      <td>19.3</td>\n",
              "      <td>never smoked</td>\n",
              "      <td>0</td>\n",
              "    </tr>\n",
              "    <tr>\n",
              "      <th>4903</th>\n",
              "      <td>56629</td>\n",
              "      <td>Female</td>\n",
              "      <td>14.0</td>\n",
              "      <td>0</td>\n",
              "      <td>0</td>\n",
              "      <td>No</td>\n",
              "      <td>Private</td>\n",
              "      <td>Rural</td>\n",
              "      <td>83.56</td>\n",
              "      <td>33.1</td>\n",
              "      <td>Unknown</td>\n",
              "      <td>0</td>\n",
              "    </tr>\n",
              "    <tr>\n",
              "      <th>4923</th>\n",
              "      <td>72186</td>\n",
              "      <td>Female</td>\n",
              "      <td>15.0</td>\n",
              "      <td>0</td>\n",
              "      <td>0</td>\n",
              "      <td>No</td>\n",
              "      <td>Private</td>\n",
              "      <td>Rural</td>\n",
              "      <td>82.19</td>\n",
              "      <td>40.5</td>\n",
              "      <td>never smoked</td>\n",
              "      <td>0</td>\n",
              "    </tr>\n",
              "    <tr>\n",
              "      <th>4981</th>\n",
              "      <td>61801</td>\n",
              "      <td>Male</td>\n",
              "      <td>15.0</td>\n",
              "      <td>0</td>\n",
              "      <td>0</td>\n",
              "      <td>No</td>\n",
              "      <td>Private</td>\n",
              "      <td>Urban</td>\n",
              "      <td>65.05</td>\n",
              "      <td>24.6</td>\n",
              "      <td>Unknown</td>\n",
              "      <td>0</td>\n",
              "    </tr>\n",
              "  </tbody>\n",
              "</table>\n",
              "<p>68 rows × 12 columns</p>\n",
              "</div>\n",
              "      <button class=\"colab-df-convert\" onclick=\"convertToInteractive('df-10ffe623-3a9f-44c6-810d-47e0eaa5b242')\"\n",
              "              title=\"Convert this dataframe to an interactive table.\"\n",
              "              style=\"display:none;\">\n",
              "        \n",
              "  <svg xmlns=\"http://www.w3.org/2000/svg\" height=\"24px\"viewBox=\"0 0 24 24\"\n",
              "       width=\"24px\">\n",
              "    <path d=\"M0 0h24v24H0V0z\" fill=\"none\"/>\n",
              "    <path d=\"M18.56 5.44l.94 2.06.94-2.06 2.06-.94-2.06-.94-.94-2.06-.94 2.06-2.06.94zm-11 1L8.5 8.5l.94-2.06 2.06-.94-2.06-.94L8.5 2.5l-.94 2.06-2.06.94zm10 10l.94 2.06.94-2.06 2.06-.94-2.06-.94-.94-2.06-.94 2.06-2.06.94z\"/><path d=\"M17.41 7.96l-1.37-1.37c-.4-.4-.92-.59-1.43-.59-.52 0-1.04.2-1.43.59L10.3 9.45l-7.72 7.72c-.78.78-.78 2.05 0 2.83L4 21.41c.39.39.9.59 1.41.59.51 0 1.02-.2 1.41-.59l7.78-7.78 2.81-2.81c.8-.78.8-2.07 0-2.86zM5.41 20L4 18.59l7.72-7.72 1.47 1.35L5.41 20z\"/>\n",
              "  </svg>\n",
              "      </button>\n",
              "      \n",
              "  <style>\n",
              "    .colab-df-container {\n",
              "      display:flex;\n",
              "      flex-wrap:wrap;\n",
              "      gap: 12px;\n",
              "    }\n",
              "\n",
              "    .colab-df-convert {\n",
              "      background-color: #E8F0FE;\n",
              "      border: none;\n",
              "      border-radius: 50%;\n",
              "      cursor: pointer;\n",
              "      display: none;\n",
              "      fill: #1967D2;\n",
              "      height: 32px;\n",
              "      padding: 0 0 0 0;\n",
              "      width: 32px;\n",
              "    }\n",
              "\n",
              "    .colab-df-convert:hover {\n",
              "      background-color: #E2EBFA;\n",
              "      box-shadow: 0px 1px 2px rgba(60, 64, 67, 0.3), 0px 1px 3px 1px rgba(60, 64, 67, 0.15);\n",
              "      fill: #174EA6;\n",
              "    }\n",
              "\n",
              "    [theme=dark] .colab-df-convert {\n",
              "      background-color: #3B4455;\n",
              "      fill: #D2E3FC;\n",
              "    }\n",
              "\n",
              "    [theme=dark] .colab-df-convert:hover {\n",
              "      background-color: #434B5C;\n",
              "      box-shadow: 0px 1px 3px 1px rgba(0, 0, 0, 0.15);\n",
              "      filter: drop-shadow(0px 1px 2px rgba(0, 0, 0, 0.3));\n",
              "      fill: #FFFFFF;\n",
              "    }\n",
              "  </style>\n",
              "\n",
              "      <script>\n",
              "        const buttonEl =\n",
              "          document.querySelector('#df-10ffe623-3a9f-44c6-810d-47e0eaa5b242 button.colab-df-convert');\n",
              "        buttonEl.style.display =\n",
              "          google.colab.kernel.accessAllowed ? 'block' : 'none';\n",
              "\n",
              "        async function convertToInteractive(key) {\n",
              "          const element = document.querySelector('#df-10ffe623-3a9f-44c6-810d-47e0eaa5b242');\n",
              "          const dataTable =\n",
              "            await google.colab.kernel.invokeFunction('convertToInteractive',\n",
              "                                                     [key], {});\n",
              "          if (!dataTable) return;\n",
              "\n",
              "          const docLinkHtml = 'Like what you see? Visit the ' +\n",
              "            '<a target=\"_blank\" href=https://colab.research.google.com/notebooks/data_table.ipynb>data table notebook</a>'\n",
              "            + ' to learn more about interactive tables.';\n",
              "          element.innerHTML = '';\n",
              "          dataTable['output_type'] = 'display_data';\n",
              "          await google.colab.output.renderOutput(dataTable, element);\n",
              "          const docLink = document.createElement('div');\n",
              "          docLink.innerHTML = docLinkHtml;\n",
              "          element.appendChild(docLink);\n",
              "        }\n",
              "      </script>\n",
              "    </div>\n",
              "  </div>\n",
              "  "
            ]
          },
          "metadata": {},
          "execution_count": 32
        }
      ]
    }
  ]
}