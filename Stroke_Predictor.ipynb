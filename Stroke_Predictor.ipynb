{
  "nbformat": 4,
  "nbformat_minor": 0,
  "metadata": {
    "colab": {
      "name": "Stroke-Predictor.ipynb",
      "provenance": [],
      "collapsed_sections": [],
      "toc_visible": true,
      "include_colab_link": true
    },
    "kernelspec": {
      "name": "python3",
      "display_name": "Python 3"
    },
    "language_info": {
      "name": "python"
    }
  },
  "cells": [
    {
      "cell_type": "markdown",
      "metadata": {
        "id": "view-in-github",
        "colab_type": "text"
      },
      "source": [
        "<a href=\"https://colab.research.google.com/github/EnoiuDiana/Stroke-Predictor/blob/bori_dev/Stroke_Predictor.ipynb\" target=\"_parent\"><img src=\"https://colab.research.google.com/assets/colab-badge.svg\" alt=\"Open In Colab\"/></a>"
      ]
    },
    {
      "cell_type": "markdown",
      "source": [
        "# Stroke Prediction based on medical and demographical data"
      ],
      "metadata": {
        "id": "sA2mv91AKteu"
      }
    },
    {
      "cell_type": "markdown",
      "source": [
        "## Problem Statement"
      ],
      "metadata": {
        "id": "htp5B9D_PODY"
      }
    },
    {
      "cell_type": "markdown",
      "source": [
        "This project is aimed to help to **decide whether a person is likely to get a stroke**, based on demographical and medical data.\n",
        "\n",
        "Thus, we framed the problem as a **classification problem**: we intend to tell only whether someone is likely or not to get a stroke, we do not try to precisely predict the likelihood of a stroke.\n",
        "\n"
      ],
      "metadata": {
        "id": "QlbSqGDdPRPT"
      }
    },
    {
      "cell_type": "markdown",
      "source": [
        "### Background: what is a Stroke?\n",
        "\n",
        "([source 1: NHS](https://www.nhs.uk/conditions/stroke/#:~:text=A%20stroke%20is%20a%20serious,damage%20is%20likely%20to%20happen.))\n",
        "\n",
        "([source 2: CDC](https://www.cdc.gov/stroke/index.htm#:~:text=Stroke%20is%20a%20leading%20cause,of%20serious%20disability%20for%20adults.&text=About%20795%2C000%20people%20in%20the%20United%20States%20have%20a%20stroke%20each%20year.&text=Get%20more%20quick%20facts%20about,Stroke%20is%20preventable.))\n",
        "\n",
        "A stroke is the event in which the flow of blood to a part of the brain is cut off, thus causing the brain cells to get demaged or die. The effects may include a permanent brain demage, long-term disabilities or even death. \n",
        "\n",
        "The direct cause of a stroke is generally a blood clot / a piece of fatty material, blocking an artery (Ischaemic stroke), or the walls of a blood vessel in the brain becoming weak and burst (Haemorrhagic stroke).\n",
        "\n",
        "It is one of the leading death causes and requires urgent treatment. It is reported to cause almost 800 000 deaths each year in the USA."
      ],
      "metadata": {
        "id": "MsDiP_F5BAEo"
      }
    },
    {
      "cell_type": "markdown",
      "source": [
        "### Why our analysis is relevant?\n",
        "\n",
        "The good thing about strokes is that they're somewhat **preventable** with a healthy lifestyle and also **treatable**, if the patient gets the treatment in time.\n",
        "\n",
        "**Our analysis will focus on the prevention: we try to understand what life-style choises help to reduce one's exposure to stroke.**"
      ],
      "metadata": {
        "id": "CeQ2gUmyDK3E"
      }
    },
    {
      "cell_type": "markdown",
      "source": [
        "## Data Fetching"
      ],
      "metadata": {
        "id": "26sZKpSVDJum"
      }
    },
    {
      "cell_type": "markdown",
      "source": [
        "\n",
        "\n",
        "*   [source](https://https://www.kaggle.com/datasets/fedesoriano/stroke-prediction-dataset)\n",
        "\n",
        "**The structure of the dataset**\n",
        "\n",
        "*   each entry represents one person\n",
        "*   **label**, to be predicted: boolean variable 'stroke', that tells whether a person is likely to have a stroke\n",
        "*   **features**, to rely on for the prediction:\n",
        "  * demographical \n",
        "      * *gender* : male, female or other\n",
        "      * *age*\n",
        "      * *marital status (ever_married)* : was the person ever married?\n",
        "      * *work type (work_type)* : children, government job ('Govt_job'), never worked ('never_worked'), private, self-employed\n",
        "      * *residence (residence_type)* : urban or rural\n",
        "      * *smoking status* : 'never smoked', 'formerly smoked', 'smokes', 'unknown'\n",
        "   * medical data\n",
        "      * *hypertension*: 0, if the patient doesn't have hypertension, 1 otherwise\n",
        "      * *heart disease (heart_disease)* : 0 if the patient doesn't have any heart disease, 1 otherwise\n",
        "      * *average blood glucose level (avg_glucose_level)*\n",
        "      * *body mass index (bmi)*\n",
        "\n"
      ],
      "metadata": {
        "id": "yYv2OY8CDNUC"
      }
    },
    {
      "cell_type": "markdown",
      "source": [
        "As expected, the dataset contains the labels as well. Stroke prediction based on demographic and medical data seems much better suited for **supervised learning** indeed, because we would not expect to find a clear separation between people with and without a stroke that could be easily found by a clustering algorithm.\n",
        "\n",
        "On the other hand, it seems promising to analyse time series representing purely medical data about the patients, such as the blood pressure, cholesterol level, ecg, ..., and try to detect anomalies relying on unsupervised learning algorithms in these time series to predict a stroke.\n",
        "\n",
        "Note that these two approaches are both feasible but could be used for entirely different purposes:\n",
        "\n",
        "\n",
        "*   our supervised-learning approach based on medical and demographical data helps to find what lifestyle helps to prevent a stroke\n",
        "*   a time-series based unsupervised anomaly detection might help to detect the early signs of a stroke and ensure that the patient gets the necessary treatment as soon as possible, thus minimizing the effects of a stroke\n",
        "\n"
      ],
      "metadata": {
        "id": "IRMamGPB-VgF"
      }
    },
    {
      "cell_type": "markdown",
      "source": [
        "## Setup"
      ],
      "metadata": {
        "id": "P8QXe2JhK556"
      }
    },
    {
      "cell_type": "code",
      "source": [
        "# imports\n",
        "import pandas as pd\n",
        "import matplotlib.pyplot as plt\n",
        "import seaborn as sns\n",
        "import numpy as np\n",
        "import math\n",
        "from sklearn import tree\n",
        "from sklearn.tree import DecisionTreeClassifier\n",
        "from sklearn.preprocessing import LabelEncoder\n",
        "from sklearn import preprocessing\n",
        "from sklearn.model_selection import train_test_split\n",
        "from sklearn.metrics import classification_report\n",
        "from sklearn.ensemble import RandomForestRegressor\n",
        "from sklearn.metrics import mean_absolute_error\n",
        "from sklearn.impute import SimpleImputer\n",
        "from sklearn.preprocessing import OneHotEncoder\n",
        "from sklearn.ensemble import RandomForestClassifier\n",
        "from pandas.plotting import scatter_matrix\n",
        "from sklearn.preprocessing import FunctionTransformer\n",
        "from sklearn_pandas import DataFrameMapper\n",
        "from sklearn.compose import ColumnTransformer\n",
        "from sklearn.preprocessing import OrdinalEncoder\n",
        "from sklearn.compose import ColumnTransformer\n",
        "from sklearn.pipeline import Pipeline\n",
        "from sklearn.base import BaseEstimator, ClassifierMixin, TransformerMixin\n",
        "from sklearn.preprocessing import MinMaxScaler"
      ],
      "metadata": {
        "id": "uk5cxiuPL_Bt"
      },
      "execution_count": 61,
      "outputs": []
    },
    {
      "cell_type": "code",
      "source": [
        "def_plot_length = 7\n",
        "def_fig_size = (def_plot_length, def_plot_length)\n",
        "def_title_size = 20\n",
        "random_state = 42"
      ],
      "metadata": {
        "id": "mN95NaRZnHl0"
      },
      "execution_count": 62,
      "outputs": []
    },
    {
      "cell_type": "markdown",
      "source": [
        "### Data Gathering"
      ],
      "metadata": {
        "id": "UB4xoJZ86Fa2"
      }
    },
    {
      "cell_type": "code",
      "execution_count": 129,
      "metadata": {
        "id": "ih1-apS2ua_U"
      },
      "outputs": [],
      "source": [
        "file_path = \"https://drive.google.com/file/d/1x3Vu2Egi5LIvd0jkHnZKeBx-Ye0l8sTr/view?usp=sharing\"\n",
        "file_path ='https://drive.google.com/uc?id=' + file_path.split('/')[-2]\n",
        "stroke_df = pd.read_csv(file_path)"
      ]
    },
    {
      "cell_type": "code",
      "source": [
        "stroke_df = stroke_df.rename(str.lower, axis='columns')\n",
        "stroke_df.head()"
      ],
      "metadata": {
        "colab": {
          "base_uri": "https://localhost:8080/",
          "height": 250
        },
        "id": "ZkKTpsIg1Tdn",
        "outputId": "b4d29825-911e-4e2d-85d3-83c984c6a20a"
      },
      "execution_count": 130,
      "outputs": [
        {
          "output_type": "execute_result",
          "data": {
            "text/plain": [
              "      id  gender   age  hypertension  heart_disease ever_married  \\\n",
              "0   9046    Male  67.0             0              1          Yes   \n",
              "1  51676  Female  61.0             0              0          Yes   \n",
              "2  31112    Male  80.0             0              1          Yes   \n",
              "3  60182  Female  49.0             0              0          Yes   \n",
              "4   1665  Female  79.0             1              0          Yes   \n",
              "\n",
              "       work_type residence_type  avg_glucose_level   bmi   smoking_status  \\\n",
              "0        Private          Urban             228.69  36.6  formerly smoked   \n",
              "1  Self-employed          Rural             202.21   NaN     never smoked   \n",
              "2        Private          Rural             105.92  32.5     never smoked   \n",
              "3        Private          Urban             171.23  34.4           smokes   \n",
              "4  Self-employed          Rural             174.12  24.0     never smoked   \n",
              "\n",
              "   stroke  \n",
              "0       1  \n",
              "1       1  \n",
              "2       1  \n",
              "3       1  \n",
              "4       1  "
            ],
            "text/html": [
              "\n",
              "  <div id=\"df-6d14bb16-44e2-4b1e-83fe-a936bb891ac8\">\n",
              "    <div class=\"colab-df-container\">\n",
              "      <div>\n",
              "<style scoped>\n",
              "    .dataframe tbody tr th:only-of-type {\n",
              "        vertical-align: middle;\n",
              "    }\n",
              "\n",
              "    .dataframe tbody tr th {\n",
              "        vertical-align: top;\n",
              "    }\n",
              "\n",
              "    .dataframe thead th {\n",
              "        text-align: right;\n",
              "    }\n",
              "</style>\n",
              "<table border=\"1\" class=\"dataframe\">\n",
              "  <thead>\n",
              "    <tr style=\"text-align: right;\">\n",
              "      <th></th>\n",
              "      <th>id</th>\n",
              "      <th>gender</th>\n",
              "      <th>age</th>\n",
              "      <th>hypertension</th>\n",
              "      <th>heart_disease</th>\n",
              "      <th>ever_married</th>\n",
              "      <th>work_type</th>\n",
              "      <th>residence_type</th>\n",
              "      <th>avg_glucose_level</th>\n",
              "      <th>bmi</th>\n",
              "      <th>smoking_status</th>\n",
              "      <th>stroke</th>\n",
              "    </tr>\n",
              "  </thead>\n",
              "  <tbody>\n",
              "    <tr>\n",
              "      <th>0</th>\n",
              "      <td>9046</td>\n",
              "      <td>Male</td>\n",
              "      <td>67.0</td>\n",
              "      <td>0</td>\n",
              "      <td>1</td>\n",
              "      <td>Yes</td>\n",
              "      <td>Private</td>\n",
              "      <td>Urban</td>\n",
              "      <td>228.69</td>\n",
              "      <td>36.6</td>\n",
              "      <td>formerly smoked</td>\n",
              "      <td>1</td>\n",
              "    </tr>\n",
              "    <tr>\n",
              "      <th>1</th>\n",
              "      <td>51676</td>\n",
              "      <td>Female</td>\n",
              "      <td>61.0</td>\n",
              "      <td>0</td>\n",
              "      <td>0</td>\n",
              "      <td>Yes</td>\n",
              "      <td>Self-employed</td>\n",
              "      <td>Rural</td>\n",
              "      <td>202.21</td>\n",
              "      <td>NaN</td>\n",
              "      <td>never smoked</td>\n",
              "      <td>1</td>\n",
              "    </tr>\n",
              "    <tr>\n",
              "      <th>2</th>\n",
              "      <td>31112</td>\n",
              "      <td>Male</td>\n",
              "      <td>80.0</td>\n",
              "      <td>0</td>\n",
              "      <td>1</td>\n",
              "      <td>Yes</td>\n",
              "      <td>Private</td>\n",
              "      <td>Rural</td>\n",
              "      <td>105.92</td>\n",
              "      <td>32.5</td>\n",
              "      <td>never smoked</td>\n",
              "      <td>1</td>\n",
              "    </tr>\n",
              "    <tr>\n",
              "      <th>3</th>\n",
              "      <td>60182</td>\n",
              "      <td>Female</td>\n",
              "      <td>49.0</td>\n",
              "      <td>0</td>\n",
              "      <td>0</td>\n",
              "      <td>Yes</td>\n",
              "      <td>Private</td>\n",
              "      <td>Urban</td>\n",
              "      <td>171.23</td>\n",
              "      <td>34.4</td>\n",
              "      <td>smokes</td>\n",
              "      <td>1</td>\n",
              "    </tr>\n",
              "    <tr>\n",
              "      <th>4</th>\n",
              "      <td>1665</td>\n",
              "      <td>Female</td>\n",
              "      <td>79.0</td>\n",
              "      <td>1</td>\n",
              "      <td>0</td>\n",
              "      <td>Yes</td>\n",
              "      <td>Self-employed</td>\n",
              "      <td>Rural</td>\n",
              "      <td>174.12</td>\n",
              "      <td>24.0</td>\n",
              "      <td>never smoked</td>\n",
              "      <td>1</td>\n",
              "    </tr>\n",
              "  </tbody>\n",
              "</table>\n",
              "</div>\n",
              "      <button class=\"colab-df-convert\" onclick=\"convertToInteractive('df-6d14bb16-44e2-4b1e-83fe-a936bb891ac8')\"\n",
              "              title=\"Convert this dataframe to an interactive table.\"\n",
              "              style=\"display:none;\">\n",
              "        \n",
              "  <svg xmlns=\"http://www.w3.org/2000/svg\" height=\"24px\"viewBox=\"0 0 24 24\"\n",
              "       width=\"24px\">\n",
              "    <path d=\"M0 0h24v24H0V0z\" fill=\"none\"/>\n",
              "    <path d=\"M18.56 5.44l.94 2.06.94-2.06 2.06-.94-2.06-.94-.94-2.06-.94 2.06-2.06.94zm-11 1L8.5 8.5l.94-2.06 2.06-.94-2.06-.94L8.5 2.5l-.94 2.06-2.06.94zm10 10l.94 2.06.94-2.06 2.06-.94-2.06-.94-.94-2.06-.94 2.06-2.06.94z\"/><path d=\"M17.41 7.96l-1.37-1.37c-.4-.4-.92-.59-1.43-.59-.52 0-1.04.2-1.43.59L10.3 9.45l-7.72 7.72c-.78.78-.78 2.05 0 2.83L4 21.41c.39.39.9.59 1.41.59.51 0 1.02-.2 1.41-.59l7.78-7.78 2.81-2.81c.8-.78.8-2.07 0-2.86zM5.41 20L4 18.59l7.72-7.72 1.47 1.35L5.41 20z\"/>\n",
              "  </svg>\n",
              "      </button>\n",
              "      \n",
              "  <style>\n",
              "    .colab-df-container {\n",
              "      display:flex;\n",
              "      flex-wrap:wrap;\n",
              "      gap: 12px;\n",
              "    }\n",
              "\n",
              "    .colab-df-convert {\n",
              "      background-color: #E8F0FE;\n",
              "      border: none;\n",
              "      border-radius: 50%;\n",
              "      cursor: pointer;\n",
              "      display: none;\n",
              "      fill: #1967D2;\n",
              "      height: 32px;\n",
              "      padding: 0 0 0 0;\n",
              "      width: 32px;\n",
              "    }\n",
              "\n",
              "    .colab-df-convert:hover {\n",
              "      background-color: #E2EBFA;\n",
              "      box-shadow: 0px 1px 2px rgba(60, 64, 67, 0.3), 0px 1px 3px 1px rgba(60, 64, 67, 0.15);\n",
              "      fill: #174EA6;\n",
              "    }\n",
              "\n",
              "    [theme=dark] .colab-df-convert {\n",
              "      background-color: #3B4455;\n",
              "      fill: #D2E3FC;\n",
              "    }\n",
              "\n",
              "    [theme=dark] .colab-df-convert:hover {\n",
              "      background-color: #434B5C;\n",
              "      box-shadow: 0px 1px 3px 1px rgba(0, 0, 0, 0.15);\n",
              "      filter: drop-shadow(0px 1px 2px rgba(0, 0, 0, 0.3));\n",
              "      fill: #FFFFFF;\n",
              "    }\n",
              "  </style>\n",
              "\n",
              "      <script>\n",
              "        const buttonEl =\n",
              "          document.querySelector('#df-6d14bb16-44e2-4b1e-83fe-a936bb891ac8 button.colab-df-convert');\n",
              "        buttonEl.style.display =\n",
              "          google.colab.kernel.accessAllowed ? 'block' : 'none';\n",
              "\n",
              "        async function convertToInteractive(key) {\n",
              "          const element = document.querySelector('#df-6d14bb16-44e2-4b1e-83fe-a936bb891ac8');\n",
              "          const dataTable =\n",
              "            await google.colab.kernel.invokeFunction('convertToInteractive',\n",
              "                                                     [key], {});\n",
              "          if (!dataTable) return;\n",
              "\n",
              "          const docLinkHtml = 'Like what you see? Visit the ' +\n",
              "            '<a target=\"_blank\" href=https://colab.research.google.com/notebooks/data_table.ipynb>data table notebook</a>'\n",
              "            + ' to learn more about interactive tables.';\n",
              "          element.innerHTML = '';\n",
              "          dataTable['output_type'] = 'display_data';\n",
              "          await google.colab.output.renderOutput(dataTable, element);\n",
              "          const docLink = document.createElement('div');\n",
              "          docLink.innerHTML = docLinkHtml;\n",
              "          element.appendChild(docLink);\n",
              "        }\n",
              "      </script>\n",
              "    </div>\n",
              "  </div>\n",
              "  "
            ]
          },
          "metadata": {},
          "execution_count": 130
        }
      ]
    },
    {
      "cell_type": "markdown",
      "source": [
        "### Train-Test Split"
      ],
      "metadata": {
        "id": "NGWa-U9k5_Fh"
      }
    },
    {
      "cell_type": "markdown",
      "source": [
        "We split the dataset such that the ratio of those with a stroke is preseved in both parts.\n",
        "\n",
        "*   **stroke_df**: dataframe used for training and validation\n",
        "*   **stroke_test_df**: dataframe used for testing. Not used in the decision processer related to model training\n",
        "\n"
      ],
      "metadata": {
        "id": "0ZO40drn6VEQ"
      }
    },
    {
      "cell_type": "code",
      "source": [
        "X = stroke_df.drop(columns=['stroke'])\n",
        "y = stroke_df.stroke"
      ],
      "metadata": {
        "id": "a3N03cWz4KK6"
      },
      "execution_count": 65,
      "outputs": []
    },
    {
      "cell_type": "code",
      "source": [
        "X_stroke_tv_df, X_stroke_test_df, y_stroke_tv_df, y_stroke_test_df = train_test_split(X, y, test_size=0.2, random_state=random_state, stratify=y)"
      ],
      "metadata": {
        "id": "11cHJeF05WXz"
      },
      "execution_count": 66,
      "outputs": []
    },
    {
      "cell_type": "code",
      "source": [
        "X_stroke_tv_df.shape"
      ],
      "metadata": {
        "id": "JIHxP-Yz50rY",
        "outputId": "e93a5d0d-43b3-48b9-963f-62551134b84e",
        "colab": {
          "base_uri": "https://localhost:8080/"
        }
      },
      "execution_count": 67,
      "outputs": [
        {
          "output_type": "execute_result",
          "data": {
            "text/plain": [
              "(4088, 11)"
            ]
          },
          "metadata": {},
          "execution_count": 67
        }
      ]
    },
    {
      "cell_type": "code",
      "source": [
        "X_stroke_test_df.shape"
      ],
      "metadata": {
        "id": "mIeI6DSV54o0",
        "outputId": "795ddf4f-d47f-4b7c-871a-53bcf58663b9",
        "colab": {
          "base_uri": "https://localhost:8080/"
        }
      },
      "execution_count": 68,
      "outputs": [
        {
          "output_type": "execute_result",
          "data": {
            "text/plain": [
              "(1022, 11)"
            ]
          },
          "metadata": {},
          "execution_count": 68
        }
      ]
    },
    {
      "cell_type": "code",
      "source": [
        "stroke_df = pd.concat([X_stroke_tv_df, y_stroke_tv_df], axis = 1)\n",
        "stroke_df.head()"
      ],
      "metadata": {
        "id": "jJ-FFqfT6SQ4",
        "outputId": "623aba3e-1872-41b3-8555-739f189f763d",
        "colab": {
          "base_uri": "https://localhost:8080/",
          "height": 267
        }
      },
      "execution_count": 69,
      "outputs": [
        {
          "output_type": "execute_result",
          "data": {
            "text/plain": [
              "         id  gender   age  hypertension  heart_disease ever_married  \\\n",
              "845   25283  Female  48.0             0              0          Yes   \n",
              "3744  43734    Male  15.0             0              0           No   \n",
              "4183  47113  Female  67.0             0              0          Yes   \n",
              "3409  56996    Male  44.0             0              0          Yes   \n",
              "284   26325    Male  14.0             0              0           No   \n",
              "\n",
              "          work_type residence_type  avg_glucose_level   bmi smoking_status  \\\n",
              "845         Private          Urban              69.21  33.1   never smoked   \n",
              "3744        Private          Rural             122.25  21.0   never smoked   \n",
              "4183  Self-employed          Rural             110.42  24.9   never smoked   \n",
              "3409        Private          Urban              65.41  24.8         smokes   \n",
              "284        Govt_job          Urban              82.34  31.6        Unknown   \n",
              "\n",
              "      stroke  \n",
              "845        0  \n",
              "3744       0  \n",
              "4183       0  \n",
              "3409       0  \n",
              "284        0  "
            ],
            "text/html": [
              "\n",
              "  <div id=\"df-f55917d8-8d76-471c-824c-138edb8dbfef\">\n",
              "    <div class=\"colab-df-container\">\n",
              "      <div>\n",
              "<style scoped>\n",
              "    .dataframe tbody tr th:only-of-type {\n",
              "        vertical-align: middle;\n",
              "    }\n",
              "\n",
              "    .dataframe tbody tr th {\n",
              "        vertical-align: top;\n",
              "    }\n",
              "\n",
              "    .dataframe thead th {\n",
              "        text-align: right;\n",
              "    }\n",
              "</style>\n",
              "<table border=\"1\" class=\"dataframe\">\n",
              "  <thead>\n",
              "    <tr style=\"text-align: right;\">\n",
              "      <th></th>\n",
              "      <th>id</th>\n",
              "      <th>gender</th>\n",
              "      <th>age</th>\n",
              "      <th>hypertension</th>\n",
              "      <th>heart_disease</th>\n",
              "      <th>ever_married</th>\n",
              "      <th>work_type</th>\n",
              "      <th>residence_type</th>\n",
              "      <th>avg_glucose_level</th>\n",
              "      <th>bmi</th>\n",
              "      <th>smoking_status</th>\n",
              "      <th>stroke</th>\n",
              "    </tr>\n",
              "  </thead>\n",
              "  <tbody>\n",
              "    <tr>\n",
              "      <th>845</th>\n",
              "      <td>25283</td>\n",
              "      <td>Female</td>\n",
              "      <td>48.0</td>\n",
              "      <td>0</td>\n",
              "      <td>0</td>\n",
              "      <td>Yes</td>\n",
              "      <td>Private</td>\n",
              "      <td>Urban</td>\n",
              "      <td>69.21</td>\n",
              "      <td>33.1</td>\n",
              "      <td>never smoked</td>\n",
              "      <td>0</td>\n",
              "    </tr>\n",
              "    <tr>\n",
              "      <th>3744</th>\n",
              "      <td>43734</td>\n",
              "      <td>Male</td>\n",
              "      <td>15.0</td>\n",
              "      <td>0</td>\n",
              "      <td>0</td>\n",
              "      <td>No</td>\n",
              "      <td>Private</td>\n",
              "      <td>Rural</td>\n",
              "      <td>122.25</td>\n",
              "      <td>21.0</td>\n",
              "      <td>never smoked</td>\n",
              "      <td>0</td>\n",
              "    </tr>\n",
              "    <tr>\n",
              "      <th>4183</th>\n",
              "      <td>47113</td>\n",
              "      <td>Female</td>\n",
              "      <td>67.0</td>\n",
              "      <td>0</td>\n",
              "      <td>0</td>\n",
              "      <td>Yes</td>\n",
              "      <td>Self-employed</td>\n",
              "      <td>Rural</td>\n",
              "      <td>110.42</td>\n",
              "      <td>24.9</td>\n",
              "      <td>never smoked</td>\n",
              "      <td>0</td>\n",
              "    </tr>\n",
              "    <tr>\n",
              "      <th>3409</th>\n",
              "      <td>56996</td>\n",
              "      <td>Male</td>\n",
              "      <td>44.0</td>\n",
              "      <td>0</td>\n",
              "      <td>0</td>\n",
              "      <td>Yes</td>\n",
              "      <td>Private</td>\n",
              "      <td>Urban</td>\n",
              "      <td>65.41</td>\n",
              "      <td>24.8</td>\n",
              "      <td>smokes</td>\n",
              "      <td>0</td>\n",
              "    </tr>\n",
              "    <tr>\n",
              "      <th>284</th>\n",
              "      <td>26325</td>\n",
              "      <td>Male</td>\n",
              "      <td>14.0</td>\n",
              "      <td>0</td>\n",
              "      <td>0</td>\n",
              "      <td>No</td>\n",
              "      <td>Govt_job</td>\n",
              "      <td>Urban</td>\n",
              "      <td>82.34</td>\n",
              "      <td>31.6</td>\n",
              "      <td>Unknown</td>\n",
              "      <td>0</td>\n",
              "    </tr>\n",
              "  </tbody>\n",
              "</table>\n",
              "</div>\n",
              "      <button class=\"colab-df-convert\" onclick=\"convertToInteractive('df-f55917d8-8d76-471c-824c-138edb8dbfef')\"\n",
              "              title=\"Convert this dataframe to an interactive table.\"\n",
              "              style=\"display:none;\">\n",
              "        \n",
              "  <svg xmlns=\"http://www.w3.org/2000/svg\" height=\"24px\"viewBox=\"0 0 24 24\"\n",
              "       width=\"24px\">\n",
              "    <path d=\"M0 0h24v24H0V0z\" fill=\"none\"/>\n",
              "    <path d=\"M18.56 5.44l.94 2.06.94-2.06 2.06-.94-2.06-.94-.94-2.06-.94 2.06-2.06.94zm-11 1L8.5 8.5l.94-2.06 2.06-.94-2.06-.94L8.5 2.5l-.94 2.06-2.06.94zm10 10l.94 2.06.94-2.06 2.06-.94-2.06-.94-.94-2.06-.94 2.06-2.06.94z\"/><path d=\"M17.41 7.96l-1.37-1.37c-.4-.4-.92-.59-1.43-.59-.52 0-1.04.2-1.43.59L10.3 9.45l-7.72 7.72c-.78.78-.78 2.05 0 2.83L4 21.41c.39.39.9.59 1.41.59.51 0 1.02-.2 1.41-.59l7.78-7.78 2.81-2.81c.8-.78.8-2.07 0-2.86zM5.41 20L4 18.59l7.72-7.72 1.47 1.35L5.41 20z\"/>\n",
              "  </svg>\n",
              "      </button>\n",
              "      \n",
              "  <style>\n",
              "    .colab-df-container {\n",
              "      display:flex;\n",
              "      flex-wrap:wrap;\n",
              "      gap: 12px;\n",
              "    }\n",
              "\n",
              "    .colab-df-convert {\n",
              "      background-color: #E8F0FE;\n",
              "      border: none;\n",
              "      border-radius: 50%;\n",
              "      cursor: pointer;\n",
              "      display: none;\n",
              "      fill: #1967D2;\n",
              "      height: 32px;\n",
              "      padding: 0 0 0 0;\n",
              "      width: 32px;\n",
              "    }\n",
              "\n",
              "    .colab-df-convert:hover {\n",
              "      background-color: #E2EBFA;\n",
              "      box-shadow: 0px 1px 2px rgba(60, 64, 67, 0.3), 0px 1px 3px 1px rgba(60, 64, 67, 0.15);\n",
              "      fill: #174EA6;\n",
              "    }\n",
              "\n",
              "    [theme=dark] .colab-df-convert {\n",
              "      background-color: #3B4455;\n",
              "      fill: #D2E3FC;\n",
              "    }\n",
              "\n",
              "    [theme=dark] .colab-df-convert:hover {\n",
              "      background-color: #434B5C;\n",
              "      box-shadow: 0px 1px 3px 1px rgba(0, 0, 0, 0.15);\n",
              "      filter: drop-shadow(0px 1px 2px rgba(0, 0, 0, 0.3));\n",
              "      fill: #FFFFFF;\n",
              "    }\n",
              "  </style>\n",
              "\n",
              "      <script>\n",
              "        const buttonEl =\n",
              "          document.querySelector('#df-f55917d8-8d76-471c-824c-138edb8dbfef button.colab-df-convert');\n",
              "        buttonEl.style.display =\n",
              "          google.colab.kernel.accessAllowed ? 'block' : 'none';\n",
              "\n",
              "        async function convertToInteractive(key) {\n",
              "          const element = document.querySelector('#df-f55917d8-8d76-471c-824c-138edb8dbfef');\n",
              "          const dataTable =\n",
              "            await google.colab.kernel.invokeFunction('convertToInteractive',\n",
              "                                                     [key], {});\n",
              "          if (!dataTable) return;\n",
              "\n",
              "          const docLinkHtml = 'Like what you see? Visit the ' +\n",
              "            '<a target=\"_blank\" href=https://colab.research.google.com/notebooks/data_table.ipynb>data table notebook</a>'\n",
              "            + ' to learn more about interactive tables.';\n",
              "          element.innerHTML = '';\n",
              "          dataTable['output_type'] = 'display_data';\n",
              "          await google.colab.output.renderOutput(dataTable, element);\n",
              "          const docLink = document.createElement('div');\n",
              "          docLink.innerHTML = docLinkHtml;\n",
              "          element.appendChild(docLink);\n",
              "        }\n",
              "      </script>\n",
              "    </div>\n",
              "  </div>\n",
              "  "
            ]
          },
          "metadata": {},
          "execution_count": 69
        }
      ]
    },
    {
      "cell_type": "code",
      "source": [
        "stroke_test_df = pd.concat([X_stroke_test_df, y_stroke_test_df], axis = 1)"
      ],
      "metadata": {
        "id": "WwPGQznn7aKm"
      },
      "execution_count": 70,
      "outputs": []
    },
    {
      "cell_type": "code",
      "source": [
        "print(\"Stroke ratio in train-test dataframe: \", stroke_df[stroke_df.stroke == 1].shape[0] / stroke_df.shape[0])"
      ],
      "metadata": {
        "id": "FKvJh3Aw7h78",
        "outputId": "026f99fe-9fe4-40a4-fb53-bd8f966f13f9",
        "colab": {
          "base_uri": "https://localhost:8080/"
        }
      },
      "execution_count": 71,
      "outputs": [
        {
          "output_type": "stream",
          "name": "stdout",
          "text": [
            "Stroke ratio in train-test dataframe:  0.04867906066536203\n"
          ]
        }
      ]
    },
    {
      "cell_type": "code",
      "source": [
        "print(\"Stroke ratio in train-test dataframe: \", stroke_test_df[stroke_test_df.stroke == 1].shape[0] / stroke_test_df.shape[0])"
      ],
      "metadata": {
        "id": "vr7w5vVw76kC",
        "outputId": "bb2ba460-e189-4257-ca81-56aa2ea5e716",
        "colab": {
          "base_uri": "https://localhost:8080/"
        }
      },
      "execution_count": 72,
      "outputs": [
        {
          "output_type": "stream",
          "name": "stdout",
          "text": [
            "Stroke ratio in train-test dataframe:  0.04892367906066536\n"
          ]
        }
      ]
    },
    {
      "cell_type": "markdown",
      "source": [
        "--> the train+validation and the test datasets are well balanced regarding the ratio of people who had stroke"
      ],
      "metadata": {
        "id": "uRV0bmo37_YF"
      }
    },
    {
      "cell_type": "markdown",
      "source": [
        "### Verify the structure of train and test datasets"
      ],
      "metadata": {
        "id": "MX8c2mwgQwxi"
      }
    },
    {
      "cell_type": "markdown",
      "source": [
        "In this section we'll verify that \n",
        "- the distributions of the variables are approximately the same in both datasets\n",
        "- the range of values in the same in both datasets\n",
        "\n",
        "to ensure that the train dataset is representative for the full one and the cleaning process applied on it will be suitable for the test dataset as well."
      ],
      "metadata": {
        "id": "VuAKZh9mHIwe"
      }
    },
    {
      "cell_type": "markdown",
      "source": [
        "#### Helper functions\n"
      ],
      "metadata": {
        "id": "HMfpn_L0r5Rx"
      }
    },
    {
      "cell_type": "code",
      "source": [
        "def plot_categorical_variables_distribution(df, var_name, figsize=(15,10), rotate_degree = 45):\n",
        "  df[var_name].value_counts().plot(kind='bar', figsize=figsize)\n",
        "  plt.title(var_name)\n",
        "  plt.xticks(rotation = rotate_degree)\n"
      ],
      "metadata": {
        "id": "Tk_PDduYhvOj"
      },
      "execution_count": 73,
      "outputs": []
    },
    {
      "cell_type": "code",
      "source": [
        "def generate_distribution_subplots_for_categorical_variables(df, nr_rows = 3, nr_cols = 2, hspace=0.6, wspace=0.4):\n",
        "  # Get list of categorical variables\n",
        "  s = (df.dtypes == 'object')\n",
        "  var_names = list(s[s].index)\n",
        "\n",
        "  for (index, var_name) in enumerate(var_names):\n",
        "    plt.subplot(nr_rows, nr_cols, index+1)\n",
        "    plot_categorical_variables_distribution(df, var_name)\n",
        "    plt.xticks(rotation = 45)\n",
        "  plt.subplots_adjust(hspace=hspace, wspace=wspace)"
      ],
      "metadata": {
        "id": "l2j30U7nnJZz"
      },
      "execution_count": 74,
      "outputs": []
    },
    {
      "cell_type": "markdown",
      "source": [
        "#### Plots"
      ],
      "metadata": {
        "id": "Rz4acTt5sC85"
      }
    },
    {
      "cell_type": "markdown",
      "source": [
        "From the following plots we can draw the conclusion that the test dataframe maintains the structure of the train dataframe."
      ],
      "metadata": {
        "id": "qASwFPNrs-zI"
      }
    },
    {
      "cell_type": "code",
      "source": [
        "stroke_df.drop(['id'], axis=1).hist(bins=50, figsize=(15,10), histtype='bar')\n",
        "plt.suptitle('Histogram for continous variables - train dataset')\n",
        "plt.show()"
      ],
      "metadata": {
        "colab": {
          "base_uri": "https://localhost:8080/",
          "height": 663
        },
        "id": "Rpk8S6HEQ8Jf",
        "outputId": "7512a6b9-e763-446c-e5fe-08d29f6fe2ba"
      },
      "execution_count": 75,
      "outputs": [
        {
          "output_type": "display_data",
          "data": {
            "text/plain": [
              "<Figure size 1080x720 with 6 Axes>"
            ],
            "image/png": "[encoded data removed]"
          },
          "metadata": {
            "needs_background": "light"
          }
        }
      ]
    },
    {
      "cell_type": "code",
      "source": [
        "stroke_test_df.drop(['id'], axis=1).hist(bins=50, figsize=(15,10), histtype='bar')\n",
        "plt.suptitle('Histogram for continous variables - test dataset')\n",
        "plt.show()"
      ],
      "metadata": {
        "colab": {
          "base_uri": "https://localhost:8080/",
          "height": 663
        },
        "id": "ViuQlV5KsLwg",
        "outputId": "5f70ef19-f719-46e1-e75d-768b8d65eb42"
      },
      "execution_count": 76,
      "outputs": [
        {
          "output_type": "display_data",
          "data": {
            "text/plain": [
              "<Figure size 1080x720 with 6 Axes>"
            ],
            "image/png": "[encoded data removed]"
          },
          "metadata": {
            "needs_background": "light"
          }
        }
      ]
    },
    {
      "cell_type": "markdown",
      "source": [
        "*   Heart_disease, hypertension and stroke seem to mantain the same proportions. \n",
        "*   The age and average glucose also seem to maintain almost the same shape, with no significant differences\n",
        "*   **The body mass index ranges seem to differ quite significnatly**: in the test dataset, only BMI values up to ~60 appear, whereas in the training dataset we can see even a few BMI values up to ~100. Knowning that a BMI of 35 is elrady considered severely obese, the >60 values may be considered **outliers** and should be removed from the dataset in the cleaning process.\n"
      ],
      "metadata": {
        "id": "R2V69Zhrubah"
      }
    },
    {
      "cell_type": "code",
      "source": [
        "plt.suptitle('Histogram for categorical variables - train dataset')\n",
        "generate_distribution_subplots_for_categorical_variables(stroke_df)\n",
        "plt.show()"
      ],
      "metadata": {
        "colab": {
          "base_uri": "https://localhost:8080/",
          "height": 720
        },
        "id": "mIaiXz_uTKmz",
        "outputId": "61e60cbf-8fa5-47a3-bd89-2dc07b189a34"
      },
      "execution_count": 77,
      "outputs": [
        {
          "output_type": "display_data",
          "data": {
            "text/plain": [
              "<Figure size 1080x720 with 5 Axes>"
            ],
            "image/png": "[encoded data removed]"
          },
          "metadata": {
            "needs_background": "light"
          }
        }
      ]
    },
    {
      "cell_type": "code",
      "source": [
        "plt.suptitle('Histogram for categorical variables - test dataset')\n",
        "generate_distribution_subplots_for_categorical_variables(stroke_test_df)\n",
        "plt.show()"
      ],
      "metadata": {
        "colab": {
          "base_uri": "https://localhost:8080/",
          "height": 720
        },
        "id": "FrhntCyqsu-x",
        "outputId": "d061ef41-f133-49b4-bfc0-df3a3894bec1"
      },
      "execution_count": 78,
      "outputs": [
        {
          "output_type": "display_data",
          "data": {
            "text/plain": [
              "<Figure size 1080x720 with 5 Axes>"
            ],
            "image/png": "[encoded data removed]"
          },
          "metadata": {
            "needs_background": "light"
          }
        }
      ]
    },
    {
      "cell_type": "markdown",
      "source": [
        "We do not have other as a gender in the test dataframe, since we have too few entries with that value. Even if never_worked values from work_type are very few we still have some values in the test set. We should see how we handle those values when we will perform data cleaning."
      ],
      "metadata": {
        "id": "TiCUKiNXtrMb"
      }
    },
    {
      "cell_type": "markdown",
      "source": [
        "## Initial Data Analysis"
      ],
      "metadata": {
        "id": "OH6w6yI1Okga"
      }
    },
    {
      "cell_type": "markdown",
      "source": [
        "Goal: \n",
        "*   get to know our data\n",
        "*   see how data should be cleaned\n",
        "*   find interesting correlations\n",
        "*   formulate a hypothesis\n",
        "\n",
        "TODO: write a nice introduction before submitting the assignment :)"
      ],
      "metadata": {
        "id": "EXeKNPG8Oowa"
      }
    },
    {
      "cell_type": "code",
      "source": [
        "stroke_df.describe()"
      ],
      "metadata": {
        "colab": {
          "base_uri": "https://localhost:8080/",
          "height": 300
        },
        "id": "Ngcmq_G4e5t7",
        "outputId": "daae24e8-5daa-4ca4-fe8a-8b4abc8201de"
      },
      "execution_count": 79,
      "outputs": [
        {
          "output_type": "execute_result",
          "data": {
            "text/plain": [
              "                 id          age  hypertension  heart_disease  \\\n",
              "count   4088.000000  4088.000000   4088.000000    4088.000000   \n",
              "mean   36547.666585    43.353288      0.097114       0.054061   \n",
              "std    21238.482961    22.596816      0.296148       0.226165   \n",
              "min       77.000000     0.080000      0.000000       0.000000   \n",
              "25%    17621.500000    26.000000      0.000000       0.000000   \n",
              "50%    36963.500000    45.000000      0.000000       0.000000   \n",
              "75%    54787.750000    61.000000      0.000000       0.000000   \n",
              "max    72940.000000    82.000000      1.000000       1.000000   \n",
              "\n",
              "       avg_glucose_level          bmi       stroke  \n",
              "count        4088.000000  3918.000000  4088.000000  \n",
              "mean          106.317167    28.922180     0.048679  \n",
              "std            45.259652     7.928378     0.215223  \n",
              "min            55.120000    10.300000     0.000000  \n",
              "25%            77.312500    23.600000     0.000000  \n",
              "50%            91.945000    28.000000     0.000000  \n",
              "75%           114.197500    33.100000     0.000000  \n",
              "max           271.740000    97.600000     1.000000  "
            ],
            "text/html": [
              "\n",
              "  <div id=\"df-5a194d04-f22b-4a06-b44a-c8f015e9f9b8\">\n",
              "    <div class=\"colab-df-container\">\n",
              "      <div>\n",
              "<style scoped>\n",
              "    .dataframe tbody tr th:only-of-type {\n",
              "        vertical-align: middle;\n",
              "    }\n",
              "\n",
              "    .dataframe tbody tr th {\n",
              "        vertical-align: top;\n",
              "    }\n",
              "\n",
              "    .dataframe thead th {\n",
              "        text-align: right;\n",
              "    }\n",
              "</style>\n",
              "<table border=\"1\" class=\"dataframe\">\n",
              "  <thead>\n",
              "    <tr style=\"text-align: right;\">\n",
              "      <th></th>\n",
              "      <th>id</th>\n",
              "      <th>age</th>\n",
              "      <th>hypertension</th>\n",
              "      <th>heart_disease</th>\n",
              "      <th>avg_glucose_level</th>\n",
              "      <th>bmi</th>\n",
              "      <th>stroke</th>\n",
              "    </tr>\n",
              "  </thead>\n",
              "  <tbody>\n",
              "    <tr>\n",
              "      <th>count</th>\n",
              "      <td>4088.000000</td>\n",
              "      <td>4088.000000</td>\n",
              "      <td>4088.000000</td>\n",
              "      <td>4088.000000</td>\n",
              "      <td>4088.000000</td>\n",
              "      <td>3918.000000</td>\n",
              "      <td>4088.000000</td>\n",
              "    </tr>\n",
              "    <tr>\n",
              "      <th>mean</th>\n",
              "      <td>36547.666585</td>\n",
              "      <td>43.353288</td>\n",
              "      <td>0.097114</td>\n",
              "      <td>0.054061</td>\n",
              "      <td>106.317167</td>\n",
              "      <td>28.922180</td>\n",
              "      <td>0.048679</td>\n",
              "    </tr>\n",
              "    <tr>\n",
              "      <th>std</th>\n",
              "      <td>21238.482961</td>\n",
              "      <td>22.596816</td>\n",
              "      <td>0.296148</td>\n",
              "      <td>0.226165</td>\n",
              "      <td>45.259652</td>\n",
              "      <td>7.928378</td>\n",
              "      <td>0.215223</td>\n",
              "    </tr>\n",
              "    <tr>\n",
              "      <th>min</th>\n",
              "      <td>77.000000</td>\n",
              "      <td>0.080000</td>\n",
              "      <td>0.000000</td>\n",
              "      <td>0.000000</td>\n",
              "      <td>55.120000</td>\n",
              "      <td>10.300000</td>\n",
              "      <td>0.000000</td>\n",
              "    </tr>\n",
              "    <tr>\n",
              "      <th>25%</th>\n",
              "      <td>17621.500000</td>\n",
              "      <td>26.000000</td>\n",
              "      <td>0.000000</td>\n",
              "      <td>0.000000</td>\n",
              "      <td>77.312500</td>\n",
              "      <td>23.600000</td>\n",
              "      <td>0.000000</td>\n",
              "    </tr>\n",
              "    <tr>\n",
              "      <th>50%</th>\n",
              "      <td>36963.500000</td>\n",
              "      <td>45.000000</td>\n",
              "      <td>0.000000</td>\n",
              "      <td>0.000000</td>\n",
              "      <td>91.945000</td>\n",
              "      <td>28.000000</td>\n",
              "      <td>0.000000</td>\n",
              "    </tr>\n",
              "    <tr>\n",
              "      <th>75%</th>\n",
              "      <td>54787.750000</td>\n",
              "      <td>61.000000</td>\n",
              "      <td>0.000000</td>\n",
              "      <td>0.000000</td>\n",
              "      <td>114.197500</td>\n",
              "      <td>33.100000</td>\n",
              "      <td>0.000000</td>\n",
              "    </tr>\n",
              "    <tr>\n",
              "      <th>max</th>\n",
              "      <td>72940.000000</td>\n",
              "      <td>82.000000</td>\n",
              "      <td>1.000000</td>\n",
              "      <td>1.000000</td>\n",
              "      <td>271.740000</td>\n",
              "      <td>97.600000</td>\n",
              "      <td>1.000000</td>\n",
              "    </tr>\n",
              "  </tbody>\n",
              "</table>\n",
              "</div>\n",
              "      <button class=\"colab-df-convert\" onclick=\"convertToInteractive('df-5a194d04-f22b-4a06-b44a-c8f015e9f9b8')\"\n",
              "              title=\"Convert this dataframe to an interactive table.\"\n",
              "              style=\"display:none;\">\n",
              "        \n",
              "  <svg xmlns=\"http://www.w3.org/2000/svg\" height=\"24px\"viewBox=\"0 0 24 24\"\n",
              "       width=\"24px\">\n",
              "    <path d=\"M0 0h24v24H0V0z\" fill=\"none\"/>\n",
              "    <path d=\"M18.56 5.44l.94 2.06.94-2.06 2.06-.94-2.06-.94-.94-2.06-.94 2.06-2.06.94zm-11 1L8.5 8.5l.94-2.06 2.06-.94-2.06-.94L8.5 2.5l-.94 2.06-2.06.94zm10 10l.94 2.06.94-2.06 2.06-.94-2.06-.94-.94-2.06-.94 2.06-2.06.94z\"/><path d=\"M17.41 7.96l-1.37-1.37c-.4-.4-.92-.59-1.43-.59-.52 0-1.04.2-1.43.59L10.3 9.45l-7.72 7.72c-.78.78-.78 2.05 0 2.83L4 21.41c.39.39.9.59 1.41.59.51 0 1.02-.2 1.41-.59l7.78-7.78 2.81-2.81c.8-.78.8-2.07 0-2.86zM5.41 20L4 18.59l7.72-7.72 1.47 1.35L5.41 20z\"/>\n",
              "  </svg>\n",
              "      </button>\n",
              "      \n",
              "  <style>\n",
              "    .colab-df-container {\n",
              "      display:flex;\n",
              "      flex-wrap:wrap;\n",
              "      gap: 12px;\n",
              "    }\n",
              "\n",
              "    .colab-df-convert {\n",
              "      background-color: #E8F0FE;\n",
              "      border: none;\n",
              "      border-radius: 50%;\n",
              "      cursor: pointer;\n",
              "      display: none;\n",
              "      fill: #1967D2;\n",
              "      height: 32px;\n",
              "      padding: 0 0 0 0;\n",
              "      width: 32px;\n",
              "    }\n",
              "\n",
              "    .colab-df-convert:hover {\n",
              "      background-color: #E2EBFA;\n",
              "      box-shadow: 0px 1px 2px rgba(60, 64, 67, 0.3), 0px 1px 3px 1px rgba(60, 64, 67, 0.15);\n",
              "      fill: #174EA6;\n",
              "    }\n",
              "\n",
              "    [theme=dark] .colab-df-convert {\n",
              "      background-color: #3B4455;\n",
              "      fill: #D2E3FC;\n",
              "    }\n",
              "\n",
              "    [theme=dark] .colab-df-convert:hover {\n",
              "      background-color: #434B5C;\n",
              "      box-shadow: 0px 1px 3px 1px rgba(0, 0, 0, 0.15);\n",
              "      filter: drop-shadow(0px 1px 2px rgba(0, 0, 0, 0.3));\n",
              "      fill: #FFFFFF;\n",
              "    }\n",
              "  </style>\n",
              "\n",
              "      <script>\n",
              "        const buttonEl =\n",
              "          document.querySelector('#df-5a194d04-f22b-4a06-b44a-c8f015e9f9b8 button.colab-df-convert');\n",
              "        buttonEl.style.display =\n",
              "          google.colab.kernel.accessAllowed ? 'block' : 'none';\n",
              "\n",
              "        async function convertToInteractive(key) {\n",
              "          const element = document.querySelector('#df-5a194d04-f22b-4a06-b44a-c8f015e9f9b8');\n",
              "          const dataTable =\n",
              "            await google.colab.kernel.invokeFunction('convertToInteractive',\n",
              "                                                     [key], {});\n",
              "          if (!dataTable) return;\n",
              "\n",
              "          const docLinkHtml = 'Like what you see? Visit the ' +\n",
              "            '<a target=\"_blank\" href=https://colab.research.google.com/notebooks/data_table.ipynb>data table notebook</a>'\n",
              "            + ' to learn more about interactive tables.';\n",
              "          element.innerHTML = '';\n",
              "          dataTable['output_type'] = 'display_data';\n",
              "          await google.colab.output.renderOutput(dataTable, element);\n",
              "          const docLink = document.createElement('div');\n",
              "          docLink.innerHTML = docLinkHtml;\n",
              "          element.appendChild(docLink);\n",
              "        }\n",
              "      </script>\n",
              "    </div>\n",
              "  </div>\n",
              "  "
            ]
          },
          "metadata": {},
          "execution_count": 79
        }
      ]
    },
    {
      "cell_type": "markdown",
      "source": [
        "### Analysing the individual features"
      ],
      "metadata": {
        "id": "EnIp4qwqPrgC"
      }
    },
    {
      "cell_type": "markdown",
      "source": [
        "#### Helper functions"
      ],
      "metadata": {
        "id": "0wl_TEaYObTZ"
      }
    },
    {
      "cell_type": "code",
      "source": [
        "def plot_continuous_variable_distribution(df, var_series, var_name, title):\n",
        "  sns.displot(data=df, x=var_name, kde=True, height=def_plot_length)\n",
        "  # median\n",
        "  disp = 0.4\n",
        "  plt.axvline(x=var_series.median(),\n",
        "              color='red')\n",
        "  plt.text(var_series.median() + disp, 0, \"50%\", rotation = 90)\n",
        "  # 25%\n",
        "  plt.axvline(x=var_series.quantile(0.25),\n",
        "              color='red')\n",
        "  plt.text(var_series.quantile(0.25) + disp, 0, \"25%\", rotation = 90)\n",
        "  # 75%\n",
        "  plt.axvline(x=var_series.quantile(0.75),\n",
        "              color='red')\n",
        "  plt.text(var_series.quantile(0.75) + disp, 0, \"75%\", rotation = 90)\n",
        "  # mean\n",
        "  plt.axvline(x=var_series.mean(),\n",
        "              color='green')\n",
        "  plt.text(var_series.mean() + disp, 0, \"Mean\", rotation = 90)\n",
        "\n",
        "  plt.title(title, size=def_title_size)"
      ],
      "metadata": {
        "id": "MN6MaEJ9Kizy"
      },
      "execution_count": 80,
      "outputs": []
    },
    {
      "cell_type": "code",
      "source": [
        "def plot_continuous_variable_stroke_ratio(df, var_name, no_quantiles, title, xticks_rotation=0, nr_bar_decimals=2, nr_tick_decimals = 2):\n",
        "  stroke_df_group = df.copy()\n",
        "  stroke_df_group[var_name+\"_group\"] = pd.qcut(stroke_df_group[var_name], q=no_quantiles)\n",
        "  stroke_ratio_per_var_group = stroke_df_group.groupby([var_name+\"_group\"]).apply(lambda age_group: age_group[\"stroke\"].sum() / age_group[\"stroke\"].count())\n",
        "  fig, ax = plt.subplots(figsize=def_fig_size)\n",
        "  pal = sns.color_palette(\"rocket\", len(stroke_ratio_per_var_group))\n",
        "  rank = stroke_ratio_per_var_group.argsort().argsort() \n",
        "\n",
        "  plots = sns.barplot(x = stroke_ratio_per_var_group.index, y = stroke_ratio_per_var_group.values, ax = ax, palette = np.array(pal[::-1])[rank])\n",
        "  print(type(stroke_ratio_per_var_group.index[0]))\n",
        "\n",
        "  # Iterating over the bars one-by-one to add annotations\n",
        "  for bar in plots.patches:\n",
        "      plots.annotate(format(bar.get_height(), '.{0}f'.format(nr_bar_decimals)),\n",
        "                    (bar.get_x() + bar.get_width() / 2,\n",
        "                      bar.get_height()), ha='center', va='center',\n",
        "                    size=8, xytext=(0, 8),\n",
        "                    textcoords='offset points')\n",
        "      \n",
        "  xlabels = stroke_ratio_per_var_group.index.map(lambda interval : \"({left:.{nr_dec}f}, {right:.{nr_dec}f}\".format(nr_dec = nr_tick_decimals, left = interval.left, right = interval.right))\n",
        "  ax.set_xticklabels(xlabels)\n",
        "      \n",
        "  plt.xticks(rotation=xticks_rotation)\n",
        "  plt.title(title, size = def_title_size)\n"
      ],
      "metadata": {
        "id": "v7kCk0gyLbJz"
      },
      "execution_count": 81,
      "outputs": []
    },
    {
      "cell_type": "code",
      "source": [
        "def plot_categorical_variable_stroke_ratio(df, var_name, title, nr_bar_decimals=2):\n",
        "  stroke_cnt = df.groupby([var_name, 'stroke']).count()\n",
        "  stroke_cnt = stroke_cnt.loc[:, :, ] .reset_index().pivot(index=var_name, columns='stroke', values='id')\n",
        "  stroke_cnt['stroke_ratio'] = stroke_cnt[1] / (stroke_cnt[0] + stroke_cnt[1])\n",
        "\n",
        "  fig, ax = plt.subplots(figsize=(10, 6))\n",
        "  pal = sns.color_palette(\"rocket\", len(stroke_cnt))\n",
        "  rank = stroke_cnt['stroke_ratio'].argsort().argsort()   # http://stackoverflow.com/a/6266510/1628638\n",
        "  plots = sns.barplot(x = stroke_cnt.index, y = stroke_cnt['stroke_ratio'], ax = ax, palette = np.array(pal[::-1])[rank])\n",
        "\n",
        "  # Iterating over the bars one-by-one to add annotations\n",
        "  for bar in plots.patches:\n",
        "      plots.annotate(format(bar.get_height(), '.{0}f'.format(nr_bar_decimals)),\n",
        "                    (bar.get_x() + bar.get_width() / 2,\n",
        "                      bar.get_height()), ha='center', va='center',\n",
        "                    size=15, xytext=(0, 8),\n",
        "                    textcoords='offset points')\n",
        "\n",
        "  plt.title(title, size = def_title_size)"
      ],
      "metadata": {
        "id": "E37shQR_MkP2"
      },
      "execution_count": 82,
      "outputs": []
    },
    {
      "cell_type": "markdown",
      "source": [
        "#### Gender"
      ],
      "metadata": {
        "id": "EMCtGQjxPvaq"
      }
    },
    {
      "cell_type": "markdown",
      "source": [
        "First of all, we should analyze the gender types that we have in our dataset."
      ],
      "metadata": {
        "id": "nin8kCtAWa_D"
      }
    },
    {
      "cell_type": "code",
      "source": [
        "gender_value_counts = stroke_df.gender.value_counts()\n",
        "gender_value_counts"
      ],
      "metadata": {
        "id": "8pxRw2YBamt2",
        "outputId": "4a1119d5-0a8b-469f-a79d-60a52ce07d77",
        "colab": {
          "base_uri": "https://localhost:8080/"
        }
      },
      "execution_count": 83,
      "outputs": [
        {
          "output_type": "execute_result",
          "data": {
            "text/plain": [
              "Female    2395\n",
              "Male      1692\n",
              "Other        1\n",
              "Name: gender, dtype: int64"
            ]
          },
          "metadata": {},
          "execution_count": 83
        }
      ]
    },
    {
      "cell_type": "markdown",
      "source": [
        "We only have one value for other gender type, it might not help us with our prediction."
      ],
      "metadata": {
        "id": "QGEzf-1YWeqK"
      }
    },
    {
      "cell_type": "code",
      "source": [
        "stroke_df.loc[stroke_df['gender']=='Other']\n"
      ],
      "metadata": {
        "id": "txEJXWEDXbIh",
        "outputId": "4b3e6380-5ae5-43ef-f9e1-b5687212f744",
        "colab": {
          "base_uri": "https://localhost:8080/",
          "height": 125
        }
      },
      "execution_count": 84,
      "outputs": [
        {
          "output_type": "execute_result",
          "data": {
            "text/plain": [
              "         id gender   age  hypertension  heart_disease ever_married work_type  \\\n",
              "3116  56156  Other  26.0             0              0           No   Private   \n",
              "\n",
              "     residence_type  avg_glucose_level   bmi   smoking_status  stroke  \n",
              "3116          Rural             143.33  22.4  formerly smoked       0  "
            ],
            "text/html": [
              "\n",
              "  <div id=\"df-eca8c35d-f44f-4dd7-b262-20168bea1efb\">\n",
              "    <div class=\"colab-df-container\">\n",
              "      <div>\n",
              "<style scoped>\n",
              "    .dataframe tbody tr th:only-of-type {\n",
              "        vertical-align: middle;\n",
              "    }\n",
              "\n",
              "    .dataframe tbody tr th {\n",
              "        vertical-align: top;\n",
              "    }\n",
              "\n",
              "    .dataframe thead th {\n",
              "        text-align: right;\n",
              "    }\n",
              "</style>\n",
              "<table border=\"1\" class=\"dataframe\">\n",
              "  <thead>\n",
              "    <tr style=\"text-align: right;\">\n",
              "      <th></th>\n",
              "      <th>id</th>\n",
              "      <th>gender</th>\n",
              "      <th>age</th>\n",
              "      <th>hypertension</th>\n",
              "      <th>heart_disease</th>\n",
              "      <th>ever_married</th>\n",
              "      <th>work_type</th>\n",
              "      <th>residence_type</th>\n",
              "      <th>avg_glucose_level</th>\n",
              "      <th>bmi</th>\n",
              "      <th>smoking_status</th>\n",
              "      <th>stroke</th>\n",
              "    </tr>\n",
              "  </thead>\n",
              "  <tbody>\n",
              "    <tr>\n",
              "      <th>3116</th>\n",
              "      <td>56156</td>\n",
              "      <td>Other</td>\n",
              "      <td>26.0</td>\n",
              "      <td>0</td>\n",
              "      <td>0</td>\n",
              "      <td>No</td>\n",
              "      <td>Private</td>\n",
              "      <td>Rural</td>\n",
              "      <td>143.33</td>\n",
              "      <td>22.4</td>\n",
              "      <td>formerly smoked</td>\n",
              "      <td>0</td>\n",
              "    </tr>\n",
              "  </tbody>\n",
              "</table>\n",
              "</div>\n",
              "      <button class=\"colab-df-convert\" onclick=\"convertToInteractive('df-eca8c35d-f44f-4dd7-b262-20168bea1efb')\"\n",
              "              title=\"Convert this dataframe to an interactive table.\"\n",
              "              style=\"display:none;\">\n",
              "        \n",
              "  <svg xmlns=\"http://www.w3.org/2000/svg\" height=\"24px\"viewBox=\"0 0 24 24\"\n",
              "       width=\"24px\">\n",
              "    <path d=\"M0 0h24v24H0V0z\" fill=\"none\"/>\n",
              "    <path d=\"M18.56 5.44l.94 2.06.94-2.06 2.06-.94-2.06-.94-.94-2.06-.94 2.06-2.06.94zm-11 1L8.5 8.5l.94-2.06 2.06-.94-2.06-.94L8.5 2.5l-.94 2.06-2.06.94zm10 10l.94 2.06.94-2.06 2.06-.94-2.06-.94-.94-2.06-.94 2.06-2.06.94z\"/><path d=\"M17.41 7.96l-1.37-1.37c-.4-.4-.92-.59-1.43-.59-.52 0-1.04.2-1.43.59L10.3 9.45l-7.72 7.72c-.78.78-.78 2.05 0 2.83L4 21.41c.39.39.9.59 1.41.59.51 0 1.02-.2 1.41-.59l7.78-7.78 2.81-2.81c.8-.78.8-2.07 0-2.86zM5.41 20L4 18.59l7.72-7.72 1.47 1.35L5.41 20z\"/>\n",
              "  </svg>\n",
              "      </button>\n",
              "      \n",
              "  <style>\n",
              "    .colab-df-container {\n",
              "      display:flex;\n",
              "      flex-wrap:wrap;\n",
              "      gap: 12px;\n",
              "    }\n",
              "\n",
              "    .colab-df-convert {\n",
              "      background-color: #E8F0FE;\n",
              "      border: none;\n",
              "      border-radius: 50%;\n",
              "      cursor: pointer;\n",
              "      display: none;\n",
              "      fill: #1967D2;\n",
              "      height: 32px;\n",
              "      padding: 0 0 0 0;\n",
              "      width: 32px;\n",
              "    }\n",
              "\n",
              "    .colab-df-convert:hover {\n",
              "      background-color: #E2EBFA;\n",
              "      box-shadow: 0px 1px 2px rgba(60, 64, 67, 0.3), 0px 1px 3px 1px rgba(60, 64, 67, 0.15);\n",
              "      fill: #174EA6;\n",
              "    }\n",
              "\n",
              "    [theme=dark] .colab-df-convert {\n",
              "      background-color: #3B4455;\n",
              "      fill: #D2E3FC;\n",
              "    }\n",
              "\n",
              "    [theme=dark] .colab-df-convert:hover {\n",
              "      background-color: #434B5C;\n",
              "      box-shadow: 0px 1px 3px 1px rgba(0, 0, 0, 0.15);\n",
              "      filter: drop-shadow(0px 1px 2px rgba(0, 0, 0, 0.3));\n",
              "      fill: #FFFFFF;\n",
              "    }\n",
              "  </style>\n",
              "\n",
              "      <script>\n",
              "        const buttonEl =\n",
              "          document.querySelector('#df-eca8c35d-f44f-4dd7-b262-20168bea1efb button.colab-df-convert');\n",
              "        buttonEl.style.display =\n",
              "          google.colab.kernel.accessAllowed ? 'block' : 'none';\n",
              "\n",
              "        async function convertToInteractive(key) {\n",
              "          const element = document.querySelector('#df-eca8c35d-f44f-4dd7-b262-20168bea1efb');\n",
              "          const dataTable =\n",
              "            await google.colab.kernel.invokeFunction('convertToInteractive',\n",
              "                                                     [key], {});\n",
              "          if (!dataTable) return;\n",
              "\n",
              "          const docLinkHtml = 'Like what you see? Visit the ' +\n",
              "            '<a target=\"_blank\" href=https://colab.research.google.com/notebooks/data_table.ipynb>data table notebook</a>'\n",
              "            + ' to learn more about interactive tables.';\n",
              "          element.innerHTML = '';\n",
              "          dataTable['output_type'] = 'display_data';\n",
              "          await google.colab.output.renderOutput(dataTable, element);\n",
              "          const docLink = document.createElement('div');\n",
              "          docLink.innerHTML = docLinkHtml;\n",
              "          element.appendChild(docLink);\n",
              "        }\n",
              "      </script>\n",
              "    </div>\n",
              "  </div>\n",
              "  "
            ]
          },
          "metadata": {},
          "execution_count": 84
        }
      ]
    },
    {
      "cell_type": "markdown",
      "source": [
        "Having a pie chart will help us visualize better the ratio between females and males. We can observe that this ratio is not very balanced, having 59% females and only 41% male."
      ],
      "metadata": {
        "id": "WFfwjl_AWjUV"
      }
    },
    {
      "cell_type": "code",
      "source": [
        "explode = [0.02,0.02,0.3]\n",
        "plt.pie(gender_value_counts.array, labels=gender_value_counts.index, autopct = '%0.0f%%', explode = explode)\n",
        "plt.show()"
      ],
      "metadata": {
        "colab": {
          "base_uri": "https://localhost:8080/",
          "height": 248
        },
        "id": "0Q6Iz1P1WlqI",
        "outputId": "78922b9a-e932-4238-89ca-3bc4ea9d8003"
      },
      "execution_count": 85,
      "outputs": [
        {
          "output_type": "display_data",
          "data": {
            "text/plain": [
              "<Figure size 432x288 with 1 Axes>"
            ],
            "image/png": "[encoded data removed]"
          },
          "metadata": {}
        }
      ]
    },
    {
      "cell_type": "code",
      "source": [
        "plot_categorical_variable_stroke_ratio(stroke_df, \"gender\", \"The ratio of people having a stroke,\\n cathegorized by gender\")"
      ],
      "metadata": {
        "id": "FgldlUkcZVVH",
        "outputId": "e9375c75-74f4-4708-bf49-c1816c8d8239",
        "colab": {
          "base_uri": "https://localhost:8080/",
          "height": 431
        }
      },
      "execution_count": 86,
      "outputs": [
        {
          "output_type": "display_data",
          "data": {
            "text/plain": [
              "<Figure size 720x432 with 1 Axes>"
            ],
            "image/png": "[encoded data removed]"
          },
          "metadata": {
            "needs_background": "light"
          }
        }
      ]
    },
    {
      "cell_type": "markdown",
      "source": [
        "The stroke events are almost evenly split among men and woman, but the ratio of men that had stroke is slightly greater than the ratio of woman, in our dataset. In general it is expected that stroke events are more frequently in woman, as they tend to live longer ([see article](https://www.ncbi.nlm.nih.gov/pmc/articles/PMC2665267/))."
      ],
      "metadata": {
        "id": "Cz3Y3Ul1aYXM"
      }
    },
    {
      "cell_type": "markdown",
      "source": [
        "#### Age"
      ],
      "metadata": {
        "id": "1PsXcLydPxcw"
      }
    },
    {
      "cell_type": "code",
      "source": [
        "stroke_df.age.describe()"
      ],
      "metadata": {
        "colab": {
          "base_uri": "https://localhost:8080/"
        },
        "id": "tfM_gmfDeiws",
        "outputId": "9a237614-eb04-4ab9-faef-7accbb2a9c45"
      },
      "execution_count": 87,
      "outputs": [
        {
          "output_type": "execute_result",
          "data": {
            "text/plain": [
              "count    4088.000000\n",
              "mean       43.353288\n",
              "std        22.596816\n",
              "min         0.080000\n",
              "25%        26.000000\n",
              "50%        45.000000\n",
              "75%        61.000000\n",
              "max        82.000000\n",
              "Name: age, dtype: float64"
            ]
          },
          "metadata": {},
          "execution_count": 87
        }
      ]
    },
    {
      "cell_type": "markdown",
      "source": [
        "\n",
        "\n",
        "*   **median age: 45.0**\n",
        "  *   considering that the **median age in the world is only 30.63**, this dataset seems to describe an **aging population**, probably from one of the highly developed countries\n",
        "  *   note that only 5 countries in he world have a median age >= 5 (Italy, Saint Pierre and Miquelon, Germany, Japan and Monaco)\n",
        "  *   source: [worldpopulationreview.com](https://worldpopulationreview.com/country-rankings/median-age)\n",
        "\n"
      ],
      "metadata": {
        "id": "Qo6f_MC1flQJ"
      }
    },
    {
      "cell_type": "code",
      "source": [
        "plot_continuous_variable_distribution(stroke_df, stroke_df.age, \"age\", \"Population Age Distribution\")"
      ],
      "metadata": {
        "id": "5F_qauNJK_DN",
        "outputId": "ed40bb30-20ac-4e92-9278-f52fdf177a92",
        "colab": {
          "base_uri": "https://localhost:8080/",
          "height": 534
        }
      },
      "execution_count": 88,
      "outputs": [
        {
          "output_type": "display_data",
          "data": {
            "text/plain": [
              "<Figure size 504x504 with 1 Axes>"
            ],
            "image/png": "[encoded data removed]"
          },
          "metadata": {
            "needs_background": "light"
          }
        }
      ]
    },
    {
      "cell_type": "code",
      "source": [
        "fig, ax = plt.subplots(figsize=def_fig_size)\n",
        "sns.histplot(data=stroke_df, x=\"age\", hue=\"stroke\", ax=ax)\n",
        "plt.title(\"Age Distribution by Stroke Status\", size = def_title_size)"
      ],
      "metadata": {
        "colab": {
          "base_uri": "https://localhost:8080/",
          "height": 480
        },
        "id": "V08_8SoEuNXX",
        "outputId": "0629b916-808e-48cd-800a-f7ef7cf52f62"
      },
      "execution_count": 89,
      "outputs": [
        {
          "output_type": "execute_result",
          "data": {
            "text/plain": [
              "Text(0.5, 1.0, 'Age Distribution by Stroke Status')"
            ]
          },
          "metadata": {},
          "execution_count": 89
        },
        {
          "output_type": "display_data",
          "data": {
            "text/plain": [
              "<Figure size 504x504 with 1 Axes>"
            ],
            "image/png": "[encoded data removed]"
          },
          "metadata": {
            "needs_background": "light"
          }
        }
      ]
    },
    {
      "cell_type": "code",
      "source": [
        "plot_continuous_variable_stroke_ratio(stroke_df, \"age\", 20, \"The ratio of people having had a stroke,\\ncategorized by their Age\", 70)"
      ],
      "metadata": {
        "id": "bCmBCDMdL78B",
        "outputId": "f3bd7cc0-606f-400b-cccd-a7097229f2f5",
        "colab": {
          "base_uri": "https://localhost:8080/",
          "height": 559
        }
      },
      "execution_count": 90,
      "outputs": [
        {
          "output_type": "stream",
          "name": "stdout",
          "text": [
            "<class 'pandas._libs.interval.Interval'>\n"
          ]
        },
        {
          "output_type": "display_data",
          "data": {
            "text/plain": [
              "<Figure size 504x504 with 1 Axes>"
            ],
            "image/png": "[encoded data removed]"
          },
          "metadata": {
            "needs_background": "light"
          }
        }
      ]
    },
    {
      "cell_type": "markdown",
      "source": [
        "As expected, the ratio of the population who had a stroke increases by age."
      ],
      "metadata": {
        "id": "VHAdg6ce6l2g"
      }
    },
    {
      "cell_type": "markdown",
      "source": [
        "#### Hypertension"
      ],
      "metadata": {
        "id": "QtE-ZuCoPzmd"
      }
    },
    {
      "cell_type": "markdown",
      "source": [
        "From all the persons in our dataset, we can see that only 10% have had hypertension. Globally, **an estimated 26% of the world’s population** (972 million people) has hypertension.\n",
        "\n",
        "https://www.medscape.com/answers/241381-7614/what-is-the-global-prevalence-of-hypertension-high-blood-pressure"
      ],
      "metadata": {
        "id": "8F527WQIWwPU"
      }
    },
    {
      "cell_type": "code",
      "source": [
        "hypertension_value_counts = stroke_df.hypertension.value_counts()\n",
        "hypertension_value_counts"
      ],
      "metadata": {
        "colab": {
          "base_uri": "https://localhost:8080/"
        },
        "id": "1q4z3vIvWzXD",
        "outputId": "e7083cde-53eb-4853-f913-62d892c5e970"
      },
      "execution_count": 91,
      "outputs": [
        {
          "output_type": "execute_result",
          "data": {
            "text/plain": [
              "0    3691\n",
              "1     397\n",
              "Name: hypertension, dtype: int64"
            ]
          },
          "metadata": {},
          "execution_count": 91
        }
      ]
    },
    {
      "cell_type": "code",
      "source": [
        "explode = [0.02,0.3]\n",
        "plt.pie(hypertension_value_counts.array, labels=hypertension_value_counts.index, autopct = '%0.0f%%', explode = explode)\n",
        "plt.show()"
      ],
      "metadata": {
        "colab": {
          "base_uri": "https://localhost:8080/",
          "height": 248
        },
        "id": "5cJVhPpgW2e7",
        "outputId": "dfaa0513-23fb-4268-df13-66876a0a0073"
      },
      "execution_count": 92,
      "outputs": [
        {
          "output_type": "display_data",
          "data": {
            "text/plain": [
              "<Figure size 432x288 with 1 Axes>"
            ],
            "image/png": "[encoded data removed]"
          },
          "metadata": {}
        }
      ]
    },
    {
      "cell_type": "code",
      "source": [
        "plot_categorical_variable_stroke_ratio(stroke_df, \"hypertension\", \"The ratio of people having a stroke,\\n cathegorized by hypertension\")"
      ],
      "metadata": {
        "id": "4byk_xu2butG",
        "outputId": "360267d2-68af-4826-8611-0478aafea199",
        "colab": {
          "base_uri": "https://localhost:8080/",
          "height": 431
        }
      },
      "execution_count": 93,
      "outputs": [
        {
          "output_type": "display_data",
          "data": {
            "text/plain": [
              "<Figure size 720x432 with 1 Axes>"
            ],
            "image/png": "[encoded data removed]"
          },
          "metadata": {
            "needs_background": "light"
          }
        }
      ]
    },
    {
      "cell_type": "markdown",
      "source": [
        "As expected, a stroke is more common for people that suffer from hypertension than the rest of the people."
      ],
      "metadata": {
        "id": "cWVFt_vpb4ME"
      }
    },
    {
      "cell_type": "markdown",
      "source": [
        "#### Heart Disease"
      ],
      "metadata": {
        "id": "kMqXj2HEP2o7"
      }
    },
    {
      "cell_type": "markdown",
      "source": [
        "The feeature shows whether a person has (1) os hasn't got (0) any herat diseases."
      ],
      "metadata": {
        "id": "8XxJvaMfDgmx"
      }
    },
    {
      "cell_type": "code",
      "source": [
        "heart_disease_value_counts = stroke_df.heart_disease.value_counts()\n",
        "heart_disease_value_counts"
      ],
      "metadata": {
        "colab": {
          "base_uri": "https://localhost:8080/"
        },
        "id": "35oObiI0zk37",
        "outputId": "7484ce6f-5fd5-4345-d4e0-40660e91e635"
      },
      "execution_count": 94,
      "outputs": [
        {
          "output_type": "execute_result",
          "data": {
            "text/plain": [
              "0    3867\n",
              "1     221\n",
              "Name: heart_disease, dtype: int64"
            ]
          },
          "metadata": {},
          "execution_count": 94
        }
      ]
    },
    {
      "cell_type": "markdown",
      "source": [
        "Only 276 people out of 5110 had a heart disease."
      ],
      "metadata": {
        "id": "_qtj9PDgz7n-"
      }
    },
    {
      "cell_type": "code",
      "source": [
        "explode = [0.1] * heart_disease_value_counts.count()\n",
        "plt.pie(heart_disease_value_counts.array, labels=heart_disease_value_counts.index, autopct = '%0.0f%%', explode = explode)\n",
        "plt.title(\"The Ratio of Population with a Heart Disease\")\n",
        "plt.show()"
      ],
      "metadata": {
        "colab": {
          "base_uri": "https://localhost:8080/",
          "height": 264
        },
        "id": "y27Q9E8Iz6_X",
        "outputId": "71a21c97-21d3-4adf-f1f0-cf3efe98d324"
      },
      "execution_count": 95,
      "outputs": [
        {
          "output_type": "display_data",
          "data": {
            "text/plain": [
              "<Figure size 432x288 with 1 Axes>"
            ],
            "image/png": "[encoded data removed]"
          },
          "metadata": {}
        }
      ]
    },
    {
      "cell_type": "markdown",
      "source": [
        "The people with a heart disease represent 5% of the population."
      ],
      "metadata": {
        "id": "O-J7n_9j0SbI"
      }
    },
    {
      "cell_type": "code",
      "source": [
        "plot_categorical_variable_stroke_ratio(stroke_df, \"heart_disease\", \"The ratio of peope having had a stroke,\\ncategorized by heart disease status\")"
      ],
      "metadata": {
        "id": "DIl3eJ3BM-ld",
        "outputId": "45f1a704-cb7a-4b47-9276-045f25e7c4ab",
        "colab": {
          "base_uri": "https://localhost:8080/",
          "height": 432
        }
      },
      "execution_count": 96,
      "outputs": [
        {
          "output_type": "display_data",
          "data": {
            "text/plain": [
              "<Figure size 720x432 with 1 Axes>"
            ],
            "image/png": "[encoded data removed]"
          },
          "metadata": {
            "needs_background": "light"
          }
        }
      ]
    },
    {
      "cell_type": "markdown",
      "source": [
        "As expected, the ratio of people who had a stroke is much higher (17% vs 4%) among people with a heart disease."
      ],
      "metadata": {
        "id": "DwsTyQBy7sJl"
      }
    },
    {
      "cell_type": "markdown",
      "source": [
        "#### Marital Status"
      ],
      "metadata": {
        "id": "_JvIJ-npP45W"
      }
    },
    {
      "cell_type": "markdown",
      "source": [
        "The values for marital status are 'Yes' or 'No' values. We prefer to have 0 or 1 values instead."
      ],
      "metadata": {
        "id": "u2tJse0iW6bD"
      }
    },
    {
      "cell_type": "code",
      "source": [
        "ever_married_value_counts = stroke_df.ever_married.value_counts()\n",
        "ever_married_value_counts"
      ],
      "metadata": {
        "colab": {
          "base_uri": "https://localhost:8080/"
        },
        "id": "gwGIgzLVW83f",
        "outputId": "9b9d551e-468a-42ef-9a43-9e6645722770"
      },
      "execution_count": 97,
      "outputs": [
        {
          "output_type": "execute_result",
          "data": {
            "text/plain": [
              "Yes    2700\n",
              "No     1388\n",
              "Name: ever_married, dtype: int64"
            ]
          },
          "metadata": {},
          "execution_count": 97
        }
      ]
    },
    {
      "cell_type": "code",
      "source": [
        "explode = [0.02,0.02]\n",
        "plt.pie(ever_married_value_counts.array, labels=ever_married_value_counts.index, autopct = '%0.0f%%', explode = explode)\n",
        "plt.show()"
      ],
      "metadata": {
        "colab": {
          "base_uri": "https://localhost:8080/",
          "height": 248
        },
        "id": "2KvSU8DhW_FG",
        "outputId": "cc9656bd-a5c4-47dc-b14d-03c7ebf3653b"
      },
      "execution_count": 98,
      "outputs": [
        {
          "output_type": "display_data",
          "data": {
            "text/plain": [
              "<Figure size 432x288 with 1 Axes>"
            ],
            "image/png": "[encoded data removed]"
          },
          "metadata": {}
        }
      ]
    },
    {
      "cell_type": "code",
      "source": [
        "plot_categorical_variable_stroke_ratio(stroke_df, \"ever_married\", \"The ratio of people having a stroke,\\n cathegorized by marital status\")"
      ],
      "metadata": {
        "id": "hzq7hTUucLg4",
        "outputId": "89988454-cc8c-4f4d-bfdc-f3a550efd320",
        "colab": {
          "base_uri": "https://localhost:8080/",
          "height": 432
        }
      },
      "execution_count": 99,
      "outputs": [
        {
          "output_type": "display_data",
          "data": {
            "text/plain": [
              "<Figure size 720x432 with 1 Axes>"
            ],
            "image/png": "[encoded data removed]"
          },
          "metadata": {
            "needs_background": "light"
          }
        }
      ]
    },
    {
      "cell_type": "markdown",
      "source": [
        "This plot shows that stroke is more common in people who are married, but this may be due to the fact that older people (that are at a higher risk of having a stroke) in general are married. "
      ],
      "metadata": {
        "id": "oncITzNncsBK"
      }
    },
    {
      "cell_type": "markdown",
      "source": [
        "#### Work Type"
      ],
      "metadata": {
        "id": "ZdCrTHIlQAHN"
      }
    },
    {
      "cell_type": "markdown",
      "source": [
        "We have identified several work types i.e. private, self-employed, government job, children and never worked."
      ],
      "metadata": {
        "id": "W1nknM1CXDA3"
      }
    },
    {
      "cell_type": "code",
      "source": [
        "work_type_value_counts = stroke_df.work_type.value_counts()\n",
        "work_type_value_counts"
      ],
      "metadata": {
        "colab": {
          "base_uri": "https://localhost:8080/"
        },
        "id": "7LnMIXZDXFKf",
        "outputId": "9df222fa-86b2-4540-9c20-6a099104789a"
      },
      "execution_count": 100,
      "outputs": [
        {
          "output_type": "execute_result",
          "data": {
            "text/plain": [
              "Private          2332\n",
              "Self-employed     667\n",
              "children          554\n",
              "Govt_job          522\n",
              "Never_worked       13\n",
              "Name: work_type, dtype: int64"
            ]
          },
          "metadata": {},
          "execution_count": 100
        }
      ]
    },
    {
      "cell_type": "code",
      "source": [
        "plt.figure(figsize=(10,6))\n",
        "plt.title(\"Work types value counts\")\n",
        "sns.barplot(x=work_type_value_counts.index, y=work_type_value_counts.array)\n",
        "plt.show()"
      ],
      "metadata": {
        "colab": {
          "base_uri": "https://localhost:8080/",
          "height": 391
        },
        "id": "eutkIOV8XHUh",
        "outputId": "5a9d7a6f-5ed4-49ab-f4bc-13c80826792d"
      },
      "execution_count": 101,
      "outputs": [
        {
          "output_type": "display_data",
          "data": {
            "text/plain": [
              "<Figure size 720x432 with 1 Axes>"
            ],
            "image/png": "[encoded data removed]"
          },
          "metadata": {
            "needs_background": "light"
          }
        }
      ]
    },
    {
      "cell_type": "markdown",
      "source": [
        "The values children and never worked might be corellated since most children don't work. Let's see how many never worked values are for people with an age greater than 18."
      ],
      "metadata": {
        "id": "8G8XYcsrXKZ9"
      }
    },
    {
      "cell_type": "code",
      "source": [
        "stroke_df.loc[(stroke_df['work_type'] == 'Never_worked') & (stroke_df['age'] >= 18)]"
      ],
      "metadata": {
        "colab": {
          "base_uri": "https://localhost:8080/",
          "height": 238
        },
        "id": "qj0R5IVKXM1N",
        "outputId": "356bf4f1-ca6d-47f3-cec0-a3ec17154c31"
      },
      "execution_count": 102,
      "outputs": [
        {
          "output_type": "execute_result",
          "data": {
            "text/plain": [
              "         id  gender   age  hypertension  heart_disease ever_married  \\\n",
              "4772  13960  Female  18.0             0              0           No   \n",
              "603   61408    Male  23.0             0              0           No   \n",
              "886   13948  Female  19.0             0              0           No   \n",
              "2917  11702  Female  18.0             0              0           No   \n",
              "\n",
              "         work_type residence_type  avg_glucose_level   bmi smoking_status  \\\n",
              "4772  Never_worked          Urban              97.65  21.5        Unknown   \n",
              "603   Never_worked          Urban             125.26  18.7   never smoked   \n",
              "886   Never_worked          Urban              86.96  25.8   never smoked   \n",
              "2917  Never_worked          Urban              82.36  22.7        Unknown   \n",
              "\n",
              "      stroke  \n",
              "4772       0  \n",
              "603        0  \n",
              "886        0  \n",
              "2917       0  "
            ],
            "text/html": [
              "\n",
              "  <div id=\"df-06027928-3175-48eb-ad24-d352c30f3081\">\n",
              "    <div class=\"colab-df-container\">\n",
              "      <div>\n",
              "<style scoped>\n",
              "    .dataframe tbody tr th:only-of-type {\n",
              "        vertical-align: middle;\n",
              "    }\n",
              "\n",
              "    .dataframe tbody tr th {\n",
              "        vertical-align: top;\n",
              "    }\n",
              "\n",
              "    .dataframe thead th {\n",
              "        text-align: right;\n",
              "    }\n",
              "</style>\n",
              "<table border=\"1\" class=\"dataframe\">\n",
              "  <thead>\n",
              "    <tr style=\"text-align: right;\">\n",
              "      <th></th>\n",
              "      <th>id</th>\n",
              "      <th>gender</th>\n",
              "      <th>age</th>\n",
              "      <th>hypertension</th>\n",
              "      <th>heart_disease</th>\n",
              "      <th>ever_married</th>\n",
              "      <th>work_type</th>\n",
              "      <th>residence_type</th>\n",
              "      <th>avg_glucose_level</th>\n",
              "      <th>bmi</th>\n",
              "      <th>smoking_status</th>\n",
              "      <th>stroke</th>\n",
              "    </tr>\n",
              "  </thead>\n",
              "  <tbody>\n",
              "    <tr>\n",
              "      <th>4772</th>\n",
              "      <td>13960</td>\n",
              "      <td>Female</td>\n",
              "      <td>18.0</td>\n",
              "      <td>0</td>\n",
              "      <td>0</td>\n",
              "      <td>No</td>\n",
              "      <td>Never_worked</td>\n",
              "      <td>Urban</td>\n",
              "      <td>97.65</td>\n",
              "      <td>21.5</td>\n",
              "      <td>Unknown</td>\n",
              "      <td>0</td>\n",
              "    </tr>\n",
              "    <tr>\n",
              "      <th>603</th>\n",
              "      <td>61408</td>\n",
              "      <td>Male</td>\n",
              "      <td>23.0</td>\n",
              "      <td>0</td>\n",
              "      <td>0</td>\n",
              "      <td>No</td>\n",
              "      <td>Never_worked</td>\n",
              "      <td>Urban</td>\n",
              "      <td>125.26</td>\n",
              "      <td>18.7</td>\n",
              "      <td>never smoked</td>\n",
              "      <td>0</td>\n",
              "    </tr>\n",
              "    <tr>\n",
              "      <th>886</th>\n",
              "      <td>13948</td>\n",
              "      <td>Female</td>\n",
              "      <td>19.0</td>\n",
              "      <td>0</td>\n",
              "      <td>0</td>\n",
              "      <td>No</td>\n",
              "      <td>Never_worked</td>\n",
              "      <td>Urban</td>\n",
              "      <td>86.96</td>\n",
              "      <td>25.8</td>\n",
              "      <td>never smoked</td>\n",
              "      <td>0</td>\n",
              "    </tr>\n",
              "    <tr>\n",
              "      <th>2917</th>\n",
              "      <td>11702</td>\n",
              "      <td>Female</td>\n",
              "      <td>18.0</td>\n",
              "      <td>0</td>\n",
              "      <td>0</td>\n",
              "      <td>No</td>\n",
              "      <td>Never_worked</td>\n",
              "      <td>Urban</td>\n",
              "      <td>82.36</td>\n",
              "      <td>22.7</td>\n",
              "      <td>Unknown</td>\n",
              "      <td>0</td>\n",
              "    </tr>\n",
              "  </tbody>\n",
              "</table>\n",
              "</div>\n",
              "      <button class=\"colab-df-convert\" onclick=\"convertToInteractive('df-06027928-3175-48eb-ad24-d352c30f3081')\"\n",
              "              title=\"Convert this dataframe to an interactive table.\"\n",
              "              style=\"display:none;\">\n",
              "        \n",
              "  <svg xmlns=\"http://www.w3.org/2000/svg\" height=\"24px\"viewBox=\"0 0 24 24\"\n",
              "       width=\"24px\">\n",
              "    <path d=\"M0 0h24v24H0V0z\" fill=\"none\"/>\n",
              "    <path d=\"M18.56 5.44l.94 2.06.94-2.06 2.06-.94-2.06-.94-.94-2.06-.94 2.06-2.06.94zm-11 1L8.5 8.5l.94-2.06 2.06-.94-2.06-.94L8.5 2.5l-.94 2.06-2.06.94zm10 10l.94 2.06.94-2.06 2.06-.94-2.06-.94-.94-2.06-.94 2.06-2.06.94z\"/><path d=\"M17.41 7.96l-1.37-1.37c-.4-.4-.92-.59-1.43-.59-.52 0-1.04.2-1.43.59L10.3 9.45l-7.72 7.72c-.78.78-.78 2.05 0 2.83L4 21.41c.39.39.9.59 1.41.59.51 0 1.02-.2 1.41-.59l7.78-7.78 2.81-2.81c.8-.78.8-2.07 0-2.86zM5.41 20L4 18.59l7.72-7.72 1.47 1.35L5.41 20z\"/>\n",
              "  </svg>\n",
              "      </button>\n",
              "      \n",
              "  <style>\n",
              "    .colab-df-container {\n",
              "      display:flex;\n",
              "      flex-wrap:wrap;\n",
              "      gap: 12px;\n",
              "    }\n",
              "\n",
              "    .colab-df-convert {\n",
              "      background-color: #E8F0FE;\n",
              "      border: none;\n",
              "      border-radius: 50%;\n",
              "      cursor: pointer;\n",
              "      display: none;\n",
              "      fill: #1967D2;\n",
              "      height: 32px;\n",
              "      padding: 0 0 0 0;\n",
              "      width: 32px;\n",
              "    }\n",
              "\n",
              "    .colab-df-convert:hover {\n",
              "      background-color: #E2EBFA;\n",
              "      box-shadow: 0px 1px 2px rgba(60, 64, 67, 0.3), 0px 1px 3px 1px rgba(60, 64, 67, 0.15);\n",
              "      fill: #174EA6;\n",
              "    }\n",
              "\n",
              "    [theme=dark] .colab-df-convert {\n",
              "      background-color: #3B4455;\n",
              "      fill: #D2E3FC;\n",
              "    }\n",
              "\n",
              "    [theme=dark] .colab-df-convert:hover {\n",
              "      background-color: #434B5C;\n",
              "      box-shadow: 0px 1px 3px 1px rgba(0, 0, 0, 0.15);\n",
              "      filter: drop-shadow(0px 1px 2px rgba(0, 0, 0, 0.3));\n",
              "      fill: #FFFFFF;\n",
              "    }\n",
              "  </style>\n",
              "\n",
              "      <script>\n",
              "        const buttonEl =\n",
              "          document.querySelector('#df-06027928-3175-48eb-ad24-d352c30f3081 button.colab-df-convert');\n",
              "        buttonEl.style.display =\n",
              "          google.colab.kernel.accessAllowed ? 'block' : 'none';\n",
              "\n",
              "        async function convertToInteractive(key) {\n",
              "          const element = document.querySelector('#df-06027928-3175-48eb-ad24-d352c30f3081');\n",
              "          const dataTable =\n",
              "            await google.colab.kernel.invokeFunction('convertToInteractive',\n",
              "                                                     [key], {});\n",
              "          if (!dataTable) return;\n",
              "\n",
              "          const docLinkHtml = 'Like what you see? Visit the ' +\n",
              "            '<a target=\"_blank\" href=https://colab.research.google.com/notebooks/data_table.ipynb>data table notebook</a>'\n",
              "            + ' to learn more about interactive tables.';\n",
              "          element.innerHTML = '';\n",
              "          dataTable['output_type'] = 'display_data';\n",
              "          await google.colab.output.renderOutput(dataTable, element);\n",
              "          const docLink = document.createElement('div');\n",
              "          docLink.innerHTML = docLinkHtml;\n",
              "          element.appendChild(docLink);\n",
              "        }\n",
              "      </script>\n",
              "    </div>\n",
              "  </div>\n",
              "  "
            ]
          },
          "metadata": {},
          "execution_count": 102
        }
      ]
    },
    {
      "cell_type": "markdown",
      "source": [
        "There are only four values for never worked people that aren't children. They also didn't have a stroke. We might consider deleting them in the data cleaning process."
      ],
      "metadata": {
        "id": "XJ_USubwXPn7"
      }
    },
    {
      "cell_type": "code",
      "source": [
        "plot_categorical_variable_stroke_ratio(stroke_df, \"work_type\", \"The ratio of people having a stroke,\\n cathegorized by work type\", 3)"
      ],
      "metadata": {
        "id": "fzDS5DTvdIsc",
        "outputId": "c18ac5c6-5c46-451e-acc7-6d9128420c55",
        "colab": {
          "base_uri": "https://localhost:8080/",
          "height": 433
        }
      },
      "execution_count": 103,
      "outputs": [
        {
          "output_type": "display_data",
          "data": {
            "text/plain": [
              "<Figure size 720x432 with 1 Axes>"
            ],
            "image/png": "[encoded data removed]"
          },
          "metadata": {
            "needs_background": "light"
          }
        }
      ]
    },
    {
      "cell_type": "markdown",
      "source": [
        "We can observe that we have very few strokes among children and never_worked (which are mostly children). The stroke events are evenly split among government jobs and private work types, but self-employed people tend to have more strokes. Accordingly to this [study](https://www.ncbi.nlm.nih.gov/pmc/articles/PMC7287446/), **self-employed people might have a higher risk of having a cardiovascular disease**, which might lead to a stroke, but the studies made about this subject are very limited."
      ],
      "metadata": {
        "id": "7JBpycRHdbOC"
      }
    },
    {
      "cell_type": "markdown",
      "source": [
        "#### Residence Type"
      ],
      "metadata": {
        "id": "ymY87LJtQCJz"
      }
    },
    {
      "cell_type": "markdown",
      "source": [
        "The feature shows whether the person lives in a rural or urban area."
      ],
      "metadata": {
        "id": "5zLBTqxQDm-u"
      }
    },
    {
      "cell_type": "code",
      "source": [
        "residence_type_value_counts = stroke_df.residence_type.value_counts()\n",
        "residence_type_value_counts"
      ],
      "metadata": {
        "colab": {
          "base_uri": "https://localhost:8080/"
        },
        "id": "1t_bj4eO1Jqf",
        "outputId": "63be984e-6e0a-4634-8f75-42b37a85ea80"
      },
      "execution_count": 104,
      "outputs": [
        {
          "output_type": "execute_result",
          "data": {
            "text/plain": [
              "Urban    2069\n",
              "Rural    2019\n",
              "Name: residence_type, dtype: int64"
            ]
          },
          "metadata": {},
          "execution_count": 104
        }
      ]
    },
    {
      "cell_type": "code",
      "source": [
        "explode = [0.01] * residence_type_value_counts.count()\n",
        "plt.pie(residence_type_value_counts.array, labels=residence_type_value_counts.index, autopct = '%0.0f%%', explode = explode)\n",
        "plt.title(\"The Residence Type Distribution\")\n",
        "plt.show()"
      ],
      "metadata": {
        "colab": {
          "base_uri": "https://localhost:8080/",
          "height": 264
        },
        "id": "GVlOvwx7150H",
        "outputId": "36e73745-ff67-46f9-82f1-768425c7a85f"
      },
      "execution_count": 105,
      "outputs": [
        {
          "output_type": "display_data",
          "data": {
            "text/plain": [
              "<Figure size 432x288 with 1 Axes>"
            ],
            "image/png": "[encoded data removed]"
          },
          "metadata": {}
        }
      ]
    },
    {
      "cell_type": "code",
      "source": [
        "plot_categorical_variable_stroke_ratio(stroke_df, \"residence_type\", \"The ratio of peope having had a stroke,\\ncategorized by Residence Type\", 3)"
      ],
      "metadata": {
        "id": "9-vfLSBMNKGb",
        "outputId": "1ea0d667-5f1e-4a5a-934d-b43f141a0cfd",
        "colab": {
          "base_uri": "https://localhost:8080/",
          "height": 432
        }
      },
      "execution_count": 106,
      "outputs": [
        {
          "output_type": "display_data",
          "data": {
            "text/plain": [
              "<Figure size 720x432 with 1 Axes>"
            ],
            "image/png": "[encoded data removed]"
          },
          "metadata": {
            "needs_background": "light"
          }
        }
      ]
    },
    {
      "cell_type": "markdown",
      "source": [
        "The data shows that people living in an urban area have a slightly higher chance for a stroke (5.2% vs 4.5%), but the residence type does not seem to be a significant factor in one's chance for a stroke."
      ],
      "metadata": {
        "id": "NBMCsh5Y8xy9"
      }
    },
    {
      "cell_type": "markdown",
      "source": [
        "The people are fairly distributed between twose living in urban and in rural areas."
      ],
      "metadata": {
        "id": "vCfAoZ2B2Qmz"
      }
    },
    {
      "cell_type": "markdown",
      "source": [
        "#### Average Glucose Level"
      ],
      "metadata": {
        "id": "uTCPR3RGQEDP"
      }
    },
    {
      "cell_type": "markdown",
      "source": [
        "This feature shows the average glucose level in a person's blood, in mg/dL."
      ],
      "metadata": {
        "id": "6Dxgs2kODuNy"
      }
    },
    {
      "cell_type": "code",
      "source": [
        "stroke_df.avg_glucose_level.describe()"
      ],
      "metadata": {
        "colab": {
          "base_uri": "https://localhost:8080/"
        },
        "id": "7Tt5JoFi-YHp",
        "outputId": "79a8b770-1ee8-4334-90ea-bee72ca6d0d8"
      },
      "execution_count": 107,
      "outputs": [
        {
          "output_type": "execute_result",
          "data": {
            "text/plain": [
              "count    4088.000000\n",
              "mean      106.317167\n",
              "std        45.259652\n",
              "min        55.120000\n",
              "25%        77.312500\n",
              "50%        91.945000\n",
              "75%       114.197500\n",
              "max       271.740000\n",
              "Name: avg_glucose_level, dtype: float64"
            ]
          },
          "metadata": {},
          "execution_count": 107
        }
      ]
    },
    {
      "cell_type": "code",
      "source": [
        "plot_continuous_variable_distribution(stroke_df, stroke_df.avg_glucose_level, \"avg_glucose_level\", \"Distribution by avg_glucose_level\")"
      ],
      "metadata": {
        "colab": {
          "base_uri": "https://localhost:8080/",
          "height": 534
        },
        "id": "pNvsNtpa_CXM",
        "outputId": "3448b687-d247-48e3-acb1-e6f2eac1b9c2"
      },
      "execution_count": 108,
      "outputs": [
        {
          "output_type": "display_data",
          "data": {
            "text/plain": [
              "<Figure size 504x504 with 1 Axes>"
            ],
            "image/png": "[encoded data removed]"
          },
          "metadata": {
            "needs_background": "light"
          }
        }
      ]
    },
    {
      "cell_type": "code",
      "source": [
        "fig, ax = plt.subplots(figsize=def_fig_size)\n",
        "sns.histplot(data=stroke_df, x=\"avg_glucose_level\", hue=\"stroke\", ax=ax)\n",
        "plt.title(\"Avg Glucose Level Distribution by Stroke Status\", size = def_title_size)"
      ],
      "metadata": {
        "colab": {
          "base_uri": "https://localhost:8080/",
          "height": 482
        },
        "id": "fMdoX7By_zl5",
        "outputId": "ca851dda-05b5-40eb-9382-6892aa86b3c7"
      },
      "execution_count": 109,
      "outputs": [
        {
          "output_type": "execute_result",
          "data": {
            "text/plain": [
              "Text(0.5, 1.0, 'Avg Glucose Level Distribution by Stroke Status')"
            ]
          },
          "metadata": {},
          "execution_count": 109
        },
        {
          "output_type": "display_data",
          "data": {
            "text/plain": [
              "<Figure size 504x504 with 1 Axes>"
            ],
            "image/png": "[encoded data removed]"
          },
          "metadata": {
            "needs_background": "light"
          }
        }
      ]
    },
    {
      "cell_type": "code",
      "source": [
        "plot_continuous_variable_stroke_ratio(stroke_df, \"avg_glucose_level\", 10, \"The ratio of peope having had a stroke,\\ncategorized by their Average Glucose Level\", 70)"
      ],
      "metadata": {
        "colab": {
          "base_uri": "https://localhost:8080/",
          "height": 572
        },
        "id": "_rPudfBJ_-yq",
        "outputId": "7a9fed88-d72a-46a0-d65e-3e87e48acd2a"
      },
      "execution_count": 110,
      "outputs": [
        {
          "output_type": "stream",
          "name": "stdout",
          "text": [
            "<class 'pandas._libs.interval.Interval'>\n"
          ]
        },
        {
          "output_type": "display_data",
          "data": {
            "text/plain": [
              "<Figure size 504x504 with 1 Axes>"
            ],
            "image/png": "[encoded data removed]"
          },
          "metadata": {
            "needs_background": "light"
          }
        }
      ]
    },
    {
      "cell_type": "markdown",
      "source": [
        "As expected, both people with a very low and with a very high blood glucose level are more likely to have a stroke than the people with a regular glucose level. \n",
        "\n",
        "General medical guidelines state that a glucose level of less than 100mg/dL is normal after not eating for more than 8 hours, and a glucose level of less than 140mg/dL is normal after not eating for at least 2 hours ([see this analysis](https://https://www.webmd.com/diabetes/how-sugar-affects-diabetes)). These guidelines are confirmed by the above plot, which shows that\n",
        "\n",
        "\n",
        "*   an average glucose level lower than 80mg/dL may increase the chance for a stroke, by ~30%\n",
        "*   an average glucose level higher than 124mg/dL may dramatically increase the chance for a stroke, by more than 200%\n",
        "\n"
      ],
      "metadata": {
        "id": "mkXeqx1JDzAO"
      }
    },
    {
      "cell_type": "markdown",
      "source": [
        "#### Body Mass Index"
      ],
      "metadata": {
        "id": "Gr4yQLqrQHVc"
      }
    },
    {
      "cell_type": "markdown",
      "source": [
        "There also might be children in our dataset, we do not want to consider them for the adult BMI analysis since the way their BMI is interpreted is different than for adults."
      ],
      "metadata": {
        "id": "Mbhf-fkP44y2"
      }
    },
    {
      "cell_type": "code",
      "source": [
        "adults_only_df = stroke_df.loc[stroke_df['age']>=18]\n",
        "adults_only_df.bmi.describe()"
      ],
      "metadata": {
        "colab": {
          "base_uri": "https://localhost:8080/"
        },
        "id": "S62PSX7zXZC-",
        "outputId": "0d970af5-ad4f-4858-dad3-e5f32b495cbf"
      },
      "execution_count": 111,
      "outputs": [
        {
          "output_type": "execute_result",
          "data": {
            "text/plain": [
              "count    3259.000000\n",
              "mean       30.480700\n",
              "std         7.278777\n",
              "min        11.300000\n",
              "25%        25.500000\n",
              "50%        29.300000\n",
              "75%        34.200000\n",
              "max        92.000000\n",
              "Name: bmi, dtype: float64"
            ]
          },
          "metadata": {},
          "execution_count": 111
        }
      ]
    },
    {
      "cell_type": "markdown",
      "source": [
        "A BMI of: \n",
        "\n",
        "* less than 18.5 is Underweight\n",
        "* 18.5 - 25 is Normal\t\n",
        "* 25 - 30 is Overweight\t\n",
        "* 30 - 35 is Moderate Obesity\n",
        "* 35 - 40 is Severe Obesity\n",
        "* 40 - 46 is Very Severe Obesity\n",
        "* 45-50 is Morbid\n",
        "* 50-60 is Super\n",
        "* greater then 60 is Hyper Obesity \n",
        " \n",
        "Data extracted from this ([article](https://www.topdoctors.co.uk/medical-dictionary/body-mass-index-bmi)).\n",
        " \n",
        " The fact that we have a mean value of 30 means that the dataset tends to describe a population that is slightly more overweight. "
      ],
      "metadata": {
        "id": "E7V4Ou9dyrA8"
      }
    },
    {
      "cell_type": "code",
      "source": [
        "plot_continuous_variable_distribution(adults_only_df, adults_only_df.bmi, \"bmi\", \"Adults BMI Distribution\")"
      ],
      "metadata": {
        "id": "2L16u0Gxh01D",
        "outputId": "b8196303-759c-4846-80b1-288e721d4804",
        "colab": {
          "base_uri": "https://localhost:8080/",
          "height": 534
        }
      },
      "execution_count": 112,
      "outputs": [
        {
          "output_type": "display_data",
          "data": {
            "text/plain": [
              "<Figure size 504x504 with 1 Axes>"
            ],
            "image/png": "[encoded data removed]"
          },
          "metadata": {
            "needs_background": "light"
          }
        }
      ]
    },
    {
      "cell_type": "markdown",
      "source": [
        "First, we should notice, that the distribution is very right-skewed: we have a few extremely larger BMI values: despite values above 35 are already considered a severe obesity, and those between 50-60 are marked as 'super obesity' we have a few **outliers** with values well above 60. We may consider removing these values, since we do not have enough data for reliable preidctions in case of morbid- and super-obesity."
      ],
      "metadata": {
        "id": "gToK39KSKtx6"
      }
    },
    {
      "cell_type": "markdown",
      "source": [
        "The data from above might be better understood if we would classify the BMI value by what it represents i.e. underweight, normal, overweight etc."
      ],
      "metadata": {
        "id": "N_1m_3nsR0XQ"
      }
    },
    {
      "cell_type": "code",
      "source": [
        "bmi_categ_list = ['underweight', 'normal', 'overweight',\n",
        "              'moderate obesity', 'severe obesity', 'very severe obesity']\n",
        "stroke_df_with_bmi_categ = adults_only_df.copy()\n",
        "stroke_df_with_bmi_categ.bmi = pd.cut(stroke_df_with_bmi_categ.bmi,\n",
        "                                      bins=[0, 18.5, 25, 30, 35, 40, 100],\n",
        "                                      labels=bmi_categ_list)\n",
        "\n",
        "bmi_categ_value_counts = stroke_df_with_bmi_categ.bmi.value_counts()\n",
        "\n",
        "plt.figure(figsize=(10,6))\n",
        "plt.title(\"Bmi by cathegory distribution among adults\")\n",
        "sns.barplot(x=bmi_categ_value_counts.index, y=bmi_categ_value_counts.array, order=bmi_categ_list)\n",
        "plt.show()\n"
      ],
      "metadata": {
        "id": "mRGzRM1TPVFg",
        "outputId": "f5f930d5-0d51-43a8-ae72-c9cf6da98b40",
        "colab": {
          "base_uri": "https://localhost:8080/",
          "height": 390
        }
      },
      "execution_count": 113,
      "outputs": [
        {
          "output_type": "display_data",
          "data": {
            "text/plain": [
              "<Figure size 720x432 with 1 Axes>"
            ],
            "image/png": "[encoded data removed]"
          },
          "metadata": {
            "needs_background": "light"
          }
        }
      ]
    },
    {
      "cell_type": "markdown",
      "source": [
        "The distrubution based on the BMI classifications is not very balanced, as is having more cases of overweight and obese people than people with normal weight. "
      ],
      "metadata": {
        "id": "v90VUMntBl-i"
      }
    },
    {
      "cell_type": "code",
      "source": [
        "plot_categorical_variable_stroke_ratio(stroke_df_with_bmi_categ, \"bmi\", \n",
        "                                       \"The ratio of adults having had a stroke,\\ncategorized by bmi status\",3)"
      ],
      "metadata": {
        "id": "83XLhh9BJIcY",
        "outputId": "9be3740d-67e5-4849-c749-27a7f72e77a0",
        "colab": {
          "base_uri": "https://localhost:8080/",
          "height": 431
        }
      },
      "execution_count": 114,
      "outputs": [
        {
          "output_type": "display_data",
          "data": {
            "text/plain": [
              "<Figure size 720x432 with 1 Axes>"
            ],
            "image/png": "[encoded data removed]"
          },
          "metadata": {
            "needs_background": "light"
          }
        }
      ]
    },
    {
      "cell_type": "markdown",
      "source": [
        "The adults that are overweight or suffer from obesity are more likely to have a stroke. The plot also shows that a stroke is more common in our dataset among people that are overweight, than those that are suffering from obesity, but the difference is not big."
      ],
      "metadata": {
        "id": "78ZTXetwOlUI"
      }
    },
    {
      "cell_type": "markdown",
      "source": [
        "Now let's analyze how the BMI values for children.\n",
        " "
      ],
      "metadata": {
        "id": "ySnwEvFcBI7z"
      }
    },
    {
      "cell_type": "code",
      "source": [
        "children_only_df = stroke_df[stroke_df['age']<18]\n",
        "children_only_df.bmi.describe()"
      ],
      "metadata": {
        "id": "2LyAwjt32vjM",
        "outputId": "44d214a5-6054-419b-d2ac-cb9647e00fdb",
        "colab": {
          "base_uri": "https://localhost:8080/"
        }
      },
      "execution_count": 115,
      "outputs": [
        {
          "output_type": "execute_result",
          "data": {
            "text/plain": [
              "count    659.000000\n",
              "mean      21.214719\n",
              "std        6.351494\n",
              "min       10.300000\n",
              "25%       17.500000\n",
              "50%       19.800000\n",
              "75%       23.250000\n",
              "max       97.600000\n",
              "Name: bmi, dtype: float64"
            ]
          },
          "metadata": {},
          "execution_count": 115
        }
      ]
    },
    {
      "cell_type": "markdown",
      "source": [
        "We can observe that the mean value for children is 21, which is less than the one for adults, as we should expect."
      ],
      "metadata": {
        "id": "2iDX9xI8D3Ze"
      }
    },
    {
      "cell_type": "code",
      "source": [
        "plot_continuous_variable_distribution(children_only_df, children_only_df.bmi, \"bmi\", \"Children BMI Distribution\")"
      ],
      "metadata": {
        "id": "iG7CmIoh3W_F",
        "outputId": "5466d6de-770c-42ac-fcb5-6bebdd8a7d82",
        "colab": {
          "base_uri": "https://localhost:8080/",
          "height": 534
        }
      },
      "execution_count": 116,
      "outputs": [
        {
          "output_type": "display_data",
          "data": {
            "text/plain": [
              "<Figure size 504x504 with 1 Axes>"
            ],
            "image/png": "[encoded data removed]"
          },
          "metadata": {
            "needs_background": "light"
          }
        }
      ]
    },
    {
      "cell_type": "markdown",
      "source": [
        "As expected, the whole distribution of bmi for children lays to the left, having in general smaller values for bmi than the values that we have for adults."
      ],
      "metadata": {
        "id": "NppxYZFVEKA9"
      }
    },
    {
      "cell_type": "code",
      "source": [
        "children_only_df[children_only_df.stroke == 1]"
      ],
      "metadata": {
        "id": "Rx9d9u4dX83t",
        "outputId": "73882b21-0180-4e5c-8532-68b858d1ff6b",
        "colab": {
          "base_uri": "https://localhost:8080/",
          "height": 125
        }
      },
      "execution_count": 117,
      "outputs": [
        {
          "output_type": "execute_result",
          "data": {
            "text/plain": [
              "        id  gender   age  hypertension  heart_disease ever_married work_type  \\\n",
              "162  69768  Female  1.32             0              0           No  children   \n",
              "\n",
              "    residence_type  avg_glucose_level  bmi smoking_status  stroke  \n",
              "162          Urban              70.37  NaN        Unknown       1  "
            ],
            "text/html": [
              "\n",
              "  <div id=\"df-21f5748a-31e9-4522-8127-a162c8e22529\">\n",
              "    <div class=\"colab-df-container\">\n",
              "      <div>\n",
              "<style scoped>\n",
              "    .dataframe tbody tr th:only-of-type {\n",
              "        vertical-align: middle;\n",
              "    }\n",
              "\n",
              "    .dataframe tbody tr th {\n",
              "        vertical-align: top;\n",
              "    }\n",
              "\n",
              "    .dataframe thead th {\n",
              "        text-align: right;\n",
              "    }\n",
              "</style>\n",
              "<table border=\"1\" class=\"dataframe\">\n",
              "  <thead>\n",
              "    <tr style=\"text-align: right;\">\n",
              "      <th></th>\n",
              "      <th>id</th>\n",
              "      <th>gender</th>\n",
              "      <th>age</th>\n",
              "      <th>hypertension</th>\n",
              "      <th>heart_disease</th>\n",
              "      <th>ever_married</th>\n",
              "      <th>work_type</th>\n",
              "      <th>residence_type</th>\n",
              "      <th>avg_glucose_level</th>\n",
              "      <th>bmi</th>\n",
              "      <th>smoking_status</th>\n",
              "      <th>stroke</th>\n",
              "    </tr>\n",
              "  </thead>\n",
              "  <tbody>\n",
              "    <tr>\n",
              "      <th>162</th>\n",
              "      <td>69768</td>\n",
              "      <td>Female</td>\n",
              "      <td>1.32</td>\n",
              "      <td>0</td>\n",
              "      <td>0</td>\n",
              "      <td>No</td>\n",
              "      <td>children</td>\n",
              "      <td>Urban</td>\n",
              "      <td>70.37</td>\n",
              "      <td>NaN</td>\n",
              "      <td>Unknown</td>\n",
              "      <td>1</td>\n",
              "    </tr>\n",
              "  </tbody>\n",
              "</table>\n",
              "</div>\n",
              "      <button class=\"colab-df-convert\" onclick=\"convertToInteractive('df-21f5748a-31e9-4522-8127-a162c8e22529')\"\n",
              "              title=\"Convert this dataframe to an interactive table.\"\n",
              "              style=\"display:none;\">\n",
              "        \n",
              "  <svg xmlns=\"http://www.w3.org/2000/svg\" height=\"24px\"viewBox=\"0 0 24 24\"\n",
              "       width=\"24px\">\n",
              "    <path d=\"M0 0h24v24H0V0z\" fill=\"none\"/>\n",
              "    <path d=\"M18.56 5.44l.94 2.06.94-2.06 2.06-.94-2.06-.94-.94-2.06-.94 2.06-2.06.94zm-11 1L8.5 8.5l.94-2.06 2.06-.94-2.06-.94L8.5 2.5l-.94 2.06-2.06.94zm10 10l.94 2.06.94-2.06 2.06-.94-2.06-.94-.94-2.06-.94 2.06-2.06.94z\"/><path d=\"M17.41 7.96l-1.37-1.37c-.4-.4-.92-.59-1.43-.59-.52 0-1.04.2-1.43.59L10.3 9.45l-7.72 7.72c-.78.78-.78 2.05 0 2.83L4 21.41c.39.39.9.59 1.41.59.51 0 1.02-.2 1.41-.59l7.78-7.78 2.81-2.81c.8-.78.8-2.07 0-2.86zM5.41 20L4 18.59l7.72-7.72 1.47 1.35L5.41 20z\"/>\n",
              "  </svg>\n",
              "      </button>\n",
              "      \n",
              "  <style>\n",
              "    .colab-df-container {\n",
              "      display:flex;\n",
              "      flex-wrap:wrap;\n",
              "      gap: 12px;\n",
              "    }\n",
              "\n",
              "    .colab-df-convert {\n",
              "      background-color: #E8F0FE;\n",
              "      border: none;\n",
              "      border-radius: 50%;\n",
              "      cursor: pointer;\n",
              "      display: none;\n",
              "      fill: #1967D2;\n",
              "      height: 32px;\n",
              "      padding: 0 0 0 0;\n",
              "      width: 32px;\n",
              "    }\n",
              "\n",
              "    .colab-df-convert:hover {\n",
              "      background-color: #E2EBFA;\n",
              "      box-shadow: 0px 1px 2px rgba(60, 64, 67, 0.3), 0px 1px 3px 1px rgba(60, 64, 67, 0.15);\n",
              "      fill: #174EA6;\n",
              "    }\n",
              "\n",
              "    [theme=dark] .colab-df-convert {\n",
              "      background-color: #3B4455;\n",
              "      fill: #D2E3FC;\n",
              "    }\n",
              "\n",
              "    [theme=dark] .colab-df-convert:hover {\n",
              "      background-color: #434B5C;\n",
              "      box-shadow: 0px 1px 3px 1px rgba(0, 0, 0, 0.15);\n",
              "      filter: drop-shadow(0px 1px 2px rgba(0, 0, 0, 0.3));\n",
              "      fill: #FFFFFF;\n",
              "    }\n",
              "  </style>\n",
              "\n",
              "      <script>\n",
              "        const buttonEl =\n",
              "          document.querySelector('#df-21f5748a-31e9-4522-8127-a162c8e22529 button.colab-df-convert');\n",
              "        buttonEl.style.display =\n",
              "          google.colab.kernel.accessAllowed ? 'block' : 'none';\n",
              "\n",
              "        async function convertToInteractive(key) {\n",
              "          const element = document.querySelector('#df-21f5748a-31e9-4522-8127-a162c8e22529');\n",
              "          const dataTable =\n",
              "            await google.colab.kernel.invokeFunction('convertToInteractive',\n",
              "                                                     [key], {});\n",
              "          if (!dataTable) return;\n",
              "\n",
              "          const docLinkHtml = 'Like what you see? Visit the ' +\n",
              "            '<a target=\"_blank\" href=https://colab.research.google.com/notebooks/data_table.ipynb>data table notebook</a>'\n",
              "            + ' to learn more about interactive tables.';\n",
              "          element.innerHTML = '';\n",
              "          dataTable['output_type'] = 'display_data';\n",
              "          await google.colab.output.renderOutput(dataTable, element);\n",
              "          const docLink = document.createElement('div');\n",
              "          docLink.innerHTML = docLinkHtml;\n",
              "          element.appendChild(docLink);\n",
              "        }\n",
              "      </script>\n",
              "    </div>\n",
              "  </div>\n",
              "  "
            ]
          },
          "metadata": {},
          "execution_count": 117
        }
      ]
    },
    {
      "cell_type": "markdown",
      "source": [
        "From all the 659 children in our dataset, only one had a stroke, so the ratio of children that had a stroke is going to be very close to zero, no matter the bmi."
      ],
      "metadata": {
        "id": "vUVYglJff3DY"
      }
    },
    {
      "cell_type": "markdown",
      "source": [
        "#### Smoking Status"
      ],
      "metadata": {
        "id": "RVtzuSBhQMhb"
      }
    },
    {
      "cell_type": "markdown",
      "source": [
        "This feature shows whether a person\n",
        "\n",
        "\n",
        "*   smokes\n",
        "*   formerly smoked\n",
        "*   never smoked\n",
        "*   their smoking status is unknown\n",
        "\n"
      ],
      "metadata": {
        "id": "glyJxIW-GDQS"
      }
    },
    {
      "cell_type": "code",
      "source": [
        "smoking_value_counts = stroke_df.smoking_status.value_counts()\n",
        "smoking_value_counts"
      ],
      "metadata": {
        "colab": {
          "base_uri": "https://localhost:8080/"
        },
        "id": "1e4cRVMBGCv2",
        "outputId": "ac88baa7-c5f9-4055-f75c-e0c8aab8a764"
      },
      "execution_count": 119,
      "outputs": [
        {
          "output_type": "execute_result",
          "data": {
            "text/plain": [
              "never smoked       1501\n",
              "Unknown            1247\n",
              "formerly smoked     714\n",
              "smokes              626\n",
              "Name: smoking_status, dtype: int64"
            ]
          },
          "metadata": {},
          "execution_count": 119
        }
      ]
    },
    {
      "cell_type": "code",
      "source": [
        "explode = [0.05] * smoking_value_counts.count()\n",
        "plt.pie(smoking_value_counts.array, labels=smoking_value_counts.index, autopct = '%0.0f%%', explode = explode)\n",
        "plt.title(\"The Ratio of Population with different Smoking Status\")\n",
        "plt.show()"
      ],
      "metadata": {
        "colab": {
          "base_uri": "https://localhost:8080/",
          "height": 264
        },
        "id": "A1wIpENmGfNb",
        "outputId": "a829e11b-30b0-43af-93c2-aaed841c82dd"
      },
      "execution_count": 120,
      "outputs": [
        {
          "output_type": "display_data",
          "data": {
            "text/plain": [
              "<Figure size 432x288 with 1 Axes>"
            ],
            "image/png": "[encoded data removed]"
          },
          "metadata": {}
        }
      ]
    },
    {
      "cell_type": "markdown",
      "source": [
        "We can see that 31% of the data is missing. We can't drop 30% of the data, so we should replace the 'Unknown' values somehow."
      ],
      "metadata": {
        "id": "Il47Xj52Gq7z"
      }
    },
    {
      "cell_type": "code",
      "source": [
        "plot_categorical_variable_stroke_ratio(stroke_df, \"smoking_status\", \"The ratio of peope having had a stroke,\\ncategorized by Smoking Status\", 3)"
      ],
      "metadata": {
        "id": "vM2zsLU-N6SU",
        "outputId": "75b44011-a5a5-487d-9908-96193b4967ea",
        "colab": {
          "base_uri": "https://localhost:8080/",
          "height": 432
        }
      },
      "execution_count": 121,
      "outputs": [
        {
          "output_type": "display_data",
          "data": {
            "text/plain": [
              "<Figure size 720x432 with 1 Axes>"
            ],
            "image/png": "[encoded data removed]"
          },
          "metadata": {
            "needs_background": "light"
          }
        }
      ]
    },
    {
      "cell_type": "markdown",
      "source": [
        "Unexpectedly, the ratio of people who had a stroke is higher among former smokers than among current smokers. \n",
        "\n",
        "This may be explained by the facts that:\n",
        "\n",
        "\n",
        "*   those who have formerly smoked may be older\n",
        "*   many of those who are smoking now may have smoked for less time\n",
        "\n",
        "\n"
      ],
      "metadata": {
        "id": "M9o5Lk51Isxc"
      }
    },
    {
      "cell_type": "markdown",
      "source": [
        "### The label: Stroke"
      ],
      "metadata": {
        "id": "a4od9mdwQQHT"
      }
    },
    {
      "cell_type": "markdown",
      "source": [
        "The most imporant part is knowing the number of people that had stroke in our dataset, since this is what we are trying to predict."
      ],
      "metadata": {
        "id": "8dvPyZgmSYu1"
      }
    },
    {
      "cell_type": "code",
      "source": [
        "stroke_value_counts = stroke_df.stroke.value_counts()\n",
        "stroke_value_counts"
      ],
      "metadata": {
        "id": "pk5sHDvjSHp8",
        "outputId": "018dca65-a9c0-4237-8d4b-6c2dac3d682a",
        "colab": {
          "base_uri": "https://localhost:8080/"
        }
      },
      "execution_count": 122,
      "outputs": [
        {
          "output_type": "execute_result",
          "data": {
            "text/plain": [
              "0    3889\n",
              "1     199\n",
              "Name: stroke, dtype: int64"
            ]
          },
          "metadata": {},
          "execution_count": 122
        }
      ]
    },
    {
      "cell_type": "code",
      "source": [
        "explode = [0.02,0.3]\n",
        "plt.pie(stroke_value_counts.array, labels=stroke_value_counts.index, autopct = '%0.0f%%', explode = explode)\n",
        "plt.show()"
      ],
      "metadata": {
        "id": "sZiWvwvvSSWl",
        "outputId": "8677e880-633e-42a8-be30-62bd42e55948",
        "colab": {
          "base_uri": "https://localhost:8080/",
          "height": 248
        }
      },
      "execution_count": 123,
      "outputs": [
        {
          "output_type": "display_data",
          "data": {
            "text/plain": [
              "<Figure size 432x288 with 1 Axes>"
            ],
            "image/png": "[encoded data removed]"
          },
          "metadata": {}
        }
      ]
    },
    {
      "cell_type": "markdown",
      "source": [
        "Only 5% of people in our dataset have had a stroke. "
      ],
      "metadata": {
        "id": "wJdcLf8QSi7K"
      }
    },
    {
      "cell_type": "markdown",
      "source": [
        "## Correlations\n"
      ],
      "metadata": {
        "id": "dVmKmnE6kpQs"
      }
    },
    {
      "cell_type": "markdown",
      "source": [
        "#### Helper functions"
      ],
      "metadata": {
        "id": "6ShDTLUPkpQv"
      }
    },
    {
      "cell_type": "code",
      "source": [
        "def subplots_for_continuous_variable_stroke_ratio(df, var_name, no_quantiles, axes, title, xticks_rotation=70, nr_bar_decimals=2, nr_tick_decimals = 2):\n",
        "  stroke_df_group = df.copy()\n",
        "  stroke_df_group[var_name+\"_group\"] = pd.qcut(stroke_df_group[var_name], q=no_quantiles)\n",
        "  stroke_ratio_per_var_group = stroke_df_group.groupby([var_name+\"_group\"]).apply(lambda age_group: age_group[\"stroke\"].sum() / age_group[\"stroke\"].count())\n",
        "  pal = sns.color_palette(\"rocket\", len(stroke_ratio_per_var_group))\n",
        "  rank = stroke_ratio_per_var_group.argsort().argsort() \n",
        "  plots = sns.barplot(x = stroke_ratio_per_var_group.index, y = stroke_ratio_per_var_group.values, ax = axes, palette = np.array(pal[::-1])[rank])\n",
        "\n",
        "  # Iterating over the bars one-by-one to add annotations\n",
        "  for bar in plots.patches:\n",
        "      plots.annotate(format(bar.get_height(), '.{0}f'.format(nr_bar_decimals)),\n",
        "                    (bar.get_x() + bar.get_width() / 2,\n",
        "                      bar.get_height()), ha='center', va='center',\n",
        "                    size=8, xytext=(0, 8),\n",
        "                    textcoords='offset points')\n",
        "      \n",
        "  xlabels = stroke_ratio_per_var_group.index.map(lambda interval : \"({left:.{nr_dec}f}, {right:.{nr_dec}f}\".format(nr_dec = nr_tick_decimals, left = interval.left, right = interval.right))\n",
        "  axes.set_xticklabels(xlabels, rotation = xticks_rotation)\n",
        "  axes.set_title(title)\n",
        "\n"
      ],
      "metadata": {
        "id": "lP1midULkpQv"
      },
      "execution_count": 124,
      "outputs": []
    },
    {
      "cell_type": "markdown",
      "source": [
        "#### Computing and Analysing Correlations"
      ],
      "metadata": {
        "id": "aOTbsv-2kpQv"
      }
    },
    {
      "cell_type": "markdown",
      "source": [
        "Since we have quite a lot of categorical, and more than that, nominal variables, Pandas's `corr()` function for computing correlations doesn't seem well-suited for our use case, because it deals with numerical variables only. \n",
        "\n",
        "To overcome this limitation, we'll use Dython's `associations()` function, which can treat correlations between any variable types ([source](http://shakedzy.xyz/dython/modules/nominal/))\n",
        "\n",
        "*   **numerical - numerical correlations** are computed based on **Pearson's coefficient**. This measures the strength of a linear relationship between the two variables. Range: [-1, 1]. Further details are not discussed, as Pearson's coefficient is assumed to be known by the reader.\n",
        "\n",
        "*   **nominal - nominal correlations** are computed based on **Cramer's V**, a generalized Phi's Coefficient. Range: [-1, 1]. \n",
        "\n",
        "     * *Phi's Coefficient*: also known as Matthews correlation coefficient, is a measure of association between two binary variables. It is in fact a special case of Pearson's coefficient (Pearson's coefficient calculated for 2 binary variables will result in Phi's coefficient).\n",
        "\n",
        "      [source](http://www.pmean.com/definitions/phi.htm)\n",
        "\n",
        "      Given the distribution of two binary variables X and Y:\n",
        "      ![image.png](data:image/png;base64,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)\n",
        "\n",
        "    Phi's coefficient is computed as \n",
        "  \n",
        "    ![image.png](data:image/png;base64,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)\n",
        "\n",
        "     Thus, we can say that based on Phi's Coefficient, X and Y are positively associated if most of the entries fall on the main diagonal (resulting in a coefficient > 0, and > 0.6 for a strong positive association), and negatively associated if they fall outside the diagonal (resulting in a coefficient < 0, and < -0.6 for a strong negative association)\n",
        "\n",
        "    * *Cramer's V* is a generalization of Phi's coefficient, in that it works not only for binary but also for multi-valued nominal variables. Differently from Pearon's and Phi's coefficient, it's range is [0, 1] only. \n",
        "\n",
        "      [source](https://www.spss-tutorials.com/cramers-v-what-and-why/)\n",
        "\n",
        "    ![image.png](data:image/png;base64,iVBORw0KGgoAAAANSUhEUgAAAmUAAAFrCAYAAACQbf7KAAAAAXNSR0IArs4c6QAAAARnQU1BAACxjwv8YQUAAAAJcEhZcwAADsMAAA7DAcdvqGQAAF7bSURBVHhe7d1/aBv33i/4j+/tc3HZ8+w6PH12JWjZyiRL5W24kXkKlnh6ITIpRCGFyqQQmRRSuWdJ5RZO7RRaO/0jkXsgtVPosVu2tVtokAINUrgpdtkaK3/krFRo1wqkaxWStcI2u9KlvVhLy7XZdpn9/hppZjSS5fhHxu77BbI0o/nxne+v+Wh+uU1jCAAAAAAeqn+j3gEAAADgIUJQBgAAAOAACMoAAAAAHABBGQAAAIADICgDAAAAcAAEZQAAAAAOgKAMAAAAwAEQlAEAAAA4AIIyAAAAAAdAUAYAAADgAAjKAAAAABwAQRkAAACAAyAoAwAAAHAABGUAAAAADoCgDAAAAMABEJQBAAAAOACCMgAAAAAHQFAGAAAA4AAIygAAAAAcAEEZAAAAgAMgKAMAAABwAARlAAAAAA6AoAwAAADAARCUAQAAADgAgjIAAAAAB0BQBgAAAOAACMoAAAAAHABBGQAAAIADICgDAAAAcAAEZQAAAAAOgKAMAAAAwAEQlAEAAAA4AIIyAAAAAAdAUAYAAADgAAjKAAAAABwAQRkAAACAAyAoA4DdZa1ClTX1GQBgD0FQBgC7SIXm3thHwY/yahgAYO9AUAYAu0iRCjmiwH6PGgYA2DsQlAHA7lEu0uKtIP3T/9pNbW1teO3k68AE4fgkwPZq0xj1GQDA0YqX+6jzWh8tpyOEY2UAsNfgSBkA7BrlO2mipz0IyABgT0JQBgC7RJGWviEKexGSAcDehKAMAHaHW2mamo9Q/2GXGrFH3EtS/4F+St7lz/mokJtfv/VikoWgAPBHg6AMAHaF8p1Fyh/qJs8ei8kyHw9R8eVBCu9vZ0MdFD/K3q720+jVsvgeAP44EJQBwK5Qupsh8nv33PVkuc/KlHs7QP2X5bGx7iM+8Z68uUh4Ri7AHwuCMgDYFVJvl2nohSB1qOG9YqSkEb8JPnVKhptrv5bEu+8JN/FjZwDwx4GgDAB2hQKFqfvA3g9TZt4pE/XEaeoVecQMAP44EJQBwK6QJi95nlQDe1aRZnpilLoyQv69dkgQANaFoAwAdocTXXv8+WRrlLvQTwtfTlJ4zwefAGAHQRkA7AJ5ipwIkrNvvCzSsY8KtMYfceFW/5rIN6a+MxDfu6n/Su2hF8UvB6n3pTS5zmYp+BhR+Uoftb2TU98CwB8F/s0SADhfOU0T5TANHVLDTrRWpjILG13tMqhyR9JitLWLHfO30WwoS5lzfnEh/9o3YxT0j1K5J0ief5TTrBYz5H5nuXrxPwD8MSAoAwDnY4HL3FMjFNot11mt5VjwFaDRW0TLrIuthla/F8n9co6yn9f+d+eYu41GbR5JNnJTo/i/qgEA+ENAUAYAjpd7p41857Xd9YiIuzN07MAArX28TAuvuCl3IUiBuWOk5UbUBAAAZrimDAAcTv7Py133MIz9QQofIcrM5yh3JUrhDz2UuIKADAAaQ1AGAM62VqTCvPq8q3goeCIo/mVSIFKkwWszFMFdlQDQBIIyAHC0ynyaJlxxNbTLtMv7RX2XpmikZ+8/+BYANgdBGQA4WvH7FNERrxraPYpX+inwZkV8zn+1SLUHYAAA2ENQBrDrrFHmzTYK/K2ghveyMhULZfL5dtejISrzo9QvTlmygJKbn6PcffkRAKARBGUAu06B8vNEgaf+CM+wKlLhMlHw6d1zpIw/dyz0XIa6ryfEKcuoGJum1E2b514AABggKAPYZdbmEzRM49R/ZO9fo7Q2n6JRGqG+XbKt/En9fbkQZbQsTR6XQfP49Zh4T0dCNHFLfAQAsIWgDGCXKXyXIDrio913ldXGle7liV7ocvi/V1J+zVHx1TSl/uIzPb6j43iUxnv4pzyNJzPsvUKFGxkq/MzHAQDUICgD2FWKVPi2TJFnunbfc7s2jAUveRbE+Dy74B+Rr1Hu/X6aU/86ycxH0bdjIrAsvzdKlRvj1B9J48J/AKiDJ/oD7AY/F2juyxkafHlC7sxdXgoe7afon6MU6dkVx5E2rpymfneMur4t0ci/qHEAAHsYjpQBONmvBUq+0Uvufw7S8LybEu/6iM7MUul2ioYOZGnI76bi72raveZ+gTLUR779ahgAYI9DUAbgYINHuqj//VWKfl2gpeQQFfN5Cvq85HrMS6G3UpQ+56P+9/K0pqZ/ID/P0eCBNmpre4DXgUGa26Zro8p3Fql8yEPu3fJPyAEANgmnLwEcqUJzr3rp2M8TVPoiUr3Q3d02SDMrkxTSA5X7SWp7op/iOY1GxMXke0cy3EYzR/k/825+RRkPDmF7YTcBsDNwpAzAie6maOqjMg29EjbdeVh+IUBe45Gj+/wKMx+178Gr/hevEfm961/izwMGvLb3BQA7A0EZgANVCnmaY+/BZ4zRVpF8z3pNdyLmcykiVx8FDqkRu8GvefWhuTyFqetxNQAA8AeAoAzAgdZ+LYn3fcajYpUC9fl9aoBZy9Hc53kKnY+QX43iKt/N0PDzAQoEe6nXH1j/erMdvqaseGVUfWouQ93keVINAAD8AeCaMgBHKlPyRTdlT63Q5HEZmeXf7yb3XxbF6czi5X4KvJQkOj5OpetD4nuufLWfYmtxSp3ix9PyNObuJv8djYJ/kt8/bPn3A9T9Ro4WWbdjCC9tlMn91xKV3mo+FQDAXoIjZQCO5KLIx1maej5Eg1fyVFkrUuFmnuiHOZp4sZM6X8pR4OIC5dO1gIzWMjT5epKiL+gnOH008uOqYwIyfkRu5mJOfCxVxFsTRep7ev3ryR6GtUqF1vbYY0gqv6oPAPBQISgDcKoOPy2m+4iuxaj70U7qv0YUfDVNpaOTtPTTMqXOBsn1iJqWu5WjmTJRtzEIe8Q5dwDkL8dpSv1P7sI9+d7QvSL5THc0OEPm7QB5XpqhwqaeQeI8oX8M0Oj8upEyAGwzBGUADuZ7YYgmv8hS6l2XeGjsUmaaxk+HyPuYmsBg7ZcV4jGP+fn+a5S5rz4+ROK05e1hWv5aHtlL3Gh+sX9xfoaCm3xoLD+iVWGv8tXB6jVwxz4T/w/BhE9XvJWkUX8bBV6focwPZTZffdRV+XKQ5g5nxOlin+no45pcz/yoWEff5fp1PHS/lynz12Pkfikt6ohVVstQcN5Lbe5+SjugvgD8USEoA3C8Ii3eKIuHxjbT/mw/xXtY8KCGaY3viPvIY47SHoq5T9do/PUweQ50U5gN5/NF2+BAWqPincym/99le0cHdbBX8Qd+h6rMhLkP0mQNB/l0nkMROnaEaOaDKAWfcrH5LEcYf56j0T9P0fARuyOP7WI9HeKWCh8FDjrktOvvMlgs3srQMa+bet+eo/Jao0N87RR8fYLC5STF3uX3/QLAw4CgDMDpynnKzPso9Mw6O/t2H41cWaDug73U+xx7vRinQs8keYynOB+SkW+zNMQf2/Gkh0RoOV8geX+pnQLl59XHTSvS0s0yuV6fkYO3xil1wy4wYdN9QzJtNvKfjdJU2WU5CmlW+D7D/gbJ95Qcfui+m6B9+/ZR75kx6mjlusLHIzR83kXlj1q7OxYAth7uvgRwurUKVdb40Zi98YTY3DttFLjgonijfzT+3Ri5n1mikpZQIx7c2vwwPfpckRI/pqh0vI2Gb/GxIZq+M0tRw+lROV2JNJt1Vq4N0L7wDLnOZ6l0zvjwEYPKHA3uO0aFj9f/DwQPQ/LFNuq/yj6cSJj+Q0S9HI25A+S9rVHY5hQ5AGwvHCkDcLp2fhpubwRknOsAP4FZpqWi/QlM+T8vu9XQ5oijV4dYkPE4UfjVoBo7R1PXzCcxxXRH9O+NKpSdl0fZ+nsaP55j7dsMTbH3oFNOXT4wH/lPEWVyuOgf4GFAUAYAO8rjkScJkz/YXxBfLKT5/1dSQ5shHyPiCgfEM9E8hyMUkl9Q/lKKMtWzmGq6Z7vUsFGBsh/x9zB1H2gcGMtTlyzZhv+sUL4xRYOhTup8cYryu+aRE+3kORim1K2CGgaAnYSgDAB21r8ek+/vZEg+tcxgLUOpC0RDL9gdtdqgb5I0dC1ME6fUKcf9UUplRuSpu/IY9b7Kgj9On+60zanJbzI0xt9d3eRt9N8FKnM084Y88hZ8pEjJlzqp/3KRXIf7KbR/lYpXBymRa3SBvfN4vN1UtisbANh2CMoAYIfpp/gWqWh9/ML9ovifl82OSrWqeDtDZX7q0hBMtR/uo2H9aNZn8rQk//+hYjqb/7NZ/nFJfnjWQ275qd73WXHqkp/6mwj30uyzszQj/qNCB7kPdJH3lRTFbO/adCgXT/sKre6eOBJgz0BQBgA7TL/MPF0XlPF/xL5V//Myf5NfJ+az3FHpo/Dr+klM/uiHMhVyeaLj8hRnnd/Xj0zy3+qPkChR8fQCJV7xkh6C+V5boKWPw5t+vMfOK1J5g//TFAA2D0EZADw0i5aL/Yt3s0SnvFsSxGQvE8We7a4GSDrP8ShF1efMz0u0eJVN98yDXsOmgjpu/6M0Fe6lwMtjlP6h9cNM+fc6a//gvdXXgYm6560BwO6HoAwAdlxEvaevZQwPkc3T3MU8xU4Emz4PrFUTrjhF1T9zN3ksTNP5cXFkrPefe2ni0Lj9dIzLo+4CrazSqvxk9t0MDfFHTbCljV9dJk1boOj9UerzPkruv8qwqXAjT+UmMZrvLJ9P29jrzpD9kb2tsMa3lAXGNqdzAWB7ISgDgB3XpUddV5eoeg/mvQItln3keWIr/udlheiUv+HDYOlQmGJH1ee6U5wG7e0y+Jkv2/4HgmJeBZWuPgoY7rzkuh6T2xEMJkhdmbY7/My2yPVo3RFGANh+CMoAYMd5j6gPVKCi/s/J7y9RequeiP9rlsIHPU0CCw/1vSJPYtqd4qx60ksB8aFEKzaP7iqwoEx4QQ/sWPCm/huB70l+a8Aa0VshCuyiCKfyU0lsz+67Dg5g90NQBgA7LnC8egKTUjf5sbI1ylwfIzrXR8EHDWC+n6KAfs3VPx6j9EvyWi3363O1/wdq0PHCNFGjU5y6jhBFL/JjZVM081X9sbIMC8Bch0do4XyI5FL8NPLLIk2e9FLiuUfJfTBKpXeDD+eo0/0k9an8mKkEKXiEvSoz1H/Qzcb1UdL2H4+Xae7yFI3/Wd8eANhJ+DdLALDzxL9SGpWn/s5lSTvfThO+bsq+sUwp8TgJB7k1Qd2+YcqfTpH2Kf9vBHuY+ndRUbZb2LZr1gCgIRwpA4Cdt99HfeojfV9kwUCJirdc1O114Ekz/fqzz/RHX+xdlRtp8cw1BGQADweCMgDYeR0BCp1Rn6+lqDyfoKlDwxSy+wflD52HonMlSp2apcyu+XdJG8f/Kbs3PEux6ytqDADsNARlAPAQ8Kfd68dj0lS8nRT/79K5F5e7KPxhgvrPZ/il+3vPrxkafWmC6GyCxptdYwcA2wpBGQA8FJ798r5Grvg9UdDndfbF5X8KUvByP0Wv2P8j9d0s+Wo/JY5MU+adh3RTAgAICMoA4KHoeMJTvXYpc01/hISzJXITtO+zCUrb3rm4e838aYKyn0bJ+yc1AgAeCtx9CQAPSZFmnuukAfFcrzhltRHyi/EAAH9MOFIGAA+Jmzz6U/C36P9dAgDsZgjKAOAhaSfPgaD45PJ6tuT/XQIA7GYIygDgofEciRJ/HGv8BJ6MBQCAoAwAHp4nPeJ/Rnoel4MAAH9kCMoA4CFyUdcLLCjDcxgAAHD3JQAAAIAT4EgZAAAAgAMgKAMAAABwAARlAAAAAA6AoAwAAADAARCUAQAAADgAgjIAAAAAB0BQBgAAAOAACMoAAAAAHABBGQAAAIADICgDAAAAcAAEZQAAAAAOgKAMAAAAwAEQlAEAAAA4AIIyAAAAAAdAUAYAAADgAAjKAAAAABwAQRkAAACAAyAoAwAAAHAABGUAAAAADoCgDAAAAMABEJQBAAAAOACCMgAAAAAHQFAGAAAA4AAIygAAAAAcAEEZAAAAgAMgKAMAAABwAARlAAAAAA6AoAwAAADAARCUAQAAADgAgjIAAAAAB0BQBgAAAOAACMoAAAAAHABBGQAAAIADICgDAAAAcAAEZQAAAAAOgKAMAAAAwAEQlAEAAAA4AIIyAAAAAAdAUAYAAADgAAjKAAAAABwAQRkAAACAAyAoAwAAAHAABGUAAAAADoCgDAAAAMABEJQBAAAAOACCMgAAAAAHQFAGAAAA4AAIygAAAAAcAEEZAAAAgAMgKAMAAABwAARlAAAAAA6AoAwAAADAARCUAQAAADgAgjIAAAAAB0BQBgAAAOAACMoAAAAAHABBGQAAAIADICgDAAAAcAAEZQAAAAAOgKAMAAAAwAEQlAEAAAA4AIIyAAAAAAdAUAYAAADgAAjKAAAAABwAQRkAAACAAyAoAwAAAHAABGUAAAAADoCgDAAAAMABEJQBAAAAOACCMgAAAAAHQFAGAAAA4AAIygAAAAAcAEEZAAAAgAMgKAMAAABwAARlAAAAAA7gyKCsra2Nxr5RAwAAAAB/ADhSBgAAAOAACMoAAAAAHGD7grJbE9Td1kYVNajjpybbfBOUV8PCN2Pk5uPfzNCaGsWVb0zR4PNdbJ5OCrw8RunvrUtjfi9Tn79TLtfdRb1sOqu2tj5K/lCg5JvHqJNPdyCgvmHY/Jm/DZrmt10PAAAAwDbavqDsUJTiZ4hmbqlhoSjfbg3TzJd64FOm5KVR9jdMideD1K7GjvoDNPMP/TR5fYk0bZkShxep7+A+ant1Tk1RpvRLbmr7Bx8lcstsGo200hItXPSzACtAE6b1pqn/8Ay53pmlZT7dnSwbV5t/pj1mmn/xlX2W+QEAAAC21zaevuyg7mfDlC2U1TBTKZDvdJSFX0Sp71WAVlmk7FX2fiRE/sflKM71VpyG/rVDDRF5jkcpxj98pI6x3UpQ/DJb9omJaiAnPBYkF+Vo/AvzUTfXq30U/JMa4AzzT7ziVSMZNv/o+aG6+QEAAAC207ZeU+Z6JkTpm4u1U5jfZyn0cpS6XfzU5KI4brb2bYam2LvvaDd5xERS0NdlDrY69pFbfeTyNxLiFGj4uF+OMOhjr/JnOSrIQSH4lHHp5vlZckzanwnWzQ8AAACwnbb3Qv/9UaKPRtUpzDKlPx6j6L/6KXIxTDQ/QDN/J5p6c4J9F6P4aR+fqKrrCWuoZFSmQk4eMUu/pK4nM7x4kEflRSrcF5MI1uU1m79t37G6+QEAAAC20/YGZUJensJcW6LsZRJHwzwHA8RDsFyhSFkesJ0IUHftTGVL2tVhtHhOk9eD1b1SFDGcDrXa7PwAAAAAW2nbgzJ+HZg4hfl9jhJyFNFTPgqyt8zNPKXZe/BI/SnE5lzk8co5FouGa9Y2YLPzAwAAAGylbQ/Kopd8RB9FyXt8lMqHxuXI9iDFPmZh2eU+Fl/FKf6K+XqvVvjeytL0URbwRXzmx278XhSnIAPvqxsCGjDOf8w4LZs/+ZJ73fkBAAAAttK2B2U+fx+5qExlfkDqSO26Mc9Bfpckc8ovTmVunIeiH85SrKdM3oP9NPzeBE28M0jHvJ3kOpWgxF/WW2pt/rk3uk3z918utzA/AAAAwNbZ/mvKDvmpX32MPNOlPjFP+cRdkrFnu813WW7EkyGavFmiwJ9yNPHmMA1fSFHxiSgVPo+Y7uRsSM2/8EHMNH88vdTa/AAAAABbpE3jV7UDAAAAwEO1A3dfAgAAAMB6EJQBAAAAOACCMgAAAAAHQFAGAAAA4AAIygAAAAAcAEEZAAAAgAMgKAMAAABwAARlAAAAAA6AoAwAAADAARCUAQAAADgAgjIAAAAAB0BQBgAAAOAACMoAAAAAHABBGQAAAIADICgDAAAAcAAEZQAAAAAOgKAMAAAAwAEQlAEAAAA4AIIyAAAAAAdAUAYAAADgAAjKAAAAABwAQRkAAACAAyAoAwAAAHAABGUAAAAADoCgDAAAAMABEJQBAAAAOACCMgAAAAAHQFAGAAAA4AAIygAAAAAcAEEZAAAAgAMgKAMAAABwAARlAAAAAA6AoAwAAADAARCUAQAAADgAgjIAAAAAB0BQBgAAAOAACMoAAAAAHABBGQAAAIADICgDAAAAcAAEZQDb6cc7FJpcpP/qP/5fagQAAIC9hxqUFT/ppTX1GWBPuX+HIp9+T//pv/539O/Z4P/03z5K/6nwf1D467L8HgAAwOIhBmUVKuQz1K6GtkeOxtra2F9nmLiQpoe2S64Uae6zYXKz/GjjrwMB6nt1Qn3pUD/P0aCbpzegRqwvd0Fu34Nbo8zb7paW0cvz0TdBeTVs9J+W/wv9x//y/1Ln5f9MH7Dh//l/u0edC/8P/S//5y90T04CAABg8hCDsgJlP3Kpz38A5TQN334YxwXXqPDZAHXu66RjLyeo/+I4jbPX0LNE+Y+GKfB6moq/q0kdJn85TlNlF0WSCTVmJ7RT4EiUeM20C7aMMuzleylIPjlo8t/9hy76zy8doA8fUyP+7T/Qh4F/pv/7VCc9qUYBAAAYtWmM+ryjylf7yf1JkLSvo2rMduBHygIUZJvoV2MemvtJanuDqPRFROzwd0qgrY1yh0YoezNO/j+pkQbD7jaaYIHPSKZI8cPbe9xyZxRpJtRH0blFNfxg8u93U+jXKSqda1Bzbk1Q27vupuW59r//QP+UbaNsdD/9Nze+p/+x8P/Rfx7s3uajwwAAsFs9tCNlxdtJch3uVkNboUKFa2M04O8k98F+mvh7RY238XuZ+th04jSeu4t6Xx5TX9S0tfVR8j4LHm9M0eDzXWy4kwJsuvQPNke72PL4esXy+HQvDtLUjdqJSnFK7Yl+Ih6IimnGaqdU2byZvw3K9Ki0pL+vT3vl+zR1iVN5bWz7emngQlp900xFrCf6zrBtQMbFzofJf6KP6NeSGOane9teTFLhhyQNhzqp0z9AybviK6ZCxa+mqunQt9UsJ+Yv8+16b4B6D7pZeo/R4Gd5NjdXoWNsnNyOYzR8pSDGmrRaPj8UKPnmMepk0w1cLorx+fcHKXfCeGRN1guZ727qCg7Q2LWCSktjvuMxKn+YaXDqe40yX4xT9GSoaYDd/j/8E/31P/z39O//zb+lJw+76MN9/w4BGQAANMaPlO28ZW36CGmx6ytqeLOWtdRpDz/ip9H+sDZ+NqJ5XX4tnpvV4mxcVk0l/JLV4j2keXqi2tDFcTUtadEvltUEElFQi70W0lzk0rwnh7Shk172mS2f2HK/XVVTMXx5h12a6+mIaXnE5tOnWr7Oxr8V0ehQRBvh01ycZSlmVFp4unl6avN6TOlZmYtpHjZN9Cyfd7yalkRRTdDIjwm2rJg2u4Fs5vlFh/yan6XDc2JIi/SMaAtiQ2p5HDtnTkckacy7rEZHIlqU5QntD4lp5TaR5r+Y0hKnXHL+6rZaqmDL5ePT/D18HWEx3UjGUCZVK9rsazLNYlkX2fY8zeZhw65TCTVNIyU2nct+uasL2ghLk8wXKXuebct5U00DAADYkKZB2SeffKJ5vV6xE+PvfPjBrGjZi2ERWEznlrXlZJTt+Me1xdWS5uc7yMNxLbuJ+Gz8EN+5h7TpO2qEspJm62HLr+4q8+Oajw3TifodMg8uXG8tVAMpseM2DAsrs1qMz09xOawv7+i0HDa6My23UQ2KAImtt6QGOT0txnHc6tdDIj1i3Wy+MJ/uBUuaWWAQPDmtLalBO6VkWKMzsyz3WyeCMhaMxHNqhLCqLZwLasGn/dp4Xo2qWmTTh7XEj2qQB2V1wcyiFlcB2NDXxvEyOK/Ou9HyWScIEtvPpgt/bg7oRP4+HVRDjYmydulBqY4Femf4tvjUMAAAwNZoevrylVdeoUJBnl7i73x4w37N08TzXgq8mSX/x0sU7fFQ+e4s0REfedtdlPg8TOUboxR+/cHvTMzeYn+OhCm4Xw7rOg6Hie1Yq/I3EuLi7fDx+uuE+tir/FmOjCfTgr4u8+mmjn3kVh+54rdzYnnBF4JyhNF+Nu5WgjI8bQ3oaWEBh0n7M0GRHpGWx1neHWLv14ao8LPh1Gl7kBaSUfKqwYbc+6hDfWxdkLymq9HbKXh+gRZuZ2mIp8XEmCO6AHUdMOacmzzP8vcwdXuN4x+lRw2J23D5PMXC/CZc3oC4CD/95iBVjFl3ZJxKtxfUUGPht1jJlMdo7qZh5p8zlP6IvR/ql8MAAABbZNuvKZt6PkTDX5bJf2mOEq/wECJP2XSZIs/IgMdzIkZD7L18OU6JJgFMM+LqqkOe+vCgw03uasRTodIdeT/dWi5NE+9NmF7iiqTyIhXui0mEries4ZJZuczvvyPye+2CAz4uT6WfGt1xKa9qskvLxCdzIj0yLT7qfyfKllamrn9+VF6f9V6SMj+sd1WUcqf0AMFulyHf6pV/yFHmRppm3humgaBNQErd5HlcfWzZ1pcPD5xGT7NyKM/Rvkfd1PX8IE1cyZiD2yaCbHq+hon5bPV5epWbczTD3kOvh+UIAACAraKOmNniX1tfGyXmOxTXsvopIHE6zmc4DZZVp8xICyetJ/JaI9ZheyqrpCVO6Kcv5Wd9O+xftdNwfNh8Co/T0ypPX4rriGynk/h31W2qO33Jr1kyrrv+VTslqGkrd2ar12Dpr8m86bxavVxcoyPT8vq1FunbZ5eby3Px6jVZ8uXSvMcj7N16+tI6v573xuk4OV6O24rysbPC0j0pTn8al+U5Mam+b2ZRnRofUqcw9TTWnyoHAADYrO09UnaLP5zUR+OfjZBfnbXKfdxP6TNxiqrTYJUvEzQqPoWp79l1jnw0II5Z3FySR1OM1pZo8ar6TC7y+uTyWaDEo0ubV4oiGzjC43LJo0SZ23VrZvg4HwVYJGVvvbRoprR07A/REovjat8v06DvURqeb3LUpydGNM/vNmx8VC3/Xre8E/LtTJP/rpCjMXcbdYayFLxmTG+Jlq4Pq2k2a+vLR+ogz9EYsWC4tpxignxXBymz7gEzHw1dnaYQTVDvG3NU/CxK/aw+xa4nKGo5VQ4AALBZTYOyTz75hLxeedUSf+fDG7LG93oecusP0GSyX7Kd7rPd1euc5i5PiXfX2RiFDTvcynczNPx8gALBXur7W75JwEAUOsr+zKcpU310g7SWy5Dx4QjeHvlQ0PTlWTnC4Bh/9MLzE5TbwINUPc+ExDVLmWvyNKbJXTbO1SevB2tAT0tdSHd3RqSHp2Xt7ywgCHZR5wXrwxmaX08ldYjns82cH6fcr3KM1fglfsrQT8MvBhs/ruF+kRbFOdAAdVmDkbubex6Y0daWzxrl3uul3oOdNPaNGqV70kMtP4xl/zHqP8HeP5qjzJU5VmgjFD6y8av0AAAA1qVtp5VZjShoOtUTtgyznbBGPXEt+4sawWTfDWouV0SbzvP7BktsGq/NXX81K9dj9ctZqT1uonYqbVmbPsrHucx3JP62LKbzX6reKymG1zt9ydOWOiVP55mWt7KojR93We76y5rvxmT0tITYeqvzs7Twx0ZUi+anWS3GT1uy/DAReRvVUj+p4Qay5/1iWa7DQ1rqjuV0ZzElvvOfz1bvarQ9fakeAcHvOBy5aVhGNY+34vQlt9nyMdPrhfXxFytz8u5W0zqa0O/iDfFl4bEXAACwTbY3KGMS4tlWLPB4d0Fb/mVVo9dSWqmY1ab/wgIvNn7JumdkAYB4tpYhSFv9TX1YRykzqcWOe1kA49VCZya17E8yiKrbjf5W0sI96rlmLA3ew9G6HbT9Tt8alCmm5Xk0/+m4lsjVXx83dFSfJqKl9K/ZvAsfxNT8Mi3x9FJdelZup2rXlLHtC7J1bMTqjwva9FkZXPAXfyREmOWRVeNryla1pXRci4p0sm08EdMm55ZFOvnyfBf1gGkzQZnywOVjZ0WkWwTt7MW3O3o+VV/vmlrVFt5igXKT6/PwnDIAANisNv6H7ay20RqVbyRo/HKS5r7KUKHMduk9YQqF+6j/ZJj8j1tOmn0zRm2XPDv+74gANqvtQo60Rv+WCQAAYB07EJQZ3J2hGYo2vUi6fKWPQvdHafEsv1oLYJeo5Ggw56XJo7jeDAAAHswO/u/LNcp8PED969y15nphlPI/lmr/m3CtTF0vJ6m4gQvwAXZchx8BGQAAbMoOHinL05i7m0bE47maG4t00cxtN3n402DbvTSbnqT2R+R3AAAAAHvRzgVld2eo98AcLWgpNQIAAAAAdDt7TRkAAAAA2NrBa8oAAAAAoBEEZQAAAAAOgKAMAAAAwAEQlAEAAAA4AIIyAAAAAAdAUAYAAADgAAjKAAAAABwAQRkAAACAAyAoAwAAAHAABGUAAAAADoCgDAAAAMABEJQBAAAAOACCMgAAAAAHcGxQtvZDkoaf7yJ3Wxv1v5eh8u/qCwAAAIA9yJlB2b0kRY/PUvelRSppK5R5s5fckSQV1dcAAAAAe40jg7LMx0NUfHmQwvvb2VAHxY+yt6v9NHq1LL4HAAAA2GscGZSt/foo5d7up+GvKmL42KmweE9eyeBoGQAAAOxJjgzKQh8sk6Yt0+TRDjFcvJsV7z6/lzziU2PlK33Ud2UrjqhVqHBlmKa+U4NM7kIbtbW10dg3asR2uJ+kPrYOvh7rqyvYR4N/m6OijFWhCZGHLyZpvZqwI2W6p8l28kB+L1PmvTFK31fDlKMxUdfH2KeNqXyfVJ+kresHWP8zP0YD/k5RTwJ/y6uxzsK3f/gjQ9r0fqSFNrBTZl49Rl1u2d7aDgyqsX9EFdN+hXN6H8TbE0/jeiYupLe3vpUzjqnP28WxF/obzbzDiqEnTlOv+NSY7Zf/q5e6IhNUcdANBoUbaZp6/Rh1PjNA6XtqJMBDpLeTjStT+mU39b65SGtqzAP7boy8B/vVwBb7for6nxulmXvtFDk7TtFn1vtZ+HDw7Z/4edM5uY0qNPDRHK35YjRycZzG/xxS4/94eJtx0n5ly5TTNHx7G+sgW36/u1cN7F0OD8rWKHchQJGfNNJyI+SXB86acp1MUeqkSw09uDX2K/7hipOmse22vu5MU+juDPV5+tR0sBn+czJfR3rUCNiQzbSTtbr+208jop6ztq7GtITt4Kyp2Kp+oHw7I47ahS9lKHFxiKI9LXRCD4Hzjx4U2CtOiblJip8doqGzf9ygzK7N7Ik+6Pdt/lHAlu/knx1bhlUGx1pORjTPqWk5cGdWG/98UVuVQw2VkmEtnCypIWnyTFjz7yeNby7t92vhM5PqmwZ+TMhpDS8ue15+juc0LXbcq7Eunw17NP/puPjeauGDmBbu8chluLxa6vaK+qYJtu6wWK79MjVtURs/VEtTVWlBbCcf73o6qEXPp7Qlm9Ulzke1oJ4m9rJOx/OPj4/fXNGyFyMi3aHzC5qcZEVbSsfVdrs07+GoFk8viW+MSrmEFj/t1zxqHbEPFrTSb+pLTt/G81m2yKVq2bieDrFps2pd6xDbG9K8LvvtEMs/kdCW2fJTbJtryzenxVim6zGVJyv3yYy5nglqffo2jfNpjNvL6HlsrafsGzY+rCV+VINcKWsqM7uybV5mmiiz6OFafbVNt53fSoZtZvX8RKw2b7We1l7G7ckm2TqP1OpAkLURY/03zsdfMv+zWlwMx9knnaxzPP3GOieXVNISJ8zL4WXOU2HXD1jrDM9LuzZSlYubl81efImyzrByKizJ7WN9SvTzZTnPyrI2y/Is9LRLzmPT7qvlxbZ55XZC5ZHsR2aLmrZaSBnaj0fL/qRmtGWfB9XyUW3A3MYW1Lw1K7f5OoPVvKlrs82oOqqvX6+j6sv69LFXtb1Z8staT7im+W2qo+vMz9pVKTMu2wFvI2emtUU26crNyVp/zsYv/aJmrKrVQT6NqR0o5jJNqbJj9fU4m5a1S6FJm9HnNTL2o56e8Ib7UauWy1i1E173QmcTIj/07WtE70drL0MbNpYRy1+7MuL09PH5rf1c0+XvMY4Nypavx7TgKdahqChMVIpz6xdDXWecn1QNcEQbvziujbDKxit5PNckvFvJarGjsvBDZ8bFfJxeMfyHWcU+OSTGD52UDTX+rWV5v2TFtJ6eqDbEphs/y3aWrJJHv1CdSSPVhts4KIurRqVbZTsPv5jHY0oT7Y+qKSQ+nez8ZdrHz8XEcqiHVXDVEemNz9/jZ/kWFPkV/pSneUWbfU12fGJ7Lg5pEdWRmrdotdq5Rc7K6fg0rsO1ddR2GDEt1sM6h3MyLSG9Uzmld+iN6TssWa4jYj7qGdIW1A5MLP9QUAvyZe4P1S1fryF6mVo7xHqLbDrZyY4Y8s7POsRqyRdTWlStw3NUTsfniZwfqXWejJ7HrQRlQVHWtTLTt6G1MuOWxXeio1b5zNMUfNeQbluL2uRhXr5ym435x7eZt5Fplh69nfC0TedUD2qt+3r5kL/a7vi4iPhx4dMib41rs3f4WGtQVqtzfFnGOudifQP/PvspW77Ygcg0jH8qg/q6foCx1pnYUbZsQ52pw34IjpzyiWX7Tsn+gy9b1hkfy2+X2L6hk35tJCO3y1r+vCz4Oo3tvlr+p6MsTa5aWnj6XDHWllmei/5FjXexNNYFCjqZB2Jetk49D6ptTLUBaxuz1jy9zRrbk6nNNsD7FL2OinUb1iHnVWV0kdc7Vgf5NOwlytumvehlZMyvZvkdZ/2HmF/VNRlw2M0f1CJsh+8S6azVI+rhQZpeJ9T4o9OmPi1xStU51Ybk9pnbULVMX+PlR9Wyl9vjkhMZ2oy+X9HbDJ/X2Adl3+VpZfOqfrRa7zfQjz5IGdfKs1YveVvLfi63r5Hl62zdb7F93KGI7B8vzso8ZH2BsYz4ftCujFbmYjKvWMDN86W6D3NFxPf68n1snGn5DF+23rfuBdselMWrmcsrQ+MjVPzX4SSP3PlnFWR4eliHckS++K+AsP7rqAlzZ8w69TOkTYsOv2b1JquQloZnZbez1sfxnYvRMq+wZ2ZFhy2VtBRryJGPl0w7vhFROVmly6sRdtYLyvLjKgCLyeEfU1qEV3JWeacLtbWtfD0ipltUw+IIG1u/NRidVr9i9TzTOxfegZryja2XNwjXWeOv7GXxK1jvILnSF6xh8oChlhna4kW506wGQ9Vt5OP4zlVhDXhE7aibujMttjdRVMPM0ocy3a63FkSeG5e/rP8aNCxfLwO7crazwn4khD421xi5rFo+8TLnnVnEUE+XP4/I+s9fGw7KeCBYC2SE35ZbLzOWE4vv+jU/yxNDcWjTKp2x68axZnx7+TJN21zNv5AaUcs/o8VLbJ3GYJVZ/lSlUR3J4tsqj6AYt9cSlBnqXG1Zss5Vd3Sc+LFhToO5H2Bs6gzPHz6fXmfs2JVVtR9gwZLJqgzcjeXPxUSesXJUP9xq5cWmTerTrmip03K5tXGcTGOzsuLE8ow7pnXamLEPWv2W5V/PiCk4XfpY1luXqV+zkn1Kozpqrt88UFflqsidtSW/WKBmza+G+S3ai6Wf/Wmhrp819tu1dNbOOJj7RP4jptY/6PlvakO/LNW1IVOZGraH72t4Ha71wzI91v5GpkMNMKLPMPWjK6Z+VNjqMl5l7U/Pe/3oHtv+7Hm/5jskf5w0xdJTa99StU9sUEaSKgvLjw+xX2XrrM6ntte4fI5P84cJysTGWl4bslrSSipH7To3gVUg3jitnfiDMnfGMijzvzatZYsbW7rekO2CssgX1mph7nAWLzWowCuzWoyNJ1fc1EhNDA2t4at6lETvWNiOzbSzkfiO1fVuwzVJaodmDRjq5lM7SHKFtJVGWcl2fEE2jXmXJOkNzHeJLVffRpt80NffGOvwj5D5FJ+N9Zav1xG7crYjgpSeGPtlu6ytNjitw5cTtARu3OrX8mjhxoOyBlosMz2wqqfXm4iWsiZB0efVt7kRPf/WZz0K1npQxutcfK7+NHnVukFZa3XGjl1Z2fcDq9rCWdKGvrZrHGwnKbYrps2yfZ2+zLodic12cLbTWtRNs04bq26P6pPslq73Y/X9XQv4tpjSbA3KZLCzXn6JoQb9Lk+f7Q91Qz/L6fNb25teDlbGaUU7sD1DU2tDnL6s+v5W1nNj3ePpaRqU8R8QR+wPGuj9qLDFZZw9J/PJrkwa7tOMWHqsQRmfp1kZyXTreenSQu/OijG21PaaS3Hv2d4L/dtd5OLPf2VcLwwTi8IpfXnW9Kyx5KthmjyQoMQ5P6lJt1AHBV8ep9zfBijgeZTaDgRo4M0ZSt/a3NPOup5gvy8aqlDpjrw1feK9CfPrkzm57eVFKlQfA9C64IkYjSezVLo5Qv4/sRGVEhVv8W/WKHvVsi72mvmqSOV8wXIR8BpVKkXK38jQ3JUpCpwaVePNAk+61SflUD+NnvawtM/Rvkfd1PX8IE1cyVDBeMfXz2XKsDc2VR3PgW7xni+tiHfhWQ9Z1tKCMpXn2fIeV4PNPNDy7XUciRJ9MyUejfDoP3RS4OVhKv6qvjTwuvapTzXtHi+xYHUTamU2+mpfy2WmP0rGWi8m3kvRovgmSYUGd/Hy7R0/zOq52ma+vTPX8rbb3MhapcLqZ4YyXyWpz8/qjxrfMkOdGw112de5lmygzmyAuR+oUJnlZfcBu17MQ10n+HuBSj+LEUJ4v11L2WLrtYF7BeK1ZLaujkxQSj1hI/lDK/3lWrVPaVZHa/hzfcLr5peRNb95P7uWS9el29jPGnV7mvXb9ngb8t2brV+HoQ0Z1fWbD4L1o9TT1bQfNbWALSrj4g/8U5C8nvoycT/uVZ82Qj67qVkZyf2gj/rfibLtLdPc28fIffAYDb6XpMwPFfN2/lGo4MwW/9r62ozlj/lFfEHDKZbllq5b2AjTLwSFX4SqXwSpv4auN/71z+m/ruyOlNUfVTH+CrS/sNX8anI0RP/1w5a3ruq0TV7GXy4ri+oah9orekIeErcedbHmobSiLc9N1k7HqdeiXn4NfukL+tEdlp5qui2/qrhGv16r1Lx2v/qM1lu+vn3GMtW/M70MyxAXr1cv9Ocvlxb8i/nahvq6wejbu24e1x8pm65el6Je/CLnFstM37ZmL9v06n5jv54bbLNOX4fZSvW6Fv3lPx3WQuLzBo6UCbLO8QuxjcvznDBcCrHekbIW64wdu7y17wfqj4jU1PoEYz2rK//tOFLWoA1U1623y2avZutmfUrDOmqaz3qkrNlR4Vp+cc3yu7pO21dYTGk/f60crPg4PX9aaUNcwzJV6TRuJ1+mNS183uo4XiaN8lyVl1jLFpexzM8GZdKgbpqw9JjTwsvYsh7Ly7iulTuz6gYDwzT7ZRkKanut27rX7OgjMTyvTLO/GRp4O0m5K/3kdo9SKaOO+myjyLlpyt6Rjz6Qr1WaeL6Tej/Z3BEzey7y+uQvstr6rK8URbbiVzv79dItVhUmVrlt1sNeX0RYitiPRv7wv33dtGT5Pn5iI7f4d5DnaIxYo6gto5ig7n8cpgz/SfOYSxwRssvV4h35u5I/AHhT2DYHDhGV6u4qr9Dcq50UeG6Akg/4DDf+GAVj3oiXyj/Of3KEpnP8wcbyu9WbUVp5/xh1PjdT3eZUzubhoveWKK0+NmfOOV5mo38aMpfZnWzLZeZ5KiLeq/PavJrehv+Iq+E2N2w54qGl+2gob15P9t1+VnsehKxzk9eXastjdc53dVDWuVY0rDO06TpT00GuJ4kWC3aJKtLSVf4eI99TYoRzPOklXktYCGAqL9PrnF9Oa6H3KQ9WR/n36XXzqzHZz7LAw5xW0yulpn1wvA25zmdtll17bTnWj9LNJds2pvejep/UkhbL2CPqpn2ZFG/zcyAbJVPZrIyM+8GO/SGKfThr+H6ZEr40Dc+32tD3hqZB2SeffEJer9yJ8nc+vDnqgOzVfgpEijR4bUYOb5d7SRp4LmDzDJ+tP1Fq5O2JiupY16juztAxdxf1Pj9BuS15eKCX/Kf5mtKU+Kq+CRc/O0bH3pfPRi/elWGBdcuXvm2lsa1R7r1e6j3YWf/U6SdVmXL7uynEdn6Zu2q4qkiZK3z9Lurz++SoB+ajQNhFcznLvzVYW6TMR0XK3faQh+0ct1aRkn/upaTllHP7k+ZTDPzJS/nPM2QOy1je3ZhTn5VHZCkUyyXxXnV3SX2QeJkFfF2WMltrscxYbvuCIk0Z6ynHtQyNunkwMmh4mr6R3N7Agb51t7nO/aIIQLssP7TWbmfFqe2NaFbn5EmcVjWoM8zW1Zl26n42Ron5bN0pl7X5FIme7kSAuh8sMt0+Lh8Fj7IfE3U7vjXKvO2mTn8vDTb4n8N6n/JgdVTOsV5+NcP7WevlMIKhn90s3obKH6aatqEtx/pRmk837Uc3pMUy9h0eEUuuLxO23msPEpTJlDYrI74fXPv7BPUGu6jzgvX/eLB2eVB9/ANpGpQNDAzQ0pL8hcrf+fBm6bvk8KcJ9ivdGiJsMfYLwftLjmb+bumMf+fXKvgo1OTp3K4nw+K99FN9R76e9sNR8U/UB9/Pq7PqUvL8KM2VC7R6OEj+R9TITWmn4MtxseOde2eQJr4zrI0FpKNvz1HwsPyV63pcPqzR2jj637PvcM3ayfuUl5a+L9Lkh+ZrKCpfsV+jp9nORhSlj/rfjtDAqTEy7v/y7w/S6Ffsw4kJimzBAxL9J+M082rMdHQj994o8S44dD6ysQePtsTDfpSs0uRnOVN5Fr5MiADEd6RbBCqj51ntvjVMMda56NNVWIcz9I45TOMdPT+imP/c8Ev+dxYIsfphxMsszTpDY5kVL0dbLDNmfz8NnXWxepCmouFHAM+rsXKRiuyXadD2iK3c3hzb6TbaZr3l6O2kiv3KF4Gg5chT9KUJy48jl/plXjRdZ2VkrHPG9PM6N8neZZ1jXB7iqTCm08quzvA5trLO8Ovwyu/1U/SyuZUNv8O33Ucjr4c3ujttmSiF0krTPLDnof6/DNHEO8Om/xLC6+3oX8tUvOelEL+20IbepzxoHY2zvqAuv+6lTfnVDO9n6atRcz+r2pHez24aa0NUZnlhakMVUxvaKN5mmu9XfKyezFn60YqpH92Y1sq4/XAfDetlcqVWJsXLo3K963mc9Qp3SmT8qcn3g83KiO8H21k79xYKVPxw0tw+K3OU+pAH/aqhs+XzQ0SWn7J7zo6evizyU5a8kJj0jvxzcR8N5TTqSEbZr371P9fa2K+byBQLNBdp6JCazIbn1AxlL0Yo8+d9Lf3PLzMPRec0GnpkhqLqf+a1tbmp+EKGVliAm/3LZo8WGeyP0iw/1JsfovZPo3Jd/Ffi+SL1za9Ut9Fzepa0n7Ls14nMB/fBXhq4kKQSy4dxPs07M5RusHPkOo5PsmlXKPNCkdxie+Qyhr8LkPZpuHpqynUiQaV3Oyjx5wB1qunmXKOU/42l8YtIdWe+KWybV3P9tHKx9r/0UvtnRN7OvrIla6jj+0uW4h0JQ3m20dTvQ1Ri27V4Vpan/9wiq1crNMGm6z/oltP8FKZMLi6+r2LpX2DTLb6+JpfFb0B5n3VQH5q7G15mk48lTGVWPsLyt8UyE0H7xRLNHC7Q2HNd1XJLdMRFuksfhhqeUuTbq/1WMm1zp7+vus06vZ2I9P2VBZ+iPq5Q4rjcflEXXx6jRInl0yWeT6M0c012z/43lyhx1k1TvjbqtzkaY6xzPP16HvA6l1lh7VpNR09GaObmOO0T6xuzHKlUbOpMpz+6tXWm3UfaSob67o1Rryp/vv2hyyuiv4n/6/b9COXbH7kZrebBRrQfGaeVT4JUON9bzZtosoPirMy00iSFHlMTWuh9il5H9T5Fr6Pr1c8R1jdb8+sYq6+t55eH1dG8qZ/tem5si/vZdtGmjW2I1xtjG9oo3mb0/YpoMzb4JSLGfrTTP2zqRzeqtTKW+0tRJnfHxDSd/gFK/mmUMsnmAbLkpyH3FHWz+dra+inNmjTfD5rLyG0qI+GxEE2ydKzM91GRpY+vV/Qbb+QpwPZh4Wr989NoIWFaPiemrzvKtnu1afww2A6ozI9S6LkMzaW7aF+YH5zm10Ft0bVVAE72Devg/KNE/NqUBtfnAADAxhUv91HnveE907fuyJGyNbZT4gFZ9/UEdTwboqgYm6bUzfUPcQMAAADYSX6Ypdi/bPIGMgfZ9qBs7dYE9b0wSZ5kgiaPe4geC1LotPyOXwAIAAAA8CAWw2mKH3XaHTQPbnuDsl9zFPwyQKlSiRIn9es2Oij86SKN8wu+vxpQd3lUqHCDPxRSDAAAAACsK3XW3/Da2N1oG68pW6PchS7ynlu2zbDKl4PkfX6KBnMrFFsdp2CkQvHbjS8qBQAAANjLduxC/3prVLgySl2RCXI9HaHRyzMUO7R9dycBAAAAONlDDMoAAAAAQLejzykDAAAAAHsIygAAAAAcAEEZAAAAgAMgKAMAAABwAARlAAAAAA6AoAwAAADAARCUAQAAADgAgjIAAAAAB0BQBgAAAOAACMoAAAAAHABBGQAAAIADICgDAAAAcAAEZQAAAAAOsHNB2a0J6m5rozbj6+W0+tKATSe+OxCg3ud6qcvNPr8+R2vqawAAAIC9aOeCsqdjlFlZodQZNcx9NqM+GLDpFpMj5L+bo8z8KgXfXaCViyFqV18DAAAA7EU7F5Q90k4dHR009ZGL4tdTFBUj5yhjPQTGpvM946FHiU33bZYmTwepo0lElrvQRmPfqIFNSL/Ej971UfK+GkE5GhNH9MbYJzDiRzK3Is9btVVl3Cq+Pr6ND1P5St9DSIOs8+vV960sj/xf3XXbuSP5X05TP1tHWQ1uObX8theTasRD9s2YyNO2C+jNAJxsx68py1A/+Y+EKPKWSwwnv6qId6NyPiOne1qNaMJ/TqORHjWwCWs4P+pYW1XGreLr0zRNDYHVVpbH2u/bFhY19/va9l4Ssd3LB4A9aYeDMtZNneimrvZ2Cr44TD42ZuaTFBXll1VL37Jfl6cCbDo1AgAAAGCP2+GgrEA+v5fEMbJDYYodYe9fTVH6Fh9Rk58nCj7rk9Otw+5UytjL6gaBtjZyH+ylQv3BOLNvxqj/Kv+Qpv4nbE6dsF/zxw7K0yz8BoSBCzY3KJQzNPVqHwUObGC9SuX7tEizPh9ffv28FRp8sbZdbW2dNHXDepQhJ06XlFl6M+8NUC9Ls/vgMRr8LM/m5irV7eDjh68UxFjhfpL62HiqFCj55jG1HrfNOuzp28Dn6/T30eDfMiwd6sumKjQQ7CK32CY3dQUHaOyaIV2MqYz10zANXn1XDOk1lEnjfK1nPX0mh/uofGOKBp/X09pJ6R8Mx0LuzlDbczN1PzC43AWZ58PzanpWPrkrYzTg7xTLCbw42DSfi58dE/P3fmK7dPbdsOkygMzfBqlPLJul091F6e/tNrpChWsyDe6D/TTx9xYrK2Ntc3yYn/Y35k/g5TFz/lip+hZ4Rw7WlR1Tl99228Hrur69bFt7+Xptt7dGlOcT/ay1k1q24RIF4/LYd42W16zNGpdPV/vNy7dTzlHyAmuvap12dVU/nc3zfezlAHWKdLP28jyrOzZll2bLk30RmyYyocYCgONpO2jlekybXVED3E8pfo6IvYa0hVU1jrEON5M9T1o8pwa0RW38EGkLv6hBha/D9daC1myRiRM8HWEt8aMaoWW1uEgbe/XE1ThuWUwbu27YkB/Zdrgi2nTBvAa/mHecpaoRmV5yse01pHn587BYr740nm8sQGVrNvPx5bviLKW6bDW9WX15+XE5nRpfdWdaC7Fx1bT9mNDC+ryGTRvp4fP6tfi3tW3jy6rlub6dI9rCT2oES/nSxxGRZteZWTXOhkqbOddk/o5kamPNZWxnWaTJf6mW0xEXS5OlTFa+HmmhTOT6+PJ0+nD8prHyynwgtn36WD4c/NhSSrm4zAdV/1KnXDKt57PV+bQVVg+O8nW41AhNKyVlHVBDqn4G1XBN9rzLkFclsfzIx0umPNXLcDwvh/Vlu04ltOXf5DitmNAiPT5RHrX6ZM9aHjJ/WB0x5I9eh435Y8ea11yr+S3z0rK9Py1Ut7cpVd9LalAqNV2ezL/W2my1PZ1IqBGNLIplx3OGEvttWZsW5U1aOClTqJeZsY5wqzdHRJnV6rOsK5HPzfXQf8gn52f1DgCcq2lQ9sknn2her1c0Zv7OhzeD70DMXcWq6mhIi6ZrHTDvyMydZWOmHYTqCK3By5DLqwVPTmtLathO46DMuNOTeJBk7NwWL/qqnafRwlm507DOX6V33C+wnaMaJawuiDTL9K5qC+eCWvDp+p2M2DlY0ly/vkUtzgMUtp6hr43jWcd/hGrzqrToO27d6tdDIqiwBh+1nfIKG/aZdyoCW74INEJquJ458Kjh64x8WistaxBgtsq+98sAQ43h+HLry4Tl5XplwlgDBX3YOkeMjSOqBcVRPnxk2pQOXueN6xMB8lHzNIIlSLbmzUo6ahqWWB1lZVv9AaOC3LqtVmWoB4ay3oS06Tvye52+jgcJyup+9KzM1uWPHWtec63mt8hLm75C317r/CZ2QRnLv2bL49vYWptl9OnWC8oK05rndKoucBV9DJ9f9TPVoIzVHTMZJFbbsaoD1vqVOs3mNSwPAJyp6enLV155hQoFeSqJv/PhB1ekpZtl8qghqV1cV8bVri3L105xbtTjXgocIhr86xwVfq6dOhkvLdFCMkpeNbwxQer2mi9u6/hnt/rE5SmTzFOfvz7F3c/2sb9lmvnGfDquSqWXrg2JNFe1B0WaZXrbKXh+gRZuZ8WQkfuA+mASoK4DxvS6yfMsfw9btuNRerRDfTQI8/QYtD8bon7+4aMs2W5FhacrRMEe6wWAHuo+wkvXsF0WLm9AlP/YVwWqGM50tR8Zp8Tp1kpr7e9xir2To5lLEUPdyrNX2KZM2tcvkyasW2isBVzoNPszn6bMXTnMZT4ssw0dpGOH5dw8ZcEXgpZ2wOwPUv8LbHrLqXxdBysHfsey6QTmNxmaZIsPqoTlbyTE8uu2+pkgia3+LCfKMMvXcSRMwf3825qOw2Figc8DCfq6zPnTsa8ufzZqvfwWpXzc33B7N1rCPP+aLY/nX2ttdgOeitLyp2GyNkVzH1PjerZbfdK5Tf1AkfUTPF+s9Sv4woOWLADspB27pmxtfooG5us7hkxaPhyDvhqgwNsZqswnKH5aD9U2ykdDeY1CP05R38FHxTUY4nWgj6ZuNbm+pakuctfHWzX3C2In1+9R6zK89j0/JSYp5wsNbr2X6V25MyPSbJqfpdmo+JX1Wio3Je6oL026yfO4+vgA6oKF9i7qPsE/FKhYfVyIwQ98FzBGAVPa5Kv7Df5dE4eGaFFbodJHfeR91Dxv/lc1TUNFmgm10aPPjlH7pUUKPaZGc6xMxPWB65TJVgtfmmVBzRwNvJ2slvdo2UfjX42QXw1zwYN1ucx4yMOqfbZgX1PosTCNX4/RcPW6qzxNnBml8qFxNVymQk7mt3Wb2/YdI7HV5UUqsDIU1zo921Vf1h3dFBBlvXFdTzRrJNtB5kP6JXXtnM328m1tncy/Zsvj+beRNtuqmVePqWvE9OUEaOBS/Y8wLvBk81C3fM/melemwxdgP1MAwOl2LCgrfJdgv87rg62OoxEaUf15+a9JGr2WIK/NEZyNiH04S0ulVVopLlLqAxYI3k3T4NFhmvtZTbCVHmkXv+iz8lSw/euLSNMjfx37QyLNenpD/AgGS7Oe3uKVfgqERilydppSmSzbthVa/a1E/bZHyrbaKq02u276EfY6kaCS3XarV3MdNHl9iUqrK7ScT9HkmZAIFkJvzqmbE+zlLvTTwFdErlMJSvzFUq9YmRDF1y2TLdcRoBB/OPLVFGVEQMCCpEP9FLQcfVxtcgOEt0lww4+Wpa9lZDhyK0MJ9mPAFwmK77h2dWjJdnvFK0URPWD/ZdXmkQ3rlLUDxXN22ylf1W1tEc+/Zsvj+adbr8227NccDXw0R3Q0RuPJWVrIL5N2J0vTbwTUBFtkbbVpewIAZ9ihoKxIizfK5DpsPfTOtAep7w19pzpDUx9ZT3E+qHbqeNJH4dcmKcF//ZenKJN/0KNlTbg81MX2o7ZHkTZIT+/snWWRZpneHCXf4EdeQpS4GKXwYT95XR3UzoKh4k0531aqu79vrUiFefbu6iav3U7ucS/RzWL9fBvV3kEefkcu29EtFxNU/ihDi02KK/xOjqUpZjltqbAyIVrckjLZmA4KvjDE3tOUuslCJxY48aDJ+lMkV7DLLZaHLIbb9yc1aKeDBWAq4MvP81OVPuqv/tBxkcfb2tEqccTkVpFKYshAL+tdQW7rYrHBkcUNk/m30eXZt9nWlb8cJ9fZBVqam6ShkyEWwMvaXP5xSbxvlOtJ++Nha8UCZdRnAHCupkGZ3a/FB7H21QQNzIdp4mT9kTLOdzZDKX49jrCJax9+nqNBdxsl76lhZVEEL1EK+NShBBuep/hftqPa8NE0H43cnKb+Z47RxHfm36L94rESAZpocJ2Qnt42d785zZWCSLNIL/uFuypGWnahlRyNbtX+yCDwUpKKhiM5g/5emmAB4fTNkbrgQnCFyVUepYB/kNKGbaj8XZ3SdA+qMfUqXw6KRxIY18dVCotEpwPUbVdcv+ZozN9Ggc+XSStNmk9bVvlYitP1ZXIvuX6ZbFL7kTgtvOWidKSfet8cppmz5lxLnXJR5s+dFLiQqx25qORp4vkA9V8jGrIcVTNrpxEX266Xe2n4TRaSXZoxTe97K0vTR4mOva8/AkVKviQfyRFg47mZ6zFyzQ9Qp3+McvppYlafxg7zst5ZjYKIVvBtTUd85u39vVjd3qYe94jrv4ytiudfs+WJ/GulzXJq+XSnLvQ1WV1bo/K9sikdxcv95HvA/wTgOTVDs2dcon4Zw8Pgc3gsBsCuwAKt7bO6oi2m41pI3P3n0kLvzmorDW6JWs2MyLv8jljvLmrOeifYcjLC1uXR/KeHtPGL49r4WT7s0iLJuvvdTJY/DfGIU3MdjmojbD62ZHX3pc3dY7l43V1M4lELbD3ek3K9I2f48lpYL0uv2G6WZj297Ae7mFe3/GlYTBM6MyKmGTrt19jvaW38NT6dcfv53ZfW9OqPUzDepcnJ8da7L/183ftDWuycnnceLfqFeRvM69S0xUuh6jbwNA6d9Kphy63+dZa1BH+swX6/Fj3L1se3Tc2bKKpJGGMZL33gF+uPnpfT170+lY+aWL4eM5UJLw+eZ62UifWOQLs7BLlG9aNal23m0X5h9eowvyOT1bWnI4byZnnP7+5TGt2ZygI+MZ7tZuvunhSKs9VlD/H8OCfv4jPfnbqqZd8NyjSysq6mYb9H5FFdfbewtjnrsNSk/RjoecXTOp2T9yC2nN9sW2PicRUqL9m2hvarYba9zcm7g4Ov8DY1W80b4/J4mozL06dppc3qy+fjjMuv88uCaX2yvPxa7NKI6e5NvT7U31Fsacccq2N8Ws/RmOjLeJvysLLl43D3JYCz2ew1to6+AzW+YnPWm7918tZu17vNniBVz26HED8drO7oyOXVUrcbrdPglyUtcVbfcfNs2VhQppUWtMkzYc2vOvGW18us3E6JNOvzBU/HLfOuakssuBXf84DzREybnFuu3jbvu6jn2eaDsmW2HeMq6OPrstsGvk5rnuvbIHfufi18ZlJbsO4/bK1o0cN6EMd3TkEWcKXUd5KxjPUddsOX8ZEGxjKxzVd71qCg5SChSj6qggdOtn4raQsfxLRwD99R8h8QcS2RM2dWo6BMf+6Z9dEbRrVl8zS4tHh6qe6RC1wpM6nFjntF3oRYeWV/knV+vd22tc1Zh6XWgjJe/tmLPPivtf0N5bcpL1kAzn5UNdpeq9VCQqyHKKKl9Ow3LY8aLm/9NiuXP3SUL8ewfBuT7AeD3l/x+p8V06rnoVFUTLOhoIzh2xB6Wg/+Q9rKTdV/ICgDcLQ2/oc1Vvij409Yf6Kfplh1YDt9AAAA2GE7dvclAAAAADSGoAwAAADAARCUAQAAADgArikDAAAAcAAcKQMAAABwAARlAAAAAA6AoAwAAADAARCUAQAAADgAgjIAAAAAB0BQBgAAAOAACMoAAAAAHABBGQAAAIADICgDAAAAcAAEZQAAAAAOgKAMAAAAwAEQlAEAAAA4AIIyAAAAAAdAUAYAAADgAAjKAAAAABygTWPU5+1RmaPBZyeo4OYDq5T5lzhp7wbFVwAAAAAgbf+Rso4QTd5eoNmzPsrM52j8xQ0EZPeT1NfWRmU1uBmV75M0/FFeDRGVr/RRG1t235WtWHoDKv1tLya3ZBvATo7GWB7n1JCj3ctQJ68P7OX2T1GtNm6jcsbZdW8L2/h2GHs5YCqzzchdkMsx4v2SEe+XtrVPesgevN9trZ3vSL8OsI127PRl4fuMePc9Jd521ndj5D3YTxM/r6kRADutQFMne6n95BCNXxyn4T93k0d9s23Kaep396oB2LgCjX5WNJXZllL9EgCAboeCsiItfiWPC3S1i7fWPB6hlKaRSw0+sN/Z/kl9BHgo7ucp8w3RbHKchs4O0dBpP3Wor7bN72vk+J8hW9XGtwMrMzoSN5XZZvjPaWS6WuQP2C+5TqZEHqROOrLEAR66HQnK1uanaGCef3JtrPO1O7Xxe5n6/J3iEHVbWycFXhxUXzRSpjb/qPz4TkDO96LxlMEqVb5Pq1MUbup6fpCmbtR3lYVrYzQQ7CK3Wq/dNC1j25D526BMi7uLel8eo/T3FfVlzdjLvdTl5utrI/fBXipYJylnaOrVPgockNO0HQhQxi5Zan0i3xqsTz/sn3uvX66TTXfsgjy6aSVPw/RR8j6b78ZUNU8CfLk/GMKABqemrKcYzMubEPks1v/qDOVVMgefV3nPx79pPuUj8G18b6CaF2PXClSfo4whz3ieDlxIW/JVnibhdWQ4JOtZp3+AknfV13YqRZprWJ5qeU/0U5oNyXomt7UhVV7HDroblheVc5S8MEC9qi1Yt0XkqVqnLJ+x2qkfY31g3zWqf2zDZL3n07G61cfyvcC2NfliW136+faL9PJ1sTRbl1ct4x8KlHzzmFjewOVi49OXLI3Vdq7ywIq3W2MbqS/LJlosM5of2FCZ2S9PknnAT1+WRR7q/ZKYx3SJg+yT9FOnjfqkavnw9qL6Qut0rbbrzNuy7IbnbcJ4VUastJQKFb+aqua7fT+cE9tU+KHWjngbsj+9KJc3+GKvaXm229xqO7dat90DOAS/0H+7LV7y8Z+H7DWkxmhaKTOpxY56NM+JSW3xFzXS6seEFmbzldQgW5I2edileY/HtJGL49r4uZgW2k+a/3xWW1VT1FvRxs+E5PqPxrRxPt+nWa2UDItxvsNBzcPe+fJG2HT8Mwse1by6ZTGt6+mQFjsn18unCb7bbL2MSj+dSNS24ZesFu/h6yBtiKflbETzuviwR00grcyxdez3a9GzbBo23dBJr0auiJYoqgmYIJ/P5dVCZ0bENDz97Pe4Fs8ZUmVYn6cnalpf9ItlNRErD5Uf5ApqUbaNfFnhT2vfG2XP8/mDWuy1kMbC7Gr6WMAt1l9VV36Svq5wUn6jLy9yOsiW4RHbE3naJdPTM66lPo+obRyqjq+ljG0fGw4dZ+NZXkR4fonyYdt7OmWYTtNWc3HNz5fJ1uE/PVRL8/6olqrmq1weHfKzujkk19kzoi00KuhiSouyOsjXZ65Dev4ua7O8nN+KaD41zfjFaS27ImevY1ieh9XX2vL82lBGzsS3Q5S92g69Hcj8iotplq9b1zlbzQtjfeB10K4+iHS/5pfL3B+q1Zv9QS14iLTEj2oyjqW5ml6VB9blyTL2af4eVk77wyzv/dpIhmWqXR1RdVZPn75uc/o0mS+GNiLK0tJGbDUpM6lWZnQosn6ZNWnT9XnAu9wVLfspm07kE4m08z6JL563Db1P0vNTps2lRb4w5tKyljgl2wLvl2p1QPZLulbb9WpmRObf2YW6Pk1fhrSspU57xLDoC1n69HYUSRqXmxVtyM/yQW9HvA1Z275xeWI7DMsz98OttfP65bfa7gGcYQeCMtZ5vMAbBHudSmnab2z4NAsk3kppi7cXROOIXW/Q21k67JXrshGasA6RKKRN31HDdlijFOtnwZuu2lnxzu7zWmeyenNE7MgW1TAboy2+yzqXtxZEp6mbFh2iq3HaubqgrKSl1HyRj5fEGOGnBW2EderjeTXM1j7OdnwLlmCVp9fF0iE7zRU2XL/dPO10dLraSRnXV+1s1fqMAZSeH03zUdF3LiIAvFnb/uXP5TKqYzYUlKnlVQNKmQf6+JplbfqoMa9UEGXZGdeVz48pLcJ3lGy66UJtt7Py9YjssFnwJ6nlsVdtqgZWF9XO2FyH+E4/JtK+foBqxbfNurzVwqSsR64RNsTyRZWdKfhm7Wr6BB9vaB+26yzJ5TeoD3q+8rbG26brVEJb/k2Oq01nCMpUHpi2n9G3P/6tXEu1jF1s52ys13VprLURU/6zdRvTx/PBuiy9/tXaiI11ykxPr8DSZvpBZat5mzbWgVpQpqh+yUi2DUv5qz6JDo2rfkn2SXxeU7/0y1K13utab9es3otAUgZPNSUtIepVSAwZ64XRCgvqyBVnS9HxfplNZwnyrG3fVM/EGIkvj2+zcXmttHPr8ltv9wDO0DQo45Xb+tow1qHIeX3aeGbRtDNY/CCoeV8xH80wsXTYelA2nVvWVvUdRSuaBGWud2vhlyQ7IX2nYxsICnrQENFSjXptlX69Y9ePGIYtOzBhZVZ0ajI1ctmhd2e1pZ9MPaQBD8pYp/wa+wVfbDSNLMNG64ux7/St1/OjFfrOxfzLnZMdZzWXbYOC+o5TX57x1y1X18EqfHxtnFxn/ZEsFqQcqZWPLKuw7VEUcxnrQVlEDTe2cFame+hru/zPaiPsu1l9j9kgL6zstrdl1p28zTp5HWxWH3gd1O5Ma0H++QXzjlKS2yXbx2o1D+rJ6YhiIg8a1hlLGpu1ET19ehvhO+PmbcSqlt5GZaanV2BpWy8oW69NG9tYq0FZoz5J1F+W73p9pXO1/qxG9h16n7SRdq3lx0UgxINaXaM2WI8H+zJ9Es/L+r5xI8sz9sN8ea20c+vyW2/3AM6w7deU5b+dU59KNB6JUuIVL+nX+vteW6Clj8Mt34XWcSRK44dd4hqXR/+BX8M0TDPXNvdggcCT4gFqDRXvZsX7xHsTlleKFsU3SSrcEx/WVboj07qWS9cv7xOWT+VFKojrVnzU/06U5t4+Rl3//Ci5Dx6jwfeSlou2OyjIfmLm/jZAAc+j8hqdN2do7Xf1tSAvmmi0Pn6NiFzfg+l6giVgC3V7Hnx5nrobSPaRez9/l+VTvMU/r1H2qiUf2GvmK3m1jPkKli713lhZlHuYug/Y3b3ioa4TrMx/VoMb0Ho+rFGFXxt1ZYpG+fUyp9S1kw1VRB1sVh94HaSfyySuOvJ5bNqm3C6pUs2Devp0BVMeNK8zMn2cXRr19OltxMNKzNhGMj9U1rmxoZbeRmVmTe961mvTD9LGWu2TfPdm69ep+qVW+ySTQ0HqP8Sy+DP9mrMKZef5VYlh6nu2vtzKP+QocyNNM+8N00DQ7lFHXeTeSJP+tWJa3tBVNd5gvXZutfF2D/CQqeDMFv/a+too+QuPvfZ7xLUR/tNxLWU4jNyU3dGF30patEdeg6C/gn+pXS9jq8mRsvpfbOZfaPqv22aveE5OW0elX/+1Xc2Lhi/jL01NmzwTUtemqNf+sDaZN+RdKaslzkc1v349EX+5gtrQdT03+K9Xw3c2L319G/lFredJ/XZv7kiZdXmNyoiPr42T67SugzMuV5TDOi+VGnWkTF6b1Yzx6EU9WY+q29QgL8xkeTWsT7qVRW26eh2UevFrq07Ia5Sq6tapH3Fp9gpX893YXmqM7UNfXlh8Y1ZbF9+ehnXGlMbW0qfn98qd2fXbiEktvY3KjC/DWGbrHSlbP731fUlVgyNljfokPd36cpq99G3Qy7JV8sifOv35U0qL8uWdTpku3Viei9eu+RQvfp1vhL0b85UfKTOezpTs2nSj5YUO1R8psysLY92yLr/1dg/gDNt+pGxR/doJv7NAy7+tUPGzUerzBmlC/IJ5AI+4aDq3TNovJVrKJCh+0kuZ949R//ubO2LWSDtbH8fyquFrpEdMsq529SuPdR62y9G0FEUel9NwsQ9naam0SivFRUp9ECO6m6bBo8M0p/+Sd/kpcm6asnc0Wi0t0UKSdVvlDE0832/K38br00zr281W1XtNhVZK/J2V3yMs78W4OLGdhG0+8NdGftSbmI5Omm3s4F8LE/+ao7Gj3TTw0RzR0RiNJ2dpZWWVtDtZmn4joCZqjNfBZvWB10HXE1419VYIbygPNtJGOvaHTG0kxI+YWNtIIw3LbKvTu/VtTO+TWOBhuz7+arVPsvId7iefOnZUuTlHM+w9ejxYfXxL8Uo/BUKjlPx5H6UyWZb3K7T6G+uLr0+oKTbGuLzI2WnT8voPqIkM1mvnVtva7gG2QdOg7JNPPiGvV3bQ/J0Pb5Roqq44DZ9iv+sf6aD4ET4iR3PfykPH7rZhyrT0MKUiJf/cS4EDfXLwTy7yHo7QSHJJnDzJfbUoT29sMd+JOIXYe+ZXOVy1lqFRdycFnhukdIunJ0KnR0QHMHp+pj6td2eo9/kJyrGdxdrfJ6g3qJ8+a6eOJ30Ufm2S2C9CFnRNUSbPMuxekjoNt9G3u7wUPDlC7JciG9LzVz6CpNH6jrm7xPq2zSPtolMUfabB7GV+SmRrJb+xVKJbMzT6EXs/GqfIv7Ady1siJyj+SX0tKX52TNwmv1GhUyxQpjQNfZipO222Nj8uTr8En1QjWiRS+XGa7WqM1ijzJn8EgJty7wdo9Bu5Q16em6ShkyHq6OC5zKZJT8rJG3KJOtisPvA6SP/aR+OH2Lh3xusfA3ErQePV00pseSoPGm0/nejbQB7I9Ol11kpPn95GOi/oD/mQbWSW/TgxtZE6tfQ2KrONpXf9Nr0dbUzvk9JvjDfsl1rtk+ocGqLUx+xH8405Gg2zMjgzS+MvqJDsfpKGI7zPYUEO+xEYPuwnr6uDBYnsu7uzcpqNsCwvcTFqWl7C5vTleu3cajvaPcC2Yr8UtpG8GJ017Orhb3lqSL/QdrX5nVKW0y+Ll+QdR8ZD6Rwf57tovTjWoCiXY0yH3WF0SZ4qqB025xcHuzT/a6naXWhM9rxMi8uwzDoq/bVTIPLOQbZz0EKXDOnld6SeYuvQx/00q8VcLA2Wi1OHxGmaqJb6iQ/xC53Ndz9yk2L5vupdasb1VadU6+Pp123kNIfxdIGZ5fSlugh3RD3KQce6STG/nveNlteojPj42jh1urEnbnpkgbzDzqeN3FS16860xnZk7GdxSBv/1jAhqxvi7qzqXXKtn75seiefWn9V3alEe3Z3X67cVLf087tqP1WPd2F1ynjKfvnzSDVfa+TF9uaWwR/v0rg+6HWQXwTNl2e6+3KF5Y3YLkP7aHT3pSX/G9aZunyptRFTrWFpNKaPt5G6x1+szFraiI11yqxaX7gWTl+u16aN5aHnQZXql4zbaa7bOutpV9knifww9Usr1X5JX+ZG2nUVv9HjSFDMZ7q7fHVBGxH5a2hXXLVebPD05brLqz99uV47r+szWm73AM6wwda6UfK2aGMnM/ua7ExicytiZ5OqNjob1g5bPQ+o+rywiyPiWWeioTZ61hlXbfweLcyfb2N4TlmjDrDWGTC/8ACIzb9fX++QHF5vvXVBGVNkAZfqcMQzjQzPmDLtZJP8Gg31HCo+3Vk+zHYkhmcByWfvmJ/bxpdjem6bYX2upyOm9Rlva99I5916UMb6V3GHk3z2mF5e8fMynXreb0VQFuHbqJ7FJPNB7iQNXb22zNJSzbOTQ4bnUxnzVXX+rQRlXMNnXrFlGh+R0GJQZiwv03PK9ADkF1aX9fJj5cnrUEhcj+PXYpdGbAOc4Cs872vXXRrrg5jfUB9qtav2/CjTc8p6/CIPTTtblgfV9Ko80Ldfz//WgzJG5YGePr3OWh+bIIPQWhuR15aZ24itJmVmrC+tBWVMkzZtbGN1QZnql/Q+iYcM5rqts7kWjvVJ4/yZXTzdvHwMz/DTn1XHbaRd18gAuP7xGOybT8PVfBfPFDvtF3nnOj4u5qmVb2vXlBmXx/sI4/LGXzMvr5V2btdntNbuGXWN37rlDbCN2vgfVhEBAFrAn3Yf4E+tIp8aAwAAW2OH/vclAOweLPA62Eu9L85QQY2purskHpfhkUMAALCFEJQBgIWXvM9kKHN1ihI3DLcc/F6k5PlRFpS5tv+fqQMA/AEhKAMAiw4Kf6qRVpqirr8PU6/4R+OdFIhM0MrpPGma9X5aAADYCrimDAAAAMABcKQMAAAAwAEQlAEAAAA4AIIyAAAAAAdAUAYAAADgAAjKAAAAABwAQRkAAACAAyAoAwAAAHAABGUAAAAADoCgDAAAAOChI/r/AcZOYyuHHcxEAAAAAElFTkSuQmCC)\n",
        "\n",
        "     Interpretation: based on [IBM's guideline](https://www.jmp.com/en_be/statistics-knowledge-portal/chi-square-test.html), \n",
        "      *    V < 0.2 is considered to show a weak association\n",
        "      *    V in [0.2, 0.6] is considered a moderate association\n",
        "      *    V > 0.6 is considered a strong association\n",
        "\n",
        "*   **nominal - numerical correlations** are computed based on **Correlation Ratios**, which is a measure of the relationship between the statistical dispersion in the individual categories of the nominal variable and the statistical dispersion in the entire population. Similarly to Cramer's V, it's range is [0, 1].\n",
        "\n",
        "    [source](https://en.wikipedia.org/wiki/Correlation_ratio)\n",
        "\n",
        "    It's square can be computed as \n",
        "    \n",
        "    ![image.png](data:image/png;base64,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)\n",
        "\n",
        "    which represents the variance of the category means divided by the variance of all samples (x denotes a category, y an observation).\n",
        "\n",
        "    Interpretation: \n",
        "\n",
        "      *    eta close to 1 means that the overall dispersion is mostly due to the dispersion between categories. Marks a strong association.\n",
        "      *    eta close to 0 means that the overall dispersion is mostly due to the dispersion within the individual categories"
      ],
      "metadata": {
        "id": "Anolf2tor68u"
      }
    },
    {
      "cell_type": "code",
      "source": [
        "pip install dython"
      ],
      "metadata": {
        "outputId": "da9f3530-ddce-4314-e932-a9744aa06a75",
        "colab": {
          "base_uri": "https://localhost:8080/",
          "height": 817
        },
        "id": "iA1oat3gkpQv"
      },
      "execution_count": 125,
      "outputs": [
        {
          "output_type": "stream",
          "name": "stdout",
          "text": [
            "Collecting dython\n",
            "  Downloading dython-0.7.1.post3-py3-none-any.whl (21 kB)\n",
            "Collecting matplotlib>=3.4.3\n",
            "  Downloading matplotlib-3.5.1-cp37-cp37m-manylinux_2_5_x86_64.manylinux1_x86_64.whl (11.2 MB)\n",
            "\u001b[K     |████████████████████████████████| 11.2 MB 7.2 MB/s \n",
            "\u001b[?25hRequirement already satisfied: scikit-learn>=0.24.2 in /usr/local/lib/python3.7/dist-packages (from dython) (1.0.2)\n",
            "Requirement already satisfied: seaborn>=0.11.0 in /usr/local/lib/python3.7/dist-packages (from dython) (0.11.2)\n",
            "Requirement already satisfied: numpy>=1.19.5 in /usr/local/lib/python3.7/dist-packages (from dython) (1.21.5)\n",
            "Collecting scipy>=1.7.1\n",
            "  Downloading scipy-1.7.3-cp37-cp37m-manylinux_2_12_x86_64.manylinux2010_x86_64.whl (38.1 MB)\n",
            "\u001b[K     |████████████████████████████████| 38.1 MB 1.3 MB/s \n",
            "\u001b[?25hRequirement already satisfied: pandas>=1.3.2 in /usr/local/lib/python3.7/dist-packages (from dython) (1.3.5)\n",
            "Collecting scikit-plot>=0.3.7\n",
            "  Downloading scikit_plot-0.3.7-py3-none-any.whl (33 kB)\n",
            "Collecting fonttools>=4.22.0\n",
            "  Downloading fonttools-4.31.2-py3-none-any.whl (899 kB)\n",
            "\u001b[K     |████████████████████████████████| 899 kB 52.9 MB/s \n",
            "\u001b[?25hRequirement already satisfied: pillow>=6.2.0 in /usr/local/lib/python3.7/dist-packages (from matplotlib>=3.4.3->dython) (7.1.2)\n",
            "Requirement already satisfied: kiwisolver>=1.0.1 in /usr/local/lib/python3.7/dist-packages (from matplotlib>=3.4.3->dython) (1.4.0)\n",
            "Requirement already satisfied: cycler>=0.10 in /usr/local/lib/python3.7/dist-packages (from matplotlib>=3.4.3->dython) (0.11.0)\n",
            "Requirement already satisfied: pyparsing>=2.2.1 in /usr/local/lib/python3.7/dist-packages (from matplotlib>=3.4.3->dython) (3.0.7)\n",
            "Requirement already satisfied: python-dateutil>=2.7 in /usr/local/lib/python3.7/dist-packages (from matplotlib>=3.4.3->dython) (2.8.2)\n",
            "Requirement already satisfied: packaging>=20.0 in /usr/local/lib/python3.7/dist-packages (from matplotlib>=3.4.3->dython) (21.3)\n",
            "Requirement already satisfied: typing-extensions in /usr/local/lib/python3.7/dist-packages (from kiwisolver>=1.0.1->matplotlib>=3.4.3->dython) (3.10.0.2)\n",
            "Requirement already satisfied: pytz>=2017.3 in /usr/local/lib/python3.7/dist-packages (from pandas>=1.3.2->dython) (2018.9)\n",
            "Requirement already satisfied: six>=1.5 in /usr/local/lib/python3.7/dist-packages (from python-dateutil>=2.7->matplotlib>=3.4.3->dython) (1.15.0)\n",
            "Requirement already satisfied: threadpoolctl>=2.0.0 in /usr/local/lib/python3.7/dist-packages (from scikit-learn>=0.24.2->dython) (3.1.0)\n",
            "Requirement already satisfied: joblib>=0.11 in /usr/local/lib/python3.7/dist-packages (from scikit-learn>=0.24.2->dython) (1.1.0)\n",
            "Installing collected packages: scipy, fonttools, matplotlib, scikit-plot, dython\n",
            "  Attempting uninstall: scipy\n",
            "    Found existing installation: scipy 1.4.1\n",
            "    Uninstalling scipy-1.4.1:\n",
            "      Successfully uninstalled scipy-1.4.1\n",
            "  Attempting uninstall: matplotlib\n",
            "    Found existing installation: matplotlib 3.2.2\n",
            "    Uninstalling matplotlib-3.2.2:\n",
            "      Successfully uninstalled matplotlib-3.2.2\n",
            "\u001b[31mERROR: pip's dependency resolver does not currently take into account all the packages that are installed. This behaviour is the source of the following dependency conflicts.\n",
            "albumentations 0.1.12 requires imgaug<0.2.7,>=0.2.5, but you have imgaug 0.2.9 which is incompatible.\u001b[0m\n",
            "Successfully installed dython-0.7.1.post3 fonttools-4.31.2 matplotlib-3.5.1 scikit-plot-0.3.7 scipy-1.7.3\n"
          ]
        },
        {
          "output_type": "display_data",
          "data": {
            "application/vnd.colab-display-data+json": {
              "pip_warning": {
                "packages": [
                  "matplotlib",
                  "mpl_toolkits",
                  "scipy"
                ]
              }
            }
          },
          "metadata": {}
        }
      ]
    },
    {
      "cell_type": "code",
      "source": [
        "from dython.nominal import associations\n",
        "from dython.nominal import identify_nominal_columns\n",
        "from dython.nominal import cluster_correlations\n",
        "categorical_features=identify_nominal_columns(stroke_df)"
      ],
      "metadata": {
        "id": "OdBps1QAkpQw",
        "outputId": "f7d639bd-939b-490f-a6d3-035447c63744",
        "colab": {
          "base_uri": "https://localhost:8080/",
          "height": 362
        }
      },
      "execution_count": 126,
      "outputs": [
        {
          "output_type": "error",
          "ename": "ContextualVersionConflict",
          "evalue": "ignored",
          "traceback": [
            "\u001b[0;31m---------------------------------------------------------------------------\u001b[0m",
            "\u001b[0;31mContextualVersionConflict\u001b[0m                 Traceback (most recent call last)",
            "\u001b[0;32m<ipython-input-126-4525151713b0>\u001b[0m in \u001b[0;36m<module>\u001b[0;34m()\u001b[0m\n\u001b[0;32m----> 1\u001b[0;31m \u001b[0;32mfrom\u001b[0m \u001b[0mdython\u001b[0m\u001b[0;34m.\u001b[0m\u001b[0mnominal\u001b[0m \u001b[0;32mimport\u001b[0m \u001b[0massociations\u001b[0m\u001b[0;34m\u001b[0m\u001b[0;34m\u001b[0m\u001b[0m\n\u001b[0m\u001b[1;32m      2\u001b[0m \u001b[0;32mfrom\u001b[0m \u001b[0mdython\u001b[0m\u001b[0;34m.\u001b[0m\u001b[0mnominal\u001b[0m \u001b[0;32mimport\u001b[0m \u001b[0midentify_nominal_columns\u001b[0m\u001b[0;34m\u001b[0m\u001b[0;34m\u001b[0m\u001b[0m\n\u001b[1;32m      3\u001b[0m \u001b[0;32mfrom\u001b[0m \u001b[0mdython\u001b[0m\u001b[0;34m.\u001b[0m\u001b[0mnominal\u001b[0m \u001b[0;32mimport\u001b[0m \u001b[0mcluster_correlations\u001b[0m\u001b[0;34m\u001b[0m\u001b[0;34m\u001b[0m\u001b[0m\n\u001b[1;32m      4\u001b[0m \u001b[0mcategorical_features\u001b[0m\u001b[0;34m=\u001b[0m\u001b[0midentify_nominal_columns\u001b[0m\u001b[0;34m(\u001b[0m\u001b[0mstroke_df\u001b[0m\u001b[0;34m)\u001b[0m\u001b[0;34m\u001b[0m\u001b[0;34m\u001b[0m\u001b[0m\n",
            "\u001b[0;32m/usr/local/lib/python3.7/dist-packages/dython/__init__.py\u001b[0m in \u001b[0;36m<module>\u001b[0;34m()\u001b[0m\n\u001b[1;32m     10\u001b[0m \u001b[0;34m\u001b[0m\u001b[0m\n\u001b[1;32m     11\u001b[0m \u001b[0m__all__\u001b[0m \u001b[0;34m=\u001b[0m \u001b[0;34m[\u001b[0m\u001b[0;34m'__version__'\u001b[0m\u001b[0;34m]\u001b[0m\u001b[0;34m\u001b[0m\u001b[0;34m\u001b[0m\u001b[0m\n\u001b[0;32m---> 12\u001b[0;31m \u001b[0m__version__\u001b[0m \u001b[0;34m=\u001b[0m \u001b[0m_get_version_from_setuptools\u001b[0m\u001b[0;34m(\u001b[0m\u001b[0;34m)\u001b[0m\u001b[0;34m\u001b[0m\u001b[0;34m\u001b[0m\u001b[0m\n\u001b[0m",
            "\u001b[0;32m/usr/local/lib/python3.7/dist-packages/dython/__init__.py\u001b[0m in \u001b[0;36m_get_version_from_setuptools\u001b[0;34m()\u001b[0m\n\u001b[1;32m      6\u001b[0m \u001b[0;32mdef\u001b[0m \u001b[0m_get_version_from_setuptools\u001b[0m\u001b[0;34m(\u001b[0m\u001b[0;34m)\u001b[0m\u001b[0;34m:\u001b[0m\u001b[0;34m\u001b[0m\u001b[0;34m\u001b[0m\u001b[0m\n\u001b[1;32m      7\u001b[0m     \u001b[0;32mfrom\u001b[0m \u001b[0mpkg_resources\u001b[0m \u001b[0;32mimport\u001b[0m \u001b[0mget_distribution\u001b[0m\u001b[0;34m\u001b[0m\u001b[0;34m\u001b[0m\u001b[0m\n\u001b[0;32m----> 8\u001b[0;31m     \u001b[0;32mreturn\u001b[0m \u001b[0mget_distribution\u001b[0m\u001b[0;34m(\u001b[0m\u001b[0;34m\"dython\"\u001b[0m\u001b[0;34m)\u001b[0m\u001b[0;34m.\u001b[0m\u001b[0mversion\u001b[0m\u001b[0;34m\u001b[0m\u001b[0;34m\u001b[0m\u001b[0m\n\u001b[0m\u001b[1;32m      9\u001b[0m \u001b[0;34m\u001b[0m\u001b[0m\n\u001b[1;32m     10\u001b[0m \u001b[0;34m\u001b[0m\u001b[0m\n",
            "\u001b[0;32m/usr/local/lib/python3.7/dist-packages/pkg_resources/__init__.py\u001b[0m in \u001b[0;36mget_distribution\u001b[0;34m(dist)\u001b[0m\n\u001b[1;32m    464\u001b[0m         \u001b[0mdist\u001b[0m \u001b[0;34m=\u001b[0m \u001b[0mRequirement\u001b[0m\u001b[0;34m.\u001b[0m\u001b[0mparse\u001b[0m\u001b[0;34m(\u001b[0m\u001b[0mdist\u001b[0m\u001b[0;34m)\u001b[0m\u001b[0;34m\u001b[0m\u001b[0;34m\u001b[0m\u001b[0m\n\u001b[1;32m    465\u001b[0m     \u001b[0;32mif\u001b[0m \u001b[0misinstance\u001b[0m\u001b[0;34m(\u001b[0m\u001b[0mdist\u001b[0m\u001b[0;34m,\u001b[0m \u001b[0mRequirement\u001b[0m\u001b[0;34m)\u001b[0m\u001b[0;34m:\u001b[0m\u001b[0;34m\u001b[0m\u001b[0;34m\u001b[0m\u001b[0m\n\u001b[0;32m--> 466\u001b[0;31m         \u001b[0mdist\u001b[0m \u001b[0;34m=\u001b[0m \u001b[0mget_provider\u001b[0m\u001b[0;34m(\u001b[0m\u001b[0mdist\u001b[0m\u001b[0;34m)\u001b[0m\u001b[0;34m\u001b[0m\u001b[0;34m\u001b[0m\u001b[0m\n\u001b[0m\u001b[1;32m    467\u001b[0m     \u001b[0;32mif\u001b[0m \u001b[0;32mnot\u001b[0m \u001b[0misinstance\u001b[0m\u001b[0;34m(\u001b[0m\u001b[0mdist\u001b[0m\u001b[0;34m,\u001b[0m \u001b[0mDistribution\u001b[0m\u001b[0;34m)\u001b[0m\u001b[0;34m:\u001b[0m\u001b[0;34m\u001b[0m\u001b[0;34m\u001b[0m\u001b[0m\n\u001b[1;32m    468\u001b[0m         \u001b[0;32mraise\u001b[0m \u001b[0mTypeError\u001b[0m\u001b[0;34m(\u001b[0m\u001b[0;34m\"Expected string, Requirement, or Distribution\"\u001b[0m\u001b[0;34m,\u001b[0m \u001b[0mdist\u001b[0m\u001b[0;34m)\u001b[0m\u001b[0;34m\u001b[0m\u001b[0;34m\u001b[0m\u001b[0m\n",
            "\u001b[0;32m/usr/local/lib/python3.7/dist-packages/pkg_resources/__init__.py\u001b[0m in \u001b[0;36mget_provider\u001b[0;34m(moduleOrReq)\u001b[0m\n\u001b[1;32m    340\u001b[0m     \u001b[0;34m\"\"\"Return an IResourceProvider for the named module or requirement\"\"\"\u001b[0m\u001b[0;34m\u001b[0m\u001b[0;34m\u001b[0m\u001b[0m\n\u001b[1;32m    341\u001b[0m     \u001b[0;32mif\u001b[0m \u001b[0misinstance\u001b[0m\u001b[0;34m(\u001b[0m\u001b[0mmoduleOrReq\u001b[0m\u001b[0;34m,\u001b[0m \u001b[0mRequirement\u001b[0m\u001b[0;34m)\u001b[0m\u001b[0;34m:\u001b[0m\u001b[0;34m\u001b[0m\u001b[0;34m\u001b[0m\u001b[0m\n\u001b[0;32m--> 342\u001b[0;31m         \u001b[0;32mreturn\u001b[0m \u001b[0mworking_set\u001b[0m\u001b[0;34m.\u001b[0m\u001b[0mfind\u001b[0m\u001b[0;34m(\u001b[0m\u001b[0mmoduleOrReq\u001b[0m\u001b[0;34m)\u001b[0m \u001b[0;32mor\u001b[0m \u001b[0mrequire\u001b[0m\u001b[0;34m(\u001b[0m\u001b[0mstr\u001b[0m\u001b[0;34m(\u001b[0m\u001b[0mmoduleOrReq\u001b[0m\u001b[0;34m)\u001b[0m\u001b[0;34m)\u001b[0m\u001b[0;34m[\u001b[0m\u001b[0;36m0\u001b[0m\u001b[0;34m]\u001b[0m\u001b[0;34m\u001b[0m\u001b[0;34m\u001b[0m\u001b[0m\n\u001b[0m\u001b[1;32m    343\u001b[0m     \u001b[0;32mtry\u001b[0m\u001b[0;34m:\u001b[0m\u001b[0;34m\u001b[0m\u001b[0;34m\u001b[0m\u001b[0m\n\u001b[1;32m    344\u001b[0m         \u001b[0mmodule\u001b[0m \u001b[0;34m=\u001b[0m \u001b[0msys\u001b[0m\u001b[0;34m.\u001b[0m\u001b[0mmodules\u001b[0m\u001b[0;34m[\u001b[0m\u001b[0mmoduleOrReq\u001b[0m\u001b[0;34m]\u001b[0m\u001b[0;34m\u001b[0m\u001b[0;34m\u001b[0m\u001b[0m\n",
            "\u001b[0;32m/usr/local/lib/python3.7/dist-packages/pkg_resources/__init__.py\u001b[0m in \u001b[0;36mrequire\u001b[0;34m(self, *requirements)\u001b[0m\n\u001b[1;32m    884\u001b[0m         \u001b[0mincluded\u001b[0m\u001b[0;34m,\u001b[0m \u001b[0meven\u001b[0m \u001b[0;32mif\u001b[0m \u001b[0mthey\u001b[0m \u001b[0mwere\u001b[0m \u001b[0malready\u001b[0m \u001b[0mactivated\u001b[0m \u001b[0;32min\u001b[0m \u001b[0mthis\u001b[0m \u001b[0mworking\u001b[0m \u001b[0mset\u001b[0m\u001b[0;34m.\u001b[0m\u001b[0;34m\u001b[0m\u001b[0;34m\u001b[0m\u001b[0m\n\u001b[1;32m    885\u001b[0m         \"\"\"\n\u001b[0;32m--> 886\u001b[0;31m         \u001b[0mneeded\u001b[0m \u001b[0;34m=\u001b[0m \u001b[0mself\u001b[0m\u001b[0;34m.\u001b[0m\u001b[0mresolve\u001b[0m\u001b[0;34m(\u001b[0m\u001b[0mparse_requirements\u001b[0m\u001b[0;34m(\u001b[0m\u001b[0mrequirements\u001b[0m\u001b[0;34m)\u001b[0m\u001b[0;34m)\u001b[0m\u001b[0;34m\u001b[0m\u001b[0;34m\u001b[0m\u001b[0m\n\u001b[0m\u001b[1;32m    887\u001b[0m \u001b[0;34m\u001b[0m\u001b[0m\n\u001b[1;32m    888\u001b[0m         \u001b[0;32mfor\u001b[0m \u001b[0mdist\u001b[0m \u001b[0;32min\u001b[0m \u001b[0mneeded\u001b[0m\u001b[0;34m:\u001b[0m\u001b[0;34m\u001b[0m\u001b[0;34m\u001b[0m\u001b[0m\n",
            "\u001b[0;32m/usr/local/lib/python3.7/dist-packages/pkg_resources/__init__.py\u001b[0m in \u001b[0;36mresolve\u001b[0;34m(self, requirements, env, installer, replace_conflicting, extras)\u001b[0m\n\u001b[1;32m    775\u001b[0m                 \u001b[0;31m# Oops, the \"best\" so far conflicts with a dependency\u001b[0m\u001b[0;34m\u001b[0m\u001b[0;34m\u001b[0m\u001b[0;34m\u001b[0m\u001b[0m\n\u001b[1;32m    776\u001b[0m                 \u001b[0mdependent_req\u001b[0m \u001b[0;34m=\u001b[0m \u001b[0mrequired_by\u001b[0m\u001b[0;34m[\u001b[0m\u001b[0mreq\u001b[0m\u001b[0;34m]\u001b[0m\u001b[0;34m\u001b[0m\u001b[0;34m\u001b[0m\u001b[0m\n\u001b[0;32m--> 777\u001b[0;31m                 \u001b[0;32mraise\u001b[0m \u001b[0mVersionConflict\u001b[0m\u001b[0;34m(\u001b[0m\u001b[0mdist\u001b[0m\u001b[0;34m,\u001b[0m \u001b[0mreq\u001b[0m\u001b[0;34m)\u001b[0m\u001b[0;34m.\u001b[0m\u001b[0mwith_context\u001b[0m\u001b[0;34m(\u001b[0m\u001b[0mdependent_req\u001b[0m\u001b[0;34m)\u001b[0m\u001b[0;34m\u001b[0m\u001b[0;34m\u001b[0m\u001b[0m\n\u001b[0m\u001b[1;32m    778\u001b[0m \u001b[0;34m\u001b[0m\u001b[0m\n\u001b[1;32m    779\u001b[0m             \u001b[0;31m# push the new requirements onto the stack\u001b[0m\u001b[0;34m\u001b[0m\u001b[0;34m\u001b[0m\u001b[0;34m\u001b[0m\u001b[0m\n",
            "\u001b[0;31mContextualVersionConflict\u001b[0m: (scipy 1.4.1 (/usr/local/lib/python3.7/dist-packages), Requirement.parse('scipy>=1.7.1'), {'dython'})"
          ]
        }
      ]
    },
    {
      "cell_type": "markdown",
      "source": [
        "##### Correlations between all features"
      ],
      "metadata": {
        "id": "xHNCflcDC2sd"
      }
    },
    {
      "cell_type": "code",
      "source": [
        "correlations = associations(stroke_df, compute_only=True, figsize=(10, 10), mark_columns=True)['corr']\n",
        "correlations, _ = cluster_correlations(correlations)\n",
        "plt.figure(figsize=(10, 10))\n",
        "sns.heatmap(correlations, annot=True, vmin=-1, vmax=1, cmap=\"icefire\", fmt=\".2f\")"
      ],
      "metadata": {
        "id": "8hybikkokpQw"
      },
      "execution_count": null,
      "outputs": []
    },
    {
      "cell_type": "markdown",
      "source": [
        "##### Correlations with the label\n"
      ],
      "metadata": {
        "id": "W2Y6wnYXCycM"
      }
    },
    {
      "cell_type": "code",
      "source": [
        "correlations[\"stroke (con)\"].sort_values(ascending = False)"
      ],
      "metadata": {
        "id": "VwyT03KWCmr2"
      },
      "execution_count": null,
      "outputs": []
    },
    {
      "cell_type": "markdown",
      "source": [
        "##### Observations"
      ],
      "metadata": {
        "id": "vX4oE6hbE64d"
      }
    },
    {
      "cell_type": "markdown",
      "source": [
        "**Correlations with the label (stroke)**\n",
        "\n",
        "From the heatmap we can get the features that are showing some corellation with stroke (considered the values > 0.1)\n",
        "*   age\n",
        "*   hypertension\n",
        "*   heart_disease\n",
        "*   ever_married\n",
        "*   avg_glucose_level\n",
        "*   ever_married\n",
        "*   work_type\n",
        "\n",
        "However, based on the above formulas, actually none of these correlations is strong enough to be a promision feature for prediction on its own. \n",
        "\n",
        "Moreover, the variables that have a correlation < 0.1 with the stroke (smoking status, residence type, gender and bmi) seem absolutely irrelevant for the predictive model, assuming that the model is based on a linear approximation function (because correlations also show linear relationships). \n",
        "\n",
        "However, if we use a more complex ML model for prediction, that can combine features, than these seemingly uncorrelated features may still be relevant. \n",
        "\n",
        "1. Think about the smoking_status for example. We have shown in the 'Individual Feature Analysis' section, that the ratio of those who had a stroke is almost twice as high among former smokers than among non-smokers. This is a condition that a Linear Classifier cannot represent, but a Decision Tree may easily learn. \n",
        "\n",
        "2. Similarly, for BMI we have seen that severely obese people are almost twice as likely to suffer a stroke than the underwight ones. Such conditions could we exploited in a prediction.\n",
        "\n",
        "The features residence_type and gender have shown minimal correlation with the label and even the individual feature analysis proved them to be almost independent of the stroke label. Thus, we may consider dropping these features entirely, if we face limitations in the computational resources avaiable for training our model and would need to simplify the model somehow. \n",
        "\n",
        "**Correlations between the features**\n",
        "\n",
        "Additionaly, we can observe some correlations between the features: work type, age and ever_married seem significantly correlated between each other, and some correlation with BMI can also be observed. \n",
        "\n",
        "While we could consider performing a dimensionality reduction to drop some of these features, assuming that using only one of them would aready offer enough information, in practice we should try to understand what happens under the hood, why these variables are correlated.\n",
        "\n",
        "If we check the 'Individual Feature Analysis' section again, we can easily see that work_type includes a separate category for children, and also, children can never be married. Thus, all the children are likely to have a similar age and the same work_type and marital status, which is already enough to produce some level of correlation, but is not significant when it comes to adults (it is true though, that older adults are even more likely to have been married at least once in their lifetime). In fact, we would expect the model to treat children separately (intuitively, children rarely have strokes, unless they have another illness), and consider the maritas status and work type for adults only."
      ],
      "metadata": {
        "id": "ROxSuaxYkpQw"
      }
    },
    {
      "cell_type": "markdown",
      "source": [
        "#### A deeper dive into relevant correlations"
      ],
      "metadata": {
        "id": "HWCGVJ_EkpQw"
      }
    },
    {
      "cell_type": "markdown",
      "source": [
        "##### Scatter-matrix "
      ],
      "metadata": {
        "id": "6YU7oHK4kpQw"
      }
    },
    {
      "cell_type": "markdown",
      "source": [
        "Let's see the corelations that we have in more detail using a scatter matrix."
      ],
      "metadata": {
        "id": "8acEkK6JkpQx"
      }
    },
    {
      "cell_type": "code",
      "source": [
        "attributes = [\"age\", \"hypertension\", \"heart_disease\", \"bmi\", \"avg_glucose_level\"]\n",
        "scatter_matrix(stroke_df[attributes], figsize=(15,10))\n",
        "plt.show()"
      ],
      "metadata": {
        "id": "X9xt8YPrkpQx"
      },
      "execution_count": null,
      "outputs": []
    },
    {
      "cell_type": "markdown",
      "source": [
        "The above plot shows all the possible corellations between the selected attributes for analysis. Let's take the most important scatter plots and discuss them in more detail."
      ],
      "metadata": {
        "id": "W1_o8z5ckpQx"
      }
    },
    {
      "cell_type": "code",
      "source": [
        "def plot_scatter_stroke(hasstroke_df, nostroke_df, var1_name, var2_name):\n",
        "    plt.scatter(hasstroke_df[var1_name], hasstroke_df[var2_name], c=\"r\", label='stroke')\n",
        "    plt.scatter(nostroke_df[var1_name], nostroke_df[var2_name], c=\"g\", alpha=0.1, label = 'no stroke')\n",
        "    plt.xlabel(var1_name)\n",
        "    plt.ylabel(var2_name)\n",
        "    plt.legend()"
      ],
      "metadata": {
        "id": "b1Ph82PyNQCc"
      },
      "execution_count": null,
      "outputs": []
    },
    {
      "cell_type": "code",
      "source": [
        "hasstroke_df = stroke_df[stroke_df.stroke == 1]\n",
        "nostroke_df = stroke_df[stroke_df.stroke == 0]"
      ],
      "metadata": {
        "id": "jBnMtMvcMezb"
      },
      "execution_count": null,
      "outputs": []
    },
    {
      "cell_type": "markdown",
      "source": [
        "###### Age and avg_glucose_level"
      ],
      "metadata": {
        "id": "XiALGn0zIKQ1"
      }
    },
    {
      "cell_type": "code",
      "source": [
        "plot_scatter_stroke(hasstroke_df, nostroke_df, \"age\", \"avg_glucose_level\")"
      ],
      "metadata": {
        "id": "gPTZIVlckpQx"
      },
      "execution_count": null,
      "outputs": []
    },
    {
      "cell_type": "markdown",
      "source": [
        "The above plot shows the corellation between age, average glucose level and stroke. We have seen at data visualization that average glucose level plot has two local maximum points (one between the values [75 - 120] and another onee between [190 - 250]). But it seems that from the above plot most people having a higher glucose level (190 - 250) are elderly. Those high glucose levels might indicate diabetes, and diabetes (especially type 2 diabetes) is more common for elderly people.\n",
        "This plot also shows how stroke is more common for elderly people (above 40 years old), and that those having an age less than 40 are safe even if they have a high average glucose level."
      ],
      "metadata": {
        "id": "eEDG6-LHkpQx"
      }
    },
    {
      "cell_type": "markdown",
      "source": [
        "###### BMI and avg_glucose_level"
      ],
      "metadata": {
        "id": "WYPycqtIINTV"
      }
    },
    {
      "cell_type": "code",
      "source": [
        "plot_scatter_stroke(hasstroke_df, nostroke_df, \"bmi\", \"avg_glucose_level\")"
      ],
      "metadata": {
        "id": "sugZFuRQkpQx"
      },
      "execution_count": null,
      "outputs": []
    },
    {
      "cell_type": "markdown",
      "source": [
        "The above plot might indicate that an important part of people having a higher glucose level, that might have diabetes, tend to have a bmi of around 30, which is overweight to moderate obesity. We don't really have a high average glucose level for people that are underweight or have a normal bmi. In this plot stroke doesnt seem to have a very strong correlation with neither the bmi or the average glucose level."
      ],
      "metadata": {
        "id": "ifWKt7UekpQx"
      }
    },
    {
      "cell_type": "markdown",
      "source": [
        "###### Age and BMI"
      ],
      "metadata": {
        "id": "kpCayC1BIoSh"
      }
    },
    {
      "cell_type": "code",
      "source": [
        "plot_scatter_stroke(hasstroke_df, nostroke_df, \"age\", \"bmi\")"
      ],
      "metadata": {
        "id": "xabG-ZCUkpQx"
      },
      "execution_count": null,
      "outputs": []
    },
    {
      "cell_type": "markdown",
      "source": [
        "Another correlation that we knew from the beggining, bmi is corellated with age. We can see on the above plot that children have a lower bmi, and that bmi grows as we get older. Interestingly, we dont have strokes at all happening for a bmi higher than 30 and age less then 40, meaning that even if some young people suffer from obesity even a very severe one, they aren't at a high risk for having a stroke."
      ],
      "metadata": {
        "id": "APMfLAsnkpQx"
      }
    },
    {
      "cell_type": "markdown",
      "source": [
        "##### Other relations between features "
      ],
      "metadata": {
        "id": "M5HaFYaNkpQy"
      }
    },
    {
      "cell_type": "markdown",
      "source": [
        "###### Work Type and Marital Status"
      ],
      "metadata": {
        "id": "2Q-hMfSUJZXO"
      }
    },
    {
      "cell_type": "code",
      "source": [
        "sns.catplot(x='work_type', hue=\"ever_married\", kind=\"count\", data=stroke_df, height=4, \n",
        "    aspect=2)\n",
        "plt.title(\"Work type Distribution by Ever Married Status\")\n",
        "plt.show()"
      ],
      "metadata": {
        "id": "NGa7PlF_kpQw"
      },
      "execution_count": null,
      "outputs": []
    },
    {
      "cell_type": "markdown",
      "source": [
        "From the above plot, we can say that usually if you have a job chances are that you are married. \n",
        "\n",
        "There might be a correlation between worktype, and being married. Self-employed people are more likely to be married than those working in the private sector, according to some studies. \n",
        "\n",
        "But, the most important factor in the correlation seems to come from the fact that chidren (those that are not working) are not married."
      ],
      "metadata": {
        "id": "7dq-QTenkpQw"
      }
    },
    {
      "cell_type": "markdown",
      "source": [
        "###### Age and Marital Status"
      ],
      "metadata": {
        "id": "_-sXtTBoJnZE"
      }
    },
    {
      "cell_type": "code",
      "source": [
        "sns.histplot(data=stroke_df, x=\"age\", hue=\"ever_married\")\n",
        "plt.title(\"Age Distribution by Marital Status\")"
      ],
      "metadata": {
        "id": "HPZqeMiKkpQw"
      },
      "execution_count": null,
      "outputs": []
    },
    {
      "cell_type": "markdown",
      "source": [
        "This plot confirms our previous assumption that the correlation betwen age and marital status is caused by children not being married."
      ],
      "metadata": {
        "id": "wDl7yYWnJ3L1"
      }
    },
    {
      "cell_type": "markdown",
      "source": [
        "###### Age, Gender and Stroke"
      ],
      "metadata": {
        "id": "QZiaLkmuJfda"
      }
    },
    {
      "cell_type": "code",
      "source": [
        "fig, axes = plt.subplots(1, 2, figsize=(15,5), sharey=True)\n",
        "female_only_df = stroke_df.loc[stroke_df['gender']=='Female']\n",
        "male_only_df = stroke_df.loc[stroke_df['gender']=='Male']\n",
        "subplots_for_continuous_variable_stroke_ratio(female_only_df, \"age\", 20, axes[0], \"The ratio of female having had a stroke,\\ncategorized by their Age\")\n",
        "subplots_for_continuous_variable_stroke_ratio(male_only_df, \"age\", 20, axes[1], \"The ratio of male having had a stroke,\\ncategorized by their Age\")\n"
      ],
      "metadata": {
        "id": "9bpRElehkpQy"
      },
      "execution_count": null,
      "outputs": []
    },
    {
      "cell_type": "markdown",
      "source": [
        "Women seem to start earlier than men to be predisposed for stroke, that is around 35 years old, compared to 42 years old. But overall, men seem to have a higher predisposition to having a stroke."
      ],
      "metadata": {
        "id": "S7cU2CXYkpQy"
      }
    },
    {
      "cell_type": "markdown",
      "source": [
        "###### Work Type and BMI"
      ],
      "metadata": {
        "id": "JukKDP5kQ3D9"
      }
    },
    {
      "cell_type": "code",
      "source": [
        "sns.boxplot(x=\"bmi\", y=\"work_type\", data=stroke_df, whis=np.inf)\n",
        "sns.stripplot(x=\"bmi\", y=\"work_type\", hue=\"stroke\", data=stroke_df)"
      ],
      "metadata": {
        "id": "BTOBjvHaQ-aH"
      },
      "execution_count": null,
      "outputs": []
    },
    {
      "cell_type": "markdown",
      "source": [
        "This plot shows that children and people who have never worked have a significanty lower median BMI, but this may be simply caused by the fact that they are younger.\n",
        "\n",
        "Moreover, we can observe that range of the BMIs in the 'private' work type category is larger, significantly more people seem to be both underweight and overweight. However, this may be explained with the fact that we have simply more entries in this category. In fact, the boxes show that the median, 1st and 3rd quartiles for the 'Private', 'Self-employed' and 'Govt_job' categories are really close to each other, thus, if one has a job, then the type of the job does not seem to be a good predictor of their BMI."
      ],
      "metadata": {
        "id": "YBeIikd5SHlZ"
      }
    },
    {
      "cell_type": "markdown",
      "source": [
        "## Data Cleaning"
      ],
      "metadata": {
        "id": "82-1WbvKRCqY"
      }
    },
    {
      "cell_type": "markdown",
      "source": [
        "### Finding the right cleaning approaches"
      ],
      "metadata": {
        "id": "-Hx7HbdXMyCM"
      }
    },
    {
      "cell_type": "markdown",
      "source": [
        "Copy the dataset, to avoid modifying the original one."
      ],
      "metadata": {
        "id": "o02OnHkVNclN"
      }
    },
    {
      "cell_type": "code",
      "source": [
        "stroke_df_copy = stroke_df.copy()"
      ],
      "metadata": {
        "id": "LQhtii3XNasW"
      },
      "execution_count": null,
      "outputs": []
    },
    {
      "cell_type": "markdown",
      "source": [
        "Let's check where we have NaN values first."
      ],
      "metadata": {
        "id": "m3HK_pBKE_iz"
      }
    },
    {
      "cell_type": "code",
      "source": [
        "stroke_df_copy.isnull().sum()"
      ],
      "metadata": {
        "id": "PPjxt3ej3KWE"
      },
      "execution_count": null,
      "outputs": []
    },
    {
      "cell_type": "markdown",
      "source": [
        "#### Helper functions"
      ],
      "metadata": {
        "id": "jOZrKSRxKYca"
      }
    },
    {
      "cell_type": "code",
      "source": [
        "def score_dataset(X_train, X_valid, y_train, y_valid):\n",
        "    model = RandomForestClassifier(n_estimators=10, random_state=0)\n",
        "    model.fit(X_train, y_train)\n",
        "    preds = model.predict(X_valid)\n",
        "    return mean_absolute_error(y_valid, preds)"
      ],
      "metadata": {
        "id": "YyIhcf2nQWYX"
      },
      "execution_count": null,
      "outputs": []
    },
    {
      "cell_type": "code",
      "source": [
        "def get_mean_based_on_age(df):\n",
        "  children_median = df[df['age'] < 18]['bmi'].median()\n",
        "  adults_median = df[df['age'] >= 18]['bmi'].median()\n",
        "  return children_median, adults_median"
      ],
      "metadata": {
        "id": "8N8fWi-8Ke5o"
      },
      "execution_count": null,
      "outputs": []
    },
    {
      "cell_type": "code",
      "source": [
        "def clean_bmi(df, children_median, adults_median):\n",
        "    df_plus = df.copy()\n",
        "    \n",
        "    df_plus['bmi'] = df_plus.apply(\n",
        "        lambda row: children_median if ((np.isnan(row['bmi'])) & (row['age'] < 18)) else row['bmi'],\n",
        "        axis=1\n",
        "    )\n",
        "    df_plus['bmi'] = df_plus.apply(\n",
        "        lambda row: adults_median if ((np.isnan(row['bmi'])) & (row['age'] >= 18)) else row['bmi'],\n",
        "        axis=1\n",
        "    )\n",
        "    return df_plus"
      ],
      "metadata": {
        "id": "JVXkEoxVKieF"
      },
      "execution_count": null,
      "outputs": []
    },
    {
      "cell_type": "markdown",
      "source": [
        "The NaN values appear only for bmi, but it is not the only feature in our dataset that has to be cleaned."
      ],
      "metadata": {
        "id": "2nQjAsfGFRE2"
      }
    },
    {
      "cell_type": "markdown",
      "source": [
        "\n",
        "#### Gender"
      ],
      "metadata": {
        "id": "6i7MgkyXCs3B"
      }
    },
    {
      "cell_type": "markdown",
      "source": [
        "We have seen earlier that we have a single value in our dataset that has 'Other' as a gender, so it is better to remove it as it is not enough data to make predictions based on other genders."
      ],
      "metadata": {
        "id": "bV0jJn5cC00k"
      }
    },
    {
      "cell_type": "code",
      "source": [
        "stroke_df_copy.drop(stroke_df_copy[stroke_df_copy['gender'] == 'Other'].index, inplace=True)\n",
        "stroke_df_copy.gender.value_counts()"
      ],
      "metadata": {
        "id": "Mbhx165nCsUW"
      },
      "execution_count": null,
      "outputs": []
    },
    {
      "cell_type": "markdown",
      "source": [
        "#### Work Type"
      ],
      "metadata": {
        "id": "rx2Ai6xSRJh9"
      }
    },
    {
      "cell_type": "markdown",
      "source": [
        "For work types, we have identified never_worked to have only 22 value counts. Some of the people that have never_worked as work type, are children. We should replace their work_status to children. To make things easier, we can directly delete the 5 rows for adults that have never_worked, and replace all remaing never_worked values with children."
      ],
      "metadata": {
        "id": "kEyd7WThFpfl"
      }
    },
    {
      "cell_type": "code",
      "source": [
        "stroke_df_copy['work_type'] = stroke_df_copy.apply(\n",
        "    lambda row: \"children\" if ((row['work_type'] == 'Never_worked') & (row['age'] < 18)) else row['work_type'],\n",
        "    axis=1\n",
        ")\n",
        "new_work_type_value_counts = stroke_df_copy.work_type.value_counts()\n",
        "new_work_type_value_counts"
      ],
      "metadata": {
        "id": "5Mc1NdpcI4Ro"
      },
      "execution_count": null,
      "outputs": []
    },
    {
      "cell_type": "code",
      "source": [
        "plt.figure(figsize=(10,6))\n",
        "plt.title(\"Work types value counts\")\n",
        "sns.barplot(x=new_work_type_value_counts.index, y=new_work_type_value_counts.array)\n",
        "plt.show()"
      ],
      "metadata": {
        "id": "nNuFnAHTO2Bm"
      },
      "execution_count": null,
      "outputs": []
    },
    {
      "cell_type": "markdown",
      "source": [
        "#### Body Mass Index"
      ],
      "metadata": {
        "id": "sB2eZUV_RL1v"
      }
    },
    {
      "cell_type": "markdown",
      "source": [
        "##### Handling Outliers"
      ],
      "metadata": {
        "id": "d_rkQTgmJqzJ"
      }
    },
    {
      "cell_type": "markdown",
      "source": [
        "As highlighted in the initial analysis of the BMI values, BMIs above 60 may be well considered outliers. Keeping them in our dataset increases the noise and may lead to overfitting. Thus, we should remove all BMI values > 60."
      ],
      "metadata": {
        "id": "427HjBXbKnJq"
      }
    },
    {
      "cell_type": "code",
      "source": [
        "plot_continuous_variable_distribution(stroke_df_copy, stroke_df_copy.bmi, \"bmi\", \"Initial Population BMI Distribution\")"
      ],
      "metadata": {
        "id": "MSBQT5GeKm3Z"
      },
      "execution_count": null,
      "outputs": []
    },
    {
      "cell_type": "code",
      "source": [
        "stroke_df_copy.drop(stroke_df_copy[stroke_df_copy['bmi'] > 60].index, inplace=True)\n",
        "plot_continuous_variable_distribution(stroke_df_copy, stroke_df_copy.bmi, \"bmi\", \"Population BMI Distribution, After Removing Outliers\")"
      ],
      "metadata": {
        "id": "tg50z7tQL9v_"
      },
      "execution_count": null,
      "outputs": []
    },
    {
      "cell_type": "markdown",
      "source": [
        "##### Handling Missing Values"
      ],
      "metadata": {
        "id": "PETHwBMwJv-W"
      }
    },
    {
      "cell_type": "markdown",
      "source": [
        "To replace the missing values there are several approaches:\n",
        "\n",
        "\n",
        "1.   Drop columns with missing value i.e. bmi\n",
        "2.   Use a SimpleImputer with a median strategy to replace them\n",
        "3.   Use a SimpleImputer with a median strategy to replace them, and add a separate feature to flag entries which had a missing bmi value\n",
        "4.   Replace with median based on age, as we expect a different bmi for adults than for children\n",
        "5.    USe a SimpleImputer with mean strategy\n",
        "\n",
        "To test which approach is better we will try to predict on the changed dataset for every approach, and measure which one give us a smaller mean abolute error.\n",
        "\n"
      ],
      "metadata": {
        "id": "LwvEzRsJLtaN"
      }
    },
    {
      "cell_type": "code",
      "source": [
        "bmi_stroke_df = stroke_df_copy.copy()\n",
        "y = bmi_stroke_df.stroke\n",
        "X = bmi_stroke_df.drop(['stroke', 'id'], axis=1)\n",
        "X.head()"
      ],
      "metadata": {
        "id": "_wVw0AZVQ-18"
      },
      "execution_count": null,
      "outputs": []
    },
    {
      "cell_type": "code",
      "source": [
        "X_train, X_valid, y_train, y_valid = train_test_split(X, y, test_size=.2, random_state=0)\n",
        "\n",
        "X_train.head()"
      ],
      "metadata": {
        "id": "upc9juNpRsCf"
      },
      "execution_count": null,
      "outputs": []
    },
    {
      "cell_type": "code",
      "source": [
        "# handling categorical variables\n",
        "\n",
        "# Get list of categorical variables\n",
        "s = (X_train.dtypes == 'object')\n",
        "object_cols = list(s[s].index)\n",
        "\n",
        "# apply one-hot encoder on them\n",
        "OH_encoder = OneHotEncoder(handle_unknown='ignore', sparse=False)\n",
        "\n",
        "OH_transformed_train = OH_encoder.fit_transform(X_train[object_cols])\n",
        "OH_transformed_valid = OH_encoder.transform(X_valid[object_cols])\n",
        "\n",
        "column_names = OH_encoder.get_feature_names_out(object_cols)\n",
        "\n",
        "OH_cols_train = pd.DataFrame(OH_transformed_train, columns=column_names)\n",
        "OH_cols_valid = pd.DataFrame(OH_transformed_valid, columns=column_names)\n",
        "\n",
        "# One-hot encoding removed index; put it back\n",
        "OH_cols_train.index = X_train.index\n",
        "OH_cols_valid.index = X_valid.index\n",
        "\n",
        "# Remove categorical columns (will replace with one-hot encoding)\n",
        "num_X_train = X_train.drop(object_cols, axis=1)\n",
        "num_X_valid = X_valid.drop(object_cols, axis=1)\n",
        "\n",
        "# Add one-hot encoded columns to numerical features\n",
        "X_train = pd.concat([num_X_train, OH_cols_train], axis=1)\n",
        "X_valid = pd.concat([num_X_valid, OH_cols_valid], axis=1)"
      ],
      "metadata": {
        "id": "fyDSz_OpHQPF"
      },
      "execution_count": null,
      "outputs": []
    },
    {
      "cell_type": "markdown",
      "source": [
        "###### Approach 1"
      ],
      "metadata": {
        "id": "W3AAflL7SHYW"
      }
    },
    {
      "cell_type": "markdown",
      "source": [
        "Drop bmi column as it has missing values."
      ],
      "metadata": {
        "id": "_vy6_5VGSS7q"
      }
    },
    {
      "cell_type": "code",
      "source": [
        "reduced_X_train = X_train.drop(['bmi'], axis=1)\n",
        "reduced_X_valid = X_valid.drop(['bmi'], axis=1)\n",
        "\n",
        "print(score_dataset(reduced_X_train, reduced_X_valid, y_train, y_valid))"
      ],
      "metadata": {
        "id": "w_z7oHYPSvff"
      },
      "execution_count": null,
      "outputs": []
    },
    {
      "cell_type": "markdown",
      "source": [
        "This is the mean absolute error that we got. Let's see if we can improve it."
      ],
      "metadata": {
        "id": "Kp0Tn6v3TBDt"
      }
    },
    {
      "cell_type": "markdown",
      "source": [
        "###### Approach 2"
      ],
      "metadata": {
        "id": "G6e2WSprTKgl"
      }
    },
    {
      "cell_type": "markdown",
      "source": [
        "We can replace the missing values with the median value, using a Simple Imputer."
      ],
      "metadata": {
        "id": "Na82aKAhTP5K"
      }
    },
    {
      "cell_type": "code",
      "source": [
        "simple_imputer = SimpleImputer(strategy='median')\n",
        "imputed_X_train = pd.DataFrame(simple_imputer.fit_transform(X_train))\n",
        "imputed_X_valid = pd.DataFrame(simple_imputer.transform(X_valid))\n",
        "\n",
        "#imputer deleted the column names so we have to add them back\n",
        "imputed_X_train.columns = X_train.columns\n",
        "imputed_X_valid.columns = X_valid.columns\n",
        "\n",
        "print(score_dataset(imputed_X_train, imputed_X_valid, y_train, y_valid))"
      ],
      "metadata": {
        "id": "RZSBuMpBTJpY"
      },
      "execution_count": null,
      "outputs": []
    },
    {
      "cell_type": "markdown",
      "source": [
        "The error is much smaller now. However, we could also try some alternatives to this."
      ],
      "metadata": {
        "id": "95hMArpXTxTf"
      }
    },
    {
      "cell_type": "markdown",
      "source": [
        "###### Approach 3"
      ],
      "metadata": {
        "id": "2g6anbWsnoAv"
      }
    },
    {
      "cell_type": "markdown",
      "source": [
        "Let's add a new column that will keep the record of whether or not the bmi was missing before we replaced it with the median."
      ],
      "metadata": {
        "id": "QshWlemI3nCu"
      }
    },
    {
      "cell_type": "code",
      "source": [
        "simple_imputer = SimpleImputer(strategy='median')\n",
        "\n",
        "X_train_plus = X_train.copy()\n",
        "X_valid_plus = X_valid.copy()\n",
        "\n",
        "X_train_plus['bmi_was_missing'] = X_train_plus['bmi'].isnull()\n",
        "X_valid_plus['bmi_was_missing'] = X_valid_plus['bmi'].isnull()\n",
        "\n",
        "imputed_X_train_plus = pd.DataFrame(simple_imputer.fit_transform(X_train_plus))\n",
        "imputed_X_valid_plus = pd.DataFrame(simple_imputer.transform(X_valid_plus))\n",
        "\n",
        "#imputer deleted the column names so we have to add them back\n",
        "imputed_X_train_plus.columns = X_train_plus.columns\n",
        "imputed_X_valid_plus.columns = X_valid_plus.columns\n",
        "\n",
        "print(score_dataset(imputed_X_train_plus, imputed_X_valid_plus, y_train, y_valid))"
      ],
      "metadata": {
        "id": "9w3y-1cNnkRa"
      },
      "execution_count": null,
      "outputs": []
    },
    {
      "cell_type": "markdown",
      "source": [
        "The error got bigger after this change. That might happen due to overfitting. The model is now considering the bmi_was_missing when its making the prediction, but that shouldn't be a clue to whether or not a person will have a stroke: it should only help to model to consider the bmi with a smaller weight if it was originally missing."
      ],
      "metadata": {
        "id": "v0LyPGD24VNy"
      }
    },
    {
      "cell_type": "markdown",
      "source": [
        "###### Approach 4"
      ],
      "metadata": {
        "id": "PMp9Nq47T4ef"
      }
    },
    {
      "cell_type": "markdown",
      "source": [
        "Another aproach would be to replace with median according to age, as the bmi for adults is different that the bmi for children. Thus adults will get a median for adults, and children will have a median for children."
      ],
      "metadata": {
        "id": "xqZ3psLZT9bO"
      }
    },
    {
      "cell_type": "code",
      "source": [
        "children_median, adults_median = get_mean_based_on_age(X_train)\n",
        "X_train_plus = clean_bmi(X_train, children_median, adults_median)\n",
        "X_valid_plus = clean_bmi(X_valid, children_median, adults_median)\n",
        "print(score_dataset(X_train_plus, X_valid_plus, y_train, y_valid))"
      ],
      "metadata": {
        "id": "f7togENcV5QY"
      },
      "execution_count": null,
      "outputs": []
    },
    {
      "cell_type": "markdown",
      "source": [
        "It seems that the mean absolute error is now the same we got in approach 2, so we should keep approach 2 as the final approach since it is easier to implement and integrate in our pipeline."
      ],
      "metadata": {
        "id": "pphBMARGX7Ei"
      }
    },
    {
      "cell_type": "markdown",
      "source": [
        "###### Approach 5"
      ],
      "metadata": {
        "id": "tFTcrwUAElQ0"
      }
    },
    {
      "cell_type": "code",
      "source": [
        "simple_imputer = SimpleImputer(strategy='mean')\n",
        "imputed_X_train = pd.DataFrame(simple_imputer.fit_transform(X_train))\n",
        "imputed_X_valid = pd.DataFrame(simple_imputer.transform(X_valid))\n",
        "\n",
        "#imputer deleted the column names so we have to add them back\n",
        "imputed_X_train.columns = X_train.columns\n",
        "imputed_X_valid.columns = X_valid.columns\n",
        "\n",
        "print(score_dataset(imputed_X_train, imputed_X_valid, y_train, y_valid))"
      ],
      "metadata": {
        "id": "tSHbQ_tVERAc"
      },
      "execution_count": null,
      "outputs": []
    },
    {
      "cell_type": "markdown",
      "source": [
        "While this MAE is close to the one obtained with the median-based strategy, it still seems that Approach 2 is the most beneficial one."
      ],
      "metadata": {
        "id": "FR5IiflBEs22"
      }
    },
    {
      "cell_type": "markdown",
      "source": [
        "##### Replacing the missing values"
      ],
      "metadata": {
        "id": "qrSCIe268GA2"
      }
    },
    {
      "cell_type": "code",
      "source": [
        "imputer = SimpleImputer(strategy='median', missing_values=np.nan)\n",
        "imputer = imputer.fit(stroke_df_copy[['bmi']])\n",
        "stroke_df_copy['bmi'] = imputer.transform(stroke_df_copy[['bmi']])\n",
        "stroke_df_copy.head()"
      ],
      "metadata": {
        "id": "cn4YpnwNYYJ8"
      },
      "execution_count": null,
      "outputs": []
    },
    {
      "cell_type": "code",
      "source": [
        "stroke_df_copy.isnull().sum()"
      ],
      "metadata": {
        "id": "44bYz4U4YsMn"
      },
      "execution_count": null,
      "outputs": []
    },
    {
      "cell_type": "markdown",
      "source": [
        "Indeed, we don't have null values anymore."
      ],
      "metadata": {
        "id": "Dnhd-lGeg389"
      }
    },
    {
      "cell_type": "code",
      "source": [
        "plot_continuous_variable_distribution(stroke_df_copy, stroke_df_copy.bmi, \"bmi\", \"Population BMI Distribution\")"
      ],
      "metadata": {
        "id": "pPoA9b-3_ecp"
      },
      "execution_count": null,
      "outputs": []
    },
    {
      "cell_type": "markdown",
      "source": [
        "Now we have more people with a bmi closer to 30, falling in the overweight category."
      ],
      "metadata": {
        "id": "TKVWGF7z_6Yl"
      }
    },
    {
      "cell_type": "code",
      "source": [
        "new_stroke_df_with_bmi_categ = stroke_df_copy.copy()\n",
        "new_stroke_df_with_bmi_categ.bmi = pd.cut(new_stroke_df_with_bmi_categ.bmi,\n",
        "                                      bins=[0, 18.5, 25, 30, 35, 40, 100],\n",
        "                                      labels=bmi_categ_list)\n",
        "\n",
        "bmi_categ_value_counts = new_stroke_df_with_bmi_categ.bmi.value_counts()\n",
        "\n",
        "plt.figure(figsize=(10,6))\n",
        "plt.title(\"Bmi by cathegory distribution among the population\")\n",
        "sns.barplot(x=bmi_categ_value_counts.index, y=bmi_categ_value_counts.array, order=bmi_categ_list)\n",
        "plt.show()"
      ],
      "metadata": {
        "id": "P145LUebaofy"
      },
      "execution_count": null,
      "outputs": []
    },
    {
      "cell_type": "markdown",
      "source": [
        "Also the ratio of people that had a stroke has increased for the overweight category, since some people that had a missing bmi also had a stroke."
      ],
      "metadata": {
        "id": "2wPsBX9MhI-w"
      }
    },
    {
      "cell_type": "code",
      "source": [
        "plot_categorical_variable_stroke_ratio(new_stroke_df_with_bmi_categ, \"bmi\", \n",
        "                                       \"The ratio of people having had a stroke,\\ncategorized by bmi status\",3)"
      ],
      "metadata": {
        "id": "GouNPr0ba76U"
      },
      "execution_count": null,
      "outputs": []
    },
    {
      "cell_type": "markdown",
      "source": [
        "#### Smoking Status"
      ],
      "metadata": {
        "id": "zkrwzoc4ROKu"
      }
    },
    {
      "cell_type": "markdown",
      "source": [
        "###### The smoking status of children and teenagers\n",
        "\n",
        "\n"
      ],
      "metadata": {
        "id": "b9Q2VyJJN0b2"
      }
    },
    {
      "cell_type": "markdown",
      "source": [
        "Other studies have shown that the earliest age when children start smoking is ~12 years old.\n",
        "\n",
        "Resources:\n",
        "\n",
        "\n",
        "*   [study on researchgate](https://www.researchgate.net/figure/Smoking-prevalence-by-gender-and-age-among-12-to-17-year-old-adolescents-in-Germany_fig2_251235344)\n",
        "*   [CDC study](https://www.cdc.gov/tobacco/data_statistics/fact_sheets/youth_data/tobacco_use/index.htm)\n",
        "*   [statcan.gc.ca](https://www150.statcan.gc.ca/n1/pub/82-625-x/2020001/article/00003-eng.htm)\n",
        "\n"
      ],
      "metadata": {
        "id": "MiQKg6v2R6ql"
      }
    },
    {
      "cell_type": "code",
      "source": [
        "children_df = stroke_df_copy[stroke_df_copy.age < 18].copy()\n",
        "children_df.age = children_df.age.round()\n",
        "children_age_smoking_categories = children_df.groupby(['age', 'smoking_status'])\n",
        "children_age_smoking_categories_df = children_age_smoking_categories.size().reset_index(name='counts')\n",
        "children_age_smoking_categories_df"
      ],
      "metadata": {
        "id": "2bACta3nSmgK"
      },
      "execution_count": null,
      "outputs": []
    },
    {
      "cell_type": "code",
      "source": [
        "fig, ax = plt.subplots(figsize=def_fig_size)\n",
        "sns.histplot(data=children_df, x=\"age\", hue=\"smoking_status\", ax=ax, multiple=\"stack\")\n",
        "plt.title(\"The smoking status of underage people, by age group\", size = def_title_size)"
      ],
      "metadata": {
        "id": "n-hNsgjYVbef"
      },
      "execution_count": null,
      "outputs": []
    },
    {
      "cell_type": "markdown",
      "source": [
        "The above table summarizes the number of childrean in each age + smoking_status group.\n",
        "\n",
        "Observations:\n",
        "\n",
        "\n",
        "*   all children below the age of 10 are reported with the status 'Unknown'. It seems safe to assume that these children in fact never smoked, so we cna replace their status with 'never smoked'\n",
        "*   the youngest smokers that appear are 10 years old\n"
      ],
      "metadata": {
        "id": "D4ccrbeCUqR6"
      }
    },
    {
      "cell_type": "code",
      "source": [
        "# replace the smoking status of <10 years old children with 'never smoked'\n",
        "stroke_df_copy.smoking_status = np.where(np.logical_and(stroke_df_copy.age < 10, stroke_df_copy.smoking_status == 'Unknown'), \"never smoked\", stroke_df_copy.smoking_status)"
      ],
      "metadata": {
        "id": "rPVF5C124zCf"
      },
      "execution_count": null,
      "outputs": []
    },
    {
      "cell_type": "code",
      "source": [
        "# New plots after the replacement\n",
        "smoking_value_counts = stroke_df_copy.smoking_status.value_counts()\n",
        "smoking_value_counts"
      ],
      "metadata": {
        "id": "oz8v_cqr5LIu"
      },
      "execution_count": null,
      "outputs": []
    },
    {
      "cell_type": "code",
      "source": [
        "explode = [0.05] * smoking_value_counts.count()\n",
        "plt.pie(smoking_value_counts.array, labels=smoking_value_counts.index, autopct = '%0.2f%%', explode = explode)\n",
        "plt.title(\"The Ratio of Population with different Smoking Status\")\n",
        "plt.show()\n",
        "plot_categorical_variable_stroke_ratio(stroke_df_copy, \"smoking_status\", \"The ratio of peope having had a stroke,\\ncategorized by Smoking Status\", 3)"
      ],
      "metadata": {
        "id": "a-Ryj1G25fJ-"
      },
      "execution_count": null,
      "outputs": []
    },
    {
      "cell_type": "markdown",
      "source": [
        "###### Handling 'Unknown' values"
      ],
      "metadata": {
        "id": "vIiwRb7mYMks"
      }
    },
    {
      "cell_type": "markdown",
      "source": [
        "Still, **21.09% of the entries have their smoking_status 'Unknown'**. We considered the following **options for replacing them**:\n",
        "\n",
        "\n",
        "1.   replace with the most frequent value, i.e. 'never smoked'\n",
        "2.   replace with a random value (possibly with the previous/next known value in the dataframe)\n",
        "3.   build a model to predict the smoking_status of the entries with missing data\n",
        "\n",
        "It is clear, that option 1 and 2 are \"blind replacements\". We discarded the idea of applying any of these to options because:\n",
        "\n",
        "\n",
        "*   based on the above plot, showing the ratio of people who suffered a stroke in each smoking_status category, it seems like the smoking_status has a significant impact in the tendency to have a stroke\n",
        "*   the entries with 'Unknown' smoking status represent >20%, a huge portion of the data, \n",
        "\n",
        "so replacing the 'Unknown' values with incorrect values may introduce a significant error in our future predictions.\n",
        "\n",
        "So, let's try to build a cost-efficient, simple RandomForestClassifier for option 3 and see how well it works. If it works with a high f1 score, we can consider replacing the 'Unknwon' values with the predictions of the DecisionTreeClassifier. Otherwise, we should just work with 'Unknown' as a separate category.\n",
        "\n",
        "\n"
      ],
      "metadata": {
        "id": "BTNeS8CeM9qa"
      }
    },
    {
      "cell_type": "code",
      "source": [
        "smoke_df = stroke_df_copy.copy()\n",
        "smoke_df = smoke_df[smoke_df.smoking_status != 'Unknown']\n",
        "X = smoke_df[smoke_df.columns.drop(['smoking_status', 'stroke', 'id'])].copy()\n",
        "y = smoke_df.smoking_status\n",
        "smoke_df.head()"
      ],
      "metadata": {
        "id": "8YKxBrs_Zvau"
      },
      "execution_count": null,
      "outputs": []
    },
    {
      "cell_type": "code",
      "source": [
        "X_train, X_valid, y_train, y_valid = train_test_split(X, y, test_size = 0.25, random_state = 0)"
      ],
      "metadata": {
        "id": "5-a44_yMbEAY"
      },
      "execution_count": null,
      "outputs": []
    },
    {
      "cell_type": "code",
      "source": [
        "# handling categorical variables\n",
        "\n",
        "# Get list of categorical variables\n",
        "s = (X_train.dtypes == 'object')\n",
        "object_cols = list(s[s].index)\n",
        "\n",
        "# apply one-hot encoder on them\n",
        "OH_encoder = OneHotEncoder(handle_unknown='ignore', sparse=False)\n",
        "\n",
        "OH_transformed_train = OH_encoder.fit_transform(X_train[object_cols])\n",
        "OH_transformed_valid = OH_encoder.transform(X_valid[object_cols])\n",
        "\n",
        "column_names = OH_encoder.get_feature_names_out(object_cols)\n",
        "\n",
        "OH_cols_train = pd.DataFrame(OH_transformed_train, columns=column_names)\n",
        "OH_cols_valid = pd.DataFrame(OH_transformed_valid, columns=column_names)\n",
        "\n",
        "# One-hot encoding removed index; put it back\n",
        "OH_cols_train.index = X_train.index\n",
        "OH_cols_valid.index = X_valid.index\n",
        "\n",
        "# Remove categorical columns (will replace with one-hot encoding)\n",
        "num_X_train = X_train.drop(object_cols, axis=1)\n",
        "num_X_valid = X_valid.drop(object_cols, axis=1)\n",
        "\n",
        "# Add one-hot encoded columns to numerical features\n",
        "X_train = pd.concat([num_X_train, OH_cols_train], axis=1)\n",
        "X_valid = pd.concat([num_X_valid, OH_cols_valid], axis=1)"
      ],
      "metadata": {
        "id": "ck-EgpaSCMs6"
      },
      "execution_count": null,
      "outputs": []
    },
    {
      "cell_type": "code",
      "source": [
        "X_train"
      ],
      "metadata": {
        "id": "-jhNQrPYd5fu"
      },
      "execution_count": null,
      "outputs": []
    },
    {
      "cell_type": "code",
      "source": [
        "for complexity in range(5,156,30):\n",
        "  print(\"-------------------------------------------- Tree with max leav nodes = \", complexity)\n",
        "  dt_classifier = RandomForestClassifier(criterion = \"entropy\", max_leaf_nodes = complexity)\n",
        "  dt_classifier.fit(X_train, y_train)\n",
        "  print(\"Accuracy: \", dt_classifier.score(X_valid, y_valid))\n",
        "  y_valid_pred = dt_classifier.predict(X_valid)\n",
        "  print(classification_report(y_valid, y_valid_pred))"
      ],
      "metadata": {
        "id": "uXskDePKbP56"
      },
      "execution_count": null,
      "outputs": []
    },
    {
      "cell_type": "markdown",
      "source": [
        "As we can see, the weighted F1-score barely reaches 0.5, so a simple RandomForestClassifier is not enough to accurately predict the smoking status of people. \n",
        "\n",
        "This is not a surprising finding actually: other than age, no feature allows us to make an assumption about the lifestyle of each person in the dataset, and we have already exploited the fact that small children are most probably non-smokers.\n",
        "\n",
        "This makes it useless to try more complex and computationally more expensive ML models for predicting the smoking status of people."
      ],
      "metadata": {
        "id": "sp6IvYfhiMf-"
      }
    },
    {
      "cell_type": "markdown",
      "source": [
        "**As a final conclusion, the 'Unknown' values will be treated as a 4. smoking_status category in the analysis.**"
      ],
      "metadata": {
        "id": "4crOjdSginmc"
      }
    },
    {
      "cell_type": "markdown",
      "source": [
        "#### ID"
      ],
      "metadata": {
        "id": "r9QoQYgDciEZ"
      }
    },
    {
      "cell_type": "markdown",
      "source": [
        "Last but not least, we should drop the id column as we dont need it."
      ],
      "metadata": {
        "id": "MPT6RSh-crjU"
      }
    },
    {
      "cell_type": "code",
      "source": [
        "stroke_df_copy.drop(['id'], axis=1, inplace=True)\n",
        "stroke_df_copy.head()"
      ],
      "metadata": {
        "id": "j6urTQvNcx7p"
      },
      "execution_count": null,
      "outputs": []
    },
    {
      "cell_type": "markdown",
      "source": [
        "This is the final dataset that we achived after performing data cleaning."
      ],
      "metadata": {
        "id": "vfstDWs5h9eO"
      }
    },
    {
      "cell_type": "markdown",
      "source": [
        "### Building a Preprocessing Pipeline"
      ],
      "metadata": {
        "id": "NZVxjhivNHmZ"
      }
    },
    {
      "cell_type": "markdown",
      "source": [
        "The pipeline performs cleaning based on the approaches found above, and, additionaly, encodes the categorical variables."
      ],
      "metadata": {
        "id": "wKZ4rfp6NN7j"
      }
    },
    {
      "cell_type": "markdown",
      "source": [
        "#### Dropping outliers"
      ],
      "metadata": {
        "id": "2BwUps-eZM6r"
      }
    },
    {
      "cell_type": "markdown",
      "source": [
        "Dropping rows cannot be integrated in the ColumnTranformers, so we'll implement this in a separate function."
      ],
      "metadata": {
        "id": "VLPvY3DpUlr1"
      }
    },
    {
      "cell_type": "code",
      "source": [
        "class OutlierDropper(BaseEstimator, TransformerMixin):\n",
        "    def __init__(self):\n",
        "        super().__init__()\n",
        "\n",
        "    def fit(self, df, y=None):\n",
        "        return self\n",
        "\n",
        "    def transform(self, df, y=None):\n",
        "        self.__drop_unknown_genders(df)\n",
        "        self.__drop_bmi_outliers(df)\n",
        "\n",
        "        return df\n",
        "    \n",
        "    def __drop_unknown_genders(self, df):\n",
        "        df.drop(df[df['gender'] == 'Other'].index, inplace=True)\n",
        "\n",
        "    def __drop_bmi_outliers(self, df):\n",
        "        df.drop(df[df['bmi'] > 60].index, inplace=True)"
      ],
      "metadata": {
        "id": "ixM071n3oR-p"
      },
      "execution_count": null,
      "outputs": []
    },
    {
      "cell_type": "markdown",
      "source": [
        "#### Categorical variables"
      ],
      "metadata": {
        "id": "MYlfijvEYVnx"
      }
    },
    {
      "cell_type": "code",
      "source": [
        "bin_categorical_cols = ['ever_married', 'residence_type', 'gender']\n",
        "larger_categorical_cols = [cname for cname in stroke_df.columns if stroke_df[cname].dtype == \"object\" and cname not in bin_categorical_cols]\n",
        "larger_categorical_cols"
      ],
      "metadata": {
        "id": "iQsLXhxsXKDl"
      },
      "execution_count": null,
      "outputs": []
    },
    {
      "cell_type": "markdown",
      "source": [
        "Based on the values of these variables, we can see that 'gender', 'ever_married' and 'residence_type' have just two possible values, so it's safe to assume an ordering between them, and assign 1 to one of the values and 0 to the other. This can be easily done using an OrdinalEncoder.\n",
        "\n",
        "The other variables, 'work_type' and 'smoking_status' have multiple possible values with no ordering between them so we should apply a OneHotEncoder instead."
      ],
      "metadata": {
        "id": "SgSMWfWoYcvh"
      }
    },
    {
      "cell_type": "code",
      "source": [
        "cat_var_transformers = [\n",
        "    ('multi_cat', OneHotEncoder(), larger_categorical_cols),\n",
        "    ('bin_cat', OrdinalEncoder(), bin_categorical_cols),\n",
        "]"
      ],
      "metadata": {
        "id": "Q1nz4NXZY5-_"
      },
      "execution_count": null,
      "outputs": []
    },
    {
      "cell_type": "markdown",
      "source": [
        "#### Numerical Variables"
      ],
      "metadata": {
        "id": "ci9axTZHD-9d"
      }
    },
    {
      "cell_type": "markdown",
      "source": [
        "We only expect to have missing values in the BMI feature. As discussed above, a SimpleImputer with a median strategy is the most promising for BMI values, and for simplicity, we'll apply the same imputer for the other numerical columns as well."
      ],
      "metadata": {
        "id": "jlN60hipEDdr"
      }
    },
    {
      "cell_type": "code",
      "source": [
        "# Select numerical columns\n",
        "numerical_cols = [cname for cname in stroke_df.columns if stroke_df[cname].dtype in ['int64', 'float64']]\n",
        "numerical_cols.remove('stroke')\n",
        "numerical_cols"
      ],
      "metadata": {
        "id": "KLrmdJGjFXl8"
      },
      "execution_count": null,
      "outputs": []
    },
    {
      "cell_type": "code",
      "source": [
        "num_var_transformers = [\n",
        "    ('num_var', SimpleImputer(strategy='median'), numerical_cols)\n",
        "]"
      ],
      "metadata": {
        "id": "Ndcz82RZFjdw"
      },
      "execution_count": null,
      "outputs": []
    },
    {
      "cell_type": "markdown",
      "source": [
        "#### ColumnTransformer integrating categoric and numeric variables"
      ],
      "metadata": {
        "id": "wtyQyf7jHbew"
      }
    },
    {
      "cell_type": "code",
      "source": [
        "column_transformer = ColumnTransformer(\n",
        "    transformers = cat_var_transformers + num_var_transformers,\n",
        "    remainder = 'passthrough'\n",
        ")"
      ],
      "metadata": {
        "id": "6D30dyOJHavo"
      },
      "execution_count": null,
      "outputs": []
    },
    {
      "cell_type": "markdown",
      "source": [
        "#### Resetting Feature Names of dataframe after ColumnTransformer"
      ],
      "metadata": {
        "id": "X543YGDLHnbQ"
      }
    },
    {
      "cell_type": "code",
      "source": [
        "class ColumnTransformerFeatureNameResetter(BaseEstimator, TransformerMixin):\n",
        "    def __init__(self, renamer_column_transformer, init_df):\n",
        "        super().__init__()\n",
        "        self.__renamer_column_transformer = renamer_column_transformer\n",
        "        self.__init_df = init_df\n",
        "        self.__columns = None\n",
        "\n",
        "    def fit(self, df, y=None):\n",
        "        return self\n",
        "\n",
        "    def transform(self, df, y=None):\n",
        "\n",
        "        df = pd.DataFrame(df)\n",
        "\n",
        "        df.columns = self.__get_columns_from_transformer(self.__renamer_column_transformer, self.__init_df.columns)\n",
        "\n",
        "        self.__columns = df.columns\n",
        "\n",
        "        df[df.columns] = df[df.columns].apply(pd.to_numeric, errors='coerce')\n",
        "\n",
        "        return df\n",
        "\n",
        "    def get_columns(self):\n",
        "        return self.__columns\n",
        "\n",
        "    def __get_columns_from_transformer(self, column_transformer, input_colums):    \n",
        "        \"\"\"\n",
        "        source: https://github.com/scikit-learn/scikit-learn/issues/12525#issuecomment-744424900\n",
        "        \"\"\"\n",
        "        col_name = []\n",
        "\n",
        "        for transformer_in_columns in column_transformer.transformers_[:-1]: #the last transformer is ColumnTransformer's 'remainder'\n",
        "            raw_col_name = transformer_in_columns[2]\n",
        "            if isinstance(transformer_in_columns[1],Pipeline): \n",
        "                transformer = transformer_in_columns[1].steps[-1][1]\n",
        "            else:\n",
        "                transformer = transformer_in_columns[1]\n",
        "            try:\n",
        "                names = transformer.get_feature_names_out(raw_col_name)\n",
        "            except AttributeError: # if no 'get_feature_names' function, use raw column name\n",
        "                names = raw_col_name\n",
        "            if isinstance(names,np.ndarray): # eg.\n",
        "                col_name += names.tolist()\n",
        "            elif isinstance(names,list):\n",
        "                col_name += names    \n",
        "            elif isinstance(names,str):\n",
        "                col_name.append(names)\n",
        "\n",
        "        [_, _, reminder_columns] = column_transformer.transformers_[-1]\n",
        "\n",
        "        for col_idx in reminder_columns:\n",
        "            col_name.append(input_colums[col_idx])\n",
        "\n",
        "        return col_name"
      ],
      "metadata": {
        "id": "uSZ6aE6lphK6"
      },
      "execution_count": null,
      "outputs": []
    },
    {
      "cell_type": "markdown",
      "source": [
        "#### Custom Transformers"
      ],
      "metadata": {
        "id": "bVvxtNDHR2S6"
      }
    },
    {
      "cell_type": "code",
      "source": [
        "class WorkTypeTransformer(BaseEstimator, TransformerMixin):\n",
        "    def __init__(self):\n",
        "        super().__init__()\n",
        "\n",
        "    def fit(self, df, y=None):\n",
        "        return self\n",
        "\n",
        "    def transform(self, df, y=None):\n",
        "        df['work_type'] = df.apply(\n",
        "            lambda row: \"children\" if ((row['work_type'] == 'Never_worked') & (row['age'] < 18)) else row['work_type'],\n",
        "            axis=1\n",
        "        )\n",
        "\n",
        "        return df"
      ],
      "metadata": {
        "id": "HT07YXT7YK8o"
      },
      "execution_count": null,
      "outputs": []
    },
    {
      "cell_type": "code",
      "source": [
        "class SmokingStatusTransformer(BaseEstimator, TransformerMixin):\n",
        "    def __init__(self):\n",
        "        super().__init__()\n",
        "\n",
        "    def fit(self, df, y=None):\n",
        "        return self\n",
        "\n",
        "    def transform(self, df, y=None):\n",
        "        df.smoking_status = np.where(np.logical_and(df.age < 10, df.smoking_status == 'Unknown'), \"never smoked\", df.smoking_status)\n",
        "\n",
        "        return df"
      ],
      "metadata": {
        "id": "Vfpe3T2EnWua"
      },
      "execution_count": null,
      "outputs": []
    },
    {
      "cell_type": "markdown",
      "source": [
        "#### Scaling Values"
      ],
      "metadata": {
        "id": "hUOBVqB2Ln_i"
      }
    },
    {
      "cell_type": "markdown",
      "source": [
        "It is known that most ML algorithms perform better if the features have similar scales, as it is the case in out dataframe: for example, BMI values have the range [0, 60], whereas avg_glucose_level values are in the interval [50, 270]. \n",
        "\n",
        "To overcome this issue, we should scale all the values. Since many of our variables do not follow a normal distribution but are rather skewed (see BMI - right skewed, or avg_glucose_level - doubles peaked), and we have many binary-values nominal variables as well marked with 0 or 1, we should use the MinMaxScaler instead of the StandardScaler."
      ],
      "metadata": {
        "id": "1AWCGGoxLsun"
      }
    },
    {
      "cell_type": "code",
      "source": [
        "scaler = MinMaxScaler()"
      ],
      "metadata": {
        "id": "-P-bjPTXNZGn"
      },
      "execution_count": null,
      "outputs": []
    },
    {
      "cell_type": "code",
      "source": [
        "class ScalerFeatureNameResetter(BaseEstimator, TransformerMixin):\n",
        "    def __init__(self, renamer_scaler, init_cols):\n",
        "        super().__init__()\n",
        "        self.__renamer_scaler = renamer_scaler\n",
        "        self.__init_cols = init_cols\n",
        "\n",
        "    def fit(self, df, y=None):\n",
        "        return self\n",
        "\n",
        "    def transform(self, df, y=None):\n",
        "\n",
        "        df = pd.DataFrame(df)\n",
        "\n",
        "        df.columns = self.__renamer_scaler.get_feature_names_out(self.__init_cols)\n",
        "        return df"
      ],
      "metadata": {
        "id": "q0m0I6MxNxr8"
      },
      "execution_count": null,
      "outputs": []
    },
    {
      "cell_type": "markdown",
      "source": [
        "#### Integrating all steps in a pipeline"
      ],
      "metadata": {
        "id": "RDSv0JBfowvM"
      }
    },
    {
      "cell_type": "code",
      "source": [
        "column_transformer_name_resetter = ColumnTransformerFeatureNameResetter(column_transformer, stroke_df)"
      ],
      "metadata": {
        "id": "cb9GYaVFPOoU"
      },
      "execution_count": null,
      "outputs": []
    },
    {
      "cell_type": "code",
      "source": [
        "preprocesser_pipeline = Pipeline([\n",
        "        ('drop_outliers', OutlierDropper()), \n",
        "        ('work_type_replacement_for_children', WorkTypeTransformer()), \n",
        "        ('smoking_status_replacement_for_small_children', SmokingStatusTransformer()), \n",
        "        ('column_processing', column_transformer),\n",
        "        ('reset_feature_names', column_transformer_name_resetter),\n",
        "        ('scaling', scaler),\n",
        "        ('reset_scaled_feature_names', ScalerFeatureNameResetter(scaler, column_transformer_name_resetter.get_columns()))\n",
        "])"
      ],
      "metadata": {
        "id": "BPCCWHBiif90"
      },
      "execution_count": null,
      "outputs": []
    },
    {
      "cell_type": "code",
      "source": [
        "processed_stroke_df = pd.DataFrame(preprocesser_pipeline.fit_transform(stroke_df))\n",
        "processed_stroke_df"
      ],
      "metadata": {
        "id": "t56d1bgxizhU"
      },
      "execution_count": null,
      "outputs": []
    },
    {
      "cell_type": "markdown",
      "source": [
        "#### tests"
      ],
      "metadata": {
        "id": "sa2a6znhrXK2"
      }
    },
    {
      "cell_type": "code",
      "source": [
        "new_work_type_value_counts = processed_stroke_df.work_type_Never_worked.sum()\n",
        "new_work_type_value_counts"
      ],
      "metadata": {
        "id": "QgraqkpJjHU3"
      },
      "execution_count": null,
      "outputs": []
    },
    {
      "cell_type": "code",
      "source": [
        "processed_stroke_df.isnull().sum()"
      ],
      "metadata": {
        "id": "sJpcsafLm_ea"
      },
      "execution_count": null,
      "outputs": []
    },
    {
      "cell_type": "code",
      "source": [
        "processed_stroke_df.smoking_status_Unknown.value_counts()"
      ],
      "metadata": {
        "id": "rbDHP4p9ndhY"
      },
      "execution_count": null,
      "outputs": []
    },
    {
      "cell_type": "code",
      "source": [
        "processed_stroke_df.gender.value_counts()"
      ],
      "metadata": {
        "id": "qOl3pE3Ko-yk"
      },
      "execution_count": null,
      "outputs": []
    },
    {
      "cell_type": "code",
      "source": [
        "plot_continuous_variable_distribution(processed_stroke_df, processed_stroke_df.bmi, \"bmi\", \"Population BMI Distribution, After Preprocessing\")"
      ],
      "metadata": {
        "id": "ERwA-ltfpHBN"
      },
      "execution_count": null,
      "outputs": []
    },
    {
      "cell_type": "code",
      "source": [
        "# find categorical variables\n",
        "categorical_cols = [cname for cname in processed_stroke_df.columns if processed_stroke_df[cname].dtype == \"object\"]\n",
        "categorical_cols"
      ],
      "metadata": {
        "id": "cPCxzNbnxUmj"
      },
      "execution_count": null,
      "outputs": []
    },
    {
      "cell_type": "code",
      "source": [
        "processed_test_stroke_df = pd.DataFrame(preprocesser_pipeline.fit_transform(stroke_test_df))\n",
        "processed_test_stroke_df"
      ],
      "metadata": {
        "id": "HQvBgguHtpUv"
      },
      "execution_count": null,
      "outputs": []
    },
    {
      "cell_type": "markdown",
      "source": [
        "\n",
        "\n",
        "## Random code"
      ],
      "metadata": {
        "id": "Ah0pqhy8QU29"
      }
    },
    {
      "cell_type": "markdown",
      "source": [
        "TODO: delete this section"
      ],
      "metadata": {
        "id": "ObeDkbgGQcL3"
      }
    },
    {
      "cell_type": "code",
      "source": [
        "stroke_df.isnull().sum()"
      ],
      "metadata": {
        "id": "9HtUYtfaL7rZ"
      },
      "execution_count": null,
      "outputs": []
    },
    {
      "cell_type": "code",
      "source": [
        "stroke_df.work_type.value_counts()"
      ],
      "metadata": {
        "id": "N2TnFs1gvQR3"
      },
      "execution_count": null,
      "outputs": []
    },
    {
      "cell_type": "code",
      "source": [
        "stroke_df.age.map(lambda a: 1 if a >= 16 else 0).value_counts()"
      ],
      "metadata": {
        "id": "f8Ffj9MLvmZZ"
      },
      "execution_count": null,
      "outputs": []
    },
    {
      "cell_type": "code",
      "source": [
        "stroke_df[stroke_df[\"age\"]<16][stroke_df[\"work_type\"]!=\"children\"]"
      ],
      "metadata": {
        "id": "5ElmyHOZ0f1u"
      },
      "execution_count": null,
      "outputs": []
    }
  ]
}