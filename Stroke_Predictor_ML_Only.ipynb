{
  "nbformat": 4,
  "nbformat_minor": 0,
  "metadata": {
    "colab": {
      "name": "Stroke-Predictor.ipynb",
      "provenance": [],
      "collapsed_sections": [],
      "toc_visible": true,
      "include_colab_link": true
    },
    "kernelspec": {
      "name": "python3",
      "display_name": "Python 3"
    },
    "language_info": {
      "name": "python"
    }
  },
  "cells": [
    {
      "cell_type": "markdown",
      "metadata": {
        "id": "view-in-github",
        "colab_type": "text"
      },
      "source": [
        "<a href=\"https://colab.research.google.com/github/EnoiuDiana/Stroke-Predictor/blob/bori_dev/Stroke_Predictor_ML_Only.ipynb\" target=\"_parent\"><img src=\"https://colab.research.google.com/assets/colab-badge.svg\" alt=\"Open In Colab\"/></a>"
      ]
    },
    {
      "cell_type": "markdown",
      "source": [
        "# Stroke Prediction based on medical and demographical data"
      ],
      "metadata": {
        "id": "sA2mv91AKteu"
      }
    },
    {
      "cell_type": "markdown",
      "source": [
        "## Problem Statement"
      ],
      "metadata": {
        "id": "htp5B9D_PODY"
      }
    },
    {
      "cell_type": "markdown",
      "source": [
        "This project is aimed to help to **decide whether a person is likely to get a stroke**, based on demographical and medical data.\n",
        "\n",
        "Thus, we framed the problem as a **classification problem**: we intend to tell only whether someone is likely or not to get a stroke, we do not try to precisely predict the likelihood of a stroke.\n",
        "\n"
      ],
      "metadata": {
        "id": "QlbSqGDdPRPT"
      }
    },
    {
      "cell_type": "markdown",
      "source": [
        "### Background: what is a Stroke?\n",
        "\n",
        "([source 1: NHS](https://www.nhs.uk/conditions/stroke/#:~:text=A%20stroke%20is%20a%20serious,damage%20is%20likely%20to%20happen.))\n",
        "\n",
        "([source 2: CDC](https://www.cdc.gov/stroke/index.htm#:~:text=Stroke%20is%20a%20leading%20cause,of%20serious%20disability%20for%20adults.&text=About%20795%2C000%20people%20in%20the%20United%20States%20have%20a%20stroke%20each%20year.&text=Get%20more%20quick%20facts%20about,Stroke%20is%20preventable.))\n",
        "\n",
        "A stroke is the event in which the flow of blood to a part of the brain is cut off, thus causing the brain cells to get demaged or die. The effects may include a permanent brain demage, long-term disabilities or even death. \n",
        "\n",
        "The direct cause of a stroke is generally a blood clot / a piece of fatty material, blocking an artery (Ischaemic stroke), or the walls of a blood vessel in the brain becoming weak and burst (Haemorrhagic stroke).\n",
        "\n",
        "It is one of the leading death causes and requires urgent treatment. It is reported to cause almost 800 000 deaths each year in the USA."
      ],
      "metadata": {
        "id": "MsDiP_F5BAEo"
      }
    },
    {
      "cell_type": "markdown",
      "source": [
        "### Why our analysis is relevant?\n",
        "\n",
        "The good thing about strokes is that they're somewhat **preventable** with a healthy lifestyle and also **treatable**, if the patient gets the treatment in time.\n",
        "\n",
        "**Our analysis will focus on the prevention: we try to understand what life-style choises help to reduce one's exposure to stroke.**"
      ],
      "metadata": {
        "id": "CeQ2gUmyDK3E"
      }
    },
    {
      "cell_type": "markdown",
      "source": [
        "## Data Fetching"
      ],
      "metadata": {
        "id": "26sZKpSVDJum"
      }
    },
    {
      "cell_type": "markdown",
      "source": [
        "\n",
        "\n",
        "*   [source](https://https://www.kaggle.com/datasets/fedesoriano/stroke-prediction-dataset)\n",
        "\n",
        "**The structure of the dataset**\n",
        "\n",
        "*   each entry represents one person\n",
        "*   **label**, to be predicted: boolean variable 'stroke', that tells whether a person is likely to have a stroke\n",
        "*   **features**, to rely on for the prediction:\n",
        "  * demographical \n",
        "      * *gender* : male, female or other\n",
        "      * *age*\n",
        "      * *marital status (ever_married)* : was the person ever married?\n",
        "      * *work type (work_type)* : children, government job ('Govt_job'), never worked ('never_worked'), private, self-employed\n",
        "      * *residence (residence_type)* : urban or rural\n",
        "      * *smoking status* : 'never smoked', 'formerly smoked', 'smokes', 'unknown'\n",
        "   * medical data\n",
        "      * *hypertension*: 0, if the patient doesn't have hypertension, 1 otherwise\n",
        "      * *heart disease (heart_disease)* : 0 if the patient doesn't have any heart disease, 1 otherwise\n",
        "      * *average blood glucose level (avg_glucose_level)*\n",
        "      * *body mass index (bmi)*\n",
        "\n"
      ],
      "metadata": {
        "id": "yYv2OY8CDNUC"
      }
    },
    {
      "cell_type": "markdown",
      "source": [
        "As expected, the dataset contains the labels as well. Stroke prediction based on demographic and medical data seems much better suited for **supervised learning** indeed, because we would not expect to find a clear separation between people with and without a stroke that could be easily found by a clustering algorithm.\n",
        "\n",
        "On the other hand, it seems promising to analyse time series representing purely medical data about the patients, such as the blood pressure, cholesterol level, ecg, ..., and try to detect anomalies relying on unsupervised learning algorithms in these time series to predict a stroke.\n",
        "\n",
        "Note that these two approaches are both feasible but could be used for entirely different purposes:\n",
        "\n",
        "\n",
        "*   our supervised-learning approach based on medical and demographical data helps to find what lifestyle helps to prevent a stroke\n",
        "*   a time-series based unsupervised anomaly detection might help to detect the early signs of a stroke and ensure that the patient gets the necessary treatment as soon as possible, thus minimizing the effects of a stroke\n",
        "\n"
      ],
      "metadata": {
        "id": "IRMamGPB-VgF"
      }
    },
    {
      "cell_type": "markdown",
      "source": [
        "## Setup"
      ],
      "metadata": {
        "id": "P8QXe2JhK556"
      }
    },
    {
      "cell_type": "code",
      "source": [
        "# imports\n",
        "import pandas as pd\n",
        "import matplotlib.pyplot as plt\n",
        "import seaborn as sns\n",
        "import numpy as np\n",
        "import math\n",
        "from sklearn import tree\n",
        "from sklearn.tree import DecisionTreeClassifier\n",
        "from sklearn.preprocessing import LabelEncoder\n",
        "from sklearn import preprocessing\n",
        "from sklearn.model_selection import train_test_split\n",
        "from sklearn.metrics import classification_report\n",
        "from sklearn.ensemble import RandomForestRegressor\n",
        "from sklearn.metrics import mean_absolute_error\n",
        "from sklearn.impute import SimpleImputer\n",
        "from sklearn.preprocessing import OneHotEncoder\n",
        "from sklearn.ensemble import RandomForestClassifier\n",
        "from pandas.plotting import scatter_matrix\n",
        "from sklearn.preprocessing import FunctionTransformer\n",
        "from sklearn_pandas import DataFrameMapper\n",
        "from sklearn.compose import ColumnTransformer\n",
        "from sklearn.preprocessing import OrdinalEncoder\n",
        "from sklearn.compose import ColumnTransformer\n",
        "from sklearn.pipeline import Pipeline\n",
        "from sklearn.base import BaseEstimator, ClassifierMixin, TransformerMixin\n",
        "from sklearn.preprocessing import MinMaxScaler"
      ],
      "metadata": {
        "id": "uk5cxiuPL_Bt"
      },
      "execution_count": null,
      "outputs": []
    },
    {
      "cell_type": "code",
      "source": [
        "def_plot_length = 7\n",
        "def_fig_size = (def_plot_length, def_plot_length)\n",
        "def_title_size = 20\n",
        "random_state = 42"
      ],
      "metadata": {
        "id": "mN95NaRZnHl0"
      },
      "execution_count": null,
      "outputs": []
    },
    {
      "cell_type": "markdown",
      "source": [
        "### Data Gathering"
      ],
      "metadata": {
        "id": "UB4xoJZ86Fa2"
      }
    },
    {
      "cell_type": "code",
      "execution_count": null,
      "metadata": {
        "id": "ih1-apS2ua_U"
      },
      "outputs": [],
      "source": [
        "file_path = \"https://drive.google.com/file/d/1x3Vu2Egi5LIvd0jkHnZKeBx-Ye0l8sTr/view?usp=sharing\"\n",
        "file_path ='https://drive.google.com/uc?id=' + file_path.split('/')[-2]\n",
        "stroke_df = pd.read_csv(file_path)"
      ]
    },
    {
      "cell_type": "code",
      "source": [
        "stroke_df = stroke_df.rename(str.lower, axis='columns')\n",
        "stroke_df.head()"
      ],
      "metadata": {
        "colab": {
          "base_uri": "https://localhost:8080/",
          "height": 206
        },
        "id": "ZkKTpsIg1Tdn",
        "outputId": "eac46026-a420-43b1-bac9-e21c027ea198"
      },
      "execution_count": null,
      "outputs": [
        {
          "output_type": "execute_result",
          "data": {
            "text/plain": [
              "      id  gender   age  hypertension  heart_disease ever_married  \\\n",
              "0   9046    Male  67.0             0              1          Yes   \n",
              "1  51676  Female  61.0             0              0          Yes   \n",
              "2  31112    Male  80.0             0              1          Yes   \n",
              "3  60182  Female  49.0             0              0          Yes   \n",
              "4   1665  Female  79.0             1              0          Yes   \n",
              "\n",
              "       work_type residence_type  avg_glucose_level   bmi   smoking_status  \\\n",
              "0        Private          Urban             228.69  36.6  formerly smoked   \n",
              "1  Self-employed          Rural             202.21   NaN     never smoked   \n",
              "2        Private          Rural             105.92  32.5     never smoked   \n",
              "3        Private          Urban             171.23  34.4           smokes   \n",
              "4  Self-employed          Rural             174.12  24.0     never smoked   \n",
              "\n",
              "   stroke  \n",
              "0       1  \n",
              "1       1  \n",
              "2       1  \n",
              "3       1  \n",
              "4       1  "
            ],
            "text/html": [
              "\n",
              "  <div id=\"df-0f62df52-2bf7-43d5-874c-e5f4ab4894f4\">\n",
              "    <div class=\"colab-df-container\">\n",
              "      <div>\n",
              "<style scoped>\n",
              "    .dataframe tbody tr th:only-of-type {\n",
              "        vertical-align: middle;\n",
              "    }\n",
              "\n",
              "    .dataframe tbody tr th {\n",
              "        vertical-align: top;\n",
              "    }\n",
              "\n",
              "    .dataframe thead th {\n",
              "        text-align: right;\n",
              "    }\n",
              "</style>\n",
              "<table border=\"1\" class=\"dataframe\">\n",
              "  <thead>\n",
              "    <tr style=\"text-align: right;\">\n",
              "      <th></th>\n",
              "      <th>id</th>\n",
              "      <th>gender</th>\n",
              "      <th>age</th>\n",
              "      <th>hypertension</th>\n",
              "      <th>heart_disease</th>\n",
              "      <th>ever_married</th>\n",
              "      <th>work_type</th>\n",
              "      <th>residence_type</th>\n",
              "      <th>avg_glucose_level</th>\n",
              "      <th>bmi</th>\n",
              "      <th>smoking_status</th>\n",
              "      <th>stroke</th>\n",
              "    </tr>\n",
              "  </thead>\n",
              "  <tbody>\n",
              "    <tr>\n",
              "      <th>0</th>\n",
              "      <td>9046</td>\n",
              "      <td>Male</td>\n",
              "      <td>67.0</td>\n",
              "      <td>0</td>\n",
              "      <td>1</td>\n",
              "      <td>Yes</td>\n",
              "      <td>Private</td>\n",
              "      <td>Urban</td>\n",
              "      <td>228.69</td>\n",
              "      <td>36.6</td>\n",
              "      <td>formerly smoked</td>\n",
              "      <td>1</td>\n",
              "    </tr>\n",
              "    <tr>\n",
              "      <th>1</th>\n",
              "      <td>51676</td>\n",
              "      <td>Female</td>\n",
              "      <td>61.0</td>\n",
              "      <td>0</td>\n",
              "      <td>0</td>\n",
              "      <td>Yes</td>\n",
              "      <td>Self-employed</td>\n",
              "      <td>Rural</td>\n",
              "      <td>202.21</td>\n",
              "      <td>NaN</td>\n",
              "      <td>never smoked</td>\n",
              "      <td>1</td>\n",
              "    </tr>\n",
              "    <tr>\n",
              "      <th>2</th>\n",
              "      <td>31112</td>\n",
              "      <td>Male</td>\n",
              "      <td>80.0</td>\n",
              "      <td>0</td>\n",
              "      <td>1</td>\n",
              "      <td>Yes</td>\n",
              "      <td>Private</td>\n",
              "      <td>Rural</td>\n",
              "      <td>105.92</td>\n",
              "      <td>32.5</td>\n",
              "      <td>never smoked</td>\n",
              "      <td>1</td>\n",
              "    </tr>\n",
              "    <tr>\n",
              "      <th>3</th>\n",
              "      <td>60182</td>\n",
              "      <td>Female</td>\n",
              "      <td>49.0</td>\n",
              "      <td>0</td>\n",
              "      <td>0</td>\n",
              "      <td>Yes</td>\n",
              "      <td>Private</td>\n",
              "      <td>Urban</td>\n",
              "      <td>171.23</td>\n",
              "      <td>34.4</td>\n",
              "      <td>smokes</td>\n",
              "      <td>1</td>\n",
              "    </tr>\n",
              "    <tr>\n",
              "      <th>4</th>\n",
              "      <td>1665</td>\n",
              "      <td>Female</td>\n",
              "      <td>79.0</td>\n",
              "      <td>1</td>\n",
              "      <td>0</td>\n",
              "      <td>Yes</td>\n",
              "      <td>Self-employed</td>\n",
              "      <td>Rural</td>\n",
              "      <td>174.12</td>\n",
              "      <td>24.0</td>\n",
              "      <td>never smoked</td>\n",
              "      <td>1</td>\n",
              "    </tr>\n",
              "  </tbody>\n",
              "</table>\n",
              "</div>\n",
              "      <button class=\"colab-df-convert\" onclick=\"convertToInteractive('df-0f62df52-2bf7-43d5-874c-e5f4ab4894f4')\"\n",
              "              title=\"Convert this dataframe to an interactive table.\"\n",
              "              style=\"display:none;\">\n",
              "        \n",
              "  <svg xmlns=\"http://www.w3.org/2000/svg\" height=\"24px\"viewBox=\"0 0 24 24\"\n",
              "       width=\"24px\">\n",
              "    <path d=\"M0 0h24v24H0V0z\" fill=\"none\"/>\n",
              "    <path d=\"M18.56 5.44l.94 2.06.94-2.06 2.06-.94-2.06-.94-.94-2.06-.94 2.06-2.06.94zm-11 1L8.5 8.5l.94-2.06 2.06-.94-2.06-.94L8.5 2.5l-.94 2.06-2.06.94zm10 10l.94 2.06.94-2.06 2.06-.94-2.06-.94-.94-2.06-.94 2.06-2.06.94z\"/><path d=\"M17.41 7.96l-1.37-1.37c-.4-.4-.92-.59-1.43-.59-.52 0-1.04.2-1.43.59L10.3 9.45l-7.72 7.72c-.78.78-.78 2.05 0 2.83L4 21.41c.39.39.9.59 1.41.59.51 0 1.02-.2 1.41-.59l7.78-7.78 2.81-2.81c.8-.78.8-2.07 0-2.86zM5.41 20L4 18.59l7.72-7.72 1.47 1.35L5.41 20z\"/>\n",
              "  </svg>\n",
              "      </button>\n",
              "      \n",
              "  <style>\n",
              "    .colab-df-container {\n",
              "      display:flex;\n",
              "      flex-wrap:wrap;\n",
              "      gap: 12px;\n",
              "    }\n",
              "\n",
              "    .colab-df-convert {\n",
              "      background-color: #E8F0FE;\n",
              "      border: none;\n",
              "      border-radius: 50%;\n",
              "      cursor: pointer;\n",
              "      display: none;\n",
              "      fill: #1967D2;\n",
              "      height: 32px;\n",
              "      padding: 0 0 0 0;\n",
              "      width: 32px;\n",
              "    }\n",
              "\n",
              "    .colab-df-convert:hover {\n",
              "      background-color: #E2EBFA;\n",
              "      box-shadow: 0px 1px 2px rgba(60, 64, 67, 0.3), 0px 1px 3px 1px rgba(60, 64, 67, 0.15);\n",
              "      fill: #174EA6;\n",
              "    }\n",
              "\n",
              "    [theme=dark] .colab-df-convert {\n",
              "      background-color: #3B4455;\n",
              "      fill: #D2E3FC;\n",
              "    }\n",
              "\n",
              "    [theme=dark] .colab-df-convert:hover {\n",
              "      background-color: #434B5C;\n",
              "      box-shadow: 0px 1px 3px 1px rgba(0, 0, 0, 0.15);\n",
              "      filter: drop-shadow(0px 1px 2px rgba(0, 0, 0, 0.3));\n",
              "      fill: #FFFFFF;\n",
              "    }\n",
              "  </style>\n",
              "\n",
              "      <script>\n",
              "        const buttonEl =\n",
              "          document.querySelector('#df-0f62df52-2bf7-43d5-874c-e5f4ab4894f4 button.colab-df-convert');\n",
              "        buttonEl.style.display =\n",
              "          google.colab.kernel.accessAllowed ? 'block' : 'none';\n",
              "\n",
              "        async function convertToInteractive(key) {\n",
              "          const element = document.querySelector('#df-0f62df52-2bf7-43d5-874c-e5f4ab4894f4');\n",
              "          const dataTable =\n",
              "            await google.colab.kernel.invokeFunction('convertToInteractive',\n",
              "                                                     [key], {});\n",
              "          if (!dataTable) return;\n",
              "\n",
              "          const docLinkHtml = 'Like what you see? Visit the ' +\n",
              "            '<a target=\"_blank\" href=https://colab.research.google.com/notebooks/data_table.ipynb>data table notebook</a>'\n",
              "            + ' to learn more about interactive tables.';\n",
              "          element.innerHTML = '';\n",
              "          dataTable['output_type'] = 'display_data';\n",
              "          await google.colab.output.renderOutput(dataTable, element);\n",
              "          const docLink = document.createElement('div');\n",
              "          docLink.innerHTML = docLinkHtml;\n",
              "          element.appendChild(docLink);\n",
              "        }\n",
              "      </script>\n",
              "    </div>\n",
              "  </div>\n",
              "  "
            ]
          },
          "metadata": {},
          "execution_count": 4
        }
      ]
    },
    {
      "cell_type": "markdown",
      "source": [
        "### Train-Test Split"
      ],
      "metadata": {
        "id": "NGWa-U9k5_Fh"
      }
    },
    {
      "cell_type": "markdown",
      "source": [
        "We split the dataset such that the ratio of those with a stroke is preseved in both parts.\n",
        "\n",
        "*   **stroke_df**: dataframe used for training and validation\n",
        "*   **stroke_test_df**: dataframe used for testing. Not used in the decision processer related to model training\n",
        "\n"
      ],
      "metadata": {
        "id": "0ZO40drn6VEQ"
      }
    },
    {
      "cell_type": "code",
      "source": [
        "X = stroke_df.drop(columns=['stroke'])\n",
        "y = stroke_df.stroke"
      ],
      "metadata": {
        "id": "a3N03cWz4KK6"
      },
      "execution_count": null,
      "outputs": []
    },
    {
      "cell_type": "code",
      "source": [
        "X_stroke_tv_df, X_stroke_test_df, y_stroke_tv_df, y_stroke_test_df = train_test_split(X, y, test_size=0.2, random_state=random_state, stratify=y)"
      ],
      "metadata": {
        "id": "11cHJeF05WXz"
      },
      "execution_count": null,
      "outputs": []
    },
    {
      "cell_type": "code",
      "source": [
        "X_stroke_tv_df.shape"
      ],
      "metadata": {
        "id": "JIHxP-Yz50rY",
        "outputId": "c3d1a154-a5f5-4abf-ba2a-03710ab1a565",
        "colab": {
          "base_uri": "https://localhost:8080/"
        }
      },
      "execution_count": null,
      "outputs": [
        {
          "output_type": "execute_result",
          "data": {
            "text/plain": [
              "(4088, 11)"
            ]
          },
          "metadata": {},
          "execution_count": 7
        }
      ]
    },
    {
      "cell_type": "code",
      "source": [
        "X_stroke_test_df.shape"
      ],
      "metadata": {
        "id": "mIeI6DSV54o0",
        "outputId": "296d21d9-7862-49e4-a2b3-7214e6c8e91c",
        "colab": {
          "base_uri": "https://localhost:8080/"
        }
      },
      "execution_count": null,
      "outputs": [
        {
          "output_type": "execute_result",
          "data": {
            "text/plain": [
              "(1022, 11)"
            ]
          },
          "metadata": {},
          "execution_count": 8
        }
      ]
    },
    {
      "cell_type": "code",
      "source": [
        "stroke_df = pd.concat([X_stroke_tv_df, y_stroke_tv_df], axis = 1)\n",
        "stroke_df.head()"
      ],
      "metadata": {
        "id": "jJ-FFqfT6SQ4",
        "outputId": "6eeeae7f-7dbe-45d3-83ea-d07125b2eea5",
        "colab": {
          "base_uri": "https://localhost:8080/",
          "height": 206
        }
      },
      "execution_count": null,
      "outputs": [
        {
          "output_type": "execute_result",
          "data": {
            "text/plain": [
              "         id  gender   age  hypertension  heart_disease ever_married  \\\n",
              "845   25283  Female  48.0             0              0          Yes   \n",
              "3744  43734    Male  15.0             0              0           No   \n",
              "4183  47113  Female  67.0             0              0          Yes   \n",
              "3409  56996    Male  44.0             0              0          Yes   \n",
              "284   26325    Male  14.0             0              0           No   \n",
              "\n",
              "          work_type residence_type  avg_glucose_level   bmi smoking_status  \\\n",
              "845         Private          Urban              69.21  33.1   never smoked   \n",
              "3744        Private          Rural             122.25  21.0   never smoked   \n",
              "4183  Self-employed          Rural             110.42  24.9   never smoked   \n",
              "3409        Private          Urban              65.41  24.8         smokes   \n",
              "284        Govt_job          Urban              82.34  31.6        Unknown   \n",
              "\n",
              "      stroke  \n",
              "845        0  \n",
              "3744       0  \n",
              "4183       0  \n",
              "3409       0  \n",
              "284        0  "
            ],
            "text/html": [
              "\n",
              "  <div id=\"df-ca9ed8cb-07ff-4c5c-9821-c6e861f182ef\">\n",
              "    <div class=\"colab-df-container\">\n",
              "      <div>\n",
              "<style scoped>\n",
              "    .dataframe tbody tr th:only-of-type {\n",
              "        vertical-align: middle;\n",
              "    }\n",
              "\n",
              "    .dataframe tbody tr th {\n",
              "        vertical-align: top;\n",
              "    }\n",
              "\n",
              "    .dataframe thead th {\n",
              "        text-align: right;\n",
              "    }\n",
              "</style>\n",
              "<table border=\"1\" class=\"dataframe\">\n",
              "  <thead>\n",
              "    <tr style=\"text-align: right;\">\n",
              "      <th></th>\n",
              "      <th>id</th>\n",
              "      <th>gender</th>\n",
              "      <th>age</th>\n",
              "      <th>hypertension</th>\n",
              "      <th>heart_disease</th>\n",
              "      <th>ever_married</th>\n",
              "      <th>work_type</th>\n",
              "      <th>residence_type</th>\n",
              "      <th>avg_glucose_level</th>\n",
              "      <th>bmi</th>\n",
              "      <th>smoking_status</th>\n",
              "      <th>stroke</th>\n",
              "    </tr>\n",
              "  </thead>\n",
              "  <tbody>\n",
              "    <tr>\n",
              "      <th>845</th>\n",
              "      <td>25283</td>\n",
              "      <td>Female</td>\n",
              "      <td>48.0</td>\n",
              "      <td>0</td>\n",
              "      <td>0</td>\n",
              "      <td>Yes</td>\n",
              "      <td>Private</td>\n",
              "      <td>Urban</td>\n",
              "      <td>69.21</td>\n",
              "      <td>33.1</td>\n",
              "      <td>never smoked</td>\n",
              "      <td>0</td>\n",
              "    </tr>\n",
              "    <tr>\n",
              "      <th>3744</th>\n",
              "      <td>43734</td>\n",
              "      <td>Male</td>\n",
              "      <td>15.0</td>\n",
              "      <td>0</td>\n",
              "      <td>0</td>\n",
              "      <td>No</td>\n",
              "      <td>Private</td>\n",
              "      <td>Rural</td>\n",
              "      <td>122.25</td>\n",
              "      <td>21.0</td>\n",
              "      <td>never smoked</td>\n",
              "      <td>0</td>\n",
              "    </tr>\n",
              "    <tr>\n",
              "      <th>4183</th>\n",
              "      <td>47113</td>\n",
              "      <td>Female</td>\n",
              "      <td>67.0</td>\n",
              "      <td>0</td>\n",
              "      <td>0</td>\n",
              "      <td>Yes</td>\n",
              "      <td>Self-employed</td>\n",
              "      <td>Rural</td>\n",
              "      <td>110.42</td>\n",
              "      <td>24.9</td>\n",
              "      <td>never smoked</td>\n",
              "      <td>0</td>\n",
              "    </tr>\n",
              "    <tr>\n",
              "      <th>3409</th>\n",
              "      <td>56996</td>\n",
              "      <td>Male</td>\n",
              "      <td>44.0</td>\n",
              "      <td>0</td>\n",
              "      <td>0</td>\n",
              "      <td>Yes</td>\n",
              "      <td>Private</td>\n",
              "      <td>Urban</td>\n",
              "      <td>65.41</td>\n",
              "      <td>24.8</td>\n",
              "      <td>smokes</td>\n",
              "      <td>0</td>\n",
              "    </tr>\n",
              "    <tr>\n",
              "      <th>284</th>\n",
              "      <td>26325</td>\n",
              "      <td>Male</td>\n",
              "      <td>14.0</td>\n",
              "      <td>0</td>\n",
              "      <td>0</td>\n",
              "      <td>No</td>\n",
              "      <td>Govt_job</td>\n",
              "      <td>Urban</td>\n",
              "      <td>82.34</td>\n",
              "      <td>31.6</td>\n",
              "      <td>Unknown</td>\n",
              "      <td>0</td>\n",
              "    </tr>\n",
              "  </tbody>\n",
              "</table>\n",
              "</div>\n",
              "      <button class=\"colab-df-convert\" onclick=\"convertToInteractive('df-ca9ed8cb-07ff-4c5c-9821-c6e861f182ef')\"\n",
              "              title=\"Convert this dataframe to an interactive table.\"\n",
              "              style=\"display:none;\">\n",
              "        \n",
              "  <svg xmlns=\"http://www.w3.org/2000/svg\" height=\"24px\"viewBox=\"0 0 24 24\"\n",
              "       width=\"24px\">\n",
              "    <path d=\"M0 0h24v24H0V0z\" fill=\"none\"/>\n",
              "    <path d=\"M18.56 5.44l.94 2.06.94-2.06 2.06-.94-2.06-.94-.94-2.06-.94 2.06-2.06.94zm-11 1L8.5 8.5l.94-2.06 2.06-.94-2.06-.94L8.5 2.5l-.94 2.06-2.06.94zm10 10l.94 2.06.94-2.06 2.06-.94-2.06-.94-.94-2.06-.94 2.06-2.06.94z\"/><path d=\"M17.41 7.96l-1.37-1.37c-.4-.4-.92-.59-1.43-.59-.52 0-1.04.2-1.43.59L10.3 9.45l-7.72 7.72c-.78.78-.78 2.05 0 2.83L4 21.41c.39.39.9.59 1.41.59.51 0 1.02-.2 1.41-.59l7.78-7.78 2.81-2.81c.8-.78.8-2.07 0-2.86zM5.41 20L4 18.59l7.72-7.72 1.47 1.35L5.41 20z\"/>\n",
              "  </svg>\n",
              "      </button>\n",
              "      \n",
              "  <style>\n",
              "    .colab-df-container {\n",
              "      display:flex;\n",
              "      flex-wrap:wrap;\n",
              "      gap: 12px;\n",
              "    }\n",
              "\n",
              "    .colab-df-convert {\n",
              "      background-color: #E8F0FE;\n",
              "      border: none;\n",
              "      border-radius: 50%;\n",
              "      cursor: pointer;\n",
              "      display: none;\n",
              "      fill: #1967D2;\n",
              "      height: 32px;\n",
              "      padding: 0 0 0 0;\n",
              "      width: 32px;\n",
              "    }\n",
              "\n",
              "    .colab-df-convert:hover {\n",
              "      background-color: #E2EBFA;\n",
              "      box-shadow: 0px 1px 2px rgba(60, 64, 67, 0.3), 0px 1px 3px 1px rgba(60, 64, 67, 0.15);\n",
              "      fill: #174EA6;\n",
              "    }\n",
              "\n",
              "    [theme=dark] .colab-df-convert {\n",
              "      background-color: #3B4455;\n",
              "      fill: #D2E3FC;\n",
              "    }\n",
              "\n",
              "    [theme=dark] .colab-df-convert:hover {\n",
              "      background-color: #434B5C;\n",
              "      box-shadow: 0px 1px 3px 1px rgba(0, 0, 0, 0.15);\n",
              "      filter: drop-shadow(0px 1px 2px rgba(0, 0, 0, 0.3));\n",
              "      fill: #FFFFFF;\n",
              "    }\n",
              "  </style>\n",
              "\n",
              "      <script>\n",
              "        const buttonEl =\n",
              "          document.querySelector('#df-ca9ed8cb-07ff-4c5c-9821-c6e861f182ef button.colab-df-convert');\n",
              "        buttonEl.style.display =\n",
              "          google.colab.kernel.accessAllowed ? 'block' : 'none';\n",
              "\n",
              "        async function convertToInteractive(key) {\n",
              "          const element = document.querySelector('#df-ca9ed8cb-07ff-4c5c-9821-c6e861f182ef');\n",
              "          const dataTable =\n",
              "            await google.colab.kernel.invokeFunction('convertToInteractive',\n",
              "                                                     [key], {});\n",
              "          if (!dataTable) return;\n",
              "\n",
              "          const docLinkHtml = 'Like what you see? Visit the ' +\n",
              "            '<a target=\"_blank\" href=https://colab.research.google.com/notebooks/data_table.ipynb>data table notebook</a>'\n",
              "            + ' to learn more about interactive tables.';\n",
              "          element.innerHTML = '';\n",
              "          dataTable['output_type'] = 'display_data';\n",
              "          await google.colab.output.renderOutput(dataTable, element);\n",
              "          const docLink = document.createElement('div');\n",
              "          docLink.innerHTML = docLinkHtml;\n",
              "          element.appendChild(docLink);\n",
              "        }\n",
              "      </script>\n",
              "    </div>\n",
              "  </div>\n",
              "  "
            ]
          },
          "metadata": {},
          "execution_count": 9
        }
      ]
    },
    {
      "cell_type": "code",
      "source": [
        "stroke_test_df = pd.concat([X_stroke_test_df, y_stroke_test_df], axis = 1)"
      ],
      "metadata": {
        "id": "WwPGQznn7aKm"
      },
      "execution_count": null,
      "outputs": []
    },
    {
      "cell_type": "code",
      "source": [
        "print(\"Stroke ratio in train-test dataframe: \", stroke_df[stroke_df.stroke == 1].shape[0] / stroke_df.shape[0])"
      ],
      "metadata": {
        "id": "FKvJh3Aw7h78",
        "outputId": "aee23d4b-2654-4f49-9014-7929eadca1b3",
        "colab": {
          "base_uri": "https://localhost:8080/"
        }
      },
      "execution_count": null,
      "outputs": [
        {
          "output_type": "stream",
          "name": "stdout",
          "text": [
            "Stroke ratio in train-test dataframe:  0.04867906066536203\n"
          ]
        }
      ]
    },
    {
      "cell_type": "code",
      "source": [
        "print(\"Stroke ratio in train-test dataframe: \", stroke_test_df[stroke_test_df.stroke == 1].shape[0] / stroke_test_df.shape[0])"
      ],
      "metadata": {
        "id": "vr7w5vVw76kC",
        "outputId": "07c9da41-d1c2-4df2-d848-69ac06f9e985",
        "colab": {
          "base_uri": "https://localhost:8080/"
        }
      },
      "execution_count": null,
      "outputs": [
        {
          "output_type": "stream",
          "name": "stdout",
          "text": [
            "Stroke ratio in train-test dataframe:  0.04892367906066536\n"
          ]
        }
      ]
    },
    {
      "cell_type": "markdown",
      "source": [
        "--> the train+validation and the test datasets are well balanced regarding the ratio of people who had stroke"
      ],
      "metadata": {
        "id": "uRV0bmo37_YF"
      }
    },
    {
      "cell_type": "markdown",
      "source": [
        "## Data Preprocessing"
      ],
      "metadata": {
        "id": "82-1WbvKRCqY"
      }
    },
    {
      "cell_type": "markdown",
      "source": [
        "### Building a Preprocessing Pipeline"
      ],
      "metadata": {
        "id": "NZVxjhivNHmZ"
      }
    },
    {
      "cell_type": "markdown",
      "source": [
        "The pipeline performs cleaning based on the approaches found above, and, additionaly, encodes the categorical variables."
      ],
      "metadata": {
        "id": "wKZ4rfp6NN7j"
      }
    },
    {
      "cell_type": "markdown",
      "source": [
        "#### Dropping outliers"
      ],
      "metadata": {
        "id": "2BwUps-eZM6r"
      }
    },
    {
      "cell_type": "code",
      "source": [
        "class OutlierDropper(BaseEstimator, TransformerMixin):\n",
        "    def __init__(self):\n",
        "        super().__init__()\n",
        "\n",
        "    def fit(self, df, y=None):\n",
        "        return self\n",
        "\n",
        "    def transform(self, df, y=None):\n",
        "        self.__drop_unknown_genders(df)\n",
        "        self.__drop_bmi_outliers(df)\n",
        "\n",
        "        return df\n",
        "    \n",
        "    def __drop_unknown_genders(self, df):\n",
        "        df.drop(df[df['gender'] == 'Other'].index, inplace=True)\n",
        "\n",
        "    def __drop_bmi_outliers(self, df):\n",
        "        df.drop(df[df['bmi'] > 60].index, inplace=True)"
      ],
      "metadata": {
        "id": "ixM071n3oR-p"
      },
      "execution_count": null,
      "outputs": []
    },
    {
      "cell_type": "markdown",
      "source": [
        "#### Dropping irrelevant columns"
      ],
      "metadata": {
        "id": "3Jb4PGoGd3D9"
      }
    },
    {
      "cell_type": "code",
      "source": [
        "class ColumnDropperTransformer():\n",
        "    def __init__(self,columns):\n",
        "        self.columns=columns\n",
        "\n",
        "    def fit(self, X, y=None):\n",
        "        return self \n",
        "\n",
        "    def transform(self,X,y=None):\n",
        "        return X.drop(self.columns,axis=1)"
      ],
      "metadata": {
        "id": "J_LoTu__d-45"
      },
      "execution_count": null,
      "outputs": []
    },
    {
      "cell_type": "markdown",
      "source": [
        "#### Categorical variables"
      ],
      "metadata": {
        "id": "MYlfijvEYVnx"
      }
    },
    {
      "cell_type": "code",
      "source": [
        "bin_categorical_cols = ['ever_married', 'residence_type', 'gender']\n",
        "larger_categorical_cols = [cname for cname in stroke_df.columns if stroke_df[cname].dtype == \"object\" and cname not in bin_categorical_cols]\n",
        "larger_categorical_cols"
      ],
      "metadata": {
        "id": "iQsLXhxsXKDl",
        "colab": {
          "base_uri": "https://localhost:8080/"
        },
        "outputId": "f6a41057-0132-4c8a-f091-2735b8709db0"
      },
      "execution_count": null,
      "outputs": [
        {
          "output_type": "execute_result",
          "data": {
            "text/plain": [
              "['work_type', 'smoking_status']"
            ]
          },
          "metadata": {},
          "execution_count": 15
        }
      ]
    },
    {
      "cell_type": "markdown",
      "source": [
        "Based on the values of these variables, we can see that 'gender', 'ever_married' and 'residence_type' have just two possible values, so it's safe to assume an ordering between them, and assign 1 to one of the values and 0 to the other. This can be easily done using an OrdinalEncoder.\n",
        "\n",
        "The other variables, 'work_type' and 'smoking_status' have multiple possible values with no ordering between them so we should apply a OneHotEncoder instead."
      ],
      "metadata": {
        "id": "SgSMWfWoYcvh"
      }
    },
    {
      "cell_type": "code",
      "source": [
        "cat_var_transformers = [\n",
        "    ('multi_cat', OneHotEncoder(), larger_categorical_cols),\n",
        "    ('bin_cat', OrdinalEncoder(), bin_categorical_cols),\n",
        "]"
      ],
      "metadata": {
        "id": "Q1nz4NXZY5-_"
      },
      "execution_count": null,
      "outputs": []
    },
    {
      "cell_type": "markdown",
      "source": [
        "#### Numerical Variables"
      ],
      "metadata": {
        "id": "ci9axTZHD-9d"
      }
    },
    {
      "cell_type": "markdown",
      "source": [
        "We only expect to have missing values in the BMI feature. As discussed above, a SimpleImputer with a median strategy is the most promising for BMI values, and for simplicity, we'll apply the same imputer for the other numerical columns as well."
      ],
      "metadata": {
        "id": "jlN60hipEDdr"
      }
    },
    {
      "cell_type": "code",
      "source": [
        "# Select numerical columns\n",
        "numerical_cols = [cname for cname in stroke_df.columns if stroke_df[cname].dtype in ['int64', 'float64']]\n",
        "numerical_cols.remove('stroke')\n",
        "numerical_cols.remove('id')\n",
        "numerical_cols"
      ],
      "metadata": {
        "id": "KLrmdJGjFXl8",
        "colab": {
          "base_uri": "https://localhost:8080/"
        },
        "outputId": "798a8906-6996-4f9a-d93e-31b1c8707e1d"
      },
      "execution_count": null,
      "outputs": [
        {
          "output_type": "execute_result",
          "data": {
            "text/plain": [
              "['age', 'hypertension', 'heart_disease', 'avg_glucose_level', 'bmi']"
            ]
          },
          "metadata": {},
          "execution_count": 17
        }
      ]
    },
    {
      "cell_type": "code",
      "source": [
        "num_var_transformers = [\n",
        "    ('num_var', SimpleImputer(strategy='median'), numerical_cols)\n",
        "]"
      ],
      "metadata": {
        "id": "Ndcz82RZFjdw"
      },
      "execution_count": null,
      "outputs": []
    },
    {
      "cell_type": "markdown",
      "source": [
        "#### ColumnTransformer integrating categoric and numeric variables"
      ],
      "metadata": {
        "id": "wtyQyf7jHbew"
      }
    },
    {
      "cell_type": "code",
      "source": [
        "column_transformer = ColumnTransformer(\n",
        "    transformers = cat_var_transformers + num_var_transformers,\n",
        "    remainder = 'passthrough'\n",
        ")"
      ],
      "metadata": {
        "id": "6D30dyOJHavo"
      },
      "execution_count": null,
      "outputs": []
    },
    {
      "cell_type": "markdown",
      "source": [
        "#### Resetting Feature Names of dataframe after ColumnTransformer"
      ],
      "metadata": {
        "id": "X543YGDLHnbQ"
      }
    },
    {
      "cell_type": "code",
      "source": [
        "class ColumnTransformerFeatureNameResetter(BaseEstimator, TransformerMixin):\n",
        "    def __init__(self, renamer_column_transformer, init_df_columns):\n",
        "        super().__init__()\n",
        "        self.__renamer_column_transformer = renamer_column_transformer\n",
        "        self.__init_df_columns = init_df_columns\n",
        "        self.__columns = None\n",
        "\n",
        "    def fit(self, df, y=None):\n",
        "        return self\n",
        "\n",
        "    def transform(self, df, y=None):\n",
        "\n",
        "        df = pd.DataFrame(df)\n",
        "\n",
        "        df.columns = self.__get_columns_from_transformer(self.__renamer_column_transformer, self.__init_df_columns)\n",
        "\n",
        "        self.__columns = df.columns\n",
        "\n",
        "        df[df.columns] = df[df.columns].apply(pd.to_numeric, errors='coerce')\n",
        "\n",
        "        return df\n",
        "\n",
        "    def get_columns(self):\n",
        "        return self.__columns\n",
        "\n",
        "    def __get_columns_from_transformer(self, column_transformer, input_colums):    \n",
        "        \"\"\"\n",
        "        source: https://github.com/scikit-learn/scikit-learn/issues/12525#issuecomment-744424900\n",
        "        \"\"\"\n",
        "        col_name = []\n",
        "\n",
        "        for transformer_in_columns in column_transformer.transformers_[:-1]: #the last transformer is ColumnTransformer's 'remainder'\n",
        "            raw_col_name = transformer_in_columns[2]\n",
        "            if isinstance(transformer_in_columns[1],Pipeline): \n",
        "                transformer = transformer_in_columns[1].steps[-1][1]\n",
        "            else:\n",
        "                transformer = transformer_in_columns[1]\n",
        "            try:\n",
        "                names = transformer.get_feature_names_out(raw_col_name)\n",
        "            except AttributeError: # if no 'get_feature_names' function, use raw column name\n",
        "                names = raw_col_name\n",
        "            if isinstance(names,np.ndarray): # eg.\n",
        "                col_name += names.tolist()\n",
        "            elif isinstance(names,list):\n",
        "                col_name += names    \n",
        "            elif isinstance(names,str):\n",
        "                col_name.append(names)\n",
        "\n",
        "        [_, _, reminder_columns] = column_transformer.transformers_[-1]\n",
        "\n",
        "        for col_idx in reminder_columns:\n",
        "            col_name.append(input_colums[col_idx])\n",
        "\n",
        "        return col_name"
      ],
      "metadata": {
        "id": "uSZ6aE6lphK6"
      },
      "execution_count": null,
      "outputs": []
    },
    {
      "cell_type": "markdown",
      "source": [
        "#### Custom Transformers"
      ],
      "metadata": {
        "id": "bVvxtNDHR2S6"
      }
    },
    {
      "cell_type": "code",
      "source": [
        "class WorkTypeTransformer(BaseEstimator, TransformerMixin):\n",
        "    def __init__(self):\n",
        "        super().__init__()\n",
        "\n",
        "    def fit(self, df, y=None):\n",
        "        return self\n",
        "\n",
        "    def transform(self, df, y=None):\n",
        "        df['work_type'] = df.apply(\n",
        "            lambda row: \"children\" if ((row['work_type'] == 'Never_worked') & (row['age'] < 18)) else row['work_type'],\n",
        "            axis=1\n",
        "        )\n",
        "\n",
        "        return df"
      ],
      "metadata": {
        "id": "HT07YXT7YK8o"
      },
      "execution_count": null,
      "outputs": []
    },
    {
      "cell_type": "code",
      "source": [
        "class SmokingStatusTransformer(BaseEstimator, TransformerMixin):\n",
        "    def __init__(self):\n",
        "        super().__init__()\n",
        "\n",
        "    def fit(self, df, y=None):\n",
        "        return self\n",
        "\n",
        "    def transform(self, df, y=None):\n",
        "        df.smoking_status = np.where(np.logical_and(df.age < 10, df.smoking_status == 'Unknown'), \"never smoked\", df.smoking_status)\n",
        "\n",
        "        return df"
      ],
      "metadata": {
        "id": "Vfpe3T2EnWua"
      },
      "execution_count": null,
      "outputs": []
    },
    {
      "cell_type": "markdown",
      "source": [
        "#### Scaling Values"
      ],
      "metadata": {
        "id": "hUOBVqB2Ln_i"
      }
    },
    {
      "cell_type": "markdown",
      "source": [
        "It is known that most ML algorithms perform better if the features have similar scales, as it is the case in out dataframe: for example, BMI values have the range [0, 60], whereas avg_glucose_level values are in the interval [50, 270]. \n",
        "\n",
        "To overcome this issue, we should scale all the values. Since many of our variables do not follow a normal distribution but are rather skewed (see BMI - right skewed, or avg_glucose_level - doubles peaked), and we have many binary-values nominal variables as well marked with 0 or 1, we should use the MinMaxScaler instead of the StandardScaler."
      ],
      "metadata": {
        "id": "1AWCGGoxLsun"
      }
    },
    {
      "cell_type": "code",
      "source": [
        "scaler = MinMaxScaler()"
      ],
      "metadata": {
        "id": "-P-bjPTXNZGn"
      },
      "execution_count": null,
      "outputs": []
    },
    {
      "cell_type": "code",
      "source": [
        "class ScalerFeatureNameResetter(BaseEstimator, TransformerMixin):\n",
        "    def __init__(self, renamer_scaler, init_cols):\n",
        "        super().__init__()\n",
        "        self.__renamer_scaler = renamer_scaler\n",
        "        self.__init_cols = init_cols\n",
        "\n",
        "    def fit(self, df, y=None):\n",
        "        return self\n",
        "\n",
        "    def transform(self, df, y=None):\n",
        "\n",
        "        df = pd.DataFrame(df)\n",
        "\n",
        "        df.columns = self.__renamer_scaler.get_feature_names_out(self.__init_cols)\n",
        "        return df"
      ],
      "metadata": {
        "id": "q0m0I6MxNxr8"
      },
      "execution_count": null,
      "outputs": []
    },
    {
      "cell_type": "markdown",
      "source": [
        "#### Integrating all steps in a pipeline"
      ],
      "metadata": {
        "id": "RDSv0JBfowvM"
      }
    },
    {
      "cell_type": "code",
      "source": [
        "processed_columns = stroke_df.drop(['id'], axis=1).columns\n",
        "column_transformer_name_resetter = ColumnTransformerFeatureNameResetter(column_transformer, processed_columns)\n",
        "processed_columns"
      ],
      "metadata": {
        "id": "cb9GYaVFPOoU",
        "colab": {
          "base_uri": "https://localhost:8080/"
        },
        "outputId": "f273e98f-928c-449f-c58e-d8ea57ae7019"
      },
      "execution_count": null,
      "outputs": [
        {
          "output_type": "execute_result",
          "data": {
            "text/plain": [
              "Index(['gender', 'age', 'hypertension', 'heart_disease', 'ever_married',\n",
              "       'work_type', 'residence_type', 'avg_glucose_level', 'bmi',\n",
              "       'smoking_status', 'stroke'],\n",
              "      dtype='object')"
            ]
          },
          "metadata": {},
          "execution_count": 25
        }
      ]
    },
    {
      "cell_type": "code",
      "source": [
        "preprocesser_pipeline = Pipeline([\n",
        "        ('drop_irrelevant_features', ColumnDropperTransformer(\"id\")),\n",
        "        ('drop_outliers', OutlierDropper()), \n",
        "        ('work_type_replacement_for_children', WorkTypeTransformer()), \n",
        "        ('smoking_status_replacement_for_small_children', SmokingStatusTransformer()), \n",
        "        ('column_processing', column_transformer),\n",
        "        ('reset_feature_names', column_transformer_name_resetter),\n",
        "        ('scaling', scaler),\n",
        "        ('reset_scaled_feature_names', ScalerFeatureNameResetter(scaler, column_transformer_name_resetter.get_columns()))\n",
        "])"
      ],
      "metadata": {
        "id": "BPCCWHBiif90"
      },
      "execution_count": null,
      "outputs": []
    },
    {
      "cell_type": "code",
      "source": [
        "processed_stroke_df = pd.DataFrame(preprocesser_pipeline.fit_transform(stroke_df))\n",
        "processed_stroke_df"
      ],
      "metadata": {
        "id": "t56d1bgxizhU",
        "colab": {
          "base_uri": "https://localhost:8080/",
          "height": 505
        },
        "outputId": "16d1639c-39e4-48b8-f139-91d3263bf2e5"
      },
      "execution_count": null,
      "outputs": [
        {
          "output_type": "execute_result",
          "data": {
            "text/plain": [
              "      work_type_Govt_job  work_type_Never_worked  work_type_Private  \\\n",
              "0                    0.0                     0.0                1.0   \n",
              "1                    0.0                     0.0                1.0   \n",
              "2                    0.0                     0.0                0.0   \n",
              "3                    0.0                     0.0                1.0   \n",
              "4                    1.0                     0.0                0.0   \n",
              "...                  ...                     ...                ...   \n",
              "4069                 0.0                     0.0                1.0   \n",
              "4070                 0.0                     0.0                0.0   \n",
              "4071                 0.0                     0.0                1.0   \n",
              "4072                 0.0                     0.0                1.0   \n",
              "4073                 0.0                     0.0                0.0   \n",
              "\n",
              "      work_type_Self-employed  work_type_children  smoking_status_Unknown  \\\n",
              "0                         0.0                 0.0                     0.0   \n",
              "1                         0.0                 0.0                     0.0   \n",
              "2                         1.0                 0.0                     0.0   \n",
              "3                         0.0                 0.0                     0.0   \n",
              "4                         0.0                 0.0                     1.0   \n",
              "...                       ...                 ...                     ...   \n",
              "4069                      0.0                 0.0                     0.0   \n",
              "4070                      0.0                 1.0                     1.0   \n",
              "4071                      0.0                 0.0                     0.0   \n",
              "4072                      0.0                 0.0                     1.0   \n",
              "4073                      0.0                 1.0                     0.0   \n",
              "\n",
              "      smoking_status_formerly smoked  smoking_status_never smoked  \\\n",
              "0                                0.0                          1.0   \n",
              "1                                0.0                          1.0   \n",
              "2                                0.0                          1.0   \n",
              "3                                0.0                          0.0   \n",
              "4                                0.0                          0.0   \n",
              "...                              ...                          ...   \n",
              "4069                             1.0                          0.0   \n",
              "4070                             0.0                          0.0   \n",
              "4071                             1.0                          0.0   \n",
              "4072                             0.0                          0.0   \n",
              "4073                             0.0                          1.0   \n",
              "\n",
              "      smoking_status_smokes  ever_married  residence_type  gender       age  \\\n",
              "0                       0.0           1.0             1.0     0.0  0.584961   \n",
              "1                       0.0           0.0             0.0     1.0  0.182129   \n",
              "2                       0.0           1.0             0.0     0.0  0.816895   \n",
              "3                       1.0           1.0             1.0     1.0  0.536133   \n",
              "4                       0.0           0.0             1.0     1.0  0.169922   \n",
              "...                     ...           ...             ...     ...       ...   \n",
              "4069                    0.0           1.0             1.0     0.0  0.548340   \n",
              "4070                    0.0           0.0             0.0     0.0  0.194336   \n",
              "4071                    0.0           1.0             0.0     0.0  0.743652   \n",
              "4072                    0.0           1.0             1.0     1.0  0.377441   \n",
              "4073                    0.0           0.0             1.0     0.0  0.072266   \n",
              "\n",
              "      hypertension  heart_disease  avg_glucose_level       bmi  stroke  \n",
              "0              0.0            0.0           0.065045  0.461538     0.0  \n",
              "1              0.0            0.0           0.309898  0.216599     0.0  \n",
              "2              0.0            0.0           0.255286  0.295547     0.0  \n",
              "3              0.0            0.0           0.047503  0.293522     0.0  \n",
              "4              0.0            0.0           0.125658  0.431174     0.0  \n",
              "...            ...            ...                ...       ...     ...  \n",
              "4069           0.0            0.0           0.174222  0.502024     0.0  \n",
              "4070           0.0            0.0           0.269366  0.186235     0.0  \n",
              "4071           0.0            0.0           0.108623  0.524291     0.0  \n",
              "4072           0.0            0.0           0.087388  0.317814     0.0  \n",
              "4073           0.0            0.0           0.165866  0.238866     0.0  \n",
              "\n",
              "[4074 rows x 18 columns]"
            ],
            "text/html": [
              "\n",
              "  <div id=\"df-cb4adec1-3cfa-4bc2-9e32-4405d2b6751f\">\n",
              "    <div class=\"colab-df-container\">\n",
              "      <div>\n",
              "<style scoped>\n",
              "    .dataframe tbody tr th:only-of-type {\n",
              "        vertical-align: middle;\n",
              "    }\n",
              "\n",
              "    .dataframe tbody tr th {\n",
              "        vertical-align: top;\n",
              "    }\n",
              "\n",
              "    .dataframe thead th {\n",
              "        text-align: right;\n",
              "    }\n",
              "</style>\n",
              "<table border=\"1\" class=\"dataframe\">\n",
              "  <thead>\n",
              "    <tr style=\"text-align: right;\">\n",
              "      <th></th>\n",
              "      <th>work_type_Govt_job</th>\n",
              "      <th>work_type_Never_worked</th>\n",
              "      <th>work_type_Private</th>\n",
              "      <th>work_type_Self-employed</th>\n",
              "      <th>work_type_children</th>\n",
              "      <th>smoking_status_Unknown</th>\n",
              "      <th>smoking_status_formerly smoked</th>\n",
              "      <th>smoking_status_never smoked</th>\n",
              "      <th>smoking_status_smokes</th>\n",
              "      <th>ever_married</th>\n",
              "      <th>residence_type</th>\n",
              "      <th>gender</th>\n",
              "      <th>age</th>\n",
              "      <th>hypertension</th>\n",
              "      <th>heart_disease</th>\n",
              "      <th>avg_glucose_level</th>\n",
              "      <th>bmi</th>\n",
              "      <th>stroke</th>\n",
              "    </tr>\n",
              "  </thead>\n",
              "  <tbody>\n",
              "    <tr>\n",
              "      <th>0</th>\n",
              "      <td>0.0</td>\n",
              "      <td>0.0</td>\n",
              "      <td>1.0</td>\n",
              "      <td>0.0</td>\n",
              "      <td>0.0</td>\n",
              "      <td>0.0</td>\n",
              "      <td>0.0</td>\n",
              "      <td>1.0</td>\n",
              "      <td>0.0</td>\n",
              "      <td>1.0</td>\n",
              "      <td>1.0</td>\n",
              "      <td>0.0</td>\n",
              "      <td>0.584961</td>\n",
              "      <td>0.0</td>\n",
              "      <td>0.0</td>\n",
              "      <td>0.065045</td>\n",
              "      <td>0.461538</td>\n",
              "      <td>0.0</td>\n",
              "    </tr>\n",
              "    <tr>\n",
              "      <th>1</th>\n",
              "      <td>0.0</td>\n",
              "      <td>0.0</td>\n",
              "      <td>1.0</td>\n",
              "      <td>0.0</td>\n",
              "      <td>0.0</td>\n",
              "      <td>0.0</td>\n",
              "      <td>0.0</td>\n",
              "      <td>1.0</td>\n",
              "      <td>0.0</td>\n",
              "      <td>0.0</td>\n",
              "      <td>0.0</td>\n",
              "      <td>1.0</td>\n",
              "      <td>0.182129</td>\n",
              "      <td>0.0</td>\n",
              "      <td>0.0</td>\n",
              "      <td>0.309898</td>\n",
              "      <td>0.216599</td>\n",
              "      <td>0.0</td>\n",
              "    </tr>\n",
              "    <tr>\n",
              "      <th>2</th>\n",
              "      <td>0.0</td>\n",
              "      <td>0.0</td>\n",
              "      <td>0.0</td>\n",
              "      <td>1.0</td>\n",
              "      <td>0.0</td>\n",
              "      <td>0.0</td>\n",
              "      <td>0.0</td>\n",
              "      <td>1.0</td>\n",
              "      <td>0.0</td>\n",
              "      <td>1.0</td>\n",
              "      <td>0.0</td>\n",
              "      <td>0.0</td>\n",
              "      <td>0.816895</td>\n",
              "      <td>0.0</td>\n",
              "      <td>0.0</td>\n",
              "      <td>0.255286</td>\n",
              "      <td>0.295547</td>\n",
              "      <td>0.0</td>\n",
              "    </tr>\n",
              "    <tr>\n",
              "      <th>3</th>\n",
              "      <td>0.0</td>\n",
              "      <td>0.0</td>\n",
              "      <td>1.0</td>\n",
              "      <td>0.0</td>\n",
              "      <td>0.0</td>\n",
              "      <td>0.0</td>\n",
              "      <td>0.0</td>\n",
              "      <td>0.0</td>\n",
              "      <td>1.0</td>\n",
              "      <td>1.0</td>\n",
              "      <td>1.0</td>\n",
              "      <td>1.0</td>\n",
              "      <td>0.536133</td>\n",
              "      <td>0.0</td>\n",
              "      <td>0.0</td>\n",
              "      <td>0.047503</td>\n",
              "      <td>0.293522</td>\n",
              "      <td>0.0</td>\n",
              "    </tr>\n",
              "    <tr>\n",
              "      <th>4</th>\n",
              "      <td>1.0</td>\n",
              "      <td>0.0</td>\n",
              "      <td>0.0</td>\n",
              "      <td>0.0</td>\n",
              "      <td>0.0</td>\n",
              "      <td>1.0</td>\n",
              "      <td>0.0</td>\n",
              "      <td>0.0</td>\n",
              "      <td>0.0</td>\n",
              "      <td>0.0</td>\n",
              "      <td>1.0</td>\n",
              "      <td>1.0</td>\n",
              "      <td>0.169922</td>\n",
              "      <td>0.0</td>\n",
              "      <td>0.0</td>\n",
              "      <td>0.125658</td>\n",
              "      <td>0.431174</td>\n",
              "      <td>0.0</td>\n",
              "    </tr>\n",
              "    <tr>\n",
              "      <th>...</th>\n",
              "      <td>...</td>\n",
              "      <td>...</td>\n",
              "      <td>...</td>\n",
              "      <td>...</td>\n",
              "      <td>...</td>\n",
              "      <td>...</td>\n",
              "      <td>...</td>\n",
              "      <td>...</td>\n",
              "      <td>...</td>\n",
              "      <td>...</td>\n",
              "      <td>...</td>\n",
              "      <td>...</td>\n",
              "      <td>...</td>\n",
              "      <td>...</td>\n",
              "      <td>...</td>\n",
              "      <td>...</td>\n",
              "      <td>...</td>\n",
              "      <td>...</td>\n",
              "    </tr>\n",
              "    <tr>\n",
              "      <th>4069</th>\n",
              "      <td>0.0</td>\n",
              "      <td>0.0</td>\n",
              "      <td>1.0</td>\n",
              "      <td>0.0</td>\n",
              "      <td>0.0</td>\n",
              "      <td>0.0</td>\n",
              "      <td>1.0</td>\n",
              "      <td>0.0</td>\n",
              "      <td>0.0</td>\n",
              "      <td>1.0</td>\n",
              "      <td>1.0</td>\n",
              "      <td>0.0</td>\n",
              "      <td>0.548340</td>\n",
              "      <td>0.0</td>\n",
              "      <td>0.0</td>\n",
              "      <td>0.174222</td>\n",
              "      <td>0.502024</td>\n",
              "      <td>0.0</td>\n",
              "    </tr>\n",
              "    <tr>\n",
              "      <th>4070</th>\n",
              "      <td>0.0</td>\n",
              "      <td>0.0</td>\n",
              "      <td>0.0</td>\n",
              "      <td>0.0</td>\n",
              "      <td>1.0</td>\n",
              "      <td>1.0</td>\n",
              "      <td>0.0</td>\n",
              "      <td>0.0</td>\n",
              "      <td>0.0</td>\n",
              "      <td>0.0</td>\n",
              "      <td>0.0</td>\n",
              "      <td>0.0</td>\n",
              "      <td>0.194336</td>\n",
              "      <td>0.0</td>\n",
              "      <td>0.0</td>\n",
              "      <td>0.269366</td>\n",
              "      <td>0.186235</td>\n",
              "      <td>0.0</td>\n",
              "    </tr>\n",
              "    <tr>\n",
              "      <th>4071</th>\n",
              "      <td>0.0</td>\n",
              "      <td>0.0</td>\n",
              "      <td>1.0</td>\n",
              "      <td>0.0</td>\n",
              "      <td>0.0</td>\n",
              "      <td>0.0</td>\n",
              "      <td>1.0</td>\n",
              "      <td>0.0</td>\n",
              "      <td>0.0</td>\n",
              "      <td>1.0</td>\n",
              "      <td>0.0</td>\n",
              "      <td>0.0</td>\n",
              "      <td>0.743652</td>\n",
              "      <td>0.0</td>\n",
              "      <td>0.0</td>\n",
              "      <td>0.108623</td>\n",
              "      <td>0.524291</td>\n",
              "      <td>0.0</td>\n",
              "    </tr>\n",
              "    <tr>\n",
              "      <th>4072</th>\n",
              "      <td>0.0</td>\n",
              "      <td>0.0</td>\n",
              "      <td>1.0</td>\n",
              "      <td>0.0</td>\n",
              "      <td>0.0</td>\n",
              "      <td>1.0</td>\n",
              "      <td>0.0</td>\n",
              "      <td>0.0</td>\n",
              "      <td>0.0</td>\n",
              "      <td>1.0</td>\n",
              "      <td>1.0</td>\n",
              "      <td>1.0</td>\n",
              "      <td>0.377441</td>\n",
              "      <td>0.0</td>\n",
              "      <td>0.0</td>\n",
              "      <td>0.087388</td>\n",
              "      <td>0.317814</td>\n",
              "      <td>0.0</td>\n",
              "    </tr>\n",
              "    <tr>\n",
              "      <th>4073</th>\n",
              "      <td>0.0</td>\n",
              "      <td>0.0</td>\n",
              "      <td>0.0</td>\n",
              "      <td>0.0</td>\n",
              "      <td>1.0</td>\n",
              "      <td>0.0</td>\n",
              "      <td>0.0</td>\n",
              "      <td>1.0</td>\n",
              "      <td>0.0</td>\n",
              "      <td>0.0</td>\n",
              "      <td>1.0</td>\n",
              "      <td>0.0</td>\n",
              "      <td>0.072266</td>\n",
              "      <td>0.0</td>\n",
              "      <td>0.0</td>\n",
              "      <td>0.165866</td>\n",
              "      <td>0.238866</td>\n",
              "      <td>0.0</td>\n",
              "    </tr>\n",
              "  </tbody>\n",
              "</table>\n",
              "<p>4074 rows × 18 columns</p>\n",
              "</div>\n",
              "      <button class=\"colab-df-convert\" onclick=\"convertToInteractive('df-cb4adec1-3cfa-4bc2-9e32-4405d2b6751f')\"\n",
              "              title=\"Convert this dataframe to an interactive table.\"\n",
              "              style=\"display:none;\">\n",
              "        \n",
              "  <svg xmlns=\"http://www.w3.org/2000/svg\" height=\"24px\"viewBox=\"0 0 24 24\"\n",
              "       width=\"24px\">\n",
              "    <path d=\"M0 0h24v24H0V0z\" fill=\"none\"/>\n",
              "    <path d=\"M18.56 5.44l.94 2.06.94-2.06 2.06-.94-2.06-.94-.94-2.06-.94 2.06-2.06.94zm-11 1L8.5 8.5l.94-2.06 2.06-.94-2.06-.94L8.5 2.5l-.94 2.06-2.06.94zm10 10l.94 2.06.94-2.06 2.06-.94-2.06-.94-.94-2.06-.94 2.06-2.06.94z\"/><path d=\"M17.41 7.96l-1.37-1.37c-.4-.4-.92-.59-1.43-.59-.52 0-1.04.2-1.43.59L10.3 9.45l-7.72 7.72c-.78.78-.78 2.05 0 2.83L4 21.41c.39.39.9.59 1.41.59.51 0 1.02-.2 1.41-.59l7.78-7.78 2.81-2.81c.8-.78.8-2.07 0-2.86zM5.41 20L4 18.59l7.72-7.72 1.47 1.35L5.41 20z\"/>\n",
              "  </svg>\n",
              "      </button>\n",
              "      \n",
              "  <style>\n",
              "    .colab-df-container {\n",
              "      display:flex;\n",
              "      flex-wrap:wrap;\n",
              "      gap: 12px;\n",
              "    }\n",
              "\n",
              "    .colab-df-convert {\n",
              "      background-color: #E8F0FE;\n",
              "      border: none;\n",
              "      border-radius: 50%;\n",
              "      cursor: pointer;\n",
              "      display: none;\n",
              "      fill: #1967D2;\n",
              "      height: 32px;\n",
              "      padding: 0 0 0 0;\n",
              "      width: 32px;\n",
              "    }\n",
              "\n",
              "    .colab-df-convert:hover {\n",
              "      background-color: #E2EBFA;\n",
              "      box-shadow: 0px 1px 2px rgba(60, 64, 67, 0.3), 0px 1px 3px 1px rgba(60, 64, 67, 0.15);\n",
              "      fill: #174EA6;\n",
              "    }\n",
              "\n",
              "    [theme=dark] .colab-df-convert {\n",
              "      background-color: #3B4455;\n",
              "      fill: #D2E3FC;\n",
              "    }\n",
              "\n",
              "    [theme=dark] .colab-df-convert:hover {\n",
              "      background-color: #434B5C;\n",
              "      box-shadow: 0px 1px 3px 1px rgba(0, 0, 0, 0.15);\n",
              "      filter: drop-shadow(0px 1px 2px rgba(0, 0, 0, 0.3));\n",
              "      fill: #FFFFFF;\n",
              "    }\n",
              "  </style>\n",
              "\n",
              "      <script>\n",
              "        const buttonEl =\n",
              "          document.querySelector('#df-cb4adec1-3cfa-4bc2-9e32-4405d2b6751f button.colab-df-convert');\n",
              "        buttonEl.style.display =\n",
              "          google.colab.kernel.accessAllowed ? 'block' : 'none';\n",
              "\n",
              "        async function convertToInteractive(key) {\n",
              "          const element = document.querySelector('#df-cb4adec1-3cfa-4bc2-9e32-4405d2b6751f');\n",
              "          const dataTable =\n",
              "            await google.colab.kernel.invokeFunction('convertToInteractive',\n",
              "                                                     [key], {});\n",
              "          if (!dataTable) return;\n",
              "\n",
              "          const docLinkHtml = 'Like what you see? Visit the ' +\n",
              "            '<a target=\"_blank\" href=https://colab.research.google.com/notebooks/data_table.ipynb>data table notebook</a>'\n",
              "            + ' to learn more about interactive tables.';\n",
              "          element.innerHTML = '';\n",
              "          dataTable['output_type'] = 'display_data';\n",
              "          await google.colab.output.renderOutput(dataTable, element);\n",
              "          const docLink = document.createElement('div');\n",
              "          docLink.innerHTML = docLinkHtml;\n",
              "          element.appendChild(docLink);\n",
              "        }\n",
              "      </script>\n",
              "    </div>\n",
              "  </div>\n",
              "  "
            ]
          },
          "metadata": {},
          "execution_count": 27
        }
      ]
    },
    {
      "cell_type": "code",
      "source": [
        "processed_test_stroke_df = pd.DataFrame(preprocesser_pipeline.fit_transform(stroke_test_df))\n",
        "processed_test_stroke_df"
      ],
      "metadata": {
        "id": "HQvBgguHtpUv",
        "colab": {
          "base_uri": "https://localhost:8080/",
          "height": 505
        },
        "outputId": "45e96413-ab1b-4b40-cab7-660d6fad5144"
      },
      "execution_count": null,
      "outputs": [
        {
          "output_type": "execute_result",
          "data": {
            "text/plain": [
              "      work_type_Govt_job  work_type_Never_worked  work_type_Private  \\\n",
              "0                    0.0                     0.0                1.0   \n",
              "1                    0.0                     0.0                1.0   \n",
              "2                    0.0                     0.0                1.0   \n",
              "3                    0.0                     0.0                1.0   \n",
              "4                    0.0                     0.0                1.0   \n",
              "...                  ...                     ...                ...   \n",
              "1017                 0.0                     0.0                0.0   \n",
              "1018                 1.0                     0.0                0.0   \n",
              "1019                 1.0                     0.0                0.0   \n",
              "1020                 0.0                     0.0                0.0   \n",
              "1021                 0.0                     0.0                1.0   \n",
              "\n",
              "      work_type_Self-employed  work_type_children  smoking_status_Unknown  \\\n",
              "0                         0.0                 0.0                     0.0   \n",
              "1                         0.0                 0.0                     0.0   \n",
              "2                         0.0                 0.0                     0.0   \n",
              "3                         0.0                 0.0                     0.0   \n",
              "4                         0.0                 0.0                     0.0   \n",
              "...                       ...                 ...                     ...   \n",
              "1017                      1.0                 0.0                     0.0   \n",
              "1018                      0.0                 0.0                     0.0   \n",
              "1019                      0.0                 0.0                     0.0   \n",
              "1020                      0.0                 1.0                     0.0   \n",
              "1021                      0.0                 0.0                     0.0   \n",
              "\n",
              "      smoking_status_formerly smoked  smoking_status_never smoked  \\\n",
              "0                                0.0                          1.0   \n",
              "1                                0.0                          1.0   \n",
              "2                                0.0                          0.0   \n",
              "3                                0.0                          1.0   \n",
              "4                                1.0                          0.0   \n",
              "...                              ...                          ...   \n",
              "1017                             0.0                          1.0   \n",
              "1018                             0.0                          1.0   \n",
              "1019                             0.0                          1.0   \n",
              "1020                             0.0                          1.0   \n",
              "1021                             1.0                          0.0   \n",
              "\n",
              "      smoking_status_smokes  ever_married  residence_type  gender       age  \\\n",
              "0                       0.0           1.0             0.0     1.0  0.768066   \n",
              "1                       0.0           1.0             1.0     0.0  0.523926   \n",
              "2                       1.0           0.0             1.0     0.0  0.279785   \n",
              "3                       0.0           0.0             1.0     0.0  0.255371   \n",
              "4                       0.0           1.0             0.0     1.0  0.816895   \n",
              "...                     ...           ...             ...     ...       ...   \n",
              "1017                    0.0           0.0             1.0     0.0  1.000000   \n",
              "1018                    0.0           0.0             0.0     0.0  0.414062   \n",
              "1019                    0.0           1.0             1.0     0.0  0.609375   \n",
              "1020                    0.0           0.0             0.0     1.0  0.182129   \n",
              "1021                    0.0           1.0             0.0     0.0  0.621582   \n",
              "\n",
              "      hypertension  heart_disease  avg_glucose_level       bmi  stroke  \n",
              "0              0.0            0.0           0.108170  0.491266     0.0  \n",
              "1              0.0            0.0           0.147916  0.458515     0.0  \n",
              "2              0.0            0.0           0.336284  0.358079     0.0  \n",
              "3              0.0            0.0           0.720085  0.275109     0.0  \n",
              "4              0.0            0.0           0.273511  0.305677     0.0  \n",
              "...            ...            ...                ...       ...     ...  \n",
              "1017           0.0            0.0           0.126913  0.299127     0.0  \n",
              "1018           0.0            0.0           0.305157  0.451965     0.0  \n",
              "1019           0.0            0.0           0.173723  0.185590     0.0  \n",
              "1020           0.0            0.0           0.034424  0.436681     0.0  \n",
              "1021           0.0            0.0           0.132046  0.473799     0.0  \n",
              "\n",
              "[1022 rows x 18 columns]"
            ],
            "text/html": [
              "\n",
              "  <div id=\"df-8b517a84-5eda-4aa6-98be-333adc23466b\">\n",
              "    <div class=\"colab-df-container\">\n",
              "      <div>\n",
              "<style scoped>\n",
              "    .dataframe tbody tr th:only-of-type {\n",
              "        vertical-align: middle;\n",
              "    }\n",
              "\n",
              "    .dataframe tbody tr th {\n",
              "        vertical-align: top;\n",
              "    }\n",
              "\n",
              "    .dataframe thead th {\n",
              "        text-align: right;\n",
              "    }\n",
              "</style>\n",
              "<table border=\"1\" class=\"dataframe\">\n",
              "  <thead>\n",
              "    <tr style=\"text-align: right;\">\n",
              "      <th></th>\n",
              "      <th>work_type_Govt_job</th>\n",
              "      <th>work_type_Never_worked</th>\n",
              "      <th>work_type_Private</th>\n",
              "      <th>work_type_Self-employed</th>\n",
              "      <th>work_type_children</th>\n",
              "      <th>smoking_status_Unknown</th>\n",
              "      <th>smoking_status_formerly smoked</th>\n",
              "      <th>smoking_status_never smoked</th>\n",
              "      <th>smoking_status_smokes</th>\n",
              "      <th>ever_married</th>\n",
              "      <th>residence_type</th>\n",
              "      <th>gender</th>\n",
              "      <th>age</th>\n",
              "      <th>hypertension</th>\n",
              "      <th>heart_disease</th>\n",
              "      <th>avg_glucose_level</th>\n",
              "      <th>bmi</th>\n",
              "      <th>stroke</th>\n",
              "    </tr>\n",
              "  </thead>\n",
              "  <tbody>\n",
              "    <tr>\n",
              "      <th>0</th>\n",
              "      <td>0.0</td>\n",
              "      <td>0.0</td>\n",
              "      <td>1.0</td>\n",
              "      <td>0.0</td>\n",
              "      <td>0.0</td>\n",
              "      <td>0.0</td>\n",
              "      <td>0.0</td>\n",
              "      <td>1.0</td>\n",
              "      <td>0.0</td>\n",
              "      <td>1.0</td>\n",
              "      <td>0.0</td>\n",
              "      <td>1.0</td>\n",
              "      <td>0.768066</td>\n",
              "      <td>0.0</td>\n",
              "      <td>0.0</td>\n",
              "      <td>0.108170</td>\n",
              "      <td>0.491266</td>\n",
              "      <td>0.0</td>\n",
              "    </tr>\n",
              "    <tr>\n",
              "      <th>1</th>\n",
              "      <td>0.0</td>\n",
              "      <td>0.0</td>\n",
              "      <td>1.0</td>\n",
              "      <td>0.0</td>\n",
              "      <td>0.0</td>\n",
              "      <td>0.0</td>\n",
              "      <td>0.0</td>\n",
              "      <td>1.0</td>\n",
              "      <td>0.0</td>\n",
              "      <td>1.0</td>\n",
              "      <td>1.0</td>\n",
              "      <td>0.0</td>\n",
              "      <td>0.523926</td>\n",
              "      <td>0.0</td>\n",
              "      <td>0.0</td>\n",
              "      <td>0.147916</td>\n",
              "      <td>0.458515</td>\n",
              "      <td>0.0</td>\n",
              "    </tr>\n",
              "    <tr>\n",
              "      <th>2</th>\n",
              "      <td>0.0</td>\n",
              "      <td>0.0</td>\n",
              "      <td>1.0</td>\n",
              "      <td>0.0</td>\n",
              "      <td>0.0</td>\n",
              "      <td>0.0</td>\n",
              "      <td>0.0</td>\n",
              "      <td>0.0</td>\n",
              "      <td>1.0</td>\n",
              "      <td>0.0</td>\n",
              "      <td>1.0</td>\n",
              "      <td>0.0</td>\n",
              "      <td>0.279785</td>\n",
              "      <td>0.0</td>\n",
              "      <td>0.0</td>\n",
              "      <td>0.336284</td>\n",
              "      <td>0.358079</td>\n",
              "      <td>0.0</td>\n",
              "    </tr>\n",
              "    <tr>\n",
              "      <th>3</th>\n",
              "      <td>0.0</td>\n",
              "      <td>0.0</td>\n",
              "      <td>1.0</td>\n",
              "      <td>0.0</td>\n",
              "      <td>0.0</td>\n",
              "      <td>0.0</td>\n",
              "      <td>0.0</td>\n",
              "      <td>1.0</td>\n",
              "      <td>0.0</td>\n",
              "      <td>0.0</td>\n",
              "      <td>1.0</td>\n",
              "      <td>0.0</td>\n",
              "      <td>0.255371</td>\n",
              "      <td>0.0</td>\n",
              "      <td>0.0</td>\n",
              "      <td>0.720085</td>\n",
              "      <td>0.275109</td>\n",
              "      <td>0.0</td>\n",
              "    </tr>\n",
              "    <tr>\n",
              "      <th>4</th>\n",
              "      <td>0.0</td>\n",
              "      <td>0.0</td>\n",
              "      <td>1.0</td>\n",
              "      <td>0.0</td>\n",
              "      <td>0.0</td>\n",
              "      <td>0.0</td>\n",
              "      <td>1.0</td>\n",
              "      <td>0.0</td>\n",
              "      <td>0.0</td>\n",
              "      <td>1.0</td>\n",
              "      <td>0.0</td>\n",
              "      <td>1.0</td>\n",
              "      <td>0.816895</td>\n",
              "      <td>0.0</td>\n",
              "      <td>0.0</td>\n",
              "      <td>0.273511</td>\n",
              "      <td>0.305677</td>\n",
              "      <td>0.0</td>\n",
              "    </tr>\n",
              "    <tr>\n",
              "      <th>...</th>\n",
              "      <td>...</td>\n",
              "      <td>...</td>\n",
              "      <td>...</td>\n",
              "      <td>...</td>\n",
              "      <td>...</td>\n",
              "      <td>...</td>\n",
              "      <td>...</td>\n",
              "      <td>...</td>\n",
              "      <td>...</td>\n",
              "      <td>...</td>\n",
              "      <td>...</td>\n",
              "      <td>...</td>\n",
              "      <td>...</td>\n",
              "      <td>...</td>\n",
              "      <td>...</td>\n",
              "      <td>...</td>\n",
              "      <td>...</td>\n",
              "      <td>...</td>\n",
              "    </tr>\n",
              "    <tr>\n",
              "      <th>1017</th>\n",
              "      <td>0.0</td>\n",
              "      <td>0.0</td>\n",
              "      <td>0.0</td>\n",
              "      <td>1.0</td>\n",
              "      <td>0.0</td>\n",
              "      <td>0.0</td>\n",
              "      <td>0.0</td>\n",
              "      <td>1.0</td>\n",
              "      <td>0.0</td>\n",
              "      <td>0.0</td>\n",
              "      <td>1.0</td>\n",
              "      <td>0.0</td>\n",
              "      <td>1.000000</td>\n",
              "      <td>0.0</td>\n",
              "      <td>0.0</td>\n",
              "      <td>0.126913</td>\n",
              "      <td>0.299127</td>\n",
              "      <td>0.0</td>\n",
              "    </tr>\n",
              "    <tr>\n",
              "      <th>1018</th>\n",
              "      <td>1.0</td>\n",
              "      <td>0.0</td>\n",
              "      <td>0.0</td>\n",
              "      <td>0.0</td>\n",
              "      <td>0.0</td>\n",
              "      <td>0.0</td>\n",
              "      <td>0.0</td>\n",
              "      <td>1.0</td>\n",
              "      <td>0.0</td>\n",
              "      <td>0.0</td>\n",
              "      <td>0.0</td>\n",
              "      <td>0.0</td>\n",
              "      <td>0.414062</td>\n",
              "      <td>0.0</td>\n",
              "      <td>0.0</td>\n",
              "      <td>0.305157</td>\n",
              "      <td>0.451965</td>\n",
              "      <td>0.0</td>\n",
              "    </tr>\n",
              "    <tr>\n",
              "      <th>1019</th>\n",
              "      <td>1.0</td>\n",
              "      <td>0.0</td>\n",
              "      <td>0.0</td>\n",
              "      <td>0.0</td>\n",
              "      <td>0.0</td>\n",
              "      <td>0.0</td>\n",
              "      <td>0.0</td>\n",
              "      <td>1.0</td>\n",
              "      <td>0.0</td>\n",
              "      <td>1.0</td>\n",
              "      <td>1.0</td>\n",
              "      <td>0.0</td>\n",
              "      <td>0.609375</td>\n",
              "      <td>0.0</td>\n",
              "      <td>0.0</td>\n",
              "      <td>0.173723</td>\n",
              "      <td>0.185590</td>\n",
              "      <td>0.0</td>\n",
              "    </tr>\n",
              "    <tr>\n",
              "      <th>1020</th>\n",
              "      <td>0.0</td>\n",
              "      <td>0.0</td>\n",
              "      <td>0.0</td>\n",
              "      <td>0.0</td>\n",
              "      <td>1.0</td>\n",
              "      <td>0.0</td>\n",
              "      <td>0.0</td>\n",
              "      <td>1.0</td>\n",
              "      <td>0.0</td>\n",
              "      <td>0.0</td>\n",
              "      <td>0.0</td>\n",
              "      <td>1.0</td>\n",
              "      <td>0.182129</td>\n",
              "      <td>0.0</td>\n",
              "      <td>0.0</td>\n",
              "      <td>0.034424</td>\n",
              "      <td>0.436681</td>\n",
              "      <td>0.0</td>\n",
              "    </tr>\n",
              "    <tr>\n",
              "      <th>1021</th>\n",
              "      <td>0.0</td>\n",
              "      <td>0.0</td>\n",
              "      <td>1.0</td>\n",
              "      <td>0.0</td>\n",
              "      <td>0.0</td>\n",
              "      <td>0.0</td>\n",
              "      <td>1.0</td>\n",
              "      <td>0.0</td>\n",
              "      <td>0.0</td>\n",
              "      <td>1.0</td>\n",
              "      <td>0.0</td>\n",
              "      <td>0.0</td>\n",
              "      <td>0.621582</td>\n",
              "      <td>0.0</td>\n",
              "      <td>0.0</td>\n",
              "      <td>0.132046</td>\n",
              "      <td>0.473799</td>\n",
              "      <td>0.0</td>\n",
              "    </tr>\n",
              "  </tbody>\n",
              "</table>\n",
              "<p>1022 rows × 18 columns</p>\n",
              "</div>\n",
              "      <button class=\"colab-df-convert\" onclick=\"convertToInteractive('df-8b517a84-5eda-4aa6-98be-333adc23466b')\"\n",
              "              title=\"Convert this dataframe to an interactive table.\"\n",
              "              style=\"display:none;\">\n",
              "        \n",
              "  <svg xmlns=\"http://www.w3.org/2000/svg\" height=\"24px\"viewBox=\"0 0 24 24\"\n",
              "       width=\"24px\">\n",
              "    <path d=\"M0 0h24v24H0V0z\" fill=\"none\"/>\n",
              "    <path d=\"M18.56 5.44l.94 2.06.94-2.06 2.06-.94-2.06-.94-.94-2.06-.94 2.06-2.06.94zm-11 1L8.5 8.5l.94-2.06 2.06-.94-2.06-.94L8.5 2.5l-.94 2.06-2.06.94zm10 10l.94 2.06.94-2.06 2.06-.94-2.06-.94-.94-2.06-.94 2.06-2.06.94z\"/><path d=\"M17.41 7.96l-1.37-1.37c-.4-.4-.92-.59-1.43-.59-.52 0-1.04.2-1.43.59L10.3 9.45l-7.72 7.72c-.78.78-.78 2.05 0 2.83L4 21.41c.39.39.9.59 1.41.59.51 0 1.02-.2 1.41-.59l7.78-7.78 2.81-2.81c.8-.78.8-2.07 0-2.86zM5.41 20L4 18.59l7.72-7.72 1.47 1.35L5.41 20z\"/>\n",
              "  </svg>\n",
              "      </button>\n",
              "      \n",
              "  <style>\n",
              "    .colab-df-container {\n",
              "      display:flex;\n",
              "      flex-wrap:wrap;\n",
              "      gap: 12px;\n",
              "    }\n",
              "\n",
              "    .colab-df-convert {\n",
              "      background-color: #E8F0FE;\n",
              "      border: none;\n",
              "      border-radius: 50%;\n",
              "      cursor: pointer;\n",
              "      display: none;\n",
              "      fill: #1967D2;\n",
              "      height: 32px;\n",
              "      padding: 0 0 0 0;\n",
              "      width: 32px;\n",
              "    }\n",
              "\n",
              "    .colab-df-convert:hover {\n",
              "      background-color: #E2EBFA;\n",
              "      box-shadow: 0px 1px 2px rgba(60, 64, 67, 0.3), 0px 1px 3px 1px rgba(60, 64, 67, 0.15);\n",
              "      fill: #174EA6;\n",
              "    }\n",
              "\n",
              "    [theme=dark] .colab-df-convert {\n",
              "      background-color: #3B4455;\n",
              "      fill: #D2E3FC;\n",
              "    }\n",
              "\n",
              "    [theme=dark] .colab-df-convert:hover {\n",
              "      background-color: #434B5C;\n",
              "      box-shadow: 0px 1px 3px 1px rgba(0, 0, 0, 0.15);\n",
              "      filter: drop-shadow(0px 1px 2px rgba(0, 0, 0, 0.3));\n",
              "      fill: #FFFFFF;\n",
              "    }\n",
              "  </style>\n",
              "\n",
              "      <script>\n",
              "        const buttonEl =\n",
              "          document.querySelector('#df-8b517a84-5eda-4aa6-98be-333adc23466b button.colab-df-convert');\n",
              "        buttonEl.style.display =\n",
              "          google.colab.kernel.accessAllowed ? 'block' : 'none';\n",
              "\n",
              "        async function convertToInteractive(key) {\n",
              "          const element = document.querySelector('#df-8b517a84-5eda-4aa6-98be-333adc23466b');\n",
              "          const dataTable =\n",
              "            await google.colab.kernel.invokeFunction('convertToInteractive',\n",
              "                                                     [key], {});\n",
              "          if (!dataTable) return;\n",
              "\n",
              "          const docLinkHtml = 'Like what you see? Visit the ' +\n",
              "            '<a target=\"_blank\" href=https://colab.research.google.com/notebooks/data_table.ipynb>data table notebook</a>'\n",
              "            + ' to learn more about interactive tables.';\n",
              "          element.innerHTML = '';\n",
              "          dataTable['output_type'] = 'display_data';\n",
              "          await google.colab.output.renderOutput(dataTable, element);\n",
              "          const docLink = document.createElement('div');\n",
              "          docLink.innerHTML = docLinkHtml;\n",
              "          element.appendChild(docLink);\n",
              "        }\n",
              "      </script>\n",
              "    </div>\n",
              "  </div>\n",
              "  "
            ]
          },
          "metadata": {},
          "execution_count": 28
        }
      ]
    },
    {
      "cell_type": "markdown",
      "source": [
        "## Building a Predictive Model"
      ],
      "metadata": {
        "id": "Bf_FSVBATyRu"
      }
    },
    {
      "cell_type": "markdown",
      "source": [
        "### Expectations from the Model"
      ],
      "metadata": {
        "id": "yBzCNFf8T3Lj"
      }
    },
    {
      "cell_type": "markdown",
      "source": [
        "Since the model that we build acts as a binary classifier, it it only natural that we rely on the confusion matrix to evaluate our model. \n",
        "\n",
        "However, we should decide which confusion-matrix-related metrics is most important for us: **do we care more about precision, i.e. making sure that all people said to have had a stroke by the model indeed had a stroke, or recall, i.e. maximizing the probability that a person who had a stroke is detected by the model as such?** Or maybe should we take both into account, in form of a more complex metrics? It is likely that at some point we'll need to make a compromise, due to the precision-recall tradeoff concept.\n",
        "\n",
        "In the context of medical analysis, the first intuition may be that the recall should have a higher weight in deciding which model fits best. In general, when it comes to detecting such mortal diseases, **the cost of not detecting someone's tendency to get the disease is likely death**. We generally consider the death of a human being to be a far higher cost compared to the financial costs related to unnecessary medical analysis and preventive treatment. \n",
        "\n",
        "There's one mistake in the above train of thought though: note that the goal of our analysis is not that of deciding whether someone needs treatment, surgery, medicines or any other measue to avoid a stroke when they are already close to getting it, rather that of getting an insight into lifestyle choices that may influence one's tendency to get a stroke. In this context, we want to give the readers a picture as accurate as possible. \n",
        "\n",
        "\n",
        "*   *if we focused on precision only*, probably some factors leading to a stroke may be underestimated, causing the readers taking lifestyle choices based on our analysis to be overconfident in the healthiness of their lifestyle\n",
        "*   *if we considered recall only*, the opposite may happen, some factors leading to stroke are likely to be overestimated, causing the people to take otherwise painful decisions in order to avoid a stroke (such as changing a job, restricting themselves a healthier, but less enjoyable diet, ...)\n",
        "\n",
        "**Thus, we should use a metric that combines recall and precision. Such a metric is the F2-score, the harmonic mean of recall and precision.**\n",
        "\n",
        "Additionally, it may help us to compare models or to find the best hyperparameters for each model to take a look at the **Precision/Recall-curve**. \n",
        "\n",
        "We may take into account the ROC curve as well, but it was shown that it is not a good indicator in case the input dataset is highly unbalanced. As we only have 5% of the entries with a positive 'stroke' label, we should stick to the Precision/Recall-curve instead."
      ],
      "metadata": {
        "id": "qdcPF4rgT66V"
      }
    },
    {
      "cell_type": "code",
      "source": [
        ""
      ],
      "metadata": {
        "id": "11cQ2bBtT2bd"
      },
      "execution_count": null,
      "outputs": []
    }
  ]
}